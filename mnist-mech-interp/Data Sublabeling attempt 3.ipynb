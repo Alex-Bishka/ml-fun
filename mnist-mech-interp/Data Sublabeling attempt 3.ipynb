{
 "cells": [
  {
   "cell_type": "markdown",
   "id": "3f1a9d52-b18f-45fe-bdd3-bfe00363c8cd",
   "metadata": {},
   "source": [
    "# Sub Labeling Data\n",
    "\n",
    "Instead of getting average average the numbers, then getting their subfeatures, let's just get the subfeature for each number."
   ]
  },
  {
   "cell_type": "markdown",
   "id": "1bb983cb-7930-4236-88c2-4593339040b5",
   "metadata": {},
   "source": [
    "## Imports"
   ]
  },
  {
   "cell_type": "code",
   "execution_count": null,
   "id": "78a6a67d-91d0-4f15-a5d9-498b77dbb607",
   "metadata": {},
   "outputs": [],
   "source": [
    "import random\n",
    "\n",
    "import numpy as np\n",
    "from sklearn.model_selection import train_test_split\n",
    "import matplotlib.pyplot as plt\n",
    "\n",
    "import torch\n",
    "import torch.nn as nn\n",
    "from torch.utils.data import Dataset, DataLoader\n",
    "\n",
    "from tqdm import tqdm\n",
    "\n",
    "from helpers import load_images, load_labels, visualize_image, get_edges, generate_intermediate_edge_labels, horizontal_kernel, vertical_kernel, \\\n",
    "    load_intermediate_labels, generate_intermediate_curve_labels, save_intermediate_labels"
   ]
  },
  {
   "cell_type": "markdown",
   "id": "191b6168-e364-4248-a6d4-3355286ada7d",
   "metadata": {},
   "source": [
    "## Set Device to GPU"
   ]
  },
  {
   "cell_type": "code",
   "execution_count": null,
   "id": "14c7361f-d520-4e5c-8a13-fb1ef92fb592",
   "metadata": {},
   "outputs": [],
   "source": [
    "device = torch.device('cuda' if torch.cuda.is_available() else 'cpu')\n",
    "print(f\"We will be using device: {device}\")"
   ]
  },
  {
   "cell_type": "markdown",
   "id": "b3a5dc49-2a7c-47ba-92fb-8e1d107b04dc",
   "metadata": {},
   "source": [
    "## Load Data"
   ]
  },
  {
   "cell_type": "code",
   "execution_count": null,
   "id": "c2dfe061-7b24-4543-9d4b-01262ac9eed2",
   "metadata": {},
   "outputs": [],
   "source": [
    "# train data\n",
    "train_images = load_images(\"./data/train-images-idx3-ubyte/train-images-idx3-ubyte\")\n",
    "train_labels = load_labels(\"./data/train-labels-idx1-ubyte/train-labels-idx1-ubyte\")\n",
    "\n",
    "train_images, val_images, train_labels, val_labels = train_test_split(\n",
    "    train_images, train_labels,\n",
    "    test_size=1/6,  # 10k validation\n",
    "    stratify=train_labels,\n",
    "    random_state=42  # for reproducibility\n",
    ")\n",
    "\n",
    "# test data\n",
    "test_images = load_images(\"./data/t10k-images-idx3-ubyte/t10k-images-idx3-ubyte\")\n",
    "test_labels = load_labels(\"./data/t10k-labels-idx1-ubyte/t10k-labels-idx1-ubyte\")"
   ]
  },
  {
   "cell_type": "markdown",
   "id": "860a55fb-c67b-4ee7-b2f5-5523acdc3432",
   "metadata": {},
   "source": [
    "### Intermediate Data Labels"
   ]
  },
  {
   "cell_type": "code",
   "execution_count": null,
   "id": "b7b23aa7-cc89-4410-ada3-757c8f491e05",
   "metadata": {},
   "outputs": [],
   "source": [
    "train_horizontal_image_labels = load_intermediate_labels(\"train_horizontal_image_labels.pkl\")\n",
    "val_horizontal_image_labels = load_intermediate_labels(\"val_horizontal_image_labels.pkl\")\n",
    "test_horizontal_image_labels = load_intermediate_labels(\"test_horizontal_image_labels.pkl\")"
   ]
  },
  {
   "cell_type": "code",
   "execution_count": null,
   "id": "7a4f1659-5217-410e-ab3a-401d6c41ef4c",
   "metadata": {},
   "outputs": [],
   "source": [
    "train_vertical_image_labels = load_intermediate_labels(\"train_vertical_image_labels.pkl\")\n",
    "val_vertical_image_labels = load_intermediate_labels(\"val_vertical_image_labels.pkl\")\n",
    "test_vertical_image_labels = load_intermediate_labels(\"test_vertical_image_labels.pkl\")"
   ]
  },
  {
   "cell_type": "markdown",
   "id": "eef986e2-4918-43c4-9184-bc5e1cb9e0f7",
   "metadata": {},
   "source": [
    "## Generating Additional Sub Labels"
   ]
  },
  {
   "cell_type": "code",
   "execution_count": null,
   "id": "3ba0d642-8df9-4668-adf7-6950240d483f",
   "metadata": {},
   "outputs": [],
   "source": [
    "ex_7 = train_images[0]"
   ]
  },
  {
   "cell_type": "code",
   "execution_count": null,
   "id": "18a533f6-894c-4a95-a7d3-5ed8f9631d58",
   "metadata": {},
   "outputs": [],
   "source": [
    "visualize_image(ex_7, \"\")"
   ]
  },
  {
   "cell_type": "code",
   "execution_count": null,
   "id": "21a3a58b-55f0-4be9-9af0-0323d7ffe6dd",
   "metadata": {},
   "outputs": [],
   "source": [
    "def visualize_chunks_in_position(image, chunk_size, min_intensity_threshold=0.1):\n",
    "    \"\"\"\n",
    "    Extract chunks and visualize each against a black background in its original position.\n",
    "    Only includes chunks with sufficient brightness.\n",
    "    \n",
    "    Parameters:\n",
    "    - image: 2D numpy array (28x28 for MNIST)\n",
    "    - chunk_size: size of each chunk\n",
    "    - min_intensity_threshold: minimum average intensity (0-1) to keep a chunk\n",
    "    \"\"\"\n",
    "    h, w = image.shape\n",
    "    n_chunks_h = h // chunk_size\n",
    "    n_chunks_w = w // chunk_size\n",
    "    \n",
    "    # Calculate number of chunks to show (potentially fewer after filtering)\n",
    "    # We'll create a grid layout with a bit of extra space\n",
    "    fig, axes = plt.subplots(n_chunks_h, n_chunks_w, figsize=(10, 10))\n",
    "    \n",
    "    # Handle the case of a single row or column\n",
    "    if n_chunks_h == 1:\n",
    "        axes = np.array([axes])\n",
    "    if n_chunks_w == 1:\n",
    "        axes = np.array([[ax] for ax in axes])\n",
    "\n",
    "    chunks = []\n",
    "    # Process each chunk position\n",
    "    for i in range(n_chunks_h):\n",
    "        for j in range(n_chunks_w):\n",
    "            start_h = i * chunk_size\n",
    "            start_w = j * chunk_size\n",
    "            \n",
    "            # Extract the chunk\n",
    "            chunk = image[start_h:start_h+chunk_size, start_w:start_w+chunk_size]\n",
    "            \n",
    "            # Calculate average intensity (assuming values are 0-255)\n",
    "            avg_intensity = np.mean(chunk) / 255.0\n",
    "            \n",
    "            # Create a blank image\n",
    "            chunk_in_position = np.zeros_like(image)\n",
    "            \n",
    "            # Only place the chunk if it has enough brightness\n",
    "            if avg_intensity > min_intensity_threshold:\n",
    "                # Place the chunk in its original position\n",
    "                chunk_in_position[start_h:start_h+chunk_size, start_w:start_w+chunk_size] = chunk\n",
    "                axes[i, j].set_title(f\"Avg: {avg_intensity:.2f}\")\n",
    "                chunks.append(chunk_in_position)\n",
    "            \n",
    "                # Display the chunk in its original position against a black background\n",
    "                axes[i, j].imshow(chunk_in_position, cmap='gray')\n",
    "                axes[i, j].axis('off')\n",
    "\n",
    "    plt.tight_layout()\n",
    "    plt.show()\n",
    "\n",
    "    return chunks"
   ]
  },
  {
   "cell_type": "markdown",
   "id": "6082adf1-08ed-46ca-bad0-950658055019",
   "metadata": {},
   "source": [
    "### Notes"
   ]
  },
  {
   "cell_type": "markdown",
   "id": "b8190e39-9918-47ed-95cc-8b62455df510",
   "metadata": {},
   "source": [
    "Some issues with chunking to get import sub features and then build up:\n",
    "- unequal amount of important subfeatures between numbers\n",
    "- how do we handle this for each layer?\n",
    "  - do we need to just have each of the 16 regions above to correspond to a \"feature\"? then condense it to 4 for the next layer?\n",
    " \n",
    "**Idea:** find the n unique subfeatures of digits. Then group these into n/k unique subfeatures, and so on, until we hit our classifier. Each node/(set of) filter(s) should correspond to a unique subfeature. As we go across layers, these subfeatures build upon each other to construct our digit.\n",
    "\n",
    "To find the n unique subfeatures, we use our chunking technique above. After finding chunks for each digit, we also use similarity search s.t. we can combine important features across digits (i.e. subfeatures that form loops in a 0 may also coincide with the subfeatures to form a loop in an 8). \n",
    "\n",
    "The tricky part here is space... do we take that into account when creating these subfeatures? e.g. horizontal line subfeatures might be different at different parts of a digit "
   ]
  },
  {
   "cell_type": "code",
   "execution_count": null,
   "id": "9f294485-aa99-435e-8785-6569d119673f",
   "metadata": {},
   "outputs": [],
   "source": [
    "def get_subfeatures(image, chunk_size, min_intensity_threshold=0.1):\n",
    "    \"\"\"\n",
    "    \"\"\"\n",
    "    h, w = image.shape\n",
    "    n_chunks_h = h // chunk_size\n",
    "    n_chunks_w = w // chunk_size\n",
    "\n",
    "    chunks = []\n",
    "    # Process each chunk position\n",
    "    for i in range(n_chunks_h):\n",
    "        for j in range(n_chunks_w):\n",
    "            start_h = i * chunk_size\n",
    "            start_w = j * chunk_size\n",
    "            \n",
    "            # Extract the chunk\n",
    "            chunk = image[start_h:start_h+chunk_size, start_w:start_w+chunk_size]\n",
    "            \n",
    "            # Calculate average intensity (assuming values are 0-255)\n",
    "            avg_intensity = np.mean(chunk) / 255.0\n",
    "            \n",
    "            # Create a blank image\n",
    "            chunk_in_position = np.zeros_like(image)\n",
    "            \n",
    "            # Only place the chunk if it has enough brightness\n",
    "            if avg_intensity > min_intensity_threshold:\n",
    "                # Place the chunk in its original position\n",
    "                chunk_in_position[start_h:start_h+chunk_size, start_w:start_w+chunk_size] = chunk\n",
    "                chunks.append(chunk_in_position)\n",
    "\n",
    "    return chunks"
   ]
  },
  {
   "cell_type": "markdown",
   "id": "7d5b6e46-4e2f-4b30-ad38-95efec4a5194",
   "metadata": {},
   "source": [
    "**New approach:** it's too difficult to extract subfeatures comparing across every single image in the dataset. So, instead, we'll get the average digit, then get it's important subfeatures, and then get the unique subfeatures across the subfeatures of each average digit."
   ]
  },
  {
   "cell_type": "code",
   "execution_count": null,
   "id": "06451634-fee0-4447-ad36-acec465c29f1",
   "metadata": {},
   "outputs": [],
   "source": [
    "digit_sums = {}\n",
    "digit_counts = {}\n",
    "\n",
    "# Initialize for all 10 digits (0-9)\n",
    "for digit in range(10):\n",
    "    # Create a zeros array with the shape of a single image\n",
    "    digit_sums[digit] = np.zeros_like(train_images[0], dtype=float)\n",
    "    digit_counts[digit] = 0\n",
    "\n",
    "# Accumulate sum of images for each digit\n",
    "for img, label in zip(train_images, train_labels):\n",
    "    digit_sums[label] += img\n",
    "    digit_counts[label] += 1\n",
    "\n",
    "# Calculate average by dividing sum by count\n",
    "avg_digit_images = {}\n",
    "for digit in range(10):\n",
    "    avg_digit_images[digit] = digit_sums[digit] / digit_counts[digit]"
   ]
  },
  {
   "cell_type": "code",
   "execution_count": null,
   "id": "824eff9d-85ef-4950-9433-6758fffbf53b",
   "metadata": {
    "scrolled": true
   },
   "outputs": [],
   "source": [
    "for d, img in avg_digit_images.items():\n",
    "    visualize_image(img, d)"
   ]
  },
  {
   "cell_type": "code",
   "execution_count": null,
   "id": "0b5e52a5-6b74-4dc6-b8e2-ec1ba57a06ce",
   "metadata": {
    "scrolled": true
   },
   "outputs": [],
   "source": [
    "all_chunks = []\n",
    "for num, avg_img in avg_digit_images.items():\n",
    "    print(\"\\n----------------------------------------------------------------\\n\")\n",
    "    print(f\"Number: {num}\")\n",
    "    chunks = visualize_chunks_in_position(avg_img, chunk_size=7, min_intensity_threshold=0.2)\n",
    "    all_chunks.extend(chunks)"
   ]
  },
  {
   "cell_type": "code",
   "execution_count": null,
   "id": "41369936-f5d5-421f-ad13-44bac613902b",
   "metadata": {},
   "outputs": [],
   "source": [
    "len(all_chunks)"
   ]
  },
  {
   "cell_type": "code",
   "execution_count": null,
   "id": "282bff71-689a-490a-ae62-88920b463b71",
   "metadata": {},
   "outputs": [],
   "source": [
    "min_sub_feature_dict = {}\n",
    "for num, avg_img in avg_digit_images.items():\n",
    "    chunks = get_subfeatures(avg_img, chunk_size=14, min_intensity_threshold=0.01)\n",
    "    min_sub_feature_dict[num] = chunks"
   ]
  },
  {
   "cell_type": "code",
   "execution_count": null,
   "id": "40a52dd2-73f7-428c-8583-516ec8a8c609",
   "metadata": {
    "scrolled": true
   },
   "outputs": [],
   "source": [
    "visualize_image(min_sub_feature_dict[0][3], \"\")"
   ]
  },
  {
   "cell_type": "code",
   "execution_count": null,
   "id": "fe9a0044-1241-47a8-b125-8d5bf291f391",
   "metadata": {},
   "outputs": [],
   "source": [
    "sub_feature_dict = {}\n",
    "for num, features in min_sub_feature_dict.items():\n",
    "    f1 = features[0] + features[1]\n",
    "    f2 = features[2] + features[3]\n",
    "    sub_feature_dict[num] = [f1, f2]"
   ]
  },
  {
   "cell_type": "code",
   "execution_count": null,
   "id": "f75e1aac-05a2-4308-8f2f-30ab131275e7",
   "metadata": {},
   "outputs": [],
   "source": [
    "visualize_image(sub_feature_dict[0][0], \"\")"
   ]
  },
  {
   "cell_type": "code",
   "execution_count": null,
   "id": "2ed42562-27d7-4e7e-8321-2b6b04e2cc33",
   "metadata": {},
   "outputs": [],
   "source": [
    "save_intermediate_labels(\"min_sub_feature_dict_v1.pkl\", min_sub_feature_dict)\n",
    "save_intermediate_labels(\"sub_feature_dict_v1.pkl\", sub_feature_dict)"
   ]
  },
  {
   "cell_type": "code",
   "execution_count": null,
   "id": "6d22d13f-1f2e-4db1-8435-3540a45dd1f7",
   "metadata": {},
   "outputs": [],
   "source": []
  }
 ],
 "metadata": {
  "kernelspec": {
   "display_name": "Python 3 (ipykernel)",
   "language": "python",
   "name": "python3"
  },
  "language_info": {
   "codemirror_mode": {
    "name": "ipython",
    "version": 3
   },
   "file_extension": ".py",
   "mimetype": "text/x-python",
   "name": "python",
   "nbconvert_exporter": "python",
   "pygments_lexer": "ipython3",
   "version": "3.10.12"
  }
 },
 "nbformat": 4,
 "nbformat_minor": 5
}
