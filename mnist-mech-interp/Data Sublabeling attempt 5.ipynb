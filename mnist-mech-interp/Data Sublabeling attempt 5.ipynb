{
 "cells": [
  {
   "cell_type": "markdown",
   "id": "3f1a9d52-b18f-45fe-bdd3-bfe00363c8cd",
   "metadata": {},
   "source": [
    "# Sub Labeling Data\n",
    "\n",
    "We need junk for comparison"
   ]
  },
  {
   "cell_type": "markdown",
   "id": "1bb983cb-7930-4236-88c2-4593339040b5",
   "metadata": {},
   "source": [
    "## Imports"
   ]
  },
  {
   "cell_type": "code",
   "execution_count": 1,
   "id": "78a6a67d-91d0-4f15-a5d9-498b77dbb607",
   "metadata": {},
   "outputs": [],
   "source": [
    "import random\n",
    "\n",
    "import numpy as np\n",
    "from sklearn.model_selection import train_test_split\n",
    "import matplotlib.pyplot as plt\n",
    "\n",
    "import torch\n",
    "import torch.nn as nn\n",
    "from torch.utils.data import Dataset, DataLoader\n",
    "\n",
    "from tqdm import tqdm\n",
    "\n",
    "from helpers import load_images, load_labels, visualize_image, get_edges, generate_intermediate_edge_labels, horizontal_kernel, vertical_kernel, \\\n",
    "    load_intermediate_labels, generate_intermediate_curve_labels, save_intermediate_labels"
   ]
  },
  {
   "cell_type": "markdown",
   "id": "191b6168-e364-4248-a6d4-3355286ada7d",
   "metadata": {},
   "source": [
    "## Set Device to GPU"
   ]
  },
  {
   "cell_type": "code",
   "execution_count": 2,
   "id": "14c7361f-d520-4e5c-8a13-fb1ef92fb592",
   "metadata": {},
   "outputs": [
    {
     "name": "stdout",
     "output_type": "stream",
     "text": [
      "We will be using device: cuda\n"
     ]
    }
   ],
   "source": [
    "device = torch.device('cuda' if torch.cuda.is_available() else 'cpu')\n",
    "print(f\"We will be using device: {device}\")"
   ]
  },
  {
   "cell_type": "markdown",
   "id": "b3a5dc49-2a7c-47ba-92fb-8e1d107b04dc",
   "metadata": {},
   "source": [
    "## Load Data"
   ]
  },
  {
   "cell_type": "code",
   "execution_count": 3,
   "id": "c2dfe061-7b24-4543-9d4b-01262ac9eed2",
   "metadata": {},
   "outputs": [],
   "source": [
    "# train data\n",
    "train_images = load_images(\"./data/train-images-idx3-ubyte/train-images-idx3-ubyte\")\n",
    "train_labels = load_labels(\"./data/train-labels-idx1-ubyte/train-labels-idx1-ubyte\")\n",
    "\n",
    "train_images, val_images, train_labels, val_labels = train_test_split(\n",
    "    train_images, train_labels,\n",
    "    test_size=1/6,  # 10k validation\n",
    "    stratify=train_labels,\n",
    "    random_state=42  # for reproducibility\n",
    ")\n",
    "\n",
    "# test data\n",
    "test_images = load_images(\"./data/t10k-images-idx3-ubyte/t10k-images-idx3-ubyte\")\n",
    "test_labels = load_labels(\"./data/t10k-labels-idx1-ubyte/t10k-labels-idx1-ubyte\")"
   ]
  },
  {
   "cell_type": "code",
   "execution_count": 7,
   "id": "0b14669f-175b-4294-bed8-bd5b4d4406b1",
   "metadata": {},
   "outputs": [],
   "source": [
    "average_intensities = dict()\n",
    "for img in train_images:\n",
    "    avg_int = np.mean(img)\n",
    "    if avg_int in average_intensities:\n",
    "        average_intensities[avg_int] += 1\n",
    "    else:\n",
    "        average_intensities[avg_int] = 1"
   ]
  },
  {
   "cell_type": "code",
   "execution_count": 9,
   "id": "d3e34397-87ff-4e1d-99b5-0aaddec122c4",
   "metadata": {},
   "outputs": [
    {
     "data": {
      "image/png": "[encoded data removed]",
      "text/plain": [
       "<Figure size 1000x600 with 1 Axes>"
      ]
     },
     "metadata": {},
     "output_type": "display_data"
    }
   ],
   "source": [
    "x = list(average_intensities.keys())\n",
    "y = list(average_intensities.values())\n",
    "\n",
    "# Create the plot\n",
    "plt.figure(figsize=(10, 6))\n",
    "plt.bar(x, y, width=0.1)\n",
    "plt.xlabel('Decimal Keys')\n",
    "plt.ylabel('Integer Values')\n",
    "plt.title('Dictionary Visualization (Bar Chart)')\n",
    "plt.grid(True, linestyle='--', alpha=0.7, axis='y')"
   ]
  },
  {
   "cell_type": "code",
   "execution_count": null,
   "id": "a059cfa4-3d66-4ebd-94df-dfef103175a6",
   "metadata": {},
   "outputs": [],
   "source": [
    "activations_for_0_sub_layer_one = [\n",
    "    [0, 1, 1, 0],\n",
    "    [1, 0, 0, 1],\n",
    "    [1, 0, 0, 1],\n",
    "    [0, 1, 1, 0],\n",
    "]\n",
    "\n",
    "activations_for_0_sub_layer_two = [\n",
    "    [0, 0, 0, 0],\n",
    "    [0, 0, 0, 0],\n",
    "    [0, 0, 0, 0],\n",
    "    [0, 0, 0, 0],\n",
    "]"
   ]
  },
  {
   "cell_type": "code",
   "execution_count": null,
   "id": "dcec715d-3e5e-450a-8f69-db092fb32783",
   "metadata": {},
   "outputs": [],
   "source": [
    "activations_for_1_sub_layer_one = [\n",
    "    [0, 0, 1, 0],\n",
    "    [0, 0, 1, 0],\n",
    "    [0, 0, 1, 0],\n",
    "    [0, 0, 1, 0],\n",
    "]\n",
    "\n",
    "activations_for_1_sub_layer_two = [\n",
    "    [0, 0, 0, 0],\n",
    "    [0, 0, 0, 0],\n",
    "    [0, 0, 0, 0],\n",
    "    [0, 0, 0, 0],\n",
    "]"
   ]
  },
  {
   "cell_type": "code",
   "execution_count": null,
   "id": "f056c866-dda0-490a-914f-96bd8406c1cd",
   "metadata": {},
   "outputs": [],
   "source": [
    "activations_for_2_sub_layer_one = [\n",
    "    [0, 1, 1, 0],\n",
    "    [1, 0, 0, 1],\n",
    "    [0, 0, 1, 0],\n",
    "    [0, 1, 1, 1],\n",
    "]\n",
    "\n",
    "activations_for_2_sub_layer_two = [\n",
    "    [0, 0, 0, 0],\n",
    "    [0, 0, 0, 0],\n",
    "    [0, 0, 0, 0],\n",
    "    [0, 0, 0, 0],\n",
    "]"
   ]
  },
  {
   "cell_type": "code",
   "execution_count": null,
   "id": "7c9bce9a-6441-4979-8982-0c73176532b6",
   "metadata": {},
   "outputs": [],
   "source": [
    "activations_for_3_sub_layer_one = [\n",
    "    [1, 1, 1, 0],\n",
    "    [0, 0, 0, 1],\n",
    "    [1, 1, 1, 0],\n",
    "    [1, 1, 1, 1],\n",
    "]\n",
    "\n",
    "activations_for_3_sub_layer_two = [\n",
    "    [0, 0, 0, 0],\n",
    "    [0, 0, 0, 0],\n",
    "    [0, 0, 0, 0],\n",
    "    [0, 0, 0, 0],\n",
    "]"
   ]
  },
  {
   "cell_type": "code",
   "execution_count": null,
   "id": "9a694054-d377-45d7-9551-b93328621a53",
   "metadata": {},
   "outputs": [],
   "source": [
    "activations_for_4_sub_layer_one = [\n",
    "    [1, 0, 0, 1],\n",
    "    [1, 1, 1, 1],\n",
    "    [0, 0, 0, 1],\n",
    "    [0, 0, 0, 1],\n",
    "]\n",
    "\n",
    "activations_for_4_sub_layer_two = [\n",
    "    [0, 0, 0, 0],\n",
    "    [0, 0, 0, 0],\n",
    "    [0, 0, 0, 0],\n",
    "    [0, 0, 0, 0],\n",
    "]"
   ]
  },
  {
   "cell_type": "code",
   "execution_count": null,
   "id": "d33db978-18e8-426d-a715-539574bd54d0",
   "metadata": {},
   "outputs": [],
   "source": [
    "activations_for_5_sub_layer_one = [\n",
    "    [1, 1, 1, 1],\n",
    "    [1, 0, 0, 0],\n",
    "    [0, 1, 1, 0],\n",
    "    [1, 1, 1, 1],\n",
    "]\n",
    "\n",
    "activations_for_5_sub_layer_two = [\n",
    "    [0, 0, 0, 0],\n",
    "    [0, 0, 0, 0],\n",
    "    [0, 0, 0, 0],\n",
    "    [0, 0, 0, 0],\n",
    "]"
   ]
  },
  {
   "cell_type": "code",
   "execution_count": null,
   "id": "7afbe0df-9087-4c83-a353-b98a745eca11",
   "metadata": {},
   "outputs": [],
   "source": [
    "activations_for_6_sub_layer_one = [\n",
    "    [1, 0, 0, 0],\n",
    "    [1, 1, 1, 1],\n",
    "    [1, 0, 0, 1],\n",
    "    [1, 1, 1, 1],\n",
    "]\n",
    "\n",
    "activations_for_6_sub_layer_two = [\n",
    "    [0, 0, 0, 0],\n",
    "    [0, 0, 0, 0],\n",
    "    [0, 0, 0, 0],\n",
    "    [0, 0, 0, 0],\n",
    "]"
   ]
  },
  {
   "cell_type": "code",
   "execution_count": null,
   "id": "694e40f3-50aa-43b5-a987-54e53d9d516b",
   "metadata": {},
   "outputs": [],
   "source": [
    "activations_for_7_sub_layer_one = [\n",
    "    [1, 1, 1, 1],\n",
    "    [0, 0, 1, 0],\n",
    "    [0, 1, 0, 0],\n",
    "    [1, 0, 0, 0],\n",
    "]\n",
    "\n",
    "activations_for_7_sub_layer_two = [\n",
    "    [0, 0, 0, 0],\n",
    "    [0, 0, 0, 0],\n",
    "    [0, 0, 0, 0],\n",
    "    [0, 0, 0, 0],\n",
    "]"
   ]
  },
  {
   "cell_type": "code",
   "execution_count": null,
   "id": "cc6dc472-4a33-400e-a1f5-4c0293608dfe",
   "metadata": {},
   "outputs": [],
   "source": [
    "activations_for_8_sub_layer_one = [\n",
    "    [0, 1, 1, 0],\n",
    "    [1, 1, 1, 1],\n",
    "    [1, 1, 1, 1],\n",
    "    [0, 1, 1, 0],\n",
    "]\n",
    "\n",
    "activations_for_8_sub_layer_two = [\n",
    "    [0, 0, 0, 0],\n",
    "    [0, 0, 0, 0],\n",
    "    [0, 0, 0, 0],\n",
    "    [0, 0, 0, 0],\n",
    "]"
   ]
  },
  {
   "cell_type": "code",
   "execution_count": null,
   "id": "ead52fd1-1ea0-4c5a-98e4-2a699c22c3fa",
   "metadata": {},
   "outputs": [],
   "source": [
    "activations_for_9_sub_layer_one = [\n",
    "    [1, 1, 1, 1],\n",
    "    [1, 0, 0, 1],\n",
    "    [1, 1, 1, 1],\n",
    "    [0, 0, 0, 1],\n",
    "]\n",
    "\n",
    "activations_for_9_sub_layer_two = [\n",
    "    [0, 0, 0, 0],\n",
    "    [0, 0, 0, 0],\n",
    "    [0, 0, 0, 0],\n",
    "    [0, 0, 0, 0],\n",
    "]"
   ]
  },
  {
   "cell_type": "code",
   "execution_count": null,
   "id": "56db7cc5-5496-4315-915a-f25467de32c6",
   "metadata": {},
   "outputs": [],
   "source": [
    "sub_layer_one = list()\n",
    "sub_layer_two = list()\n",
    "for label, img in zip(train_labels, train_images):\n",
    "    match label:\n",
    "        case 0:\n",
    "            pass\n",
    "        case 1:\n",
    "            pass\n",
    "        case 2:\n",
    "            pass\n",
    "        case 3:\n",
    "            pass\n",
    "        case 4:\n",
    "            pass\n",
    "        case 5:\n",
    "            pass\n",
    "        case 6:\n",
    "            pass\n",
    "        case 7:\n",
    "            pass\n",
    "        case 8:\n",
    "            pass\n",
    "        case 9:\n",
    "            pass"
   ]
  },
  {
   "cell_type": "markdown",
   "id": "eef986e2-4918-43c4-9184-bc5e1cb9e0f7",
   "metadata": {},
   "source": [
    "## Generating Additional Sub Labels"
   ]
  },
  {
   "cell_type": "code",
   "execution_count": null,
   "id": "9f294485-aa99-435e-8785-6569d119673f",
   "metadata": {},
   "outputs": [],
   "source": [
    "import numpy as np\n",
    "import numpy.random as npr\n",
    "\n",
    "def get_subfeatures(image, chunk_size, digit, noise_seed=42, variation_strength=0.1):\n",
    "    \"\"\"\n",
    "    Generate digit-specific noise chunks with subtle variations for regions with sufficient brightness.\n",
    "    \n",
    "    Parameters:\n",
    "    - image: Input image (2D numpy array)\n",
    "    - chunk_size: Size of each chunk\n",
    "    - digit: Digit (0-9) to determine noise pattern\n",
    "    - noise_seed: Seed for reproducible noise generation\n",
    "    - variation_strength: Controls the amount of variation between noise patterns (0-1)\n",
    "    \n",
    "    Returns:\n",
    "    - List of noise chunks positioned like the original image chunks\n",
    "    \"\"\"\n",
    "    # Validate inputs\n",
    "    if not (0 <= digit <= 9):\n",
    "        raise ValueError(\"Digit must be between 0 and 9\")\n",
    "    if not (0 <= variation_strength <= 1):\n",
    "        raise ValueError(\"Variation strength must be between 0 and 1\")\n",
    "    \n",
    "    # Set up reproducible random number generation for each digit\n",
    "    rng = npr.default_rng(noise_seed + digit)\n",
    "    \n",
    "    h, w = image.shape\n",
    "    n_chunks_h = h // chunk_size\n",
    "    n_chunks_w = w // chunk_size\n",
    "\n",
    "    # Generate base noise patterns for the digit\n",
    "    base_patterns = []\n",
    "    for pattern_idx in range(4):\n",
    "        rng_local = npr.default_rng(noise_seed + digit * 4 + pattern_idx)\n",
    "        base_pattern = rng_local.integers(low=0, high=256, size=(chunk_size, chunk_size), dtype=image.dtype)\n",
    "        base_patterns.append(base_pattern)\n",
    "    \n",
    "    chunks = []\n",
    "    # Process each chunk position\n",
    "    for i in range(n_chunks_h):\n",
    "        for j in range(n_chunks_w):\n",
    "            start_h = i * chunk_size\n",
    "            start_w = j * chunk_size\n",
    "            \n",
    "            # Extract the chunk\n",
    "            chunk = image[start_h:start_h+chunk_size, start_w:start_w+chunk_size]\n",
    "            \n",
    "            # Calculate average intensity (assuming values are 0-255)\n",
    "            avg_intensity = np.mean(chunk) / 255.0\n",
    "            \n",
    "            # Create a blank image\n",
    "            chunk_in_position = np.zeros_like(image)\n",
    "            \n",
    "            # Determine noise pattern index\n",
    "            noise_pattern_index = (i * n_chunks_w + j) % 4\n",
    "            \n",
    "            # Create subtle variation of the base pattern\n",
    "            variation_rng = npr.default_rng(noise_seed + digit * 4 + noise_pattern_index + i * n_chunks_w + j)\n",
    "            \n",
    "            # Generate variation noise (use signed int for calculation, then convert)\n",
    "            variation = variation_rng.integers(\n",
    "                low=-int(255 * variation_strength), \n",
    "                high=int(255 * variation_strength), \n",
    "                size=(chunk_size, chunk_size), \n",
    "                dtype=np.int16  # Use signed integer for calculation\n",
    "            )\n",
    "            \n",
    "            # Apply variation to base pattern, ensuring values stay in uint8 range\n",
    "            noise_chunk = np.clip(\n",
    "                base_patterns[noise_pattern_index].astype(np.int16) + variation, \n",
    "                0, \n",
    "                255\n",
    "            ).astype(image.dtype)\n",
    "            \n",
    "            # Place the noise chunk in its original position\n",
    "            chunk_in_position[start_h:start_h+chunk_size, start_w:start_w+chunk_size] = noise_chunk\n",
    "            chunks.append(chunk_in_position)\n",
    "\n",
    "    return chunks"
   ]
  },
  {
   "cell_type": "code",
   "execution_count": null,
   "id": "0f97d85a-ed9b-4e11-aa69-f1a9452726a7",
   "metadata": {},
   "outputs": [],
   "source": [
    "train_labels[:10]"
   ]
  },
  {
   "cell_type": "code",
   "execution_count": null,
   "id": "a4dc5906-0b96-42ff-a1a6-2ec20b898d15",
   "metadata": {},
   "outputs": [],
   "source": [
    "min_sub_features = []\n",
    "sub_features = []\n",
    "for img, label in zip(train_images, train_labels):\n",
    "    chunks = get_subfeatures(img, chunk_size=14, noise_seed=101, digit=label)\n",
    "\n",
    "    min_sub_features.extend(chunks)\n",
    "\n",
    "    sub_f = [chunks[0] + chunks[1], chunks[2] + chunks[3]]\n",
    "    sub_features.extend(sub_f)"
   ]
  },
  {
   "cell_type": "code",
   "execution_count": null,
   "id": "2189ceb0-5799-4c6d-ad7c-fcf300e3b64a",
   "metadata": {},
   "outputs": [],
   "source": [
    "len(min_sub_features), len(sub_features), len(train_images)"
   ]
  },
  {
   "cell_type": "code",
   "execution_count": null,
   "id": "daaf19db-1768-48b3-bc7c-3abcad2fd401",
   "metadata": {},
   "outputs": [],
   "source": [
    "save_intermediate_labels(\"min_sub_feature_dict_random_noise_v3.pkl\", min_sub_features)\n",
    "save_intermediate_labels(\"sub_feature_dict_random_noise_v3.pkl\", sub_features)"
   ]
  },
  {
   "cell_type": "code",
   "execution_count": null,
   "id": "4a45b619-abe1-490e-a598-9285e005235e",
   "metadata": {},
   "outputs": [],
   "source": []
  }
 ],
 "metadata": {
  "kernelspec": {
   "display_name": "Python 3 (ipykernel)",
   "language": "python",
   "name": "python3"
  },
  "language_info": {
   "codemirror_mode": {
    "name": "ipython",
    "version": 3
   },
   "file_extension": ".py",
   "mimetype": "text/x-python",
   "name": "python",
   "nbconvert_exporter": "python",
   "pygments_lexer": "ipython3",
   "version": "3.10.12"
  }
 },
 "nbformat": 4,
 "nbformat_minor": 5
}
