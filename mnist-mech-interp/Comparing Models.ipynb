{
 "cells": [
  {
   "cell_type": "markdown",
   "id": "854327bb-54b2-4aae-9221-ca54910611dc",
   "metadata": {},
   "source": [
    "# Comparing Models"
   ]
  },
  {
   "cell_type": "markdown",
   "id": "5458fa37-2d3c-4c25-8426-dbe2911d655e",
   "metadata": {},
   "source": [
    "## Imports"
   ]
  },
  {
   "cell_type": "code",
   "execution_count": 1,
   "id": "cc78242f-8d15-4deb-b21f-66aedf5c20ba",
   "metadata": {},
   "outputs": [],
   "source": [
    "import matplotlib.pyplot as plt\n",
    "import numpy as np\n",
    "\n",
    "import torch\n",
    "from torch import nn\n",
    "\n",
    "from helpers import load_images, load_labels, visualize_image, get_edges, generate_intermediate_edge_labels"
   ]
  },
  {
   "cell_type": "markdown",
   "id": "f0ffc59c-0c89-4997-8fba-903bdcd39714",
   "metadata": {},
   "source": [
    "## Set Device to Cuda"
   ]
  },
  {
   "cell_type": "code",
   "execution_count": 2,
   "id": "b4e2b6a8-4adf-47d0-a5ad-2c7dfe9a998e",
   "metadata": {},
   "outputs": [
    {
     "name": "stdout",
     "output_type": "stream",
     "text": [
      "We will be using device: cuda\n"
     ]
    }
   ],
   "source": [
    "device = torch.device('cuda' if torch.cuda.is_available() else 'cpu')\n",
    "print(f\"We will be using device: {device}\")"
   ]
  },
  {
   "cell_type": "markdown",
   "id": "fafe1797-6333-4839-8f12-d5c8b22de1c8",
   "metadata": {},
   "source": [
    "## Get Test Data and Sub Labels"
   ]
  },
  {
   "cell_type": "code",
   "execution_count": 3,
   "id": "aaad288a-22d1-46dc-a1a0-41d9f3f3d8a1",
   "metadata": {},
   "outputs": [],
   "source": [
    "horizontal_kernel = np.array([\n",
    "    [-1, -1, -1],\n",
    "    [ 0,  0 , 0],\n",
    "    [ 1,  1,  1],\n",
    "])\n",
    "\n",
    "vertical_kernel = np.array([\n",
    "    [-1,  0,  1],\n",
    "    [-1,  0,  1],\n",
    "    [-1,  0,  1],\n",
    "])"
   ]
  },
  {
   "cell_type": "code",
   "execution_count": 4,
   "id": "5216b7d4-9f0a-4230-a8ec-d10dd4e8e779",
   "metadata": {},
   "outputs": [],
   "source": [
    "# test data\n",
    "test_images = load_images(\"./data/t10k-images-idx3-ubyte/t10k-images-idx3-ubyte\")\n",
    "test_labels = load_labels(\"./data/t10k-labels-idx1-ubyte/t10k-labels-idx1-ubyte\")\n",
    "\n",
    "# sub labels\n",
    "test_horizontal_image_labels = generate_intermediate_edge_labels(test_images, horizontal_kernel)\n",
    "test_vertical_image_labels = generate_intermediate_edge_labels(test_images, vertical_kernel)"
   ]
  },
  {
   "cell_type": "code",
   "execution_count": 5,
   "id": "49d5c739-90da-41b7-a816-c9f7937486ad",
   "metadata": {},
   "outputs": [],
   "source": [
    "def get_sample(idx):\n",
    "    return test_images[idx], test_labels[idx], test_horizontal_image_labels[idx].reshape(28, 28), test_vertical_image_labels[idx].reshape(28, 28)"
   ]
  },
  {
   "cell_type": "code",
   "execution_count": 6,
   "id": "1666dfa8-972c-4d95-a409-103ea6729b0a",
   "metadata": {},
   "outputs": [],
   "source": [
    "img, label, h_edge, v_edge = get_sample(0)"
   ]
  },
  {
   "cell_type": "code",
   "execution_count": 10,
   "id": "30842e68-a2c9-428a-969e-ffad25767333",
   "metadata": {},
   "outputs": [
    {
     "data": {
      "image/png": "[encoded data removed]",
      "text/plain": [
       "<Figure size 500x500 with 3 Axes>"
      ]
     },
     "metadata": {},
     "output_type": "display_data"
    }
   ],
   "source": [
    "fig, axes = plt.subplots(1, 3, figsize=(5, 5))\n",
    "\n",
    "visualize_image(img, label, ax=axes[0])\n",
    "visualize_image(h_edge, f\"{label} h edges\", ax=axes[1])\n",
    "visualize_image(v_edge, f\"{label} v edges\", ax=axes[2])\n",
    "\n",
    "plt.tight_layout()\n",
    "plt.show()"
   ]
  },
  {
   "cell_type": "markdown",
   "id": "631aa1c5-92dd-402f-b8ec-532f2f64198d",
   "metadata": {},
   "source": [
    "## Load Models"
   ]
  },
  {
   "cell_type": "code",
   "execution_count": 18,
   "id": "1c840744-037c-4279-b5cc-3beb9dd74c29",
   "metadata": {},
   "outputs": [],
   "source": [
    "main_quest_model = torch.load(\"./main_quest.pth\")\n",
    "side_quest_model = torch.load(\"./side_quests.pth\")\n",
    "partial_side_quest_model = torch.load(\"./partial_side_quests.pth\")"
   ]
  },
  {
   "cell_type": "markdown",
   "id": "85e079ab-6a3b-4f57-8f87-11b300ea24cc",
   "metadata": {},
   "source": [
    "## Comparing Layer Weights Across Models"
   ]
  },
  {
   "cell_type": "code",
   "execution_count": 19,
   "id": "dc6adbba-1762-4808-8d79-9c3a8c6e9d49",
   "metadata": {},
   "outputs": [
    {
     "ename": "AttributeError",
     "evalue": "'collections.OrderedDict' object has no attribute 'eval'",
     "output_type": "error",
     "traceback": [
      "\u001b[0;31m---------------------------------------------------------------------------\u001b[0m",
      "\u001b[0;31mAttributeError\u001b[0m                            Traceback (most recent call last)",
      "Cell \u001b[0;32mIn[19], line 1\u001b[0m\n\u001b[0;32m----> 1\u001b[0m \u001b[43mmain_quest_model\u001b[49m\u001b[38;5;241;43m.\u001b[39;49m\u001b[43meval\u001b[49m()\n",
      "\u001b[0;31mAttributeError\u001b[0m: 'collections.OrderedDict' object has no attribute 'eval'"
     ]
    }
   ],
   "source": [
    "main_quest_model.eval()"
   ]
  },
  {
   "cell_type": "code",
   "execution_count": 12,
   "id": "954fb232-65e1-4d3f-81b3-9b45abff1b7b",
   "metadata": {},
   "outputs": [
    {
     "ename": "AttributeError",
     "evalue": "'collections.OrderedDict' object has no attribute 'horizontal_layer'",
     "output_type": "error",
     "traceback": [
      "\u001b[0;31m---------------------------------------------------------------------------\u001b[0m",
      "\u001b[0;31mAttributeError\u001b[0m                            Traceback (most recent call last)",
      "Cell \u001b[0;32mIn[12], line 1\u001b[0m\n\u001b[0;32m----> 1\u001b[0m main_h_weights \u001b[38;5;241m=\u001b[39m np\u001b[38;5;241m.\u001b[39mabs(\u001b[43mmain_quest_model\u001b[49m\u001b[38;5;241;43m.\u001b[39;49m\u001b[43mhorizontal_layer\u001b[49m\u001b[38;5;241m.\u001b[39mweight[\u001b[38;5;241m0\u001b[39m]\u001b[38;5;241m.\u001b[39mreshape(\u001b[38;5;241m28\u001b[39m, \u001b[38;5;241m28\u001b[39m)\u001b[38;5;241m.\u001b[39mdetach()\u001b[38;5;241m.\u001b[39mcpu()\u001b[38;5;241m.\u001b[39mnumpy())\n\u001b[1;32m      2\u001b[0m side_h_weights \u001b[38;5;241m=\u001b[39m np\u001b[38;5;241m.\u001b[39mabs(side_quest_model\u001b[38;5;241m.\u001b[39mhorizontal_layer\u001b[38;5;241m.\u001b[39mweight[\u001b[38;5;241m0\u001b[39m]\u001b[38;5;241m.\u001b[39mreshape(\u001b[38;5;241m28\u001b[39m, \u001b[38;5;241m28\u001b[39m)\u001b[38;5;241m.\u001b[39mdetach()\u001b[38;5;241m.\u001b[39mcpu()\u001b[38;5;241m.\u001b[39mnumpy())\n\u001b[1;32m      3\u001b[0m partial_h_weights \u001b[38;5;241m=\u001b[39m np\u001b[38;5;241m.\u001b[39mabs(partial_side_quest_model\u001b[38;5;241m.\u001b[39mhorizontal_layer\u001b[38;5;241m.\u001b[39mweight[\u001b[38;5;241m0\u001b[39m]\u001b[38;5;241m.\u001b[39mreshape(\u001b[38;5;241m28\u001b[39m, \u001b[38;5;241m28\u001b[39m)\u001b[38;5;241m.\u001b[39mdetach()\u001b[38;5;241m.\u001b[39mcpu()\u001b[38;5;241m.\u001b[39mnumpy())\n",
      "\u001b[0;31mAttributeError\u001b[0m: 'collections.OrderedDict' object has no attribute 'horizontal_layer'"
     ]
    }
   ],
   "source": [
    "main_h_weights = np.abs(main_quest_model.horizontal_layer.weight[0].reshape(28, 28).detach().cpu().numpy())\n",
    "side_h_weights = np.abs(side_quest_model.horizontal_layer.weight[0].reshape(28, 28).detach().cpu().numpy())\n",
    "partial_h_weights = np.abs(partial_side_quest_model.horizontal_layer.weight[0].reshape(28, 28).detach().cpu().numpy())"
   ]
  },
  {
   "cell_type": "code",
   "execution_count": null,
   "id": "acf90b3b-22e2-4dff-91f0-dc7b664e5ed1",
   "metadata": {},
   "outputs": [],
   "source": [
    "def convert_numpy_image_to_tensor(img):\n",
    "    \"\"\"\n",
    "    \"\"\"\n",
    "    return torch.from_numpy(img.copy()).float().unsqueeze(0).unsqueeze(0).to('cuda')\n",
    "    "
   ]
  }
 ],
 "metadata": {
  "kernelspec": {
   "display_name": "Python 3 (ipykernel)",
   "language": "python",
   "name": "python3"
  },
  "language_info": {
   "codemirror_mode": {
    "name": "ipython",
    "version": 3
   },
   "file_extension": ".py",
   "mimetype": "text/x-python",
   "name": "python",
   "nbconvert_exporter": "python",
   "pygments_lexer": "ipython3",
   "version": "3.10.12"
  }
 },
 "nbformat": 4,
 "nbformat_minor": 5
}
