{
 "cells": [
  {
   "cell_type": "markdown",
   "id": "84207c44-9c22-4853-943c-5a6cb08bdbdf",
   "metadata": {},
   "source": [
    "# Training on SAE Sparse Features\n",
    "\n",
    "Loss factor of 0.01, working with the 25 highest activating features per digit\n",
    "\n",
    "Cosine instead of MSE for auxilary loss - it seemed to work quite well, and makes auxiliary loss easier to manage w/global loss."
   ]
  },
  {
   "cell_type": "code",
   "execution_count": 1,
   "id": "10aa37d0-59c1-4368-aec0-83ccb0ce6a4b",
   "metadata": {},
   "outputs": [],
   "source": [
    "import time\n",
    "\n",
    "EXPERIMENT_TYPE = \"SAE\"\n",
    "RUN_ID = time.time()"
   ]
  },
  {
   "cell_type": "markdown",
   "id": "f2b67228-330c-480e-99b5-cb4001e89013",
   "metadata": {},
   "source": [
    "## SAE Params"
   ]
  },
  {
   "cell_type": "code",
   "execution_count": 2,
   "id": "250d7778-885a-4a6d-9bd2-ddbcb9a27be3",
   "metadata": {},
   "outputs": [],
   "source": [
    "HIDDEN_SIZE = 256\n",
    "L1_PENALTY = 0.01\n",
    "N = 25"
   ]
  },
  {
   "cell_type": "markdown",
   "id": "fcf4a0ba-710d-4882-9bd0-f948e9f6fb9d",
   "metadata": {},
   "source": [
    "## Imports"
   ]
  },
  {
   "cell_type": "code",
   "execution_count": 3,
   "id": "4a4018f1-cb83-4f0b-90db-0f48aad1fe9f",
   "metadata": {},
   "outputs": [],
   "source": [
    "import random\n",
    "import copy\n",
    "\n",
    "import numpy as np\n",
    "import pandas as pd\n",
    "import matplotlib.pyplot as plt\n",
    "from sklearn.model_selection import train_test_split\n",
    "from sklearn.linear_model import LogisticRegression\n",
    "\n",
    "\n",
    "import torch\n",
    "from torch import nn\n",
    "from torch.utils.data import Dataset, DataLoader\n",
    "\n",
    "from tqdm import tqdm"
   ]
  },
  {
   "cell_type": "code",
   "execution_count": 4,
   "id": "6e7038c3-06d1-4d3c-9b44-2f2bc3485f57",
   "metadata": {},
   "outputs": [],
   "source": [
    "from graph_helpers import (plot_weights,\n",
    "                    plot_activations,\n",
    "                    plot_losses,\n",
    "                    plot_saliency_map,\n",
    "                    plot_sparse_vecs_by_image,\n",
    "                    plot_top_act_images_by_feature,\n",
    "                    feature_inversion\n",
    "                )"
   ]
  },
  {
   "cell_type": "code",
   "execution_count": 5,
   "id": "2c069cc3-458e-4825-9828-c771c7f7370a",
   "metadata": {},
   "outputs": [],
   "source": [
    "import sys, os\n",
    "from pathlib import Path\n",
    "\n",
    "# assume cwd is project_root/data_loader\n",
    "project_root = Path(os.getcwd()).parent  # go up one level to project_root\n",
    "sys.path.insert(0, str(project_root))\n",
    "\n",
    "from helpers import load_images, load_labels, visualize_image, get_edges, load_intermediate_labels"
   ]
  },
  {
   "cell_type": "markdown",
   "id": "6cbef66c-0819-4e4f-9fb7-346b8b786a6b",
   "metadata": {},
   "source": [
    "## Set Device to GPU"
   ]
  },
  {
   "cell_type": "code",
   "execution_count": 6,
   "id": "67f93931-772a-4720-b394-0cff7884a1ba",
   "metadata": {},
   "outputs": [
    {
     "name": "stdout",
     "output_type": "stream",
     "text": [
      "We will be using device: cuda\n"
     ]
    }
   ],
   "source": [
    "device = torch.device('cuda' if torch.cuda.is_available() else 'cpu')\n",
    "print(f\"We will be using device: {device}\")"
   ]
  },
  {
   "cell_type": "markdown",
   "id": "7b553d6d-7e3a-4973-a472-3c735df1b699",
   "metadata": {},
   "source": [
    "## Load Data"
   ]
  },
  {
   "cell_type": "code",
   "execution_count": 7,
   "id": "070db857-3892-4a37-b24a-b3f8a8d7bb37",
   "metadata": {},
   "outputs": [],
   "source": [
    "# train data\n",
    "train_images = load_intermediate_labels(\"first_layer/train_images.pkl\")\n",
    "train_labels = load_intermediate_labels(\"first_layer/train_labels.pkl\")\n",
    "\n",
    "# val data\n",
    "val_images = load_intermediate_labels(\"first_layer/val_images.pkl\")\n",
    "val_labels = load_intermediate_labels(\"first_layer/val_labels.pkl\")\n",
    "\n",
    "# test data\n",
    "test_images = load_intermediate_labels(\"first_layer/test_images.pkl\")\n",
    "test_labels = load_intermediate_labels(\"first_layer/test_labels.pkl\")\n",
    "\n",
    "# intermediate labels\n",
    "recon_max_sparse_act_one = load_intermediate_labels(f\"first_layer/recon_max_sparse_top_{N}_v2-2.pkl\")\n",
    "recon_max_sparse_act_one_ablated = load_intermediate_labels(f\"first_layer/recon_max_sparse_ablated_top_{N}_v2-2.pkl\")"
   ]
  },
  {
   "cell_type": "code",
   "execution_count": 8,
   "id": "70de73dd-39e5-4c74-b3a3-03b6155d3fd5",
   "metadata": {},
   "outputs": [
    {
     "data": {
      "text/plain": [
       "torch.Tensor"
      ]
     },
     "execution_count": 8,
     "metadata": {},
     "output_type": "execute_result"
    }
   ],
   "source": [
    "type(recon_max_sparse_act_one[0])"
   ]
  },
  {
   "cell_type": "code",
   "execution_count": 9,
   "id": "a75e03f6-1174-4b0a-bac4-a30b30deff63",
   "metadata": {},
   "outputs": [
    {
     "name": "stdout",
     "output_type": "stream",
     "text": [
      "Train images shape: (50000, 28, 28)\n",
      "Val images shape: (10000, 28, 28)\n",
      "Test images shape: (10000, 28, 28)\n"
     ]
    }
   ],
   "source": [
    "print(\"Train images shape:\", train_images.shape)\n",
    "print(\"Val images shape:\", val_images.shape)\n",
    "print(\"Test images shape:\", test_images.shape)"
   ]
  },
  {
   "cell_type": "markdown",
   "id": "39ca05d5-d791-4fbb-9736-b52a5eae1409",
   "metadata": {},
   "source": [
    "## Visualize an image"
   ]
  },
  {
   "cell_type": "code",
   "execution_count": 10,
   "id": "10a6f14c-5f30-4237-933c-55a6f254a9df",
   "metadata": {},
   "outputs": [
    {
     "data": {
      "image/png": "[encoded data removed]",
      "text/plain": [
       "<Figure size 300x300 with 1 Axes>"
      ]
     },
     "metadata": {},
     "output_type": "display_data"
    }
   ],
   "source": [
    "sample_image = train_images[0]\n",
    "sample_label = train_labels[0]\n",
    "visualize_image(sample_image, sample_label)"
   ]
  },
  {
   "cell_type": "markdown",
   "id": "00d7fd35-fd62-4598-89f5-58f98567ad3c",
   "metadata": {},
   "source": [
    "## Architecture\n",
    "\n",
    "### NN\n",
    "\n",
    "Once again, two hidden layers. 16 nodes each. Same as 3blue1brown."
   ]
  },
  {
   "cell_type": "code",
   "execution_count": 11,
   "id": "1e5d2535-98f4-4c1e-8073-c5373a5b56c0",
   "metadata": {},
   "outputs": [],
   "source": [
    "class NeuralNetwork(nn.Module):\n",
    "    def __init__(self):\n",
    "        super().__init__()\n",
    "        layer_size_by_pixels = 28*28\n",
    "        \n",
    "        self.flatten = nn.Flatten()\n",
    "        \n",
    "        # define layers separately to have access to each\n",
    "        self.hidden_one = nn.Linear(layer_size_by_pixels, 16)\n",
    "        self.hidden_two = nn.Linear(16, 16)\n",
    "        self.classification_layer = nn.Linear(16, 10)\n",
    "        \n",
    "        self.activation_function = nn.ReLU()\n",
    "\n",
    "    def forward(self, x):\n",
    "        x = self.flatten(x)\n",
    "\n",
    "        # first hidden layer\n",
    "        hidden_one_out = self.hidden_one(x)\n",
    "        hidden_one_act = self.activation_function(hidden_one_out)\n",
    "\n",
    "        # second hidden layer\n",
    "        hidden_two_out = self.hidden_two(hidden_one_act)\n",
    "        hidden_two_act = self.activation_function(hidden_two_out)\n",
    "\n",
    "        # classification layer\n",
    "        classification_out = self.classification_layer(hidden_two_act)\n",
    "        \n",
    "        return classification_out, hidden_one_act, hidden_two_act"
   ]
  },
  {
   "cell_type": "markdown",
   "id": "dd44c3cf-602d-451e-b10c-8b7f005858e8",
   "metadata": {},
   "source": [
    "### SAE"
   ]
  },
  {
   "cell_type": "code",
   "execution_count": 12,
   "id": "53786553-7c2c-4d0f-96a9-b901297c7756",
   "metadata": {},
   "outputs": [],
   "source": [
    "class SparseAutoencoder(nn.Module):\n",
    "    def __init__(self, input_size=16, hidden_size=128):\n",
    "        super().__init__()\n",
    "        self.encoder = nn.Linear(input_size, hidden_size)\n",
    "        self.decoder = nn.Linear(hidden_size, input_size)\n",
    "        self.activation = nn.ReLU()\n",
    "    \n",
    "    def forward(self, x):\n",
    "        encoded = self.activation(self.encoder(x))\n",
    "        reconstructed = self.decoder(encoded)\n",
    "        return reconstructed, encoded\n",
    "    \n",
    "    def loss(self, x, reconstructed, encoded, l1_lambda=0.001):\n",
    "        mse_loss = nn.MSELoss()(reconstructed, x)\n",
    "        l1_loss = l1_lambda * torch.mean(torch.abs(encoded))\n",
    "        return mse_loss + l1_loss"
   ]
  },
  {
   "cell_type": "markdown",
   "id": "17fa3f1a-32f7-46d9-975d-3c7c77d95a9f",
   "metadata": {},
   "source": [
    "## Dataloader"
   ]
  },
  {
   "cell_type": "code",
   "execution_count": 13,
   "id": "2fe0386b-042b-4e96-8266-adb647758c37",
   "metadata": {},
   "outputs": [],
   "source": [
    "class EdgeDataset(Dataset):\n",
    "    def __init__(self, images, labels, first_layer_acts=None):\n",
    "        self.images = images\n",
    "        self.labels = labels\n",
    "        self.first_layer_acts = first_layer_acts\n",
    "\n",
    "    def __len__(self):\n",
    "        assert len(self.images) == len(self.labels)\n",
    "        if self.first_layer_acts:\n",
    "            assert(len(self.first_layer_acts) == len(self.images))\n",
    "            \n",
    "        return len(self.images)\n",
    "\n",
    "    def __getitem__(self, idx):\n",
    "        image = torch.from_numpy(self.images[idx].copy()).float()\n",
    "        label = torch.tensor(self.labels[idx].copy(), dtype=torch.long)\n",
    "\n",
    "        if self.first_layer_acts:\n",
    "            return (image, label, self.first_layer_acts[idx])\n",
    "        else:\n",
    "            return (image, label)"
   ]
  },
  {
   "cell_type": "code",
   "execution_count": 14,
   "id": "634f8215-1f78-4e3f-975f-1bddf935cd34",
   "metadata": {},
   "outputs": [],
   "source": [
    "# for reproducibility on training\n",
    "def seed_worker(worker_id):\n",
    "    worker_seed = torch.initial_seed() % 2**32\n",
    "    np.random.seed(worker_seed)\n",
    "    random.seed(worker_seed)"
   ]
  },
  {
   "cell_type": "markdown",
   "id": "b878bdc7-4dc6-4510-a3a7-d64a2d2d7394",
   "metadata": {},
   "source": [
    "## Training Loop"
   ]
  },
  {
   "cell_type": "code",
   "execution_count": 15,
   "id": "e90a2e09-4d54-4b9a-8abe-379edef96d95",
   "metadata": {},
   "outputs": [
    {
     "name": "stdout",
     "output_type": "stream",
     "text": [
      "12\n"
     ]
    }
   ],
   "source": [
    "min_loss = 0.011\n",
    "max_loss = 0.021\n",
    "step = 0.001\n",
    "loss_factors = np.arange(min_loss, max_loss + step, step)\n",
    "print(len(loss_factors))"
   ]
  },
  {
   "cell_type": "code",
   "execution_count": 16,
   "id": "5efead09-bdd4-4177-9ead-fee16bb28a15",
   "metadata": {
    "scrolled": true
   },
   "outputs": [
    {
     "name": "stdout",
     "output_type": "stream",
     "text": [
      "##################################################\n",
      "Loss factor: 0.011\n",
      "\n",
      "\n"
     ]
    },
    {
     "name": "stderr",
     "output_type": "stream",
     "text": [
      "                                                                                                                        \r"
     ]
    },
    {
     "name": "stdout",
     "output_type": "stream",
     "text": [
      "Epoch 1/20\n",
      "  Train Loss: 1.0792\n",
      "  SAE Train Loss (hidden one): 8.3558\n",
      "  SAE Train Loss (hidden two): 1.1222\n",
      "  Val Loss: 0.6472 | Val Acc: 83.65%\n",
      "  Saved model with Val Acc: 83.65%\n"
     ]
    },
    {
     "name": "stderr",
     "output_type": "stream",
     "text": [
      "                                                                                                                        \r"
     ]
    },
    {
     "name": "stdout",
     "output_type": "stream",
     "text": [
      "Epoch 2/20\n",
      "  Train Loss: 0.5535\n",
      "  SAE Train Loss (hidden one): 0.4286\n",
      "  SAE Train Loss (hidden two): 0.0940\n",
      "  Val Loss: 0.4929 | Val Acc: 85.78%\n",
      "  Saved model with Val Acc: 85.78%\n"
     ]
    },
    {
     "name": "stderr",
     "output_type": "stream",
     "text": [
      "                                                                                                                        \r"
     ]
    },
    {
     "name": "stdout",
     "output_type": "stream",
     "text": [
      "Epoch 3/20\n",
      "  Train Loss: 0.4594\n",
      "  SAE Train Loss (hidden one): 0.3944\n",
      "  SAE Train Loss (hidden two): 0.0771\n",
      "  Val Loss: 0.4595 | Val Acc: 86.95%\n",
      "  Saved model with Val Acc: 86.95%\n"
     ]
    },
    {
     "name": "stderr",
     "output_type": "stream",
     "text": [
      "                                                                                                                        \r"
     ]
    },
    {
     "name": "stdout",
     "output_type": "stream",
     "text": [
      "Epoch 4/20\n",
      "  Train Loss: 0.4287\n",
      "  SAE Train Loss (hidden one): 0.4082\n",
      "  SAE Train Loss (hidden two): 0.0662\n",
      "  Val Loss: 0.4136 | Val Acc: 87.99%\n",
      "  Saved model with Val Acc: 87.99%\n"
     ]
    },
    {
     "name": "stderr",
     "output_type": "stream",
     "text": [
      "                                                                                                                        \r"
     ]
    },
    {
     "name": "stdout",
     "output_type": "stream",
     "text": [
      "Epoch 5/20\n",
      "  Train Loss: 0.4158\n",
      "  SAE Train Loss (hidden one): 0.4540\n",
      "  SAE Train Loss (hidden two): 0.0596\n",
      "  Val Loss: 0.4099 | Val Acc: 87.91%\n"
     ]
    },
    {
     "name": "stderr",
     "output_type": "stream",
     "text": [
      "                                                                                                                        \r"
     ]
    },
    {
     "name": "stdout",
     "output_type": "stream",
     "text": [
      "Epoch 6/20\n",
      "  Train Loss: 0.4069\n",
      "  SAE Train Loss (hidden one): 0.4232\n",
      "  SAE Train Loss (hidden two): 0.0554\n",
      "  Val Loss: 0.4100 | Val Acc: 88.07%\n",
      "  Saved model with Val Acc: 88.07%\n"
     ]
    },
    {
     "name": "stderr",
     "output_type": "stream",
     "text": [
      "                                                                                                                        \r"
     ]
    },
    {
     "name": "stdout",
     "output_type": "stream",
     "text": [
      "Epoch 7/20\n",
      "  Train Loss: 0.3987\n",
      "  SAE Train Loss (hidden one): 0.4155\n",
      "  SAE Train Loss (hidden two): 0.0507\n",
      "  Val Loss: 0.4490 | Val Acc: 86.93%\n"
     ]
    },
    {
     "name": "stderr",
     "output_type": "stream",
     "text": [
      "                                                                                                                        \r"
     ]
    },
    {
     "name": "stdout",
     "output_type": "stream",
     "text": [
      "Epoch 8/20\n",
      "  Train Loss: 0.3916\n",
      "  SAE Train Loss (hidden one): 0.4676\n",
      "  SAE Train Loss (hidden two): 0.0504\n",
      "  Val Loss: 0.3924 | Val Acc: 88.62%\n",
      "  Saved model with Val Acc: 88.62%\n"
     ]
    },
    {
     "name": "stderr",
     "output_type": "stream",
     "text": [
      "                                                                                                                        \r"
     ]
    },
    {
     "name": "stdout",
     "output_type": "stream",
     "text": [
      "Epoch 9/20\n",
      "  Train Loss: 0.3832\n",
      "  SAE Train Loss (hidden one): 0.4363\n",
      "  SAE Train Loss (hidden two): 0.0468\n",
      "  Val Loss: 0.4015 | Val Acc: 88.24%\n"
     ]
    },
    {
     "name": "stderr",
     "output_type": "stream",
     "text": [
      "                                                                                                                        \r"
     ]
    },
    {
     "name": "stdout",
     "output_type": "stream",
     "text": [
      "Epoch 10/20\n",
      "  Train Loss: 0.3781\n",
      "  SAE Train Loss (hidden one): 0.4193\n",
      "  SAE Train Loss (hidden two): 0.0438\n",
      "  Val Loss: 0.4220 | Val Acc: 87.62%\n"
     ]
    },
    {
     "name": "stderr",
     "output_type": "stream",
     "text": [
      "                                                                                                                        \r"
     ]
    },
    {
     "name": "stdout",
     "output_type": "stream",
     "text": [
      "Epoch 11/20\n",
      "  Train Loss: 0.3720\n",
      "  SAE Train Loss (hidden one): 0.4727\n",
      "  SAE Train Loss (hidden two): 0.0441\n",
      "  Val Loss: 0.3852 | Val Acc: 88.89%\n",
      "  Saved model with Val Acc: 88.89%\n"
     ]
    },
    {
     "name": "stderr",
     "output_type": "stream",
     "text": [
      "                                                                                                                        \r"
     ]
    },
    {
     "name": "stdout",
     "output_type": "stream",
     "text": [
      "Epoch 12/20\n",
      "  Train Loss: 0.3678\n",
      "  SAE Train Loss (hidden one): 0.4561\n",
      "  SAE Train Loss (hidden two): 0.0427\n",
      "  Val Loss: 0.3994 | Val Acc: 88.43%\n"
     ]
    },
    {
     "name": "stderr",
     "output_type": "stream",
     "text": [
      "                                                                                                                        \r"
     ]
    },
    {
     "name": "stdout",
     "output_type": "stream",
     "text": [
      "Epoch 13/20\n",
      "  Train Loss: 0.3646\n",
      "  SAE Train Loss (hidden one): 0.4863\n",
      "  SAE Train Loss (hidden two): 0.0417\n",
      "  Val Loss: 0.3816 | Val Acc: 88.91%\n",
      "  Saved model with Val Acc: 88.91%\n"
     ]
    },
    {
     "name": "stderr",
     "output_type": "stream",
     "text": [
      "                                                                                                                        \r"
     ]
    },
    {
     "name": "stdout",
     "output_type": "stream",
     "text": [
      "Epoch 14/20\n",
      "  Train Loss: 0.3602\n",
      "  SAE Train Loss (hidden one): 0.4002\n",
      "  SAE Train Loss (hidden two): 0.0391\n",
      "  Val Loss: 0.4105 | Val Acc: 87.83%\n"
     ]
    },
    {
     "name": "stderr",
     "output_type": "stream",
     "text": [
      "                                                                                                                        \r"
     ]
    },
    {
     "name": "stdout",
     "output_type": "stream",
     "text": [
      "Epoch 15/20\n",
      "  Train Loss: 0.3589\n",
      "  SAE Train Loss (hidden one): 0.4597\n",
      "  SAE Train Loss (hidden two): 0.0394\n",
      "  Val Loss: 0.3976 | Val Acc: 88.58%\n"
     ]
    },
    {
     "name": "stderr",
     "output_type": "stream",
     "text": [
      "                                                                                                                        \r"
     ]
    },
    {
     "name": "stdout",
     "output_type": "stream",
     "text": [
      "Epoch 16/20\n",
      "  Train Loss: 0.3560\n",
      "  SAE Train Loss (hidden one): 0.4542\n",
      "  SAE Train Loss (hidden two): 0.0378\n",
      "  Val Loss: 0.3776 | Val Acc: 89.09%\n",
      "  Saved model with Val Acc: 89.09%\n"
     ]
    },
    {
     "name": "stderr",
     "output_type": "stream",
     "text": [
      "                                                                                                                        \r"
     ]
    },
    {
     "name": "stdout",
     "output_type": "stream",
     "text": [
      "Epoch 17/20\n",
      "  Train Loss: 0.3539\n",
      "  SAE Train Loss (hidden one): 0.4597\n",
      "  SAE Train Loss (hidden two): 0.0366\n",
      "  Val Loss: 0.3678 | Val Acc: 89.39%\n",
      "  Saved model with Val Acc: 89.39%\n"
     ]
    },
    {
     "name": "stderr",
     "output_type": "stream",
     "text": [
      "                                                                                                                        \r"
     ]
    },
    {
     "name": "stdout",
     "output_type": "stream",
     "text": [
      "Epoch 18/20\n",
      "  Train Loss: 0.3489\n",
      "  SAE Train Loss (hidden one): 0.4673\n",
      "  SAE Train Loss (hidden two): 0.0356\n",
      "  Val Loss: 0.3731 | Val Acc: 89.29%\n"
     ]
    },
    {
     "name": "stderr",
     "output_type": "stream",
     "text": [
      "                                                                                                                        \r"
     ]
    },
    {
     "name": "stdout",
     "output_type": "stream",
     "text": [
      "Epoch 19/20\n",
      "  Train Loss: 0.3526\n",
      "  SAE Train Loss (hidden one): 0.4887\n",
      "  SAE Train Loss (hidden two): 0.0384\n",
      "  Val Loss: 0.3739 | Val Acc: 89.19%\n"
     ]
    },
    {
     "name": "stderr",
     "output_type": "stream",
     "text": [
      "                                                                                                                        \r"
     ]
    },
    {
     "name": "stdout",
     "output_type": "stream",
     "text": [
      "Epoch 20/20\n",
      "  Train Loss: 0.3479\n",
      "  SAE Train Loss (hidden one): 0.5603\n",
      "  SAE Train Loss (hidden two): 0.0358\n",
      "  Val Loss: 0.3852 | Val Acc: 88.85%\n"
     ]
    },
    {
     "name": "stderr",
     "output_type": "stream",
     "text": [
      "Evaluation: 100%|██████████████████████████████████████████████████████████████████████| 79/79 [00:00<00:00, 256.11it/s]\n"
     ]
    },
    {
     "name": "stdout",
     "output_type": "stream",
     "text": [
      "Final Test Accuracy: 89.66%\n",
      "Average Reconstruction Error (Hidden One): 0.1129\n",
      "Average Reconstruction Error (Hidden Two): 0.0107\n",
      "Average Non-Zero Features per Image (Hidden One): 31.22\n",
      "Average Non-Zero Features per Image (Hidden Two): 31.99\n"
     ]
    },
    {
     "name": "stderr",
     "output_type": "stream",
     "text": [
      "/home/alex/.local/lib/python3.10/site-packages/sklearn/linear_model/_logistic.py:469: ConvergenceWarning: lbfgs failed to converge (status=1):\n",
      "STOP: TOTAL NO. of ITERATIONS REACHED LIMIT.\n",
      "\n",
      "Increase the number of iterations (max_iter) or scale the data as shown in:\n",
      "    https://scikit-learn.org/stable/modules/preprocessing.html\n",
      "Please also refer to the documentation for alternative solver options:\n",
      "    https://scikit-learn.org/stable/modules/linear_model.html#logistic-regression\n",
      "  n_iter_i = _check_optimize_result(\n"
     ]
    },
    {
     "name": "stdout",
     "output_type": "stream",
     "text": [
      "Linear Probe Accuracy (Hidden One): 88.25%\n"
     ]
    },
    {
     "name": "stderr",
     "output_type": "stream",
     "text": [
      "/home/alex/.local/lib/python3.10/site-packages/sklearn/linear_model/_logistic.py:469: ConvergenceWarning: lbfgs failed to converge (status=1):\n",
      "STOP: TOTAL NO. of ITERATIONS REACHED LIMIT.\n",
      "\n",
      "Increase the number of iterations (max_iter) or scale the data as shown in:\n",
      "    https://scikit-learn.org/stable/modules/preprocessing.html\n",
      "Please also refer to the documentation for alternative solver options:\n",
      "    https://scikit-learn.org/stable/modules/linear_model.html#logistic-regression\n",
      "  n_iter_i = _check_optimize_result(\n"
     ]
    },
    {
     "name": "stdout",
     "output_type": "stream",
     "text": [
      "Linear Probe Accuracy (Hidden Two): 86.77%\n",
      "\n",
      "##################################################\n",
      "Loss factor: 0.012\n",
      "\n",
      "\n"
     ]
    },
    {
     "name": "stderr",
     "output_type": "stream",
     "text": [
      "                                                                                                                        \r"
     ]
    },
    {
     "name": "stdout",
     "output_type": "stream",
     "text": [
      "Epoch 1/20\n",
      "  Train Loss: 1.0786\n",
      "  SAE Train Loss (hidden one): 8.3583\n",
      "  SAE Train Loss (hidden two): 1.1252\n",
      "  Val Loss: 0.6813 | Val Acc: 81.31%\n",
      "  Saved model with Val Acc: 81.31%\n"
     ]
    },
    {
     "name": "stderr",
     "output_type": "stream",
     "text": [
      "                                                                                                                        \r"
     ]
    },
    {
     "name": "stdout",
     "output_type": "stream",
     "text": [
      "Epoch 2/20\n",
      "  Train Loss: 0.5868\n",
      "  SAE Train Loss (hidden one): 0.4496\n",
      "  SAE Train Loss (hidden two): 0.0818\n",
      "  Val Loss: 0.5208 | Val Acc: 84.14%\n",
      "  Saved model with Val Acc: 84.14%\n"
     ]
    },
    {
     "name": "stderr",
     "output_type": "stream",
     "text": [
      "                                                                                                                        \r"
     ]
    },
    {
     "name": "stdout",
     "output_type": "stream",
     "text": [
      "Epoch 3/20\n",
      "  Train Loss: 0.4558\n",
      "  SAE Train Loss (hidden one): 0.4368\n",
      "  SAE Train Loss (hidden two): 0.0745\n",
      "  Val Loss: 0.4391 | Val Acc: 87.24%\n",
      "  Saved model with Val Acc: 87.24%\n"
     ]
    },
    {
     "name": "stderr",
     "output_type": "stream",
     "text": [
      "                                                                                                                        \r"
     ]
    },
    {
     "name": "stdout",
     "output_type": "stream",
     "text": [
      "Epoch 4/20\n",
      "  Train Loss: 0.4173\n",
      "  SAE Train Loss (hidden one): 0.4315\n",
      "  SAE Train Loss (hidden two): 0.0649\n",
      "  Val Loss: 0.3941 | Val Acc: 88.34%\n",
      "  Saved model with Val Acc: 88.34%\n"
     ]
    },
    {
     "name": "stderr",
     "output_type": "stream",
     "text": [
      "                                                                                                                        \r"
     ]
    },
    {
     "name": "stdout",
     "output_type": "stream",
     "text": [
      "Epoch 5/20\n",
      "  Train Loss: 0.4005\n",
      "  SAE Train Loss (hidden one): 0.4493\n",
      "  SAE Train Loss (hidden two): 0.0621\n",
      "  Val Loss: 0.4117 | Val Acc: 87.74%\n"
     ]
    },
    {
     "name": "stderr",
     "output_type": "stream",
     "text": [
      "                                                                                                                        \r"
     ]
    },
    {
     "name": "stdout",
     "output_type": "stream",
     "text": [
      "Epoch 6/20\n",
      "  Train Loss: 0.3833\n",
      "  SAE Train Loss (hidden one): 0.4615\n",
      "  SAE Train Loss (hidden two): 0.0569\n",
      "  Val Loss: 0.3748 | Val Acc: 88.65%\n",
      "  Saved model with Val Acc: 88.65%\n"
     ]
    },
    {
     "name": "stderr",
     "output_type": "stream",
     "text": [
      "                                                                                                                        \r"
     ]
    },
    {
     "name": "stdout",
     "output_type": "stream",
     "text": [
      "Epoch 7/20\n",
      "  Train Loss: 0.3749\n",
      "  SAE Train Loss (hidden one): 0.4688\n",
      "  SAE Train Loss (hidden two): 0.0533\n",
      "  Val Loss: 0.3809 | Val Acc: 88.73%\n",
      "  Saved model with Val Acc: 88.73%\n"
     ]
    },
    {
     "name": "stderr",
     "output_type": "stream",
     "text": [
      "                                                                                                                        \r"
     ]
    },
    {
     "name": "stdout",
     "output_type": "stream",
     "text": [
      "Epoch 8/20\n",
      "  Train Loss: 0.3659\n",
      "  SAE Train Loss (hidden one): 0.4747\n",
      "  SAE Train Loss (hidden two): 0.0516\n",
      "  Val Loss: 0.3822 | Val Acc: 88.66%\n"
     ]
    },
    {
     "name": "stderr",
     "output_type": "stream",
     "text": [
      "                                                                                                                        \r"
     ]
    },
    {
     "name": "stdout",
     "output_type": "stream",
     "text": [
      "Epoch 9/20\n",
      "  Train Loss: 0.3570\n",
      "  SAE Train Loss (hidden one): 0.4920\n",
      "  SAE Train Loss (hidden two): 0.0511\n",
      "  Val Loss: 0.3810 | Val Acc: 88.85%\n",
      "  Saved model with Val Acc: 88.85%\n"
     ]
    },
    {
     "name": "stderr",
     "output_type": "stream",
     "text": [
      "                                                                                                                        \r"
     ]
    },
    {
     "name": "stdout",
     "output_type": "stream",
     "text": [
      "Epoch 10/20\n",
      "  Train Loss: 0.3538\n",
      "  SAE Train Loss (hidden one): 0.4704\n",
      "  SAE Train Loss (hidden two): 0.0486\n",
      "  Val Loss: 0.3735 | Val Acc: 88.88%\n",
      "  Saved model with Val Acc: 88.88%\n"
     ]
    },
    {
     "name": "stderr",
     "output_type": "stream",
     "text": [
      "                                                                                                                        \r"
     ]
    },
    {
     "name": "stdout",
     "output_type": "stream",
     "text": [
      "Epoch 11/20\n",
      "  Train Loss: 0.3509\n",
      "  SAE Train Loss (hidden one): 0.5246\n",
      "  SAE Train Loss (hidden two): 0.0475\n",
      "  Val Loss: 0.3718 | Val Acc: 89.09%\n",
      "  Saved model with Val Acc: 89.09%\n"
     ]
    },
    {
     "name": "stderr",
     "output_type": "stream",
     "text": [
      "                                                                                                                        \r"
     ]
    },
    {
     "name": "stdout",
     "output_type": "stream",
     "text": [
      "Epoch 12/20\n",
      "  Train Loss: 0.3446\n",
      "  SAE Train Loss (hidden one): 0.5068\n",
      "  SAE Train Loss (hidden two): 0.0450\n",
      "  Val Loss: 0.3539 | Val Acc: 89.58%\n",
      "  Saved model with Val Acc: 89.58%\n"
     ]
    },
    {
     "name": "stderr",
     "output_type": "stream",
     "text": [
      "                                                                                                                        \r"
     ]
    },
    {
     "name": "stdout",
     "output_type": "stream",
     "text": [
      "Epoch 13/20\n",
      "  Train Loss: 0.3438\n",
      "  SAE Train Loss (hidden one): 0.5261\n",
      "  SAE Train Loss (hidden two): 0.0451\n",
      "  Val Loss: 0.3672 | Val Acc: 89.26%\n"
     ]
    },
    {
     "name": "stderr",
     "output_type": "stream",
     "text": [
      "                                                                                                                        \r"
     ]
    },
    {
     "name": "stdout",
     "output_type": "stream",
     "text": [
      "Epoch 14/20\n",
      "  Train Loss: 0.3393\n",
      "  SAE Train Loss (hidden one): 0.5007\n",
      "  SAE Train Loss (hidden two): 0.0434\n",
      "  Val Loss: 0.3679 | Val Acc: 89.39%\n"
     ]
    },
    {
     "name": "stderr",
     "output_type": "stream",
     "text": [
      "                                                                                                                        \r"
     ]
    },
    {
     "name": "stdout",
     "output_type": "stream",
     "text": [
      "Epoch 15/20\n",
      "  Train Loss: 0.3357\n",
      "  SAE Train Loss (hidden one): 0.4911\n",
      "  SAE Train Loss (hidden two): 0.0427\n",
      "  Val Loss: 0.3598 | Val Acc: 89.37%\n"
     ]
    },
    {
     "name": "stderr",
     "output_type": "stream",
     "text": [
      "                                                                                                                        \r"
     ]
    },
    {
     "name": "stdout",
     "output_type": "stream",
     "text": [
      "Epoch 16/20\n",
      "  Train Loss: 0.3337\n",
      "  SAE Train Loss (hidden one): 0.6572\n",
      "  SAE Train Loss (hidden two): 0.0441\n",
      "  Val Loss: 0.3487 | Val Acc: 89.59%\n",
      "  Saved model with Val Acc: 89.59%\n"
     ]
    },
    {
     "name": "stderr",
     "output_type": "stream",
     "text": [
      "                                                                                                                        \r"
     ]
    },
    {
     "name": "stdout",
     "output_type": "stream",
     "text": [
      "Epoch 17/20\n",
      "  Train Loss: 0.3308\n",
      "  SAE Train Loss (hidden one): 0.4868\n",
      "  SAE Train Loss (hidden two): 0.0404\n",
      "  Val Loss: 0.3588 | Val Acc: 89.38%\n"
     ]
    },
    {
     "name": "stderr",
     "output_type": "stream",
     "text": [
      "                                                                                                                        \r"
     ]
    },
    {
     "name": "stdout",
     "output_type": "stream",
     "text": [
      "Epoch 18/20\n",
      "  Train Loss: 0.3280\n",
      "  SAE Train Loss (hidden one): 0.5734\n",
      "  SAE Train Loss (hidden two): 0.0412\n",
      "  Val Loss: 0.3506 | Val Acc: 89.69%\n",
      "  Saved model with Val Acc: 89.69%\n"
     ]
    },
    {
     "name": "stderr",
     "output_type": "stream",
     "text": [
      "                                                                                                                        \r"
     ]
    },
    {
     "name": "stdout",
     "output_type": "stream",
     "text": [
      "Epoch 19/20\n",
      "  Train Loss: 0.3266\n",
      "  SAE Train Loss (hidden one): 0.6477\n",
      "  SAE Train Loss (hidden two): 0.0401\n",
      "  Val Loss: 0.3501 | Val Acc: 89.42%\n"
     ]
    },
    {
     "name": "stderr",
     "output_type": "stream",
     "text": [
      "                                                                                                                        \r"
     ]
    },
    {
     "name": "stdout",
     "output_type": "stream",
     "text": [
      "Epoch 20/20\n",
      "  Train Loss: 0.3236\n",
      "  SAE Train Loss (hidden one): 0.4670\n",
      "  SAE Train Loss (hidden two): 0.0388\n",
      "  Val Loss: 0.3582 | Val Acc: 89.18%\n"
     ]
    },
    {
     "name": "stderr",
     "output_type": "stream",
     "text": [
      "Evaluation: 100%|██████████████████████████████████████████████████████████████████████| 79/79 [00:00<00:00, 269.36it/s]\n"
     ]
    },
    {
     "name": "stdout",
     "output_type": "stream",
     "text": [
      "Final Test Accuracy: 89.96%\n",
      "Average Reconstruction Error (Hidden One): 2.2206\n",
      "Average Reconstruction Error (Hidden Two): 0.0100\n",
      "Average Non-Zero Features per Image (Hidden One): 31.70\n",
      "Average Non-Zero Features per Image (Hidden Two): 31.65\n"
     ]
    },
    {
     "name": "stderr",
     "output_type": "stream",
     "text": [
      "/home/alex/.local/lib/python3.10/site-packages/sklearn/linear_model/_logistic.py:469: ConvergenceWarning: lbfgs failed to converge (status=1):\n",
      "STOP: TOTAL NO. of ITERATIONS REACHED LIMIT.\n",
      "\n",
      "Increase the number of iterations (max_iter) or scale the data as shown in:\n",
      "    https://scikit-learn.org/stable/modules/preprocessing.html\n",
      "Please also refer to the documentation for alternative solver options:\n",
      "    https://scikit-learn.org/stable/modules/linear_model.html#logistic-regression\n",
      "  n_iter_i = _check_optimize_result(\n"
     ]
    },
    {
     "name": "stdout",
     "output_type": "stream",
     "text": [
      "Linear Probe Accuracy (Hidden One): 89.50%\n"
     ]
    },
    {
     "name": "stderr",
     "output_type": "stream",
     "text": [
      "/home/alex/.local/lib/python3.10/site-packages/sklearn/linear_model/_logistic.py:469: ConvergenceWarning: lbfgs failed to converge (status=1):\n",
      "STOP: TOTAL NO. of ITERATIONS REACHED LIMIT.\n",
      "\n",
      "Increase the number of iterations (max_iter) or scale the data as shown in:\n",
      "    https://scikit-learn.org/stable/modules/preprocessing.html\n",
      "Please also refer to the documentation for alternative solver options:\n",
      "    https://scikit-learn.org/stable/modules/linear_model.html#logistic-regression\n",
      "  n_iter_i = _check_optimize_result(\n"
     ]
    },
    {
     "name": "stdout",
     "output_type": "stream",
     "text": [
      "Linear Probe Accuracy (Hidden Two): 89.29%\n",
      "\n",
      "##################################################\n",
      "Loss factor: 0.013000000000000001\n",
      "\n",
      "\n"
     ]
    },
    {
     "name": "stderr",
     "output_type": "stream",
     "text": [
      "                                                                                                                        \r"
     ]
    },
    {
     "name": "stdout",
     "output_type": "stream",
     "text": [
      "Epoch 1/20\n",
      "  Train Loss: 1.0784\n",
      "  SAE Train Loss (hidden one): 8.4361\n",
      "  SAE Train Loss (hidden two): 1.1508\n",
      "  Val Loss: 0.6820 | Val Acc: 82.45%\n",
      "  Saved model with Val Acc: 82.45%\n"
     ]
    },
    {
     "name": "stderr",
     "output_type": "stream",
     "text": [
      "                                                                                                                        \r"
     ]
    },
    {
     "name": "stdout",
     "output_type": "stream",
     "text": [
      "Epoch 2/20\n",
      "  Train Loss: 0.5539\n",
      "  SAE Train Loss (hidden one): 0.3785\n",
      "  SAE Train Loss (hidden two): 0.0849\n",
      "  Val Loss: 0.4925 | Val Acc: 85.95%\n",
      "  Saved model with Val Acc: 85.95%\n"
     ]
    },
    {
     "name": "stderr",
     "output_type": "stream",
     "text": [
      "                                                                                                                        \r"
     ]
    },
    {
     "name": "stdout",
     "output_type": "stream",
     "text": [
      "Epoch 3/20\n",
      "  Train Loss: 0.4631\n",
      "  SAE Train Loss (hidden one): 0.3950\n",
      "  SAE Train Loss (hidden two): 0.0730\n",
      "  Val Loss: 0.4935 | Val Acc: 85.64%\n"
     ]
    },
    {
     "name": "stderr",
     "output_type": "stream",
     "text": [
      "                                                                                                                        \r"
     ]
    },
    {
     "name": "stdout",
     "output_type": "stream",
     "text": [
      "Epoch 4/20\n",
      "  Train Loss: 0.4351\n",
      "  SAE Train Loss (hidden one): 0.4341\n",
      "  SAE Train Loss (hidden two): 0.0660\n",
      "  Val Loss: 0.4310 | Val Acc: 87.22%\n",
      "  Saved model with Val Acc: 87.22%\n"
     ]
    },
    {
     "name": "stderr",
     "output_type": "stream",
     "text": [
      "                                                                                                                        \r"
     ]
    },
    {
     "name": "stdout",
     "output_type": "stream",
     "text": [
      "Epoch 5/20\n",
      "  Train Loss: 0.4128\n",
      "  SAE Train Loss (hidden one): 0.4931\n",
      "  SAE Train Loss (hidden two): 0.0618\n",
      "  Val Loss: 0.4137 | Val Acc: 87.99%\n",
      "  Saved model with Val Acc: 87.99%\n"
     ]
    },
    {
     "name": "stderr",
     "output_type": "stream",
     "text": [
      "                                                                                                                        \r"
     ]
    },
    {
     "name": "stdout",
     "output_type": "stream",
     "text": [
      "Epoch 6/20\n",
      "  Train Loss: 0.4007\n",
      "  SAE Train Loss (hidden one): 0.4309\n",
      "  SAE Train Loss (hidden two): 0.0568\n",
      "  Val Loss: 0.3905 | Val Acc: 88.60%\n",
      "  Saved model with Val Acc: 88.60%\n"
     ]
    },
    {
     "name": "stderr",
     "output_type": "stream",
     "text": [
      "                                                                                                                        \r"
     ]
    },
    {
     "name": "stdout",
     "output_type": "stream",
     "text": [
      "Epoch 7/20\n",
      "  Train Loss: 0.3940\n",
      "  SAE Train Loss (hidden one): 0.3782\n",
      "  SAE Train Loss (hidden two): 0.0527\n",
      "  Val Loss: 0.4228 | Val Acc: 87.94%\n"
     ]
    },
    {
     "name": "stderr",
     "output_type": "stream",
     "text": [
      "                                                                                                                        \r"
     ]
    },
    {
     "name": "stdout",
     "output_type": "stream",
     "text": [
      "Epoch 8/20\n",
      "  Train Loss: 0.3887\n",
      "  SAE Train Loss (hidden one): 0.4465\n",
      "  SAE Train Loss (hidden two): 0.0519\n",
      "  Val Loss: 0.3999 | Val Acc: 88.26%\n"
     ]
    },
    {
     "name": "stderr",
     "output_type": "stream",
     "text": [
      "                                                                                                                        \r"
     ]
    },
    {
     "name": "stdout",
     "output_type": "stream",
     "text": [
      "Epoch 9/20\n",
      "  Train Loss: 0.3815\n",
      "  SAE Train Loss (hidden one): 0.4123\n",
      "  SAE Train Loss (hidden two): 0.0480\n",
      "  Val Loss: 0.4106 | Val Acc: 88.09%\n"
     ]
    },
    {
     "name": "stderr",
     "output_type": "stream",
     "text": [
      "                                                                                                                        \r"
     ]
    },
    {
     "name": "stdout",
     "output_type": "stream",
     "text": [
      "Epoch 10/20\n",
      "  Train Loss: 0.3781\n",
      "  SAE Train Loss (hidden one): 0.3927\n",
      "  SAE Train Loss (hidden two): 0.0458\n",
      "  Val Loss: 0.3976 | Val Acc: 88.51%\n"
     ]
    },
    {
     "name": "stderr",
     "output_type": "stream",
     "text": [
      "                                                                                                                        \r"
     ]
    },
    {
     "name": "stdout",
     "output_type": "stream",
     "text": [
      "Epoch 11/20\n",
      "  Train Loss: 0.3741\n",
      "  SAE Train Loss (hidden one): 0.4599\n",
      "  SAE Train Loss (hidden two): 0.0447\n",
      "  Val Loss: 0.3921 | Val Acc: 88.68%\n",
      "  Saved model with Val Acc: 88.68%\n"
     ]
    },
    {
     "name": "stderr",
     "output_type": "stream",
     "text": [
      "                                                                                                                        \r"
     ]
    },
    {
     "name": "stdout",
     "output_type": "stream",
     "text": [
      "Epoch 12/20\n",
      "  Train Loss: 0.3682\n",
      "  SAE Train Loss (hidden one): 0.4208\n",
      "  SAE Train Loss (hidden two): 0.0439\n",
      "  Val Loss: 0.3948 | Val Acc: 88.47%\n"
     ]
    },
    {
     "name": "stderr",
     "output_type": "stream",
     "text": [
      "                                                                                                                        \r"
     ]
    },
    {
     "name": "stdout",
     "output_type": "stream",
     "text": [
      "Epoch 13/20\n",
      "  Train Loss: 0.3672\n",
      "  SAE Train Loss (hidden one): 0.4979\n",
      "  SAE Train Loss (hidden two): 0.0438\n",
      "  Val Loss: 0.3856 | Val Acc: 88.80%\n",
      "  Saved model with Val Acc: 88.80%\n"
     ]
    },
    {
     "name": "stderr",
     "output_type": "stream",
     "text": [
      "                                                                                                                        \r"
     ]
    },
    {
     "name": "stdout",
     "output_type": "stream",
     "text": [
      "Epoch 14/20\n",
      "  Train Loss: 0.3626\n",
      "  SAE Train Loss (hidden one): 0.4406\n",
      "  SAE Train Loss (hidden two): 0.0418\n",
      "  Val Loss: 0.3788 | Val Acc: 88.95%\n",
      "  Saved model with Val Acc: 88.95%\n"
     ]
    },
    {
     "name": "stderr",
     "output_type": "stream",
     "text": [
      "                                                                                                                        \r"
     ]
    },
    {
     "name": "stdout",
     "output_type": "stream",
     "text": [
      "Epoch 15/20\n",
      "  Train Loss: 0.3595\n",
      "  SAE Train Loss (hidden one): 0.3886\n",
      "  SAE Train Loss (hidden two): 0.0417\n",
      "  Val Loss: 0.3909 | Val Acc: 88.67%\n"
     ]
    },
    {
     "name": "stderr",
     "output_type": "stream",
     "text": [
      "                                                                                                                        \r"
     ]
    },
    {
     "name": "stdout",
     "output_type": "stream",
     "text": [
      "Epoch 16/20\n",
      "  Train Loss: 0.3556\n",
      "  SAE Train Loss (hidden one): 0.4417\n",
      "  SAE Train Loss (hidden two): 0.0403\n",
      "  Val Loss: 0.3773 | Val Acc: 89.21%\n",
      "  Saved model with Val Acc: 89.21%\n"
     ]
    },
    {
     "name": "stderr",
     "output_type": "stream",
     "text": [
      "                                                                                                                        \r"
     ]
    },
    {
     "name": "stdout",
     "output_type": "stream",
     "text": [
      "Epoch 17/20\n",
      "  Train Loss: 0.3527\n",
      "  SAE Train Loss (hidden one): 0.4901\n",
      "  SAE Train Loss (hidden two): 0.0397\n",
      "  Val Loss: 0.3760 | Val Acc: 89.06%\n"
     ]
    },
    {
     "name": "stderr",
     "output_type": "stream",
     "text": [
      "                                                                                                                        \r"
     ]
    },
    {
     "name": "stdout",
     "output_type": "stream",
     "text": [
      "Epoch 18/20\n",
      "  Train Loss: 0.3522\n",
      "  SAE Train Loss (hidden one): 0.4290\n",
      "  SAE Train Loss (hidden two): 0.0374\n",
      "  Val Loss: 0.3665 | Val Acc: 89.59%\n",
      "  Saved model with Val Acc: 89.59%\n"
     ]
    },
    {
     "name": "stderr",
     "output_type": "stream",
     "text": [
      "                                                                                                                        \r"
     ]
    },
    {
     "name": "stdout",
     "output_type": "stream",
     "text": [
      "Epoch 19/20\n",
      "  Train Loss: 0.3515\n",
      "  SAE Train Loss (hidden one): 0.4977\n",
      "  SAE Train Loss (hidden two): 0.0383\n",
      "  Val Loss: 0.3859 | Val Acc: 88.83%\n"
     ]
    },
    {
     "name": "stderr",
     "output_type": "stream",
     "text": [
      "                                                                                                                        \r"
     ]
    },
    {
     "name": "stdout",
     "output_type": "stream",
     "text": [
      "Epoch 20/20\n",
      "  Train Loss: 0.3485\n",
      "  SAE Train Loss (hidden one): 0.4143\n",
      "  SAE Train Loss (hidden two): 0.0387\n",
      "  Val Loss: 0.3923 | Val Acc: 88.85%\n"
     ]
    },
    {
     "name": "stderr",
     "output_type": "stream",
     "text": [
      "Evaluation: 100%|██████████████████████████████████████████████████████████████████████| 79/79 [00:00<00:00, 267.63it/s]"
     ]
    },
    {
     "name": "stdout",
     "output_type": "stream",
     "text": [
      "Final Test Accuracy: 89.69%\n",
      "Average Reconstruction Error (Hidden One): 0.0821\n",
      "Average Reconstruction Error (Hidden Two): 0.0213\n",
      "Average Non-Zero Features per Image (Hidden One): 31.40\n",
      "Average Non-Zero Features per Image (Hidden Two): 31.42\n"
     ]
    },
    {
     "name": "stderr",
     "output_type": "stream",
     "text": [
      "\n",
      "/home/alex/.local/lib/python3.10/site-packages/sklearn/linear_model/_logistic.py:469: ConvergenceWarning: lbfgs failed to converge (status=1):\n",
      "STOP: TOTAL NO. of ITERATIONS REACHED LIMIT.\n",
      "\n",
      "Increase the number of iterations (max_iter) or scale the data as shown in:\n",
      "    https://scikit-learn.org/stable/modules/preprocessing.html\n",
      "Please also refer to the documentation for alternative solver options:\n",
      "    https://scikit-learn.org/stable/modules/linear_model.html#logistic-regression\n",
      "  n_iter_i = _check_optimize_result(\n"
     ]
    },
    {
     "name": "stdout",
     "output_type": "stream",
     "text": [
      "Linear Probe Accuracy (Hidden One): 89.40%\n"
     ]
    },
    {
     "name": "stderr",
     "output_type": "stream",
     "text": [
      "/home/alex/.local/lib/python3.10/site-packages/sklearn/linear_model/_logistic.py:469: ConvergenceWarning: lbfgs failed to converge (status=1):\n",
      "STOP: TOTAL NO. of ITERATIONS REACHED LIMIT.\n",
      "\n",
      "Increase the number of iterations (max_iter) or scale the data as shown in:\n",
      "    https://scikit-learn.org/stable/modules/preprocessing.html\n",
      "Please also refer to the documentation for alternative solver options:\n",
      "    https://scikit-learn.org/stable/modules/linear_model.html#logistic-regression\n",
      "  n_iter_i = _check_optimize_result(\n"
     ]
    },
    {
     "name": "stdout",
     "output_type": "stream",
     "text": [
      "Linear Probe Accuracy (Hidden Two): 87.71%\n",
      "\n",
      "##################################################\n",
      "Loss factor: 0.014000000000000002\n",
      "\n",
      "\n"
     ]
    },
    {
     "name": "stderr",
     "output_type": "stream",
     "text": [
      "                                                                                                                        \r"
     ]
    },
    {
     "name": "stdout",
     "output_type": "stream",
     "text": [
      "Epoch 1/20\n",
      "  Train Loss: 1.0735\n",
      "  SAE Train Loss (hidden one): 8.3789\n",
      "  SAE Train Loss (hidden two): 1.1355\n",
      "  Val Loss: 0.6889 | Val Acc: 81.42%\n",
      "  Saved model with Val Acc: 81.42%\n"
     ]
    },
    {
     "name": "stderr",
     "output_type": "stream",
     "text": [
      "                                                                                                                        \r"
     ]
    },
    {
     "name": "stdout",
     "output_type": "stream",
     "text": [
      "Epoch 2/20\n",
      "  Train Loss: 0.5676\n",
      "  SAE Train Loss (hidden one): 0.3957\n",
      "  SAE Train Loss (hidden two): 0.0827\n",
      "  Val Loss: 0.4703 | Val Acc: 86.76%\n",
      "  Saved model with Val Acc: 86.76%\n"
     ]
    },
    {
     "name": "stderr",
     "output_type": "stream",
     "text": [
      "                                                                                                                        \r"
     ]
    },
    {
     "name": "stdout",
     "output_type": "stream",
     "text": [
      "Epoch 3/20\n",
      "  Train Loss: 0.4600\n",
      "  SAE Train Loss (hidden one): 0.3672\n",
      "  SAE Train Loss (hidden two): 0.0703\n",
      "  Val Loss: 0.4460 | Val Acc: 87.49%\n",
      "  Saved model with Val Acc: 87.49%\n"
     ]
    },
    {
     "name": "stderr",
     "output_type": "stream",
     "text": [
      "                                                                                                                        \r"
     ]
    },
    {
     "name": "stdout",
     "output_type": "stream",
     "text": [
      "Epoch 4/20\n",
      "  Train Loss: 0.4284\n",
      "  SAE Train Loss (hidden one): 0.3831\n",
      "  SAE Train Loss (hidden two): 0.0642\n",
      "  Val Loss: 0.3940 | Val Acc: 88.92%\n",
      "  Saved model with Val Acc: 88.92%\n"
     ]
    },
    {
     "name": "stderr",
     "output_type": "stream",
     "text": [
      "                                                                                                                        \r"
     ]
    },
    {
     "name": "stdout",
     "output_type": "stream",
     "text": [
      "Epoch 5/20\n",
      "  Train Loss: 0.3994\n",
      "  SAE Train Loss (hidden one): 0.5546\n",
      "  SAE Train Loss (hidden two): 0.0695\n",
      "  Val Loss: 0.3937 | Val Acc: 88.73%\n"
     ]
    },
    {
     "name": "stderr",
     "output_type": "stream",
     "text": [
      "                                                                                                                        \r"
     ]
    },
    {
     "name": "stdout",
     "output_type": "stream",
     "text": [
      "Epoch 6/20\n",
      "  Train Loss: 0.3787\n",
      "  SAE Train Loss (hidden one): 0.5068\n",
      "  SAE Train Loss (hidden two): 0.0681\n",
      "  Val Loss: 0.3695 | Val Acc: 89.37%\n",
      "  Saved model with Val Acc: 89.37%\n"
     ]
    },
    {
     "name": "stderr",
     "output_type": "stream",
     "text": [
      "                                                                                                                        \r"
     ]
    },
    {
     "name": "stdout",
     "output_type": "stream",
     "text": [
      "Epoch 7/20\n",
      "  Train Loss: 0.3672\n",
      "  SAE Train Loss (hidden one): 0.4283\n",
      "  SAE Train Loss (hidden two): 0.0570\n",
      "  Val Loss: 0.3598 | Val Acc: 89.81%\n",
      "  Saved model with Val Acc: 89.81%\n"
     ]
    },
    {
     "name": "stderr",
     "output_type": "stream",
     "text": [
      "                                                                                                                        \r"
     ]
    },
    {
     "name": "stdout",
     "output_type": "stream",
     "text": [
      "Epoch 8/20\n",
      "  Train Loss: 0.3624\n",
      "  SAE Train Loss (hidden one): 0.4815\n",
      "  SAE Train Loss (hidden two): 0.0553\n",
      "  Val Loss: 0.3602 | Val Acc: 89.69%\n"
     ]
    },
    {
     "name": "stderr",
     "output_type": "stream",
     "text": [
      "                                                                                                                        \r"
     ]
    },
    {
     "name": "stdout",
     "output_type": "stream",
     "text": [
      "Epoch 9/20\n",
      "  Train Loss: 0.3507\n",
      "  SAE Train Loss (hidden one): 0.4558\n",
      "  SAE Train Loss (hidden two): 0.0513\n",
      "  Val Loss: 0.3790 | Val Acc: 88.46%\n"
     ]
    },
    {
     "name": "stderr",
     "output_type": "stream",
     "text": [
      "                                                                                                                        \r"
     ]
    },
    {
     "name": "stdout",
     "output_type": "stream",
     "text": [
      "Epoch 10/20\n",
      "  Train Loss: 0.3470\n",
      "  SAE Train Loss (hidden one): 0.4307\n",
      "  SAE Train Loss (hidden two): 0.0500\n",
      "  Val Loss: 0.3530 | Val Acc: 89.71%\n"
     ]
    },
    {
     "name": "stderr",
     "output_type": "stream",
     "text": [
      "                                                                                                                        \r"
     ]
    },
    {
     "name": "stdout",
     "output_type": "stream",
     "text": [
      "Epoch 11/20\n",
      "  Train Loss: 0.3406\n",
      "  SAE Train Loss (hidden one): 0.4707\n",
      "  SAE Train Loss (hidden two): 0.0490\n",
      "  Val Loss: 0.3672 | Val Acc: 89.51%\n"
     ]
    },
    {
     "name": "stderr",
     "output_type": "stream",
     "text": [
      "                                                                                                                        \r"
     ]
    },
    {
     "name": "stdout",
     "output_type": "stream",
     "text": [
      "Epoch 12/20\n",
      "  Train Loss: 0.3387\n",
      "  SAE Train Loss (hidden one): 0.4866\n",
      "  SAE Train Loss (hidden two): 0.0475\n",
      "  Val Loss: 0.3505 | Val Acc: 90.03%\n",
      "  Saved model with Val Acc: 90.03%\n"
     ]
    },
    {
     "name": "stderr",
     "output_type": "stream",
     "text": [
      "                                                                                                                        \r"
     ]
    },
    {
     "name": "stdout",
     "output_type": "stream",
     "text": [
      "Epoch 13/20\n",
      "  Train Loss: 0.3397\n",
      "  SAE Train Loss (hidden one): 0.4794\n",
      "  SAE Train Loss (hidden two): 0.0453\n",
      "  Val Loss: 0.3504 | Val Acc: 89.73%\n"
     ]
    },
    {
     "name": "stderr",
     "output_type": "stream",
     "text": [
      "                                                                                                                        \r"
     ]
    },
    {
     "name": "stdout",
     "output_type": "stream",
     "text": [
      "Epoch 14/20\n",
      "  Train Loss: 0.3333\n",
      "  SAE Train Loss (hidden one): 0.4968\n",
      "  SAE Train Loss (hidden two): 0.0434\n",
      "  Val Loss: 0.3766 | Val Acc: 89.37%\n"
     ]
    },
    {
     "name": "stderr",
     "output_type": "stream",
     "text": [
      "                                                                                                                        \r"
     ]
    },
    {
     "name": "stdout",
     "output_type": "stream",
     "text": [
      "Epoch 15/20\n",
      "  Train Loss: 0.3291\n",
      "  SAE Train Loss (hidden one): 0.5134\n",
      "  SAE Train Loss (hidden two): 0.0433\n",
      "  Val Loss: 0.3660 | Val Acc: 89.81%\n"
     ]
    },
    {
     "name": "stderr",
     "output_type": "stream",
     "text": [
      "                                                                                                                        \r"
     ]
    },
    {
     "name": "stdout",
     "output_type": "stream",
     "text": [
      "Epoch 16/20\n",
      "  Train Loss: 0.3272\n",
      "  SAE Train Loss (hidden one): 0.4493\n",
      "  SAE Train Loss (hidden two): 0.0419\n",
      "  Val Loss: 0.3383 | Val Acc: 90.19%\n",
      "  Saved model with Val Acc: 90.19%\n"
     ]
    },
    {
     "name": "stderr",
     "output_type": "stream",
     "text": [
      "                                                                                                                        \r"
     ]
    },
    {
     "name": "stdout",
     "output_type": "stream",
     "text": [
      "Epoch 17/20\n",
      "  Train Loss: 0.3269\n",
      "  SAE Train Loss (hidden one): 0.5343\n",
      "  SAE Train Loss (hidden two): 0.0422\n",
      "  Val Loss: 0.3523 | Val Acc: 89.78%\n"
     ]
    },
    {
     "name": "stderr",
     "output_type": "stream",
     "text": [
      "                                                                                                                        \r"
     ]
    },
    {
     "name": "stdout",
     "output_type": "stream",
     "text": [
      "Epoch 18/20\n",
      "  Train Loss: 0.3240\n",
      "  SAE Train Loss (hidden one): 0.5351\n",
      "  SAE Train Loss (hidden two): 0.0415\n",
      "  Val Loss: 0.3455 | Val Acc: 89.99%\n"
     ]
    },
    {
     "name": "stderr",
     "output_type": "stream",
     "text": [
      "                                                                                                                        \r"
     ]
    },
    {
     "name": "stdout",
     "output_type": "stream",
     "text": [
      "Epoch 19/20\n",
      "  Train Loss: 0.3237\n",
      "  SAE Train Loss (hidden one): 0.4684\n",
      "  SAE Train Loss (hidden two): 0.0422\n",
      "  Val Loss: 0.3643 | Val Acc: 89.02%\n"
     ]
    },
    {
     "name": "stderr",
     "output_type": "stream",
     "text": [
      "                                                                                                                        \r"
     ]
    },
    {
     "name": "stdout",
     "output_type": "stream",
     "text": [
      "Epoch 20/20\n",
      "  Train Loss: 0.3212\n",
      "  SAE Train Loss (hidden one): 0.4996\n",
      "  SAE Train Loss (hidden two): 0.0394\n",
      "  Val Loss: 0.3322 | Val Acc: 90.20%\n",
      "  Saved model with Val Acc: 90.20%\n"
     ]
    },
    {
     "name": "stderr",
     "output_type": "stream",
     "text": [
      "Evaluation: 100%|██████████████████████████████████████████████████████████████████████| 79/79 [00:00<00:00, 262.97it/s]\n"
     ]
    },
    {
     "name": "stdout",
     "output_type": "stream",
     "text": [
      "Final Test Accuracy: 90.89%\n",
      "Average Reconstruction Error (Hidden One): 0.0534\n",
      "Average Reconstruction Error (Hidden Two): 0.0124\n",
      "Average Non-Zero Features per Image (Hidden One): 31.87\n",
      "Average Non-Zero Features per Image (Hidden Two): 29.76\n"
     ]
    },
    {
     "name": "stderr",
     "output_type": "stream",
     "text": [
      "/home/alex/.local/lib/python3.10/site-packages/sklearn/linear_model/_logistic.py:469: ConvergenceWarning: lbfgs failed to converge (status=1):\n",
      "STOP: TOTAL NO. of ITERATIONS REACHED LIMIT.\n",
      "\n",
      "Increase the number of iterations (max_iter) or scale the data as shown in:\n",
      "    https://scikit-learn.org/stable/modules/preprocessing.html\n",
      "Please also refer to the documentation for alternative solver options:\n",
      "    https://scikit-learn.org/stable/modules/linear_model.html#logistic-regression\n",
      "  n_iter_i = _check_optimize_result(\n"
     ]
    },
    {
     "name": "stdout",
     "output_type": "stream",
     "text": [
      "Linear Probe Accuracy (Hidden One): 91.10%\n"
     ]
    },
    {
     "name": "stderr",
     "output_type": "stream",
     "text": [
      "/home/alex/.local/lib/python3.10/site-packages/sklearn/linear_model/_logistic.py:469: ConvergenceWarning: lbfgs failed to converge (status=1):\n",
      "STOP: TOTAL NO. of ITERATIONS REACHED LIMIT.\n",
      "\n",
      "Increase the number of iterations (max_iter) or scale the data as shown in:\n",
      "    https://scikit-learn.org/stable/modules/preprocessing.html\n",
      "Please also refer to the documentation for alternative solver options:\n",
      "    https://scikit-learn.org/stable/modules/linear_model.html#logistic-regression\n",
      "  n_iter_i = _check_optimize_result(\n"
     ]
    },
    {
     "name": "stdout",
     "output_type": "stream",
     "text": [
      "Linear Probe Accuracy (Hidden Two): 90.91%\n",
      "\n",
      "##################################################\n",
      "Loss factor: 0.015000000000000003\n",
      "\n",
      "\n"
     ]
    },
    {
     "name": "stderr",
     "output_type": "stream",
     "text": [
      "                                                                                                                        \r"
     ]
    },
    {
     "name": "stdout",
     "output_type": "stream",
     "text": [
      "Epoch 1/20\n",
      "  Train Loss: 1.0720\n",
      "  SAE Train Loss (hidden one): 8.3730\n",
      "  SAE Train Loss (hidden two): 1.1350\n",
      "  Val Loss: 0.6297 | Val Acc: 84.48%\n",
      "  Saved model with Val Acc: 84.48%\n"
     ]
    },
    {
     "name": "stderr",
     "output_type": "stream",
     "text": [
      "                                                                                                                        \r"
     ]
    },
    {
     "name": "stdout",
     "output_type": "stream",
     "text": [
      "Epoch 2/20\n",
      "  Train Loss: 0.5520\n",
      "  SAE Train Loss (hidden one): 0.4912\n",
      "  SAE Train Loss (hidden two): 0.0879\n",
      "  Val Loss: 0.5031 | Val Acc: 85.50%\n",
      "  Saved model with Val Acc: 85.50%\n"
     ]
    },
    {
     "name": "stderr",
     "output_type": "stream",
     "text": [
      "                                                                                                                        \r"
     ]
    },
    {
     "name": "stdout",
     "output_type": "stream",
     "text": [
      "Epoch 3/20\n",
      "  Train Loss: 0.4527\n",
      "  SAE Train Loss (hidden one): 0.4378\n",
      "  SAE Train Loss (hidden two): 0.0786\n",
      "  Val Loss: 0.4519 | Val Acc: 87.09%\n",
      "  Saved model with Val Acc: 87.09%\n"
     ]
    },
    {
     "name": "stderr",
     "output_type": "stream",
     "text": [
      "                                                                                                                        \r"
     ]
    },
    {
     "name": "stdout",
     "output_type": "stream",
     "text": [
      "Epoch 4/20\n",
      "  Train Loss: 0.4134\n",
      "  SAE Train Loss (hidden one): 0.5000\n",
      "  SAE Train Loss (hidden two): 0.0716\n",
      "  Val Loss: 0.4034 | Val Acc: 88.24%\n",
      "  Saved model with Val Acc: 88.24%\n"
     ]
    },
    {
     "name": "stderr",
     "output_type": "stream",
     "text": [
      "                                                                                                                        \r"
     ]
    },
    {
     "name": "stdout",
     "output_type": "stream",
     "text": [
      "Epoch 5/20\n",
      "  Train Loss: 0.3865\n",
      "  SAE Train Loss (hidden one): 0.5211\n",
      "  SAE Train Loss (hidden two): 0.0687\n",
      "  Val Loss: 0.3740 | Val Acc: 89.17%\n",
      "  Saved model with Val Acc: 89.17%\n"
     ]
    },
    {
     "name": "stderr",
     "output_type": "stream",
     "text": [
      "                                                                                                                        \r"
     ]
    },
    {
     "name": "stdout",
     "output_type": "stream",
     "text": [
      "Epoch 6/20\n",
      "  Train Loss: 0.3756\n",
      "  SAE Train Loss (hidden one): 0.5455\n",
      "  SAE Train Loss (hidden two): 0.0637\n",
      "  Val Loss: 0.3620 | Val Acc: 89.43%\n",
      "  Saved model with Val Acc: 89.43%\n"
     ]
    },
    {
     "name": "stderr",
     "output_type": "stream",
     "text": [
      "                                                                                                                        \r"
     ]
    },
    {
     "name": "stdout",
     "output_type": "stream",
     "text": [
      "Epoch 7/20\n",
      "  Train Loss: 0.3655\n",
      "  SAE Train Loss (hidden one): 0.5725\n",
      "  SAE Train Loss (hidden two): 0.0603\n",
      "  Val Loss: 0.4091 | Val Acc: 88.38%\n"
     ]
    },
    {
     "name": "stderr",
     "output_type": "stream",
     "text": [
      "                                                                                                                        \r"
     ]
    },
    {
     "name": "stdout",
     "output_type": "stream",
     "text": [
      "Epoch 8/20\n",
      "  Train Loss: 0.3593\n",
      "  SAE Train Loss (hidden one): 0.5503\n",
      "  SAE Train Loss (hidden two): 0.0581\n",
      "  Val Loss: 0.3620 | Val Acc: 89.28%\n"
     ]
    },
    {
     "name": "stderr",
     "output_type": "stream",
     "text": [
      "                                                                                                                        \r"
     ]
    },
    {
     "name": "stdout",
     "output_type": "stream",
     "text": [
      "Epoch 9/20\n",
      "  Train Loss: 0.3563\n",
      "  SAE Train Loss (hidden one): 0.6041\n",
      "  SAE Train Loss (hidden two): 0.0562\n",
      "  Val Loss: 0.3718 | Val Acc: 89.41%\n"
     ]
    },
    {
     "name": "stderr",
     "output_type": "stream",
     "text": [
      "                                                                                                                        \r"
     ]
    },
    {
     "name": "stdout",
     "output_type": "stream",
     "text": [
      "Epoch 10/20\n",
      "  Train Loss: 0.3517\n",
      "  SAE Train Loss (hidden one): 0.5292\n",
      "  SAE Train Loss (hidden two): 0.0552\n",
      "  Val Loss: 0.3858 | Val Acc: 89.10%\n"
     ]
    },
    {
     "name": "stderr",
     "output_type": "stream",
     "text": [
      "                                                                                                                        \r"
     ]
    },
    {
     "name": "stdout",
     "output_type": "stream",
     "text": [
      "Epoch 11/20\n",
      "  Train Loss: 0.3424\n",
      "  SAE Train Loss (hidden one): 0.5879\n",
      "  SAE Train Loss (hidden two): 0.0540\n",
      "  Val Loss: 0.3717 | Val Acc: 89.39%\n"
     ]
    },
    {
     "name": "stderr",
     "output_type": "stream",
     "text": [
      "                                                                                                                        \r"
     ]
    },
    {
     "name": "stdout",
     "output_type": "stream",
     "text": [
      "Epoch 12/20\n",
      "  Train Loss: 0.3403\n",
      "  SAE Train Loss (hidden one): 0.5999\n",
      "  SAE Train Loss (hidden two): 0.0544\n",
      "  Val Loss: 0.3684 | Val Acc: 89.31%\n"
     ]
    },
    {
     "name": "stderr",
     "output_type": "stream",
     "text": [
      "                                                                                                                        \r"
     ]
    },
    {
     "name": "stdout",
     "output_type": "stream",
     "text": [
      "Epoch 13/20\n",
      "  Train Loss: 0.3356\n",
      "  SAE Train Loss (hidden one): 0.6341\n",
      "  SAE Train Loss (hidden two): 0.0528\n",
      "  Val Loss: 0.3519 | Val Acc: 89.82%\n",
      "  Saved model with Val Acc: 89.82%\n"
     ]
    },
    {
     "name": "stderr",
     "output_type": "stream",
     "text": [
      "                                                                                                                        \r"
     ]
    },
    {
     "name": "stdout",
     "output_type": "stream",
     "text": [
      "Epoch 14/20\n",
      "  Train Loss: 0.3331\n",
      "  SAE Train Loss (hidden one): 0.6072\n",
      "  SAE Train Loss (hidden two): 0.0533\n",
      "  Val Loss: 0.3808 | Val Acc: 88.96%\n"
     ]
    },
    {
     "name": "stderr",
     "output_type": "stream",
     "text": [
      "                                                                                                                        \r"
     ]
    },
    {
     "name": "stdout",
     "output_type": "stream",
     "text": [
      "Epoch 15/20\n",
      "  Train Loss: 0.3300\n",
      "  SAE Train Loss (hidden one): 0.5694\n",
      "  SAE Train Loss (hidden two): 0.0517\n",
      "  Val Loss: 0.3683 | Val Acc: 89.32%\n"
     ]
    },
    {
     "name": "stderr",
     "output_type": "stream",
     "text": [
      "                                                                                                                        \r"
     ]
    },
    {
     "name": "stdout",
     "output_type": "stream",
     "text": [
      "Epoch 16/20\n",
      "  Train Loss: 0.3296\n",
      "  SAE Train Loss (hidden one): 0.6940\n",
      "  SAE Train Loss (hidden two): 0.0505\n",
      "  Val Loss: 0.3617 | Val Acc: 89.70%\n"
     ]
    },
    {
     "name": "stderr",
     "output_type": "stream",
     "text": [
      "                                                                                                                        \r"
     ]
    },
    {
     "name": "stdout",
     "output_type": "stream",
     "text": [
      "Epoch 17/20\n",
      "  Train Loss: 0.3247\n",
      "  SAE Train Loss (hidden one): 0.6476\n",
      "  SAE Train Loss (hidden two): 0.0512\n",
      "  Val Loss: 0.3465 | Val Acc: 89.82%\n",
      "  Saved model with same Val Acc: 89.82% but lower Val Loss: 0.3465\n"
     ]
    },
    {
     "name": "stderr",
     "output_type": "stream",
     "text": [
      "                                                                                                                        \r"
     ]
    },
    {
     "name": "stdout",
     "output_type": "stream",
     "text": [
      "Epoch 18/20\n",
      "  Train Loss: 0.3275\n",
      "  SAE Train Loss (hidden one): 0.5876\n",
      "  SAE Train Loss (hidden two): 0.0497\n",
      "  Val Loss: 0.3477 | Val Acc: 90.11%\n",
      "  Saved model with Val Acc: 90.11%\n"
     ]
    },
    {
     "name": "stderr",
     "output_type": "stream",
     "text": [
      "                                                                                                                        \r"
     ]
    },
    {
     "name": "stdout",
     "output_type": "stream",
     "text": [
      "Epoch 19/20\n",
      "  Train Loss: 0.3222\n",
      "  SAE Train Loss (hidden one): 0.6819\n",
      "  SAE Train Loss (hidden two): 0.0507\n",
      "  Val Loss: 0.3445 | Val Acc: 90.17%\n",
      "  Saved model with Val Acc: 90.17%\n"
     ]
    },
    {
     "name": "stderr",
     "output_type": "stream",
     "text": [
      "                                                                                                                        \r"
     ]
    },
    {
     "name": "stdout",
     "output_type": "stream",
     "text": [
      "Epoch 20/20\n",
      "  Train Loss: 0.3192\n",
      "  SAE Train Loss (hidden one): 0.5676\n",
      "  SAE Train Loss (hidden two): 0.0469\n",
      "  Val Loss: 0.3570 | Val Acc: 89.94%\n"
     ]
    },
    {
     "name": "stderr",
     "output_type": "stream",
     "text": [
      "Evaluation: 100%|██████████████████████████████████████████████████████████████████████| 79/79 [00:00<00:00, 277.37it/s]"
     ]
    },
    {
     "name": "stdout",
     "output_type": "stream",
     "text": [
      "Final Test Accuracy: 90.33%\n",
      "Average Reconstruction Error (Hidden One): 0.3045\n",
      "Average Reconstruction Error (Hidden Two): 0.0141\n",
      "Average Non-Zero Features per Image (Hidden One): 32.69\n",
      "Average Non-Zero Features per Image (Hidden Two): 32.55\n"
     ]
    },
    {
     "name": "stderr",
     "output_type": "stream",
     "text": [
      "\n",
      "/home/alex/.local/lib/python3.10/site-packages/sklearn/linear_model/_logistic.py:469: ConvergenceWarning: lbfgs failed to converge (status=1):\n",
      "STOP: TOTAL NO. of ITERATIONS REACHED LIMIT.\n",
      "\n",
      "Increase the number of iterations (max_iter) or scale the data as shown in:\n",
      "    https://scikit-learn.org/stable/modules/preprocessing.html\n",
      "Please also refer to the documentation for alternative solver options:\n",
      "    https://scikit-learn.org/stable/modules/linear_model.html#logistic-regression\n",
      "  n_iter_i = _check_optimize_result(\n"
     ]
    },
    {
     "name": "stdout",
     "output_type": "stream",
     "text": [
      "Linear Probe Accuracy (Hidden One): 91.10%\n"
     ]
    },
    {
     "name": "stderr",
     "output_type": "stream",
     "text": [
      "/home/alex/.local/lib/python3.10/site-packages/sklearn/linear_model/_logistic.py:469: ConvergenceWarning: lbfgs failed to converge (status=1):\n",
      "STOP: TOTAL NO. of ITERATIONS REACHED LIMIT.\n",
      "\n",
      "Increase the number of iterations (max_iter) or scale the data as shown in:\n",
      "    https://scikit-learn.org/stable/modules/preprocessing.html\n",
      "Please also refer to the documentation for alternative solver options:\n",
      "    https://scikit-learn.org/stable/modules/linear_model.html#logistic-regression\n",
      "  n_iter_i = _check_optimize_result(\n"
     ]
    },
    {
     "name": "stdout",
     "output_type": "stream",
     "text": [
      "Linear Probe Accuracy (Hidden Two): 90.32%\n",
      "\n",
      "##################################################\n",
      "Loss factor: 0.016000000000000004\n",
      "\n",
      "\n"
     ]
    },
    {
     "name": "stderr",
     "output_type": "stream",
     "text": [
      "                                                                                                                        \r"
     ]
    },
    {
     "name": "stdout",
     "output_type": "stream",
     "text": [
      "Epoch 1/20\n",
      "  Train Loss: 1.0522\n",
      "  SAE Train Loss (hidden one): 8.4172\n",
      "  SAE Train Loss (hidden two): 1.1430\n",
      "  Val Loss: 0.6270 | Val Acc: 83.92%\n",
      "  Saved model with Val Acc: 83.92%\n"
     ]
    },
    {
     "name": "stderr",
     "output_type": "stream",
     "text": [
      "                                                                                                                        \r"
     ]
    },
    {
     "name": "stdout",
     "output_type": "stream",
     "text": [
      "Epoch 2/20\n",
      "  Train Loss: 0.5467\n",
      "  SAE Train Loss (hidden one): 0.3472\n",
      "  SAE Train Loss (hidden two): 0.0824\n",
      "  Val Loss: 0.4816 | Val Acc: 86.19%\n",
      "  Saved model with Val Acc: 86.19%\n"
     ]
    },
    {
     "name": "stderr",
     "output_type": "stream",
     "text": [
      "                                                                                                                        \r"
     ]
    },
    {
     "name": "stdout",
     "output_type": "stream",
     "text": [
      "Epoch 3/20\n",
      "  Train Loss: 0.4626\n",
      "  SAE Train Loss (hidden one): 0.3663\n",
      "  SAE Train Loss (hidden two): 0.0697\n",
      "  Val Loss: 0.4829 | Val Acc: 86.23%\n",
      "  Saved model with Val Acc: 86.23%\n"
     ]
    },
    {
     "name": "stderr",
     "output_type": "stream",
     "text": [
      "                                                                                                                        \r"
     ]
    },
    {
     "name": "stdout",
     "output_type": "stream",
     "text": [
      "Epoch 4/20\n",
      "  Train Loss: 0.4403\n",
      "  SAE Train Loss (hidden one): 0.3806\n",
      "  SAE Train Loss (hidden two): 0.0631\n",
      "  Val Loss: 0.4153 | Val Acc: 87.68%\n",
      "  Saved model with Val Acc: 87.68%\n"
     ]
    },
    {
     "name": "stderr",
     "output_type": "stream",
     "text": [
      "                                                                                                                        \r"
     ]
    },
    {
     "name": "stdout",
     "output_type": "stream",
     "text": [
      "Epoch 5/20\n",
      "  Train Loss: 0.4247\n",
      "  SAE Train Loss (hidden one): 0.3716\n",
      "  SAE Train Loss (hidden two): 0.0593\n",
      "  Val Loss: 0.4127 | Val Acc: 87.98%\n",
      "  Saved model with Val Acc: 87.98%\n"
     ]
    },
    {
     "name": "stderr",
     "output_type": "stream",
     "text": [
      "                                                                                                                        \r"
     ]
    },
    {
     "name": "stdout",
     "output_type": "stream",
     "text": [
      "Epoch 6/20\n",
      "  Train Loss: 0.4118\n",
      "  SAE Train Loss (hidden one): 0.4005\n",
      "  SAE Train Loss (hidden two): 0.0547\n",
      "  Val Loss: 0.4088 | Val Acc: 88.19%\n",
      "  Saved model with Val Acc: 88.19%\n"
     ]
    },
    {
     "name": "stderr",
     "output_type": "stream",
     "text": [
      "                                                                                                                        \r"
     ]
    },
    {
     "name": "stdout",
     "output_type": "stream",
     "text": [
      "Epoch 7/20\n",
      "  Train Loss: 0.4018\n",
      "  SAE Train Loss (hidden one): 0.3819\n",
      "  SAE Train Loss (hidden two): 0.0515\n",
      "  Val Loss: 0.4421 | Val Acc: 87.10%\n"
     ]
    },
    {
     "name": "stderr",
     "output_type": "stream",
     "text": [
      "                                                                                                                        \r"
     ]
    },
    {
     "name": "stdout",
     "output_type": "stream",
     "text": [
      "Epoch 8/20\n",
      "  Train Loss: 0.3937\n",
      "  SAE Train Loss (hidden one): 0.4321\n",
      "  SAE Train Loss (hidden two): 0.0507\n",
      "  Val Loss: 0.4061 | Val Acc: 88.39%\n",
      "  Saved model with Val Acc: 88.39%\n"
     ]
    },
    {
     "name": "stderr",
     "output_type": "stream",
     "text": [
      "                                                                                                                        \r"
     ]
    },
    {
     "name": "stdout",
     "output_type": "stream",
     "text": [
      "Epoch 9/20\n",
      "  Train Loss: 0.3887\n",
      "  SAE Train Loss (hidden one): 0.4623\n",
      "  SAE Train Loss (hidden two): 0.0493\n",
      "  Val Loss: 0.4020 | Val Acc: 88.34%\n"
     ]
    },
    {
     "name": "stderr",
     "output_type": "stream",
     "text": [
      "                                                                                                                        \r"
     ]
    },
    {
     "name": "stdout",
     "output_type": "stream",
     "text": [
      "Epoch 10/20\n",
      "  Train Loss: 0.3855\n",
      "  SAE Train Loss (hidden one): 0.3736\n",
      "  SAE Train Loss (hidden two): 0.0464\n",
      "  Val Loss: 0.4048 | Val Acc: 88.28%\n"
     ]
    },
    {
     "name": "stderr",
     "output_type": "stream",
     "text": [
      "                                                                                                                        \r"
     ]
    },
    {
     "name": "stdout",
     "output_type": "stream",
     "text": [
      "Epoch 11/20\n",
      "  Train Loss: 0.3768\n",
      "  SAE Train Loss (hidden one): 0.4422\n",
      "  SAE Train Loss (hidden two): 0.0457\n",
      "  Val Loss: 0.3896 | Val Acc: 88.70%\n",
      "  Saved model with Val Acc: 88.70%\n"
     ]
    },
    {
     "name": "stderr",
     "output_type": "stream",
     "text": [
      "                                                                                                                        \r"
     ]
    },
    {
     "name": "stdout",
     "output_type": "stream",
     "text": [
      "Epoch 12/20\n",
      "  Train Loss: 0.3753\n",
      "  SAE Train Loss (hidden one): 0.4519\n",
      "  SAE Train Loss (hidden two): 0.0435\n",
      "  Val Loss: 0.3781 | Val Acc: 89.13%\n",
      "  Saved model with Val Acc: 89.13%\n"
     ]
    },
    {
     "name": "stderr",
     "output_type": "stream",
     "text": [
      "                                                                                                                        \r"
     ]
    },
    {
     "name": "stdout",
     "output_type": "stream",
     "text": [
      "Epoch 13/20\n",
      "  Train Loss: 0.3718\n",
      "  SAE Train Loss (hidden one): 0.5133\n",
      "  SAE Train Loss (hidden two): 0.0429\n",
      "  Val Loss: 0.3896 | Val Acc: 88.56%\n"
     ]
    },
    {
     "name": "stderr",
     "output_type": "stream",
     "text": [
      "                                                                                                                        \r"
     ]
    },
    {
     "name": "stdout",
     "output_type": "stream",
     "text": [
      "Epoch 14/20\n",
      "  Train Loss: 0.3663\n",
      "  SAE Train Loss (hidden one): 0.4052\n",
      "  SAE Train Loss (hidden two): 0.0411\n",
      "  Val Loss: 0.3824 | Val Acc: 88.71%\n"
     ]
    },
    {
     "name": "stderr",
     "output_type": "stream",
     "text": [
      "                                                                                                                        \r"
     ]
    },
    {
     "name": "stdout",
     "output_type": "stream",
     "text": [
      "Epoch 15/20\n",
      "  Train Loss: 0.3639\n",
      "  SAE Train Loss (hidden one): 0.4281\n",
      "  SAE Train Loss (hidden two): 0.0412\n",
      "  Val Loss: 0.3958 | Val Acc: 88.28%\n"
     ]
    },
    {
     "name": "stderr",
     "output_type": "stream",
     "text": [
      "                                                                                                                        \r"
     ]
    },
    {
     "name": "stdout",
     "output_type": "stream",
     "text": [
      "Epoch 16/20\n",
      "  Train Loss: 0.3581\n",
      "  SAE Train Loss (hidden one): 0.4881\n",
      "  SAE Train Loss (hidden two): 0.0402\n",
      "  Val Loss: 0.3766 | Val Acc: 89.17%\n",
      "  Saved model with Val Acc: 89.17%\n"
     ]
    },
    {
     "name": "stderr",
     "output_type": "stream",
     "text": [
      "                                                                                                                        \r"
     ]
    },
    {
     "name": "stdout",
     "output_type": "stream",
     "text": [
      "Epoch 17/20\n",
      "  Train Loss: 0.3548\n",
      "  SAE Train Loss (hidden one): 0.5251\n",
      "  SAE Train Loss (hidden two): 0.0389\n",
      "  Val Loss: 0.3707 | Val Acc: 89.14%\n"
     ]
    },
    {
     "name": "stderr",
     "output_type": "stream",
     "text": [
      "                                                                                                                        \r"
     ]
    },
    {
     "name": "stdout",
     "output_type": "stream",
     "text": [
      "Epoch 18/20\n",
      "  Train Loss: 0.3550\n",
      "  SAE Train Loss (hidden one): 0.4608\n",
      "  SAE Train Loss (hidden two): 0.0398\n",
      "  Val Loss: 0.3715 | Val Acc: 89.19%\n",
      "  Saved model with Val Acc: 89.19%\n"
     ]
    },
    {
     "name": "stderr",
     "output_type": "stream",
     "text": [
      "                                                                                                                        \r"
     ]
    },
    {
     "name": "stdout",
     "output_type": "stream",
     "text": [
      "Epoch 19/20\n",
      "  Train Loss: 0.3527\n",
      "  SAE Train Loss (hidden one): 0.4756\n",
      "  SAE Train Loss (hidden two): 0.0382\n",
      "  Val Loss: 0.3873 | Val Acc: 88.63%\n"
     ]
    },
    {
     "name": "stderr",
     "output_type": "stream",
     "text": [
      "                                                                                                                        \r"
     ]
    },
    {
     "name": "stdout",
     "output_type": "stream",
     "text": [
      "Epoch 20/20\n",
      "  Train Loss: 0.3492\n",
      "  SAE Train Loss (hidden one): 0.5494\n",
      "  SAE Train Loss (hidden two): 0.0372\n",
      "  Val Loss: 0.3763 | Val Acc: 89.15%\n"
     ]
    },
    {
     "name": "stderr",
     "output_type": "stream",
     "text": [
      "Evaluation: 100%|██████████████████████████████████████████████████████████████████████| 79/79 [00:00<00:00, 280.11it/s]\n"
     ]
    },
    {
     "name": "stdout",
     "output_type": "stream",
     "text": [
      "Final Test Accuracy: 89.55%\n",
      "Average Reconstruction Error (Hidden One): 0.2665\n",
      "Average Reconstruction Error (Hidden Two): 0.0134\n",
      "Average Non-Zero Features per Image (Hidden One): 31.00\n",
      "Average Non-Zero Features per Image (Hidden Two): 31.27\n"
     ]
    },
    {
     "name": "stderr",
     "output_type": "stream",
     "text": [
      "/home/alex/.local/lib/python3.10/site-packages/sklearn/linear_model/_logistic.py:469: ConvergenceWarning: lbfgs failed to converge (status=1):\n",
      "STOP: TOTAL NO. of ITERATIONS REACHED LIMIT.\n",
      "\n",
      "Increase the number of iterations (max_iter) or scale the data as shown in:\n",
      "    https://scikit-learn.org/stable/modules/preprocessing.html\n",
      "Please also refer to the documentation for alternative solver options:\n",
      "    https://scikit-learn.org/stable/modules/linear_model.html#logistic-regression\n",
      "  n_iter_i = _check_optimize_result(\n"
     ]
    },
    {
     "name": "stdout",
     "output_type": "stream",
     "text": [
      "Linear Probe Accuracy (Hidden One): 89.67%\n"
     ]
    },
    {
     "name": "stderr",
     "output_type": "stream",
     "text": [
      "/home/alex/.local/lib/python3.10/site-packages/sklearn/linear_model/_logistic.py:469: ConvergenceWarning: lbfgs failed to converge (status=1):\n",
      "STOP: TOTAL NO. of ITERATIONS REACHED LIMIT.\n",
      "\n",
      "Increase the number of iterations (max_iter) or scale the data as shown in:\n",
      "    https://scikit-learn.org/stable/modules/preprocessing.html\n",
      "Please also refer to the documentation for alternative solver options:\n",
      "    https://scikit-learn.org/stable/modules/linear_model.html#logistic-regression\n",
      "  n_iter_i = _check_optimize_result(\n"
     ]
    },
    {
     "name": "stdout",
     "output_type": "stream",
     "text": [
      "Linear Probe Accuracy (Hidden Two): 87.96%\n",
      "\n",
      "##################################################\n",
      "Loss factor: 0.017000000000000005\n",
      "\n",
      "\n"
     ]
    },
    {
     "name": "stderr",
     "output_type": "stream",
     "text": [
      "                                                                                                                        \r"
     ]
    },
    {
     "name": "stdout",
     "output_type": "stream",
     "text": [
      "Epoch 1/20\n",
      "  Train Loss: 1.0617\n",
      "  SAE Train Loss (hidden one): 8.4359\n",
      "  SAE Train Loss (hidden two): 1.1482\n",
      "  Val Loss: 0.6276 | Val Acc: 84.08%\n",
      "  Saved model with Val Acc: 84.08%\n"
     ]
    },
    {
     "name": "stderr",
     "output_type": "stream",
     "text": [
      "                                                                                                                        \r"
     ]
    },
    {
     "name": "stdout",
     "output_type": "stream",
     "text": [
      "Epoch 2/20\n",
      "  Train Loss: 0.5456\n",
      "  SAE Train Loss (hidden one): 0.3395\n",
      "  SAE Train Loss (hidden two): 0.0815\n",
      "  Val Loss: 0.5022 | Val Acc: 85.40%\n",
      "  Saved model with Val Acc: 85.40%\n"
     ]
    },
    {
     "name": "stderr",
     "output_type": "stream",
     "text": [
      "                                                                                                                        \r"
     ]
    },
    {
     "name": "stdout",
     "output_type": "stream",
     "text": [
      "Epoch 3/20\n",
      "  Train Loss: 0.4616\n",
      "  SAE Train Loss (hidden one): 0.3845\n",
      "  SAE Train Loss (hidden two): 0.0703\n",
      "  Val Loss: 0.4890 | Val Acc: 85.97%\n",
      "  Saved model with Val Acc: 85.97%\n"
     ]
    },
    {
     "name": "stderr",
     "output_type": "stream",
     "text": [
      "                                                                                                                        \r"
     ]
    },
    {
     "name": "stdout",
     "output_type": "stream",
     "text": [
      "Epoch 4/20\n",
      "  Train Loss: 0.4339\n",
      "  SAE Train Loss (hidden one): 0.3637\n",
      "  SAE Train Loss (hidden two): 0.0645\n",
      "  Val Loss: 0.4387 | Val Acc: 86.95%\n",
      "  Saved model with Val Acc: 86.95%\n"
     ]
    },
    {
     "name": "stderr",
     "output_type": "stream",
     "text": [
      "                                                                                                                        \r"
     ]
    },
    {
     "name": "stdout",
     "output_type": "stream",
     "text": [
      "Epoch 5/20\n",
      "  Train Loss: 0.4167\n",
      "  SAE Train Loss (hidden one): 0.3623\n",
      "  SAE Train Loss (hidden two): 0.0607\n",
      "  Val Loss: 0.3978 | Val Acc: 88.22%\n",
      "  Saved model with Val Acc: 88.22%\n"
     ]
    },
    {
     "name": "stderr",
     "output_type": "stream",
     "text": [
      "                                                                                                                        \r"
     ]
    },
    {
     "name": "stdout",
     "output_type": "stream",
     "text": [
      "Epoch 6/20\n",
      "  Train Loss: 0.4053\n",
      "  SAE Train Loss (hidden one): 0.4168\n",
      "  SAE Train Loss (hidden two): 0.0575\n",
      "  Val Loss: 0.3949 | Val Acc: 88.73%\n",
      "  Saved model with Val Acc: 88.73%\n"
     ]
    },
    {
     "name": "stderr",
     "output_type": "stream",
     "text": [
      "                                                                                                                        \r"
     ]
    },
    {
     "name": "stdout",
     "output_type": "stream",
     "text": [
      "Epoch 7/20\n",
      "  Train Loss: 0.3981\n",
      "  SAE Train Loss (hidden one): 0.3842\n",
      "  SAE Train Loss (hidden two): 0.0545\n",
      "  Val Loss: 0.3991 | Val Acc: 88.47%\n"
     ]
    },
    {
     "name": "stderr",
     "output_type": "stream",
     "text": [
      "                                                                                                                        \r"
     ]
    },
    {
     "name": "stdout",
     "output_type": "stream",
     "text": [
      "Epoch 8/20\n",
      "  Train Loss: 0.3942\n",
      "  SAE Train Loss (hidden one): 0.6813\n",
      "  SAE Train Loss (hidden two): 0.0511\n",
      "  Val Loss: 0.4028 | Val Acc: 88.24%\n"
     ]
    },
    {
     "name": "stderr",
     "output_type": "stream",
     "text": [
      "                                                                                                                        \r"
     ]
    },
    {
     "name": "stdout",
     "output_type": "stream",
     "text": [
      "Epoch 9/20\n",
      "  Train Loss: 0.3857\n",
      "  SAE Train Loss (hidden one): 0.3720\n",
      "  SAE Train Loss (hidden two): 0.0479\n",
      "  Val Loss: 0.3930 | Val Acc: 88.73%\n",
      "  Saved model with same Val Acc: 88.73% but lower Val Loss: 0.3930\n"
     ]
    },
    {
     "name": "stderr",
     "output_type": "stream",
     "text": [
      "                                                                                                                        \r"
     ]
    },
    {
     "name": "stdout",
     "output_type": "stream",
     "text": [
      "Epoch 10/20\n",
      "  Train Loss: 0.3842\n",
      "  SAE Train Loss (hidden one): 0.3653\n",
      "  SAE Train Loss (hidden two): 0.0462\n",
      "  Val Loss: 0.4094 | Val Acc: 88.22%\n"
     ]
    },
    {
     "name": "stderr",
     "output_type": "stream",
     "text": [
      "                                                                                                                        \r"
     ]
    },
    {
     "name": "stdout",
     "output_type": "stream",
     "text": [
      "Epoch 11/20\n",
      "  Train Loss: 0.3791\n",
      "  SAE Train Loss (hidden one): 0.4210\n",
      "  SAE Train Loss (hidden two): 0.0463\n",
      "  Val Loss: 0.3893 | Val Acc: 88.85%\n",
      "  Saved model with Val Acc: 88.85%\n"
     ]
    },
    {
     "name": "stderr",
     "output_type": "stream",
     "text": [
      "                                                                                                                        \r"
     ]
    },
    {
     "name": "stdout",
     "output_type": "stream",
     "text": [
      "Epoch 12/20\n",
      "  Train Loss: 0.3749\n",
      "  SAE Train Loss (hidden one): 0.3901\n",
      "  SAE Train Loss (hidden two): 0.0462\n",
      "  Val Loss: 0.4046 | Val Acc: 88.43%\n"
     ]
    },
    {
     "name": "stderr",
     "output_type": "stream",
     "text": [
      "                                                                                                                        \r"
     ]
    },
    {
     "name": "stdout",
     "output_type": "stream",
     "text": [
      "Epoch 13/20\n",
      "  Train Loss: 0.3717\n",
      "  SAE Train Loss (hidden one): 0.4668\n",
      "  SAE Train Loss (hidden two): 0.0437\n",
      "  Val Loss: 0.3825 | Val Acc: 88.92%\n",
      "  Saved model with Val Acc: 88.92%\n"
     ]
    },
    {
     "name": "stderr",
     "output_type": "stream",
     "text": [
      "                                                                                                                        \r"
     ]
    },
    {
     "name": "stdout",
     "output_type": "stream",
     "text": [
      "Epoch 14/20\n",
      "  Train Loss: 0.3706\n",
      "  SAE Train Loss (hidden one): 0.4181\n",
      "  SAE Train Loss (hidden two): 0.0432\n",
      "  Val Loss: 0.3882 | Val Acc: 88.67%\n"
     ]
    },
    {
     "name": "stderr",
     "output_type": "stream",
     "text": [
      "                                                                                                                        \r"
     ]
    },
    {
     "name": "stdout",
     "output_type": "stream",
     "text": [
      "Epoch 15/20\n",
      "  Train Loss: 0.3683\n",
      "  SAE Train Loss (hidden one): 0.3863\n",
      "  SAE Train Loss (hidden two): 0.0409\n",
      "  Val Loss: 0.3972 | Val Acc: 88.59%\n"
     ]
    },
    {
     "name": "stderr",
     "output_type": "stream",
     "text": [
      "                                                                                                                        \r"
     ]
    },
    {
     "name": "stdout",
     "output_type": "stream",
     "text": [
      "Epoch 16/20\n",
      "  Train Loss: 0.3631\n",
      "  SAE Train Loss (hidden one): 0.4813\n",
      "  SAE Train Loss (hidden two): 0.0402\n",
      "  Val Loss: 0.3754 | Val Acc: 88.98%\n",
      "  Saved model with Val Acc: 88.98%\n"
     ]
    },
    {
     "name": "stderr",
     "output_type": "stream",
     "text": [
      "                                                                                                                        \r"
     ]
    },
    {
     "name": "stdout",
     "output_type": "stream",
     "text": [
      "Epoch 17/20\n",
      "  Train Loss: 0.3583\n",
      "  SAE Train Loss (hidden one): 0.4092\n",
      "  SAE Train Loss (hidden two): 0.0396\n",
      "  Val Loss: 0.3882 | Val Acc: 88.83%\n"
     ]
    },
    {
     "name": "stderr",
     "output_type": "stream",
     "text": [
      "                                                                                                                        \r"
     ]
    },
    {
     "name": "stdout",
     "output_type": "stream",
     "text": [
      "Epoch 18/20\n",
      "  Train Loss: 0.3596\n",
      "  SAE Train Loss (hidden one): 0.4981\n",
      "  SAE Train Loss (hidden two): 0.0400\n",
      "  Val Loss: 0.3755 | Val Acc: 89.19%\n",
      "  Saved model with Val Acc: 89.19%\n"
     ]
    },
    {
     "name": "stderr",
     "output_type": "stream",
     "text": [
      "                                                                                                                        \r"
     ]
    },
    {
     "name": "stdout",
     "output_type": "stream",
     "text": [
      "Epoch 19/20\n",
      "  Train Loss: 0.3560\n",
      "  SAE Train Loss (hidden one): 0.3803\n",
      "  SAE Train Loss (hidden two): 0.0386\n",
      "  Val Loss: 0.3829 | Val Acc: 88.74%\n"
     ]
    },
    {
     "name": "stderr",
     "output_type": "stream",
     "text": [
      "                                                                                                                        \r"
     ]
    },
    {
     "name": "stdout",
     "output_type": "stream",
     "text": [
      "Epoch 20/20\n",
      "  Train Loss: 0.3543\n",
      "  SAE Train Loss (hidden one): 0.5228\n",
      "  SAE Train Loss (hidden two): 0.0377\n",
      "  Val Loss: 0.3800 | Val Acc: 89.10%\n"
     ]
    },
    {
     "name": "stderr",
     "output_type": "stream",
     "text": [
      "Evaluation: 100%|██████████████████████████████████████████████████████████████████████| 79/79 [00:00<00:00, 258.13it/s]"
     ]
    },
    {
     "name": "stdout",
     "output_type": "stream",
     "text": [
      "Final Test Accuracy: 89.38%\n",
      "Average Reconstruction Error (Hidden One): 0.0287\n",
      "Average Reconstruction Error (Hidden Two): 0.0163\n",
      "Average Non-Zero Features per Image (Hidden One): 31.41\n",
      "Average Non-Zero Features per Image (Hidden Two): 31.43\n"
     ]
    },
    {
     "name": "stderr",
     "output_type": "stream",
     "text": [
      "\n",
      "/home/alex/.local/lib/python3.10/site-packages/sklearn/linear_model/_logistic.py:469: ConvergenceWarning: lbfgs failed to converge (status=1):\n",
      "STOP: TOTAL NO. of ITERATIONS REACHED LIMIT.\n",
      "\n",
      "Increase the number of iterations (max_iter) or scale the data as shown in:\n",
      "    https://scikit-learn.org/stable/modules/preprocessing.html\n",
      "Please also refer to the documentation for alternative solver options:\n",
      "    https://scikit-learn.org/stable/modules/linear_model.html#logistic-regression\n",
      "  n_iter_i = _check_optimize_result(\n"
     ]
    },
    {
     "name": "stdout",
     "output_type": "stream",
     "text": [
      "Linear Probe Accuracy (Hidden One): 89.98%\n"
     ]
    },
    {
     "name": "stderr",
     "output_type": "stream",
     "text": [
      "/home/alex/.local/lib/python3.10/site-packages/sklearn/linear_model/_logistic.py:469: ConvergenceWarning: lbfgs failed to converge (status=1):\n",
      "STOP: TOTAL NO. of ITERATIONS REACHED LIMIT.\n",
      "\n",
      "Increase the number of iterations (max_iter) or scale the data as shown in:\n",
      "    https://scikit-learn.org/stable/modules/preprocessing.html\n",
      "Please also refer to the documentation for alternative solver options:\n",
      "    https://scikit-learn.org/stable/modules/linear_model.html#logistic-regression\n",
      "  n_iter_i = _check_optimize_result(\n"
     ]
    },
    {
     "name": "stdout",
     "output_type": "stream",
     "text": [
      "Linear Probe Accuracy (Hidden Two): 87.29%\n",
      "\n",
      "##################################################\n",
      "Loss factor: 0.018000000000000006\n",
      "\n",
      "\n"
     ]
    },
    {
     "name": "stderr",
     "output_type": "stream",
     "text": [
      "                                                                                                                        \r"
     ]
    },
    {
     "name": "stdout",
     "output_type": "stream",
     "text": [
      "Epoch 1/20\n",
      "  Train Loss: 1.0685\n",
      "  SAE Train Loss (hidden one): 8.4176\n",
      "  SAE Train Loss (hidden two): 1.1445\n",
      "  Val Loss: 0.6565 | Val Acc: 83.55%\n",
      "  Saved model with Val Acc: 83.55%\n"
     ]
    },
    {
     "name": "stderr",
     "output_type": "stream",
     "text": [
      "                                                                                                                        \r"
     ]
    },
    {
     "name": "stdout",
     "output_type": "stream",
     "text": [
      "Epoch 2/20\n",
      "  Train Loss: 0.5486\n",
      "  SAE Train Loss (hidden one): 0.3434\n",
      "  SAE Train Loss (hidden two): 0.0812\n",
      "  Val Loss: 0.4964 | Val Acc: 85.62%\n",
      "  Saved model with Val Acc: 85.62%\n"
     ]
    },
    {
     "name": "stderr",
     "output_type": "stream",
     "text": [
      "                                                                                                                        \r"
     ]
    },
    {
     "name": "stdout",
     "output_type": "stream",
     "text": [
      "Epoch 3/20\n",
      "  Train Loss: 0.4604\n",
      "  SAE Train Loss (hidden one): 0.3712\n",
      "  SAE Train Loss (hidden two): 0.0666\n",
      "  Val Loss: 0.4691 | Val Acc: 86.62%\n",
      "  Saved model with Val Acc: 86.62%\n"
     ]
    },
    {
     "name": "stderr",
     "output_type": "stream",
     "text": [
      "                                                                                                                        \r"
     ]
    },
    {
     "name": "stdout",
     "output_type": "stream",
     "text": [
      "Epoch 4/20\n",
      "  Train Loss: 0.4329\n",
      "  SAE Train Loss (hidden one): 0.3831\n",
      "  SAE Train Loss (hidden two): 0.0605\n",
      "  Val Loss: 0.4188 | Val Acc: 87.97%\n",
      "  Saved model with Val Acc: 87.97%\n"
     ]
    },
    {
     "name": "stderr",
     "output_type": "stream",
     "text": [
      "                                                                                                                        \r"
     ]
    },
    {
     "name": "stdout",
     "output_type": "stream",
     "text": [
      "Epoch 5/20\n",
      "  Train Loss: 0.4152\n",
      "  SAE Train Loss (hidden one): 0.3960\n",
      "  SAE Train Loss (hidden two): 0.0566\n",
      "  Val Loss: 0.4254 | Val Acc: 87.67%\n"
     ]
    },
    {
     "name": "stderr",
     "output_type": "stream",
     "text": [
      "                                                                                                                        \r"
     ]
    },
    {
     "name": "stdout",
     "output_type": "stream",
     "text": [
      "Epoch 6/20\n",
      "  Train Loss: 0.4039\n",
      "  SAE Train Loss (hidden one): 0.4237\n",
      "  SAE Train Loss (hidden two): 0.0530\n",
      "  Val Loss: 0.3984 | Val Acc: 88.31%\n",
      "  Saved model with Val Acc: 88.31%\n"
     ]
    },
    {
     "name": "stderr",
     "output_type": "stream",
     "text": [
      "                                                                                                                        \r"
     ]
    },
    {
     "name": "stdout",
     "output_type": "stream",
     "text": [
      "Epoch 7/20\n",
      "  Train Loss: 0.3982\n",
      "  SAE Train Loss (hidden one): 0.3960\n",
      "  SAE Train Loss (hidden two): 0.0506\n",
      "  Val Loss: 0.4416 | Val Acc: 86.74%\n"
     ]
    },
    {
     "name": "stderr",
     "output_type": "stream",
     "text": [
      "                                                                                                                        \r"
     ]
    },
    {
     "name": "stdout",
     "output_type": "stream",
     "text": [
      "Epoch 8/20\n",
      "  Train Loss: 0.3919\n",
      "  SAE Train Loss (hidden one): 0.4453\n",
      "  SAE Train Loss (hidden two): 0.0492\n",
      "  Val Loss: 0.3891 | Val Acc: 88.53%\n",
      "  Saved model with Val Acc: 88.53%\n"
     ]
    },
    {
     "name": "stderr",
     "output_type": "stream",
     "text": [
      "                                                                                                                        \r"
     ]
    },
    {
     "name": "stdout",
     "output_type": "stream",
     "text": [
      "Epoch 9/20\n",
      "  Train Loss: 0.3846\n",
      "  SAE Train Loss (hidden one): 0.4553\n",
      "  SAE Train Loss (hidden two): 0.0475\n",
      "  Val Loss: 0.3958 | Val Acc: 88.78%\n",
      "  Saved model with Val Acc: 88.78%\n"
     ]
    },
    {
     "name": "stderr",
     "output_type": "stream",
     "text": [
      "                                                                                                                        \r"
     ]
    },
    {
     "name": "stdout",
     "output_type": "stream",
     "text": [
      "Epoch 10/20\n",
      "  Train Loss: 0.3816\n",
      "  SAE Train Loss (hidden one): 0.3932\n",
      "  SAE Train Loss (hidden two): 0.0448\n",
      "  Val Loss: 0.4009 | Val Acc: 88.51%\n"
     ]
    },
    {
     "name": "stderr",
     "output_type": "stream",
     "text": [
      "                                                                                                                        \r"
     ]
    },
    {
     "name": "stdout",
     "output_type": "stream",
     "text": [
      "Epoch 11/20\n",
      "  Train Loss: 0.3760\n",
      "  SAE Train Loss (hidden one): 0.4767\n",
      "  SAE Train Loss (hidden two): 0.0436\n",
      "  Val Loss: 0.4013 | Val Acc: 88.40%\n"
     ]
    },
    {
     "name": "stderr",
     "output_type": "stream",
     "text": [
      "                                                                                                                        \r"
     ]
    },
    {
     "name": "stdout",
     "output_type": "stream",
     "text": [
      "Epoch 12/20\n",
      "  Train Loss: 0.3711\n",
      "  SAE Train Loss (hidden one): 0.4517\n",
      "  SAE Train Loss (hidden two): 0.0439\n",
      "  Val Loss: 0.3843 | Val Acc: 88.83%\n",
      "  Saved model with Val Acc: 88.83%\n"
     ]
    },
    {
     "name": "stderr",
     "output_type": "stream",
     "text": [
      "                                                                                                                        \r"
     ]
    },
    {
     "name": "stdout",
     "output_type": "stream",
     "text": [
      "Epoch 13/20\n",
      "  Train Loss: 0.3714\n",
      "  SAE Train Loss (hidden one): 0.4487\n",
      "  SAE Train Loss (hidden two): 0.0426\n",
      "  Val Loss: 0.3869 | Val Acc: 88.54%\n"
     ]
    },
    {
     "name": "stderr",
     "output_type": "stream",
     "text": [
      "                                                                                                                        \r"
     ]
    },
    {
     "name": "stdout",
     "output_type": "stream",
     "text": [
      "Epoch 14/20\n",
      "  Train Loss: 0.3672\n",
      "  SAE Train Loss (hidden one): 0.5220\n",
      "  SAE Train Loss (hidden two): 0.0397\n",
      "  Val Loss: 0.3905 | Val Acc: 88.61%\n"
     ]
    },
    {
     "name": "stderr",
     "output_type": "stream",
     "text": [
      "                                                                                                                        \r"
     ]
    },
    {
     "name": "stdout",
     "output_type": "stream",
     "text": [
      "Epoch 15/20\n",
      "  Train Loss: 0.3647\n",
      "  SAE Train Loss (hidden one): 0.4120\n",
      "  SAE Train Loss (hidden two): 0.0402\n",
      "  Val Loss: 0.4011 | Val Acc: 88.28%\n"
     ]
    },
    {
     "name": "stderr",
     "output_type": "stream",
     "text": [
      "                                                                                                                        \r"
     ]
    },
    {
     "name": "stdout",
     "output_type": "stream",
     "text": [
      "Epoch 16/20\n",
      "  Train Loss: 0.3594\n",
      "  SAE Train Loss (hidden one): 0.4701\n",
      "  SAE Train Loss (hidden two): 0.0395\n",
      "  Val Loss: 0.3910 | Val Acc: 88.88%\n",
      "  Saved model with Val Acc: 88.88%\n"
     ]
    },
    {
     "name": "stderr",
     "output_type": "stream",
     "text": [
      "                                                                                                                        \r"
     ]
    },
    {
     "name": "stdout",
     "output_type": "stream",
     "text": [
      "Epoch 17/20\n",
      "  Train Loss: 0.3593\n",
      "  SAE Train Loss (hidden one): 0.4642\n",
      "  SAE Train Loss (hidden two): 0.0371\n",
      "  Val Loss: 0.3741 | Val Acc: 89.07%\n",
      "  Saved model with Val Acc: 89.07%\n"
     ]
    },
    {
     "name": "stderr",
     "output_type": "stream",
     "text": [
      "                                                                                                                        \r"
     ]
    },
    {
     "name": "stdout",
     "output_type": "stream",
     "text": [
      "Epoch 18/20\n",
      "  Train Loss: 0.3584\n",
      "  SAE Train Loss (hidden one): 0.4671\n",
      "  SAE Train Loss (hidden two): 0.0386\n",
      "  Val Loss: 0.3729 | Val Acc: 89.39%\n",
      "  Saved model with Val Acc: 89.39%\n"
     ]
    },
    {
     "name": "stderr",
     "output_type": "stream",
     "text": [
      "                                                                                                                        \r"
     ]
    },
    {
     "name": "stdout",
     "output_type": "stream",
     "text": [
      "Epoch 19/20\n",
      "  Train Loss: 0.3559\n",
      "  SAE Train Loss (hidden one): 0.5095\n",
      "  SAE Train Loss (hidden two): 0.0386\n",
      "  Val Loss: 0.3906 | Val Acc: 88.83%\n"
     ]
    },
    {
     "name": "stderr",
     "output_type": "stream",
     "text": [
      "                                                                                                                        \r"
     ]
    },
    {
     "name": "stdout",
     "output_type": "stream",
     "text": [
      "Epoch 20/20\n",
      "  Train Loss: 0.3551\n",
      "  SAE Train Loss (hidden one): 0.4970\n",
      "  SAE Train Loss (hidden two): 0.0359\n",
      "  Val Loss: 0.3780 | Val Acc: 89.15%\n"
     ]
    },
    {
     "name": "stderr",
     "output_type": "stream",
     "text": [
      "Evaluation: 100%|██████████████████████████████████████████████████████████████████████| 79/79 [00:00<00:00, 262.83it/s]\n"
     ]
    },
    {
     "name": "stdout",
     "output_type": "stream",
     "text": [
      "Final Test Accuracy: 89.20%\n",
      "Average Reconstruction Error (Hidden One): 0.1080\n",
      "Average Reconstruction Error (Hidden Two): 0.0093\n",
      "Average Non-Zero Features per Image (Hidden One): 31.31\n",
      "Average Non-Zero Features per Image (Hidden Two): 31.17\n"
     ]
    },
    {
     "name": "stderr",
     "output_type": "stream",
     "text": [
      "/home/alex/.local/lib/python3.10/site-packages/sklearn/linear_model/_logistic.py:469: ConvergenceWarning: lbfgs failed to converge (status=1):\n",
      "STOP: TOTAL NO. of ITERATIONS REACHED LIMIT.\n",
      "\n",
      "Increase the number of iterations (max_iter) or scale the data as shown in:\n",
      "    https://scikit-learn.org/stable/modules/preprocessing.html\n",
      "Please also refer to the documentation for alternative solver options:\n",
      "    https://scikit-learn.org/stable/modules/linear_model.html#logistic-regression\n",
      "  n_iter_i = _check_optimize_result(\n"
     ]
    },
    {
     "name": "stdout",
     "output_type": "stream",
     "text": [
      "Linear Probe Accuracy (Hidden One): 88.97%\n"
     ]
    },
    {
     "name": "stderr",
     "output_type": "stream",
     "text": [
      "/home/alex/.local/lib/python3.10/site-packages/sklearn/linear_model/_logistic.py:469: ConvergenceWarning: lbfgs failed to converge (status=1):\n",
      "STOP: TOTAL NO. of ITERATIONS REACHED LIMIT.\n",
      "\n",
      "Increase the number of iterations (max_iter) or scale the data as shown in:\n",
      "    https://scikit-learn.org/stable/modules/preprocessing.html\n",
      "Please also refer to the documentation for alternative solver options:\n",
      "    https://scikit-learn.org/stable/modules/linear_model.html#logistic-regression\n",
      "  n_iter_i = _check_optimize_result(\n"
     ]
    },
    {
     "name": "stdout",
     "output_type": "stream",
     "text": [
      "Linear Probe Accuracy (Hidden Two): 88.97%\n",
      "\n",
      "##################################################\n",
      "Loss factor: 0.019000000000000006\n",
      "\n",
      "\n"
     ]
    },
    {
     "name": "stderr",
     "output_type": "stream",
     "text": [
      "                                                                                                                        \r"
     ]
    },
    {
     "name": "stdout",
     "output_type": "stream",
     "text": [
      "Epoch 1/20\n",
      "  Train Loss: 1.0600\n",
      "  SAE Train Loss (hidden one): 8.6474\n",
      "  SAE Train Loss (hidden two): 1.1619\n",
      "  Val Loss: 0.5934 | Val Acc: 82.70%\n",
      "  Saved model with Val Acc: 82.70%\n"
     ]
    },
    {
     "name": "stderr",
     "output_type": "stream",
     "text": [
      "                                                                                                                        \r"
     ]
    },
    {
     "name": "stdout",
     "output_type": "stream",
     "text": [
      "Epoch 2/20\n",
      "  Train Loss: 0.4825\n",
      "  SAE Train Loss (hidden one): 0.5239\n",
      "  SAE Train Loss (hidden two): 0.1076\n",
      "  Val Loss: 0.4856 | Val Acc: 85.30%\n",
      "  Saved model with Val Acc: 85.30%\n"
     ]
    },
    {
     "name": "stderr",
     "output_type": "stream",
     "text": [
      "                                                                                                                        \r"
     ]
    },
    {
     "name": "stdout",
     "output_type": "stream",
     "text": [
      "Epoch 3/20\n",
      "  Train Loss: 0.4221\n",
      "  SAE Train Loss (hidden one): 0.4512\n",
      "  SAE Train Loss (hidden two): 0.0799\n",
      "  Val Loss: 0.4005 | Val Acc: 87.68%\n",
      "  Saved model with Val Acc: 87.68%\n"
     ]
    },
    {
     "name": "stderr",
     "output_type": "stream",
     "text": [
      "                                                                                                                        \r"
     ]
    },
    {
     "name": "stdout",
     "output_type": "stream",
     "text": [
      "Epoch 4/20\n",
      "  Train Loss: 0.3989\n",
      "  SAE Train Loss (hidden one): 0.5219\n",
      "  SAE Train Loss (hidden two): 0.0748\n",
      "  Val Loss: 0.3811 | Val Acc: 88.66%\n",
      "  Saved model with Val Acc: 88.66%\n"
     ]
    },
    {
     "name": "stderr",
     "output_type": "stream",
     "text": [
      "                                                                                                                        \r"
     ]
    },
    {
     "name": "stdout",
     "output_type": "stream",
     "text": [
      "Epoch 5/20\n",
      "  Train Loss: 0.3799\n",
      "  SAE Train Loss (hidden one): 0.5290\n",
      "  SAE Train Loss (hidden two): 0.0695\n",
      "  Val Loss: 0.3896 | Val Acc: 88.27%\n"
     ]
    },
    {
     "name": "stderr",
     "output_type": "stream",
     "text": [
      "                                                                                                                        \r"
     ]
    },
    {
     "name": "stdout",
     "output_type": "stream",
     "text": [
      "Epoch 6/20\n",
      "  Train Loss: 0.3678\n",
      "  SAE Train Loss (hidden one): 0.5455\n",
      "  SAE Train Loss (hidden two): 0.0675\n",
      "  Val Loss: 0.3680 | Val Acc: 89.21%\n",
      "  Saved model with Val Acc: 89.21%\n"
     ]
    },
    {
     "name": "stderr",
     "output_type": "stream",
     "text": [
      "                                                                                                                        \r"
     ]
    },
    {
     "name": "stdout",
     "output_type": "stream",
     "text": [
      "Epoch 7/20\n",
      "  Train Loss: 0.3585\n",
      "  SAE Train Loss (hidden one): 0.5510\n",
      "  SAE Train Loss (hidden two): 0.0627\n",
      "  Val Loss: 0.3582 | Val Acc: 89.36%\n",
      "  Saved model with Val Acc: 89.36%\n"
     ]
    },
    {
     "name": "stderr",
     "output_type": "stream",
     "text": [
      "                                                                                                                        \r"
     ]
    },
    {
     "name": "stdout",
     "output_type": "stream",
     "text": [
      "Epoch 8/20\n",
      "  Train Loss: 0.3484\n",
      "  SAE Train Loss (hidden one): 0.5963\n",
      "  SAE Train Loss (hidden two): 0.0641\n",
      "  Val Loss: 0.3425 | Val Acc: 89.97%\n",
      "  Saved model with Val Acc: 89.97%\n"
     ]
    },
    {
     "name": "stderr",
     "output_type": "stream",
     "text": [
      "                                                                                                                        \r"
     ]
    },
    {
     "name": "stdout",
     "output_type": "stream",
     "text": [
      "Epoch 9/20\n",
      "  Train Loss: 0.3407\n",
      "  SAE Train Loss (hidden one): 0.8443\n",
      "  SAE Train Loss (hidden two): 0.0620\n",
      "  Val Loss: 0.3423 | Val Acc: 89.80%\n"
     ]
    },
    {
     "name": "stderr",
     "output_type": "stream",
     "text": [
      "                                                                                                                        \r"
     ]
    },
    {
     "name": "stdout",
     "output_type": "stream",
     "text": [
      "Epoch 10/20\n",
      "  Train Loss: 0.3331\n",
      "  SAE Train Loss (hidden one): 0.7397\n",
      "  SAE Train Loss (hidden two): 0.0673\n",
      "  Val Loss: 0.3583 | Val Acc: 89.61%\n"
     ]
    },
    {
     "name": "stderr",
     "output_type": "stream",
     "text": [
      "                                                                                                                        \r"
     ]
    },
    {
     "name": "stdout",
     "output_type": "stream",
     "text": [
      "Epoch 11/20\n",
      "  Train Loss: 0.3242\n",
      "  SAE Train Loss (hidden one): 0.7433\n",
      "  SAE Train Loss (hidden two): 0.0638\n",
      "  Val Loss: 0.3230 | Val Acc: 90.90%\n",
      "  Saved model with Val Acc: 90.90%\n"
     ]
    },
    {
     "name": "stderr",
     "output_type": "stream",
     "text": [
      "                                                                                                                        \r"
     ]
    },
    {
     "name": "stdout",
     "output_type": "stream",
     "text": [
      "Epoch 12/20\n",
      "  Train Loss: 0.3183\n",
      "  SAE Train Loss (hidden one): 1.0443\n",
      "  SAE Train Loss (hidden two): 0.0708\n",
      "  Val Loss: 0.3256 | Val Acc: 90.72%\n"
     ]
    },
    {
     "name": "stderr",
     "output_type": "stream",
     "text": [
      "                                                                                                                        \r"
     ]
    },
    {
     "name": "stdout",
     "output_type": "stream",
     "text": [
      "Epoch 13/20\n",
      "  Train Loss: 0.3081\n",
      "  SAE Train Loss (hidden one): 0.9505\n",
      "  SAE Train Loss (hidden two): 0.0679\n",
      "  Val Loss: 0.3236 | Val Acc: 90.58%\n"
     ]
    },
    {
     "name": "stderr",
     "output_type": "stream",
     "text": [
      "                                                                                                                        \r"
     ]
    },
    {
     "name": "stdout",
     "output_type": "stream",
     "text": [
      "Epoch 14/20\n",
      "  Train Loss: 0.2917\n",
      "  SAE Train Loss (hidden one): 0.9735\n",
      "  SAE Train Loss (hidden two): 0.0686\n",
      "  Val Loss: 0.3199 | Val Acc: 90.93%\n",
      "  Saved model with Val Acc: 90.93%\n"
     ]
    },
    {
     "name": "stderr",
     "output_type": "stream",
     "text": [
      "                                                                                                                        \r"
     ]
    },
    {
     "name": "stdout",
     "output_type": "stream",
     "text": [
      "Epoch 15/20\n",
      "  Train Loss: 0.2812\n",
      "  SAE Train Loss (hidden one): 0.8971\n",
      "  SAE Train Loss (hidden two): 0.0665\n",
      "  Val Loss: 0.3109 | Val Acc: 91.01%\n",
      "  Saved model with Val Acc: 91.01%\n"
     ]
    },
    {
     "name": "stderr",
     "output_type": "stream",
     "text": [
      "                                                                                                                        \r"
     ]
    },
    {
     "name": "stdout",
     "output_type": "stream",
     "text": [
      "Epoch 16/20\n",
      "  Train Loss: 0.2696\n",
      "  SAE Train Loss (hidden one): 0.8697\n",
      "  SAE Train Loss (hidden two): 0.0638\n",
      "  Val Loss: 0.2742 | Val Acc: 92.09%\n",
      "  Saved model with Val Acc: 92.09%\n"
     ]
    },
    {
     "name": "stderr",
     "output_type": "stream",
     "text": [
      "                                                                                                                        \r"
     ]
    },
    {
     "name": "stdout",
     "output_type": "stream",
     "text": [
      "Epoch 17/20\n",
      "  Train Loss: 0.2645\n",
      "  SAE Train Loss (hidden one): 0.8839\n",
      "  SAE Train Loss (hidden two): 0.0591\n",
      "  Val Loss: 0.2837 | Val Acc: 92.07%\n"
     ]
    },
    {
     "name": "stderr",
     "output_type": "stream",
     "text": [
      "                                                                                                                        \r"
     ]
    },
    {
     "name": "stdout",
     "output_type": "stream",
     "text": [
      "Epoch 18/20\n",
      "  Train Loss: 0.2635\n",
      "  SAE Train Loss (hidden one): 0.8541\n",
      "  SAE Train Loss (hidden two): 0.0622\n",
      "  Val Loss: 0.2753 | Val Acc: 92.21%\n",
      "  Saved model with Val Acc: 92.21%\n"
     ]
    },
    {
     "name": "stderr",
     "output_type": "stream",
     "text": [
      "                                                                                                                        \r"
     ]
    },
    {
     "name": "stdout",
     "output_type": "stream",
     "text": [
      "Epoch 19/20\n",
      "  Train Loss: 0.2553\n",
      "  SAE Train Loss (hidden one): 0.9208\n",
      "  SAE Train Loss (hidden two): 0.0591\n",
      "  Val Loss: 0.2930 | Val Acc: 91.64%\n"
     ]
    },
    {
     "name": "stderr",
     "output_type": "stream",
     "text": [
      "                                                                                                                        \r"
     ]
    },
    {
     "name": "stdout",
     "output_type": "stream",
     "text": [
      "Epoch 20/20\n",
      "  Train Loss: 0.2550\n",
      "  SAE Train Loss (hidden one): 0.9540\n",
      "  SAE Train Loss (hidden two): 0.0577\n",
      "  Val Loss: 0.2735 | Val Acc: 92.25%\n",
      "  Saved model with Val Acc: 92.25%\n"
     ]
    },
    {
     "name": "stderr",
     "output_type": "stream",
     "text": [
      "Evaluation: 100%|██████████████████████████████████████████████████████████████████████| 79/79 [00:00<00:00, 263.21it/s]"
     ]
    },
    {
     "name": "stdout",
     "output_type": "stream",
     "text": [
      "Final Test Accuracy: 92.29%\n",
      "Average Reconstruction Error (Hidden One): 0.8748\n",
      "Average Reconstruction Error (Hidden Two): 0.0146\n",
      "Average Non-Zero Features per Image (Hidden One): 33.46\n",
      "Average Non-Zero Features per Image (Hidden Two): 33.26\n"
     ]
    },
    {
     "name": "stderr",
     "output_type": "stream",
     "text": [
      "\n",
      "/home/alex/.local/lib/python3.10/site-packages/sklearn/linear_model/_logistic.py:469: ConvergenceWarning: lbfgs failed to converge (status=1):\n",
      "STOP: TOTAL NO. of ITERATIONS REACHED LIMIT.\n",
      "\n",
      "Increase the number of iterations (max_iter) or scale the data as shown in:\n",
      "    https://scikit-learn.org/stable/modules/preprocessing.html\n",
      "Please also refer to the documentation for alternative solver options:\n",
      "    https://scikit-learn.org/stable/modules/linear_model.html#logistic-regression\n",
      "  n_iter_i = _check_optimize_result(\n"
     ]
    },
    {
     "name": "stdout",
     "output_type": "stream",
     "text": [
      "Linear Probe Accuracy (Hidden One): 92.70%\n"
     ]
    },
    {
     "name": "stderr",
     "output_type": "stream",
     "text": [
      "/home/alex/.local/lib/python3.10/site-packages/sklearn/linear_model/_logistic.py:469: ConvergenceWarning: lbfgs failed to converge (status=1):\n",
      "STOP: TOTAL NO. of ITERATIONS REACHED LIMIT.\n",
      "\n",
      "Increase the number of iterations (max_iter) or scale the data as shown in:\n",
      "    https://scikit-learn.org/stable/modules/preprocessing.html\n",
      "Please also refer to the documentation for alternative solver options:\n",
      "    https://scikit-learn.org/stable/modules/linear_model.html#logistic-regression\n",
      "  n_iter_i = _check_optimize_result(\n"
     ]
    },
    {
     "name": "stdout",
     "output_type": "stream",
     "text": [
      "Linear Probe Accuracy (Hidden Two): 92.46%\n",
      "\n",
      "##################################################\n",
      "Loss factor: 0.020000000000000007\n",
      "\n",
      "\n"
     ]
    },
    {
     "name": "stderr",
     "output_type": "stream",
     "text": [
      "                                                                                                                        \r"
     ]
    },
    {
     "name": "stdout",
     "output_type": "stream",
     "text": [
      "Epoch 1/20\n",
      "  Train Loss: 1.0614\n",
      "  SAE Train Loss (hidden one): 8.5213\n",
      "  SAE Train Loss (hidden two): 1.1572\n",
      "  Val Loss: 0.6951 | Val Acc: 81.63%\n",
      "  Saved model with Val Acc: 81.63%\n"
     ]
    },
    {
     "name": "stderr",
     "output_type": "stream",
     "text": [
      "                                                                                                                        \r"
     ]
    },
    {
     "name": "stdout",
     "output_type": "stream",
     "text": [
      "Epoch 2/20\n",
      "  Train Loss: 0.5880\n",
      "  SAE Train Loss (hidden one): 0.4274\n",
      "  SAE Train Loss (hidden two): 0.0889\n",
      "  Val Loss: 0.4915 | Val Acc: 86.34%\n",
      "  Saved model with Val Acc: 86.34%\n"
     ]
    },
    {
     "name": "stderr",
     "output_type": "stream",
     "text": [
      "                                                                                                                        \r"
     ]
    },
    {
     "name": "stdout",
     "output_type": "stream",
     "text": [
      "Epoch 3/20\n",
      "  Train Loss: 0.4472\n",
      "  SAE Train Loss (hidden one): 0.5336\n",
      "  SAE Train Loss (hidden two): 0.0900\n",
      "  Val Loss: 0.4090 | Val Acc: 88.59%\n",
      "  Saved model with Val Acc: 88.59%\n"
     ]
    },
    {
     "name": "stderr",
     "output_type": "stream",
     "text": [
      "                                                                                                                        \r"
     ]
    },
    {
     "name": "stdout",
     "output_type": "stream",
     "text": [
      "Epoch 4/20\n",
      "  Train Loss: 0.3849\n",
      "  SAE Train Loss (hidden one): 0.5391\n",
      "  SAE Train Loss (hidden two): 0.0818\n",
      "  Val Loss: 0.3872 | Val Acc: 88.62%\n",
      "  Saved model with Val Acc: 88.62%\n"
     ]
    },
    {
     "name": "stderr",
     "output_type": "stream",
     "text": [
      "                                                                                                                        \r"
     ]
    },
    {
     "name": "stdout",
     "output_type": "stream",
     "text": [
      "Epoch 5/20\n",
      "  Train Loss: 0.3629\n",
      "  SAE Train Loss (hidden one): 0.6697\n",
      "  SAE Train Loss (hidden two): 0.0740\n",
      "  Val Loss: 0.3639 | Val Acc: 89.60%\n",
      "  Saved model with Val Acc: 89.60%\n"
     ]
    },
    {
     "name": "stderr",
     "output_type": "stream",
     "text": [
      "                                                                                                                        \r"
     ]
    },
    {
     "name": "stdout",
     "output_type": "stream",
     "text": [
      "Epoch 6/20\n",
      "  Train Loss: 0.3478\n",
      "  SAE Train Loss (hidden one): 0.5414\n",
      "  SAE Train Loss (hidden two): 0.0683\n",
      "  Val Loss: 0.3624 | Val Acc: 89.49%\n"
     ]
    },
    {
     "name": "stderr",
     "output_type": "stream",
     "text": [
      "                                                                                                                        \r"
     ]
    },
    {
     "name": "stdout",
     "output_type": "stream",
     "text": [
      "Epoch 7/20\n",
      "  Train Loss: 0.3433\n",
      "  SAE Train Loss (hidden one): 0.5359\n",
      "  SAE Train Loss (hidden two): 0.0649\n",
      "  Val Loss: 0.3455 | Val Acc: 89.93%\n",
      "  Saved model with Val Acc: 89.93%\n"
     ]
    },
    {
     "name": "stderr",
     "output_type": "stream",
     "text": [
      "                                                                                                                        \r"
     ]
    },
    {
     "name": "stdout",
     "output_type": "stream",
     "text": [
      "Epoch 8/20\n",
      "  Train Loss: 0.3331\n",
      "  SAE Train Loss (hidden one): 0.5149\n",
      "  SAE Train Loss (hidden two): 0.0611\n",
      "  Val Loss: 0.3563 | Val Acc: 89.65%\n"
     ]
    },
    {
     "name": "stderr",
     "output_type": "stream",
     "text": [
      "                                                                                                                        \r"
     ]
    },
    {
     "name": "stdout",
     "output_type": "stream",
     "text": [
      "Epoch 9/20\n",
      "  Train Loss: 0.3250\n",
      "  SAE Train Loss (hidden one): 0.7083\n",
      "  SAE Train Loss (hidden two): 0.0645\n",
      "  Val Loss: 0.3382 | Val Acc: 89.59%\n"
     ]
    },
    {
     "name": "stderr",
     "output_type": "stream",
     "text": [
      "                                                                                                                        \r"
     ]
    },
    {
     "name": "stdout",
     "output_type": "stream",
     "text": [
      "Epoch 10/20\n",
      "  Train Loss: 0.3207\n",
      "  SAE Train Loss (hidden one): 0.5617\n",
      "  SAE Train Loss (hidden two): 0.0605\n",
      "  Val Loss: 0.3314 | Val Acc: 90.49%\n",
      "  Saved model with Val Acc: 90.49%\n"
     ]
    },
    {
     "name": "stderr",
     "output_type": "stream",
     "text": [
      "                                                                                                                        \r"
     ]
    },
    {
     "name": "stdout",
     "output_type": "stream",
     "text": [
      "Epoch 11/20\n",
      "  Train Loss: 0.3121\n",
      "  SAE Train Loss (hidden one): 0.8983\n",
      "  SAE Train Loss (hidden two): 0.0655\n",
      "  Val Loss: 0.3439 | Val Acc: 89.98%\n"
     ]
    },
    {
     "name": "stderr",
     "output_type": "stream",
     "text": [
      "                                                                                                                        \r"
     ]
    },
    {
     "name": "stdout",
     "output_type": "stream",
     "text": [
      "Epoch 12/20\n",
      "  Train Loss: 0.3032\n",
      "  SAE Train Loss (hidden one): 0.8071\n",
      "  SAE Train Loss (hidden two): 0.0617\n",
      "  Val Loss: 0.3131 | Val Acc: 90.84%\n",
      "  Saved model with Val Acc: 90.84%\n"
     ]
    },
    {
     "name": "stderr",
     "output_type": "stream",
     "text": [
      "                                                                                                                        \r"
     ]
    },
    {
     "name": "stdout",
     "output_type": "stream",
     "text": [
      "Epoch 13/20\n",
      "  Train Loss: 0.3004\n",
      "  SAE Train Loss (hidden one): 0.9484\n",
      "  SAE Train Loss (hidden two): 0.0653\n",
      "  Val Loss: 0.3070 | Val Acc: 90.91%\n",
      "  Saved model with Val Acc: 90.91%\n"
     ]
    },
    {
     "name": "stderr",
     "output_type": "stream",
     "text": [
      "                                                                                                                        \r"
     ]
    },
    {
     "name": "stdout",
     "output_type": "stream",
     "text": [
      "Epoch 14/20\n",
      "  Train Loss: 0.2893\n",
      "  SAE Train Loss (hidden one): 0.9577\n",
      "  SAE Train Loss (hidden two): 0.0657\n",
      "  Val Loss: 0.3333 | Val Acc: 90.16%\n"
     ]
    },
    {
     "name": "stderr",
     "output_type": "stream",
     "text": [
      "                                                                                                                        \r"
     ]
    },
    {
     "name": "stdout",
     "output_type": "stream",
     "text": [
      "Epoch 15/20\n",
      "  Train Loss: 0.2822\n",
      "  SAE Train Loss (hidden one): 0.9405\n",
      "  SAE Train Loss (hidden two): 0.0655\n",
      "  Val Loss: 0.3173 | Val Acc: 90.57%\n"
     ]
    },
    {
     "name": "stderr",
     "output_type": "stream",
     "text": [
      "                                                                                                                        \r"
     ]
    },
    {
     "name": "stdout",
     "output_type": "stream",
     "text": [
      "Epoch 16/20\n",
      "  Train Loss: 0.2766\n",
      "  SAE Train Loss (hidden one): 0.8203\n",
      "  SAE Train Loss (hidden two): 0.0635\n",
      "  Val Loss: 0.2935 | Val Acc: 91.30%\n",
      "  Saved model with Val Acc: 91.30%\n"
     ]
    },
    {
     "name": "stderr",
     "output_type": "stream",
     "text": [
      "                                                                                                                        \r"
     ]
    },
    {
     "name": "stdout",
     "output_type": "stream",
     "text": [
      "Epoch 17/20\n",
      "  Train Loss: 0.2655\n",
      "  SAE Train Loss (hidden one): 0.8587\n",
      "  SAE Train Loss (hidden two): 0.0608\n",
      "  Val Loss: 0.2962 | Val Acc: 91.41%\n",
      "  Saved model with Val Acc: 91.41%\n"
     ]
    },
    {
     "name": "stderr",
     "output_type": "stream",
     "text": [
      "                                                                                                                        \r"
     ]
    },
    {
     "name": "stdout",
     "output_type": "stream",
     "text": [
      "Epoch 18/20\n",
      "  Train Loss: 0.2624\n",
      "  SAE Train Loss (hidden one): 0.8419\n",
      "  SAE Train Loss (hidden two): 0.0616\n",
      "  Val Loss: 0.2780 | Val Acc: 92.01%\n",
      "  Saved model with Val Acc: 92.01%\n"
     ]
    },
    {
     "name": "stderr",
     "output_type": "stream",
     "text": [
      "                                                                                                                        \r"
     ]
    },
    {
     "name": "stdout",
     "output_type": "stream",
     "text": [
      "Epoch 19/20\n",
      "  Train Loss: 0.2576\n",
      "  SAE Train Loss (hidden one): 0.6956\n",
      "  SAE Train Loss (hidden two): 0.0549\n",
      "  Val Loss: 0.2956 | Val Acc: 91.41%\n"
     ]
    },
    {
     "name": "stderr",
     "output_type": "stream",
     "text": [
      "                                                                                                                        \r"
     ]
    },
    {
     "name": "stdout",
     "output_type": "stream",
     "text": [
      "Epoch 20/20\n",
      "  Train Loss: 0.2584\n",
      "  SAE Train Loss (hidden one): 0.8958\n",
      "  SAE Train Loss (hidden two): 0.0561\n",
      "  Val Loss: 0.2727 | Val Acc: 91.77%\n"
     ]
    },
    {
     "name": "stderr",
     "output_type": "stream",
     "text": [
      "Evaluation: 100%|██████████████████████████████████████████████████████████████████████| 79/79 [00:00<00:00, 284.39it/s]\n"
     ]
    },
    {
     "name": "stdout",
     "output_type": "stream",
     "text": [
      "Final Test Accuracy: 92.17%\n",
      "Average Reconstruction Error (Hidden One): 0.2542\n",
      "Average Reconstruction Error (Hidden Two): 0.0106\n",
      "Average Non-Zero Features per Image (Hidden One): 32.66\n",
      "Average Non-Zero Features per Image (Hidden Two): 32.90\n"
     ]
    },
    {
     "name": "stderr",
     "output_type": "stream",
     "text": [
      "/home/alex/.local/lib/python3.10/site-packages/sklearn/linear_model/_logistic.py:469: ConvergenceWarning: lbfgs failed to converge (status=1):\n",
      "STOP: TOTAL NO. of ITERATIONS REACHED LIMIT.\n",
      "\n",
      "Increase the number of iterations (max_iter) or scale the data as shown in:\n",
      "    https://scikit-learn.org/stable/modules/preprocessing.html\n",
      "Please also refer to the documentation for alternative solver options:\n",
      "    https://scikit-learn.org/stable/modules/linear_model.html#logistic-regression\n",
      "  n_iter_i = _check_optimize_result(\n"
     ]
    },
    {
     "name": "stdout",
     "output_type": "stream",
     "text": [
      "Linear Probe Accuracy (Hidden One): 91.40%\n"
     ]
    },
    {
     "name": "stderr",
     "output_type": "stream",
     "text": [
      "/home/alex/.local/lib/python3.10/site-packages/sklearn/linear_model/_logistic.py:469: ConvergenceWarning: lbfgs failed to converge (status=1):\n",
      "STOP: TOTAL NO. of ITERATIONS REACHED LIMIT.\n",
      "\n",
      "Increase the number of iterations (max_iter) or scale the data as shown in:\n",
      "    https://scikit-learn.org/stable/modules/preprocessing.html\n",
      "Please also refer to the documentation for alternative solver options:\n",
      "    https://scikit-learn.org/stable/modules/linear_model.html#logistic-regression\n",
      "  n_iter_i = _check_optimize_result(\n"
     ]
    },
    {
     "name": "stdout",
     "output_type": "stream",
     "text": [
      "Linear Probe Accuracy (Hidden Two): 91.75%\n",
      "\n",
      "##################################################\n",
      "Loss factor: 0.021000000000000008\n",
      "\n",
      "\n"
     ]
    },
    {
     "name": "stderr",
     "output_type": "stream",
     "text": [
      "                                                                                                                        \r"
     ]
    },
    {
     "name": "stdout",
     "output_type": "stream",
     "text": [
      "Epoch 1/20\n",
      "  Train Loss: 1.0637\n",
      "  SAE Train Loss (hidden one): 8.4362\n",
      "  SAE Train Loss (hidden two): 1.1502\n",
      "  Val Loss: 0.7067 | Val Acc: 81.40%\n",
      "  Saved model with Val Acc: 81.40%\n"
     ]
    },
    {
     "name": "stderr",
     "output_type": "stream",
     "text": [
      "                                                                                                                        \r"
     ]
    },
    {
     "name": "stdout",
     "output_type": "stream",
     "text": [
      "Epoch 2/20\n",
      "  Train Loss: 0.6051\n",
      "  SAE Train Loss (hidden one): 0.3724\n",
      "  SAE Train Loss (hidden two): 0.0781\n",
      "  Val Loss: 0.5343 | Val Acc: 84.80%\n",
      "  Saved model with Val Acc: 84.80%\n"
     ]
    },
    {
     "name": "stderr",
     "output_type": "stream",
     "text": [
      "                                                                                                                        \r"
     ]
    },
    {
     "name": "stdout",
     "output_type": "stream",
     "text": [
      "Epoch 3/20\n",
      "  Train Loss: 0.4840\n",
      "  SAE Train Loss (hidden one): 0.4864\n",
      "  SAE Train Loss (hidden two): 0.0768\n",
      "  Val Loss: 0.4510 | Val Acc: 87.38%\n",
      "  Saved model with Val Acc: 87.38%\n"
     ]
    },
    {
     "name": "stderr",
     "output_type": "stream",
     "text": [
      "                                                                                                                        \r"
     ]
    },
    {
     "name": "stdout",
     "output_type": "stream",
     "text": [
      "Epoch 4/20\n",
      "  Train Loss: 0.4083\n",
      "  SAE Train Loss (hidden one): 0.5684\n",
      "  SAE Train Loss (hidden two): 0.0823\n",
      "  Val Loss: 0.4045 | Val Acc: 88.16%\n",
      "  Saved model with Val Acc: 88.16%\n"
     ]
    },
    {
     "name": "stderr",
     "output_type": "stream",
     "text": [
      "                                                                                                                        \r"
     ]
    },
    {
     "name": "stdout",
     "output_type": "stream",
     "text": [
      "Epoch 5/20\n",
      "  Train Loss: 0.3750\n",
      "  SAE Train Loss (hidden one): 0.5424\n",
      "  SAE Train Loss (hidden two): 0.0735\n",
      "  Val Loss: 0.3689 | Val Acc: 89.12%\n",
      "  Saved model with Val Acc: 89.12%\n"
     ]
    },
    {
     "name": "stderr",
     "output_type": "stream",
     "text": [
      "                                                                                                                        \r"
     ]
    },
    {
     "name": "stdout",
     "output_type": "stream",
     "text": [
      "Epoch 6/20\n",
      "  Train Loss: 0.3505\n",
      "  SAE Train Loss (hidden one): 0.6073\n",
      "  SAE Train Loss (hidden two): 0.0704\n",
      "  Val Loss: 0.3401 | Val Acc: 90.07%\n",
      "  Saved model with Val Acc: 90.07%\n"
     ]
    },
    {
     "name": "stderr",
     "output_type": "stream",
     "text": [
      "                                                                                                                        \r"
     ]
    },
    {
     "name": "stdout",
     "output_type": "stream",
     "text": [
      "Epoch 7/20\n",
      "  Train Loss: 0.3405\n",
      "  SAE Train Loss (hidden one): 0.7847\n",
      "  SAE Train Loss (hidden two): 0.0709\n",
      "  Val Loss: 0.3376 | Val Acc: 90.18%\n",
      "  Saved model with Val Acc: 90.18%\n"
     ]
    },
    {
     "name": "stderr",
     "output_type": "stream",
     "text": [
      "                                                                                                                        \r"
     ]
    },
    {
     "name": "stdout",
     "output_type": "stream",
     "text": [
      "Epoch 8/20\n",
      "  Train Loss: 0.3295\n",
      "  SAE Train Loss (hidden one): 0.7966\n",
      "  SAE Train Loss (hidden two): 0.0716\n",
      "  Val Loss: 0.3318 | Val Acc: 90.26%\n",
      "  Saved model with Val Acc: 90.26%\n"
     ]
    },
    {
     "name": "stderr",
     "output_type": "stream",
     "text": [
      "                                                                                                                        \r"
     ]
    },
    {
     "name": "stdout",
     "output_type": "stream",
     "text": [
      "Epoch 9/20\n",
      "  Train Loss: 0.3144\n",
      "  SAE Train Loss (hidden one): 0.7759\n",
      "  SAE Train Loss (hidden two): 0.0672\n",
      "  Val Loss: 0.3282 | Val Acc: 89.91%\n"
     ]
    },
    {
     "name": "stderr",
     "output_type": "stream",
     "text": [
      "                                                                                                                        \r"
     ]
    },
    {
     "name": "stdout",
     "output_type": "stream",
     "text": [
      "Epoch 10/20\n",
      "  Train Loss: 0.3090\n",
      "  SAE Train Loss (hidden one): 0.7708\n",
      "  SAE Train Loss (hidden two): 0.0625\n",
      "  Val Loss: 0.3172 | Val Acc: 90.77%\n",
      "  Saved model with Val Acc: 90.77%\n"
     ]
    },
    {
     "name": "stderr",
     "output_type": "stream",
     "text": [
      "                                                                                                                        \r"
     ]
    },
    {
     "name": "stdout",
     "output_type": "stream",
     "text": [
      "Epoch 11/20\n",
      "  Train Loss: 0.3016\n",
      "  SAE Train Loss (hidden one): 1.0491\n",
      "  SAE Train Loss (hidden two): 0.0636\n",
      "  Val Loss: 0.3042 | Val Acc: 90.79%\n",
      "  Saved model with Val Acc: 90.79%\n"
     ]
    },
    {
     "name": "stderr",
     "output_type": "stream",
     "text": [
      "                                                                                                                        \r"
     ]
    },
    {
     "name": "stdout",
     "output_type": "stream",
     "text": [
      "Epoch 12/20\n",
      "  Train Loss: 0.2869\n",
      "  SAE Train Loss (hidden one): 0.8771\n",
      "  SAE Train Loss (hidden two): 0.0611\n",
      "  Val Loss: 0.2863 | Val Acc: 91.57%\n",
      "  Saved model with Val Acc: 91.57%\n"
     ]
    },
    {
     "name": "stderr",
     "output_type": "stream",
     "text": [
      "                                                                                                                        \r"
     ]
    },
    {
     "name": "stdout",
     "output_type": "stream",
     "text": [
      "Epoch 13/20\n",
      "  Train Loss: 0.2786\n",
      "  SAE Train Loss (hidden one): 0.8230\n",
      "  SAE Train Loss (hidden two): 0.0605\n",
      "  Val Loss: 0.2936 | Val Acc: 91.16%\n"
     ]
    },
    {
     "name": "stderr",
     "output_type": "stream",
     "text": [
      "                                                                                                                        \r"
     ]
    },
    {
     "name": "stdout",
     "output_type": "stream",
     "text": [
      "Epoch 14/20\n",
      "  Train Loss: 0.2750\n",
      "  SAE Train Loss (hidden one): 0.7286\n",
      "  SAE Train Loss (hidden two): 0.0561\n",
      "  Val Loss: 0.3197 | Val Acc: 90.54%\n"
     ]
    },
    {
     "name": "stderr",
     "output_type": "stream",
     "text": [
      "                                                                                                                        \r"
     ]
    },
    {
     "name": "stdout",
     "output_type": "stream",
     "text": [
      "Epoch 15/20\n",
      "  Train Loss: 0.2687\n",
      "  SAE Train Loss (hidden one): 0.6615\n",
      "  SAE Train Loss (hidden two): 0.0576\n",
      "  Val Loss: 0.3540 | Val Acc: 89.95%\n"
     ]
    },
    {
     "name": "stderr",
     "output_type": "stream",
     "text": [
      "                                                                                                                        \r"
     ]
    },
    {
     "name": "stdout",
     "output_type": "stream",
     "text": [
      "Epoch 16/20\n",
      "  Train Loss: 0.2673\n",
      "  SAE Train Loss (hidden one): 0.6640\n",
      "  SAE Train Loss (hidden two): 0.0546\n",
      "  Val Loss: 0.2748 | Val Acc: 92.03%\n",
      "  Saved model with Val Acc: 92.03%\n"
     ]
    },
    {
     "name": "stderr",
     "output_type": "stream",
     "text": [
      "                                                                                                                        \r"
     ]
    },
    {
     "name": "stdout",
     "output_type": "stream",
     "text": [
      "Epoch 17/20\n",
      "  Train Loss: 0.2620\n",
      "  SAE Train Loss (hidden one): 0.7026\n",
      "  SAE Train Loss (hidden two): 0.0540\n",
      "  Val Loss: 0.2902 | Val Acc: 91.63%\n"
     ]
    },
    {
     "name": "stderr",
     "output_type": "stream",
     "text": [
      "                                                                                                                        \r"
     ]
    },
    {
     "name": "stdout",
     "output_type": "stream",
     "text": [
      "Epoch 18/20\n",
      "  Train Loss: 0.2599\n",
      "  SAE Train Loss (hidden one): 0.6583\n",
      "  SAE Train Loss (hidden two): 0.0515\n",
      "  Val Loss: 0.2689 | Val Acc: 92.18%\n",
      "  Saved model with Val Acc: 92.18%\n"
     ]
    },
    {
     "name": "stderr",
     "output_type": "stream",
     "text": [
      "                                                                                                                        \r"
     ]
    },
    {
     "name": "stdout",
     "output_type": "stream",
     "text": [
      "Epoch 19/20\n",
      "  Train Loss: 0.2568\n",
      "  SAE Train Loss (hidden one): 0.6845\n",
      "  SAE Train Loss (hidden two): 0.0541\n",
      "  Val Loss: 0.2823 | Val Acc: 91.65%\n"
     ]
    },
    {
     "name": "stderr",
     "output_type": "stream",
     "text": [
      "                                                                                                                        \r"
     ]
    },
    {
     "name": "stdout",
     "output_type": "stream",
     "text": [
      "Epoch 20/20\n",
      "  Train Loss: 0.2533\n",
      "  SAE Train Loss (hidden one): 0.6713\n",
      "  SAE Train Loss (hidden two): 0.0553\n",
      "  Val Loss: 0.2714 | Val Acc: 92.10%\n"
     ]
    },
    {
     "name": "stderr",
     "output_type": "stream",
     "text": [
      "Evaluation: 100%|██████████████████████████████████████████████████████████████████████| 79/79 [00:00<00:00, 271.57it/s]"
     ]
    },
    {
     "name": "stdout",
     "output_type": "stream",
     "text": [
      "Final Test Accuracy: 92.24%\n",
      "Average Reconstruction Error (Hidden One): 0.2267\n",
      "Average Reconstruction Error (Hidden Two): 0.0171\n",
      "Average Non-Zero Features per Image (Hidden One): 32.51\n",
      "Average Non-Zero Features per Image (Hidden Two): 32.14\n"
     ]
    },
    {
     "name": "stderr",
     "output_type": "stream",
     "text": [
      "\n",
      "/home/alex/.local/lib/python3.10/site-packages/sklearn/linear_model/_logistic.py:469: ConvergenceWarning: lbfgs failed to converge (status=1):\n",
      "STOP: TOTAL NO. of ITERATIONS REACHED LIMIT.\n",
      "\n",
      "Increase the number of iterations (max_iter) or scale the data as shown in:\n",
      "    https://scikit-learn.org/stable/modules/preprocessing.html\n",
      "Please also refer to the documentation for alternative solver options:\n",
      "    https://scikit-learn.org/stable/modules/linear_model.html#logistic-regression\n",
      "  n_iter_i = _check_optimize_result(\n"
     ]
    },
    {
     "name": "stdout",
     "output_type": "stream",
     "text": [
      "Linear Probe Accuracy (Hidden One): 91.70%\n"
     ]
    },
    {
     "name": "stderr",
     "output_type": "stream",
     "text": [
      "/home/alex/.local/lib/python3.10/site-packages/sklearn/linear_model/_logistic.py:469: ConvergenceWarning: lbfgs failed to converge (status=1):\n",
      "STOP: TOTAL NO. of ITERATIONS REACHED LIMIT.\n",
      "\n",
      "Increase the number of iterations (max_iter) or scale the data as shown in:\n",
      "    https://scikit-learn.org/stable/modules/preprocessing.html\n",
      "Please also refer to the documentation for alternative solver options:\n",
      "    https://scikit-learn.org/stable/modules/linear_model.html#logistic-regression\n",
      "  n_iter_i = _check_optimize_result(\n"
     ]
    },
    {
     "name": "stdout",
     "output_type": "stream",
     "text": [
      "Linear Probe Accuracy (Hidden Two): 90.00%\n",
      "\n",
      "##################################################\n",
      "Loss factor: 0.02200000000000001\n",
      "\n",
      "\n"
     ]
    },
    {
     "name": "stderr",
     "output_type": "stream",
     "text": [
      "                                                                                                                        \r"
     ]
    },
    {
     "name": "stdout",
     "output_type": "stream",
     "text": [
      "Epoch 1/20\n",
      "  Train Loss: 1.0430\n",
      "  SAE Train Loss (hidden one): 8.7305\n",
      "  SAE Train Loss (hidden two): 1.1633\n",
      "  Val Loss: 0.5649 | Val Acc: 83.64%\n",
      "  Saved model with Val Acc: 83.64%\n"
     ]
    },
    {
     "name": "stderr",
     "output_type": "stream",
     "text": [
      "                                                                                                                        \r"
     ]
    },
    {
     "name": "stdout",
     "output_type": "stream",
     "text": [
      "Epoch 2/20\n",
      "  Train Loss: 0.4851\n",
      "  SAE Train Loss (hidden one): 0.4644\n",
      "  SAE Train Loss (hidden two): 0.0960\n",
      "  Val Loss: 0.4250 | Val Acc: 87.60%\n",
      "  Saved model with Val Acc: 87.60%\n"
     ]
    },
    {
     "name": "stderr",
     "output_type": "stream",
     "text": [
      "                                                                                                                        \r"
     ]
    },
    {
     "name": "stdout",
     "output_type": "stream",
     "text": [
      "Epoch 3/20\n",
      "  Train Loss: 0.4205\n",
      "  SAE Train Loss (hidden one): 0.4857\n",
      "  SAE Train Loss (hidden two): 0.0801\n",
      "  Val Loss: 0.4138 | Val Acc: 87.67%\n",
      "  Saved model with Val Acc: 87.67%\n"
     ]
    },
    {
     "name": "stderr",
     "output_type": "stream",
     "text": [
      "                                                                                                                        \r"
     ]
    },
    {
     "name": "stdout",
     "output_type": "stream",
     "text": [
      "Epoch 4/20\n",
      "  Train Loss: 0.3998\n",
      "  SAE Train Loss (hidden one): 0.4663\n",
      "  SAE Train Loss (hidden two): 0.0714\n",
      "  Val Loss: 0.3919 | Val Acc: 88.22%\n",
      "  Saved model with Val Acc: 88.22%\n"
     ]
    },
    {
     "name": "stderr",
     "output_type": "stream",
     "text": [
      "                                                                                                                        \r"
     ]
    },
    {
     "name": "stdout",
     "output_type": "stream",
     "text": [
      "Epoch 5/20\n",
      "  Train Loss: 0.3818\n",
      "  SAE Train Loss (hidden one): 0.4927\n",
      "  SAE Train Loss (hidden two): 0.0697\n",
      "  Val Loss: 0.3741 | Val Acc: 88.74%\n",
      "  Saved model with Val Acc: 88.74%\n"
     ]
    },
    {
     "name": "stderr",
     "output_type": "stream",
     "text": [
      "                                                                                                                        \r"
     ]
    },
    {
     "name": "stdout",
     "output_type": "stream",
     "text": [
      "Epoch 6/20\n",
      "  Train Loss: 0.3759\n",
      "  SAE Train Loss (hidden one): 0.5122\n",
      "  SAE Train Loss (hidden two): 0.0657\n",
      "  Val Loss: 0.3783 | Val Acc: 89.22%\n",
      "  Saved model with Val Acc: 89.22%\n"
     ]
    },
    {
     "name": "stderr",
     "output_type": "stream",
     "text": [
      "                                                                                                                        \r"
     ]
    },
    {
     "name": "stdout",
     "output_type": "stream",
     "text": [
      "Epoch 7/20\n",
      "  Train Loss: 0.3682\n",
      "  SAE Train Loss (hidden one): 0.5777\n",
      "  SAE Train Loss (hidden two): 0.0628\n",
      "  Val Loss: 0.3667 | Val Acc: 89.39%\n",
      "  Saved model with Val Acc: 89.39%\n"
     ]
    },
    {
     "name": "stderr",
     "output_type": "stream",
     "text": [
      "                                                                                                                        \r"
     ]
    },
    {
     "name": "stdout",
     "output_type": "stream",
     "text": [
      "Epoch 8/20\n",
      "  Train Loss: 0.3615\n",
      "  SAE Train Loss (hidden one): 0.5331\n",
      "  SAE Train Loss (hidden two): 0.0607\n",
      "  Val Loss: 0.3653 | Val Acc: 88.95%\n"
     ]
    },
    {
     "name": "stderr",
     "output_type": "stream",
     "text": [
      "                                                                                                                        \r"
     ]
    },
    {
     "name": "stdout",
     "output_type": "stream",
     "text": [
      "Epoch 9/20\n",
      "  Train Loss: 0.3570\n",
      "  SAE Train Loss (hidden one): 0.5864\n",
      "  SAE Train Loss (hidden two): 0.0579\n",
      "  Val Loss: 0.3583 | Val Acc: 89.61%\n",
      "  Saved model with Val Acc: 89.61%\n"
     ]
    },
    {
     "name": "stderr",
     "output_type": "stream",
     "text": [
      "                                                                                                                        \r"
     ]
    },
    {
     "name": "stdout",
     "output_type": "stream",
     "text": [
      "Epoch 10/20\n",
      "  Train Loss: 0.3534\n",
      "  SAE Train Loss (hidden one): 0.5465\n",
      "  SAE Train Loss (hidden two): 0.0576\n",
      "  Val Loss: 0.3832 | Val Acc: 88.90%\n"
     ]
    },
    {
     "name": "stderr",
     "output_type": "stream",
     "text": [
      "                                                                                                                        \r"
     ]
    },
    {
     "name": "stdout",
     "output_type": "stream",
     "text": [
      "Epoch 11/20\n",
      "  Train Loss: 0.3478\n",
      "  SAE Train Loss (hidden one): 0.6670\n",
      "  SAE Train Loss (hidden two): 0.0584\n",
      "  Val Loss: 0.3643 | Val Acc: 89.41%\n"
     ]
    },
    {
     "name": "stderr",
     "output_type": "stream",
     "text": [
      "                                                                                                                        \r"
     ]
    },
    {
     "name": "stdout",
     "output_type": "stream",
     "text": [
      "Epoch 12/20\n",
      "  Train Loss: 0.3456\n",
      "  SAE Train Loss (hidden one): 0.5439\n",
      "  SAE Train Loss (hidden two): 0.0525\n",
      "  Val Loss: 0.3572 | Val Acc: 89.39%\n"
     ]
    },
    {
     "name": "stderr",
     "output_type": "stream",
     "text": [
      "                                                                                                                        \r"
     ]
    },
    {
     "name": "stdout",
     "output_type": "stream",
     "text": [
      "Epoch 13/20\n",
      "  Train Loss: 0.3422\n",
      "  SAE Train Loss (hidden one): 0.5891\n",
      "  SAE Train Loss (hidden two): 0.0543\n",
      "  Val Loss: 0.3570 | Val Acc: 89.57%\n"
     ]
    },
    {
     "name": "stderr",
     "output_type": "stream",
     "text": [
      "                                                                                                                        \r"
     ]
    },
    {
     "name": "stdout",
     "output_type": "stream",
     "text": [
      "Epoch 14/20\n",
      "  Train Loss: 0.3390\n",
      "  SAE Train Loss (hidden one): 0.6481\n",
      "  SAE Train Loss (hidden two): 0.0519\n",
      "  Val Loss: 0.3729 | Val Acc: 89.06%\n"
     ]
    },
    {
     "name": "stderr",
     "output_type": "stream",
     "text": [
      "                                                                                                                        \r"
     ]
    },
    {
     "name": "stdout",
     "output_type": "stream",
     "text": [
      "Epoch 15/20\n",
      "  Train Loss: 0.3385\n",
      "  SAE Train Loss (hidden one): 0.5897\n",
      "  SAE Train Loss (hidden two): 0.0498\n",
      "  Val Loss: 0.3634 | Val Acc: 89.21%\n"
     ]
    },
    {
     "name": "stderr",
     "output_type": "stream",
     "text": [
      "                                                                                                                        \r"
     ]
    },
    {
     "name": "stdout",
     "output_type": "stream",
     "text": [
      "Epoch 16/20\n",
      "  Train Loss: 0.3342\n",
      "  SAE Train Loss (hidden one): 0.5949\n",
      "  SAE Train Loss (hidden two): 0.0493\n",
      "  Val Loss: 0.3427 | Val Acc: 89.94%\n",
      "  Saved model with Val Acc: 89.94%\n"
     ]
    },
    {
     "name": "stderr",
     "output_type": "stream",
     "text": [
      "                                                                                                                        \r"
     ]
    },
    {
     "name": "stdout",
     "output_type": "stream",
     "text": [
      "Epoch 17/20\n",
      "  Train Loss: 0.3335\n",
      "  SAE Train Loss (hidden one): 0.6491\n",
      "  SAE Train Loss (hidden two): 0.0488\n",
      "  Val Loss: 0.3530 | Val Acc: 89.80%\n"
     ]
    },
    {
     "name": "stderr",
     "output_type": "stream",
     "text": [
      "                                                                                                                        \r"
     ]
    },
    {
     "name": "stdout",
     "output_type": "stream",
     "text": [
      "Epoch 18/20\n",
      "  Train Loss: 0.3310\n",
      "  SAE Train Loss (hidden one): 0.7241\n",
      "  SAE Train Loss (hidden two): 0.0473\n",
      "  Val Loss: 0.3412 | Val Acc: 89.86%\n"
     ]
    },
    {
     "name": "stderr",
     "output_type": "stream",
     "text": [
      "                                                                                                                        \r"
     ]
    },
    {
     "name": "stdout",
     "output_type": "stream",
     "text": [
      "Epoch 19/20\n",
      "  Train Loss: 0.3300\n",
      "  SAE Train Loss (hidden one): 0.5892\n",
      "  SAE Train Loss (hidden two): 0.0470\n",
      "  Val Loss: 0.3656 | Val Acc: 89.01%\n"
     ]
    },
    {
     "name": "stderr",
     "output_type": "stream",
     "text": [
      "                                                                                                                        \r"
     ]
    },
    {
     "name": "stdout",
     "output_type": "stream",
     "text": [
      "Epoch 20/20\n",
      "  Train Loss: 0.3261\n",
      "  SAE Train Loss (hidden one): 0.6759\n",
      "  SAE Train Loss (hidden two): 0.0447\n",
      "  Val Loss: 0.3709 | Val Acc: 88.70%\n"
     ]
    },
    {
     "name": "stderr",
     "output_type": "stream",
     "text": [
      "Evaluation: 100%|██████████████████████████████████████████████████████████████████████| 79/79 [00:00<00:00, 276.31it/s]\n"
     ]
    },
    {
     "name": "stdout",
     "output_type": "stream",
     "text": [
      "Final Test Accuracy: 90.48%\n",
      "Average Reconstruction Error (Hidden One): 0.2240\n",
      "Average Reconstruction Error (Hidden Two): 0.0207\n",
      "Average Non-Zero Features per Image (Hidden One): 33.14\n",
      "Average Non-Zero Features per Image (Hidden Two): 34.08\n"
     ]
    },
    {
     "name": "stderr",
     "output_type": "stream",
     "text": [
      "/home/alex/.local/lib/python3.10/site-packages/sklearn/linear_model/_logistic.py:469: ConvergenceWarning: lbfgs failed to converge (status=1):\n",
      "STOP: TOTAL NO. of ITERATIONS REACHED LIMIT.\n",
      "\n",
      "Increase the number of iterations (max_iter) or scale the data as shown in:\n",
      "    https://scikit-learn.org/stable/modules/preprocessing.html\n",
      "Please also refer to the documentation for alternative solver options:\n",
      "    https://scikit-learn.org/stable/modules/linear_model.html#logistic-regression\n",
      "  n_iter_i = _check_optimize_result(\n"
     ]
    },
    {
     "name": "stdout",
     "output_type": "stream",
     "text": [
      "Linear Probe Accuracy (Hidden One): 86.43%\n"
     ]
    },
    {
     "name": "stderr",
     "output_type": "stream",
     "text": [
      "/home/alex/.local/lib/python3.10/site-packages/sklearn/linear_model/_logistic.py:469: ConvergenceWarning: lbfgs failed to converge (status=1):\n",
      "STOP: TOTAL NO. of ITERATIONS REACHED LIMIT.\n",
      "\n",
      "Increase the number of iterations (max_iter) or scale the data as shown in:\n",
      "    https://scikit-learn.org/stable/modules/preprocessing.html\n",
      "Please also refer to the documentation for alternative solver options:\n",
      "    https://scikit-learn.org/stable/modules/linear_model.html#logistic-regression\n",
      "  n_iter_i = _check_optimize_result(\n"
     ]
    },
    {
     "name": "stdout",
     "output_type": "stream",
     "text": [
      "Linear Probe Accuracy (Hidden Two): 86.51%\n",
      "\n"
     ]
    }
   ],
   "source": [
    "loss_data_dict = {}\n",
    "for loss_factor in loss_factors:\n",
    "    print(\"#\" * 50)\n",
    "    print(f\"Loss factor: {loss_factor}\\n\\n\")\n",
    "    ######################################################################################################\n",
    "    # MODELS INIT\n",
    "    ######################################################################################################\n",
    "    \n",
    "    # for reproducibility\n",
    "    seed = 42\n",
    "    torch.manual_seed(seed)\n",
    "    np.random.seed(seed)\n",
    "    random.seed(seed)\n",
    "    if torch.cuda.is_available():\n",
    "        torch.cuda.manual_seed_all(seed)\n",
    "        torch.backends.cudnn.deterministic = True\n",
    "        torch.backends.cudnn.benchmark = False\n",
    "    \n",
    "    model = NeuralNetwork().to(device)\n",
    "    \n",
    "    # loss functions\n",
    "    classification_loss_fn = nn.CrossEntropyLoss()\n",
    "    hidden_act_one_loss_fn = nn.CosineSimilarity()\n",
    "    \n",
    "    # optimizers\n",
    "    optimizer = torch.optim.Adam(model.parameters())\n",
    "    \n",
    "    # for reproducibility\n",
    "    seed = 42\n",
    "    torch.manual_seed(seed)\n",
    "    np.random.seed(seed)\n",
    "    random.seed(seed)\n",
    "    if torch.cuda.is_available():\n",
    "        torch.cuda.manual_seed_all(seed)\n",
    "        torch.backends.cudnn.deterministic = True\n",
    "        torch.backends.cudnn.benchmark = False\n",
    "        \n",
    "    sae_hidden_two = SparseAutoencoder(input_size=16, hidden_size=HIDDEN_SIZE).to(device)\n",
    "    optimizer_sae_hidden_two = torch.optim.Adam(sae_hidden_two.parameters())\n",
    "    \n",
    "    # for reproducibility\n",
    "    seed = 42\n",
    "    torch.manual_seed(seed)\n",
    "    np.random.seed(seed)\n",
    "    random.seed(seed)\n",
    "    if torch.cuda.is_available():\n",
    "        torch.cuda.manual_seed_all(seed)\n",
    "        torch.backends.cudnn.deterministic = True\n",
    "        torch.backends.cudnn.benchmark = False\n",
    "        \n",
    "    sae_hidden_one = SparseAutoencoder(input_size=16, hidden_size=HIDDEN_SIZE).to(device)\n",
    "    optimizer_sae_hidden_one = torch.optim.Adam(sae_hidden_one.parameters())\n",
    "    \n",
    "    ######################################################################################################\n",
    "    # DATA INIT\n",
    "    ######################################################################################################\n",
    "    \n",
    "    generator = torch.Generator().manual_seed(seed)\n",
    "    \n",
    "    NUM_WORKERS = 4\n",
    "    if device.type.lower() == \"cpu\":\n",
    "        NUM_WORKERS = 0\n",
    "    \n",
    "    # training data\n",
    "    train_dataset = EdgeDataset(train_images, train_labels, recon_max_sparse_act_one)\n",
    "    train_loader = DataLoader(train_dataset, batch_size=64, shuffle=True, num_workers=NUM_WORKERS, worker_init_fn=seed_worker, generator=generator)\n",
    "    \n",
    "    # validation data\n",
    "    val_dataset = EdgeDataset(val_images, val_labels)\n",
    "    val_loader = DataLoader(val_dataset, batch_size=128, shuffle=False, num_workers=NUM_WORKERS)  # larger batch size for faster validation\n",
    "    \n",
    "    # test data\n",
    "    test_dataset = EdgeDataset(test_images, test_labels)\n",
    "    test_loader = DataLoader(test_dataset, batch_size=128, shuffle=False, num_workers=NUM_WORKERS)\n",
    "    \n",
    "    ######################################################################################################\n",
    "    # TRAINING LOOP\n",
    "    ######################################################################################################\n",
    "    best_model = None\n",
    "    best_sae_one = None\n",
    "    best_sae_two = None\n",
    "    num_epochs = 20\n",
    "    \n",
    "    best_val_acc = 0.0\n",
    "    best_val_loss = float('inf')\n",
    "    \n",
    "    validation_losses = []\n",
    "    training_losses = []\n",
    "    SAE_hidden_one_losses = []\n",
    "    SAE_hidden_two_losses = []\n",
    "    \n",
    "    # Initialize storage for training features and labels\n",
    "    feature_activations_one_train = torch.zeros(HIDDEN_SIZE, len(train_loader.dataset))\n",
    "    feature_activations_two_train = torch.zeros(HIDDEN_SIZE, len(train_loader.dataset))\n",
    "    labels_train = torch.zeros(len(train_loader.dataset), dtype=torch.long)\n",
    "    \n",
    "    for epoch in range(num_epochs):\n",
    "        # --- Training Phase ---\n",
    "        model.train()  # set the model to training mode - this is currently a no-op\n",
    "        sae_hidden_two.train()\n",
    "        sae_hidden_one.train()\n",
    "        \n",
    "        train_loss = 0.0\n",
    "        total_sae_loss_hidden_two = 0.0\n",
    "        total_sae_loss_hidden_one = 0.0\n",
    "    \n",
    "        train_bar = tqdm(train_loader, desc=f\"Epoch {epoch + 1}/{num_epochs} [Train]\", leave=False)\n",
    "        for batch_idx, batch in enumerate(train_bar):\n",
    "            # deconstruct batch items\n",
    "            images, labels, acts_one = batch\n",
    "            images, labels, acts_one = images.to(device), labels.to(device), acts_one.to(device)\n",
    "            \n",
    "            # forward pass\n",
    "            classification_out, hidden_act_one, hidden_act_two = model(images)\n",
    "    \n",
    "            # Classification loss and backprop\n",
    "            optimizer.zero_grad()\n",
    "            \n",
    "            sub_loss = (1 - hidden_act_one_loss_fn(hidden_act_one, acts_one)).mean()\n",
    "            total_loss = classification_loss_fn(classification_out, labels) + loss_factor * (sub_loss)\n",
    "            total_loss.backward()\n",
    "            \n",
    "            optimizer.step()\n",
    "            train_loss += total_loss.item()\n",
    "            train_bar.set_postfix(loss=total_loss.item())\n",
    "    \n",
    "            # to prevent backprop on both graphs:\n",
    "            hidden_act_one_detached = hidden_act_one.detach()\n",
    "            hidden_act_two_detached = hidden_act_two.detach()\n",
    "    \n",
    "            # SAE loss and backprop - hidden layer one\n",
    "            optimizer_sae_hidden_one.zero_grad()\n",
    "            reconstructed_one, encoded_one = sae_hidden_one(hidden_act_one_detached)\n",
    "            sae_loss_hidden_one = sae_hidden_one.loss(hidden_act_one_detached,\n",
    "                                                      reconstructed_one,\n",
    "                                                      encoded_one,\n",
    "                                                      l1_lambda=L1_PENALTY\n",
    "                                                     )\n",
    "            sae_loss_hidden_one.backward()\n",
    "            optimizer_sae_hidden_one.step()\n",
    "            total_sae_loss_hidden_one += sae_loss_hidden_one.item()\n",
    "            \n",
    "            # SAE loss and backprop - hidden layer two\n",
    "            optimizer_sae_hidden_two.zero_grad()\n",
    "            reconstructed_two, encoded_two = sae_hidden_two(hidden_act_two_detached)\n",
    "            sae_loss_hidden_two = sae_hidden_two.loss(hidden_act_two_detached,\n",
    "                                                      reconstructed_two,\n",
    "                                                      encoded_two,\n",
    "                                                      l1_lambda=L1_PENALTY\n",
    "                                                     )\n",
    "            sae_loss_hidden_two.backward()\n",
    "            optimizer_sae_hidden_two.step()\n",
    "            total_sae_loss_hidden_two += sae_loss_hidden_two.item()\n",
    "    \n",
    "            # Store training features and labels\n",
    "            start_idx = batch_idx * train_loader.batch_size\n",
    "            end_idx = start_idx + images.size(0)\n",
    "            feature_activations_one_train[:, start_idx:end_idx] = encoded_one.T.cpu()\n",
    "            feature_activations_two_train[:, start_idx:end_idx] = encoded_two.T.cpu()\n",
    "            labels_train[start_idx:end_idx] = labels.cpu()\n",
    "    \n",
    "        # --- Validation Phase ---\n",
    "        model.eval()\n",
    "        val_loss = 0.0\n",
    "        correct = 0\n",
    "        total = 0\n",
    "        \n",
    "        val_bar = tqdm(val_loader, desc=f\"Epoch {epoch + 1}/{num_epochs} [Val]\", leave=False)\n",
    "        with torch.no_grad():\n",
    "            for batch in val_bar:\n",
    "                # deconstruct\n",
    "                images, labels = batch\n",
    "                images, labels = images.to(device), labels.to(device)\n",
    "    \n",
    "                # forward pass\n",
    "                classification_out, _, _ = model(images)\n",
    "    \n",
    "                # compute loss\n",
    "                loss = classification_loss_fn(classification_out, labels)\n",
    "    \n",
    "                # calculate metrics\n",
    "                val_loss += loss.item()\n",
    "                _, predicted = torch.max(classification_out, 1)\n",
    "                correct += (predicted == labels).sum().item()\n",
    "                total += labels.size(0)\n",
    "    \n",
    "        # epoch stats\n",
    "        avg_train_loss = train_loss / len(train_loader)\n",
    "        avg_val_loss = val_loss / len(val_loader)\n",
    "        avg_sae_train_loss_hidden_one = total_sae_loss_hidden_one / len(train_loader)\n",
    "        avg_sae_train_loss_hidden_two = total_sae_loss_hidden_two / len(train_loader)\n",
    "        val_accuracy = 100 * correct / total\n",
    "    \n",
    "        print(f\"Epoch {epoch+1}/{num_epochs}\")\n",
    "        print(f\"  Train Loss: {avg_train_loss:.4f}\")\n",
    "        print(f\"  SAE Train Loss (hidden one): {avg_sae_train_loss_hidden_one:.4f}\")\n",
    "        print(f\"  SAE Train Loss (hidden two): {avg_sae_train_loss_hidden_two:.4f}\")\n",
    "        print(f\"  Val Loss: {avg_val_loss:.4f} | Val Acc: {val_accuracy:.2f}%\")\n",
    "    \n",
    "        model_path = f'./models/{EXPERIMENT_TYPE}/{RUN_ID}/best_model_baseline_{epoch+1}.pth'\n",
    "        os.makedirs(os.path.dirname(model_path), exist_ok=True)\n",
    "        if val_accuracy > best_val_acc:\n",
    "            best_val_acc = val_accuracy\n",
    "            best_val_loss = avg_val_loss  # Update loss for reference\n",
    "            torch.save(model.state_dict(), model_path)\n",
    "            print(f\"  Saved model with Val Acc: {val_accuracy:.2f}%\")\n",
    "    \n",
    "            best_model = copy.deepcopy(model)\n",
    "            best_sae_one = copy.deepcopy(sae_hidden_one)\n",
    "            best_sae_two = copy.deepcopy(sae_hidden_two)\n",
    "            \n",
    "        # Optional: Save if accuracy is equal but loss is lower\n",
    "        elif val_accuracy == best_val_acc and avg_val_loss < best_val_loss:\n",
    "            best_val_loss = avg_val_loss\n",
    "            torch.save(model.state_dict(), model_path)\n",
    "            print(f\"  Saved model with same Val Acc: {val_accuracy:.2f}% but lower Val Loss: {avg_val_loss:.4f}\")\n",
    "    \n",
    "            best_model = copy.deepcopy(model)\n",
    "            best_sae_one = copy.deepcopy(sae_hidden_one)\n",
    "            best_sae_two = copy.deepcopy(sae_hidden_two)\n",
    "    \n",
    "        validation_losses.append(avg_val_loss)\n",
    "        training_losses.append(avg_train_loss)\n",
    "        SAE_hidden_one_losses.append(avg_sae_train_loss_hidden_one)\n",
    "        SAE_hidden_two_losses.append(avg_sae_train_loss_hidden_two)\n",
    "    \n",
    "    Z_train_one = feature_activations_one_train.detach().T.numpy()\n",
    "    Z_train_two = feature_activations_two_train.detach().T.numpy()\n",
    "    y_train = labels_train.numpy()\n",
    "    \n",
    "    \n",
    "    ######################################################################################################\n",
    "    # EVAL\n",
    "    ######################################################################################################\n",
    "    best_model.eval()  # again currently a no-op\n",
    "    best_sae_one.eval()\n",
    "    best_sae_two.eval()\n",
    "    \n",
    "    test_correct = 0\n",
    "    test_total = 0\n",
    "    \n",
    "    feature_activations_one_test = torch.zeros(HIDDEN_SIZE, len(test_images))\n",
    "    feature_activations_two_test = torch.zeros(HIDDEN_SIZE, len(test_images))\n",
    "    labels_test = torch.zeros(len(test_images), dtype=torch.long)\n",
    "    \n",
    "    recon_errors_one = []\n",
    "    recon_errors_two = []\n",
    "    \n",
    "    with torch.no_grad():\n",
    "        test_bar = tqdm(test_loader, desc=f\"Evaluation\")\n",
    "        for i, batch in enumerate(test_bar):\n",
    "            images, labels = batch\n",
    "            images, labels = images.to(device), labels.to(device)\n",
    "    \n",
    "            # forward pass\n",
    "            classification_out, hidden_one_act, hidden_two_act = best_model(images)\n",
    "            reconstructed_one, encoded_one = best_sae_one(hidden_one_act)\n",
    "            reconstructed_two, encoded_two = best_sae_two(hidden_two_act)\n",
    "    \n",
    "            # SAE reconstruction\n",
    "            recon_errors_one.append(torch.mean((hidden_one_act - reconstructed_one) ** 2).item())\n",
    "            recon_errors_two.append(torch.mean((hidden_two_act - reconstructed_two) ** 2).item())\n",
    "    \n",
    "            start_idx = i * test_loader.batch_size\n",
    "            end_idx = start_idx + images.size(0)\n",
    "            feature_activations_one_test[:, start_idx:end_idx] = encoded_one.T.cpu()\n",
    "            feature_activations_two_test[:, start_idx:end_idx] = encoded_two.T.cpu()\n",
    "            labels_test[start_idx:end_idx] = labels.cpu()\n",
    "    \n",
    "            # stats\n",
    "            _, predicted = torch.max(classification_out, 1)\n",
    "            test_correct += (predicted == labels).sum().item()\n",
    "            test_total += labels.size(0)\n",
    "    \n",
    "    Z_test_one = feature_activations_one_test.T.numpy()\n",
    "    Z_test_two = feature_activations_two_test.T.numpy()\n",
    "    y_test = labels_test.numpy()\n",
    "    \n",
    "    test_accuracy = 100 * test_correct / test_total\n",
    "    print(f\"Final Test Accuracy: {test_accuracy:.2f}%\")\n",
    "    \n",
    "    # reconstruction accuracy of SAE at each layer\n",
    "    avg_recon_error_one = np.mean(recon_errors_one)\n",
    "    avg_recon_error_two = np.mean(recon_errors_two)\n",
    "    print(f\"Average Reconstruction Error (Hidden One): {avg_recon_error_one:.4f}\")\n",
    "    print(f\"Average Reconstruction Error (Hidden Two): {avg_recon_error_two:.4f}\")\n",
    "    \n",
    "    # Compute sparsity (average non-zero features per image)\n",
    "    sparsity_one = torch.mean((feature_activations_one_test > 1e-5).float()).item() * 64\n",
    "    sparsity_two = torch.mean((feature_activations_two_test > 1e-5).float()).item() * 64\n",
    "    print(f\"Average Non-Zero Features per Image (Hidden One): {sparsity_one:.2f}\")\n",
    "    print(f\"Average Non-Zero Features per Image (Hidden Two): {sparsity_two:.2f}\")\n",
    "    \n",
    "    ######################################################################################################\n",
    "    # SPARSE FEATURE PROBES\n",
    "    ######################################################################################################\n",
    "        \n",
    "    clf_one = LogisticRegression(penalty='l2', max_iter=1000, n_jobs=-1)\n",
    "    clf_one.fit(Z_train_one, y_train)\n",
    "    acc_one = clf_one.score(Z_test_one, y_test)\n",
    "    print(f\"Linear Probe Accuracy (Hidden One): {acc_one:.2%}\")\n",
    "    \n",
    "    clf_two = LogisticRegression(penalty='l2', max_iter=1000, n_jobs=-1)\n",
    "    clf_two.fit(Z_train_two, y_train)\n",
    "    acc_two = clf_two.score(Z_test_two, y_test)\n",
    "    print(f\"Linear Probe Accuracy (Hidden Two): {acc_two:.2%}\")\n",
    "\n",
    "    loss_data_dict[loss_factor] = {}\n",
    "    loss_data_dict[loss_factor][\"Final_Accuracy\"] = test_accuracy\n",
    "    loss_data_dict[loss_factor][\"Final_Loss\"] = avg_train_loss\n",
    "    loss_data_dict[loss_factor][\"S1_Probe_Acccuracy\"] = acc_one\n",
    "    loss_data_dict[loss_factor][\"S2_Probe_Acccuracy\"] = acc_two\n",
    "    loss_data_dict[loss_factor][\"Loss_Plot_Data\"] = (validation_losses, training_losses, SAE_hidden_one_losses, SAE_hidden_two_losses)\n",
    "\n",
    "    del feature_activations_one_train, feature_activations_two_train, labels_train\n",
    "    del feature_activations_one_test, feature_activations_two_test, labels_test\n",
    "    del best_model, best_sae_one, best_sae_two\n",
    "    del validation_losses, training_losses, SAE_hidden_one_losses, SAE_hidden_two_losses\n",
    "    del clf_two, clf_one\n",
    "    del model, sae_hidden_one, sae_hidden_two\n",
    "    del train_dataset, train_loader\n",
    "    del test_dataset, test_loader\n",
    "    del val_dataset, val_loader\n",
    "    torch.cuda.empty_cache()\n",
    "    print()"
   ]
  },
  {
   "cell_type": "code",
   "execution_count": 17,
   "id": "60ce1426-747d-470a-a42a-d5b13b3c776c",
   "metadata": {},
   "outputs": [
    {
     "data": {
      "text/plain": [
       "dict_keys([0.011, 0.012, 0.013000000000000001, 0.014000000000000002, 0.015000000000000003, 0.016000000000000004, 0.017000000000000005, 0.018000000000000006, 0.019000000000000006, 0.020000000000000007, 0.021000000000000008, 0.02200000000000001])"
      ]
     },
     "execution_count": 17,
     "metadata": {},
     "output_type": "execute_result"
    }
   ],
   "source": [
    "loss_data_dict.keys()"
   ]
  },
  {
   "cell_type": "code",
   "execution_count": 18,
   "id": "bdd96fe2-4d73-41b2-8d57-556ba65e9e38",
   "metadata": {
    "scrolled": true
   },
   "outputs": [
    {
     "name": "stdout",
     "output_type": "stream",
     "text": [
      "0.019000000000000006\n",
      "92.29\n",
      "0.927\n",
      "0.9246\n"
     ]
    }
   ],
   "source": [
    "max_acc = 0\n",
    "max_digit = -1\n",
    "for digit in loss_data_dict.keys():\n",
    "    if loss_data_dict[digit][\"Final_Accuracy\"] > max_acc:\n",
    "        max_acc = loss_data_dict[digit][\"Final_Accuracy\"]\n",
    "        max_digit = digit\n",
    "\n",
    "print(max_digit)\n",
    "print(loss_data_dict[max_digit][\"Final_Accuracy\"])\n",
    "print(loss_data_dict[max_digit][\"S1_Probe_Acccuracy\"])\n",
    "print(loss_data_dict[max_digit][\"S2_Probe_Acccuracy\"])"
   ]
  },
  {
   "cell_type": "code",
   "execution_count": 19,
   "id": "2e6ba107-3ab6-473f-b610-5283e28e633b",
   "metadata": {},
   "outputs": [],
   "source": [
    "import pickle\n",
    "\n",
    "file_path = f\"./v2-2_loss_data_dict_{min_loss}_to_{max_loss}.pkl\"\n",
    "with open(file_path, \"wb\") as f:\n",
    "    pickle.dump(loss_data_dict, f)"
   ]
  },
  {
   "cell_type": "code",
   "execution_count": null,
   "id": "85a76b01-a6b5-4e71-a753-442518fd19e8",
   "metadata": {},
   "outputs": [],
   "source": []
  }
 ],
 "metadata": {
  "kernelspec": {
   "display_name": "Python 3 (ipykernel)",
   "language": "python",
   "name": "python3"
  },
  "language_info": {
   "codemirror_mode": {
    "name": "ipython",
    "version": 3
   },
   "file_extension": ".py",
   "mimetype": "text/x-python",
   "name": "python",
   "nbconvert_exporter": "python",
   "pygments_lexer": "ipython3",
   "version": "3.10.12"
  }
 },
 "nbformat": 4,
 "nbformat_minor": 5
}
