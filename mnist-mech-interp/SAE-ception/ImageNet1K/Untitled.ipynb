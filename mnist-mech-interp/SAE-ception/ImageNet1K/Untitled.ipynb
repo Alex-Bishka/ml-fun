{
 "cells": [
  {
   "cell_type": "code",
   "execution_count": 1,
   "id": "b3b915dd-463a-4137-b354-cd483b09ac14",
   "metadata": {},
   "outputs": [],
   "source": [
    "import numpy as np\n",
    "from datasets import load_dataset\n",
    "\n",
    "# Import your own set_seed function to ensure consistency\n",
    "from helpers.helpers import set_seed"
   ]
  },
  {
   "cell_type": "code",
   "execution_count": 15,
   "id": "6addc8bd-9d65-4b82-8829-365692f10899",
   "metadata": {},
   "outputs": [],
   "source": [
    "act_1 = \"./SAE-Results/training-features/baseline/aux-activations-top-25\"\n",
    "act_2 = \"./SAE-Results/training-features/baseline/aux_activations-top-35\""
   ]
  },
  {
   "cell_type": "code",
   "execution_count": 16,
   "id": "925988e6-bb19-44c3-9f0a-5a1ff1facea1",
   "metadata": {},
   "outputs": [],
   "source": [
    "c1_path = f\"{act_1}/aux_chunk_0.npz\"\n",
    "c1_data = np.load(c1_path)"
   ]
  },
  {
   "cell_type": "code",
   "execution_count": 17,
   "id": "1871419f-86e0-4d58-a378-ce99860ebc3e",
   "metadata": {},
   "outputs": [
    {
     "data": {
      "text/plain": [
       "1536"
      ]
     },
     "execution_count": 17,
     "metadata": {},
     "output_type": "execute_result"
    }
   ],
   "source": [
    "c1_sparse = c1_data['recon_top'][0]\n",
    "np.count_nonzero(c1_sparse)"
   ]
  },
  {
   "cell_type": "code",
   "execution_count": 18,
   "id": "63ecf1db-2db7-4044-9a58-e58d339b4433",
   "metadata": {},
   "outputs": [
    {
     "data": {
      "text/plain": [
       "1536"
      ]
     },
     "execution_count": 18,
     "metadata": {},
     "output_type": "execute_result"
    }
   ],
   "source": [
    "c2_path = f\"{act_2}/aux_chunk_0.npz\"\n",
    "c2_data = np.load(c2_path)\n",
    "c2_sparse = c2_data['recon_top'][0]\n",
    "np.count_nonzero(c2_sparse)"
   ]
  },
  {
   "cell_type": "code",
   "execution_count": 19,
   "id": "2787b9bf-4965-4ec8-b38c-4fcbfbebe8f4",
   "metadata": {},
   "outputs": [
    {
     "data": {
      "text/plain": [
       "1536"
      ]
     },
     "execution_count": 19,
     "metadata": {},
     "output_type": "execute_result"
    }
   ],
   "source": [
    "c2_ab = c2_data['recon_ablated'][0]\n",
    "np.count_nonzero(c2_ab)"
   ]
  },
  {
   "cell_type": "code",
   "execution_count": 11,
   "id": "f4a910fd-80a8-4d45-8fa1-0c563b15aadc",
   "metadata": {},
   "outputs": [
    {
     "data": {
      "text/plain": [
       "numpy.ndarray"
      ]
     },
     "execution_count": 11,
     "metadata": {},
     "output_type": "execute_result"
    }
   ],
   "source": [
    "type(c1_sparse)"
   ]
  },
  {
   "cell_type": "code",
   "execution_count": null,
   "id": "b29b2b56-0be4-4c31-a1e7-2e6e8704bd8a",
   "metadata": {},
   "outputs": [],
   "source": [
    "chunk_path_c = f\"{ACTIVATIONS_BASE_PATH_c}/chunk_0.npz\"\n",
    "chunk_data_c = np.load(chunk_path_c)\n",
    "chunk_path_0 = f\"{ACTIVATIONS_BASE_PATH_0}/chunk_0.npz\"\n",
    "chunk_data_0 = np.load(chunk_path_0)\n",
    "# The labels are saved as a numpy array in the chunk\n",
    "for i in range(len(chunk_data_c[\"labels\"])):\n",
    "    chunk_data_c['sparse'][i] \n",
    "    chunk_data_0['sparse'][i]\n",
    "\n",
    "    if not np.array_equal(chunk_data_0, chunk_data_c):\n",
    "        print(f\"-> NOT the same!\")\n",
    "    continue"
   ]
  }
 ],
 "metadata": {
  "kernelspec": {
   "display_name": "Python 3 (ipykernel)",
   "language": "python",
   "name": "python3"
  },
  "language_info": {
   "codemirror_mode": {
    "name": "ipython",
    "version": 3
   },
   "file_extension": ".py",
   "mimetype": "text/x-python",
   "name": "python",
   "nbconvert_exporter": "python",
   "pygments_lexer": "ipython3",
   "version": "3.10.12"
  }
 },
 "nbformat": 4,
 "nbformat_minor": 5
}
