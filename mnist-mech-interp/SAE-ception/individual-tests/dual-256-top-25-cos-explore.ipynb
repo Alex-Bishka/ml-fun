{
 "cells": [
  {
   "cell_type": "markdown",
   "id": "84207c44-9c22-4853-943c-5a6cb08bdbdf",
   "metadata": {},
   "source": [
    "# Training on SAE Sparse Features\n",
    "\n",
    "Loss factor of 0.01, working with the 25 highest activating features per digit\n",
    "\n",
    "Cosine instead of MSE for auxilary loss - it seemed to work quite well, and makes auxiliary loss easier to manage w/global loss."
   ]
  },
  {
   "cell_type": "code",
   "execution_count": 1,
   "id": "10aa37d0-59c1-4368-aec0-83ccb0ce6a4b",
   "metadata": {},
   "outputs": [],
   "source": [
    "import time\n",
    "\n",
    "EXPERIMENT_TYPE = \"SAE\"\n",
    "RUN_ID = time.time()"
   ]
  },
  {
   "cell_type": "markdown",
   "id": "f2b67228-330c-480e-99b5-cb4001e89013",
   "metadata": {},
   "source": [
    "## SAE Params"
   ]
  },
  {
   "cell_type": "code",
   "execution_count": 2,
   "id": "250d7778-885a-4a6d-9bd2-ddbcb9a27be3",
   "metadata": {},
   "outputs": [],
   "source": [
    "HIDDEN_SIZE = 256\n",
    "L1_PENALTY = 0.01\n",
    "N = 25"
   ]
  },
  {
   "cell_type": "markdown",
   "id": "fcf4a0ba-710d-4882-9bd0-f948e9f6fb9d",
   "metadata": {},
   "source": [
    "## Imports"
   ]
  },
  {
   "cell_type": "code",
   "execution_count": 3,
   "id": "4a4018f1-cb83-4f0b-90db-0f48aad1fe9f",
   "metadata": {},
   "outputs": [],
   "source": [
    "import random\n",
    "import copy\n",
    "\n",
    "import numpy as np\n",
    "import pandas as pd\n",
    "import matplotlib.pyplot as plt\n",
    "from sklearn.model_selection import train_test_split\n",
    "from sklearn.linear_model import LogisticRegression\n",
    "\n",
    "\n",
    "import torch\n",
    "from torch import nn\n",
    "from torch.utils.data import Dataset, DataLoader\n",
    "\n",
    "from tqdm import tqdm"
   ]
  },
  {
   "cell_type": "code",
   "execution_count": 4,
   "id": "6e7038c3-06d1-4d3c-9b44-2f2bc3485f57",
   "metadata": {},
   "outputs": [],
   "source": [
    "from graph_helpers import (plot_weights,\n",
    "                    plot_activations,\n",
    "                    plot_losses,\n",
    "                    plot_saliency_map,\n",
    "                    plot_sparse_vecs_by_image,\n",
    "                    plot_top_act_images_by_feature,\n",
    "                    feature_inversion\n",
    "                )"
   ]
  },
  {
   "cell_type": "code",
   "execution_count": 5,
   "id": "2c069cc3-458e-4825-9828-c771c7f7370a",
   "metadata": {},
   "outputs": [],
   "source": [
    "import sys, os\n",
    "from pathlib import Path\n",
    "\n",
    "# assume cwd is project_root/data_loader\n",
    "project_root = Path(os.getcwd()).parent  # go up one level to project_root\n",
    "sys.path.insert(0, str(project_root))\n",
    "\n",
    "from helpers import load_images, load_labels, visualize_image, get_edges, load_intermediate_labels"
   ]
  },
  {
   "cell_type": "markdown",
   "id": "6cbef66c-0819-4e4f-9fb7-346b8b786a6b",
   "metadata": {},
   "source": [
    "## Set Device to GPU"
   ]
  },
  {
   "cell_type": "code",
   "execution_count": 6,
   "id": "67f93931-772a-4720-b394-0cff7884a1ba",
   "metadata": {},
   "outputs": [
    {
     "name": "stdout",
     "output_type": "stream",
     "text": [
      "We will be using device: cuda\n"
     ]
    }
   ],
   "source": [
    "device = torch.device('cuda' if torch.cuda.is_available() else 'cpu')\n",
    "print(f\"We will be using device: {device}\")"
   ]
  },
  {
   "cell_type": "markdown",
   "id": "7b553d6d-7e3a-4973-a472-3c735df1b699",
   "metadata": {},
   "source": [
    "## Load Data"
   ]
  },
  {
   "cell_type": "code",
   "execution_count": 7,
   "id": "070db857-3892-4a37-b24a-b3f8a8d7bb37",
   "metadata": {},
   "outputs": [],
   "source": [
    "# train data\n",
    "train_images = load_intermediate_labels(\"first_layer/train_images.pkl\")\n",
    "train_labels = load_intermediate_labels(\"first_layer/train_labels.pkl\")\n",
    "\n",
    "# val data\n",
    "val_images = load_intermediate_labels(\"first_layer/val_images.pkl\")\n",
    "val_labels = load_intermediate_labels(\"first_layer/val_labels.pkl\")\n",
    "\n",
    "# test data\n",
    "test_images = load_intermediate_labels(\"first_layer/test_images.pkl\")\n",
    "test_labels = load_intermediate_labels(\"first_layer/test_labels.pkl\")\n",
    "\n",
    "# intermediate labels\n",
    "recon_max_sparse_act_one = load_intermediate_labels(f\"first_layer/train_images_recon_max_sparse_top_{N}.pkl\")\n",
    "recon_max_sparse_act_one_ablated = load_intermediate_labels(f\"first_layer/train_images_recon_max_sparse_ablated_top_{N}.pkl\")\n",
    "\n",
    "v2_recon_max_sparse_act_one = load_intermediate_labels(f\"first_layer/recon_max_sparse_top_{N}_v2.pkl\")\n",
    "v2_recon_max_sparse_act_one_ablated = load_intermediate_labels(f\"first_layer/recon_max_sparse_ablated_top_{N}_v2.pkl\")"
   ]
  },
  {
   "cell_type": "code",
   "execution_count": 8,
   "id": "70de73dd-39e5-4c74-b3a3-03b6155d3fd5",
   "metadata": {},
   "outputs": [
    {
     "data": {
      "text/plain": [
       "torch.Tensor"
      ]
     },
     "execution_count": 8,
     "metadata": {},
     "output_type": "execute_result"
    }
   ],
   "source": [
    "type(recon_max_sparse_act_one[0])"
   ]
  },
  {
   "cell_type": "code",
   "execution_count": 9,
   "id": "a75e03f6-1174-4b0a-bac4-a30b30deff63",
   "metadata": {},
   "outputs": [
    {
     "name": "stdout",
     "output_type": "stream",
     "text": [
      "Train images shape: (50000, 28, 28)\n",
      "Val images shape: (10000, 28, 28)\n",
      "Test images shape: (10000, 28, 28)\n"
     ]
    }
   ],
   "source": [
    "print(\"Train images shape:\", train_images.shape)\n",
    "print(\"Val images shape:\", val_images.shape)\n",
    "print(\"Test images shape:\", test_images.shape)"
   ]
  },
  {
   "cell_type": "markdown",
   "id": "39ca05d5-d791-4fbb-9736-b52a5eae1409",
   "metadata": {},
   "source": [
    "## Visualize an image"
   ]
  },
  {
   "cell_type": "code",
   "execution_count": 10,
   "id": "10a6f14c-5f30-4237-933c-55a6f254a9df",
   "metadata": {},
   "outputs": [
    {
     "data": {
      "image/png": "[encoded data removed]",
      "text/plain": [
       "<Figure size 300x300 with 1 Axes>"
      ]
     },
     "metadata": {},
     "output_type": "display_data"
    }
   ],
   "source": [
    "sample_image = train_images[0]\n",
    "sample_label = train_labels[0]\n",
    "visualize_image(sample_image, sample_label)"
   ]
  },
  {
   "cell_type": "markdown",
   "id": "00d7fd35-fd62-4598-89f5-58f98567ad3c",
   "metadata": {},
   "source": [
    "## Architecture\n",
    "\n",
    "### NN\n",
    "\n",
    "Once again, two hidden layers. 16 nodes each. Same as 3blue1brown."
   ]
  },
  {
   "cell_type": "code",
   "execution_count": 11,
   "id": "1e5d2535-98f4-4c1e-8073-c5373a5b56c0",
   "metadata": {},
   "outputs": [],
   "source": [
    "class NeuralNetwork(nn.Module):\n",
    "    def __init__(self):\n",
    "        super().__init__()\n",
    "        layer_size_by_pixels = 28*28\n",
    "        \n",
    "        self.flatten = nn.Flatten()\n",
    "        \n",
    "        # define layers separately to have access to each\n",
    "        self.hidden_one = nn.Linear(layer_size_by_pixels, 16)\n",
    "        self.hidden_two = nn.Linear(16, 16)\n",
    "        self.classification_layer = nn.Linear(16, 10)\n",
    "        \n",
    "        self.activation_function = nn.ReLU()\n",
    "\n",
    "    def forward(self, x):\n",
    "        x = self.flatten(x)\n",
    "\n",
    "        # first hidden layer\n",
    "        hidden_one_out = self.hidden_one(x)\n",
    "        hidden_one_act = self.activation_function(hidden_one_out)\n",
    "\n",
    "        # second hidden layer\n",
    "        hidden_two_out = self.hidden_two(hidden_one_act)\n",
    "        hidden_two_act = self.activation_function(hidden_two_out)\n",
    "\n",
    "        # classification layer\n",
    "        classification_out = self.classification_layer(hidden_two_act)\n",
    "        \n",
    "        return classification_out, hidden_one_act, hidden_two_act"
   ]
  },
  {
   "cell_type": "markdown",
   "id": "dd44c3cf-602d-451e-b10c-8b7f005858e8",
   "metadata": {},
   "source": [
    "### SAE"
   ]
  },
  {
   "cell_type": "code",
   "execution_count": 12,
   "id": "53786553-7c2c-4d0f-96a9-b901297c7756",
   "metadata": {},
   "outputs": [],
   "source": [
    "class SparseAutoencoder(nn.Module):\n",
    "    def __init__(self, input_size=16, hidden_size=128):\n",
    "        super().__init__()\n",
    "        self.encoder = nn.Linear(input_size, hidden_size)\n",
    "        self.decoder = nn.Linear(hidden_size, input_size)\n",
    "        self.activation = nn.ReLU()\n",
    "    \n",
    "    def forward(self, x):\n",
    "        encoded = self.activation(self.encoder(x))\n",
    "        reconstructed = self.decoder(encoded)\n",
    "        return reconstructed, encoded\n",
    "    \n",
    "    def loss(self, x, reconstructed, encoded, l1_lambda=0.001):\n",
    "        mse_loss = nn.MSELoss()(reconstructed, x)\n",
    "        l1_loss = l1_lambda * torch.mean(torch.abs(encoded))\n",
    "        return mse_loss + l1_loss"
   ]
  },
  {
   "cell_type": "markdown",
   "id": "17fa3f1a-32f7-46d9-975d-3c7c77d95a9f",
   "metadata": {},
   "source": [
    "## Dataloader"
   ]
  },
  {
   "cell_type": "code",
   "execution_count": 13,
   "id": "2fe0386b-042b-4e96-8266-adb647758c37",
   "metadata": {},
   "outputs": [],
   "source": [
    "class EdgeDataset(Dataset):\n",
    "    def __init__(self, images, labels, first_layer_acts=None, v2_first_layer_acts=None):\n",
    "        self.images = images\n",
    "        self.labels = labels\n",
    "        self.first_layer_acts = first_layer_acts\n",
    "        self.v2_first_layer_acts = v2_first_layer_acts\n",
    "\n",
    "    def __len__(self):\n",
    "        assert len(self.images) == len(self.labels)\n",
    "        if self.first_layer_acts:\n",
    "            assert(len(self.first_layer_acts) == len(self.images))\n",
    "            \n",
    "        return len(self.images)\n",
    "\n",
    "    def __getitem__(self, idx):\n",
    "        image = torch.from_numpy(self.images[idx].copy()).float()\n",
    "        label = torch.tensor(self.labels[idx].copy(), dtype=torch.long)\n",
    "\n",
    "        if self.first_layer_acts:\n",
    "            return (image, label, self.first_layer_acts[idx], self.v2_first_layer_acts[idx])\n",
    "        else:\n",
    "            return (image, label)"
   ]
  },
  {
   "cell_type": "code",
   "execution_count": 14,
   "id": "634f8215-1f78-4e3f-975f-1bddf935cd34",
   "metadata": {},
   "outputs": [],
   "source": [
    "# for reproducibility on training\n",
    "def seed_worker(worker_id):\n",
    "    worker_seed = torch.initial_seed() % 2**32\n",
    "    np.random.seed(worker_seed)\n",
    "    random.seed(worker_seed)"
   ]
  },
  {
   "cell_type": "markdown",
   "id": "b878bdc7-4dc6-4510-a3a7-d64a2d2d7394",
   "metadata": {},
   "source": [
    "## Training Loop"
   ]
  },
  {
   "cell_type": "code",
   "execution_count": 15,
   "id": "e90a2e09-4d54-4b9a-8abe-379edef96d95",
   "metadata": {},
   "outputs": [
    {
     "name": "stdout",
     "output_type": "stream",
     "text": [
      "6\n"
     ]
    }
   ],
   "source": [
    "min_loss = 0.0\n",
    "max_loss = 0.025\n",
    "step = 0.005\n",
    "\n",
    "loss_factor_one = 0.011\n",
    "loss_factors = np.arange(min_loss, max_loss + step, step)\n",
    "print(len(loss_factors))"
   ]
  },
  {
   "cell_type": "code",
   "execution_count": 16,
   "id": "5efead09-bdd4-4177-9ead-fee16bb28a15",
   "metadata": {
    "scrolled": true
   },
   "outputs": [
    {
     "name": "stdout",
     "output_type": "stream",
     "text": [
      "##################################################\n",
      "Loss factor: 0.0\n",
      "\n",
      "\n"
     ]
    },
    {
     "name": "stderr",
     "output_type": "stream",
     "text": [
      "                                                                                                                        \r"
     ]
    },
    {
     "name": "stdout",
     "output_type": "stream",
     "text": [
      "Epoch 1/20\n",
      "  Train Loss: 1.0078\n",
      "  SAE Train Loss (hidden one): 8.9391\n",
      "  SAE Train Loss (hidden two): 1.1738\n",
      "  Val Loss: 0.4736 | Val Acc: 85.84%\n",
      "  Saved model with Val Acc: 85.84%\n"
     ]
    },
    {
     "name": "stderr",
     "output_type": "stream",
     "text": [
      "                                                                                                                        \r"
     ]
    },
    {
     "name": "stdout",
     "output_type": "stream",
     "text": [
      "Epoch 2/20\n",
      "  Train Loss: 0.4240\n",
      "  SAE Train Loss (hidden one): 0.5181\n",
      "  SAE Train Loss (hidden two): 0.1015\n",
      "  Val Loss: 0.3982 | Val Acc: 88.56%\n",
      "  Saved model with Val Acc: 88.56%\n"
     ]
    },
    {
     "name": "stderr",
     "output_type": "stream",
     "text": [
      "                                                                                                                        \r"
     ]
    },
    {
     "name": "stdout",
     "output_type": "stream",
     "text": [
      "Epoch 3/20\n",
      "  Train Loss: 0.3567\n",
      "  SAE Train Loss (hidden one): 0.6195\n",
      "  SAE Train Loss (hidden two): 0.1075\n",
      "  Val Loss: 0.3707 | Val Acc: 89.40%\n",
      "  Saved model with Val Acc: 89.40%\n"
     ]
    },
    {
     "name": "stderr",
     "output_type": "stream",
     "text": [
      "                                                                                                                        \r"
     ]
    },
    {
     "name": "stdout",
     "output_type": "stream",
     "text": [
      "Epoch 4/20\n",
      "  Train Loss: 0.3336\n",
      "  SAE Train Loss (hidden one): 0.5939\n",
      "  SAE Train Loss (hidden two): 0.0951\n",
      "  Val Loss: 0.3685 | Val Acc: 88.81%\n"
     ]
    },
    {
     "name": "stderr",
     "output_type": "stream",
     "text": [
      "                                                                                                                        \r"
     ]
    },
    {
     "name": "stdout",
     "output_type": "stream",
     "text": [
      "Epoch 5/20\n",
      "  Train Loss: 0.3178\n",
      "  SAE Train Loss (hidden one): 0.6918\n",
      "  SAE Train Loss (hidden two): 0.0891\n",
      "  Val Loss: 0.3412 | Val Acc: 90.04%\n",
      "  Saved model with Val Acc: 90.04%\n"
     ]
    },
    {
     "name": "stderr",
     "output_type": "stream",
     "text": [
      "                                                                                                                        \r"
     ]
    },
    {
     "name": "stdout",
     "output_type": "stream",
     "text": [
      "Epoch 6/20\n",
      "  Train Loss: 0.3076\n",
      "  SAE Train Loss (hidden one): 0.6375\n",
      "  SAE Train Loss (hidden two): 0.0874\n",
      "  Val Loss: 0.3467 | Val Acc: 89.90%\n"
     ]
    },
    {
     "name": "stderr",
     "output_type": "stream",
     "text": [
      "                                                                                                                        \r"
     ]
    },
    {
     "name": "stdout",
     "output_type": "stream",
     "text": [
      "Epoch 7/20\n",
      "  Train Loss: 0.3007\n",
      "  SAE Train Loss (hidden one): 0.6408\n",
      "  SAE Train Loss (hidden two): 0.0818\n",
      "  Val Loss: 0.3272 | Val Acc: 90.55%\n",
      "  Saved model with Val Acc: 90.55%\n"
     ]
    },
    {
     "name": "stderr",
     "output_type": "stream",
     "text": [
      "                                                                                                                        \r"
     ]
    },
    {
     "name": "stdout",
     "output_type": "stream",
     "text": [
      "Epoch 8/20\n",
      "  Train Loss: 0.2954\n",
      "  SAE Train Loss (hidden one): 0.6296\n",
      "  SAE Train Loss (hidden two): 0.0802\n",
      "  Val Loss: 0.3090 | Val Acc: 91.23%\n",
      "  Saved model with Val Acc: 91.23%\n"
     ]
    },
    {
     "name": "stderr",
     "output_type": "stream",
     "text": [
      "                                                                                                                        \r"
     ]
    },
    {
     "name": "stdout",
     "output_type": "stream",
     "text": [
      "Epoch 9/20\n",
      "  Train Loss: 0.2862\n",
      "  SAE Train Loss (hidden one): 0.6328\n",
      "  SAE Train Loss (hidden two): 0.0766\n",
      "  Val Loss: 0.3374 | Val Acc: 90.20%\n"
     ]
    },
    {
     "name": "stderr",
     "output_type": "stream",
     "text": [
      "                                                                                                                        \r"
     ]
    },
    {
     "name": "stdout",
     "output_type": "stream",
     "text": [
      "Epoch 10/20\n",
      "  Train Loss: 0.2839\n",
      "  SAE Train Loss (hidden one): 0.6290\n",
      "  SAE Train Loss (hidden two): 0.0709\n",
      "  Val Loss: 0.3103 | Val Acc: 90.99%\n"
     ]
    },
    {
     "name": "stderr",
     "output_type": "stream",
     "text": [
      "                                                                                                                        \r"
     ]
    },
    {
     "name": "stdout",
     "output_type": "stream",
     "text": [
      "Epoch 11/20\n",
      "  Train Loss: 0.2720\n",
      "  SAE Train Loss (hidden one): 0.6137\n",
      "  SAE Train Loss (hidden two): 0.0687\n",
      "  Val Loss: 0.3088 | Val Acc: 90.91%\n"
     ]
    },
    {
     "name": "stderr",
     "output_type": "stream",
     "text": [
      "                                                                                                                        \r"
     ]
    },
    {
     "name": "stdout",
     "output_type": "stream",
     "text": [
      "Epoch 12/20\n",
      "  Train Loss: 0.2699\n",
      "  SAE Train Loss (hidden one): 0.7195\n",
      "  SAE Train Loss (hidden two): 0.0695\n",
      "  Val Loss: 0.3076 | Val Acc: 91.07%\n"
     ]
    },
    {
     "name": "stderr",
     "output_type": "stream",
     "text": [
      "                                                                                                                        \r"
     ]
    },
    {
     "name": "stdout",
     "output_type": "stream",
     "text": [
      "Epoch 13/20\n",
      "  Train Loss: 0.2666\n",
      "  SAE Train Loss (hidden one): 0.6530\n",
      "  SAE Train Loss (hidden two): 0.0639\n",
      "  Val Loss: 0.2934 | Val Acc: 91.36%\n",
      "  Saved model with Val Acc: 91.36%\n"
     ]
    },
    {
     "name": "stderr",
     "output_type": "stream",
     "text": [
      "                                                                                                                        \r"
     ]
    },
    {
     "name": "stdout",
     "output_type": "stream",
     "text": [
      "Epoch 14/20\n",
      "  Train Loss: 0.2619\n",
      "  SAE Train Loss (hidden one): 0.6615\n",
      "  SAE Train Loss (hidden two): 0.0619\n",
      "  Val Loss: 0.3131 | Val Acc: 90.97%\n"
     ]
    },
    {
     "name": "stderr",
     "output_type": "stream",
     "text": [
      "                                                                                                                        \r"
     ]
    },
    {
     "name": "stdout",
     "output_type": "stream",
     "text": [
      "Epoch 15/20\n",
      "  Train Loss: 0.2575\n",
      "  SAE Train Loss (hidden one): 0.7007\n",
      "  SAE Train Loss (hidden two): 0.0612\n",
      "  Val Loss: 0.3062 | Val Acc: 91.23%\n"
     ]
    },
    {
     "name": "stderr",
     "output_type": "stream",
     "text": [
      "                                                                                                                        \r"
     ]
    },
    {
     "name": "stdout",
     "output_type": "stream",
     "text": [
      "Epoch 16/20\n",
      "  Train Loss: 0.2587\n",
      "  SAE Train Loss (hidden one): 0.6387\n",
      "  SAE Train Loss (hidden two): 0.0585\n",
      "  Val Loss: 0.3092 | Val Acc: 91.11%\n"
     ]
    },
    {
     "name": "stderr",
     "output_type": "stream",
     "text": [
      "                                                                                                                        \r"
     ]
    },
    {
     "name": "stdout",
     "output_type": "stream",
     "text": [
      "Epoch 17/20\n",
      "  Train Loss: 0.2537\n",
      "  SAE Train Loss (hidden one): 0.7345\n",
      "  SAE Train Loss (hidden two): 0.0564\n",
      "  Val Loss: 0.2981 | Val Acc: 91.31%\n"
     ]
    },
    {
     "name": "stderr",
     "output_type": "stream",
     "text": [
      "                                                                                                                        \r"
     ]
    },
    {
     "name": "stdout",
     "output_type": "stream",
     "text": [
      "Epoch 18/20\n",
      "  Train Loss: 0.2544\n",
      "  SAE Train Loss (hidden one): 0.6995\n",
      "  SAE Train Loss (hidden two): 0.0543\n",
      "  Val Loss: 0.2910 | Val Acc: 91.58%\n",
      "  Saved model with Val Acc: 91.58%\n"
     ]
    },
    {
     "name": "stderr",
     "output_type": "stream",
     "text": [
      "                                                                                                                        \r"
     ]
    },
    {
     "name": "stdout",
     "output_type": "stream",
     "text": [
      "Epoch 19/20\n",
      "  Train Loss: 0.2495\n",
      "  SAE Train Loss (hidden one): 0.7969\n",
      "  SAE Train Loss (hidden two): 0.0537\n",
      "  Val Loss: 0.2922 | Val Acc: 91.73%\n",
      "  Saved model with Val Acc: 91.73%\n"
     ]
    },
    {
     "name": "stderr",
     "output_type": "stream",
     "text": [
      "                                                                                                                        \r"
     ]
    },
    {
     "name": "stdout",
     "output_type": "stream",
     "text": [
      "Epoch 20/20\n",
      "  Train Loss: 0.2472\n",
      "  SAE Train Loss (hidden one): 0.6610\n",
      "  SAE Train Loss (hidden two): 0.0531\n",
      "  Val Loss: 0.3063 | Val Acc: 91.39%\n"
     ]
    },
    {
     "name": "stderr",
     "output_type": "stream",
     "text": [
      "Evaluation: 100%|██████████████████████████████████████████████████████████████████████| 79/79 [00:00<00:00, 299.85it/s]"
     ]
    },
    {
     "name": "stdout",
     "output_type": "stream",
     "text": [
      "Final Test Accuracy: 92.07%\n",
      "Average Reconstruction Error (Hidden One): 0.2274\n",
      "Average Reconstruction Error (Hidden Two): 0.0102\n",
      "Average Non-Zero Features per Image (Hidden One): 33.38\n",
      "Average Non-Zero Features per Image (Hidden Two): 35.10\n"
     ]
    },
    {
     "name": "stderr",
     "output_type": "stream",
     "text": [
      "\n",
      "/home/alex/.local/lib/python3.10/site-packages/sklearn/linear_model/_logistic.py:469: ConvergenceWarning: lbfgs failed to converge (status=1):\n",
      "STOP: TOTAL NO. of ITERATIONS REACHED LIMIT.\n",
      "\n",
      "Increase the number of iterations (max_iter) or scale the data as shown in:\n",
      "    https://scikit-learn.org/stable/modules/preprocessing.html\n",
      "Please also refer to the documentation for alternative solver options:\n",
      "    https://scikit-learn.org/stable/modules/linear_model.html#logistic-regression\n",
      "  n_iter_i = _check_optimize_result(\n"
     ]
    },
    {
     "name": "stdout",
     "output_type": "stream",
     "text": [
      "Linear Probe Accuracy (Hidden One): 92.34%\n"
     ]
    },
    {
     "name": "stderr",
     "output_type": "stream",
     "text": [
      "/home/alex/.local/lib/python3.10/site-packages/sklearn/linear_model/_logistic.py:469: ConvergenceWarning: lbfgs failed to converge (status=1):\n",
      "STOP: TOTAL NO. of ITERATIONS REACHED LIMIT.\n",
      "\n",
      "Increase the number of iterations (max_iter) or scale the data as shown in:\n",
      "    https://scikit-learn.org/stable/modules/preprocessing.html\n",
      "Please also refer to the documentation for alternative solver options:\n",
      "    https://scikit-learn.org/stable/modules/linear_model.html#logistic-regression\n",
      "  n_iter_i = _check_optimize_result(\n"
     ]
    },
    {
     "name": "stdout",
     "output_type": "stream",
     "text": [
      "Linear Probe Accuracy (Hidden Two): 92.16%\n",
      "\n",
      "##################################################\n",
      "Loss factor: 0.005\n",
      "\n",
      "\n"
     ]
    },
    {
     "name": "stderr",
     "output_type": "stream",
     "text": [
      "                                                                                                                        \r"
     ]
    },
    {
     "name": "stdout",
     "output_type": "stream",
     "text": [
      "Epoch 1/20\n",
      "  Train Loss: 1.0078\n",
      "  SAE Train Loss (hidden one): 8.9391\n",
      "  SAE Train Loss (hidden two): 1.1738\n",
      "  Val Loss: 0.4736 | Val Acc: 85.84%\n",
      "  Saved model with Val Acc: 85.84%\n"
     ]
    },
    {
     "name": "stderr",
     "output_type": "stream",
     "text": [
      "                                                                                                                        \r"
     ]
    },
    {
     "name": "stdout",
     "output_type": "stream",
     "text": [
      "Epoch 2/20\n",
      "  Train Loss: 0.4240\n",
      "  SAE Train Loss (hidden one): 0.5181\n",
      "  SAE Train Loss (hidden two): 0.1015\n",
      "  Val Loss: 0.3982 | Val Acc: 88.56%\n",
      "  Saved model with Val Acc: 88.56%\n"
     ]
    },
    {
     "name": "stderr",
     "output_type": "stream",
     "text": [
      "                                                                                                                        \r"
     ]
    },
    {
     "name": "stdout",
     "output_type": "stream",
     "text": [
      "Epoch 3/20\n",
      "  Train Loss: 0.3567\n",
      "  SAE Train Loss (hidden one): 0.6195\n",
      "  SAE Train Loss (hidden two): 0.1075\n",
      "  Val Loss: 0.3707 | Val Acc: 89.40%\n",
      "  Saved model with Val Acc: 89.40%\n"
     ]
    },
    {
     "name": "stderr",
     "output_type": "stream",
     "text": [
      "                                                                                                                        \r"
     ]
    },
    {
     "name": "stdout",
     "output_type": "stream",
     "text": [
      "Epoch 4/20\n",
      "  Train Loss: 0.3336\n",
      "  SAE Train Loss (hidden one): 0.5939\n",
      "  SAE Train Loss (hidden two): 0.0951\n",
      "  Val Loss: 0.3685 | Val Acc: 88.81%\n"
     ]
    },
    {
     "name": "stderr",
     "output_type": "stream",
     "text": [
      "                                                                                                                        \r"
     ]
    },
    {
     "name": "stdout",
     "output_type": "stream",
     "text": [
      "Epoch 5/20\n",
      "  Train Loss: 0.3178\n",
      "  SAE Train Loss (hidden one): 0.6918\n",
      "  SAE Train Loss (hidden two): 0.0891\n",
      "  Val Loss: 0.3412 | Val Acc: 90.04%\n",
      "  Saved model with Val Acc: 90.04%\n"
     ]
    },
    {
     "name": "stderr",
     "output_type": "stream",
     "text": [
      "                                                                                                                        \r"
     ]
    },
    {
     "name": "stdout",
     "output_type": "stream",
     "text": [
      "Epoch 6/20\n",
      "  Train Loss: 0.3076\n",
      "  SAE Train Loss (hidden one): 0.6375\n",
      "  SAE Train Loss (hidden two): 0.0874\n",
      "  Val Loss: 0.3467 | Val Acc: 89.90%\n"
     ]
    },
    {
     "name": "stderr",
     "output_type": "stream",
     "text": [
      "                                                                                                                        \r"
     ]
    },
    {
     "name": "stdout",
     "output_type": "stream",
     "text": [
      "Epoch 7/20\n",
      "  Train Loss: 0.3007\n",
      "  SAE Train Loss (hidden one): 0.6408\n",
      "  SAE Train Loss (hidden two): 0.0818\n",
      "  Val Loss: 0.3272 | Val Acc: 90.55%\n",
      "  Saved model with Val Acc: 90.55%\n"
     ]
    },
    {
     "name": "stderr",
     "output_type": "stream",
     "text": [
      "                                                                                                                        \r"
     ]
    },
    {
     "name": "stdout",
     "output_type": "stream",
     "text": [
      "Epoch 8/20\n",
      "  Train Loss: 0.2954\n",
      "  SAE Train Loss (hidden one): 0.6296\n",
      "  SAE Train Loss (hidden two): 0.0802\n",
      "  Val Loss: 0.3090 | Val Acc: 91.23%\n",
      "  Saved model with Val Acc: 91.23%\n"
     ]
    },
    {
     "name": "stderr",
     "output_type": "stream",
     "text": [
      "                                                                                                                        \r"
     ]
    },
    {
     "name": "stdout",
     "output_type": "stream",
     "text": [
      "Epoch 9/20\n",
      "  Train Loss: 0.2862\n",
      "  SAE Train Loss (hidden one): 0.6328\n",
      "  SAE Train Loss (hidden two): 0.0766\n",
      "  Val Loss: 0.3374 | Val Acc: 90.20%\n"
     ]
    },
    {
     "name": "stderr",
     "output_type": "stream",
     "text": [
      "                                                                                                                        \r"
     ]
    },
    {
     "name": "stdout",
     "output_type": "stream",
     "text": [
      "Epoch 10/20\n",
      "  Train Loss: 0.2839\n",
      "  SAE Train Loss (hidden one): 0.6290\n",
      "  SAE Train Loss (hidden two): 0.0709\n",
      "  Val Loss: 0.3103 | Val Acc: 90.99%\n"
     ]
    },
    {
     "name": "stderr",
     "output_type": "stream",
     "text": [
      "                                                                                                                        \r"
     ]
    },
    {
     "name": "stdout",
     "output_type": "stream",
     "text": [
      "Epoch 11/20\n",
      "  Train Loss: 0.2770\n",
      "  SAE Train Loss (hidden one): 0.6153\n",
      "  SAE Train Loss (hidden two): 0.0693\n",
      "  Val Loss: 0.3068 | Val Acc: 90.89%\n"
     ]
    },
    {
     "name": "stderr",
     "output_type": "stream",
     "text": [
      "                                                                                                                        \r"
     ]
    },
    {
     "name": "stdout",
     "output_type": "stream",
     "text": [
      "Epoch 12/20\n",
      "  Train Loss: 0.2743\n",
      "  SAE Train Loss (hidden one): 0.7116\n",
      "  SAE Train Loss (hidden two): 0.0699\n",
      "  Val Loss: 0.3022 | Val Acc: 91.30%\n",
      "  Saved model with Val Acc: 91.30%\n"
     ]
    },
    {
     "name": "stderr",
     "output_type": "stream",
     "text": [
      "                                                                                                                        \r"
     ]
    },
    {
     "name": "stdout",
     "output_type": "stream",
     "text": [
      "Epoch 13/20\n",
      "  Train Loss: 0.2713\n",
      "  SAE Train Loss (hidden one): 0.6686\n",
      "  SAE Train Loss (hidden two): 0.0653\n",
      "  Val Loss: 0.2920 | Val Acc: 91.39%\n",
      "  Saved model with Val Acc: 91.39%\n"
     ]
    },
    {
     "name": "stderr",
     "output_type": "stream",
     "text": [
      "                                                                                                                        \r"
     ]
    },
    {
     "name": "stdout",
     "output_type": "stream",
     "text": [
      "Epoch 14/20\n",
      "  Train Loss: 0.2659\n",
      "  SAE Train Loss (hidden one): 0.6586\n",
      "  SAE Train Loss (hidden two): 0.0634\n",
      "  Val Loss: 0.3092 | Val Acc: 91.01%\n"
     ]
    },
    {
     "name": "stderr",
     "output_type": "stream",
     "text": [
      "                                                                                                                        \r"
     ]
    },
    {
     "name": "stdout",
     "output_type": "stream",
     "text": [
      "Epoch 15/20\n",
      "  Train Loss: 0.2628\n",
      "  SAE Train Loss (hidden one): 0.7231\n",
      "  SAE Train Loss (hidden two): 0.0609\n",
      "  Val Loss: 0.3084 | Val Acc: 91.20%\n"
     ]
    },
    {
     "name": "stderr",
     "output_type": "stream",
     "text": [
      "                                                                                                                        \r"
     ]
    },
    {
     "name": "stdout",
     "output_type": "stream",
     "text": [
      "Epoch 16/20\n",
      "  Train Loss: 0.2630\n",
      "  SAE Train Loss (hidden one): 0.6696\n",
      "  SAE Train Loss (hidden two): 0.0593\n",
      "  Val Loss: 0.3093 | Val Acc: 91.15%\n"
     ]
    },
    {
     "name": "stderr",
     "output_type": "stream",
     "text": [
      "                                                                                                                        \r"
     ]
    },
    {
     "name": "stdout",
     "output_type": "stream",
     "text": [
      "Epoch 17/20\n",
      "  Train Loss: 0.2562\n",
      "  SAE Train Loss (hidden one): 0.7106\n",
      "  SAE Train Loss (hidden two): 0.0570\n",
      "  Val Loss: 0.2999 | Val Acc: 91.31%\n"
     ]
    },
    {
     "name": "stderr",
     "output_type": "stream",
     "text": [
      "                                                                                                                        \r"
     ]
    },
    {
     "name": "stdout",
     "output_type": "stream",
     "text": [
      "Epoch 18/20\n",
      "  Train Loss: 0.2589\n",
      "  SAE Train Loss (hidden one): 0.7246\n",
      "  SAE Train Loss (hidden two): 0.0579\n",
      "  Val Loss: 0.2885 | Val Acc: 91.66%\n",
      "  Saved model with Val Acc: 91.66%\n"
     ]
    },
    {
     "name": "stderr",
     "output_type": "stream",
     "text": [
      "                                                                                                                        \r"
     ]
    },
    {
     "name": "stdout",
     "output_type": "stream",
     "text": [
      "Epoch 19/20\n",
      "  Train Loss: 0.2535\n",
      "  SAE Train Loss (hidden one): 0.7901\n",
      "  SAE Train Loss (hidden two): 0.0548\n",
      "  Val Loss: 0.2922 | Val Acc: 91.65%\n"
     ]
    },
    {
     "name": "stderr",
     "output_type": "stream",
     "text": [
      "                                                                                                                        \r"
     ]
    },
    {
     "name": "stdout",
     "output_type": "stream",
     "text": [
      "Epoch 20/20\n",
      "  Train Loss: 0.2501\n",
      "  SAE Train Loss (hidden one): 0.7236\n",
      "  SAE Train Loss (hidden two): 0.0542\n",
      "  Val Loss: 0.3035 | Val Acc: 91.43%\n"
     ]
    },
    {
     "name": "stderr",
     "output_type": "stream",
     "text": [
      "Evaluation: 100%|██████████████████████████████████████████████████████████████████████| 79/79 [00:00<00:00, 309.37it/s]\n"
     ]
    },
    {
     "name": "stdout",
     "output_type": "stream",
     "text": [
      "Final Test Accuracy: 92.04%\n",
      "Average Reconstruction Error (Hidden One): 0.9331\n",
      "Average Reconstruction Error (Hidden Two): 0.0162\n",
      "Average Non-Zero Features per Image (Hidden One): 33.52\n",
      "Average Non-Zero Features per Image (Hidden Two): 35.78\n"
     ]
    },
    {
     "name": "stderr",
     "output_type": "stream",
     "text": [
      "/home/alex/.local/lib/python3.10/site-packages/sklearn/linear_model/_logistic.py:469: ConvergenceWarning: lbfgs failed to converge (status=1):\n",
      "STOP: TOTAL NO. of ITERATIONS REACHED LIMIT.\n",
      "\n",
      "Increase the number of iterations (max_iter) or scale the data as shown in:\n",
      "    https://scikit-learn.org/stable/modules/preprocessing.html\n",
      "Please also refer to the documentation for alternative solver options:\n",
      "    https://scikit-learn.org/stable/modules/linear_model.html#logistic-regression\n",
      "  n_iter_i = _check_optimize_result(\n"
     ]
    },
    {
     "name": "stdout",
     "output_type": "stream",
     "text": [
      "Linear Probe Accuracy (Hidden One): 91.37%\n"
     ]
    },
    {
     "name": "stderr",
     "output_type": "stream",
     "text": [
      "/home/alex/.local/lib/python3.10/site-packages/sklearn/linear_model/_logistic.py:469: ConvergenceWarning: lbfgs failed to converge (status=1):\n",
      "STOP: TOTAL NO. of ITERATIONS REACHED LIMIT.\n",
      "\n",
      "Increase the number of iterations (max_iter) or scale the data as shown in:\n",
      "    https://scikit-learn.org/stable/modules/preprocessing.html\n",
      "Please also refer to the documentation for alternative solver options:\n",
      "    https://scikit-learn.org/stable/modules/linear_model.html#logistic-regression\n",
      "  n_iter_i = _check_optimize_result(\n"
     ]
    },
    {
     "name": "stdout",
     "output_type": "stream",
     "text": [
      "Linear Probe Accuracy (Hidden Two): 89.48%\n",
      "\n",
      "##################################################\n",
      "Loss factor: 0.01\n",
      "\n",
      "\n"
     ]
    },
    {
     "name": "stderr",
     "output_type": "stream",
     "text": [
      "                                                                                                                        \r"
     ]
    },
    {
     "name": "stdout",
     "output_type": "stream",
     "text": [
      "Epoch 1/20\n",
      "  Train Loss: 1.0078\n",
      "  SAE Train Loss (hidden one): 8.9391\n",
      "  SAE Train Loss (hidden two): 1.1738\n",
      "  Val Loss: 0.4736 | Val Acc: 85.84%\n",
      "  Saved model with Val Acc: 85.84%\n"
     ]
    },
    {
     "name": "stderr",
     "output_type": "stream",
     "text": [
      "                                                                                                                        \r"
     ]
    },
    {
     "name": "stdout",
     "output_type": "stream",
     "text": [
      "Epoch 2/20\n",
      "  Train Loss: 0.4240\n",
      "  SAE Train Loss (hidden one): 0.5181\n",
      "  SAE Train Loss (hidden two): 0.1015\n",
      "  Val Loss: 0.3982 | Val Acc: 88.56%\n",
      "  Saved model with Val Acc: 88.56%\n"
     ]
    },
    {
     "name": "stderr",
     "output_type": "stream",
     "text": [
      "                                                                                                                        \r"
     ]
    },
    {
     "name": "stdout",
     "output_type": "stream",
     "text": [
      "Epoch 3/20\n",
      "  Train Loss: 0.3567\n",
      "  SAE Train Loss (hidden one): 0.6195\n",
      "  SAE Train Loss (hidden two): 0.1075\n",
      "  Val Loss: 0.3707 | Val Acc: 89.40%\n",
      "  Saved model with Val Acc: 89.40%\n"
     ]
    },
    {
     "name": "stderr",
     "output_type": "stream",
     "text": [
      "                                                                                                                        \r"
     ]
    },
    {
     "name": "stdout",
     "output_type": "stream",
     "text": [
      "Epoch 4/20\n",
      "  Train Loss: 0.3336\n",
      "  SAE Train Loss (hidden one): 0.5939\n",
      "  SAE Train Loss (hidden two): 0.0951\n",
      "  Val Loss: 0.3685 | Val Acc: 88.81%\n"
     ]
    },
    {
     "name": "stderr",
     "output_type": "stream",
     "text": [
      "                                                                                                                        \r"
     ]
    },
    {
     "name": "stdout",
     "output_type": "stream",
     "text": [
      "Epoch 5/20\n",
      "  Train Loss: 0.3178\n",
      "  SAE Train Loss (hidden one): 0.6918\n",
      "  SAE Train Loss (hidden two): 0.0891\n",
      "  Val Loss: 0.3412 | Val Acc: 90.04%\n",
      "  Saved model with Val Acc: 90.04%\n"
     ]
    },
    {
     "name": "stderr",
     "output_type": "stream",
     "text": [
      "                                                                                                                        \r"
     ]
    },
    {
     "name": "stdout",
     "output_type": "stream",
     "text": [
      "Epoch 6/20\n",
      "  Train Loss: 0.3076\n",
      "  SAE Train Loss (hidden one): 0.6375\n",
      "  SAE Train Loss (hidden two): 0.0874\n",
      "  Val Loss: 0.3467 | Val Acc: 89.90%\n"
     ]
    },
    {
     "name": "stderr",
     "output_type": "stream",
     "text": [
      "                                                                                                                        \r"
     ]
    },
    {
     "name": "stdout",
     "output_type": "stream",
     "text": [
      "Epoch 7/20\n",
      "  Train Loss: 0.3007\n",
      "  SAE Train Loss (hidden one): 0.6408\n",
      "  SAE Train Loss (hidden two): 0.0818\n",
      "  Val Loss: 0.3272 | Val Acc: 90.55%\n",
      "  Saved model with Val Acc: 90.55%\n"
     ]
    },
    {
     "name": "stderr",
     "output_type": "stream",
     "text": [
      "                                                                                                                        \r"
     ]
    },
    {
     "name": "stdout",
     "output_type": "stream",
     "text": [
      "Epoch 8/20\n",
      "  Train Loss: 0.2954\n",
      "  SAE Train Loss (hidden one): 0.6296\n",
      "  SAE Train Loss (hidden two): 0.0802\n",
      "  Val Loss: 0.3090 | Val Acc: 91.23%\n",
      "  Saved model with Val Acc: 91.23%\n"
     ]
    },
    {
     "name": "stderr",
     "output_type": "stream",
     "text": [
      "                                                                                                                        \r"
     ]
    },
    {
     "name": "stdout",
     "output_type": "stream",
     "text": [
      "Epoch 9/20\n",
      "  Train Loss: 0.2862\n",
      "  SAE Train Loss (hidden one): 0.6328\n",
      "  SAE Train Loss (hidden two): 0.0766\n",
      "  Val Loss: 0.3374 | Val Acc: 90.20%\n"
     ]
    },
    {
     "name": "stderr",
     "output_type": "stream",
     "text": [
      "                                                                                                                        \r"
     ]
    },
    {
     "name": "stdout",
     "output_type": "stream",
     "text": [
      "Epoch 10/20\n",
      "  Train Loss: 0.2839\n",
      "  SAE Train Loss (hidden one): 0.6290\n",
      "  SAE Train Loss (hidden two): 0.0709\n",
      "  Val Loss: 0.3103 | Val Acc: 90.99%\n"
     ]
    },
    {
     "name": "stderr",
     "output_type": "stream",
     "text": [
      "                                                                                                                        \r"
     ]
    },
    {
     "name": "stdout",
     "output_type": "stream",
     "text": [
      "Epoch 11/20\n",
      "  Train Loss: 0.2807\n",
      "  SAE Train Loss (hidden one): 0.6330\n",
      "  SAE Train Loss (hidden two): 0.0687\n",
      "  Val Loss: 0.3048 | Val Acc: 90.88%\n"
     ]
    },
    {
     "name": "stderr",
     "output_type": "stream",
     "text": [
      "                                                                                                                        \r"
     ]
    },
    {
     "name": "stdout",
     "output_type": "stream",
     "text": [
      "Epoch 12/20\n",
      "  Train Loss: 0.2773\n",
      "  SAE Train Loss (hidden one): 0.7150\n",
      "  SAE Train Loss (hidden two): 0.0691\n",
      "  Val Loss: 0.3038 | Val Acc: 91.21%\n"
     ]
    },
    {
     "name": "stderr",
     "output_type": "stream",
     "text": [
      "                                                                                                                        \r"
     ]
    },
    {
     "name": "stdout",
     "output_type": "stream",
     "text": [
      "Epoch 13/20\n",
      "  Train Loss: 0.2748\n",
      "  SAE Train Loss (hidden one): 0.6081\n",
      "  SAE Train Loss (hidden two): 0.0644\n",
      "  Val Loss: 0.2951 | Val Acc: 91.28%\n",
      "  Saved model with Val Acc: 91.28%\n"
     ]
    },
    {
     "name": "stderr",
     "output_type": "stream",
     "text": [
      "                                                                                                                        \r"
     ]
    },
    {
     "name": "stdout",
     "output_type": "stream",
     "text": [
      "Epoch 14/20\n",
      "  Train Loss: 0.2709\n",
      "  SAE Train Loss (hidden one): 0.6623\n",
      "  SAE Train Loss (hidden two): 0.0626\n",
      "  Val Loss: 0.3118 | Val Acc: 91.12%\n"
     ]
    },
    {
     "name": "stderr",
     "output_type": "stream",
     "text": [
      "                                                                                                                        \r"
     ]
    },
    {
     "name": "stdout",
     "output_type": "stream",
     "text": [
      "Epoch 15/20\n",
      "  Train Loss: 0.2670\n",
      "  SAE Train Loss (hidden one): 0.6702\n",
      "  SAE Train Loss (hidden two): 0.0614\n",
      "  Val Loss: 0.3097 | Val Acc: 91.20%\n"
     ]
    },
    {
     "name": "stderr",
     "output_type": "stream",
     "text": [
      "                                                                                                                        \r"
     ]
    },
    {
     "name": "stdout",
     "output_type": "stream",
     "text": [
      "Epoch 16/20\n",
      "  Train Loss: 0.2666\n",
      "  SAE Train Loss (hidden one): 0.7488\n",
      "  SAE Train Loss (hidden two): 0.0592\n",
      "  Val Loss: 0.3046 | Val Acc: 91.18%\n"
     ]
    },
    {
     "name": "stderr",
     "output_type": "stream",
     "text": [
      "                                                                                                                        \r"
     ]
    },
    {
     "name": "stdout",
     "output_type": "stream",
     "text": [
      "Epoch 17/20\n",
      "  Train Loss: 0.2599\n",
      "  SAE Train Loss (hidden one): 0.6920\n",
      "  SAE Train Loss (hidden two): 0.0570\n",
      "  Val Loss: 0.3040 | Val Acc: 91.10%\n"
     ]
    },
    {
     "name": "stderr",
     "output_type": "stream",
     "text": [
      "                                                                                                                        \r"
     ]
    },
    {
     "name": "stdout",
     "output_type": "stream",
     "text": [
      "Epoch 18/20\n",
      "  Train Loss: 0.2619\n",
      "  SAE Train Loss (hidden one): 0.7104\n",
      "  SAE Train Loss (hidden two): 0.0565\n",
      "  Val Loss: 0.2949 | Val Acc: 91.32%\n",
      "  Saved model with Val Acc: 91.32%\n"
     ]
    },
    {
     "name": "stderr",
     "output_type": "stream",
     "text": [
      "                                                                                                                        \r"
     ]
    },
    {
     "name": "stdout",
     "output_type": "stream",
     "text": [
      "Epoch 19/20\n",
      "  Train Loss: 0.2575\n",
      "  SAE Train Loss (hidden one): 0.7297\n",
      "  SAE Train Loss (hidden two): 0.0551\n",
      "  Val Loss: 0.2922 | Val Acc: 91.49%\n",
      "  Saved model with Val Acc: 91.49%\n"
     ]
    },
    {
     "name": "stderr",
     "output_type": "stream",
     "text": [
      "                                                                                                                        \r"
     ]
    },
    {
     "name": "stdout",
     "output_type": "stream",
     "text": [
      "Epoch 20/20\n",
      "  Train Loss: 0.2554\n",
      "  SAE Train Loss (hidden one): 0.7583\n",
      "  SAE Train Loss (hidden two): 0.0523\n",
      "  Val Loss: 0.3066 | Val Acc: 91.27%\n"
     ]
    },
    {
     "name": "stderr",
     "output_type": "stream",
     "text": [
      "Evaluation: 100%|██████████████████████████████████████████████████████████████████████| 79/79 [00:00<00:00, 290.23it/s]"
     ]
    },
    {
     "name": "stdout",
     "output_type": "stream",
     "text": [
      "Final Test Accuracy: 91.87%\n",
      "Average Reconstruction Error (Hidden One): 0.2639\n",
      "Average Reconstruction Error (Hidden Two): 0.0126\n",
      "Average Non-Zero Features per Image (Hidden One): 33.33\n",
      "Average Non-Zero Features per Image (Hidden Two): 35.15\n"
     ]
    },
    {
     "name": "stderr",
     "output_type": "stream",
     "text": [
      "\n",
      "/home/alex/.local/lib/python3.10/site-packages/sklearn/linear_model/_logistic.py:469: ConvergenceWarning: lbfgs failed to converge (status=1):\n",
      "STOP: TOTAL NO. of ITERATIONS REACHED LIMIT.\n",
      "\n",
      "Increase the number of iterations (max_iter) or scale the data as shown in:\n",
      "    https://scikit-learn.org/stable/modules/preprocessing.html\n",
      "Please also refer to the documentation for alternative solver options:\n",
      "    https://scikit-learn.org/stable/modules/linear_model.html#logistic-regression\n",
      "  n_iter_i = _check_optimize_result(\n"
     ]
    },
    {
     "name": "stdout",
     "output_type": "stream",
     "text": [
      "Linear Probe Accuracy (Hidden One): 92.08%\n"
     ]
    },
    {
     "name": "stderr",
     "output_type": "stream",
     "text": [
      "/home/alex/.local/lib/python3.10/site-packages/sklearn/linear_model/_logistic.py:469: ConvergenceWarning: lbfgs failed to converge (status=1):\n",
      "STOP: TOTAL NO. of ITERATIONS REACHED LIMIT.\n",
      "\n",
      "Increase the number of iterations (max_iter) or scale the data as shown in:\n",
      "    https://scikit-learn.org/stable/modules/preprocessing.html\n",
      "Please also refer to the documentation for alternative solver options:\n",
      "    https://scikit-learn.org/stable/modules/linear_model.html#logistic-regression\n",
      "  n_iter_i = _check_optimize_result(\n"
     ]
    },
    {
     "name": "stdout",
     "output_type": "stream",
     "text": [
      "Linear Probe Accuracy (Hidden Two): 92.15%\n",
      "\n",
      "##################################################\n",
      "Loss factor: 0.015\n",
      "\n",
      "\n"
     ]
    },
    {
     "name": "stderr",
     "output_type": "stream",
     "text": [
      "                                                                                                                        \r"
     ]
    },
    {
     "name": "stdout",
     "output_type": "stream",
     "text": [
      "Epoch 1/20\n",
      "  Train Loss: 1.0078\n",
      "  SAE Train Loss (hidden one): 8.9391\n",
      "  SAE Train Loss (hidden two): 1.1738\n",
      "  Val Loss: 0.4736 | Val Acc: 85.84%\n",
      "  Saved model with Val Acc: 85.84%\n"
     ]
    },
    {
     "name": "stderr",
     "output_type": "stream",
     "text": [
      "                                                                                                                        \r"
     ]
    },
    {
     "name": "stdout",
     "output_type": "stream",
     "text": [
      "Epoch 2/20\n",
      "  Train Loss: 0.4240\n",
      "  SAE Train Loss (hidden one): 0.5181\n",
      "  SAE Train Loss (hidden two): 0.1015\n",
      "  Val Loss: 0.3982 | Val Acc: 88.56%\n",
      "  Saved model with Val Acc: 88.56%\n"
     ]
    },
    {
     "name": "stderr",
     "output_type": "stream",
     "text": [
      "                                                                                                                        \r"
     ]
    },
    {
     "name": "stdout",
     "output_type": "stream",
     "text": [
      "Epoch 3/20\n",
      "  Train Loss: 0.3567\n",
      "  SAE Train Loss (hidden one): 0.6195\n",
      "  SAE Train Loss (hidden two): 0.1075\n",
      "  Val Loss: 0.3707 | Val Acc: 89.40%\n",
      "  Saved model with Val Acc: 89.40%\n"
     ]
    },
    {
     "name": "stderr",
     "output_type": "stream",
     "text": [
      "                                                                                                                        \r"
     ]
    },
    {
     "name": "stdout",
     "output_type": "stream",
     "text": [
      "Epoch 4/20\n",
      "  Train Loss: 0.3336\n",
      "  SAE Train Loss (hidden one): 0.5939\n",
      "  SAE Train Loss (hidden two): 0.0951\n",
      "  Val Loss: 0.3685 | Val Acc: 88.81%\n"
     ]
    },
    {
     "name": "stderr",
     "output_type": "stream",
     "text": [
      "                                                                                                                        \r"
     ]
    },
    {
     "name": "stdout",
     "output_type": "stream",
     "text": [
      "Epoch 5/20\n",
      "  Train Loss: 0.3178\n",
      "  SAE Train Loss (hidden one): 0.6918\n",
      "  SAE Train Loss (hidden two): 0.0891\n",
      "  Val Loss: 0.3412 | Val Acc: 90.04%\n",
      "  Saved model with Val Acc: 90.04%\n"
     ]
    },
    {
     "name": "stderr",
     "output_type": "stream",
     "text": [
      "                                                                                                                        \r"
     ]
    },
    {
     "name": "stdout",
     "output_type": "stream",
     "text": [
      "Epoch 6/20\n",
      "  Train Loss: 0.3076\n",
      "  SAE Train Loss (hidden one): 0.6375\n",
      "  SAE Train Loss (hidden two): 0.0874\n",
      "  Val Loss: 0.3467 | Val Acc: 89.90%\n"
     ]
    },
    {
     "name": "stderr",
     "output_type": "stream",
     "text": [
      "                                                                                                                        \r"
     ]
    },
    {
     "name": "stdout",
     "output_type": "stream",
     "text": [
      "Epoch 7/20\n",
      "  Train Loss: 0.3007\n",
      "  SAE Train Loss (hidden one): 0.6408\n",
      "  SAE Train Loss (hidden two): 0.0818\n",
      "  Val Loss: 0.3272 | Val Acc: 90.55%\n",
      "  Saved model with Val Acc: 90.55%\n"
     ]
    },
    {
     "name": "stderr",
     "output_type": "stream",
     "text": [
      "                                                                                                                        \r"
     ]
    },
    {
     "name": "stdout",
     "output_type": "stream",
     "text": [
      "Epoch 8/20\n",
      "  Train Loss: 0.2954\n",
      "  SAE Train Loss (hidden one): 0.6296\n",
      "  SAE Train Loss (hidden two): 0.0802\n",
      "  Val Loss: 0.3090 | Val Acc: 91.23%\n",
      "  Saved model with Val Acc: 91.23%\n"
     ]
    },
    {
     "name": "stderr",
     "output_type": "stream",
     "text": [
      "                                                                                                                        \r"
     ]
    },
    {
     "name": "stdout",
     "output_type": "stream",
     "text": [
      "Epoch 9/20\n",
      "  Train Loss: 0.2862\n",
      "  SAE Train Loss (hidden one): 0.6328\n",
      "  SAE Train Loss (hidden two): 0.0766\n",
      "  Val Loss: 0.3374 | Val Acc: 90.20%\n"
     ]
    },
    {
     "name": "stderr",
     "output_type": "stream",
     "text": [
      "                                                                                                                        \r"
     ]
    },
    {
     "name": "stdout",
     "output_type": "stream",
     "text": [
      "Epoch 10/20\n",
      "  Train Loss: 0.2839\n",
      "  SAE Train Loss (hidden one): 0.6290\n",
      "  SAE Train Loss (hidden two): 0.0709\n",
      "  Val Loss: 0.3103 | Val Acc: 90.99%\n"
     ]
    },
    {
     "name": "stderr",
     "output_type": "stream",
     "text": [
      "                                                                                                                        \r"
     ]
    },
    {
     "name": "stdout",
     "output_type": "stream",
     "text": [
      "Epoch 11/20\n",
      "  Train Loss: 0.2850\n",
      "  SAE Train Loss (hidden one): 0.6178\n",
      "  SAE Train Loss (hidden two): 0.0682\n",
      "  Val Loss: 0.3050 | Val Acc: 90.99%\n"
     ]
    },
    {
     "name": "stderr",
     "output_type": "stream",
     "text": [
      "                                                                                                                        \r"
     ]
    },
    {
     "name": "stdout",
     "output_type": "stream",
     "text": [
      "Epoch 12/20\n",
      "  Train Loss: 0.2814\n",
      "  SAE Train Loss (hidden one): 0.6898\n",
      "  SAE Train Loss (hidden two): 0.0685\n",
      "  Val Loss: 0.3092 | Val Acc: 91.00%\n"
     ]
    },
    {
     "name": "stderr",
     "output_type": "stream",
     "text": [
      "                                                                                                                        \r"
     ]
    },
    {
     "name": "stdout",
     "output_type": "stream",
     "text": [
      "Epoch 13/20\n",
      "  Train Loss: 0.2800\n",
      "  SAE Train Loss (hidden one): 0.6710\n",
      "  SAE Train Loss (hidden two): 0.0646\n",
      "  Val Loss: 0.2949 | Val Acc: 91.22%\n"
     ]
    },
    {
     "name": "stderr",
     "output_type": "stream",
     "text": [
      "                                                                                                                        \r"
     ]
    },
    {
     "name": "stdout",
     "output_type": "stream",
     "text": [
      "Epoch 14/20\n",
      "  Train Loss: 0.2735\n",
      "  SAE Train Loss (hidden one): 0.6557\n",
      "  SAE Train Loss (hidden two): 0.0621\n",
      "  Val Loss: 0.3116 | Val Acc: 91.00%\n"
     ]
    },
    {
     "name": "stderr",
     "output_type": "stream",
     "text": [
      "                                                                                                                        \r"
     ]
    },
    {
     "name": "stdout",
     "output_type": "stream",
     "text": [
      "Epoch 15/20\n",
      "  Train Loss: 0.2697\n",
      "  SAE Train Loss (hidden one): 0.6821\n",
      "  SAE Train Loss (hidden two): 0.0618\n",
      "  Val Loss: 0.3132 | Val Acc: 91.25%\n",
      "  Saved model with Val Acc: 91.25%\n"
     ]
    },
    {
     "name": "stderr",
     "output_type": "stream",
     "text": [
      "                                                                                                                        \r"
     ]
    },
    {
     "name": "stdout",
     "output_type": "stream",
     "text": [
      "Epoch 16/20\n",
      "  Train Loss: 0.2720\n",
      "  SAE Train Loss (hidden one): 0.7351\n",
      "  SAE Train Loss (hidden two): 0.0590\n",
      "  Val Loss: 0.3119 | Val Acc: 91.00%\n"
     ]
    },
    {
     "name": "stderr",
     "output_type": "stream",
     "text": [
      "                                                                                                                        \r"
     ]
    },
    {
     "name": "stdout",
     "output_type": "stream",
     "text": [
      "Epoch 17/20\n",
      "  Train Loss: 0.2643\n",
      "  SAE Train Loss (hidden one): 0.6537\n",
      "  SAE Train Loss (hidden two): 0.0560\n",
      "  Val Loss: 0.3040 | Val Acc: 91.11%\n"
     ]
    },
    {
     "name": "stderr",
     "output_type": "stream",
     "text": [
      "                                                                                                                        \r"
     ]
    },
    {
     "name": "stdout",
     "output_type": "stream",
     "text": [
      "Epoch 18/20\n",
      "  Train Loss: 0.2664\n",
      "  SAE Train Loss (hidden one): 0.7159\n",
      "  SAE Train Loss (hidden two): 0.0569\n",
      "  Val Loss: 0.2953 | Val Acc: 91.35%\n",
      "  Saved model with Val Acc: 91.35%\n"
     ]
    },
    {
     "name": "stderr",
     "output_type": "stream",
     "text": [
      "                                                                                                                        \r"
     ]
    },
    {
     "name": "stdout",
     "output_type": "stream",
     "text": [
      "Epoch 19/20\n",
      "  Train Loss: 0.2635\n",
      "  SAE Train Loss (hidden one): 0.8028\n",
      "  SAE Train Loss (hidden two): 0.0561\n",
      "  Val Loss: 0.2853 | Val Acc: 91.72%\n",
      "  Saved model with Val Acc: 91.72%\n"
     ]
    },
    {
     "name": "stderr",
     "output_type": "stream",
     "text": [
      "                                                                                                                        \r"
     ]
    },
    {
     "name": "stdout",
     "output_type": "stream",
     "text": [
      "Epoch 20/20\n",
      "  Train Loss: 0.2603\n",
      "  SAE Train Loss (hidden one): 0.8350\n",
      "  SAE Train Loss (hidden two): 0.0519\n",
      "  Val Loss: 0.3085 | Val Acc: 91.02%\n"
     ]
    },
    {
     "name": "stderr",
     "output_type": "stream",
     "text": [
      "Evaluation: 100%|██████████████████████████████████████████████████████████████████████| 79/79 [00:00<00:00, 271.37it/s]\n"
     ]
    },
    {
     "name": "stdout",
     "output_type": "stream",
     "text": [
      "Final Test Accuracy: 92.17%\n",
      "Average Reconstruction Error (Hidden One): 0.2504\n",
      "Average Reconstruction Error (Hidden Two): 0.0101\n",
      "Average Non-Zero Features per Image (Hidden One): 33.39\n",
      "Average Non-Zero Features per Image (Hidden Two): 35.14\n"
     ]
    },
    {
     "name": "stderr",
     "output_type": "stream",
     "text": [
      "/home/alex/.local/lib/python3.10/site-packages/sklearn/linear_model/_logistic.py:469: ConvergenceWarning: lbfgs failed to converge (status=1):\n",
      "STOP: TOTAL NO. of ITERATIONS REACHED LIMIT.\n",
      "\n",
      "Increase the number of iterations (max_iter) or scale the data as shown in:\n",
      "    https://scikit-learn.org/stable/modules/preprocessing.html\n",
      "Please also refer to the documentation for alternative solver options:\n",
      "    https://scikit-learn.org/stable/modules/linear_model.html#logistic-regression\n",
      "  n_iter_i = _check_optimize_result(\n"
     ]
    },
    {
     "name": "stdout",
     "output_type": "stream",
     "text": [
      "Linear Probe Accuracy (Hidden One): 92.23%\n"
     ]
    },
    {
     "name": "stderr",
     "output_type": "stream",
     "text": [
      "/home/alex/.local/lib/python3.10/site-packages/sklearn/linear_model/_logistic.py:469: ConvergenceWarning: lbfgs failed to converge (status=1):\n",
      "STOP: TOTAL NO. of ITERATIONS REACHED LIMIT.\n",
      "\n",
      "Increase the number of iterations (max_iter) or scale the data as shown in:\n",
      "    https://scikit-learn.org/stable/modules/preprocessing.html\n",
      "Please also refer to the documentation for alternative solver options:\n",
      "    https://scikit-learn.org/stable/modules/linear_model.html#logistic-regression\n",
      "  n_iter_i = _check_optimize_result(\n"
     ]
    },
    {
     "name": "stdout",
     "output_type": "stream",
     "text": [
      "Linear Probe Accuracy (Hidden Two): 92.24%\n",
      "\n",
      "##################################################\n",
      "Loss factor: 0.02\n",
      "\n",
      "\n"
     ]
    },
    {
     "name": "stderr",
     "output_type": "stream",
     "text": [
      "                                                                                                                        \r"
     ]
    },
    {
     "name": "stdout",
     "output_type": "stream",
     "text": [
      "Epoch 1/20\n",
      "  Train Loss: 1.0078\n",
      "  SAE Train Loss (hidden one): 8.9391\n",
      "  SAE Train Loss (hidden two): 1.1738\n",
      "  Val Loss: 0.4736 | Val Acc: 85.84%\n",
      "  Saved model with Val Acc: 85.84%\n"
     ]
    },
    {
     "name": "stderr",
     "output_type": "stream",
     "text": [
      "                                                                                                                        \r"
     ]
    },
    {
     "name": "stdout",
     "output_type": "stream",
     "text": [
      "Epoch 2/20\n",
      "  Train Loss: 0.4240\n",
      "  SAE Train Loss (hidden one): 0.5181\n",
      "  SAE Train Loss (hidden two): 0.1015\n",
      "  Val Loss: 0.3982 | Val Acc: 88.56%\n",
      "  Saved model with Val Acc: 88.56%\n"
     ]
    },
    {
     "name": "stderr",
     "output_type": "stream",
     "text": [
      "                                                                                                                        \r"
     ]
    },
    {
     "name": "stdout",
     "output_type": "stream",
     "text": [
      "Epoch 3/20\n",
      "  Train Loss: 0.3567\n",
      "  SAE Train Loss (hidden one): 0.6195\n",
      "  SAE Train Loss (hidden two): 0.1075\n",
      "  Val Loss: 0.3707 | Val Acc: 89.40%\n",
      "  Saved model with Val Acc: 89.40%\n"
     ]
    },
    {
     "name": "stderr",
     "output_type": "stream",
     "text": [
      "                                                                                                                        \r"
     ]
    },
    {
     "name": "stdout",
     "output_type": "stream",
     "text": [
      "Epoch 4/20\n",
      "  Train Loss: 0.3336\n",
      "  SAE Train Loss (hidden one): 0.5939\n",
      "  SAE Train Loss (hidden two): 0.0951\n",
      "  Val Loss: 0.3685 | Val Acc: 88.81%\n"
     ]
    },
    {
     "name": "stderr",
     "output_type": "stream",
     "text": [
      "                                                                                                                        \r"
     ]
    },
    {
     "name": "stdout",
     "output_type": "stream",
     "text": [
      "Epoch 5/20\n",
      "  Train Loss: 0.3178\n",
      "  SAE Train Loss (hidden one): 0.6918\n",
      "  SAE Train Loss (hidden two): 0.0891\n",
      "  Val Loss: 0.3412 | Val Acc: 90.04%\n",
      "  Saved model with Val Acc: 90.04%\n"
     ]
    },
    {
     "name": "stderr",
     "output_type": "stream",
     "text": [
      "                                                                                                                        \r"
     ]
    },
    {
     "name": "stdout",
     "output_type": "stream",
     "text": [
      "Epoch 6/20\n",
      "  Train Loss: 0.3076\n",
      "  SAE Train Loss (hidden one): 0.6375\n",
      "  SAE Train Loss (hidden two): 0.0874\n",
      "  Val Loss: 0.3467 | Val Acc: 89.90%\n"
     ]
    },
    {
     "name": "stderr",
     "output_type": "stream",
     "text": [
      "                                                                                                                        \r"
     ]
    },
    {
     "name": "stdout",
     "output_type": "stream",
     "text": [
      "Epoch 7/20\n",
      "  Train Loss: 0.3007\n",
      "  SAE Train Loss (hidden one): 0.6408\n",
      "  SAE Train Loss (hidden two): 0.0818\n",
      "  Val Loss: 0.3272 | Val Acc: 90.55%\n",
      "  Saved model with Val Acc: 90.55%\n"
     ]
    },
    {
     "name": "stderr",
     "output_type": "stream",
     "text": [
      "                                                                                                                        \r"
     ]
    },
    {
     "name": "stdout",
     "output_type": "stream",
     "text": [
      "Epoch 8/20\n",
      "  Train Loss: 0.2954\n",
      "  SAE Train Loss (hidden one): 0.6296\n",
      "  SAE Train Loss (hidden two): 0.0802\n",
      "  Val Loss: 0.3090 | Val Acc: 91.23%\n",
      "  Saved model with Val Acc: 91.23%\n"
     ]
    },
    {
     "name": "stderr",
     "output_type": "stream",
     "text": [
      "                                                                                                                        \r"
     ]
    },
    {
     "name": "stdout",
     "output_type": "stream",
     "text": [
      "Epoch 9/20\n",
      "  Train Loss: 0.2862\n",
      "  SAE Train Loss (hidden one): 0.6328\n",
      "  SAE Train Loss (hidden two): 0.0766\n",
      "  Val Loss: 0.3374 | Val Acc: 90.20%\n"
     ]
    },
    {
     "name": "stderr",
     "output_type": "stream",
     "text": [
      "                                                                                                                        \r"
     ]
    },
    {
     "name": "stdout",
     "output_type": "stream",
     "text": [
      "Epoch 10/20\n",
      "  Train Loss: 0.2839\n",
      "  SAE Train Loss (hidden one): 0.6290\n",
      "  SAE Train Loss (hidden two): 0.0709\n",
      "  Val Loss: 0.3103 | Val Acc: 90.99%\n"
     ]
    },
    {
     "name": "stderr",
     "output_type": "stream",
     "text": [
      "                                                                                                                        \r"
     ]
    },
    {
     "name": "stdout",
     "output_type": "stream",
     "text": [
      "Epoch 11/20\n",
      "  Train Loss: 0.2894\n",
      "  SAE Train Loss (hidden one): 0.6317\n",
      "  SAE Train Loss (hidden two): 0.0685\n",
      "  Val Loss: 0.3047 | Val Acc: 91.04%\n"
     ]
    },
    {
     "name": "stderr",
     "output_type": "stream",
     "text": [
      "                                                                                                                        \r"
     ]
    },
    {
     "name": "stdout",
     "output_type": "stream",
     "text": [
      "Epoch 12/20\n",
      "  Train Loss: 0.2866\n",
      "  SAE Train Loss (hidden one): 0.6873\n",
      "  SAE Train Loss (hidden two): 0.0692\n",
      "  Val Loss: 0.3066 | Val Acc: 91.10%\n"
     ]
    },
    {
     "name": "stderr",
     "output_type": "stream",
     "text": [
      "                                                                                                                        \r"
     ]
    },
    {
     "name": "stdout",
     "output_type": "stream",
     "text": [
      "Epoch 13/20\n",
      "  Train Loss: 0.2836\n",
      "  SAE Train Loss (hidden one): 0.6658\n",
      "  SAE Train Loss (hidden two): 0.0646\n",
      "  Val Loss: 0.2920 | Val Acc: 91.43%\n",
      "  Saved model with Val Acc: 91.43%\n"
     ]
    },
    {
     "name": "stderr",
     "output_type": "stream",
     "text": [
      "                                                                                                                        \r"
     ]
    },
    {
     "name": "stdout",
     "output_type": "stream",
     "text": [
      "Epoch 14/20\n",
      "  Train Loss: 0.2780\n",
      "  SAE Train Loss (hidden one): 0.6432\n",
      "  SAE Train Loss (hidden two): 0.0620\n",
      "  Val Loss: 0.3183 | Val Acc: 90.73%\n"
     ]
    },
    {
     "name": "stderr",
     "output_type": "stream",
     "text": [
      "                                                                                                                        \r"
     ]
    },
    {
     "name": "stdout",
     "output_type": "stream",
     "text": [
      "Epoch 15/20\n",
      "  Train Loss: 0.2742\n",
      "  SAE Train Loss (hidden one): 0.7044\n",
      "  SAE Train Loss (hidden two): 0.0613\n",
      "  Val Loss: 0.3159 | Val Acc: 91.17%\n"
     ]
    },
    {
     "name": "stderr",
     "output_type": "stream",
     "text": [
      "                                                                                                                        \r"
     ]
    },
    {
     "name": "stdout",
     "output_type": "stream",
     "text": [
      "Epoch 16/20\n",
      "  Train Loss: 0.2750\n",
      "  SAE Train Loss (hidden one): 0.7235\n",
      "  SAE Train Loss (hidden two): 0.0592\n",
      "  Val Loss: 0.3160 | Val Acc: 91.03%\n"
     ]
    },
    {
     "name": "stderr",
     "output_type": "stream",
     "text": [
      "                                                                                                                        \r"
     ]
    },
    {
     "name": "stdout",
     "output_type": "stream",
     "text": [
      "Epoch 17/20\n",
      "  Train Loss: 0.2696\n",
      "  SAE Train Loss (hidden one): 0.7072\n",
      "  SAE Train Loss (hidden two): 0.0562\n",
      "  Val Loss: 0.3067 | Val Acc: 91.15%\n"
     ]
    },
    {
     "name": "stderr",
     "output_type": "stream",
     "text": [
      "                                                                                                                        \r"
     ]
    },
    {
     "name": "stdout",
     "output_type": "stream",
     "text": [
      "Epoch 18/20\n",
      "  Train Loss: 0.2709\n",
      "  SAE Train Loss (hidden one): 0.7039\n",
      "  SAE Train Loss (hidden two): 0.0562\n",
      "  Val Loss: 0.2995 | Val Acc: 91.37%\n"
     ]
    },
    {
     "name": "stderr",
     "output_type": "stream",
     "text": [
      "                                                                                                                        \r"
     ]
    },
    {
     "name": "stdout",
     "output_type": "stream",
     "text": [
      "Epoch 19/20\n",
      "  Train Loss: 0.2657\n",
      "  SAE Train Loss (hidden one): 0.7933\n",
      "  SAE Train Loss (hidden two): 0.0542\n",
      "  Val Loss: 0.2920 | Val Acc: 91.64%\n",
      "  Saved model with Val Acc: 91.64%\n"
     ]
    },
    {
     "name": "stderr",
     "output_type": "stream",
     "text": [
      "                                                                                                                        \r"
     ]
    },
    {
     "name": "stdout",
     "output_type": "stream",
     "text": [
      "Epoch 20/20\n",
      "  Train Loss: 0.2637\n",
      "  SAE Train Loss (hidden one): 0.7380\n",
      "  SAE Train Loss (hidden two): 0.0531\n",
      "  Val Loss: 0.3106 | Val Acc: 91.06%\n"
     ]
    },
    {
     "name": "stderr",
     "output_type": "stream",
     "text": [
      "Evaluation: 100%|██████████████████████████████████████████████████████████████████████| 79/79 [00:00<00:00, 278.88it/s]"
     ]
    },
    {
     "name": "stdout",
     "output_type": "stream",
     "text": [
      "Final Test Accuracy: 92.21%\n",
      "Average Reconstruction Error (Hidden One): 0.1327\n",
      "Average Reconstruction Error (Hidden Two): 0.0120\n",
      "Average Non-Zero Features per Image (Hidden One): 33.34\n",
      "Average Non-Zero Features per Image (Hidden Two): 35.09\n"
     ]
    },
    {
     "name": "stderr",
     "output_type": "stream",
     "text": [
      "\n",
      "/home/alex/.local/lib/python3.10/site-packages/sklearn/linear_model/_logistic.py:469: ConvergenceWarning: lbfgs failed to converge (status=1):\n",
      "STOP: TOTAL NO. of ITERATIONS REACHED LIMIT.\n",
      "\n",
      "Increase the number of iterations (max_iter) or scale the data as shown in:\n",
      "    https://scikit-learn.org/stable/modules/preprocessing.html\n",
      "Please also refer to the documentation for alternative solver options:\n",
      "    https://scikit-learn.org/stable/modules/linear_model.html#logistic-regression\n",
      "  n_iter_i = _check_optimize_result(\n"
     ]
    },
    {
     "name": "stdout",
     "output_type": "stream",
     "text": [
      "Linear Probe Accuracy (Hidden One): 92.15%\n"
     ]
    },
    {
     "name": "stderr",
     "output_type": "stream",
     "text": [
      "/home/alex/.local/lib/python3.10/site-packages/sklearn/linear_model/_logistic.py:469: ConvergenceWarning: lbfgs failed to converge (status=1):\n",
      "STOP: TOTAL NO. of ITERATIONS REACHED LIMIT.\n",
      "\n",
      "Increase the number of iterations (max_iter) or scale the data as shown in:\n",
      "    https://scikit-learn.org/stable/modules/preprocessing.html\n",
      "Please also refer to the documentation for alternative solver options:\n",
      "    https://scikit-learn.org/stable/modules/linear_model.html#logistic-regression\n",
      "  n_iter_i = _check_optimize_result(\n"
     ]
    },
    {
     "name": "stdout",
     "output_type": "stream",
     "text": [
      "Linear Probe Accuracy (Hidden Two): 92.30%\n",
      "\n",
      "##################################################\n",
      "Loss factor: 0.025\n",
      "\n",
      "\n"
     ]
    },
    {
     "name": "stderr",
     "output_type": "stream",
     "text": [
      "                                                                                                                        \r"
     ]
    },
    {
     "name": "stdout",
     "output_type": "stream",
     "text": [
      "Epoch 1/20\n",
      "  Train Loss: 1.0078\n",
      "  SAE Train Loss (hidden one): 8.9391\n",
      "  SAE Train Loss (hidden two): 1.1738\n",
      "  Val Loss: 0.4736 | Val Acc: 85.84%\n",
      "  Saved model with Val Acc: 85.84%\n"
     ]
    },
    {
     "name": "stderr",
     "output_type": "stream",
     "text": [
      "                                                                                                                        \r"
     ]
    },
    {
     "name": "stdout",
     "output_type": "stream",
     "text": [
      "Epoch 2/20\n",
      "  Train Loss: 0.4240\n",
      "  SAE Train Loss (hidden one): 0.5181\n",
      "  SAE Train Loss (hidden two): 0.1015\n",
      "  Val Loss: 0.3982 | Val Acc: 88.56%\n",
      "  Saved model with Val Acc: 88.56%\n"
     ]
    },
    {
     "name": "stderr",
     "output_type": "stream",
     "text": [
      "                                                                                                                        \r"
     ]
    },
    {
     "name": "stdout",
     "output_type": "stream",
     "text": [
      "Epoch 3/20\n",
      "  Train Loss: 0.3567\n",
      "  SAE Train Loss (hidden one): 0.6195\n",
      "  SAE Train Loss (hidden two): 0.1075\n",
      "  Val Loss: 0.3707 | Val Acc: 89.40%\n",
      "  Saved model with Val Acc: 89.40%\n"
     ]
    },
    {
     "name": "stderr",
     "output_type": "stream",
     "text": [
      "                                                                                                                        \r"
     ]
    },
    {
     "name": "stdout",
     "output_type": "stream",
     "text": [
      "Epoch 4/20\n",
      "  Train Loss: 0.3336\n",
      "  SAE Train Loss (hidden one): 0.5939\n",
      "  SAE Train Loss (hidden two): 0.0951\n",
      "  Val Loss: 0.3685 | Val Acc: 88.81%\n"
     ]
    },
    {
     "name": "stderr",
     "output_type": "stream",
     "text": [
      "                                                                                                                        \r"
     ]
    },
    {
     "name": "stdout",
     "output_type": "stream",
     "text": [
      "Epoch 5/20\n",
      "  Train Loss: 0.3178\n",
      "  SAE Train Loss (hidden one): 0.6918\n",
      "  SAE Train Loss (hidden two): 0.0891\n",
      "  Val Loss: 0.3412 | Val Acc: 90.04%\n",
      "  Saved model with Val Acc: 90.04%\n"
     ]
    },
    {
     "name": "stderr",
     "output_type": "stream",
     "text": [
      "                                                                                                                        \r"
     ]
    },
    {
     "name": "stdout",
     "output_type": "stream",
     "text": [
      "Epoch 6/20\n",
      "  Train Loss: 0.3076\n",
      "  SAE Train Loss (hidden one): 0.6375\n",
      "  SAE Train Loss (hidden two): 0.0874\n",
      "  Val Loss: 0.3467 | Val Acc: 89.90%\n"
     ]
    },
    {
     "name": "stderr",
     "output_type": "stream",
     "text": [
      "                                                                                                                        \r"
     ]
    },
    {
     "name": "stdout",
     "output_type": "stream",
     "text": [
      "Epoch 7/20\n",
      "  Train Loss: 0.3007\n",
      "  SAE Train Loss (hidden one): 0.6408\n",
      "  SAE Train Loss (hidden two): 0.0818\n",
      "  Val Loss: 0.3272 | Val Acc: 90.55%\n",
      "  Saved model with Val Acc: 90.55%\n"
     ]
    },
    {
     "name": "stderr",
     "output_type": "stream",
     "text": [
      "                                                                                                                        \r"
     ]
    },
    {
     "name": "stdout",
     "output_type": "stream",
     "text": [
      "Epoch 8/20\n",
      "  Train Loss: 0.2954\n",
      "  SAE Train Loss (hidden one): 0.6296\n",
      "  SAE Train Loss (hidden two): 0.0802\n",
      "  Val Loss: 0.3090 | Val Acc: 91.23%\n",
      "  Saved model with Val Acc: 91.23%\n"
     ]
    },
    {
     "name": "stderr",
     "output_type": "stream",
     "text": [
      "                                                                                                                        \r"
     ]
    },
    {
     "name": "stdout",
     "output_type": "stream",
     "text": [
      "Epoch 9/20\n",
      "  Train Loss: 0.2862\n",
      "  SAE Train Loss (hidden one): 0.6328\n",
      "  SAE Train Loss (hidden two): 0.0766\n",
      "  Val Loss: 0.3374 | Val Acc: 90.20%\n"
     ]
    },
    {
     "name": "stderr",
     "output_type": "stream",
     "text": [
      "                                                                                                                        \r"
     ]
    },
    {
     "name": "stdout",
     "output_type": "stream",
     "text": [
      "Epoch 10/20\n",
      "  Train Loss: 0.2839\n",
      "  SAE Train Loss (hidden one): 0.6290\n",
      "  SAE Train Loss (hidden two): 0.0709\n",
      "  Val Loss: 0.3103 | Val Acc: 90.99%\n"
     ]
    },
    {
     "name": "stderr",
     "output_type": "stream",
     "text": [
      "                                                                                                                        \r"
     ]
    },
    {
     "name": "stdout",
     "output_type": "stream",
     "text": [
      "Epoch 11/20\n",
      "  Train Loss: 0.2944\n",
      "  SAE Train Loss (hidden one): 0.6202\n",
      "  SAE Train Loss (hidden two): 0.0682\n",
      "  Val Loss: 0.3095 | Val Acc: 90.91%\n"
     ]
    },
    {
     "name": "stderr",
     "output_type": "stream",
     "text": [
      "                                                                                                                        \r"
     ]
    },
    {
     "name": "stdout",
     "output_type": "stream",
     "text": [
      "Epoch 12/20\n",
      "  Train Loss: 0.2906\n",
      "  SAE Train Loss (hidden one): 0.6946\n",
      "  SAE Train Loss (hidden two): 0.0682\n",
      "  Val Loss: 0.3109 | Val Acc: 90.97%\n"
     ]
    },
    {
     "name": "stderr",
     "output_type": "stream",
     "text": [
      "                                                                                                                        \r"
     ]
    },
    {
     "name": "stdout",
     "output_type": "stream",
     "text": [
      "Epoch 13/20\n",
      "  Train Loss: 0.2883\n",
      "  SAE Train Loss (hidden one): 0.6088\n",
      "  SAE Train Loss (hidden two): 0.0645\n",
      "  Val Loss: 0.2959 | Val Acc: 91.15%\n"
     ]
    },
    {
     "name": "stderr",
     "output_type": "stream",
     "text": [
      "                                                                                                                        \r"
     ]
    },
    {
     "name": "stdout",
     "output_type": "stream",
     "text": [
      "Epoch 14/20\n",
      "  Train Loss: 0.2831\n",
      "  SAE Train Loss (hidden one): 0.6690\n",
      "  SAE Train Loss (hidden two): 0.0621\n",
      "  Val Loss: 0.3107 | Val Acc: 91.06%\n"
     ]
    },
    {
     "name": "stderr",
     "output_type": "stream",
     "text": [
      "                                                                                                                        \r"
     ]
    },
    {
     "name": "stdout",
     "output_type": "stream",
     "text": [
      "Epoch 15/20\n",
      "  Train Loss: 0.2789\n",
      "  SAE Train Loss (hidden one): 0.7175\n",
      "  SAE Train Loss (hidden two): 0.0612\n",
      "  Val Loss: 0.3080 | Val Acc: 91.20%\n"
     ]
    },
    {
     "name": "stderr",
     "output_type": "stream",
     "text": [
      "                                                                                                                        \r"
     ]
    },
    {
     "name": "stdout",
     "output_type": "stream",
     "text": [
      "Epoch 16/20\n",
      "  Train Loss: 0.2795\n",
      "  SAE Train Loss (hidden one): 0.6677\n",
      "  SAE Train Loss (hidden two): 0.0606\n",
      "  Val Loss: 0.3140 | Val Acc: 91.06%\n"
     ]
    },
    {
     "name": "stderr",
     "output_type": "stream",
     "text": [
      "                                                                                                                        \r"
     ]
    },
    {
     "name": "stdout",
     "output_type": "stream",
     "text": [
      "Epoch 17/20\n",
      "  Train Loss: 0.2737\n",
      "  SAE Train Loss (hidden one): 0.7999\n",
      "  SAE Train Loss (hidden two): 0.0568\n",
      "  Val Loss: 0.3011 | Val Acc: 91.33%\n",
      "  Saved model with Val Acc: 91.33%\n"
     ]
    },
    {
     "name": "stderr",
     "output_type": "stream",
     "text": [
      "                                                                                                                        \r"
     ]
    },
    {
     "name": "stdout",
     "output_type": "stream",
     "text": [
      "Epoch 18/20\n",
      "  Train Loss: 0.2744\n",
      "  SAE Train Loss (hidden one): 0.6625\n",
      "  SAE Train Loss (hidden two): 0.0557\n",
      "  Val Loss: 0.2921 | Val Acc: 91.57%\n",
      "  Saved model with Val Acc: 91.57%\n"
     ]
    },
    {
     "name": "stderr",
     "output_type": "stream",
     "text": [
      "                                                                                                                        \r"
     ]
    },
    {
     "name": "stdout",
     "output_type": "stream",
     "text": [
      "Epoch 19/20\n",
      "  Train Loss: 0.2692\n",
      "  SAE Train Loss (hidden one): 0.7183\n",
      "  SAE Train Loss (hidden two): 0.0552\n",
      "  Val Loss: 0.2871 | Val Acc: 91.67%\n",
      "  Saved model with Val Acc: 91.67%\n"
     ]
    },
    {
     "name": "stderr",
     "output_type": "stream",
     "text": [
      "                                                                                                                        \r"
     ]
    },
    {
     "name": "stdout",
     "output_type": "stream",
     "text": [
      "Epoch 20/20\n",
      "  Train Loss: 0.2669\n",
      "  SAE Train Loss (hidden one): 0.8108\n",
      "  SAE Train Loss (hidden two): 0.0534\n",
      "  Val Loss: 0.3082 | Val Acc: 91.17%\n"
     ]
    },
    {
     "name": "stderr",
     "output_type": "stream",
     "text": [
      "Evaluation: 100%|██████████████████████████████████████████████████████████████████████| 79/79 [00:00<00:00, 291.38it/s]\n"
     ]
    },
    {
     "name": "stdout",
     "output_type": "stream",
     "text": [
      "Final Test Accuracy: 92.13%\n",
      "Average Reconstruction Error (Hidden One): 0.2047\n",
      "Average Reconstruction Error (Hidden Two): 0.0090\n",
      "Average Non-Zero Features per Image (Hidden One): 33.45\n",
      "Average Non-Zero Features per Image (Hidden Two): 35.18\n"
     ]
    },
    {
     "name": "stderr",
     "output_type": "stream",
     "text": [
      "/home/alex/.local/lib/python3.10/site-packages/sklearn/linear_model/_logistic.py:469: ConvergenceWarning: lbfgs failed to converge (status=1):\n",
      "STOP: TOTAL NO. of ITERATIONS REACHED LIMIT.\n",
      "\n",
      "Increase the number of iterations (max_iter) or scale the data as shown in:\n",
      "    https://scikit-learn.org/stable/modules/preprocessing.html\n",
      "Please also refer to the documentation for alternative solver options:\n",
      "    https://scikit-learn.org/stable/modules/linear_model.html#logistic-regression\n",
      "  n_iter_i = _check_optimize_result(\n"
     ]
    },
    {
     "name": "stdout",
     "output_type": "stream",
     "text": [
      "Linear Probe Accuracy (Hidden One): 92.28%\n"
     ]
    },
    {
     "name": "stderr",
     "output_type": "stream",
     "text": [
      "/home/alex/.local/lib/python3.10/site-packages/sklearn/linear_model/_logistic.py:469: ConvergenceWarning: lbfgs failed to converge (status=1):\n",
      "STOP: TOTAL NO. of ITERATIONS REACHED LIMIT.\n",
      "\n",
      "Increase the number of iterations (max_iter) or scale the data as shown in:\n",
      "    https://scikit-learn.org/stable/modules/preprocessing.html\n",
      "Please also refer to the documentation for alternative solver options:\n",
      "    https://scikit-learn.org/stable/modules/linear_model.html#logistic-regression\n",
      "  n_iter_i = _check_optimize_result(\n"
     ]
    },
    {
     "name": "stdout",
     "output_type": "stream",
     "text": [
      "Linear Probe Accuracy (Hidden Two): 92.21%\n",
      "\n"
     ]
    }
   ],
   "source": [
    "loss_data_dict = {}\n",
    "for loss_factor in loss_factors:\n",
    "    print(\"#\" * 50)\n",
    "    print(f\"Loss factor: {loss_factor}\\n\\n\")\n",
    "    ######################################################################################################\n",
    "    # MODELS INIT\n",
    "    ######################################################################################################\n",
    "    \n",
    "    # for reproducibility\n",
    "    seed = 42\n",
    "    torch.manual_seed(seed)\n",
    "    np.random.seed(seed)\n",
    "    random.seed(seed)\n",
    "    if torch.cuda.is_available():\n",
    "        torch.cuda.manual_seed_all(seed)\n",
    "        torch.backends.cudnn.deterministic = True\n",
    "        torch.backends.cudnn.benchmark = False\n",
    "    \n",
    "    model = NeuralNetwork().to(device)\n",
    "    \n",
    "    # loss functions\n",
    "    classification_loss_fn = nn.CrossEntropyLoss()\n",
    "    hidden_act_one_loss_fn = nn.CosineSimilarity()\n",
    "    \n",
    "    # optimizers\n",
    "    optimizer = torch.optim.Adam(model.parameters())\n",
    "    \n",
    "    # for reproducibility\n",
    "    seed = 42\n",
    "    torch.manual_seed(seed)\n",
    "    np.random.seed(seed)\n",
    "    random.seed(seed)\n",
    "    if torch.cuda.is_available():\n",
    "        torch.cuda.manual_seed_all(seed)\n",
    "        torch.backends.cudnn.deterministic = True\n",
    "        torch.backends.cudnn.benchmark = False\n",
    "        \n",
    "    sae_hidden_two = SparseAutoencoder(input_size=16, hidden_size=HIDDEN_SIZE).to(device)\n",
    "    optimizer_sae_hidden_two = torch.optim.Adam(sae_hidden_two.parameters())\n",
    "    \n",
    "    # for reproducibility\n",
    "    seed = 42\n",
    "    torch.manual_seed(seed)\n",
    "    np.random.seed(seed)\n",
    "    random.seed(seed)\n",
    "    if torch.cuda.is_available():\n",
    "        torch.cuda.manual_seed_all(seed)\n",
    "        torch.backends.cudnn.deterministic = True\n",
    "        torch.backends.cudnn.benchmark = False\n",
    "        \n",
    "    sae_hidden_one = SparseAutoencoder(input_size=16, hidden_size=HIDDEN_SIZE).to(device)\n",
    "    optimizer_sae_hidden_one = torch.optim.Adam(sae_hidden_one.parameters())\n",
    "    \n",
    "    ######################################################################################################\n",
    "    # DATA INIT\n",
    "    ######################################################################################################\n",
    "    \n",
    "    generator = torch.Generator().manual_seed(seed)\n",
    "    \n",
    "    NUM_WORKERS = 4\n",
    "    if device.type.lower() == \"cpu\":\n",
    "        NUM_WORKERS = 0\n",
    "    \n",
    "    # training data\n",
    "    train_dataset = EdgeDataset(train_images, train_labels, recon_max_sparse_act_one, v2_recon_max_sparse_act_one)\n",
    "    train_loader = DataLoader(train_dataset, batch_size=64, shuffle=True, num_workers=NUM_WORKERS, worker_init_fn=seed_worker, generator=generator)\n",
    "    \n",
    "    # validation data\n",
    "    val_dataset = EdgeDataset(val_images, val_labels)\n",
    "    val_loader = DataLoader(val_dataset, batch_size=128, shuffle=False, num_workers=NUM_WORKERS)  # larger batch size for faster validation\n",
    "    \n",
    "    # test data\n",
    "    test_dataset = EdgeDataset(test_images, test_labels)\n",
    "    test_loader = DataLoader(test_dataset, batch_size=128, shuffle=False, num_workers=NUM_WORKERS)\n",
    "    \n",
    "    ######################################################################################################\n",
    "    # TRAINING LOOP\n",
    "    ######################################################################################################\n",
    "    best_model = None\n",
    "    best_sae_one = None\n",
    "    best_sae_two = None\n",
    "    num_epochs = 20\n",
    "    \n",
    "    best_val_acc = 0.0\n",
    "    best_val_loss = float('inf')\n",
    "    \n",
    "    validation_losses = []\n",
    "    training_losses = []\n",
    "    SAE_hidden_one_losses = []\n",
    "    SAE_hidden_two_losses = []\n",
    "    \n",
    "    # Initialize storage for training features and labels\n",
    "    feature_activations_one_train = torch.zeros(HIDDEN_SIZE, len(train_loader.dataset))\n",
    "    feature_activations_two_train = torch.zeros(HIDDEN_SIZE, len(train_loader.dataset))\n",
    "    labels_train = torch.zeros(len(train_loader.dataset), dtype=torch.long)\n",
    "    \n",
    "    for epoch in range(num_epochs):\n",
    "        if epoch < 10:\n",
    "            loss_factor_one = 0.006\n",
    "            loss_factor_two = 0\n",
    "        else:\n",
    "            loss_factor_one = 0\n",
    "            loss_factor_two = loss_factor\n",
    "        \n",
    "        # --- Training Phase ---\n",
    "        model.train()  # set the model to training mode - this is currently a no-op\n",
    "        sae_hidden_two.train()\n",
    "        sae_hidden_one.train()\n",
    "        \n",
    "        train_loss = 0.0\n",
    "        total_sae_loss_hidden_two = 0.0\n",
    "        total_sae_loss_hidden_one = 0.0\n",
    "    \n",
    "        train_bar = tqdm(train_loader, desc=f\"Epoch {epoch + 1}/{num_epochs} [Train]\", leave=False)\n",
    "        for batch_idx, batch in enumerate(train_bar):\n",
    "            # deconstruct batch items\n",
    "            images, labels, acts_one, v2_acts_one = batch\n",
    "            images, labels, acts_one, v2_acts_one = images.to(device), labels.to(device), acts_one.to(device), v2_acts_one.to(device)\n",
    "            \n",
    "            # forward pass\n",
    "            classification_out, hidden_act_one, hidden_act_two = model(images)\n",
    "    \n",
    "            # Classification loss and backprop\n",
    "            optimizer.zero_grad()\n",
    "            \n",
    "            sub_loss = (1 - hidden_act_one_loss_fn(hidden_act_one, acts_one)).mean()\n",
    "            sub_loss_two = (1 - hidden_act_one_loss_fn(hidden_act_one, v2_acts_one)).mean()\n",
    "            total_loss = classification_loss_fn(classification_out, labels) + loss_factor_one * (sub_loss) + loss_factor_two * (sub_loss_two)\n",
    "            total_loss.backward()\n",
    "            \n",
    "            optimizer.step()\n",
    "            train_loss += total_loss.item()\n",
    "            train_bar.set_postfix(loss=total_loss.item())\n",
    "    \n",
    "            # to prevent backprop on both graphs:\n",
    "            hidden_act_one_detached = hidden_act_one.detach()\n",
    "            hidden_act_two_detached = hidden_act_two.detach()\n",
    "    \n",
    "            # SAE loss and backprop - hidden layer one\n",
    "            optimizer_sae_hidden_one.zero_grad()\n",
    "            reconstructed_one, encoded_one = sae_hidden_one(hidden_act_one_detached)\n",
    "            sae_loss_hidden_one = sae_hidden_one.loss(hidden_act_one_detached,\n",
    "                                                      reconstructed_one,\n",
    "                                                      encoded_one,\n",
    "                                                      l1_lambda=L1_PENALTY\n",
    "                                                     )\n",
    "            sae_loss_hidden_one.backward()\n",
    "            optimizer_sae_hidden_one.step()\n",
    "            total_sae_loss_hidden_one += sae_loss_hidden_one.item()\n",
    "            \n",
    "            # SAE loss and backprop - hidden layer two\n",
    "            optimizer_sae_hidden_two.zero_grad()\n",
    "            reconstructed_two, encoded_two = sae_hidden_two(hidden_act_two_detached)\n",
    "            sae_loss_hidden_two = sae_hidden_two.loss(hidden_act_two_detached,\n",
    "                                                      reconstructed_two,\n",
    "                                                      encoded_two,\n",
    "                                                      l1_lambda=L1_PENALTY\n",
    "                                                     )\n",
    "            sae_loss_hidden_two.backward()\n",
    "            optimizer_sae_hidden_two.step()\n",
    "            total_sae_loss_hidden_two += sae_loss_hidden_two.item()\n",
    "    \n",
    "            # Store training features and labels\n",
    "            start_idx = batch_idx * train_loader.batch_size\n",
    "            end_idx = start_idx + images.size(0)\n",
    "            feature_activations_one_train[:, start_idx:end_idx] = encoded_one.T.cpu()\n",
    "            feature_activations_two_train[:, start_idx:end_idx] = encoded_two.T.cpu()\n",
    "            labels_train[start_idx:end_idx] = labels.cpu()\n",
    "    \n",
    "        # --- Validation Phase ---\n",
    "        model.eval()\n",
    "        val_loss = 0.0\n",
    "        correct = 0\n",
    "        total = 0\n",
    "        \n",
    "        val_bar = tqdm(val_loader, desc=f\"Epoch {epoch + 1}/{num_epochs} [Val]\", leave=False)\n",
    "        with torch.no_grad():\n",
    "            for batch in val_bar:\n",
    "                # deconstruct\n",
    "                images, labels = batch\n",
    "                images, labels = images.to(device), labels.to(device)\n",
    "    \n",
    "                # forward pass\n",
    "                classification_out, _, _ = model(images)\n",
    "    \n",
    "                # compute loss\n",
    "                loss = classification_loss_fn(classification_out, labels)\n",
    "    \n",
    "                # calculate metrics\n",
    "                val_loss += loss.item()\n",
    "                _, predicted = torch.max(classification_out, 1)\n",
    "                correct += (predicted == labels).sum().item()\n",
    "                total += labels.size(0)\n",
    "    \n",
    "        # epoch stats\n",
    "        avg_train_loss = train_loss / len(train_loader)\n",
    "        avg_val_loss = val_loss / len(val_loader)\n",
    "        avg_sae_train_loss_hidden_one = total_sae_loss_hidden_one / len(train_loader)\n",
    "        avg_sae_train_loss_hidden_two = total_sae_loss_hidden_two / len(train_loader)\n",
    "        val_accuracy = 100 * correct / total\n",
    "    \n",
    "        print(f\"Epoch {epoch+1}/{num_epochs}\")\n",
    "        print(f\"  Train Loss: {avg_train_loss:.4f}\")\n",
    "        print(f\"  SAE Train Loss (hidden one): {avg_sae_train_loss_hidden_one:.4f}\")\n",
    "        print(f\"  SAE Train Loss (hidden two): {avg_sae_train_loss_hidden_two:.4f}\")\n",
    "        print(f\"  Val Loss: {avg_val_loss:.4f} | Val Acc: {val_accuracy:.2f}%\")\n",
    "    \n",
    "        model_path = f'./models/{EXPERIMENT_TYPE}/{RUN_ID}/best_model_baseline_{epoch+1}.pth'\n",
    "        os.makedirs(os.path.dirname(model_path), exist_ok=True)\n",
    "        if val_accuracy > best_val_acc:\n",
    "            best_val_acc = val_accuracy\n",
    "            best_val_loss = avg_val_loss  # Update loss for reference\n",
    "            torch.save(model.state_dict(), model_path)\n",
    "            print(f\"  Saved model with Val Acc: {val_accuracy:.2f}%\")\n",
    "    \n",
    "            best_model = copy.deepcopy(model)\n",
    "            best_sae_one = copy.deepcopy(sae_hidden_one)\n",
    "            best_sae_two = copy.deepcopy(sae_hidden_two)\n",
    "            \n",
    "        # Optional: Save if accuracy is equal but loss is lower\n",
    "        elif val_accuracy == best_val_acc and avg_val_loss < best_val_loss:\n",
    "            best_val_loss = avg_val_loss\n",
    "            torch.save(model.state_dict(), model_path)\n",
    "            print(f\"  Saved model with same Val Acc: {val_accuracy:.2f}% but lower Val Loss: {avg_val_loss:.4f}\")\n",
    "    \n",
    "            best_model = copy.deepcopy(model)\n",
    "            best_sae_one = copy.deepcopy(sae_hidden_one)\n",
    "            best_sae_two = copy.deepcopy(sae_hidden_two)\n",
    "    \n",
    "        validation_losses.append(avg_val_loss)\n",
    "        training_losses.append(avg_train_loss)\n",
    "        SAE_hidden_one_losses.append(avg_sae_train_loss_hidden_one)\n",
    "        SAE_hidden_two_losses.append(avg_sae_train_loss_hidden_two)\n",
    "    \n",
    "    Z_train_one = feature_activations_one_train.detach().T.numpy()\n",
    "    Z_train_two = feature_activations_two_train.detach().T.numpy()\n",
    "    y_train = labels_train.numpy()\n",
    "    \n",
    "    \n",
    "    ######################################################################################################\n",
    "    # EVAL\n",
    "    ######################################################################################################\n",
    "    best_model.eval()  # again currently a no-op\n",
    "    best_sae_one.eval()\n",
    "    best_sae_two.eval()\n",
    "    \n",
    "    test_correct = 0\n",
    "    test_total = 0\n",
    "    \n",
    "    feature_activations_one_test = torch.zeros(HIDDEN_SIZE, len(test_images))\n",
    "    feature_activations_two_test = torch.zeros(HIDDEN_SIZE, len(test_images))\n",
    "    labels_test = torch.zeros(len(test_images), dtype=torch.long)\n",
    "    \n",
    "    recon_errors_one = []\n",
    "    recon_errors_two = []\n",
    "    \n",
    "    with torch.no_grad():\n",
    "        test_bar = tqdm(test_loader, desc=f\"Evaluation\")\n",
    "        for i, batch in enumerate(test_bar):\n",
    "            images, labels = batch\n",
    "            images, labels = images.to(device), labels.to(device)\n",
    "    \n",
    "            # forward pass\n",
    "            classification_out, hidden_one_act, hidden_two_act = best_model(images)\n",
    "            reconstructed_one, encoded_one = best_sae_one(hidden_one_act)\n",
    "            reconstructed_two, encoded_two = best_sae_two(hidden_two_act)\n",
    "    \n",
    "            # SAE reconstruction\n",
    "            recon_errors_one.append(torch.mean((hidden_one_act - reconstructed_one) ** 2).item())\n",
    "            recon_errors_two.append(torch.mean((hidden_two_act - reconstructed_two) ** 2).item())\n",
    "    \n",
    "            start_idx = i * test_loader.batch_size\n",
    "            end_idx = start_idx + images.size(0)\n",
    "            feature_activations_one_test[:, start_idx:end_idx] = encoded_one.T.cpu()\n",
    "            feature_activations_two_test[:, start_idx:end_idx] = encoded_two.T.cpu()\n",
    "            labels_test[start_idx:end_idx] = labels.cpu()\n",
    "    \n",
    "            # stats\n",
    "            _, predicted = torch.max(classification_out, 1)\n",
    "            test_correct += (predicted == labels).sum().item()\n",
    "            test_total += labels.size(0)\n",
    "    \n",
    "    Z_test_one = feature_activations_one_test.T.numpy()\n",
    "    Z_test_two = feature_activations_two_test.T.numpy()\n",
    "    y_test = labels_test.numpy()\n",
    "    \n",
    "    test_accuracy = 100 * test_correct / test_total\n",
    "    print(f\"Final Test Accuracy: {test_accuracy:.2f}%\")\n",
    "    \n",
    "    # reconstruction accuracy of SAE at each layer\n",
    "    avg_recon_error_one = np.mean(recon_errors_one)\n",
    "    avg_recon_error_two = np.mean(recon_errors_two)\n",
    "    print(f\"Average Reconstruction Error (Hidden One): {avg_recon_error_one:.4f}\")\n",
    "    print(f\"Average Reconstruction Error (Hidden Two): {avg_recon_error_two:.4f}\")\n",
    "    \n",
    "    # Compute sparsity (average non-zero features per image)\n",
    "    sparsity_one = torch.mean((feature_activations_one_test > 1e-5).float()).item() * 64\n",
    "    sparsity_two = torch.mean((feature_activations_two_test > 1e-5).float()).item() * 64\n",
    "    print(f\"Average Non-Zero Features per Image (Hidden One): {sparsity_one:.2f}\")\n",
    "    print(f\"Average Non-Zero Features per Image (Hidden Two): {sparsity_two:.2f}\")\n",
    "    \n",
    "    ######################################################################################################\n",
    "    # SPARSE FEATURE PROBES\n",
    "    ######################################################################################################\n",
    "        \n",
    "    clf_one = LogisticRegression(penalty='l2', max_iter=1000, n_jobs=-1)\n",
    "    clf_one.fit(Z_train_one, y_train)\n",
    "    acc_one = clf_one.score(Z_test_one, y_test)\n",
    "    print(f\"Linear Probe Accuracy (Hidden One): {acc_one:.2%}\")\n",
    "    \n",
    "    clf_two = LogisticRegression(penalty='l2', max_iter=1000, n_jobs=-1)\n",
    "    clf_two.fit(Z_train_two, y_train)\n",
    "    acc_two = clf_two.score(Z_test_two, y_test)\n",
    "    print(f\"Linear Probe Accuracy (Hidden Two): {acc_two:.2%}\")\n",
    "\n",
    "    loss_data_dict[(loss_factor_one, loss_factor_two)] = {}\n",
    "    loss_data_dict[(loss_factor_one, loss_factor_two)][\"Final_Accuracy\"] = test_accuracy\n",
    "    loss_data_dict[(loss_factor_one, loss_factor_two)][\"Final_Loss\"] = avg_train_loss\n",
    "    loss_data_dict[(loss_factor_one, loss_factor_two)][\"S1_Probe_Acccuracy\"] = acc_one\n",
    "    loss_data_dict[(loss_factor_one, loss_factor_two)][\"S2_Probe_Acccuracy\"] = acc_two\n",
    "    loss_data_dict[(loss_factor_one, loss_factor_two)][\"Loss_Plot_Data\"] = (validation_losses, training_losses, SAE_hidden_one_losses, SAE_hidden_two_losses)\n",
    "\n",
    "    del feature_activations_one_train, feature_activations_two_train, labels_train\n",
    "    del feature_activations_one_test, feature_activations_two_test, labels_test\n",
    "    del best_model, best_sae_one, best_sae_two\n",
    "    del validation_losses, training_losses, SAE_hidden_one_losses, SAE_hidden_two_losses\n",
    "    del clf_two, clf_one\n",
    "    del model, sae_hidden_one, sae_hidden_two\n",
    "    del train_dataset, train_loader\n",
    "    del test_dataset, test_loader\n",
    "    del val_dataset, val_loader\n",
    "    torch.cuda.empty_cache()\n",
    "    print()"
   ]
  },
  {
   "cell_type": "code",
   "execution_count": 17,
   "id": "60ce1426-747d-470a-a42a-d5b13b3c776c",
   "metadata": {},
   "outputs": [
    {
     "data": {
      "text/plain": [
       "dict_keys([(0, 0.0), (0, 0.005), (0, 0.01), (0, 0.015), (0, 0.02), (0, 0.025)])"
      ]
     },
     "execution_count": 17,
     "metadata": {},
     "output_type": "execute_result"
    }
   ],
   "source": [
    "loss_data_dict.keys()"
   ]
  },
  {
   "cell_type": "code",
   "execution_count": 18,
   "id": "bdd96fe2-4d73-41b2-8d57-556ba65e9e38",
   "metadata": {
    "scrolled": true
   },
   "outputs": [
    {
     "name": "stdout",
     "output_type": "stream",
     "text": [
      "(0, 0.02)\n",
      "92.21\n",
      "0.9215\n",
      "0.923\n"
     ]
    }
   ],
   "source": [
    "max_acc = 0\n",
    "max_digit = -1\n",
    "for digit in loss_data_dict.keys():\n",
    "    if loss_data_dict[digit][\"Final_Accuracy\"] > max_acc:\n",
    "        max_acc = loss_data_dict[digit][\"Final_Accuracy\"]\n",
    "        max_digit = digit\n",
    "\n",
    "print(max_digit)\n",
    "print(loss_data_dict[max_digit][\"Final_Accuracy\"])\n",
    "print(loss_data_dict[max_digit][\"S1_Probe_Acccuracy\"])\n",
    "print(loss_data_dict[max_digit][\"S2_Probe_Acccuracy\"])"
   ]
  },
  {
   "cell_type": "code",
   "execution_count": null,
   "id": "2e6ba107-3ab6-473f-b610-5283e28e633b",
   "metadata": {},
   "outputs": [],
   "source": [
    "import pickle\n",
    "\n",
    "file_path = f\"./dual_0.011_loss_data_dict_{min_loss}_to_{max_loss}.pkl\"\n",
    "with open(file_path, \"wb\") as f:\n",
    "    pickle.dump(loss_data_dict, f)"
   ]
  },
  {
   "cell_type": "code",
   "execution_count": null,
   "id": "85a76b01-a6b5-4e71-a753-442518fd19e8",
   "metadata": {},
   "outputs": [],
   "source": []
  }
 ],
 "metadata": {
  "kernelspec": {
   "display_name": "Python 3 (ipykernel)",
   "language": "python",
   "name": "python3"
  },
  "language_info": {
   "codemirror_mode": {
    "name": "ipython",
    "version": 3
   },
   "file_extension": ".py",
   "mimetype": "text/x-python",
   "name": "python",
   "nbconvert_exporter": "python",
   "pygments_lexer": "ipython3",
   "version": "3.10.12"
  }
 },
 "nbformat": 4,
 "nbformat_minor": 5
}
