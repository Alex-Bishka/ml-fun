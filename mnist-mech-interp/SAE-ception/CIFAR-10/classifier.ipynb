{
 "cells": [
  {
   "cell_type": "code",
   "execution_count": 1,
   "id": "2731654c-9f35-4f8d-b159-4d92bdd8292f",
   "metadata": {},
   "outputs": [],
   "source": [
    "import pandas as pd\n",
    "import torch\n",
    "from torchvision import datasets, transforms\n",
    "from torchvision.models import vit_h_14, ViT_H_14_Weights\n",
    "from torch.utils.data import DataLoader"
   ]
  },
  {
   "cell_type": "code",
   "execution_count": 2,
   "id": "a181ce97-7aab-491e-ab30-1b40de8f7916",
   "metadata": {},
   "outputs": [],
   "source": [
    "from helpers.helpers import set_seed\n",
    "from helpers.sae import SparseAutoencoder, train_sae_on_layer, evaluate_sae_with_probe"
   ]
  },
  {
   "cell_type": "code",
   "execution_count": 3,
   "id": "bd2e9157-c405-4f24-b9d6-fbb39a7c286d",
   "metadata": {},
   "outputs": [],
   "source": [
    "# --- 0. For reproducibility & Configuration ---\n",
    "set_seed(42)\n",
    "MODEL_SAVE_PATH = './classifiers/baseline/vit_h_99.56.pth'\n",
    "IMG_RES = 384\n",
    "device = torch.device(\"cuda\" if torch.cuda.is_available() else \"cpu\")"
   ]
  },
  {
   "cell_type": "code",
   "execution_count": 4,
   "id": "3c01c962-6c98-4e69-a5d1-20ab94eff3b3",
   "metadata": {},
   "outputs": [],
   "source": [
    "weights = ViT_H_14_Weights.IMAGENET1K_SWAG_E2E_V1\n",
    "# weights = ViT_H_14_Weights.IMAGENET1K_SWAG_LINEAR_V1\n",
    "model = vit_h_14(weights=None) "
   ]
  },
  {
   "cell_type": "code",
   "execution_count": 5,
   "id": "5d37bb8c-36d3-4270-8ce2-cf630b4504f7",
   "metadata": {},
   "outputs": [],
   "source": [
    "# Update model's image size and positional embeddings\n",
    "model.image_size = IMG_RES  # Update the expected image size\n",
    "patch_size = model.patch_size  # Should be 14 for vit_h_14\n",
    "num_patches = (IMG_RES // patch_size) ** 2  # 729 for 384x384 with 14x14 patches"
   ]
  },
  {
   "cell_type": "code",
   "execution_count": 6,
   "id": "1716f85b-3696-4abb-90d0-f178f7e5408e",
   "metadata": {},
   "outputs": [
    {
     "name": "stdout",
     "output_type": "stream",
     "text": [
      "Original pos_embed shape: torch.Size([1, 257, 1280])\n"
     ]
    }
   ],
   "source": [
    "# Interpolate positional embeddings\n",
    "orig_pos_embed = model.encoder.pos_embedding  # Shape: [1, 257, 1280] (257 = 1 cls token + 256 patches)\n",
    "print(f\"Original pos_embed shape: {orig_pos_embed.shape}\")"
   ]
  },
  {
   "cell_type": "code",
   "execution_count": 7,
   "id": "8fcc3caa-25c3-42cb-bae6-6266c5e8c43a",
   "metadata": {},
   "outputs": [],
   "source": [
    "# Extract the embedding dimension\n",
    "embed_dim = orig_pos_embed.shape[-1]  # 1280\n",
    "num_orig_patches = orig_pos_embed.shape[1] - 1  # 1369 patches (exclude class token)\n",
    "orig_grid_size = int(num_orig_patches ** 0.5)  # 37 for 1369 patches (37x37 grid)\n",
    "new_grid_size = int(num_patches ** 0.5)  # 27 for 729 patches (27x27 grid)"
   ]
  },
  {
   "cell_type": "code",
   "execution_count": 8,
   "id": "1d528107-18b0-4a9f-b55e-b900e2f81ed0",
   "metadata": {},
   "outputs": [],
   "source": [
    "# Extract the positional embeddings (excluding class token)\n",
    "pos_embed = orig_pos_embed[:, 1:, :]  # Shape: [1, 1369, 1280]\n",
    "pos_embed = pos_embed.reshape(1, orig_grid_size, orig_grid_size, embed_dim)  # Reshape to [1, 37, 37, 1280]\n",
    "\n",
    "# Interpolate to new grid size\n",
    "pos_embed = torch.nn.functional.interpolate(\n",
    "    pos_embed.permute(0, 3, 1, 2),  # [1, 1280, 37, 37]\n",
    "    size=(new_grid_size, new_grid_size),  # Interpolate to [1, 1280, 27, 27]\n",
    "    mode='bilinear',\n",
    "    align_corners=False\n",
    ")\n",
    "pos_embed = pos_embed.permute(0, 2, 3, 1).reshape(1, num_patches, embed_dim)  # [1, 729, 1280]"
   ]
  },
  {
   "cell_type": "code",
   "execution_count": 9,
   "id": "fcdf75df-9689-403f-a2e8-ca92f330a48d",
   "metadata": {},
   "outputs": [],
   "source": [
    "# Combine with class token embedding\n",
    "cls_token_embed = orig_pos_embed[:, :1, :]  # [1, 1, 1280]\n",
    "new_pos_embed = torch.cat([cls_token_embed, pos_embed], dim=1)  # [1, 730, 1280]\n",
    "\n",
    "# Update model's positional embeddings\n",
    "model.encoder.pos_embedding = torch.nn.Parameter(new_pos_embed)"
   ]
  },
  {
   "cell_type": "code",
   "execution_count": 10,
   "id": "df88171b-3aff-4eac-91a4-836daa512dfa",
   "metadata": {},
   "outputs": [
    {
     "data": {
      "text/plain": [
       "<All keys matched successfully>"
      ]
     },
     "execution_count": 10,
     "metadata": {},
     "output_type": "execute_result"
    }
   ],
   "source": [
    "num_ftrs = model.heads.head.in_features\n",
    "model.heads.head = torch.nn.Linear(num_ftrs, 10)\n",
    "model.load_state_dict(torch.load(MODEL_SAVE_PATH))"
   ]
  },
  {
   "cell_type": "code",
   "execution_count": 11,
   "id": "6025eeb2-ef87-4e75-9834-a053c802333a",
   "metadata": {},
   "outputs": [
    {
     "name": "stdout",
     "output_type": "stream",
     "text": [
      "Successfully loaded model from ./classifiers/baseline/vit_h_99.56.pth to device: cuda\n"
     ]
    }
   ],
   "source": [
    "model = model.to(device)\n",
    "model.eval()\n",
    "print(f\"Successfully loaded model from {MODEL_SAVE_PATH} to device: {device}\")"
   ]
  },
  {
   "cell_type": "code",
   "execution_count": 12,
   "id": "0433504f-b075-447c-be3c-aa676fa35534",
   "metadata": {},
   "outputs": [
    {
     "name": "stdout",
     "output_type": "stream",
     "text": [
      "Files already downloaded and verified\n"
     ]
    }
   ],
   "source": [
    "eval_transform = transforms.Compose([\n",
    "        transforms.Resize((IMG_RES, IMG_RES)),  # Ensure 384x384 for validation\n",
    "        transforms.ToTensor(),\n",
    "        transforms.Normalize(mean=[0.485, 0.456, 0.406], std=[0.229, 0.224, 0.225]),\n",
    "    ])\n",
    "test_dataset = datasets.CIFAR10(root='./data', train=False, download=True, transform=eval_transform)\n",
    "test_loader = DataLoader(test_dataset, batch_size=16, shuffle=False)"
   ]
  },
  {
   "cell_type": "code",
   "execution_count": 13,
   "id": "4e756ece-d797-45c4-b564-0f1fef423c71",
   "metadata": {},
   "outputs": [
    {
     "name": "stdout",
     "output_type": "stream",
     "text": [
      "\n",
      "🎉 Final Accuracy of the best model on the test set: 99.56%\n"
     ]
    }
   ],
   "source": [
    "# Evaluate the model\n",
    "test_correct = 0\n",
    "test_total = 0\n",
    "with torch.no_grad():\n",
    "    for images, labels in test_loader:\n",
    "        images, labels = images.to(device), labels.to(device)\n",
    "        outputs = model(images)\n",
    "        _, predicted = torch.max(outputs.data, 1)\n",
    "        test_total += labels.size(0)\n",
    "        test_correct += (predicted == labels).sum().item()\n",
    "\n",
    "final_accuracy = 100 * test_correct / test_total\n",
    "print(f\"\\n🎉 Final Accuracy of the best model on the test set: {final_accuracy:.2f}%\")"
   ]
  },
  {
   "cell_type": "code",
   "execution_count": 14,
   "id": "8d62dd5e-a96a-4e92-8d76-8b5696518e55",
   "metadata": {},
   "outputs": [],
   "source": [
    "torch.save(new_pos_embed, 'pos_embed_edge_384_99.56.pth')"
   ]
  },
  {
   "cell_type": "code",
   "execution_count": null,
   "id": "827a5989-3635-493c-88c2-8d5afa020f4c",
   "metadata": {},
   "outputs": [],
   "source": []
  }
 ],
 "metadata": {
  "kernelspec": {
   "display_name": "Python 3 (ipykernel)",
   "language": "python",
   "name": "python3"
  },
  "language_info": {
   "codemirror_mode": {
    "name": "ipython",
    "version": 3
   },
   "file_extension": ".py",
   "mimetype": "text/x-python",
   "name": "python",
   "nbconvert_exporter": "python",
   "pygments_lexer": "ipython3",
   "version": "3.10.12"
  }
 },
 "nbformat": 4,
 "nbformat_minor": 5
}
