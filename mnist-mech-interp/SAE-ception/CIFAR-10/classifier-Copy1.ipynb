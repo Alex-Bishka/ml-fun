{
 "cells": [
  {
   "cell_type": "code",
   "execution_count": null,
   "id": "c70d250e-0253-481f-b70c-a3b4aa3e1f8d",
   "metadata": {},
   "outputs": [],
   "source": [
    "import torch\n",
    "from torchvision import datasets, transforms\n",
    "from torchvision.models import vit_h_14, ViT_H_14_Weights\n",
    "from torch.utils.data import DataLoader\n",
    "\n",
    "\n",
    "from helpers.helpers import set_seed\n",
    "\n",
    "\n",
    "set_seed(42)\n",
    "# device = torch.device(\"cuda\" if torch.cuda.is_available() else \"cpu\")"
   ]
  },
  {
   "cell_type": "code",
   "execution_count": null,
   "id": "e65f4c54-5ddc-4d9e-b6fe-072e6b1a18c1",
   "metadata": {},
   "outputs": [],
   "source": [
    "weights = ViT_H_14_Weights.IMAGENET1K_SWAG_LINEAR_V1  # Using LINEAR for efficiency\n",
    "model = vit_h_14(weights=weights)\n",
    "\n",
    "num_ftrs = model.heads.head.in_features\n",
    "model.heads.head = torch.nn.Linear(num_ftrs, 10)"
   ]
  },
  {
   "cell_type": "code",
   "execution_count": null,
   "id": "1aff27e0-de26-4283-a069-d3f1738b6bd5",
   "metadata": {
    "scrolled": true
   },
   "outputs": [],
   "source": [
    "MODEL_SAVE_PATH = './saved_models/25_top/best_model_lf_0.01.pth'\n",
    "model.load_state_dict(torch.load(MODEL_SAVE_PATH))\n",
    "# model.to(device)\n",
    "model.eval()"
   ]
  },
  {
   "cell_type": "code",
   "execution_count": null,
   "id": "0433504f-b075-447c-be3c-aa676fa35534",
   "metadata": {},
   "outputs": [],
   "source": [
    "eval_transform = weights.transforms()\n",
    "test_dataset = datasets.CIFAR10(root='./data', train=False, download=True, transform=eval_transform)\n",
    "test_loader = DataLoader(test_dataset, batch_size=16, shuffle=False)"
   ]
  },
  {
   "cell_type": "code",
   "execution_count": null,
   "id": "4e756ece-d797-45c4-b564-0f1fef423c71",
   "metadata": {},
   "outputs": [],
   "source": [
    "# Evaluate the model\n",
    "test_correct = 0\n",
    "test_total = 0\n",
    "with torch.no_grad():\n",
    "    for images, labels in test_loader:\n",
    "        # images, labels = images.to(device), labels.to(device)\n",
    "        outputs = model(images)\n",
    "        _, predicted = torch.max(outputs.data, 1)\n",
    "        test_total += labels.size(0)\n",
    "        test_correct += (predicted == labels).sum().item()\n",
    "\n",
    "final_accuracy = 100 * test_correct / test_total\n",
    "print(f\"\\n🎉 Final Accuracy of the best model on the test set: {final_accuracy:.2f}%\")"
   ]
  },
  {
   "cell_type": "code",
   "execution_count": null,
   "id": "8d62dd5e-a96a-4e92-8d76-8b5696518e55",
   "metadata": {},
   "outputs": [],
   "source": []
  }
 ],
 "metadata": {
  "kernelspec": {
   "display_name": "Python 3 (ipykernel)",
   "language": "python",
   "name": "python3"
  },
  "language_info": {
   "codemirror_mode": {
    "name": "ipython",
    "version": 3
   },
   "file_extension": ".py",
   "mimetype": "text/x-python",
   "name": "python",
   "nbconvert_exporter": "python",
   "pygments_lexer": "ipython3",
   "version": "3.10.12"
  }
 },
 "nbformat": 4,
 "nbformat_minor": 5
}
