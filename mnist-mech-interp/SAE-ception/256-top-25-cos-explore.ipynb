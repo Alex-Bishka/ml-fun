{
 "cells": [
  {
   "cell_type": "markdown",
   "id": "84207c44-9c22-4853-943c-5a6cb08bdbdf",
   "metadata": {},
   "source": [
    "# Training on SAE Sparse Features\n",
    "\n",
    "Loss factor of 0.01, working with the 25 highest activating features per digit\n",
    "\n",
    "Cosine instead of MSE for auxilary loss - it seemed to work quite well, and makes auxiliary loss easier to manage w/global loss."
   ]
  },
  {
   "cell_type": "code",
   "execution_count": 1,
   "id": "10aa37d0-59c1-4368-aec0-83ccb0ce6a4b",
   "metadata": {},
   "outputs": [],
   "source": [
    "import time\n",
    "\n",
    "EXPERIMENT_TYPE = \"SAE\"\n",
    "RUN_ID = time.time()"
   ]
  },
  {
   "cell_type": "markdown",
   "id": "f2b67228-330c-480e-99b5-cb4001e89013",
   "metadata": {},
   "source": [
    "## SAE Params"
   ]
  },
  {
   "cell_type": "code",
   "execution_count": 2,
   "id": "250d7778-885a-4a6d-9bd2-ddbcb9a27be3",
   "metadata": {},
   "outputs": [],
   "source": [
    "HIDDEN_SIZE = 256\n",
    "L1_PENALTY = 0.01\n",
    "N = 25"
   ]
  },
  {
   "cell_type": "markdown",
   "id": "fcf4a0ba-710d-4882-9bd0-f948e9f6fb9d",
   "metadata": {},
   "source": [
    "## Imports"
   ]
  },
  {
   "cell_type": "code",
   "execution_count": 3,
   "id": "4a4018f1-cb83-4f0b-90db-0f48aad1fe9f",
   "metadata": {},
   "outputs": [],
   "source": [
    "import random\n",
    "import copy\n",
    "\n",
    "import numpy as np\n",
    "import pandas as pd\n",
    "import matplotlib.pyplot as plt\n",
    "from sklearn.model_selection import train_test_split\n",
    "from sklearn.linear_model import LogisticRegression\n",
    "\n",
    "\n",
    "import torch\n",
    "from torch import nn\n",
    "from torch.utils.data import Dataset, DataLoader\n",
    "\n",
    "from tqdm import tqdm"
   ]
  },
  {
   "cell_type": "code",
   "execution_count": 4,
   "id": "6e7038c3-06d1-4d3c-9b44-2f2bc3485f57",
   "metadata": {},
   "outputs": [],
   "source": [
    "from graph_helpers import (plot_weights,\n",
    "                    plot_activations,\n",
    "                    plot_losses,\n",
    "                    plot_saliency_map,\n",
    "                    plot_sparse_vecs_by_image,\n",
    "                    plot_top_act_images_by_feature,\n",
    "                    feature_inversion\n",
    "                )"
   ]
  },
  {
   "cell_type": "code",
   "execution_count": 5,
   "id": "2c069cc3-458e-4825-9828-c771c7f7370a",
   "metadata": {},
   "outputs": [],
   "source": [
    "import sys, os\n",
    "from pathlib import Path\n",
    "\n",
    "# assume cwd is project_root/data_loader\n",
    "project_root = Path(os.getcwd()).parent  # go up one level to project_root\n",
    "sys.path.insert(0, str(project_root))\n",
    "\n",
    "from helpers import load_images, load_labels, visualize_image, get_edges, load_intermediate_labels"
   ]
  },
  {
   "cell_type": "markdown",
   "id": "6cbef66c-0819-4e4f-9fb7-346b8b786a6b",
   "metadata": {},
   "source": [
    "## Set Device to GPU"
   ]
  },
  {
   "cell_type": "code",
   "execution_count": 6,
   "id": "67f93931-772a-4720-b394-0cff7884a1ba",
   "metadata": {},
   "outputs": [
    {
     "name": "stdout",
     "output_type": "stream",
     "text": [
      "We will be using device: cuda\n"
     ]
    }
   ],
   "source": [
    "device = torch.device('cuda' if torch.cuda.is_available() else 'cpu')\n",
    "print(f\"We will be using device: {device}\")"
   ]
  },
  {
   "cell_type": "markdown",
   "id": "7b553d6d-7e3a-4973-a472-3c735df1b699",
   "metadata": {},
   "source": [
    "## Load Data"
   ]
  },
  {
   "cell_type": "code",
   "execution_count": 7,
   "id": "070db857-3892-4a37-b24a-b3f8a8d7bb37",
   "metadata": {},
   "outputs": [],
   "source": [
    "# train data\n",
    "train_images = load_intermediate_labels(\"first_layer/train_images.pkl\")\n",
    "train_labels = load_intermediate_labels(\"first_layer/train_labels.pkl\")\n",
    "\n",
    "# val data\n",
    "val_images = load_intermediate_labels(\"first_layer/val_images.pkl\")\n",
    "val_labels = load_intermediate_labels(\"first_layer/val_labels.pkl\")\n",
    "\n",
    "# test data\n",
    "test_images = load_intermediate_labels(\"first_layer/test_images.pkl\")\n",
    "test_labels = load_intermediate_labels(\"first_layer/test_labels.pkl\")\n",
    "\n",
    "# intermediate labels\n",
    "recon_max_sparse_act_one = load_intermediate_labels(f\"first_layer/train_images_recon_max_sparse_top_{N}.pkl\")\n",
    "recon_max_sparse_act_one_ablated = load_intermediate_labels(f\"first_layer/train_images_recon_max_sparse_ablated_top_{N}.pkl\")"
   ]
  },
  {
   "cell_type": "code",
   "execution_count": 8,
   "id": "70de73dd-39e5-4c74-b3a3-03b6155d3fd5",
   "metadata": {},
   "outputs": [
    {
     "data": {
      "text/plain": [
       "torch.Tensor"
      ]
     },
     "execution_count": 8,
     "metadata": {},
     "output_type": "execute_result"
    }
   ],
   "source": [
    "type(recon_max_sparse_act_one[0])"
   ]
  },
  {
   "cell_type": "code",
   "execution_count": 9,
   "id": "a75e03f6-1174-4b0a-bac4-a30b30deff63",
   "metadata": {},
   "outputs": [
    {
     "name": "stdout",
     "output_type": "stream",
     "text": [
      "Train images shape: (50000, 28, 28)\n",
      "Val images shape: (10000, 28, 28)\n",
      "Test images shape: (10000, 28, 28)\n"
     ]
    }
   ],
   "source": [
    "print(\"Train images shape:\", train_images.shape)\n",
    "print(\"Val images shape:\", val_images.shape)\n",
    "print(\"Test images shape:\", test_images.shape)"
   ]
  },
  {
   "cell_type": "markdown",
   "id": "39ca05d5-d791-4fbb-9736-b52a5eae1409",
   "metadata": {},
   "source": [
    "## Visualize an image"
   ]
  },
  {
   "cell_type": "code",
   "execution_count": 10,
   "id": "10a6f14c-5f30-4237-933c-55a6f254a9df",
   "metadata": {},
   "outputs": [
    {
     "data": {
      "image/png": "[encoded data removed]",
      "text/plain": [
       "<Figure size 300x300 with 1 Axes>"
      ]
     },
     "metadata": {},
     "output_type": "display_data"
    }
   ],
   "source": [
    "sample_image = train_images[0]\n",
    "sample_label = train_labels[0]\n",
    "visualize_image(sample_image, sample_label)"
   ]
  },
  {
   "cell_type": "markdown",
   "id": "00d7fd35-fd62-4598-89f5-58f98567ad3c",
   "metadata": {},
   "source": [
    "## Architecture\n",
    "\n",
    "### NN\n",
    "\n",
    "Once again, two hidden layers. 16 nodes each. Same as 3blue1brown."
   ]
  },
  {
   "cell_type": "code",
   "execution_count": 11,
   "id": "1e5d2535-98f4-4c1e-8073-c5373a5b56c0",
   "metadata": {},
   "outputs": [],
   "source": [
    "class NeuralNetwork(nn.Module):\n",
    "    def __init__(self):\n",
    "        super().__init__()\n",
    "        layer_size_by_pixels = 28*28\n",
    "        \n",
    "        self.flatten = nn.Flatten()\n",
    "        \n",
    "        # define layers separately to have access to each\n",
    "        self.hidden_one = nn.Linear(layer_size_by_pixels, 16)\n",
    "        self.hidden_two = nn.Linear(16, 16)\n",
    "        self.classification_layer = nn.Linear(16, 10)\n",
    "        \n",
    "        self.activation_function = nn.ReLU()\n",
    "\n",
    "    def forward(self, x):\n",
    "        x = self.flatten(x)\n",
    "\n",
    "        # first hidden layer\n",
    "        hidden_one_out = self.hidden_one(x)\n",
    "        hidden_one_act = self.activation_function(hidden_one_out)\n",
    "\n",
    "        # second hidden layer\n",
    "        hidden_two_out = self.hidden_two(hidden_one_act)\n",
    "        hidden_two_act = self.activation_function(hidden_two_out)\n",
    "\n",
    "        # classification layer\n",
    "        classification_out = self.classification_layer(hidden_two_act)\n",
    "        \n",
    "        return classification_out, hidden_one_act, hidden_two_act"
   ]
  },
  {
   "cell_type": "markdown",
   "id": "dd44c3cf-602d-451e-b10c-8b7f005858e8",
   "metadata": {},
   "source": [
    "### SAE"
   ]
  },
  {
   "cell_type": "code",
   "execution_count": 12,
   "id": "53786553-7c2c-4d0f-96a9-b901297c7756",
   "metadata": {},
   "outputs": [],
   "source": [
    "class SparseAutoencoder(nn.Module):\n",
    "    def __init__(self, input_size=16, hidden_size=128):\n",
    "        super().__init__()\n",
    "        self.encoder = nn.Linear(input_size, hidden_size)\n",
    "        self.decoder = nn.Linear(hidden_size, input_size)\n",
    "        self.activation = nn.ReLU()\n",
    "    \n",
    "    def forward(self, x):\n",
    "        encoded = self.activation(self.encoder(x))\n",
    "        reconstructed = self.decoder(encoded)\n",
    "        return reconstructed, encoded\n",
    "    \n",
    "    def loss(self, x, reconstructed, encoded, l1_lambda=0.001):\n",
    "        mse_loss = nn.MSELoss()(reconstructed, x)\n",
    "        l1_loss = l1_lambda * torch.mean(torch.abs(encoded))\n",
    "        return mse_loss + l1_loss"
   ]
  },
  {
   "cell_type": "markdown",
   "id": "17fa3f1a-32f7-46d9-975d-3c7c77d95a9f",
   "metadata": {},
   "source": [
    "## Dataloader"
   ]
  },
  {
   "cell_type": "code",
   "execution_count": 13,
   "id": "2fe0386b-042b-4e96-8266-adb647758c37",
   "metadata": {},
   "outputs": [],
   "source": [
    "class EdgeDataset(Dataset):\n",
    "    def __init__(self, images, labels, first_layer_acts=None):\n",
    "        self.images = images\n",
    "        self.labels = labels\n",
    "        self.first_layer_acts = first_layer_acts\n",
    "\n",
    "    def __len__(self):\n",
    "        assert len(self.images) == len(self.labels)\n",
    "        if self.first_layer_acts:\n",
    "            assert(len(self.first_layer_acts) == len(self.images))\n",
    "            \n",
    "        return len(self.images)\n",
    "\n",
    "    def __getitem__(self, idx):\n",
    "        image = torch.from_numpy(self.images[idx].copy()).float()\n",
    "        label = torch.tensor(self.labels[idx].copy(), dtype=torch.long)\n",
    "\n",
    "        if self.first_layer_acts:\n",
    "            return (image, label, self.first_layer_acts[idx])\n",
    "        else:\n",
    "            return (image, label)"
   ]
  },
  {
   "cell_type": "code",
   "execution_count": 14,
   "id": "634f8215-1f78-4e3f-975f-1bddf935cd34",
   "metadata": {},
   "outputs": [],
   "source": [
    "# for reproducibility on training\n",
    "def seed_worker(worker_id):\n",
    "    worker_seed = torch.initial_seed() % 2**32\n",
    "    np.random.seed(worker_seed)\n",
    "    random.seed(worker_seed)"
   ]
  },
  {
   "cell_type": "markdown",
   "id": "b878bdc7-4dc6-4510-a3a7-d64a2d2d7394",
   "metadata": {},
   "source": [
    "## Training Loop"
   ]
  },
  {
   "cell_type": "code",
   "execution_count": 16,
   "id": "e90a2e09-4d54-4b9a-8abe-379edef96d95",
   "metadata": {},
   "outputs": [
    {
     "name": "stdout",
     "output_type": "stream",
     "text": [
      "41\n"
     ]
    }
   ],
   "source": [
    "loss_factors = np.arange(0.01 + 0.001, 0.05 + 0.001, 0.001)\n",
    "print(len(loss_factors))"
   ]
  },
  {
   "cell_type": "code",
   "execution_count": 17,
   "id": "5efead09-bdd4-4177-9ead-fee16bb28a15",
   "metadata": {
    "scrolled": true
   },
   "outputs": [
    {
     "name": "stdout",
     "output_type": "stream",
     "text": [
      "##################################################\n",
      "Loss factor: 0.011\n",
      "\n",
      "\n"
     ]
    },
    {
     "name": "stderr",
     "output_type": "stream",
     "text": [
      "                                                                                                                        \r"
     ]
    },
    {
     "name": "stdout",
     "output_type": "stream",
     "text": [
      "Epoch 1/20\n",
      "  Train Loss: 1.0349\n",
      "  SAE Train Loss (hidden one): 8.8846\n",
      "  SAE Train Loss (hidden two): 1.1701\n",
      "  Val Loss: 0.5179 | Val Acc: 84.81%\n",
      "  Saved model with Val Acc: 84.81%\n"
     ]
    },
    {
     "name": "stderr",
     "output_type": "stream",
     "text": [
      "                                                                                                                        \r"
     ]
    },
    {
     "name": "stdout",
     "output_type": "stream",
     "text": [
      "Epoch 2/20\n",
      "  Train Loss: 0.4348\n",
      "  SAE Train Loss (hidden one): 0.5617\n",
      "  SAE Train Loss (hidden two): 0.1077\n",
      "  Val Loss: 0.3854 | Val Acc: 88.50%\n",
      "  Saved model with Val Acc: 88.50%\n"
     ]
    },
    {
     "name": "stderr",
     "output_type": "stream",
     "text": [
      "                                                                                                                        \r"
     ]
    },
    {
     "name": "stdout",
     "output_type": "stream",
     "text": [
      "Epoch 3/20\n",
      "  Train Loss: 0.3585\n",
      "  SAE Train Loss (hidden one): 0.6824\n",
      "  SAE Train Loss (hidden two): 0.1113\n",
      "  Val Loss: 0.3757 | Val Acc: 89.32%\n",
      "  Saved model with Val Acc: 89.32%\n"
     ]
    },
    {
     "name": "stderr",
     "output_type": "stream",
     "text": [
      "                                                                                                                        \r"
     ]
    },
    {
     "name": "stdout",
     "output_type": "stream",
     "text": [
      "Epoch 4/20\n",
      "  Train Loss: 0.3337\n",
      "  SAE Train Loss (hidden one): 0.6573\n",
      "  SAE Train Loss (hidden two): 0.1001\n",
      "  Val Loss: 0.3485 | Val Acc: 89.69%\n",
      "  Saved model with Val Acc: 89.69%\n"
     ]
    },
    {
     "name": "stderr",
     "output_type": "stream",
     "text": [
      "                                                                                                                        \r"
     ]
    },
    {
     "name": "stdout",
     "output_type": "stream",
     "text": [
      "Epoch 5/20\n",
      "  Train Loss: 0.3176\n",
      "  SAE Train Loss (hidden one): 0.6552\n",
      "  SAE Train Loss (hidden two): 0.0938\n",
      "  Val Loss: 0.3276 | Val Acc: 90.50%\n",
      "  Saved model with Val Acc: 90.50%\n"
     ]
    },
    {
     "name": "stderr",
     "output_type": "stream",
     "text": [
      "                                                                                                                        \r"
     ]
    },
    {
     "name": "stdout",
     "output_type": "stream",
     "text": [
      "Epoch 6/20\n",
      "  Train Loss: 0.3040\n",
      "  SAE Train Loss (hidden one): 0.7482\n",
      "  SAE Train Loss (hidden two): 0.0909\n",
      "  Val Loss: 0.3124 | Val Acc: 91.03%\n",
      "  Saved model with Val Acc: 91.03%\n"
     ]
    },
    {
     "name": "stderr",
     "output_type": "stream",
     "text": [
      "                                                                                                                        \r"
     ]
    },
    {
     "name": "stdout",
     "output_type": "stream",
     "text": [
      "Epoch 7/20\n",
      "  Train Loss: 0.2958\n",
      "  SAE Train Loss (hidden one): 0.7586\n",
      "  SAE Train Loss (hidden two): 0.0837\n",
      "  Val Loss: 0.3307 | Val Acc: 90.46%\n"
     ]
    },
    {
     "name": "stderr",
     "output_type": "stream",
     "text": [
      "                                                                                                                        \r"
     ]
    },
    {
     "name": "stdout",
     "output_type": "stream",
     "text": [
      "Epoch 8/20\n",
      "  Train Loss: 0.2919\n",
      "  SAE Train Loss (hidden one): 0.7302\n",
      "  SAE Train Loss (hidden two): 0.0828\n",
      "  Val Loss: 0.3045 | Val Acc: 91.31%\n",
      "  Saved model with Val Acc: 91.31%\n"
     ]
    },
    {
     "name": "stderr",
     "output_type": "stream",
     "text": [
      "                                                                                                                        \r"
     ]
    },
    {
     "name": "stdout",
     "output_type": "stream",
     "text": [
      "Epoch 9/20\n",
      "  Train Loss: 0.2846\n",
      "  SAE Train Loss (hidden one): 0.7072\n",
      "  SAE Train Loss (hidden two): 0.0785\n",
      "  Val Loss: 0.3374 | Val Acc: 90.34%\n"
     ]
    },
    {
     "name": "stderr",
     "output_type": "stream",
     "text": [
      "                                                                                                                        \r"
     ]
    },
    {
     "name": "stdout",
     "output_type": "stream",
     "text": [
      "Epoch 10/20\n",
      "  Train Loss: 0.2807\n",
      "  SAE Train Loss (hidden one): 0.8497\n",
      "  SAE Train Loss (hidden two): 0.0784\n",
      "  Val Loss: 0.2898 | Val Acc: 91.62%\n",
      "  Saved model with Val Acc: 91.62%\n"
     ]
    },
    {
     "name": "stderr",
     "output_type": "stream",
     "text": [
      "                                                                                                                        \r"
     ]
    },
    {
     "name": "stdout",
     "output_type": "stream",
     "text": [
      "Epoch 11/20\n",
      "  Train Loss: 0.2634\n",
      "  SAE Train Loss (hidden one): 0.9403\n",
      "  SAE Train Loss (hidden two): 0.0780\n",
      "  Val Loss: 0.2823 | Val Acc: 91.69%\n",
      "  Saved model with Val Acc: 91.69%\n"
     ]
    },
    {
     "name": "stderr",
     "output_type": "stream",
     "text": [
      "                                                                                                                        \r"
     ]
    },
    {
     "name": "stdout",
     "output_type": "stream",
     "text": [
      "Epoch 12/20\n",
      "  Train Loss: 0.2580\n",
      "  SAE Train Loss (hidden one): 0.9176\n",
      "  SAE Train Loss (hidden two): 0.0730\n",
      "  Val Loss: 0.2852 | Val Acc: 91.95%\n",
      "  Saved model with Val Acc: 91.95%\n"
     ]
    },
    {
     "name": "stderr",
     "output_type": "stream",
     "text": [
      "                                                                                                                        \r"
     ]
    },
    {
     "name": "stdout",
     "output_type": "stream",
     "text": [
      "Epoch 13/20\n",
      "  Train Loss: 0.2482\n",
      "  SAE Train Loss (hidden one): 0.9493\n",
      "  SAE Train Loss (hidden two): 0.0710\n",
      "  Val Loss: 0.2724 | Val Acc: 91.99%\n",
      "  Saved model with Val Acc: 91.99%\n"
     ]
    },
    {
     "name": "stderr",
     "output_type": "stream",
     "text": [
      "                                                                                                                        \r"
     ]
    },
    {
     "name": "stdout",
     "output_type": "stream",
     "text": [
      "Epoch 14/20\n",
      "  Train Loss: 0.2442\n",
      "  SAE Train Loss (hidden one): 0.9099\n",
      "  SAE Train Loss (hidden two): 0.0696\n",
      "  Val Loss: 0.2975 | Val Acc: 91.47%\n"
     ]
    },
    {
     "name": "stderr",
     "output_type": "stream",
     "text": [
      "                                                                                                                        \r"
     ]
    },
    {
     "name": "stdout",
     "output_type": "stream",
     "text": [
      "Epoch 15/20\n",
      "  Train Loss: 0.2360\n",
      "  SAE Train Loss (hidden one): 0.7899\n",
      "  SAE Train Loss (hidden two): 0.0691\n",
      "  Val Loss: 0.2703 | Val Acc: 92.03%\n",
      "  Saved model with Val Acc: 92.03%\n"
     ]
    },
    {
     "name": "stderr",
     "output_type": "stream",
     "text": [
      "                                                                                                                        \r"
     ]
    },
    {
     "name": "stdout",
     "output_type": "stream",
     "text": [
      "Epoch 16/20\n",
      "  Train Loss: 0.2352\n",
      "  SAE Train Loss (hidden one): 0.8165\n",
      "  SAE Train Loss (hidden two): 0.0651\n",
      "  Val Loss: 0.2660 | Val Acc: 92.33%\n",
      "  Saved model with Val Acc: 92.33%\n"
     ]
    },
    {
     "name": "stderr",
     "output_type": "stream",
     "text": [
      "                                                                                                                        \r"
     ]
    },
    {
     "name": "stdout",
     "output_type": "stream",
     "text": [
      "Epoch 17/20\n",
      "  Train Loss: 0.2283\n",
      "  SAE Train Loss (hidden one): 0.7939\n",
      "  SAE Train Loss (hidden two): 0.0619\n",
      "  Val Loss: 0.2746 | Val Acc: 92.19%\n"
     ]
    },
    {
     "name": "stderr",
     "output_type": "stream",
     "text": [
      "                                                                                                                        \r"
     ]
    },
    {
     "name": "stdout",
     "output_type": "stream",
     "text": [
      "Epoch 18/20\n",
      "  Train Loss: 0.2275\n",
      "  SAE Train Loss (hidden one): 0.9194\n",
      "  SAE Train Loss (hidden two): 0.0632\n",
      "  Val Loss: 0.2583 | Val Acc: 92.69%\n",
      "  Saved model with Val Acc: 92.69%\n"
     ]
    },
    {
     "name": "stderr",
     "output_type": "stream",
     "text": [
      "                                                                                                                        \r"
     ]
    },
    {
     "name": "stdout",
     "output_type": "stream",
     "text": [
      "Epoch 19/20\n",
      "  Train Loss: 0.2238\n",
      "  SAE Train Loss (hidden one): 0.8331\n",
      "  SAE Train Loss (hidden two): 0.0601\n",
      "  Val Loss: 0.2609 | Val Acc: 92.48%\n"
     ]
    },
    {
     "name": "stderr",
     "output_type": "stream",
     "text": [
      "                                                                                                                        \r"
     ]
    },
    {
     "name": "stdout",
     "output_type": "stream",
     "text": [
      "Epoch 20/20\n",
      "  Train Loss: 0.2206\n",
      "  SAE Train Loss (hidden one): 0.8691\n",
      "  SAE Train Loss (hidden two): 0.0579\n",
      "  Val Loss: 0.2658 | Val Acc: 92.39%\n"
     ]
    },
    {
     "name": "stderr",
     "output_type": "stream",
     "text": [
      "Evaluation: 100%|██████████████████████████████████████████████████████████████████████| 79/79 [00:00<00:00, 307.05it/s]"
     ]
    },
    {
     "name": "stdout",
     "output_type": "stream",
     "text": [
      "Final Test Accuracy: 92.85%\n",
      "Average Reconstruction Error (Hidden One): 0.1642\n",
      "Average Reconstruction Error (Hidden Two): 0.0096\n",
      "Average Non-Zero Features per Image (Hidden One): 33.58\n",
      "Average Non-Zero Features per Image (Hidden Two): 35.69\n"
     ]
    },
    {
     "name": "stderr",
     "output_type": "stream",
     "text": [
      "\n",
      "/home/alex/.local/lib/python3.10/site-packages/sklearn/linear_model/_logistic.py:469: ConvergenceWarning: lbfgs failed to converge (status=1):\n",
      "STOP: TOTAL NO. of ITERATIONS REACHED LIMIT.\n",
      "\n",
      "Increase the number of iterations (max_iter) or scale the data as shown in:\n",
      "    https://scikit-learn.org/stable/modules/preprocessing.html\n",
      "Please also refer to the documentation for alternative solver options:\n",
      "    https://scikit-learn.org/stable/modules/linear_model.html#logistic-regression\n",
      "  n_iter_i = _check_optimize_result(\n"
     ]
    },
    {
     "name": "stdout",
     "output_type": "stream",
     "text": [
      "Linear Probe Accuracy (Hidden One): 92.56%\n"
     ]
    },
    {
     "name": "stderr",
     "output_type": "stream",
     "text": [
      "/home/alex/.local/lib/python3.10/site-packages/sklearn/linear_model/_logistic.py:469: ConvergenceWarning: lbfgs failed to converge (status=1):\n",
      "STOP: TOTAL NO. of ITERATIONS REACHED LIMIT.\n",
      "\n",
      "Increase the number of iterations (max_iter) or scale the data as shown in:\n",
      "    https://scikit-learn.org/stable/modules/preprocessing.html\n",
      "Please also refer to the documentation for alternative solver options:\n",
      "    https://scikit-learn.org/stable/modules/linear_model.html#logistic-regression\n",
      "  n_iter_i = _check_optimize_result(\n"
     ]
    },
    {
     "name": "stdout",
     "output_type": "stream",
     "text": [
      "Linear Probe Accuracy (Hidden Two): 92.18%\n",
      "\n",
      "##################################################\n",
      "Loss factor: 0.012\n",
      "\n",
      "\n"
     ]
    },
    {
     "name": "stderr",
     "output_type": "stream",
     "text": [
      "                                                                                                                        \r"
     ]
    },
    {
     "name": "stdout",
     "output_type": "stream",
     "text": [
      "Epoch 1/20\n",
      "  Train Loss: 1.0604\n",
      "  SAE Train Loss (hidden one): 8.6330\n",
      "  SAE Train Loss (hidden two): 1.1658\n",
      "  Val Loss: 0.6572 | Val Acc: 82.43%\n",
      "  Saved model with Val Acc: 82.43%\n"
     ]
    },
    {
     "name": "stderr",
     "output_type": "stream",
     "text": [
      "                                                                                                                        \r"
     ]
    },
    {
     "name": "stdout",
     "output_type": "stream",
     "text": [
      "Epoch 2/20\n",
      "  Train Loss: 0.4786\n",
      "  SAE Train Loss (hidden one): 0.8516\n",
      "  SAE Train Loss (hidden two): 0.1150\n",
      "  Val Loss: 0.3913 | Val Acc: 88.81%\n",
      "  Saved model with Val Acc: 88.81%\n"
     ]
    },
    {
     "name": "stderr",
     "output_type": "stream",
     "text": [
      "                                                                                                                        \r"
     ]
    },
    {
     "name": "stdout",
     "output_type": "stream",
     "text": [
      "Epoch 3/20\n",
      "  Train Loss: 0.3576\n",
      "  SAE Train Loss (hidden one): 0.5887\n",
      "  SAE Train Loss (hidden two): 0.0910\n",
      "  Val Loss: 0.3514 | Val Acc: 89.66%\n",
      "  Saved model with Val Acc: 89.66%\n"
     ]
    },
    {
     "name": "stderr",
     "output_type": "stream",
     "text": [
      "                                                                                                                        \r"
     ]
    },
    {
     "name": "stdout",
     "output_type": "stream",
     "text": [
      "Epoch 4/20\n",
      "  Train Loss: 0.3280\n",
      "  SAE Train Loss (hidden one): 0.5339\n",
      "  SAE Train Loss (hidden two): 0.0806\n",
      "  Val Loss: 0.3354 | Val Acc: 90.25%\n",
      "  Saved model with Val Acc: 90.25%\n"
     ]
    },
    {
     "name": "stderr",
     "output_type": "stream",
     "text": [
      "                                                                                                                        \r"
     ]
    },
    {
     "name": "stdout",
     "output_type": "stream",
     "text": [
      "Epoch 5/20\n",
      "  Train Loss: 0.3114\n",
      "  SAE Train Loss (hidden one): 0.5165\n",
      "  SAE Train Loss (hidden two): 0.0730\n",
      "  Val Loss: 0.3121 | Val Acc: 91.25%\n",
      "  Saved model with Val Acc: 91.25%\n"
     ]
    },
    {
     "name": "stderr",
     "output_type": "stream",
     "text": [
      "                                                                                                                        \r"
     ]
    },
    {
     "name": "stdout",
     "output_type": "stream",
     "text": [
      "Epoch 6/20\n",
      "  Train Loss: 0.2953\n",
      "  SAE Train Loss (hidden one): 0.7545\n",
      "  SAE Train Loss (hidden two): 0.0697\n",
      "  Val Loss: 0.3024 | Val Acc: 91.34%\n",
      "  Saved model with Val Acc: 91.34%\n"
     ]
    },
    {
     "name": "stderr",
     "output_type": "stream",
     "text": [
      "                                                                                                                        \r"
     ]
    },
    {
     "name": "stdout",
     "output_type": "stream",
     "text": [
      "Epoch 7/20\n",
      "  Train Loss: 0.2874\n",
      "  SAE Train Loss (hidden one): 0.5744\n",
      "  SAE Train Loss (hidden two): 0.0674\n",
      "  Val Loss: 0.2965 | Val Acc: 91.35%\n",
      "  Saved model with Val Acc: 91.35%\n"
     ]
    },
    {
     "name": "stderr",
     "output_type": "stream",
     "text": [
      "                                                                                                                        \r"
     ]
    },
    {
     "name": "stdout",
     "output_type": "stream",
     "text": [
      "Epoch 8/20\n",
      "  Train Loss: 0.2772\n",
      "  SAE Train Loss (hidden one): 0.5794\n",
      "  SAE Train Loss (hidden two): 0.0628\n",
      "  Val Loss: 0.2900 | Val Acc: 91.70%\n",
      "  Saved model with Val Acc: 91.70%\n"
     ]
    },
    {
     "name": "stderr",
     "output_type": "stream",
     "text": [
      "                                                                                                                        \r"
     ]
    },
    {
     "name": "stdout",
     "output_type": "stream",
     "text": [
      "Epoch 9/20\n",
      "  Train Loss: 0.2717\n",
      "  SAE Train Loss (hidden one): 0.6038\n",
      "  SAE Train Loss (hidden two): 0.0610\n",
      "  Val Loss: 0.3154 | Val Acc: 90.52%\n"
     ]
    },
    {
     "name": "stderr",
     "output_type": "stream",
     "text": [
      "                                                                                                                        \r"
     ]
    },
    {
     "name": "stdout",
     "output_type": "stream",
     "text": [
      "Epoch 10/20\n",
      "  Train Loss: 0.2692\n",
      "  SAE Train Loss (hidden one): 0.6139\n",
      "  SAE Train Loss (hidden two): 0.0591\n",
      "  Val Loss: 0.2836 | Val Acc: 91.77%\n",
      "  Saved model with Val Acc: 91.77%\n"
     ]
    },
    {
     "name": "stderr",
     "output_type": "stream",
     "text": [
      "                                                                                                                        \r"
     ]
    },
    {
     "name": "stdout",
     "output_type": "stream",
     "text": [
      "Epoch 11/20\n",
      "  Train Loss: 0.2613\n",
      "  SAE Train Loss (hidden one): 0.6432\n",
      "  SAE Train Loss (hidden two): 0.0567\n",
      "  Val Loss: 0.2870 | Val Acc: 91.86%\n",
      "  Saved model with Val Acc: 91.86%\n"
     ]
    },
    {
     "name": "stderr",
     "output_type": "stream",
     "text": [
      "                                                                                                                        \r"
     ]
    },
    {
     "name": "stdout",
     "output_type": "stream",
     "text": [
      "Epoch 12/20\n",
      "  Train Loss: 0.2590\n",
      "  SAE Train Loss (hidden one): 0.6582\n",
      "  SAE Train Loss (hidden two): 0.0555\n",
      "  Val Loss: 0.2703 | Val Acc: 92.08%\n",
      "  Saved model with Val Acc: 92.08%\n"
     ]
    },
    {
     "name": "stderr",
     "output_type": "stream",
     "text": [
      "                                                                                                                        \r"
     ]
    },
    {
     "name": "stdout",
     "output_type": "stream",
     "text": [
      "Epoch 13/20\n",
      "  Train Loss: 0.2564\n",
      "  SAE Train Loss (hidden one): 0.7007\n",
      "  SAE Train Loss (hidden two): 0.0558\n",
      "  Val Loss: 0.2897 | Val Acc: 91.52%\n"
     ]
    },
    {
     "name": "stderr",
     "output_type": "stream",
     "text": [
      "                                                                                                                        \r"
     ]
    },
    {
     "name": "stdout",
     "output_type": "stream",
     "text": [
      "Epoch 14/20\n",
      "  Train Loss: 0.2523\n",
      "  SAE Train Loss (hidden one): 0.6188\n",
      "  SAE Train Loss (hidden two): 0.0527\n",
      "  Val Loss: 0.2774 | Val Acc: 91.79%\n"
     ]
    },
    {
     "name": "stderr",
     "output_type": "stream",
     "text": [
      "                                                                                                                        \r"
     ]
    },
    {
     "name": "stdout",
     "output_type": "stream",
     "text": [
      "Epoch 15/20\n",
      "  Train Loss: 0.2531\n",
      "  SAE Train Loss (hidden one): 0.6607\n",
      "  SAE Train Loss (hidden two): 0.0519\n",
      "  Val Loss: 0.2818 | Val Acc: 91.71%\n"
     ]
    },
    {
     "name": "stderr",
     "output_type": "stream",
     "text": [
      "                                                                                                                        \r"
     ]
    },
    {
     "name": "stdout",
     "output_type": "stream",
     "text": [
      "Epoch 16/20\n",
      "  Train Loss: 0.2479\n",
      "  SAE Train Loss (hidden one): 0.6088\n",
      "  SAE Train Loss (hidden two): 0.0507\n",
      "  Val Loss: 0.2700 | Val Acc: 92.20%\n",
      "  Saved model with Val Acc: 92.20%\n"
     ]
    },
    {
     "name": "stderr",
     "output_type": "stream",
     "text": [
      "                                                                                                                        \r"
     ]
    },
    {
     "name": "stdout",
     "output_type": "stream",
     "text": [
      "Epoch 17/20\n",
      "  Train Loss: 0.2459\n",
      "  SAE Train Loss (hidden one): 0.6795\n",
      "  SAE Train Loss (hidden two): 0.0504\n",
      "  Val Loss: 0.2733 | Val Acc: 92.06%\n"
     ]
    },
    {
     "name": "stderr",
     "output_type": "stream",
     "text": [
      "                                                                                                                        \r"
     ]
    },
    {
     "name": "stdout",
     "output_type": "stream",
     "text": [
      "Epoch 18/20\n",
      "  Train Loss: 0.2466\n",
      "  SAE Train Loss (hidden one): 0.6133\n",
      "  SAE Train Loss (hidden two): 0.0479\n",
      "  Val Loss: 0.2715 | Val Acc: 92.10%\n"
     ]
    },
    {
     "name": "stderr",
     "output_type": "stream",
     "text": [
      "                                                                                                                        \r"
     ]
    },
    {
     "name": "stdout",
     "output_type": "stream",
     "text": [
      "Epoch 19/20\n",
      "  Train Loss: 0.2442\n",
      "  SAE Train Loss (hidden one): 0.6899\n",
      "  SAE Train Loss (hidden two): 0.0491\n",
      "  Val Loss: 0.3099 | Val Acc: 90.86%\n"
     ]
    },
    {
     "name": "stderr",
     "output_type": "stream",
     "text": [
      "                                                                                                                        \r"
     ]
    },
    {
     "name": "stdout",
     "output_type": "stream",
     "text": [
      "Epoch 20/20\n",
      "  Train Loss: 0.2417\n",
      "  SAE Train Loss (hidden one): 0.9535\n",
      "  SAE Train Loss (hidden two): 0.0500\n",
      "  Val Loss: 0.2826 | Val Acc: 92.01%\n"
     ]
    },
    {
     "name": "stderr",
     "output_type": "stream",
     "text": [
      "Evaluation: 100%|██████████████████████████████████████████████████████████████████████| 79/79 [00:00<00:00, 342.36it/s]\n"
     ]
    },
    {
     "name": "stdout",
     "output_type": "stream",
     "text": [
      "Final Test Accuracy: 92.40%\n",
      "Average Reconstruction Error (Hidden One): 0.2516\n",
      "Average Reconstruction Error (Hidden Two): 0.0204\n",
      "Average Non-Zero Features per Image (Hidden One): 33.49\n",
      "Average Non-Zero Features per Image (Hidden Two): 34.33\n"
     ]
    },
    {
     "name": "stderr",
     "output_type": "stream",
     "text": [
      "/home/alex/.local/lib/python3.10/site-packages/sklearn/linear_model/_logistic.py:469: ConvergenceWarning: lbfgs failed to converge (status=1):\n",
      "STOP: TOTAL NO. of ITERATIONS REACHED LIMIT.\n",
      "\n",
      "Increase the number of iterations (max_iter) or scale the data as shown in:\n",
      "    https://scikit-learn.org/stable/modules/preprocessing.html\n",
      "Please also refer to the documentation for alternative solver options:\n",
      "    https://scikit-learn.org/stable/modules/linear_model.html#logistic-regression\n",
      "  n_iter_i = _check_optimize_result(\n"
     ]
    },
    {
     "name": "stdout",
     "output_type": "stream",
     "text": [
      "Linear Probe Accuracy (Hidden One): 89.52%\n"
     ]
    },
    {
     "name": "stderr",
     "output_type": "stream",
     "text": [
      "/home/alex/.local/lib/python3.10/site-packages/sklearn/linear_model/_logistic.py:469: ConvergenceWarning: lbfgs failed to converge (status=1):\n",
      "STOP: TOTAL NO. of ITERATIONS REACHED LIMIT.\n",
      "\n",
      "Increase the number of iterations (max_iter) or scale the data as shown in:\n",
      "    https://scikit-learn.org/stable/modules/preprocessing.html\n",
      "Please also refer to the documentation for alternative solver options:\n",
      "    https://scikit-learn.org/stable/modules/linear_model.html#logistic-regression\n",
      "  n_iter_i = _check_optimize_result(\n"
     ]
    },
    {
     "name": "stdout",
     "output_type": "stream",
     "text": [
      "Linear Probe Accuracy (Hidden Two): 89.10%\n",
      "\n",
      "##################################################\n",
      "Loss factor: 0.013000000000000001\n",
      "\n",
      "\n"
     ]
    },
    {
     "name": "stderr",
     "output_type": "stream",
     "text": [
      "                                                                                                                        \r"
     ]
    },
    {
     "name": "stdout",
     "output_type": "stream",
     "text": [
      "Epoch 1/20\n",
      "  Train Loss: 1.0543\n",
      "  SAE Train Loss (hidden one): 8.6564\n",
      "  SAE Train Loss (hidden two): 1.1751\n",
      "  Val Loss: 0.6228 | Val Acc: 83.90%\n",
      "  Saved model with Val Acc: 83.90%\n"
     ]
    },
    {
     "name": "stderr",
     "output_type": "stream",
     "text": [
      "                                                                                                                        \r"
     ]
    },
    {
     "name": "stdout",
     "output_type": "stream",
     "text": [
      "Epoch 2/20\n",
      "  Train Loss: 0.4821\n",
      "  SAE Train Loss (hidden one): 0.7051\n",
      "  SAE Train Loss (hidden two): 0.1101\n",
      "  Val Loss: 0.4355 | Val Acc: 87.23%\n",
      "  Saved model with Val Acc: 87.23%\n"
     ]
    },
    {
     "name": "stderr",
     "output_type": "stream",
     "text": [
      "                                                                                                                        \r"
     ]
    },
    {
     "name": "stdout",
     "output_type": "stream",
     "text": [
      "Epoch 3/20\n",
      "  Train Loss: 0.3841\n",
      "  SAE Train Loss (hidden one): 0.5659\n",
      "  SAE Train Loss (hidden two): 0.0947\n",
      "  Val Loss: 0.3937 | Val Acc: 88.34%\n",
      "  Saved model with Val Acc: 88.34%\n"
     ]
    },
    {
     "name": "stderr",
     "output_type": "stream",
     "text": [
      "                                                                                                                        \r"
     ]
    },
    {
     "name": "stdout",
     "output_type": "stream",
     "text": [
      "Epoch 4/20\n",
      "  Train Loss: 0.3604\n",
      "  SAE Train Loss (hidden one): 0.5464\n",
      "  SAE Train Loss (hidden two): 0.0796\n",
      "  Val Loss: 0.3793 | Val Acc: 88.99%\n",
      "  Saved model with Val Acc: 88.99%\n"
     ]
    },
    {
     "name": "stderr",
     "output_type": "stream",
     "text": [
      "                                                                                                                        \r"
     ]
    },
    {
     "name": "stdout",
     "output_type": "stream",
     "text": [
      "Epoch 5/20\n",
      "  Train Loss: 0.3471\n",
      "  SAE Train Loss (hidden one): 0.5496\n",
      "  SAE Train Loss (hidden two): 0.0767\n",
      "  Val Loss: 0.3637 | Val Acc: 89.27%\n",
      "  Saved model with Val Acc: 89.27%\n"
     ]
    },
    {
     "name": "stderr",
     "output_type": "stream",
     "text": [
      "                                                                                                                        \r"
     ]
    },
    {
     "name": "stdout",
     "output_type": "stream",
     "text": [
      "Epoch 6/20\n",
      "  Train Loss: 0.3354\n",
      "  SAE Train Loss (hidden one): 0.6247\n",
      "  SAE Train Loss (hidden two): 0.0807\n",
      "  Val Loss: 0.3397 | Val Acc: 90.43%\n",
      "  Saved model with Val Acc: 90.43%\n"
     ]
    },
    {
     "name": "stderr",
     "output_type": "stream",
     "text": [
      "                                                                                                                        \r"
     ]
    },
    {
     "name": "stdout",
     "output_type": "stream",
     "text": [
      "Epoch 7/20\n",
      "  Train Loss: 0.3311\n",
      "  SAE Train Loss (hidden one): 0.5929\n",
      "  SAE Train Loss (hidden two): 0.0722\n",
      "  Val Loss: 0.3662 | Val Acc: 89.25%\n"
     ]
    },
    {
     "name": "stderr",
     "output_type": "stream",
     "text": [
      "                                                                                                                        \r"
     ]
    },
    {
     "name": "stdout",
     "output_type": "stream",
     "text": [
      "Epoch 8/20\n",
      "  Train Loss: 0.3253\n",
      "  SAE Train Loss (hidden one): 0.6144\n",
      "  SAE Train Loss (hidden two): 0.0704\n",
      "  Val Loss: 0.3365 | Val Acc: 90.35%\n"
     ]
    },
    {
     "name": "stderr",
     "output_type": "stream",
     "text": [
      "                                                                                                                        \r"
     ]
    },
    {
     "name": "stdout",
     "output_type": "stream",
     "text": [
      "Epoch 9/20\n",
      "  Train Loss: 0.3152\n",
      "  SAE Train Loss (hidden one): 0.6061\n",
      "  SAE Train Loss (hidden two): 0.0645\n",
      "  Val Loss: 0.3280 | Val Acc: 90.58%\n",
      "  Saved model with Val Acc: 90.58%\n"
     ]
    },
    {
     "name": "stderr",
     "output_type": "stream",
     "text": [
      "                                                                                                                        \r"
     ]
    },
    {
     "name": "stdout",
     "output_type": "stream",
     "text": [
      "Epoch 10/20\n",
      "  Train Loss: 0.3152\n",
      "  SAE Train Loss (hidden one): 0.6003\n",
      "  SAE Train Loss (hidden two): 0.0662\n",
      "  Val Loss: 0.3474 | Val Acc: 90.03%\n"
     ]
    },
    {
     "name": "stderr",
     "output_type": "stream",
     "text": [
      "                                                                                                                        \r"
     ]
    },
    {
     "name": "stdout",
     "output_type": "stream",
     "text": [
      "Epoch 11/20\n",
      "  Train Loss: 0.3076\n",
      "  SAE Train Loss (hidden one): 0.6511\n",
      "  SAE Train Loss (hidden two): 0.0643\n",
      "  Val Loss: 0.3252 | Val Acc: 90.48%\n"
     ]
    },
    {
     "name": "stderr",
     "output_type": "stream",
     "text": [
      "                                                                                                                        \r"
     ]
    },
    {
     "name": "stdout",
     "output_type": "stream",
     "text": [
      "Epoch 12/20\n",
      "  Train Loss: 0.3033\n",
      "  SAE Train Loss (hidden one): 0.6597\n",
      "  SAE Train Loss (hidden two): 0.0634\n",
      "  Val Loss: 0.3297 | Val Acc: 90.67%\n",
      "  Saved model with Val Acc: 90.67%\n"
     ]
    },
    {
     "name": "stderr",
     "output_type": "stream",
     "text": [
      "                                                                                                                        \r"
     ]
    },
    {
     "name": "stdout",
     "output_type": "stream",
     "text": [
      "Epoch 13/20\n",
      "  Train Loss: 0.3003\n",
      "  SAE Train Loss (hidden one): 0.6260\n",
      "  SAE Train Loss (hidden two): 0.0604\n",
      "  Val Loss: 0.3257 | Val Acc: 90.45%\n"
     ]
    },
    {
     "name": "stderr",
     "output_type": "stream",
     "text": [
      "                                                                                                                        \r"
     ]
    },
    {
     "name": "stdout",
     "output_type": "stream",
     "text": [
      "Epoch 14/20\n",
      "  Train Loss: 0.2949\n",
      "  SAE Train Loss (hidden one): 0.6266\n",
      "  SAE Train Loss (hidden two): 0.0581\n",
      "  Val Loss: 0.3244 | Val Acc: 90.26%\n"
     ]
    },
    {
     "name": "stderr",
     "output_type": "stream",
     "text": [
      "                                                                                                                        \r"
     ]
    },
    {
     "name": "stdout",
     "output_type": "stream",
     "text": [
      "Epoch 15/20\n",
      "  Train Loss: 0.2935\n",
      "  SAE Train Loss (hidden one): 0.5930\n",
      "  SAE Train Loss (hidden two): 0.0576\n",
      "  Val Loss: 0.3417 | Val Acc: 90.27%\n"
     ]
    },
    {
     "name": "stderr",
     "output_type": "stream",
     "text": [
      "                                                                                                                        \r"
     ]
    },
    {
     "name": "stdout",
     "output_type": "stream",
     "text": [
      "Epoch 16/20\n",
      "  Train Loss: 0.2877\n",
      "  SAE Train Loss (hidden one): 0.6301\n",
      "  SAE Train Loss (hidden two): 0.0558\n",
      "  Val Loss: 0.3287 | Val Acc: 90.52%\n"
     ]
    },
    {
     "name": "stderr",
     "output_type": "stream",
     "text": [
      "                                                                                                                        \r"
     ]
    },
    {
     "name": "stdout",
     "output_type": "stream",
     "text": [
      "Epoch 17/20\n",
      "  Train Loss: 0.2861\n",
      "  SAE Train Loss (hidden one): 0.6218\n",
      "  SAE Train Loss (hidden two): 0.0558\n",
      "  Val Loss: 0.3202 | Val Acc: 90.93%\n",
      "  Saved model with Val Acc: 90.93%\n"
     ]
    },
    {
     "name": "stderr",
     "output_type": "stream",
     "text": [
      "                                                                                                                        \r"
     ]
    },
    {
     "name": "stdout",
     "output_type": "stream",
     "text": [
      "Epoch 18/20\n",
      "  Train Loss: 0.2829\n",
      "  SAE Train Loss (hidden one): 0.6223\n",
      "  SAE Train Loss (hidden two): 0.0554\n",
      "  Val Loss: 0.3180 | Val Acc: 90.93%\n",
      "  Saved model with same Val Acc: 90.93% but lower Val Loss: 0.3180\n"
     ]
    },
    {
     "name": "stderr",
     "output_type": "stream",
     "text": [
      "                                                                                                                        \r"
     ]
    },
    {
     "name": "stdout",
     "output_type": "stream",
     "text": [
      "Epoch 19/20\n",
      "  Train Loss: 0.2796\n",
      "  SAE Train Loss (hidden one): 0.6678\n",
      "  SAE Train Loss (hidden two): 0.0545\n",
      "  Val Loss: 0.3296 | Val Acc: 90.68%\n"
     ]
    },
    {
     "name": "stderr",
     "output_type": "stream",
     "text": [
      "                                                                                                                        \r"
     ]
    },
    {
     "name": "stdout",
     "output_type": "stream",
     "text": [
      "Epoch 20/20\n",
      "  Train Loss: 0.2770\n",
      "  SAE Train Loss (hidden one): 0.7602\n",
      "  SAE Train Loss (hidden two): 0.0529\n",
      "  Val Loss: 0.3195 | Val Acc: 90.90%\n"
     ]
    },
    {
     "name": "stderr",
     "output_type": "stream",
     "text": [
      "Evaluation: 100%|██████████████████████████████████████████████████████████████████████| 79/79 [00:00<00:00, 329.99it/s]"
     ]
    },
    {
     "name": "stdout",
     "output_type": "stream",
     "text": [
      "Final Test Accuracy: 91.47%\n",
      "Average Reconstruction Error (Hidden One): 0.1427\n",
      "Average Reconstruction Error (Hidden Two): 0.0171\n",
      "Average Non-Zero Features per Image (Hidden One): 33.07\n",
      "Average Non-Zero Features per Image (Hidden Two): 35.00\n"
     ]
    },
    {
     "name": "stderr",
     "output_type": "stream",
     "text": [
      "\n",
      "/home/alex/.local/lib/python3.10/site-packages/sklearn/linear_model/_logistic.py:469: ConvergenceWarning: lbfgs failed to converge (status=1):\n",
      "STOP: TOTAL NO. of ITERATIONS REACHED LIMIT.\n",
      "\n",
      "Increase the number of iterations (max_iter) or scale the data as shown in:\n",
      "    https://scikit-learn.org/stable/modules/preprocessing.html\n",
      "Please also refer to the documentation for alternative solver options:\n",
      "    https://scikit-learn.org/stable/modules/linear_model.html#logistic-regression\n",
      "  n_iter_i = _check_optimize_result(\n"
     ]
    },
    {
     "name": "stdout",
     "output_type": "stream",
     "text": [
      "Linear Probe Accuracy (Hidden One): 91.20%\n"
     ]
    },
    {
     "name": "stderr",
     "output_type": "stream",
     "text": [
      "/home/alex/.local/lib/python3.10/site-packages/sklearn/linear_model/_logistic.py:469: ConvergenceWarning: lbfgs failed to converge (status=1):\n",
      "STOP: TOTAL NO. of ITERATIONS REACHED LIMIT.\n",
      "\n",
      "Increase the number of iterations (max_iter) or scale the data as shown in:\n",
      "    https://scikit-learn.org/stable/modules/preprocessing.html\n",
      "Please also refer to the documentation for alternative solver options:\n",
      "    https://scikit-learn.org/stable/modules/linear_model.html#logistic-regression\n",
      "  n_iter_i = _check_optimize_result(\n"
     ]
    },
    {
     "name": "stdout",
     "output_type": "stream",
     "text": [
      "Linear Probe Accuracy (Hidden Two): 90.92%\n",
      "\n",
      "##################################################\n",
      "Loss factor: 0.014000000000000002\n",
      "\n",
      "\n"
     ]
    },
    {
     "name": "stderr",
     "output_type": "stream",
     "text": [
      "                                                                                                                        \r"
     ]
    },
    {
     "name": "stdout",
     "output_type": "stream",
     "text": [
      "Epoch 1/20\n",
      "  Train Loss: 1.0809\n",
      "  SAE Train Loss (hidden one): 8.5927\n",
      "  SAE Train Loss (hidden two): 1.1561\n",
      "  Val Loss: 0.6600 | Val Acc: 83.19%\n",
      "  Saved model with Val Acc: 83.19%\n"
     ]
    },
    {
     "name": "stderr",
     "output_type": "stream",
     "text": [
      "                                                                                                                        \r"
     ]
    },
    {
     "name": "stdout",
     "output_type": "stream",
     "text": [
      "Epoch 2/20\n",
      "  Train Loss: 0.5367\n",
      "  SAE Train Loss (hidden one): 0.4963\n",
      "  SAE Train Loss (hidden two): 0.1023\n",
      "  Val Loss: 0.5138 | Val Acc: 84.70%\n",
      "  Saved model with Val Acc: 84.70%\n"
     ]
    },
    {
     "name": "stderr",
     "output_type": "stream",
     "text": [
      "                                                                                                                        \r"
     ]
    },
    {
     "name": "stdout",
     "output_type": "stream",
     "text": [
      "Epoch 3/20\n",
      "  Train Loss: 0.4336\n",
      "  SAE Train Loss (hidden one): 0.4979\n",
      "  SAE Train Loss (hidden two): 0.0867\n",
      "  Val Loss: 0.4248 | Val Acc: 87.52%\n",
      "  Saved model with Val Acc: 87.52%\n"
     ]
    },
    {
     "name": "stderr",
     "output_type": "stream",
     "text": [
      "                                                                                                                        \r"
     ]
    },
    {
     "name": "stdout",
     "output_type": "stream",
     "text": [
      "Epoch 4/20\n",
      "  Train Loss: 0.3962\n",
      "  SAE Train Loss (hidden one): 0.4973\n",
      "  SAE Train Loss (hidden two): 0.0756\n",
      "  Val Loss: 0.3909 | Val Acc: 88.36%\n",
      "  Saved model with Val Acc: 88.36%\n"
     ]
    },
    {
     "name": "stderr",
     "output_type": "stream",
     "text": [
      "                                                                                                                        \r"
     ]
    },
    {
     "name": "stdout",
     "output_type": "stream",
     "text": [
      "Epoch 5/20\n",
      "  Train Loss: 0.3814\n",
      "  SAE Train Loss (hidden one): 0.4881\n",
      "  SAE Train Loss (hidden two): 0.0701\n",
      "  Val Loss: 0.3713 | Val Acc: 89.22%\n",
      "  Saved model with Val Acc: 89.22%\n"
     ]
    },
    {
     "name": "stderr",
     "output_type": "stream",
     "text": [
      "                                                                                                                        \r"
     ]
    },
    {
     "name": "stdout",
     "output_type": "stream",
     "text": [
      "Epoch 6/20\n",
      "  Train Loss: 0.3670\n",
      "  SAE Train Loss (hidden one): 0.5212\n",
      "  SAE Train Loss (hidden two): 0.0659\n",
      "  Val Loss: 0.3653 | Val Acc: 89.79%\n",
      "  Saved model with Val Acc: 89.79%\n"
     ]
    },
    {
     "name": "stderr",
     "output_type": "stream",
     "text": [
      "                                                                                                                        \r"
     ]
    },
    {
     "name": "stdout",
     "output_type": "stream",
     "text": [
      "Epoch 7/20\n",
      "  Train Loss: 0.3594\n",
      "  SAE Train Loss (hidden one): 0.4710\n",
      "  SAE Train Loss (hidden two): 0.0608\n",
      "  Val Loss: 0.3670 | Val Acc: 89.61%\n"
     ]
    },
    {
     "name": "stderr",
     "output_type": "stream",
     "text": [
      "                                                                                                                        \r"
     ]
    },
    {
     "name": "stdout",
     "output_type": "stream",
     "text": [
      "Epoch 8/20\n",
      "  Train Loss: 0.3563\n",
      "  SAE Train Loss (hidden one): 0.4934\n",
      "  SAE Train Loss (hidden two): 0.0607\n",
      "  Val Loss: 0.3617 | Val Acc: 89.51%\n"
     ]
    },
    {
     "name": "stderr",
     "output_type": "stream",
     "text": [
      "                                                                                                                        \r"
     ]
    },
    {
     "name": "stdout",
     "output_type": "stream",
     "text": [
      "Epoch 9/20\n",
      "  Train Loss: 0.3468\n",
      "  SAE Train Loss (hidden one): 0.5045\n",
      "  SAE Train Loss (hidden two): 0.0566\n",
      "  Val Loss: 0.3791 | Val Acc: 89.08%\n"
     ]
    },
    {
     "name": "stderr",
     "output_type": "stream",
     "text": [
      "                                                                                                                        \r"
     ]
    },
    {
     "name": "stdout",
     "output_type": "stream",
     "text": [
      "Epoch 10/20\n",
      "  Train Loss: 0.3442\n",
      "  SAE Train Loss (hidden one): 0.4827\n",
      "  SAE Train Loss (hidden two): 0.0552\n",
      "  Val Loss: 0.3813 | Val Acc: 88.98%\n"
     ]
    },
    {
     "name": "stderr",
     "output_type": "stream",
     "text": [
      "                                                                                                                        \r"
     ]
    },
    {
     "name": "stdout",
     "output_type": "stream",
     "text": [
      "Epoch 11/20\n",
      "  Train Loss: 0.3395\n",
      "  SAE Train Loss (hidden one): 0.5199\n",
      "  SAE Train Loss (hidden two): 0.0536\n",
      "  Val Loss: 0.3512 | Val Acc: 89.86%\n",
      "  Saved model with Val Acc: 89.86%\n"
     ]
    },
    {
     "name": "stderr",
     "output_type": "stream",
     "text": [
      "                                                                                                                        \r"
     ]
    },
    {
     "name": "stdout",
     "output_type": "stream",
     "text": [
      "Epoch 12/20\n",
      "  Train Loss: 0.3335\n",
      "  SAE Train Loss (hidden one): 0.4565\n",
      "  SAE Train Loss (hidden two): 0.0508\n",
      "  Val Loss: 0.3595 | Val Acc: 89.48%\n"
     ]
    },
    {
     "name": "stderr",
     "output_type": "stream",
     "text": [
      "                                                                                                                        \r"
     ]
    },
    {
     "name": "stdout",
     "output_type": "stream",
     "text": [
      "Epoch 13/20\n",
      "  Train Loss: 0.3294\n",
      "  SAE Train Loss (hidden one): 0.5288\n",
      "  SAE Train Loss (hidden two): 0.0485\n",
      "  Val Loss: 0.3411 | Val Acc: 90.24%\n",
      "  Saved model with Val Acc: 90.24%\n"
     ]
    },
    {
     "name": "stderr",
     "output_type": "stream",
     "text": [
      "                                                                                                                        \r"
     ]
    },
    {
     "name": "stdout",
     "output_type": "stream",
     "text": [
      "Epoch 14/20\n",
      "  Train Loss: 0.3262\n",
      "  SAE Train Loss (hidden one): 0.4767\n",
      "  SAE Train Loss (hidden two): 0.0477\n",
      "  Val Loss: 0.3584 | Val Acc: 89.35%\n"
     ]
    },
    {
     "name": "stderr",
     "output_type": "stream",
     "text": [
      "                                                                                                                        \r"
     ]
    },
    {
     "name": "stdout",
     "output_type": "stream",
     "text": [
      "Epoch 15/20\n",
      "  Train Loss: 0.3237\n",
      "  SAE Train Loss (hidden one): 0.4832\n",
      "  SAE Train Loss (hidden two): 0.0475\n",
      "  Val Loss: 0.3674 | Val Acc: 89.51%\n"
     ]
    },
    {
     "name": "stderr",
     "output_type": "stream",
     "text": [
      "                                                                                                                        \r"
     ]
    },
    {
     "name": "stdout",
     "output_type": "stream",
     "text": [
      "Epoch 16/20\n",
      "  Train Loss: 0.3223\n",
      "  SAE Train Loss (hidden one): 0.5038\n",
      "  SAE Train Loss (hidden two): 0.0468\n",
      "  Val Loss: 0.3494 | Val Acc: 89.71%\n"
     ]
    },
    {
     "name": "stderr",
     "output_type": "stream",
     "text": [
      "                                                                                                                        \r"
     ]
    },
    {
     "name": "stdout",
     "output_type": "stream",
     "text": [
      "Epoch 17/20\n",
      "  Train Loss: 0.3175\n",
      "  SAE Train Loss (hidden one): 0.5378\n",
      "  SAE Train Loss (hidden two): 0.0466\n",
      "  Val Loss: 0.3410 | Val Acc: 89.92%\n"
     ]
    },
    {
     "name": "stderr",
     "output_type": "stream",
     "text": [
      "                                                                                                                        \r"
     ]
    },
    {
     "name": "stdout",
     "output_type": "stream",
     "text": [
      "Epoch 18/20\n",
      "  Train Loss: 0.3181\n",
      "  SAE Train Loss (hidden one): 0.4728\n",
      "  SAE Train Loss (hidden two): 0.0467\n",
      "  Val Loss: 0.3412 | Val Acc: 89.92%\n"
     ]
    },
    {
     "name": "stderr",
     "output_type": "stream",
     "text": [
      "                                                                                                                        \r"
     ]
    },
    {
     "name": "stdout",
     "output_type": "stream",
     "text": [
      "Epoch 19/20\n",
      "  Train Loss: 0.3138\n",
      "  SAE Train Loss (hidden one): 0.5255\n",
      "  SAE Train Loss (hidden two): 0.0434\n",
      "  Val Loss: 0.3619 | Val Acc: 89.44%\n"
     ]
    },
    {
     "name": "stderr",
     "output_type": "stream",
     "text": [
      "                                                                                                                        \r"
     ]
    },
    {
     "name": "stdout",
     "output_type": "stream",
     "text": [
      "Epoch 20/20\n",
      "  Train Loss: 0.3124\n",
      "  SAE Train Loss (hidden one): 0.5671\n",
      "  SAE Train Loss (hidden two): 0.0442\n",
      "  Val Loss: 0.3445 | Val Acc: 89.95%\n"
     ]
    },
    {
     "name": "stderr",
     "output_type": "stream",
     "text": [
      "Evaluation: 100%|██████████████████████████████████████████████████████████████████████| 79/79 [00:00<00:00, 330.48it/s]\n"
     ]
    },
    {
     "name": "stdout",
     "output_type": "stream",
     "text": [
      "Final Test Accuracy: 90.34%\n",
      "Average Reconstruction Error (Hidden One): 0.6347\n",
      "Average Reconstruction Error (Hidden Two): 0.0211\n",
      "Average Non-Zero Features per Image (Hidden One): 32.90\n",
      "Average Non-Zero Features per Image (Hidden Two): 35.47\n"
     ]
    },
    {
     "name": "stderr",
     "output_type": "stream",
     "text": [
      "/home/alex/.local/lib/python3.10/site-packages/sklearn/linear_model/_logistic.py:469: ConvergenceWarning: lbfgs failed to converge (status=1):\n",
      "STOP: TOTAL NO. of ITERATIONS REACHED LIMIT.\n",
      "\n",
      "Increase the number of iterations (max_iter) or scale the data as shown in:\n",
      "    https://scikit-learn.org/stable/modules/preprocessing.html\n",
      "Please also refer to the documentation for alternative solver options:\n",
      "    https://scikit-learn.org/stable/modules/linear_model.html#logistic-regression\n",
      "  n_iter_i = _check_optimize_result(\n"
     ]
    },
    {
     "name": "stdout",
     "output_type": "stream",
     "text": [
      "Linear Probe Accuracy (Hidden One): 83.37%\n"
     ]
    },
    {
     "name": "stderr",
     "output_type": "stream",
     "text": [
      "/home/alex/.local/lib/python3.10/site-packages/sklearn/linear_model/_logistic.py:469: ConvergenceWarning: lbfgs failed to converge (status=1):\n",
      "STOP: TOTAL NO. of ITERATIONS REACHED LIMIT.\n",
      "\n",
      "Increase the number of iterations (max_iter) or scale the data as shown in:\n",
      "    https://scikit-learn.org/stable/modules/preprocessing.html\n",
      "Please also refer to the documentation for alternative solver options:\n",
      "    https://scikit-learn.org/stable/modules/linear_model.html#logistic-regression\n",
      "  n_iter_i = _check_optimize_result(\n"
     ]
    },
    {
     "name": "stdout",
     "output_type": "stream",
     "text": [
      "Linear Probe Accuracy (Hidden Two): 68.02%\n",
      "\n",
      "##################################################\n",
      "Loss factor: 0.015000000000000003\n",
      "\n",
      "\n"
     ]
    },
    {
     "name": "stderr",
     "output_type": "stream",
     "text": [
      "                                                                                                                        \r"
     ]
    },
    {
     "name": "stdout",
     "output_type": "stream",
     "text": [
      "Epoch 1/20\n",
      "  Train Loss: 1.0809\n",
      "  SAE Train Loss (hidden one): 8.5970\n",
      "  SAE Train Loss (hidden two): 1.1574\n",
      "  Val Loss: 0.6567 | Val Acc: 83.37%\n",
      "  Saved model with Val Acc: 83.37%\n"
     ]
    },
    {
     "name": "stderr",
     "output_type": "stream",
     "text": [
      "                                                                                                                        \r"
     ]
    },
    {
     "name": "stdout",
     "output_type": "stream",
     "text": [
      "Epoch 2/20\n",
      "  Train Loss: 0.5315\n",
      "  SAE Train Loss (hidden one): 0.4973\n",
      "  SAE Train Loss (hidden two): 0.1009\n",
      "  Val Loss: 0.4839 | Val Acc: 85.89%\n",
      "  Saved model with Val Acc: 85.89%\n"
     ]
    },
    {
     "name": "stderr",
     "output_type": "stream",
     "text": [
      "                                                                                                                        \r"
     ]
    },
    {
     "name": "stdout",
     "output_type": "stream",
     "text": [
      "Epoch 3/20\n",
      "  Train Loss: 0.4328\n",
      "  SAE Train Loss (hidden one): 0.5077\n",
      "  SAE Train Loss (hidden two): 0.0852\n",
      "  Val Loss: 0.4317 | Val Acc: 87.29%\n",
      "  Saved model with Val Acc: 87.29%\n"
     ]
    },
    {
     "name": "stderr",
     "output_type": "stream",
     "text": [
      "                                                                                                                        \r"
     ]
    },
    {
     "name": "stdout",
     "output_type": "stream",
     "text": [
      "Epoch 4/20\n",
      "  Train Loss: 0.4010\n",
      "  SAE Train Loss (hidden one): 0.4887\n",
      "  SAE Train Loss (hidden two): 0.0730\n",
      "  Val Loss: 0.3900 | Val Acc: 88.55%\n",
      "  Saved model with Val Acc: 88.55%\n"
     ]
    },
    {
     "name": "stderr",
     "output_type": "stream",
     "text": [
      "                                                                                                                        \r"
     ]
    },
    {
     "name": "stdout",
     "output_type": "stream",
     "text": [
      "Epoch 5/20\n",
      "  Train Loss: 0.3833\n",
      "  SAE Train Loss (hidden one): 0.4890\n",
      "  SAE Train Loss (hidden two): 0.0705\n",
      "  Val Loss: 0.3733 | Val Acc: 89.20%\n",
      "  Saved model with Val Acc: 89.20%\n"
     ]
    },
    {
     "name": "stderr",
     "output_type": "stream",
     "text": [
      "                                                                                                                        \r"
     ]
    },
    {
     "name": "stdout",
     "output_type": "stream",
     "text": [
      "Epoch 6/20\n",
      "  Train Loss: 0.3664\n",
      "  SAE Train Loss (hidden one): 0.5061\n",
      "  SAE Train Loss (hidden two): 0.0644\n",
      "  Val Loss: 0.3634 | Val Acc: 89.67%\n",
      "  Saved model with Val Acc: 89.67%\n"
     ]
    },
    {
     "name": "stderr",
     "output_type": "stream",
     "text": [
      "                                                                                                                        \r"
     ]
    },
    {
     "name": "stdout",
     "output_type": "stream",
     "text": [
      "Epoch 7/20\n",
      "  Train Loss: 0.3639\n",
      "  SAE Train Loss (hidden one): 0.4801\n",
      "  SAE Train Loss (hidden two): 0.0611\n",
      "  Val Loss: 0.3722 | Val Acc: 89.32%\n"
     ]
    },
    {
     "name": "stderr",
     "output_type": "stream",
     "text": [
      "                                                                                                                        \r"
     ]
    },
    {
     "name": "stdout",
     "output_type": "stream",
     "text": [
      "Epoch 8/20\n",
      "  Train Loss: 0.3561\n",
      "  SAE Train Loss (hidden one): 0.4853\n",
      "  SAE Train Loss (hidden two): 0.0582\n",
      "  Val Loss: 0.3545 | Val Acc: 89.77%\n",
      "  Saved model with Val Acc: 89.77%\n"
     ]
    },
    {
     "name": "stderr",
     "output_type": "stream",
     "text": [
      "                                                                                                                        \r"
     ]
    },
    {
     "name": "stdout",
     "output_type": "stream",
     "text": [
      "Epoch 9/20\n",
      "  Train Loss: 0.3470\n",
      "  SAE Train Loss (hidden one): 0.5287\n",
      "  SAE Train Loss (hidden two): 0.0549\n",
      "  Val Loss: 0.3793 | Val Acc: 89.04%\n"
     ]
    },
    {
     "name": "stderr",
     "output_type": "stream",
     "text": [
      "                                                                                                                        \r"
     ]
    },
    {
     "name": "stdout",
     "output_type": "stream",
     "text": [
      "Epoch 10/20\n",
      "  Train Loss: 0.3446\n",
      "  SAE Train Loss (hidden one): 0.4831\n",
      "  SAE Train Loss (hidden two): 0.0532\n",
      "  Val Loss: 0.3623 | Val Acc: 89.46%\n"
     ]
    },
    {
     "name": "stderr",
     "output_type": "stream",
     "text": [
      "                                                                                                                        \r"
     ]
    },
    {
     "name": "stdout",
     "output_type": "stream",
     "text": [
      "Epoch 11/20\n",
      "  Train Loss: 0.3392\n",
      "  SAE Train Loss (hidden one): 0.5241\n",
      "  SAE Train Loss (hidden two): 0.0532\n",
      "  Val Loss: 0.3516 | Val Acc: 89.83%\n",
      "  Saved model with Val Acc: 89.83%\n"
     ]
    },
    {
     "name": "stderr",
     "output_type": "stream",
     "text": [
      "                                                                                                                        \r"
     ]
    },
    {
     "name": "stdout",
     "output_type": "stream",
     "text": [
      "Epoch 12/20\n",
      "  Train Loss: 0.3350\n",
      "  SAE Train Loss (hidden one): 0.4779\n",
      "  SAE Train Loss (hidden two): 0.0506\n",
      "  Val Loss: 0.3634 | Val Acc: 89.70%\n"
     ]
    },
    {
     "name": "stderr",
     "output_type": "stream",
     "text": [
      "                                                                                                                        \r"
     ]
    },
    {
     "name": "stdout",
     "output_type": "stream",
     "text": [
      "Epoch 13/20\n",
      "  Train Loss: 0.3321\n",
      "  SAE Train Loss (hidden one): 0.5565\n",
      "  SAE Train Loss (hidden two): 0.0478\n",
      "  Val Loss: 0.3428 | Val Acc: 90.16%\n",
      "  Saved model with Val Acc: 90.16%\n"
     ]
    },
    {
     "name": "stderr",
     "output_type": "stream",
     "text": [
      "                                                                                                                        \r"
     ]
    },
    {
     "name": "stdout",
     "output_type": "stream",
     "text": [
      "Epoch 14/20\n",
      "  Train Loss: 0.3258\n",
      "  SAE Train Loss (hidden one): 0.5170\n",
      "  SAE Train Loss (hidden two): 0.0486\n",
      "  Val Loss: 0.3642 | Val Acc: 89.33%\n"
     ]
    },
    {
     "name": "stderr",
     "output_type": "stream",
     "text": [
      "                                                                                                                        \r"
     ]
    },
    {
     "name": "stdout",
     "output_type": "stream",
     "text": [
      "Epoch 15/20\n",
      "  Train Loss: 0.3248\n",
      "  SAE Train Loss (hidden one): 0.4725\n",
      "  SAE Train Loss (hidden two): 0.0462\n",
      "  Val Loss: 0.3648 | Val Acc: 89.21%\n"
     ]
    },
    {
     "name": "stderr",
     "output_type": "stream",
     "text": [
      "                                                                                                                        \r"
     ]
    },
    {
     "name": "stdout",
     "output_type": "stream",
     "text": [
      "Epoch 16/20\n",
      "  Train Loss: 0.3220\n",
      "  SAE Train Loss (hidden one): 0.5292\n",
      "  SAE Train Loss (hidden two): 0.0454\n",
      "  Val Loss: 0.3559 | Val Acc: 89.73%\n"
     ]
    },
    {
     "name": "stderr",
     "output_type": "stream",
     "text": [
      "                                                                                                                        \r"
     ]
    },
    {
     "name": "stdout",
     "output_type": "stream",
     "text": [
      "Epoch 17/20\n",
      "  Train Loss: 0.3178\n",
      "  SAE Train Loss (hidden one): 0.6032\n",
      "  SAE Train Loss (hidden two): 0.0443\n",
      "  Val Loss: 0.3464 | Val Acc: 89.92%\n"
     ]
    },
    {
     "name": "stderr",
     "output_type": "stream",
     "text": [
      "                                                                                                                        \r"
     ]
    },
    {
     "name": "stdout",
     "output_type": "stream",
     "text": [
      "Epoch 18/20\n",
      "  Train Loss: 0.3161\n",
      "  SAE Train Loss (hidden one): 0.4780\n",
      "  SAE Train Loss (hidden two): 0.0447\n",
      "  Val Loss: 0.3536 | Val Acc: 89.73%\n"
     ]
    },
    {
     "name": "stderr",
     "output_type": "stream",
     "text": [
      "                                                                                                                        \r"
     ]
    },
    {
     "name": "stdout",
     "output_type": "stream",
     "text": [
      "Epoch 19/20\n",
      "  Train Loss: 0.3176\n",
      "  SAE Train Loss (hidden one): 0.5465\n",
      "  SAE Train Loss (hidden two): 0.0452\n",
      "  Val Loss: 0.3593 | Val Acc: 89.88%\n"
     ]
    },
    {
     "name": "stderr",
     "output_type": "stream",
     "text": [
      "                                                                                                                        \r"
     ]
    },
    {
     "name": "stdout",
     "output_type": "stream",
     "text": [
      "Epoch 20/20\n",
      "  Train Loss: 0.3155\n",
      "  SAE Train Loss (hidden one): 0.6422\n",
      "  SAE Train Loss (hidden two): 0.0450\n",
      "  Val Loss: 0.3719 | Val Acc: 89.48%\n"
     ]
    },
    {
     "name": "stderr",
     "output_type": "stream",
     "text": [
      "Evaluation: 100%|██████████████████████████████████████████████████████████████████████| 79/79 [00:00<00:00, 303.35it/s]"
     ]
    },
    {
     "name": "stdout",
     "output_type": "stream",
     "text": [
      "Final Test Accuracy: 90.35%\n",
      "Average Reconstruction Error (Hidden One): 0.2021\n",
      "Average Reconstruction Error (Hidden Two): 0.0194\n",
      "Average Non-Zero Features per Image (Hidden One): 33.08\n",
      "Average Non-Zero Features per Image (Hidden Two): 35.81\n"
     ]
    },
    {
     "name": "stderr",
     "output_type": "stream",
     "text": [
      "\n",
      "/home/alex/.local/lib/python3.10/site-packages/sklearn/linear_model/_logistic.py:469: ConvergenceWarning: lbfgs failed to converge (status=1):\n",
      "STOP: TOTAL NO. of ITERATIONS REACHED LIMIT.\n",
      "\n",
      "Increase the number of iterations (max_iter) or scale the data as shown in:\n",
      "    https://scikit-learn.org/stable/modules/preprocessing.html\n",
      "Please also refer to the documentation for alternative solver options:\n",
      "    https://scikit-learn.org/stable/modules/linear_model.html#logistic-regression\n",
      "  n_iter_i = _check_optimize_result(\n"
     ]
    },
    {
     "name": "stdout",
     "output_type": "stream",
     "text": [
      "Linear Probe Accuracy (Hidden One): 76.14%\n"
     ]
    },
    {
     "name": "stderr",
     "output_type": "stream",
     "text": [
      "/home/alex/.local/lib/python3.10/site-packages/sklearn/linear_model/_logistic.py:469: ConvergenceWarning: lbfgs failed to converge (status=1):\n",
      "STOP: TOTAL NO. of ITERATIONS REACHED LIMIT.\n",
      "\n",
      "Increase the number of iterations (max_iter) or scale the data as shown in:\n",
      "    https://scikit-learn.org/stable/modules/preprocessing.html\n",
      "Please also refer to the documentation for alternative solver options:\n",
      "    https://scikit-learn.org/stable/modules/linear_model.html#logistic-regression\n",
      "  n_iter_i = _check_optimize_result(\n"
     ]
    },
    {
     "name": "stdout",
     "output_type": "stream",
     "text": [
      "Linear Probe Accuracy (Hidden Two): 56.09%\n",
      "\n",
      "##################################################\n",
      "Loss factor: 0.016000000000000004\n",
      "\n",
      "\n"
     ]
    },
    {
     "name": "stderr",
     "output_type": "stream",
     "text": [
      "                                                                                                                        \r"
     ]
    },
    {
     "name": "stdout",
     "output_type": "stream",
     "text": [
      "Epoch 1/20\n",
      "  Train Loss: 1.0761\n",
      "  SAE Train Loss (hidden one): 8.9362\n",
      "  SAE Train Loss (hidden two): 1.1592\n",
      "  Val Loss: 0.5736 | Val Acc: 83.50%\n",
      "  Saved model with Val Acc: 83.50%\n"
     ]
    },
    {
     "name": "stderr",
     "output_type": "stream",
     "text": [
      "                                                                                                                        \r"
     ]
    },
    {
     "name": "stdout",
     "output_type": "stream",
     "text": [
      "Epoch 2/20\n",
      "  Train Loss: 0.4730\n",
      "  SAE Train Loss (hidden one): 0.5738\n",
      "  SAE Train Loss (hidden two): 0.1058\n",
      "  Val Loss: 0.4386 | Val Acc: 87.25%\n",
      "  Saved model with Val Acc: 87.25%\n"
     ]
    },
    {
     "name": "stderr",
     "output_type": "stream",
     "text": [
      "                                                                                                                        \r"
     ]
    },
    {
     "name": "stdout",
     "output_type": "stream",
     "text": [
      "Epoch 3/20\n",
      "  Train Loss: 0.3911\n",
      "  SAE Train Loss (hidden one): 0.6402\n",
      "  SAE Train Loss (hidden two): 0.0965\n",
      "  Val Loss: 0.3870 | Val Acc: 89.22%\n",
      "  Saved model with Val Acc: 89.22%\n"
     ]
    },
    {
     "name": "stderr",
     "output_type": "stream",
     "text": [
      "                                                                                                                        \r"
     ]
    },
    {
     "name": "stdout",
     "output_type": "stream",
     "text": [
      "Epoch 4/20\n",
      "  Train Loss: 0.3554\n",
      "  SAE Train Loss (hidden one): 0.6596\n",
      "  SAE Train Loss (hidden two): 0.0874\n",
      "  Val Loss: 0.3308 | Val Acc: 90.41%\n",
      "  Saved model with Val Acc: 90.41%\n"
     ]
    },
    {
     "name": "stderr",
     "output_type": "stream",
     "text": [
      "                                                                                                                        \r"
     ]
    },
    {
     "name": "stdout",
     "output_type": "stream",
     "text": [
      "Epoch 5/20\n",
      "  Train Loss: 0.3322\n",
      "  SAE Train Loss (hidden one): 0.6785\n",
      "  SAE Train Loss (hidden two): 0.0780\n",
      "  Val Loss: 0.3345 | Val Acc: 90.35%\n"
     ]
    },
    {
     "name": "stderr",
     "output_type": "stream",
     "text": [
      "                                                                                                                        \r"
     ]
    },
    {
     "name": "stdout",
     "output_type": "stream",
     "text": [
      "Epoch 6/20\n",
      "  Train Loss: 0.3164\n",
      "  SAE Train Loss (hidden one): 0.6043\n",
      "  SAE Train Loss (hidden two): 0.0740\n",
      "  Val Loss: 0.3189 | Val Acc: 90.75%\n",
      "  Saved model with Val Acc: 90.75%\n"
     ]
    },
    {
     "name": "stderr",
     "output_type": "stream",
     "text": [
      "                                                                                                                        \r"
     ]
    },
    {
     "name": "stdout",
     "output_type": "stream",
     "text": [
      "Epoch 7/20\n",
      "  Train Loss: 0.3067\n",
      "  SAE Train Loss (hidden one): 0.6157\n",
      "  SAE Train Loss (hidden two): 0.0727\n",
      "  Val Loss: 0.3118 | Val Acc: 90.62%\n"
     ]
    },
    {
     "name": "stderr",
     "output_type": "stream",
     "text": [
      "                                                                                                                        \r"
     ]
    },
    {
     "name": "stdout",
     "output_type": "stream",
     "text": [
      "Epoch 8/20\n",
      "  Train Loss: 0.2966\n",
      "  SAE Train Loss (hidden one): 0.6027\n",
      "  SAE Train Loss (hidden two): 0.0669\n",
      "  Val Loss: 0.3038 | Val Acc: 90.97%\n",
      "  Saved model with Val Acc: 90.97%\n"
     ]
    },
    {
     "name": "stderr",
     "output_type": "stream",
     "text": [
      "                                                                                                                        \r"
     ]
    },
    {
     "name": "stdout",
     "output_type": "stream",
     "text": [
      "Epoch 9/20\n",
      "  Train Loss: 0.2914\n",
      "  SAE Train Loss (hidden one): 0.6011\n",
      "  SAE Train Loss (hidden two): 0.0643\n",
      "  Val Loss: 0.3156 | Val Acc: 90.67%\n"
     ]
    },
    {
     "name": "stderr",
     "output_type": "stream",
     "text": [
      "                                                                                                                        \r"
     ]
    },
    {
     "name": "stdout",
     "output_type": "stream",
     "text": [
      "Epoch 10/20\n",
      "  Train Loss: 0.2857\n",
      "  SAE Train Loss (hidden one): 0.5828\n",
      "  SAE Train Loss (hidden two): 0.0597\n",
      "  Val Loss: 0.2907 | Val Acc: 91.21%\n",
      "  Saved model with Val Acc: 91.21%\n"
     ]
    },
    {
     "name": "stderr",
     "output_type": "stream",
     "text": [
      "                                                                                                                        \r"
     ]
    },
    {
     "name": "stdout",
     "output_type": "stream",
     "text": [
      "Epoch 11/20\n",
      "  Train Loss: 0.2794\n",
      "  SAE Train Loss (hidden one): 0.6655\n",
      "  SAE Train Loss (hidden two): 0.0625\n",
      "  Val Loss: 0.2835 | Val Acc: 91.32%\n",
      "  Saved model with Val Acc: 91.32%\n"
     ]
    },
    {
     "name": "stderr",
     "output_type": "stream",
     "text": [
      "                                                                                                                        \r"
     ]
    },
    {
     "name": "stdout",
     "output_type": "stream",
     "text": [
      "Epoch 12/20\n",
      "  Train Loss: 0.2746\n",
      "  SAE Train Loss (hidden one): 0.7032\n",
      "  SAE Train Loss (hidden two): 0.0572\n",
      "  Val Loss: 0.2984 | Val Acc: 91.46%\n",
      "  Saved model with Val Acc: 91.46%\n"
     ]
    },
    {
     "name": "stderr",
     "output_type": "stream",
     "text": [
      "                                                                                                                        \r"
     ]
    },
    {
     "name": "stdout",
     "output_type": "stream",
     "text": [
      "Epoch 13/20\n",
      "  Train Loss: 0.2680\n",
      "  SAE Train Loss (hidden one): 0.7265\n",
      "  SAE Train Loss (hidden two): 0.0574\n",
      "  Val Loss: 0.2914 | Val Acc: 91.09%\n"
     ]
    },
    {
     "name": "stderr",
     "output_type": "stream",
     "text": [
      "                                                                                                                        \r"
     ]
    },
    {
     "name": "stdout",
     "output_type": "stream",
     "text": [
      "Epoch 14/20\n",
      "  Train Loss: 0.2624\n",
      "  SAE Train Loss (hidden one): 0.7338\n",
      "  SAE Train Loss (hidden two): 0.0553\n",
      "  Val Loss: 0.2790 | Val Acc: 91.92%\n",
      "  Saved model with Val Acc: 91.92%\n"
     ]
    },
    {
     "name": "stderr",
     "output_type": "stream",
     "text": [
      "                                                                                                                        \r"
     ]
    },
    {
     "name": "stdout",
     "output_type": "stream",
     "text": [
      "Epoch 15/20\n",
      "  Train Loss: 0.2613\n",
      "  SAE Train Loss (hidden one): 0.6746\n",
      "  SAE Train Loss (hidden two): 0.0536\n",
      "  Val Loss: 0.2835 | Val Acc: 91.66%\n"
     ]
    },
    {
     "name": "stderr",
     "output_type": "stream",
     "text": [
      "                                                                                                                        \r"
     ]
    },
    {
     "name": "stdout",
     "output_type": "stream",
     "text": [
      "Epoch 16/20\n",
      "  Train Loss: 0.2588\n",
      "  SAE Train Loss (hidden one): 0.7959\n",
      "  SAE Train Loss (hidden two): 0.0543\n",
      "  Val Loss: 0.2817 | Val Acc: 91.65%\n"
     ]
    },
    {
     "name": "stderr",
     "output_type": "stream",
     "text": [
      "                                                                                                                        \r"
     ]
    },
    {
     "name": "stdout",
     "output_type": "stream",
     "text": [
      "Epoch 17/20\n",
      "  Train Loss: 0.2552\n",
      "  SAE Train Loss (hidden one): 0.7183\n",
      "  SAE Train Loss (hidden two): 0.0516\n",
      "  Val Loss: 0.2670 | Val Acc: 92.14%\n",
      "  Saved model with Val Acc: 92.14%\n"
     ]
    },
    {
     "name": "stderr",
     "output_type": "stream",
     "text": [
      "                                                                                                                        \r"
     ]
    },
    {
     "name": "stdout",
     "output_type": "stream",
     "text": [
      "Epoch 18/20\n",
      "  Train Loss: 0.2520\n",
      "  SAE Train Loss (hidden one): 0.7575\n",
      "  SAE Train Loss (hidden two): 0.0510\n",
      "  Val Loss: 0.2737 | Val Acc: 92.20%\n",
      "  Saved model with Val Acc: 92.20%\n"
     ]
    },
    {
     "name": "stderr",
     "output_type": "stream",
     "text": [
      "                                                                                                                        \r"
     ]
    },
    {
     "name": "stdout",
     "output_type": "stream",
     "text": [
      "Epoch 19/20\n",
      "  Train Loss: 0.2513\n",
      "  SAE Train Loss (hidden one): 0.7101\n",
      "  SAE Train Loss (hidden two): 0.0515\n",
      "  Val Loss: 0.2956 | Val Acc: 91.16%\n"
     ]
    },
    {
     "name": "stderr",
     "output_type": "stream",
     "text": [
      "                                                                                                                        \r"
     ]
    },
    {
     "name": "stdout",
     "output_type": "stream",
     "text": [
      "Epoch 20/20\n",
      "  Train Loss: 0.2479\n",
      "  SAE Train Loss (hidden one): 0.8057\n",
      "  SAE Train Loss (hidden two): 0.0484\n",
      "  Val Loss: 0.2968 | Val Acc: 91.40%\n"
     ]
    },
    {
     "name": "stderr",
     "output_type": "stream",
     "text": [
      "Evaluation: 100%|██████████████████████████████████████████████████████████████████████| 79/79 [00:00<00:00, 321.22it/s]\n"
     ]
    },
    {
     "name": "stdout",
     "output_type": "stream",
     "text": [
      "Final Test Accuracy: 91.95%\n",
      "Average Reconstruction Error (Hidden One): 0.4677\n",
      "Average Reconstruction Error (Hidden Two): 0.0164\n",
      "Average Non-Zero Features per Image (Hidden One): 32.88\n",
      "Average Non-Zero Features per Image (Hidden Two): 33.89\n"
     ]
    },
    {
     "name": "stderr",
     "output_type": "stream",
     "text": [
      "/home/alex/.local/lib/python3.10/site-packages/sklearn/linear_model/_logistic.py:469: ConvergenceWarning: lbfgs failed to converge (status=1):\n",
      "STOP: TOTAL NO. of ITERATIONS REACHED LIMIT.\n",
      "\n",
      "Increase the number of iterations (max_iter) or scale the data as shown in:\n",
      "    https://scikit-learn.org/stable/modules/preprocessing.html\n",
      "Please also refer to the documentation for alternative solver options:\n",
      "    https://scikit-learn.org/stable/modules/linear_model.html#logistic-regression\n",
      "  n_iter_i = _check_optimize_result(\n"
     ]
    },
    {
     "name": "stdout",
     "output_type": "stream",
     "text": [
      "Linear Probe Accuracy (Hidden One): 92.23%\n"
     ]
    },
    {
     "name": "stderr",
     "output_type": "stream",
     "text": [
      "/home/alex/.local/lib/python3.10/site-packages/sklearn/linear_model/_logistic.py:469: ConvergenceWarning: lbfgs failed to converge (status=1):\n",
      "STOP: TOTAL NO. of ITERATIONS REACHED LIMIT.\n",
      "\n",
      "Increase the number of iterations (max_iter) or scale the data as shown in:\n",
      "    https://scikit-learn.org/stable/modules/preprocessing.html\n",
      "Please also refer to the documentation for alternative solver options:\n",
      "    https://scikit-learn.org/stable/modules/linear_model.html#logistic-regression\n",
      "  n_iter_i = _check_optimize_result(\n"
     ]
    },
    {
     "name": "stdout",
     "output_type": "stream",
     "text": [
      "Linear Probe Accuracy (Hidden Two): 90.96%\n",
      "\n",
      "##################################################\n",
      "Loss factor: 0.017000000000000005\n",
      "\n",
      "\n"
     ]
    },
    {
     "name": "stderr",
     "output_type": "stream",
     "text": [
      "                                                                                                                        \r"
     ]
    },
    {
     "name": "stdout",
     "output_type": "stream",
     "text": [
      "Epoch 1/20\n",
      "  Train Loss: 1.0333\n",
      "  SAE Train Loss (hidden one): 8.6923\n",
      "  SAE Train Loss (hidden two): 1.1764\n",
      "  Val Loss: 0.5983 | Val Acc: 85.29%\n",
      "  Saved model with Val Acc: 85.29%\n"
     ]
    },
    {
     "name": "stderr",
     "output_type": "stream",
     "text": [
      "                                                                                                                        \r"
     ]
    },
    {
     "name": "stdout",
     "output_type": "stream",
     "text": [
      "Epoch 2/20\n",
      "  Train Loss: 0.5029\n",
      "  SAE Train Loss (hidden one): 0.6873\n",
      "  SAE Train Loss (hidden two): 0.1163\n",
      "  Val Loss: 0.4274 | Val Acc: 87.59%\n",
      "  Saved model with Val Acc: 87.59%\n"
     ]
    },
    {
     "name": "stderr",
     "output_type": "stream",
     "text": [
      "                                                                                                                        \r"
     ]
    },
    {
     "name": "stdout",
     "output_type": "stream",
     "text": [
      "Epoch 3/20\n",
      "  Train Loss: 0.3867\n",
      "  SAE Train Loss (hidden one): 0.6484\n",
      "  SAE Train Loss (hidden two): 0.1055\n",
      "  Val Loss: 0.3833 | Val Acc: 89.40%\n",
      "  Saved model with Val Acc: 89.40%\n"
     ]
    },
    {
     "name": "stderr",
     "output_type": "stream",
     "text": [
      "                                                                                                                        \r"
     ]
    },
    {
     "name": "stdout",
     "output_type": "stream",
     "text": [
      "Epoch 4/20\n",
      "  Train Loss: 0.3601\n",
      "  SAE Train Loss (hidden one): 0.5922\n",
      "  SAE Train Loss (hidden two): 0.0867\n",
      "  Val Loss: 0.3579 | Val Acc: 89.85%\n",
      "  Saved model with Val Acc: 89.85%\n"
     ]
    },
    {
     "name": "stderr",
     "output_type": "stream",
     "text": [
      "                                                                                                                        \r"
     ]
    },
    {
     "name": "stdout",
     "output_type": "stream",
     "text": [
      "Epoch 5/20\n",
      "  Train Loss: 0.3481\n",
      "  SAE Train Loss (hidden one): 0.6267\n",
      "  SAE Train Loss (hidden two): 0.0845\n",
      "  Val Loss: 0.3449 | Val Acc: 90.08%\n",
      "  Saved model with Val Acc: 90.08%\n"
     ]
    },
    {
     "name": "stderr",
     "output_type": "stream",
     "text": [
      "                                                                                                                        \r"
     ]
    },
    {
     "name": "stdout",
     "output_type": "stream",
     "text": [
      "Epoch 6/20\n",
      "  Train Loss: 0.3309\n",
      "  SAE Train Loss (hidden one): 0.7190\n",
      "  SAE Train Loss (hidden two): 0.0817\n",
      "  Val Loss: 0.3209 | Val Acc: 90.62%\n",
      "  Saved model with Val Acc: 90.62%\n"
     ]
    },
    {
     "name": "stderr",
     "output_type": "stream",
     "text": [
      "                                                                                                                        \r"
     ]
    },
    {
     "name": "stdout",
     "output_type": "stream",
     "text": [
      "Epoch 7/20\n",
      "  Train Loss: 0.3171\n",
      "  SAE Train Loss (hidden one): 0.6667\n",
      "  SAE Train Loss (hidden two): 0.0770\n",
      "  Val Loss: 0.3330 | Val Acc: 90.35%\n"
     ]
    },
    {
     "name": "stderr",
     "output_type": "stream",
     "text": [
      "                                                                                                                        \r"
     ]
    },
    {
     "name": "stdout",
     "output_type": "stream",
     "text": [
      "Epoch 8/20\n",
      "  Train Loss: 0.3080\n",
      "  SAE Train Loss (hidden one): 0.7969\n",
      "  SAE Train Loss (hidden two): 0.0766\n",
      "  Val Loss: 0.3162 | Val Acc: 90.70%\n",
      "  Saved model with Val Acc: 90.70%\n"
     ]
    },
    {
     "name": "stderr",
     "output_type": "stream",
     "text": [
      "                                                                                                                        \r"
     ]
    },
    {
     "name": "stdout",
     "output_type": "stream",
     "text": [
      "Epoch 9/20\n",
      "  Train Loss: 0.2996\n",
      "  SAE Train Loss (hidden one): 0.7947\n",
      "  SAE Train Loss (hidden two): 0.0744\n",
      "  Val Loss: 0.3438 | Val Acc: 89.98%\n"
     ]
    },
    {
     "name": "stderr",
     "output_type": "stream",
     "text": [
      "                                                                                                                        \r"
     ]
    },
    {
     "name": "stdout",
     "output_type": "stream",
     "text": [
      "Epoch 10/20\n",
      "  Train Loss: 0.2914\n",
      "  SAE Train Loss (hidden one): 0.7764\n",
      "  SAE Train Loss (hidden two): 0.0717\n",
      "  Val Loss: 0.2947 | Val Acc: 91.31%\n",
      "  Saved model with Val Acc: 91.31%\n"
     ]
    },
    {
     "name": "stderr",
     "output_type": "stream",
     "text": [
      "                                                                                                                        \r"
     ]
    },
    {
     "name": "stdout",
     "output_type": "stream",
     "text": [
      "Epoch 11/20\n",
      "  Train Loss: 0.2828\n",
      "  SAE Train Loss (hidden one): 0.8430\n",
      "  SAE Train Loss (hidden two): 0.0727\n",
      "  Val Loss: 0.3142 | Val Acc: 90.82%\n"
     ]
    },
    {
     "name": "stderr",
     "output_type": "stream",
     "text": [
      "                                                                                                                        \r"
     ]
    },
    {
     "name": "stdout",
     "output_type": "stream",
     "text": [
      "Epoch 12/20\n",
      "  Train Loss: 0.2776\n",
      "  SAE Train Loss (hidden one): 0.8762\n",
      "  SAE Train Loss (hidden two): 0.0696\n",
      "  Val Loss: 0.2963 | Val Acc: 91.22%\n"
     ]
    },
    {
     "name": "stderr",
     "output_type": "stream",
     "text": [
      "                                                                                                                        \r"
     ]
    },
    {
     "name": "stdout",
     "output_type": "stream",
     "text": [
      "Epoch 13/20\n",
      "  Train Loss: 0.2727\n",
      "  SAE Train Loss (hidden one): 0.8216\n",
      "  SAE Train Loss (hidden two): 0.0672\n",
      "  Val Loss: 0.2962 | Val Acc: 91.60%\n",
      "  Saved model with Val Acc: 91.60%\n"
     ]
    },
    {
     "name": "stderr",
     "output_type": "stream",
     "text": [
      "                                                                                                                        \r"
     ]
    },
    {
     "name": "stdout",
     "output_type": "stream",
     "text": [
      "Epoch 14/20\n",
      "  Train Loss: 0.2712\n",
      "  SAE Train Loss (hidden one): 0.8256\n",
      "  SAE Train Loss (hidden two): 0.0643\n",
      "  Val Loss: 0.3330 | Val Acc: 90.59%\n"
     ]
    },
    {
     "name": "stderr",
     "output_type": "stream",
     "text": [
      "                                                                                                                        \r"
     ]
    },
    {
     "name": "stdout",
     "output_type": "stream",
     "text": [
      "Epoch 15/20\n",
      "  Train Loss: 0.2647\n",
      "  SAE Train Loss (hidden one): 0.7403\n",
      "  SAE Train Loss (hidden two): 0.0611\n",
      "  Val Loss: 0.2930 | Val Acc: 91.70%\n",
      "  Saved model with Val Acc: 91.70%\n"
     ]
    },
    {
     "name": "stderr",
     "output_type": "stream",
     "text": [
      "                                                                                                                        \r"
     ]
    },
    {
     "name": "stdout",
     "output_type": "stream",
     "text": [
      "Epoch 16/20\n",
      "  Train Loss: 0.2614\n",
      "  SAE Train Loss (hidden one): 0.8042\n",
      "  SAE Train Loss (hidden two): 0.0617\n",
      "  Val Loss: 0.2947 | Val Acc: 91.73%\n",
      "  Saved model with Val Acc: 91.73%\n"
     ]
    },
    {
     "name": "stderr",
     "output_type": "stream",
     "text": [
      "                                                                                                                        \r"
     ]
    },
    {
     "name": "stdout",
     "output_type": "stream",
     "text": [
      "Epoch 17/20\n",
      "  Train Loss: 0.2611\n",
      "  SAE Train Loss (hidden one): 0.7240\n",
      "  SAE Train Loss (hidden two): 0.0578\n",
      "  Val Loss: 0.2881 | Val Acc: 91.48%\n"
     ]
    },
    {
     "name": "stderr",
     "output_type": "stream",
     "text": [
      "                                                                                                                        \r"
     ]
    },
    {
     "name": "stdout",
     "output_type": "stream",
     "text": [
      "Epoch 18/20\n",
      "  Train Loss: 0.2582\n",
      "  SAE Train Loss (hidden one): 0.8815\n",
      "  SAE Train Loss (hidden two): 0.0584\n",
      "  Val Loss: 0.2858 | Val Acc: 91.88%\n",
      "  Saved model with Val Acc: 91.88%\n"
     ]
    },
    {
     "name": "stderr",
     "output_type": "stream",
     "text": [
      "                                                                                                                        \r"
     ]
    },
    {
     "name": "stdout",
     "output_type": "stream",
     "text": [
      "Epoch 19/20\n",
      "  Train Loss: 0.2551\n",
      "  SAE Train Loss (hidden one): 0.7984\n",
      "  SAE Train Loss (hidden two): 0.0554\n",
      "  Val Loss: 0.3019 | Val Acc: 91.30%\n"
     ]
    },
    {
     "name": "stderr",
     "output_type": "stream",
     "text": [
      "                                                                                                                        \r"
     ]
    },
    {
     "name": "stdout",
     "output_type": "stream",
     "text": [
      "Epoch 20/20\n",
      "  Train Loss: 0.2518\n",
      "  SAE Train Loss (hidden one): 0.8477\n",
      "  SAE Train Loss (hidden two): 0.0534\n",
      "  Val Loss: 0.2855 | Val Acc: 91.89%\n",
      "  Saved model with Val Acc: 91.89%\n"
     ]
    },
    {
     "name": "stderr",
     "output_type": "stream",
     "text": [
      "Evaluation: 100%|██████████████████████████████████████████████████████████████████████| 79/79 [00:00<00:00, 299.67it/s]"
     ]
    },
    {
     "name": "stdout",
     "output_type": "stream",
     "text": [
      "Final Test Accuracy: 92.16%\n",
      "Average Reconstruction Error (Hidden One): 0.1675\n",
      "Average Reconstruction Error (Hidden Two): 0.0113\n",
      "Average Non-Zero Features per Image (Hidden One): 33.24\n",
      "Average Non-Zero Features per Image (Hidden Two): 34.20\n"
     ]
    },
    {
     "name": "stderr",
     "output_type": "stream",
     "text": [
      "\n",
      "/home/alex/.local/lib/python3.10/site-packages/sklearn/linear_model/_logistic.py:469: ConvergenceWarning: lbfgs failed to converge (status=1):\n",
      "STOP: TOTAL NO. of ITERATIONS REACHED LIMIT.\n",
      "\n",
      "Increase the number of iterations (max_iter) or scale the data as shown in:\n",
      "    https://scikit-learn.org/stable/modules/preprocessing.html\n",
      "Please also refer to the documentation for alternative solver options:\n",
      "    https://scikit-learn.org/stable/modules/linear_model.html#logistic-regression\n",
      "  n_iter_i = _check_optimize_result(\n"
     ]
    },
    {
     "name": "stdout",
     "output_type": "stream",
     "text": [
      "Linear Probe Accuracy (Hidden One): 92.72%\n"
     ]
    },
    {
     "name": "stderr",
     "output_type": "stream",
     "text": [
      "/home/alex/.local/lib/python3.10/site-packages/sklearn/linear_model/_logistic.py:469: ConvergenceWarning: lbfgs failed to converge (status=1):\n",
      "STOP: TOTAL NO. of ITERATIONS REACHED LIMIT.\n",
      "\n",
      "Increase the number of iterations (max_iter) or scale the data as shown in:\n",
      "    https://scikit-learn.org/stable/modules/preprocessing.html\n",
      "Please also refer to the documentation for alternative solver options:\n",
      "    https://scikit-learn.org/stable/modules/linear_model.html#logistic-regression\n",
      "  n_iter_i = _check_optimize_result(\n"
     ]
    },
    {
     "name": "stdout",
     "output_type": "stream",
     "text": [
      "Linear Probe Accuracy (Hidden Two): 92.27%\n",
      "\n",
      "##################################################\n",
      "Loss factor: 0.018000000000000006\n",
      "\n",
      "\n"
     ]
    },
    {
     "name": "stderr",
     "output_type": "stream",
     "text": [
      "                                                                                                                        \r"
     ]
    },
    {
     "name": "stdout",
     "output_type": "stream",
     "text": [
      "Epoch 1/20\n",
      "  Train Loss: 1.0327\n",
      "  SAE Train Loss (hidden one): 8.7144\n",
      "  SAE Train Loss (hidden two): 1.1728\n",
      "  Val Loss: 0.5839 | Val Acc: 85.70%\n",
      "  Saved model with Val Acc: 85.70%\n"
     ]
    },
    {
     "name": "stderr",
     "output_type": "stream",
     "text": [
      "                                                                                                                        \r"
     ]
    },
    {
     "name": "stdout",
     "output_type": "stream",
     "text": [
      "Epoch 2/20\n",
      "  Train Loss: 0.4487\n",
      "  SAE Train Loss (hidden one): 0.7792\n",
      "  SAE Train Loss (hidden two): 0.1121\n",
      "  Val Loss: 0.3731 | Val Acc: 89.39%\n",
      "  Saved model with Val Acc: 89.39%\n"
     ]
    },
    {
     "name": "stderr",
     "output_type": "stream",
     "text": [
      "                                                                                                                        \r"
     ]
    },
    {
     "name": "stdout",
     "output_type": "stream",
     "text": [
      "Epoch 3/20\n",
      "  Train Loss: 0.3717\n",
      "  SAE Train Loss (hidden one): 0.5620\n",
      "  SAE Train Loss (hidden two): 0.0947\n",
      "  Val Loss: 0.3937 | Val Acc: 89.02%\n"
     ]
    },
    {
     "name": "stderr",
     "output_type": "stream",
     "text": [
      "                                                                                                                        \r"
     ]
    },
    {
     "name": "stdout",
     "output_type": "stream",
     "text": [
      "Epoch 4/20\n",
      "  Train Loss: 0.3440\n",
      "  SAE Train Loss (hidden one): 0.6190\n",
      "  SAE Train Loss (hidden two): 0.0877\n",
      "  Val Loss: 0.3753 | Val Acc: 88.65%\n"
     ]
    },
    {
     "name": "stderr",
     "output_type": "stream",
     "text": [
      "                                                                                                                        \r"
     ]
    },
    {
     "name": "stdout",
     "output_type": "stream",
     "text": [
      "Epoch 5/20\n",
      "  Train Loss: 0.3288\n",
      "  SAE Train Loss (hidden one): 0.6125\n",
      "  SAE Train Loss (hidden two): 0.0842\n",
      "  Val Loss: 0.3598 | Val Acc: 89.24%\n"
     ]
    },
    {
     "name": "stderr",
     "output_type": "stream",
     "text": [
      "                                                                                                                        \r"
     ]
    },
    {
     "name": "stdout",
     "output_type": "stream",
     "text": [
      "Epoch 6/20\n",
      "  Train Loss: 0.3155\n",
      "  SAE Train Loss (hidden one): 0.6568\n",
      "  SAE Train Loss (hidden two): 0.0789\n",
      "  Val Loss: 0.3217 | Val Acc: 90.56%\n",
      "  Saved model with Val Acc: 90.56%\n"
     ]
    },
    {
     "name": "stderr",
     "output_type": "stream",
     "text": [
      "                                                                                                                        \r"
     ]
    },
    {
     "name": "stdout",
     "output_type": "stream",
     "text": [
      "Epoch 7/20\n",
      "  Train Loss: 0.3090\n",
      "  SAE Train Loss (hidden one): 0.6197\n",
      "  SAE Train Loss (hidden two): 0.0762\n",
      "  Val Loss: 0.3130 | Val Acc: 91.03%\n",
      "  Saved model with Val Acc: 91.03%\n"
     ]
    },
    {
     "name": "stderr",
     "output_type": "stream",
     "text": [
      "                                                                                                                        \r"
     ]
    },
    {
     "name": "stdout",
     "output_type": "stream",
     "text": [
      "Epoch 8/20\n",
      "  Train Loss: 0.3019\n",
      "  SAE Train Loss (hidden one): 0.6574\n",
      "  SAE Train Loss (hidden two): 0.0728\n",
      "  Val Loss: 0.3057 | Val Acc: 91.04%\n",
      "  Saved model with Val Acc: 91.04%\n"
     ]
    },
    {
     "name": "stderr",
     "output_type": "stream",
     "text": [
      "                                                                                                                        \r"
     ]
    },
    {
     "name": "stdout",
     "output_type": "stream",
     "text": [
      "Epoch 9/20\n",
      "  Train Loss: 0.2938\n",
      "  SAE Train Loss (hidden one): 0.7184\n",
      "  SAE Train Loss (hidden two): 0.0710\n",
      "  Val Loss: 0.3181 | Val Acc: 90.71%\n"
     ]
    },
    {
     "name": "stderr",
     "output_type": "stream",
     "text": [
      "                                                                                                                        \r"
     ]
    },
    {
     "name": "stdout",
     "output_type": "stream",
     "text": [
      "Epoch 10/20\n",
      "  Train Loss: 0.2919\n",
      "  SAE Train Loss (hidden one): 0.6645\n",
      "  SAE Train Loss (hidden two): 0.0679\n",
      "  Val Loss: 0.3150 | Val Acc: 90.82%\n"
     ]
    },
    {
     "name": "stderr",
     "output_type": "stream",
     "text": [
      "                                                                                                                        \r"
     ]
    },
    {
     "name": "stdout",
     "output_type": "stream",
     "text": [
      "Epoch 11/20\n",
      "  Train Loss: 0.2849\n",
      "  SAE Train Loss (hidden one): 0.7107\n",
      "  SAE Train Loss (hidden two): 0.0640\n",
      "  Val Loss: 0.3209 | Val Acc: 90.33%\n"
     ]
    },
    {
     "name": "stderr",
     "output_type": "stream",
     "text": [
      "                                                                                                                        \r"
     ]
    },
    {
     "name": "stdout",
     "output_type": "stream",
     "text": [
      "Epoch 12/20\n",
      "  Train Loss: 0.2814\n",
      "  SAE Train Loss (hidden one): 0.7403\n",
      "  SAE Train Loss (hidden two): 0.0644\n",
      "  Val Loss: 0.2966 | Val Acc: 91.54%\n",
      "  Saved model with Val Acc: 91.54%\n"
     ]
    },
    {
     "name": "stderr",
     "output_type": "stream",
     "text": [
      "                                                                                                                        \r"
     ]
    },
    {
     "name": "stdout",
     "output_type": "stream",
     "text": [
      "Epoch 13/20\n",
      "  Train Loss: 0.2783\n",
      "  SAE Train Loss (hidden one): 0.6885\n",
      "  SAE Train Loss (hidden two): 0.0618\n",
      "  Val Loss: 0.2968 | Val Acc: 91.13%\n"
     ]
    },
    {
     "name": "stderr",
     "output_type": "stream",
     "text": [
      "                                                                                                                        \r"
     ]
    },
    {
     "name": "stdout",
     "output_type": "stream",
     "text": [
      "Epoch 14/20\n",
      "  Train Loss: 0.2748\n",
      "  SAE Train Loss (hidden one): 0.7216\n",
      "  SAE Train Loss (hidden two): 0.0589\n",
      "  Val Loss: 0.3400 | Val Acc: 90.74%\n"
     ]
    },
    {
     "name": "stderr",
     "output_type": "stream",
     "text": [
      "                                                                                                                        \r"
     ]
    },
    {
     "name": "stdout",
     "output_type": "stream",
     "text": [
      "Epoch 15/20\n",
      "  Train Loss: 0.2722\n",
      "  SAE Train Loss (hidden one): 0.7357\n",
      "  SAE Train Loss (hidden two): 0.0567\n",
      "  Val Loss: 0.3169 | Val Acc: 90.92%\n"
     ]
    },
    {
     "name": "stderr",
     "output_type": "stream",
     "text": [
      "                                                                                                                        \r"
     ]
    },
    {
     "name": "stdout",
     "output_type": "stream",
     "text": [
      "Epoch 16/20\n",
      "  Train Loss: 0.2700\n",
      "  SAE Train Loss (hidden one): 0.7968\n",
      "  SAE Train Loss (hidden two): 0.0561\n",
      "  Val Loss: 0.3013 | Val Acc: 91.18%\n"
     ]
    },
    {
     "name": "stderr",
     "output_type": "stream",
     "text": [
      "                                                                                                                        \r"
     ]
    },
    {
     "name": "stdout",
     "output_type": "stream",
     "text": [
      "Epoch 17/20\n",
      "  Train Loss: 0.2672\n",
      "  SAE Train Loss (hidden one): 0.7409\n",
      "  SAE Train Loss (hidden two): 0.0540\n",
      "  Val Loss: 0.2965 | Val Acc: 91.19%\n"
     ]
    },
    {
     "name": "stderr",
     "output_type": "stream",
     "text": [
      "                                                                                                                        \r"
     ]
    },
    {
     "name": "stdout",
     "output_type": "stream",
     "text": [
      "Epoch 18/20\n",
      "  Train Loss: 0.2647\n",
      "  SAE Train Loss (hidden one): 0.7579\n",
      "  SAE Train Loss (hidden two): 0.0525\n",
      "  Val Loss: 0.2966 | Val Acc: 91.47%\n"
     ]
    },
    {
     "name": "stderr",
     "output_type": "stream",
     "text": [
      "                                                                                                                        \r"
     ]
    },
    {
     "name": "stdout",
     "output_type": "stream",
     "text": [
      "Epoch 19/20\n",
      "  Train Loss: 0.2645\n",
      "  SAE Train Loss (hidden one): 0.7457\n",
      "  SAE Train Loss (hidden two): 0.0522\n",
      "  Val Loss: 0.3053 | Val Acc: 90.60%\n"
     ]
    },
    {
     "name": "stderr",
     "output_type": "stream",
     "text": [
      "                                                                                                                        \r"
     ]
    },
    {
     "name": "stdout",
     "output_type": "stream",
     "text": [
      "Epoch 20/20\n",
      "  Train Loss: 0.2583\n",
      "  SAE Train Loss (hidden one): 0.7600\n",
      "  SAE Train Loss (hidden two): 0.0500\n",
      "  Val Loss: 0.2875 | Val Acc: 91.57%\n",
      "  Saved model with Val Acc: 91.57%\n"
     ]
    },
    {
     "name": "stderr",
     "output_type": "stream",
     "text": [
      "Evaluation: 100%|██████████████████████████████████████████████████████████████████████| 79/79 [00:00<00:00, 309.93it/s]\n"
     ]
    },
    {
     "name": "stdout",
     "output_type": "stream",
     "text": [
      "Final Test Accuracy: 92.03%\n",
      "Average Reconstruction Error (Hidden One): 0.3506\n",
      "Average Reconstruction Error (Hidden Two): 0.0116\n",
      "Average Non-Zero Features per Image (Hidden One): 34.38\n",
      "Average Non-Zero Features per Image (Hidden Two): 32.88\n"
     ]
    },
    {
     "name": "stderr",
     "output_type": "stream",
     "text": [
      "/home/alex/.local/lib/python3.10/site-packages/sklearn/linear_model/_logistic.py:469: ConvergenceWarning: lbfgs failed to converge (status=1):\n",
      "STOP: TOTAL NO. of ITERATIONS REACHED LIMIT.\n",
      "\n",
      "Increase the number of iterations (max_iter) or scale the data as shown in:\n",
      "    https://scikit-learn.org/stable/modules/preprocessing.html\n",
      "Please also refer to the documentation for alternative solver options:\n",
      "    https://scikit-learn.org/stable/modules/linear_model.html#logistic-regression\n",
      "  n_iter_i = _check_optimize_result(\n"
     ]
    },
    {
     "name": "stdout",
     "output_type": "stream",
     "text": [
      "Linear Probe Accuracy (Hidden One): 91.94%\n"
     ]
    },
    {
     "name": "stderr",
     "output_type": "stream",
     "text": [
      "/home/alex/.local/lib/python3.10/site-packages/sklearn/linear_model/_logistic.py:469: ConvergenceWarning: lbfgs failed to converge (status=1):\n",
      "STOP: TOTAL NO. of ITERATIONS REACHED LIMIT.\n",
      "\n",
      "Increase the number of iterations (max_iter) or scale the data as shown in:\n",
      "    https://scikit-learn.org/stable/modules/preprocessing.html\n",
      "Please also refer to the documentation for alternative solver options:\n",
      "    https://scikit-learn.org/stable/modules/linear_model.html#logistic-regression\n",
      "  n_iter_i = _check_optimize_result(\n"
     ]
    },
    {
     "name": "stdout",
     "output_type": "stream",
     "text": [
      "Linear Probe Accuracy (Hidden Two): 91.89%\n",
      "\n",
      "##################################################\n",
      "Loss factor: 0.019000000000000006\n",
      "\n",
      "\n"
     ]
    },
    {
     "name": "stderr",
     "output_type": "stream",
     "text": [
      "                                                                                                                        \r"
     ]
    },
    {
     "name": "stdout",
     "output_type": "stream",
     "text": [
      "Epoch 1/20\n",
      "  Train Loss: 1.0431\n",
      "  SAE Train Loss (hidden one): 8.6654\n",
      "  SAE Train Loss (hidden two): 1.1682\n",
      "  Val Loss: 0.6020 | Val Acc: 84.99%\n",
      "  Saved model with Val Acc: 84.99%\n"
     ]
    },
    {
     "name": "stderr",
     "output_type": "stream",
     "text": [
      "                                                                                                                        \r"
     ]
    },
    {
     "name": "stdout",
     "output_type": "stream",
     "text": [
      "Epoch 2/20\n",
      "  Train Loss: 0.5196\n",
      "  SAE Train Loss (hidden one): 0.4410\n",
      "  SAE Train Loss (hidden two): 0.0933\n",
      "  Val Loss: 0.4493 | Val Acc: 87.41%\n",
      "  Saved model with Val Acc: 87.41%\n"
     ]
    },
    {
     "name": "stderr",
     "output_type": "stream",
     "text": [
      "                                                                                                                        \r"
     ]
    },
    {
     "name": "stdout",
     "output_type": "stream",
     "text": [
      "Epoch 3/20\n",
      "  Train Loss: 0.4120\n",
      "  SAE Train Loss (hidden one): 0.4584\n",
      "  SAE Train Loss (hidden two): 0.0815\n",
      "  Val Loss: 0.4360 | Val Acc: 87.70%\n",
      "  Saved model with Val Acc: 87.70%\n"
     ]
    },
    {
     "name": "stderr",
     "output_type": "stream",
     "text": [
      "                                                                                                                        \r"
     ]
    },
    {
     "name": "stdout",
     "output_type": "stream",
     "text": [
      "Epoch 4/20\n",
      "  Train Loss: 0.3736\n",
      "  SAE Train Loss (hidden one): 0.5076\n",
      "  SAE Train Loss (hidden two): 0.0785\n",
      "  Val Loss: 0.3882 | Val Acc: 88.76%\n",
      "  Saved model with Val Acc: 88.76%\n"
     ]
    },
    {
     "name": "stderr",
     "output_type": "stream",
     "text": [
      "                                                                                                                        \r"
     ]
    },
    {
     "name": "stdout",
     "output_type": "stream",
     "text": [
      "Epoch 5/20\n",
      "  Train Loss: 0.3563\n",
      "  SAE Train Loss (hidden one): 0.5079\n",
      "  SAE Train Loss (hidden two): 0.0736\n",
      "  Val Loss: 0.3603 | Val Acc: 89.54%\n",
      "  Saved model with Val Acc: 89.54%\n"
     ]
    },
    {
     "name": "stderr",
     "output_type": "stream",
     "text": [
      "                                                                                                                        \r"
     ]
    },
    {
     "name": "stdout",
     "output_type": "stream",
     "text": [
      "Epoch 6/20\n",
      "  Train Loss: 0.3408\n",
      "  SAE Train Loss (hidden one): 0.5241\n",
      "  SAE Train Loss (hidden two): 0.0675\n",
      "  Val Loss: 0.3481 | Val Acc: 90.00%\n",
      "  Saved model with Val Acc: 90.00%\n"
     ]
    },
    {
     "name": "stderr",
     "output_type": "stream",
     "text": [
      "                                                                                                                        \r"
     ]
    },
    {
     "name": "stdout",
     "output_type": "stream",
     "text": [
      "Epoch 7/20\n",
      "  Train Loss: 0.3302\n",
      "  SAE Train Loss (hidden one): 0.5343\n",
      "  SAE Train Loss (hidden two): 0.0635\n",
      "  Val Loss: 0.3345 | Val Acc: 90.79%\n",
      "  Saved model with Val Acc: 90.79%\n"
     ]
    },
    {
     "name": "stderr",
     "output_type": "stream",
     "text": [
      "                                                                                                                        \r"
     ]
    },
    {
     "name": "stdout",
     "output_type": "stream",
     "text": [
      "Epoch 8/20\n",
      "  Train Loss: 0.3234\n",
      "  SAE Train Loss (hidden one): 0.5448\n",
      "  SAE Train Loss (hidden two): 0.0607\n",
      "  Val Loss: 0.3322 | Val Acc: 90.46%\n"
     ]
    },
    {
     "name": "stderr",
     "output_type": "stream",
     "text": [
      "                                                                                                                        \r"
     ]
    },
    {
     "name": "stdout",
     "output_type": "stream",
     "text": [
      "Epoch 9/20\n",
      "  Train Loss: 0.3158\n",
      "  SAE Train Loss (hidden one): 0.5438\n",
      "  SAE Train Loss (hidden two): 0.0566\n",
      "  Val Loss: 0.3495 | Val Acc: 89.99%\n"
     ]
    },
    {
     "name": "stderr",
     "output_type": "stream",
     "text": [
      "                                                                                                                        \r"
     ]
    },
    {
     "name": "stdout",
     "output_type": "stream",
     "text": [
      "Epoch 10/20\n",
      "  Train Loss: 0.3129\n",
      "  SAE Train Loss (hidden one): 0.6177\n",
      "  SAE Train Loss (hidden two): 0.0555\n",
      "  Val Loss: 0.3535 | Val Acc: 89.90%\n"
     ]
    },
    {
     "name": "stderr",
     "output_type": "stream",
     "text": [
      "                                                                                                                        \r"
     ]
    },
    {
     "name": "stdout",
     "output_type": "stream",
     "text": [
      "Epoch 11/20\n",
      "  Train Loss: 0.3048\n",
      "  SAE Train Loss (hidden one): 0.5596\n",
      "  SAE Train Loss (hidden two): 0.0552\n",
      "  Val Loss: 0.3228 | Val Acc: 91.00%\n",
      "  Saved model with Val Acc: 91.00%\n"
     ]
    },
    {
     "name": "stderr",
     "output_type": "stream",
     "text": [
      "                                                                                                                        \r"
     ]
    },
    {
     "name": "stdout",
     "output_type": "stream",
     "text": [
      "Epoch 12/20\n",
      "  Train Loss: 0.3016\n",
      "  SAE Train Loss (hidden one): 0.5532\n",
      "  SAE Train Loss (hidden two): 0.0529\n",
      "  Val Loss: 0.3324 | Val Acc: 90.31%\n"
     ]
    },
    {
     "name": "stderr",
     "output_type": "stream",
     "text": [
      "                                                                                                                        \r"
     ]
    },
    {
     "name": "stdout",
     "output_type": "stream",
     "text": [
      "Epoch 13/20\n",
      "  Train Loss: 0.2975\n",
      "  SAE Train Loss (hidden one): 0.5642\n",
      "  SAE Train Loss (hidden two): 0.0505\n",
      "  Val Loss: 0.3158 | Val Acc: 90.66%\n"
     ]
    },
    {
     "name": "stderr",
     "output_type": "stream",
     "text": [
      "                                                                                                                        \r"
     ]
    },
    {
     "name": "stdout",
     "output_type": "stream",
     "text": [
      "Epoch 14/20\n",
      "  Train Loss: 0.2973\n",
      "  SAE Train Loss (hidden one): 0.5203\n",
      "  SAE Train Loss (hidden two): 0.0493\n",
      "  Val Loss: 0.3388 | Val Acc: 90.00%\n"
     ]
    },
    {
     "name": "stderr",
     "output_type": "stream",
     "text": [
      "                                                                                                                        \r"
     ]
    },
    {
     "name": "stdout",
     "output_type": "stream",
     "text": [
      "Epoch 15/20\n",
      "  Train Loss: 0.2949\n",
      "  SAE Train Loss (hidden one): 0.5303\n",
      "  SAE Train Loss (hidden two): 0.0487\n",
      "  Val Loss: 0.3235 | Val Acc: 90.41%\n"
     ]
    },
    {
     "name": "stderr",
     "output_type": "stream",
     "text": [
      "                                                                                                                        \r"
     ]
    },
    {
     "name": "stdout",
     "output_type": "stream",
     "text": [
      "Epoch 16/20\n",
      "  Train Loss: 0.2914\n",
      "  SAE Train Loss (hidden one): 0.5536\n",
      "  SAE Train Loss (hidden two): 0.0474\n",
      "  Val Loss: 0.3164 | Val Acc: 90.68%\n"
     ]
    },
    {
     "name": "stderr",
     "output_type": "stream",
     "text": [
      "                                                                                                                        \r"
     ]
    },
    {
     "name": "stdout",
     "output_type": "stream",
     "text": [
      "Epoch 17/20\n",
      "  Train Loss: 0.2885\n",
      "  SAE Train Loss (hidden one): 0.5517\n",
      "  SAE Train Loss (hidden two): 0.0466\n",
      "  Val Loss: 0.3098 | Val Acc: 91.11%\n",
      "  Saved model with Val Acc: 91.11%\n"
     ]
    },
    {
     "name": "stderr",
     "output_type": "stream",
     "text": [
      "                                                                                                                        \r"
     ]
    },
    {
     "name": "stdout",
     "output_type": "stream",
     "text": [
      "Epoch 18/20\n",
      "  Train Loss: 0.2856\n",
      "  SAE Train Loss (hidden one): 0.4940\n",
      "  SAE Train Loss (hidden two): 0.0447\n",
      "  Val Loss: 0.3211 | Val Acc: 90.83%\n"
     ]
    },
    {
     "name": "stderr",
     "output_type": "stream",
     "text": [
      "                                                                                                                        \r"
     ]
    },
    {
     "name": "stdout",
     "output_type": "stream",
     "text": [
      "Epoch 19/20\n",
      "  Train Loss: 0.2854\n",
      "  SAE Train Loss (hidden one): 0.6080\n",
      "  SAE Train Loss (hidden two): 0.0445\n",
      "  Val Loss: 0.3266 | Val Acc: 90.42%\n"
     ]
    },
    {
     "name": "stderr",
     "output_type": "stream",
     "text": [
      "                                                                                                                        \r"
     ]
    },
    {
     "name": "stdout",
     "output_type": "stream",
     "text": [
      "Epoch 20/20\n",
      "  Train Loss: 0.2837\n",
      "  SAE Train Loss (hidden one): 0.5892\n",
      "  SAE Train Loss (hidden two): 0.0434\n",
      "  Val Loss: 0.3215 | Val Acc: 90.76%\n"
     ]
    },
    {
     "name": "stderr",
     "output_type": "stream",
     "text": [
      "Evaluation: 100%|██████████████████████████████████████████████████████████████████████| 79/79 [00:00<00:00, 297.05it/s]"
     ]
    },
    {
     "name": "stdout",
     "output_type": "stream",
     "text": [
      "Final Test Accuracy: 91.50%\n",
      "Average Reconstruction Error (Hidden One): 0.1470\n",
      "Average Reconstruction Error (Hidden Two): 0.0114\n",
      "Average Non-Zero Features per Image (Hidden One): 32.44\n",
      "Average Non-Zero Features per Image (Hidden Two): 34.53\n"
     ]
    },
    {
     "name": "stderr",
     "output_type": "stream",
     "text": [
      "\n",
      "/home/alex/.local/lib/python3.10/site-packages/sklearn/linear_model/_logistic.py:469: ConvergenceWarning: lbfgs failed to converge (status=1):\n",
      "STOP: TOTAL NO. of ITERATIONS REACHED LIMIT.\n",
      "\n",
      "Increase the number of iterations (max_iter) or scale the data as shown in:\n",
      "    https://scikit-learn.org/stable/modules/preprocessing.html\n",
      "Please also refer to the documentation for alternative solver options:\n",
      "    https://scikit-learn.org/stable/modules/linear_model.html#logistic-regression\n",
      "  n_iter_i = _check_optimize_result(\n"
     ]
    },
    {
     "name": "stdout",
     "output_type": "stream",
     "text": [
      "Linear Probe Accuracy (Hidden One): 90.87%\n"
     ]
    },
    {
     "name": "stderr",
     "output_type": "stream",
     "text": [
      "/home/alex/.local/lib/python3.10/site-packages/sklearn/linear_model/_logistic.py:469: ConvergenceWarning: lbfgs failed to converge (status=1):\n",
      "STOP: TOTAL NO. of ITERATIONS REACHED LIMIT.\n",
      "\n",
      "Increase the number of iterations (max_iter) or scale the data as shown in:\n",
      "    https://scikit-learn.org/stable/modules/preprocessing.html\n",
      "Please also refer to the documentation for alternative solver options:\n",
      "    https://scikit-learn.org/stable/modules/linear_model.html#logistic-regression\n",
      "  n_iter_i = _check_optimize_result(\n"
     ]
    },
    {
     "name": "stdout",
     "output_type": "stream",
     "text": [
      "Linear Probe Accuracy (Hidden Two): 89.90%\n",
      "\n",
      "##################################################\n",
      "Loss factor: 0.020000000000000007\n",
      "\n",
      "\n"
     ]
    },
    {
     "name": "stderr",
     "output_type": "stream",
     "text": [
      "                                                                                                                        \r"
     ]
    },
    {
     "name": "stdout",
     "output_type": "stream",
     "text": [
      "Epoch 1/20\n",
      "  Train Loss: 1.0416\n",
      "  SAE Train Loss (hidden one): 8.6982\n",
      "  SAE Train Loss (hidden two): 1.1674\n",
      "  Val Loss: 0.6024 | Val Acc: 85.11%\n",
      "  Saved model with Val Acc: 85.11%\n"
     ]
    },
    {
     "name": "stderr",
     "output_type": "stream",
     "text": [
      "                                                                                                                        \r"
     ]
    },
    {
     "name": "stdout",
     "output_type": "stream",
     "text": [
      "Epoch 2/20\n",
      "  Train Loss: 0.5242\n",
      "  SAE Train Loss (hidden one): 0.4417\n",
      "  SAE Train Loss (hidden two): 0.0910\n",
      "  Val Loss: 0.4529 | Val Acc: 87.34%\n",
      "  Saved model with Val Acc: 87.34%\n"
     ]
    },
    {
     "name": "stderr",
     "output_type": "stream",
     "text": [
      "                                                                                                                        \r"
     ]
    },
    {
     "name": "stdout",
     "output_type": "stream",
     "text": [
      "Epoch 3/20\n",
      "  Train Loss: 0.4137\n",
      "  SAE Train Loss (hidden one): 0.4860\n",
      "  SAE Train Loss (hidden two): 0.0814\n",
      "  Val Loss: 0.4117 | Val Acc: 88.55%\n",
      "  Saved model with Val Acc: 88.55%\n"
     ]
    },
    {
     "name": "stderr",
     "output_type": "stream",
     "text": [
      "                                                                                                                        \r"
     ]
    },
    {
     "name": "stdout",
     "output_type": "stream",
     "text": [
      "Epoch 4/20\n",
      "  Train Loss: 0.3765\n",
      "  SAE Train Loss (hidden one): 0.4915\n",
      "  SAE Train Loss (hidden two): 0.0726\n",
      "  Val Loss: 0.3738 | Val Acc: 89.14%\n",
      "  Saved model with Val Acc: 89.14%\n"
     ]
    },
    {
     "name": "stderr",
     "output_type": "stream",
     "text": [
      "                                                                                                                        \r"
     ]
    },
    {
     "name": "stdout",
     "output_type": "stream",
     "text": [
      "Epoch 5/20\n",
      "  Train Loss: 0.3583\n",
      "  SAE Train Loss (hidden one): 0.5346\n",
      "  SAE Train Loss (hidden two): 0.0702\n",
      "  Val Loss: 0.3619 | Val Acc: 89.44%\n",
      "  Saved model with Val Acc: 89.44%\n"
     ]
    },
    {
     "name": "stderr",
     "output_type": "stream",
     "text": [
      "                                                                                                                        \r"
     ]
    },
    {
     "name": "stdout",
     "output_type": "stream",
     "text": [
      "Epoch 6/20\n",
      "  Train Loss: 0.3420\n",
      "  SAE Train Loss (hidden one): 0.5440\n",
      "  SAE Train Loss (hidden two): 0.0676\n",
      "  Val Loss: 0.3306 | Val Acc: 90.68%\n",
      "  Saved model with Val Acc: 90.68%\n"
     ]
    },
    {
     "name": "stderr",
     "output_type": "stream",
     "text": [
      "                                                                                                                        \r"
     ]
    },
    {
     "name": "stdout",
     "output_type": "stream",
     "text": [
      "Epoch 7/20\n",
      "  Train Loss: 0.3327\n",
      "  SAE Train Loss (hidden one): 0.6044\n",
      "  SAE Train Loss (hidden two): 0.0611\n",
      "  Val Loss: 0.3391 | Val Acc: 90.41%\n"
     ]
    },
    {
     "name": "stderr",
     "output_type": "stream",
     "text": [
      "                                                                                                                        \r"
     ]
    },
    {
     "name": "stdout",
     "output_type": "stream",
     "text": [
      "Epoch 8/20\n",
      "  Train Loss: 0.3294\n",
      "  SAE Train Loss (hidden one): 0.5758\n",
      "  SAE Train Loss (hidden two): 0.0582\n",
      "  Val Loss: 0.3522 | Val Acc: 90.13%\n"
     ]
    },
    {
     "name": "stderr",
     "output_type": "stream",
     "text": [
      "                                                                                                                        \r"
     ]
    },
    {
     "name": "stdout",
     "output_type": "stream",
     "text": [
      "Epoch 9/20\n",
      "  Train Loss: 0.3194\n",
      "  SAE Train Loss (hidden one): 0.6128\n",
      "  SAE Train Loss (hidden two): 0.0574\n",
      "  Val Loss: 0.3476 | Val Acc: 89.73%\n"
     ]
    },
    {
     "name": "stderr",
     "output_type": "stream",
     "text": [
      "                                                                                                                        \r"
     ]
    },
    {
     "name": "stdout",
     "output_type": "stream",
     "text": [
      "Epoch 10/20\n",
      "  Train Loss: 0.3156\n",
      "  SAE Train Loss (hidden one): 0.5540\n",
      "  SAE Train Loss (hidden two): 0.0527\n",
      "  Val Loss: 0.3555 | Val Acc: 89.50%\n"
     ]
    },
    {
     "name": "stderr",
     "output_type": "stream",
     "text": [
      "                                                                                                                        \r"
     ]
    },
    {
     "name": "stdout",
     "output_type": "stream",
     "text": [
      "Epoch 11/20\n",
      "  Train Loss: 0.3121\n",
      "  SAE Train Loss (hidden one): 0.5841\n",
      "  SAE Train Loss (hidden two): 0.0522\n",
      "  Val Loss: 0.3290 | Val Acc: 90.72%\n",
      "  Saved model with Val Acc: 90.72%\n"
     ]
    },
    {
     "name": "stderr",
     "output_type": "stream",
     "text": [
      "                                                                                                                        \r"
     ]
    },
    {
     "name": "stdout",
     "output_type": "stream",
     "text": [
      "Epoch 12/20\n",
      "  Train Loss: 0.3049\n",
      "  SAE Train Loss (hidden one): 0.6074\n",
      "  SAE Train Loss (hidden two): 0.0484\n",
      "  Val Loss: 0.3298 | Val Acc: 90.37%\n"
     ]
    },
    {
     "name": "stderr",
     "output_type": "stream",
     "text": [
      "                                                                                                                        \r"
     ]
    },
    {
     "name": "stdout",
     "output_type": "stream",
     "text": [
      "Epoch 13/20\n",
      "  Train Loss: 0.3038\n",
      "  SAE Train Loss (hidden one): 0.5368\n",
      "  SAE Train Loss (hidden two): 0.0462\n",
      "  Val Loss: 0.3188 | Val Acc: 90.88%\n",
      "  Saved model with Val Acc: 90.88%\n"
     ]
    },
    {
     "name": "stderr",
     "output_type": "stream",
     "text": [
      "                                                                                                                        \r"
     ]
    },
    {
     "name": "stdout",
     "output_type": "stream",
     "text": [
      "Epoch 14/20\n",
      "  Train Loss: 0.2990\n",
      "  SAE Train Loss (hidden one): 0.5877\n",
      "  SAE Train Loss (hidden two): 0.0453\n",
      "  Val Loss: 0.3343 | Val Acc: 90.53%\n"
     ]
    },
    {
     "name": "stderr",
     "output_type": "stream",
     "text": [
      "                                                                                                                        \r"
     ]
    },
    {
     "name": "stdout",
     "output_type": "stream",
     "text": [
      "Epoch 15/20\n",
      "  Train Loss: 0.2994\n",
      "  SAE Train Loss (hidden one): 0.6251\n",
      "  SAE Train Loss (hidden two): 0.0454\n",
      "  Val Loss: 0.3281 | Val Acc: 90.66%\n"
     ]
    },
    {
     "name": "stderr",
     "output_type": "stream",
     "text": [
      "                                                                                                                        \r"
     ]
    },
    {
     "name": "stdout",
     "output_type": "stream",
     "text": [
      "Epoch 16/20\n",
      "  Train Loss: 0.2950\n",
      "  SAE Train Loss (hidden one): 0.5192\n",
      "  SAE Train Loss (hidden two): 0.0438\n",
      "  Val Loss: 0.3187 | Val Acc: 90.59%\n"
     ]
    },
    {
     "name": "stderr",
     "output_type": "stream",
     "text": [
      "                                                                                                                        \r"
     ]
    },
    {
     "name": "stdout",
     "output_type": "stream",
     "text": [
      "Epoch 17/20\n",
      "  Train Loss: 0.2917\n",
      "  SAE Train Loss (hidden one): 0.6091\n",
      "  SAE Train Loss (hidden two): 0.0438\n",
      "  Val Loss: 0.3172 | Val Acc: 90.80%\n"
     ]
    },
    {
     "name": "stderr",
     "output_type": "stream",
     "text": [
      "                                                                                                                        \r"
     ]
    },
    {
     "name": "stdout",
     "output_type": "stream",
     "text": [
      "Epoch 18/20\n",
      "  Train Loss: 0.2906\n",
      "  SAE Train Loss (hidden one): 0.5939\n",
      "  SAE Train Loss (hidden two): 0.0419\n",
      "  Val Loss: 0.3158 | Val Acc: 90.63%\n"
     ]
    },
    {
     "name": "stderr",
     "output_type": "stream",
     "text": [
      "                                                                                                                        \r"
     ]
    },
    {
     "name": "stdout",
     "output_type": "stream",
     "text": [
      "Epoch 19/20\n",
      "  Train Loss: 0.2889\n",
      "  SAE Train Loss (hidden one): 0.6129\n",
      "  SAE Train Loss (hidden two): 0.0398\n",
      "  Val Loss: 0.3134 | Val Acc: 90.80%\n"
     ]
    },
    {
     "name": "stderr",
     "output_type": "stream",
     "text": [
      "                                                                                                                        \r"
     ]
    },
    {
     "name": "stdout",
     "output_type": "stream",
     "text": [
      "Epoch 20/20\n",
      "  Train Loss: 0.2889\n",
      "  SAE Train Loss (hidden one): 0.7208\n",
      "  SAE Train Loss (hidden two): 0.0414\n",
      "  Val Loss: 0.3097 | Val Acc: 90.93%\n",
      "  Saved model with Val Acc: 90.93%\n"
     ]
    },
    {
     "name": "stderr",
     "output_type": "stream",
     "text": [
      "Evaluation: 100%|██████████████████████████████████████████████████████████████████████| 79/79 [00:00<00:00, 305.86it/s]\n"
     ]
    },
    {
     "name": "stdout",
     "output_type": "stream",
     "text": [
      "Final Test Accuracy: 91.39%\n",
      "Average Reconstruction Error (Hidden One): 0.0256\n",
      "Average Reconstruction Error (Hidden Two): 0.0057\n",
      "Average Non-Zero Features per Image (Hidden One): 31.99\n",
      "Average Non-Zero Features per Image (Hidden Two): 32.47\n"
     ]
    },
    {
     "name": "stderr",
     "output_type": "stream",
     "text": [
      "/home/alex/.local/lib/python3.10/site-packages/sklearn/linear_model/_logistic.py:469: ConvergenceWarning: lbfgs failed to converge (status=1):\n",
      "STOP: TOTAL NO. of ITERATIONS REACHED LIMIT.\n",
      "\n",
      "Increase the number of iterations (max_iter) or scale the data as shown in:\n",
      "    https://scikit-learn.org/stable/modules/preprocessing.html\n",
      "Please also refer to the documentation for alternative solver options:\n",
      "    https://scikit-learn.org/stable/modules/linear_model.html#logistic-regression\n",
      "  n_iter_i = _check_optimize_result(\n"
     ]
    },
    {
     "name": "stdout",
     "output_type": "stream",
     "text": [
      "Linear Probe Accuracy (Hidden One): 91.36%\n"
     ]
    },
    {
     "name": "stderr",
     "output_type": "stream",
     "text": [
      "/home/alex/.local/lib/python3.10/site-packages/sklearn/linear_model/_logistic.py:469: ConvergenceWarning: lbfgs failed to converge (status=1):\n",
      "STOP: TOTAL NO. of ITERATIONS REACHED LIMIT.\n",
      "\n",
      "Increase the number of iterations (max_iter) or scale the data as shown in:\n",
      "    https://scikit-learn.org/stable/modules/preprocessing.html\n",
      "Please also refer to the documentation for alternative solver options:\n",
      "    https://scikit-learn.org/stable/modules/linear_model.html#logistic-regression\n",
      "  n_iter_i = _check_optimize_result(\n"
     ]
    },
    {
     "name": "stdout",
     "output_type": "stream",
     "text": [
      "Linear Probe Accuracy (Hidden Two): 91.24%\n",
      "\n",
      "##################################################\n",
      "Loss factor: 0.021000000000000008\n",
      "\n",
      "\n"
     ]
    },
    {
     "name": "stderr",
     "output_type": "stream",
     "text": [
      "                                                                                                                        \r"
     ]
    },
    {
     "name": "stdout",
     "output_type": "stream",
     "text": [
      "Epoch 1/20\n",
      "  Train Loss: 1.0610\n",
      "  SAE Train Loss (hidden one): 8.5280\n",
      "  SAE Train Loss (hidden two): 1.1419\n",
      "  Val Loss: 0.6238 | Val Acc: 84.23%\n",
      "  Saved model with Val Acc: 84.23%\n"
     ]
    },
    {
     "name": "stderr",
     "output_type": "stream",
     "text": [
      "                                                                                                                        \r"
     ]
    },
    {
     "name": "stdout",
     "output_type": "stream",
     "text": [
      "Epoch 2/20\n",
      "  Train Loss: 0.5376\n",
      "  SAE Train Loss (hidden one): 0.4043\n",
      "  SAE Train Loss (hidden two): 0.0860\n",
      "  Val Loss: 0.4721 | Val Acc: 86.54%\n",
      "  Saved model with Val Acc: 86.54%\n"
     ]
    },
    {
     "name": "stderr",
     "output_type": "stream",
     "text": [
      "                                                                                                                        \r"
     ]
    },
    {
     "name": "stdout",
     "output_type": "stream",
     "text": [
      "Epoch 3/20\n",
      "  Train Loss: 0.4197\n",
      "  SAE Train Loss (hidden one): 0.5119\n",
      "  SAE Train Loss (hidden two): 0.0802\n",
      "  Val Loss: 0.4039 | Val Acc: 88.35%\n",
      "  Saved model with Val Acc: 88.35%\n"
     ]
    },
    {
     "name": "stderr",
     "output_type": "stream",
     "text": [
      "                                                                                                                        \r"
     ]
    },
    {
     "name": "stdout",
     "output_type": "stream",
     "text": [
      "Epoch 4/20\n",
      "  Train Loss: 0.3778\n",
      "  SAE Train Loss (hidden one): 0.5055\n",
      "  SAE Train Loss (hidden two): 0.0728\n",
      "  Val Loss: 0.3755 | Val Acc: 89.12%\n",
      "  Saved model with Val Acc: 89.12%\n"
     ]
    },
    {
     "name": "stderr",
     "output_type": "stream",
     "text": [
      "                                                                                                                        \r"
     ]
    },
    {
     "name": "stdout",
     "output_type": "stream",
     "text": [
      "Epoch 5/20\n",
      "  Train Loss: 0.3567\n",
      "  SAE Train Loss (hidden one): 0.5708\n",
      "  SAE Train Loss (hidden two): 0.0710\n",
      "  Val Loss: 0.3640 | Val Acc: 89.54%\n",
      "  Saved model with Val Acc: 89.54%\n"
     ]
    },
    {
     "name": "stderr",
     "output_type": "stream",
     "text": [
      "                                                                                                                        \r"
     ]
    },
    {
     "name": "stdout",
     "output_type": "stream",
     "text": [
      "Epoch 6/20\n",
      "  Train Loss: 0.3402\n",
      "  SAE Train Loss (hidden one): 0.5622\n",
      "  SAE Train Loss (hidden two): 0.0661\n",
      "  Val Loss: 0.3425 | Val Acc: 89.95%\n",
      "  Saved model with Val Acc: 89.95%\n"
     ]
    },
    {
     "name": "stderr",
     "output_type": "stream",
     "text": [
      "                                                                                                                        \r"
     ]
    },
    {
     "name": "stdout",
     "output_type": "stream",
     "text": [
      "Epoch 7/20\n",
      "  Train Loss: 0.3310\n",
      "  SAE Train Loss (hidden one): 0.5695\n",
      "  SAE Train Loss (hidden two): 0.0607\n",
      "  Val Loss: 0.3600 | Val Acc: 89.70%\n"
     ]
    },
    {
     "name": "stderr",
     "output_type": "stream",
     "text": [
      "                                                                                                                        \r"
     ]
    },
    {
     "name": "stdout",
     "output_type": "stream",
     "text": [
      "Epoch 8/20\n",
      "  Train Loss: 0.3226\n",
      "  SAE Train Loss (hidden one): 0.5708\n",
      "  SAE Train Loss (hidden two): 0.0609\n",
      "  Val Loss: 0.3330 | Val Acc: 90.48%\n",
      "  Saved model with Val Acc: 90.48%\n"
     ]
    },
    {
     "name": "stderr",
     "output_type": "stream",
     "text": [
      "                                                                                                                        \r"
     ]
    },
    {
     "name": "stdout",
     "output_type": "stream",
     "text": [
      "Epoch 9/20\n",
      "  Train Loss: 0.3178\n",
      "  SAE Train Loss (hidden one): 0.5830\n",
      "  SAE Train Loss (hidden two): 0.0586\n",
      "  Val Loss: 0.3340 | Val Acc: 90.22%\n"
     ]
    },
    {
     "name": "stderr",
     "output_type": "stream",
     "text": [
      "                                                                                                                        \r"
     ]
    },
    {
     "name": "stdout",
     "output_type": "stream",
     "text": [
      "Epoch 10/20\n",
      "  Train Loss: 0.3147\n",
      "  SAE Train Loss (hidden one): 0.5324\n",
      "  SAE Train Loss (hidden two): 0.0551\n",
      "  Val Loss: 0.3407 | Val Acc: 90.18%\n"
     ]
    },
    {
     "name": "stderr",
     "output_type": "stream",
     "text": [
      "                                                                                                                        \r"
     ]
    },
    {
     "name": "stdout",
     "output_type": "stream",
     "text": [
      "Epoch 11/20\n",
      "  Train Loss: 0.3102\n",
      "  SAE Train Loss (hidden one): 0.5999\n",
      "  SAE Train Loss (hidden two): 0.0534\n",
      "  Val Loss: 0.3185 | Val Acc: 90.62%\n",
      "  Saved model with Val Acc: 90.62%\n"
     ]
    },
    {
     "name": "stderr",
     "output_type": "stream",
     "text": [
      "                                                                                                                        \r"
     ]
    },
    {
     "name": "stdout",
     "output_type": "stream",
     "text": [
      "Epoch 12/20\n",
      "  Train Loss: 0.3054\n",
      "  SAE Train Loss (hidden one): 0.6677\n",
      "  SAE Train Loss (hidden two): 0.0520\n",
      "  Val Loss: 0.3180 | Val Acc: 90.72%\n",
      "  Saved model with Val Acc: 90.72%\n"
     ]
    },
    {
     "name": "stderr",
     "output_type": "stream",
     "text": [
      "                                                                                                                        \r"
     ]
    },
    {
     "name": "stdout",
     "output_type": "stream",
     "text": [
      "Epoch 13/20\n",
      "  Train Loss: 0.3034\n",
      "  SAE Train Loss (hidden one): 0.4884\n",
      "  SAE Train Loss (hidden two): 0.0498\n",
      "  Val Loss: 0.3133 | Val Acc: 90.80%\n",
      "  Saved model with Val Acc: 90.80%\n"
     ]
    },
    {
     "name": "stderr",
     "output_type": "stream",
     "text": [
      "                                                                                                                        \r"
     ]
    },
    {
     "name": "stdout",
     "output_type": "stream",
     "text": [
      "Epoch 14/20\n",
      "  Train Loss: 0.3032\n",
      "  SAE Train Loss (hidden one): 0.5377\n",
      "  SAE Train Loss (hidden two): 0.0479\n",
      "  Val Loss: 0.3349 | Val Acc: 90.18%\n"
     ]
    },
    {
     "name": "stderr",
     "output_type": "stream",
     "text": [
      "                                                                                                                        \r"
     ]
    },
    {
     "name": "stdout",
     "output_type": "stream",
     "text": [
      "Epoch 15/20\n",
      "  Train Loss: 0.2982\n",
      "  SAE Train Loss (hidden one): 0.5203\n",
      "  SAE Train Loss (hidden two): 0.0471\n",
      "  Val Loss: 0.3296 | Val Acc: 90.47%\n"
     ]
    },
    {
     "name": "stderr",
     "output_type": "stream",
     "text": [
      "                                                                                                                        \r"
     ]
    },
    {
     "name": "stdout",
     "output_type": "stream",
     "text": [
      "Epoch 16/20\n",
      "  Train Loss: 0.2975\n",
      "  SAE Train Loss (hidden one): 0.6139\n",
      "  SAE Train Loss (hidden two): 0.0455\n",
      "  Val Loss: 0.3117 | Val Acc: 90.66%\n"
     ]
    },
    {
     "name": "stderr",
     "output_type": "stream",
     "text": [
      "                                                                                                                        \r"
     ]
    },
    {
     "name": "stdout",
     "output_type": "stream",
     "text": [
      "Epoch 17/20\n",
      "  Train Loss: 0.2938\n",
      "  SAE Train Loss (hidden one): 0.5901\n",
      "  SAE Train Loss (hidden two): 0.0447\n",
      "  Val Loss: 0.3121 | Val Acc: 90.65%\n"
     ]
    },
    {
     "name": "stderr",
     "output_type": "stream",
     "text": [
      "                                                                                                                        \r"
     ]
    },
    {
     "name": "stdout",
     "output_type": "stream",
     "text": [
      "Epoch 18/20\n",
      "  Train Loss: 0.2924\n",
      "  SAE Train Loss (hidden one): 0.5983\n",
      "  SAE Train Loss (hidden two): 0.0422\n",
      "  Val Loss: 0.3116 | Val Acc: 90.80%\n",
      "  Saved model with same Val Acc: 90.80% but lower Val Loss: 0.3116\n"
     ]
    },
    {
     "name": "stderr",
     "output_type": "stream",
     "text": [
      "                                                                                                                        \r"
     ]
    },
    {
     "name": "stdout",
     "output_type": "stream",
     "text": [
      "Epoch 19/20\n",
      "  Train Loss: 0.2921\n",
      "  SAE Train Loss (hidden one): 0.5279\n",
      "  SAE Train Loss (hidden two): 0.0431\n",
      "  Val Loss: 0.3236 | Val Acc: 90.29%\n"
     ]
    },
    {
     "name": "stderr",
     "output_type": "stream",
     "text": [
      "                                                                                                                        \r"
     ]
    },
    {
     "name": "stdout",
     "output_type": "stream",
     "text": [
      "Epoch 20/20\n",
      "  Train Loss: 0.2881\n",
      "  SAE Train Loss (hidden one): 0.6302\n",
      "  SAE Train Loss (hidden two): 0.0413\n",
      "  Val Loss: 0.3181 | Val Acc: 90.47%\n"
     ]
    },
    {
     "name": "stderr",
     "output_type": "stream",
     "text": [
      "Evaluation: 100%|██████████████████████████████████████████████████████████████████████| 79/79 [00:00<00:00, 295.94it/s]"
     ]
    },
    {
     "name": "stdout",
     "output_type": "stream",
     "text": [
      "Final Test Accuracy: 91.07%\n",
      "Average Reconstruction Error (Hidden One): 0.2868\n",
      "Average Reconstruction Error (Hidden Two): 0.0110\n",
      "Average Non-Zero Features per Image (Hidden One): 32.48\n",
      "Average Non-Zero Features per Image (Hidden Two): 33.77\n"
     ]
    },
    {
     "name": "stderr",
     "output_type": "stream",
     "text": [
      "\n",
      "/home/alex/.local/lib/python3.10/site-packages/sklearn/linear_model/_logistic.py:469: ConvergenceWarning: lbfgs failed to converge (status=1):\n",
      "STOP: TOTAL NO. of ITERATIONS REACHED LIMIT.\n",
      "\n",
      "Increase the number of iterations (max_iter) or scale the data as shown in:\n",
      "    https://scikit-learn.org/stable/modules/preprocessing.html\n",
      "Please also refer to the documentation for alternative solver options:\n",
      "    https://scikit-learn.org/stable/modules/linear_model.html#logistic-regression\n",
      "  n_iter_i = _check_optimize_result(\n"
     ]
    },
    {
     "name": "stdout",
     "output_type": "stream",
     "text": [
      "Linear Probe Accuracy (Hidden One): 91.37%\n"
     ]
    },
    {
     "name": "stderr",
     "output_type": "stream",
     "text": [
      "/home/alex/.local/lib/python3.10/site-packages/sklearn/linear_model/_logistic.py:469: ConvergenceWarning: lbfgs failed to converge (status=1):\n",
      "STOP: TOTAL NO. of ITERATIONS REACHED LIMIT.\n",
      "\n",
      "Increase the number of iterations (max_iter) or scale the data as shown in:\n",
      "    https://scikit-learn.org/stable/modules/preprocessing.html\n",
      "Please also refer to the documentation for alternative solver options:\n",
      "    https://scikit-learn.org/stable/modules/linear_model.html#logistic-regression\n",
      "  n_iter_i = _check_optimize_result(\n"
     ]
    },
    {
     "name": "stdout",
     "output_type": "stream",
     "text": [
      "Linear Probe Accuracy (Hidden Two): 89.88%\n",
      "\n",
      "##################################################\n",
      "Loss factor: 0.02200000000000001\n",
      "\n",
      "\n"
     ]
    },
    {
     "name": "stderr",
     "output_type": "stream",
     "text": [
      "                                                                                                                        \r"
     ]
    },
    {
     "name": "stdout",
     "output_type": "stream",
     "text": [
      "Epoch 1/20\n",
      "  Train Loss: 1.0712\n",
      "  SAE Train Loss (hidden one): 8.8428\n",
      "  SAE Train Loss (hidden two): 1.1429\n",
      "  Val Loss: 0.6063 | Val Acc: 84.95%\n",
      "  Saved model with Val Acc: 84.95%\n"
     ]
    },
    {
     "name": "stderr",
     "output_type": "stream",
     "text": [
      "                                                                                                                        \r"
     ]
    },
    {
     "name": "stdout",
     "output_type": "stream",
     "text": [
      "Epoch 2/20\n",
      "  Train Loss: 0.5083\n",
      "  SAE Train Loss (hidden one): 0.6096\n",
      "  SAE Train Loss (hidden two): 0.0973\n",
      "  Val Loss: 0.4213 | Val Acc: 89.01%\n",
      "  Saved model with Val Acc: 89.01%\n"
     ]
    },
    {
     "name": "stderr",
     "output_type": "stream",
     "text": [
      "                                                                                                                        \r"
     ]
    },
    {
     "name": "stdout",
     "output_type": "stream",
     "text": [
      "Epoch 3/20\n",
      "  Train Loss: 0.4022\n",
      "  SAE Train Loss (hidden one): 0.5443\n",
      "  SAE Train Loss (hidden two): 0.0747\n",
      "  Val Loss: 0.3685 | Val Acc: 89.96%\n",
      "  Saved model with Val Acc: 89.96%\n"
     ]
    },
    {
     "name": "stderr",
     "output_type": "stream",
     "text": [
      "                                                                                                                        \r"
     ]
    },
    {
     "name": "stdout",
     "output_type": "stream",
     "text": [
      "Epoch 4/20\n",
      "  Train Loss: 0.3622\n",
      "  SAE Train Loss (hidden one): 0.6052\n",
      "  SAE Train Loss (hidden two): 0.0712\n",
      "  Val Loss: 0.3404 | Val Acc: 90.35%\n",
      "  Saved model with Val Acc: 90.35%\n"
     ]
    },
    {
     "name": "stderr",
     "output_type": "stream",
     "text": [
      "                                                                                                                        \r"
     ]
    },
    {
     "name": "stdout",
     "output_type": "stream",
     "text": [
      "Epoch 5/20\n",
      "  Train Loss: 0.3413\n",
      "  SAE Train Loss (hidden one): 0.6395\n",
      "  SAE Train Loss (hidden two): 0.0671\n",
      "  Val Loss: 0.3269 | Val Acc: 90.93%\n",
      "  Saved model with Val Acc: 90.93%\n"
     ]
    },
    {
     "name": "stderr",
     "output_type": "stream",
     "text": [
      "                                                                                                                        \r"
     ]
    },
    {
     "name": "stdout",
     "output_type": "stream",
     "text": [
      "Epoch 6/20\n",
      "  Train Loss: 0.3254\n",
      "  SAE Train Loss (hidden one): 0.6195\n",
      "  SAE Train Loss (hidden two): 0.0631\n",
      "  Val Loss: 0.3286 | Val Acc: 90.64%\n"
     ]
    },
    {
     "name": "stderr",
     "output_type": "stream",
     "text": [
      "                                                                                                                        \r"
     ]
    },
    {
     "name": "stdout",
     "output_type": "stream",
     "text": [
      "Epoch 7/20\n",
      "  Train Loss: 0.3232\n",
      "  SAE Train Loss (hidden one): 0.6662\n",
      "  SAE Train Loss (hidden two): 0.0595\n",
      "  Val Loss: 0.3219 | Val Acc: 90.93%\n",
      "  Saved model with same Val Acc: 90.93% but lower Val Loss: 0.3219\n"
     ]
    },
    {
     "name": "stderr",
     "output_type": "stream",
     "text": [
      "                                                                                                                        \r"
     ]
    },
    {
     "name": "stdout",
     "output_type": "stream",
     "text": [
      "Epoch 8/20\n",
      "  Train Loss: 0.3137\n",
      "  SAE Train Loss (hidden one): 0.6983\n",
      "  SAE Train Loss (hidden two): 0.0596\n",
      "  Val Loss: 0.3190 | Val Acc: 91.11%\n",
      "  Saved model with Val Acc: 91.11%\n"
     ]
    },
    {
     "name": "stderr",
     "output_type": "stream",
     "text": [
      "                                                                                                                        \r"
     ]
    },
    {
     "name": "stdout",
     "output_type": "stream",
     "text": [
      "Epoch 9/20\n",
      "  Train Loss: 0.3092\n",
      "  SAE Train Loss (hidden one): 0.7041\n",
      "  SAE Train Loss (hidden two): 0.0574\n",
      "  Val Loss: 0.3291 | Val Acc: 90.82%\n"
     ]
    },
    {
     "name": "stderr",
     "output_type": "stream",
     "text": [
      "                                                                                                                        \r"
     ]
    },
    {
     "name": "stdout",
     "output_type": "stream",
     "text": [
      "Epoch 10/20\n",
      "  Train Loss: 0.3025\n",
      "  SAE Train Loss (hidden one): 0.6824\n",
      "  SAE Train Loss (hidden two): 0.0553\n",
      "  Val Loss: 0.3133 | Val Acc: 91.05%\n"
     ]
    },
    {
     "name": "stderr",
     "output_type": "stream",
     "text": [
      "                                                                                                                        \r"
     ]
    },
    {
     "name": "stdout",
     "output_type": "stream",
     "text": [
      "Epoch 11/20\n",
      "  Train Loss: 0.2945\n",
      "  SAE Train Loss (hidden one): 0.7413\n",
      "  SAE Train Loss (hidden two): 0.0562\n",
      "  Val Loss: 0.3307 | Val Acc: 90.70%\n"
     ]
    },
    {
     "name": "stderr",
     "output_type": "stream",
     "text": [
      "                                                                                                                        \r"
     ]
    },
    {
     "name": "stdout",
     "output_type": "stream",
     "text": [
      "Epoch 12/20\n",
      "  Train Loss: 0.2916\n",
      "  SAE Train Loss (hidden one): 0.7620\n",
      "  SAE Train Loss (hidden two): 0.0529\n",
      "  Val Loss: 0.3031 | Val Acc: 91.19%\n",
      "  Saved model with Val Acc: 91.19%\n"
     ]
    },
    {
     "name": "stderr",
     "output_type": "stream",
     "text": [
      "                                                                                                                        \r"
     ]
    },
    {
     "name": "stdout",
     "output_type": "stream",
     "text": [
      "Epoch 13/20\n",
      "  Train Loss: 0.2897\n",
      "  SAE Train Loss (hidden one): 0.6802\n",
      "  SAE Train Loss (hidden two): 0.0529\n",
      "  Val Loss: 0.3062 | Val Acc: 91.11%\n"
     ]
    },
    {
     "name": "stderr",
     "output_type": "stream",
     "text": [
      "                                                                                                                        \r"
     ]
    },
    {
     "name": "stdout",
     "output_type": "stream",
     "text": [
      "Epoch 14/20\n",
      "  Train Loss: 0.2815\n",
      "  SAE Train Loss (hidden one): 0.8016\n",
      "  SAE Train Loss (hidden two): 0.0499\n",
      "  Val Loss: 0.3107 | Val Acc: 91.10%\n"
     ]
    },
    {
     "name": "stderr",
     "output_type": "stream",
     "text": [
      "                                                                                                                        \r"
     ]
    },
    {
     "name": "stdout",
     "output_type": "stream",
     "text": [
      "Epoch 15/20\n",
      "  Train Loss: 0.2828\n",
      "  SAE Train Loss (hidden one): 0.6402\n",
      "  SAE Train Loss (hidden two): 0.0499\n",
      "  Val Loss: 0.2979 | Val Acc: 91.67%\n",
      "  Saved model with Val Acc: 91.67%\n"
     ]
    },
    {
     "name": "stderr",
     "output_type": "stream",
     "text": [
      "                                                                                                                        \r"
     ]
    },
    {
     "name": "stdout",
     "output_type": "stream",
     "text": [
      "Epoch 16/20\n",
      "  Train Loss: 0.2781\n",
      "  SAE Train Loss (hidden one): 0.7420\n",
      "  SAE Train Loss (hidden two): 0.0503\n",
      "  Val Loss: 0.2939 | Val Acc: 91.76%\n",
      "  Saved model with Val Acc: 91.76%\n"
     ]
    },
    {
     "name": "stderr",
     "output_type": "stream",
     "text": [
      "                                                                                                                        \r"
     ]
    },
    {
     "name": "stdout",
     "output_type": "stream",
     "text": [
      "Epoch 17/20\n",
      "  Train Loss: 0.2747\n",
      "  SAE Train Loss (hidden one): 0.8068\n",
      "  SAE Train Loss (hidden two): 0.0474\n",
      "  Val Loss: 0.2970 | Val Acc: 91.54%\n"
     ]
    },
    {
     "name": "stderr",
     "output_type": "stream",
     "text": [
      "                                                                                                                        \r"
     ]
    },
    {
     "name": "stdout",
     "output_type": "stream",
     "text": [
      "Epoch 18/20\n",
      "  Train Loss: 0.2735\n",
      "  SAE Train Loss (hidden one): 0.6912\n",
      "  SAE Train Loss (hidden two): 0.0477\n",
      "  Val Loss: 0.2902 | Val Acc: 91.71%\n"
     ]
    },
    {
     "name": "stderr",
     "output_type": "stream",
     "text": [
      "                                                                                                                        \r"
     ]
    },
    {
     "name": "stdout",
     "output_type": "stream",
     "text": [
      "Epoch 19/20\n",
      "  Train Loss: 0.2698\n",
      "  SAE Train Loss (hidden one): 0.7250\n",
      "  SAE Train Loss (hidden two): 0.0472\n",
      "  Val Loss: 0.2889 | Val Acc: 91.81%\n",
      "  Saved model with Val Acc: 91.81%\n"
     ]
    },
    {
     "name": "stderr",
     "output_type": "stream",
     "text": [
      "                                                                                                                        \r"
     ]
    },
    {
     "name": "stdout",
     "output_type": "stream",
     "text": [
      "Epoch 20/20\n",
      "  Train Loss: 0.2668\n",
      "  SAE Train Loss (hidden one): 0.7098\n",
      "  SAE Train Loss (hidden two): 0.0435\n",
      "  Val Loss: 0.2916 | Val Acc: 91.80%\n"
     ]
    },
    {
     "name": "stderr",
     "output_type": "stream",
     "text": [
      "Evaluation: 100%|██████████████████████████████████████████████████████████████████████| 79/79 [00:00<00:00, 322.08it/s]\n"
     ]
    },
    {
     "name": "stdout",
     "output_type": "stream",
     "text": [
      "Final Test Accuracy: 92.07%\n",
      "Average Reconstruction Error (Hidden One): 0.1787\n",
      "Average Reconstruction Error (Hidden Two): 0.0114\n",
      "Average Non-Zero Features per Image (Hidden One): 33.90\n",
      "Average Non-Zero Features per Image (Hidden Two): 33.04\n"
     ]
    },
    {
     "name": "stderr",
     "output_type": "stream",
     "text": [
      "/home/alex/.local/lib/python3.10/site-packages/sklearn/linear_model/_logistic.py:469: ConvergenceWarning: lbfgs failed to converge (status=1):\n",
      "STOP: TOTAL NO. of ITERATIONS REACHED LIMIT.\n",
      "\n",
      "Increase the number of iterations (max_iter) or scale the data as shown in:\n",
      "    https://scikit-learn.org/stable/modules/preprocessing.html\n",
      "Please also refer to the documentation for alternative solver options:\n",
      "    https://scikit-learn.org/stable/modules/linear_model.html#logistic-regression\n",
      "  n_iter_i = _check_optimize_result(\n"
     ]
    },
    {
     "name": "stdout",
     "output_type": "stream",
     "text": [
      "Linear Probe Accuracy (Hidden One): 92.15%\n"
     ]
    },
    {
     "name": "stderr",
     "output_type": "stream",
     "text": [
      "/home/alex/.local/lib/python3.10/site-packages/sklearn/linear_model/_logistic.py:469: ConvergenceWarning: lbfgs failed to converge (status=1):\n",
      "STOP: TOTAL NO. of ITERATIONS REACHED LIMIT.\n",
      "\n",
      "Increase the number of iterations (max_iter) or scale the data as shown in:\n",
      "    https://scikit-learn.org/stable/modules/preprocessing.html\n",
      "Please also refer to the documentation for alternative solver options:\n",
      "    https://scikit-learn.org/stable/modules/linear_model.html#logistic-regression\n",
      "  n_iter_i = _check_optimize_result(\n"
     ]
    },
    {
     "name": "stdout",
     "output_type": "stream",
     "text": [
      "Linear Probe Accuracy (Hidden Two): 92.21%\n",
      "\n",
      "##################################################\n",
      "Loss factor: 0.02300000000000001\n",
      "\n",
      "\n"
     ]
    },
    {
     "name": "stderr",
     "output_type": "stream",
     "text": [
      "                                                                                                                        \r"
     ]
    },
    {
     "name": "stdout",
     "output_type": "stream",
     "text": [
      "Epoch 1/20\n",
      "  Train Loss: 1.0297\n",
      "  SAE Train Loss (hidden one): 8.7839\n",
      "  SAE Train Loss (hidden two): 1.1782\n",
      "  Val Loss: 0.5581 | Val Acc: 84.61%\n",
      "  Saved model with Val Acc: 84.61%\n"
     ]
    },
    {
     "name": "stderr",
     "output_type": "stream",
     "text": [
      "                                                                                                                        \r"
     ]
    },
    {
     "name": "stdout",
     "output_type": "stream",
     "text": [
      "Epoch 2/20\n",
      "  Train Loss: 0.4496\n",
      "  SAE Train Loss (hidden one): 0.5775\n",
      "  SAE Train Loss (hidden two): 0.1094\n",
      "  Val Loss: 0.3886 | Val Acc: 88.54%\n",
      "  Saved model with Val Acc: 88.54%\n"
     ]
    },
    {
     "name": "stderr",
     "output_type": "stream",
     "text": [
      "                                                                                                                        \r"
     ]
    },
    {
     "name": "stdout",
     "output_type": "stream",
     "text": [
      "Epoch 3/20\n",
      "  Train Loss: 0.3743\n",
      "  SAE Train Loss (hidden one): 0.6395\n",
      "  SAE Train Loss (hidden two): 0.1050\n",
      "  Val Loss: 0.3707 | Val Acc: 89.72%\n",
      "  Saved model with Val Acc: 89.72%\n"
     ]
    },
    {
     "name": "stderr",
     "output_type": "stream",
     "text": [
      "                                                                                                                        \r"
     ]
    },
    {
     "name": "stdout",
     "output_type": "stream",
     "text": [
      "Epoch 4/20\n",
      "  Train Loss: 0.3458\n",
      "  SAE Train Loss (hidden one): 0.6484\n",
      "  SAE Train Loss (hidden two): 0.0972\n",
      "  Val Loss: 0.3605 | Val Acc: 89.15%\n"
     ]
    },
    {
     "name": "stderr",
     "output_type": "stream",
     "text": [
      "                                                                                                                        \r"
     ]
    },
    {
     "name": "stdout",
     "output_type": "stream",
     "text": [
      "Epoch 5/20\n",
      "  Train Loss: 0.3304\n",
      "  SAE Train Loss (hidden one): 0.6404\n",
      "  SAE Train Loss (hidden two): 0.0900\n",
      "  Val Loss: 0.3283 | Val Acc: 90.38%\n",
      "  Saved model with Val Acc: 90.38%\n"
     ]
    },
    {
     "name": "stderr",
     "output_type": "stream",
     "text": [
      "                                                                                                                        \r"
     ]
    },
    {
     "name": "stdout",
     "output_type": "stream",
     "text": [
      "Epoch 6/20\n",
      "  Train Loss: 0.3160\n",
      "  SAE Train Loss (hidden one): 0.6743\n",
      "  SAE Train Loss (hidden two): 0.0848\n",
      "  Val Loss: 0.3090 | Val Acc: 91.01%\n",
      "  Saved model with Val Acc: 91.01%\n"
     ]
    },
    {
     "name": "stderr",
     "output_type": "stream",
     "text": [
      "                                                                                                                        \r"
     ]
    },
    {
     "name": "stdout",
     "output_type": "stream",
     "text": [
      "Epoch 7/20\n",
      "  Train Loss: 0.3083\n",
      "  SAE Train Loss (hidden one): 0.7427\n",
      "  SAE Train Loss (hidden two): 0.0831\n",
      "  Val Loss: 0.3299 | Val Acc: 90.54%\n"
     ]
    },
    {
     "name": "stderr",
     "output_type": "stream",
     "text": [
      "                                                                                                                        \r"
     ]
    },
    {
     "name": "stdout",
     "output_type": "stream",
     "text": [
      "Epoch 8/20\n",
      "  Train Loss: 0.3046\n",
      "  SAE Train Loss (hidden one): 0.6292\n",
      "  SAE Train Loss (hidden two): 0.0772\n",
      "  Val Loss: 0.3039 | Val Acc: 91.17%\n",
      "  Saved model with Val Acc: 91.17%\n"
     ]
    },
    {
     "name": "stderr",
     "output_type": "stream",
     "text": [
      "                                                                                                                        \r"
     ]
    },
    {
     "name": "stdout",
     "output_type": "stream",
     "text": [
      "Epoch 9/20\n",
      "  Train Loss: 0.2974\n",
      "  SAE Train Loss (hidden one): 0.6555\n",
      "  SAE Train Loss (hidden two): 0.0734\n",
      "  Val Loss: 0.3141 | Val Acc: 91.00%\n"
     ]
    },
    {
     "name": "stderr",
     "output_type": "stream",
     "text": [
      "                                                                                                                        \r"
     ]
    },
    {
     "name": "stdout",
     "output_type": "stream",
     "text": [
      "Epoch 10/20\n",
      "  Train Loss: 0.2954\n",
      "  SAE Train Loss (hidden one): 0.6914\n",
      "  SAE Train Loss (hidden two): 0.0714\n",
      "  Val Loss: 0.3310 | Val Acc: 90.32%\n"
     ]
    },
    {
     "name": "stderr",
     "output_type": "stream",
     "text": [
      "                                                                                                                        \r"
     ]
    },
    {
     "name": "stdout",
     "output_type": "stream",
     "text": [
      "Epoch 11/20\n",
      "  Train Loss: 0.2896\n",
      "  SAE Train Loss (hidden one): 0.6497\n",
      "  SAE Train Loss (hidden two): 0.0701\n",
      "  Val Loss: 0.3108 | Val Acc: 90.70%\n"
     ]
    },
    {
     "name": "stderr",
     "output_type": "stream",
     "text": [
      "                                                                                                                        \r"
     ]
    },
    {
     "name": "stdout",
     "output_type": "stream",
     "text": [
      "Epoch 12/20\n",
      "  Train Loss: 0.2853\n",
      "  SAE Train Loss (hidden one): 0.6976\n",
      "  SAE Train Loss (hidden two): 0.0683\n",
      "  Val Loss: 0.3043 | Val Acc: 91.26%\n",
      "  Saved model with Val Acc: 91.26%\n"
     ]
    },
    {
     "name": "stderr",
     "output_type": "stream",
     "text": [
      "                                                                                                                        \r"
     ]
    },
    {
     "name": "stdout",
     "output_type": "stream",
     "text": [
      "Epoch 13/20\n",
      "  Train Loss: 0.2818\n",
      "  SAE Train Loss (hidden one): 0.6601\n",
      "  SAE Train Loss (hidden two): 0.0671\n",
      "  Val Loss: 0.3002 | Val Acc: 91.12%\n"
     ]
    },
    {
     "name": "stderr",
     "output_type": "stream",
     "text": [
      "                                                                                                                        \r"
     ]
    },
    {
     "name": "stdout",
     "output_type": "stream",
     "text": [
      "Epoch 14/20\n",
      "  Train Loss: 0.2798\n",
      "  SAE Train Loss (hidden one): 0.6905\n",
      "  SAE Train Loss (hidden two): 0.0630\n",
      "  Val Loss: 0.3250 | Val Acc: 90.84%\n"
     ]
    },
    {
     "name": "stderr",
     "output_type": "stream",
     "text": [
      "                                                                                                                        \r"
     ]
    },
    {
     "name": "stdout",
     "output_type": "stream",
     "text": [
      "Epoch 15/20\n",
      "  Train Loss: 0.2773\n",
      "  SAE Train Loss (hidden one): 0.6507\n",
      "  SAE Train Loss (hidden two): 0.0592\n",
      "  Val Loss: 0.3190 | Val Acc: 90.73%\n"
     ]
    },
    {
     "name": "stderr",
     "output_type": "stream",
     "text": [
      "                                                                                                                        \r"
     ]
    },
    {
     "name": "stdout",
     "output_type": "stream",
     "text": [
      "Epoch 16/20\n",
      "  Train Loss: 0.2743\n",
      "  SAE Train Loss (hidden one): 0.7206\n",
      "  SAE Train Loss (hidden two): 0.0594\n",
      "  Val Loss: 0.3264 | Val Acc: 90.53%\n"
     ]
    },
    {
     "name": "stderr",
     "output_type": "stream",
     "text": [
      "                                                                                                                        \r"
     ]
    },
    {
     "name": "stdout",
     "output_type": "stream",
     "text": [
      "Epoch 17/20\n",
      "  Train Loss: 0.2697\n",
      "  SAE Train Loss (hidden one): 0.7412\n",
      "  SAE Train Loss (hidden two): 0.0575\n",
      "  Val Loss: 0.2924 | Val Acc: 91.48%\n",
      "  Saved model with Val Acc: 91.48%\n"
     ]
    },
    {
     "name": "stderr",
     "output_type": "stream",
     "text": [
      "                                                                                                                        \r"
     ]
    },
    {
     "name": "stdout",
     "output_type": "stream",
     "text": [
      "Epoch 18/20\n",
      "  Train Loss: 0.2681\n",
      "  SAE Train Loss (hidden one): 0.7600\n",
      "  SAE Train Loss (hidden two): 0.0581\n",
      "  Val Loss: 0.3009 | Val Acc: 91.43%\n"
     ]
    },
    {
     "name": "stderr",
     "output_type": "stream",
     "text": [
      "                                                                                                                        \r"
     ]
    },
    {
     "name": "stdout",
     "output_type": "stream",
     "text": [
      "Epoch 19/20\n",
      "  Train Loss: 0.2659\n",
      "  SAE Train Loss (hidden one): 0.6498\n",
      "  SAE Train Loss (hidden two): 0.0534\n",
      "  Val Loss: 0.2891 | Val Acc: 91.49%\n",
      "  Saved model with Val Acc: 91.49%\n"
     ]
    },
    {
     "name": "stderr",
     "output_type": "stream",
     "text": [
      "                                                                                                                        \r"
     ]
    },
    {
     "name": "stdout",
     "output_type": "stream",
     "text": [
      "Epoch 20/20\n",
      "  Train Loss: 0.2619\n",
      "  SAE Train Loss (hidden one): 0.7527\n",
      "  SAE Train Loss (hidden two): 0.0540\n",
      "  Val Loss: 0.2990 | Val Acc: 91.16%\n"
     ]
    },
    {
     "name": "stderr",
     "output_type": "stream",
     "text": [
      "Evaluation: 100%|██████████████████████████████████████████████████████████████████████| 79/79 [00:00<00:00, 297.04it/s]"
     ]
    },
    {
     "name": "stdout",
     "output_type": "stream",
     "text": [
      "Final Test Accuracy: 91.80%\n",
      "Average Reconstruction Error (Hidden One): 0.5273\n",
      "Average Reconstruction Error (Hidden Two): 0.0090\n",
      "Average Non-Zero Features per Image (Hidden One): 33.68\n",
      "Average Non-Zero Features per Image (Hidden Two): 34.72\n"
     ]
    },
    {
     "name": "stderr",
     "output_type": "stream",
     "text": [
      "\n",
      "/home/alex/.local/lib/python3.10/site-packages/sklearn/linear_model/_logistic.py:469: ConvergenceWarning: lbfgs failed to converge (status=1):\n",
      "STOP: TOTAL NO. of ITERATIONS REACHED LIMIT.\n",
      "\n",
      "Increase the number of iterations (max_iter) or scale the data as shown in:\n",
      "    https://scikit-learn.org/stable/modules/preprocessing.html\n",
      "Please also refer to the documentation for alternative solver options:\n",
      "    https://scikit-learn.org/stable/modules/linear_model.html#logistic-regression\n",
      "  n_iter_i = _check_optimize_result(\n"
     ]
    },
    {
     "name": "stdout",
     "output_type": "stream",
     "text": [
      "Linear Probe Accuracy (Hidden One): 92.24%\n"
     ]
    },
    {
     "name": "stderr",
     "output_type": "stream",
     "text": [
      "/home/alex/.local/lib/python3.10/site-packages/sklearn/linear_model/_logistic.py:469: ConvergenceWarning: lbfgs failed to converge (status=1):\n",
      "STOP: TOTAL NO. of ITERATIONS REACHED LIMIT.\n",
      "\n",
      "Increase the number of iterations (max_iter) or scale the data as shown in:\n",
      "    https://scikit-learn.org/stable/modules/preprocessing.html\n",
      "Please also refer to the documentation for alternative solver options:\n",
      "    https://scikit-learn.org/stable/modules/linear_model.html#logistic-regression\n",
      "  n_iter_i = _check_optimize_result(\n"
     ]
    },
    {
     "name": "stdout",
     "output_type": "stream",
     "text": [
      "Linear Probe Accuracy (Hidden Two): 92.23%\n",
      "\n",
      "##################################################\n",
      "Loss factor: 0.02400000000000001\n",
      "\n",
      "\n"
     ]
    },
    {
     "name": "stderr",
     "output_type": "stream",
     "text": [
      "                                                                                                                        \r"
     ]
    },
    {
     "name": "stdout",
     "output_type": "stream",
     "text": [
      "Epoch 1/20\n",
      "  Train Loss: 1.0459\n",
      "  SAE Train Loss (hidden one): 8.6939\n",
      "  SAE Train Loss (hidden two): 1.1740\n",
      "  Val Loss: 0.6186 | Val Acc: 84.54%\n",
      "  Saved model with Val Acc: 84.54%\n"
     ]
    },
    {
     "name": "stderr",
     "output_type": "stream",
     "text": [
      "                                                                                                                        \r"
     ]
    },
    {
     "name": "stdout",
     "output_type": "stream",
     "text": [
      "Epoch 2/20\n",
      "  Train Loss: 0.5171\n",
      "  SAE Train Loss (hidden one): 0.4663\n",
      "  SAE Train Loss (hidden two): 0.0948\n",
      "  Val Loss: 0.4382 | Val Acc: 87.82%\n",
      "  Saved model with Val Acc: 87.82%\n"
     ]
    },
    {
     "name": "stderr",
     "output_type": "stream",
     "text": [
      "                                                                                                                        \r"
     ]
    },
    {
     "name": "stdout",
     "output_type": "stream",
     "text": [
      "Epoch 3/20\n",
      "  Train Loss: 0.4112\n",
      "  SAE Train Loss (hidden one): 0.4751\n",
      "  SAE Train Loss (hidden two): 0.0772\n",
      "  Val Loss: 0.4304 | Val Acc: 88.42%\n",
      "  Saved model with Val Acc: 88.42%\n"
     ]
    },
    {
     "name": "stderr",
     "output_type": "stream",
     "text": [
      "                                                                                                                        \r"
     ]
    },
    {
     "name": "stdout",
     "output_type": "stream",
     "text": [
      "Epoch 4/20\n",
      "  Train Loss: 0.3823\n",
      "  SAE Train Loss (hidden one): 0.5031\n",
      "  SAE Train Loss (hidden two): 0.0713\n",
      "  Val Loss: 0.3718 | Val Acc: 89.44%\n",
      "  Saved model with Val Acc: 89.44%\n"
     ]
    },
    {
     "name": "stderr",
     "output_type": "stream",
     "text": [
      "                                                                                                                        \r"
     ]
    },
    {
     "name": "stdout",
     "output_type": "stream",
     "text": [
      "Epoch 5/20\n",
      "  Train Loss: 0.3591\n",
      "  SAE Train Loss (hidden one): 0.5113\n",
      "  SAE Train Loss (hidden two): 0.0669\n",
      "  Val Loss: 0.3415 | Val Acc: 90.08%\n",
      "  Saved model with Val Acc: 90.08%\n"
     ]
    },
    {
     "name": "stderr",
     "output_type": "stream",
     "text": [
      "                                                                                                                        \r"
     ]
    },
    {
     "name": "stdout",
     "output_type": "stream",
     "text": [
      "Epoch 6/20\n",
      "  Train Loss: 0.3408\n",
      "  SAE Train Loss (hidden one): 0.5504\n",
      "  SAE Train Loss (hidden two): 0.0639\n",
      "  Val Loss: 0.3350 | Val Acc: 90.61%\n",
      "  Saved model with Val Acc: 90.61%\n"
     ]
    },
    {
     "name": "stderr",
     "output_type": "stream",
     "text": [
      "                                                                                                                        \r"
     ]
    },
    {
     "name": "stdout",
     "output_type": "stream",
     "text": [
      "Epoch 7/20\n",
      "  Train Loss: 0.3306\n",
      "  SAE Train Loss (hidden one): 0.5248\n",
      "  SAE Train Loss (hidden two): 0.0595\n",
      "  Val Loss: 0.3379 | Val Acc: 90.61%\n"
     ]
    },
    {
     "name": "stderr",
     "output_type": "stream",
     "text": [
      "                                                                                                                        \r"
     ]
    },
    {
     "name": "stdout",
     "output_type": "stream",
     "text": [
      "Epoch 8/20\n",
      "  Train Loss: 0.3225\n",
      "  SAE Train Loss (hidden one): 0.5138\n",
      "  SAE Train Loss (hidden two): 0.0576\n",
      "  Val Loss: 0.3220 | Val Acc: 90.78%\n",
      "  Saved model with Val Acc: 90.78%\n"
     ]
    },
    {
     "name": "stderr",
     "output_type": "stream",
     "text": [
      "                                                                                                                        \r"
     ]
    },
    {
     "name": "stdout",
     "output_type": "stream",
     "text": [
      "Epoch 9/20\n",
      "  Train Loss: 0.3135\n",
      "  SAE Train Loss (hidden one): 0.5430\n",
      "  SAE Train Loss (hidden two): 0.0547\n",
      "  Val Loss: 0.3564 | Val Acc: 89.89%\n"
     ]
    },
    {
     "name": "stderr",
     "output_type": "stream",
     "text": [
      "                                                                                                                        \r"
     ]
    },
    {
     "name": "stdout",
     "output_type": "stream",
     "text": [
      "Epoch 10/20\n",
      "  Train Loss: 0.3109\n",
      "  SAE Train Loss (hidden one): 0.4944\n",
      "  SAE Train Loss (hidden two): 0.0534\n",
      "  Val Loss: 0.3546 | Val Acc: 90.04%\n"
     ]
    },
    {
     "name": "stderr",
     "output_type": "stream",
     "text": [
      "                                                                                                                        \r"
     ]
    },
    {
     "name": "stdout",
     "output_type": "stream",
     "text": [
      "Epoch 11/20\n",
      "  Train Loss: 0.3051\n",
      "  SAE Train Loss (hidden one): 0.5457\n",
      "  SAE Train Loss (hidden two): 0.0532\n",
      "  Val Loss: 0.3174 | Val Acc: 91.01%\n",
      "  Saved model with Val Acc: 91.01%\n"
     ]
    },
    {
     "name": "stderr",
     "output_type": "stream",
     "text": [
      "                                                                                                                        \r"
     ]
    },
    {
     "name": "stdout",
     "output_type": "stream",
     "text": [
      "Epoch 12/20\n",
      "  Train Loss: 0.3002\n",
      "  SAE Train Loss (hidden one): 0.5349\n",
      "  SAE Train Loss (hidden two): 0.0496\n",
      "  Val Loss: 0.3277 | Val Acc: 90.79%\n"
     ]
    },
    {
     "name": "stderr",
     "output_type": "stream",
     "text": [
      "                                                                                                                        \r"
     ]
    },
    {
     "name": "stdout",
     "output_type": "stream",
     "text": [
      "Epoch 13/20\n",
      "  Train Loss: 0.2986\n",
      "  SAE Train Loss (hidden one): 0.5723\n",
      "  SAE Train Loss (hidden two): 0.0501\n",
      "  Val Loss: 0.3177 | Val Acc: 90.79%\n"
     ]
    },
    {
     "name": "stderr",
     "output_type": "stream",
     "text": [
      "                                                                                                                        \r"
     ]
    },
    {
     "name": "stdout",
     "output_type": "stream",
     "text": [
      "Epoch 14/20\n",
      "  Train Loss: 0.2986\n",
      "  SAE Train Loss (hidden one): 0.5778\n",
      "  SAE Train Loss (hidden two): 0.0483\n",
      "  Val Loss: 0.3323 | Val Acc: 90.31%\n"
     ]
    },
    {
     "name": "stderr",
     "output_type": "stream",
     "text": [
      "                                                                                                                        \r"
     ]
    },
    {
     "name": "stdout",
     "output_type": "stream",
     "text": [
      "Epoch 15/20\n",
      "  Train Loss: 0.2954\n",
      "  SAE Train Loss (hidden one): 0.5474\n",
      "  SAE Train Loss (hidden two): 0.0473\n",
      "  Val Loss: 0.3215 | Val Acc: 90.78%\n"
     ]
    },
    {
     "name": "stderr",
     "output_type": "stream",
     "text": [
      "                                                                                                                        \r"
     ]
    },
    {
     "name": "stdout",
     "output_type": "stream",
     "text": [
      "Epoch 16/20\n",
      "  Train Loss: 0.2903\n",
      "  SAE Train Loss (hidden one): 0.5296\n",
      "  SAE Train Loss (hidden two): 0.0472\n",
      "  Val Loss: 0.3165 | Val Acc: 90.88%\n"
     ]
    },
    {
     "name": "stderr",
     "output_type": "stream",
     "text": [
      "                                                                                                                        \r"
     ]
    },
    {
     "name": "stdout",
     "output_type": "stream",
     "text": [
      "Epoch 17/20\n",
      "  Train Loss: 0.2880\n",
      "  SAE Train Loss (hidden one): 0.5261\n",
      "  SAE Train Loss (hidden two): 0.0438\n",
      "  Val Loss: 0.3136 | Val Acc: 91.00%\n"
     ]
    },
    {
     "name": "stderr",
     "output_type": "stream",
     "text": [
      "                                                                                                                        \r"
     ]
    },
    {
     "name": "stdout",
     "output_type": "stream",
     "text": [
      "Epoch 18/20\n",
      "  Train Loss: 0.2852\n",
      "  SAE Train Loss (hidden one): 0.5567\n",
      "  SAE Train Loss (hidden two): 0.0421\n",
      "  Val Loss: 0.3210 | Val Acc: 91.02%\n",
      "  Saved model with Val Acc: 91.02%\n"
     ]
    },
    {
     "name": "stderr",
     "output_type": "stream",
     "text": [
      "                                                                                                                        \r"
     ]
    },
    {
     "name": "stdout",
     "output_type": "stream",
     "text": [
      "Epoch 19/20\n",
      "  Train Loss: 0.2864\n",
      "  SAE Train Loss (hidden one): 0.5682\n",
      "  SAE Train Loss (hidden two): 0.0417\n",
      "  Val Loss: 0.3315 | Val Acc: 90.39%\n"
     ]
    },
    {
     "name": "stderr",
     "output_type": "stream",
     "text": [
      "                                                                                                                        \r"
     ]
    },
    {
     "name": "stdout",
     "output_type": "stream",
     "text": [
      "Epoch 20/20\n",
      "  Train Loss: 0.2839\n",
      "  SAE Train Loss (hidden one): 0.6170\n",
      "  SAE Train Loss (hidden two): 0.0408\n",
      "  Val Loss: 0.3227 | Val Acc: 90.92%\n"
     ]
    },
    {
     "name": "stderr",
     "output_type": "stream",
     "text": [
      "Evaluation: 100%|██████████████████████████████████████████████████████████████████████| 79/79 [00:00<00:00, 317.09it/s]\n"
     ]
    },
    {
     "name": "stdout",
     "output_type": "stream",
     "text": [
      "Final Test Accuracy: 91.20%\n",
      "Average Reconstruction Error (Hidden One): 0.4519\n",
      "Average Reconstruction Error (Hidden Two): 0.0216\n",
      "Average Non-Zero Features per Image (Hidden One): 32.33\n",
      "Average Non-Zero Features per Image (Hidden Two): 32.85\n"
     ]
    },
    {
     "name": "stderr",
     "output_type": "stream",
     "text": [
      "/home/alex/.local/lib/python3.10/site-packages/sklearn/linear_model/_logistic.py:469: ConvergenceWarning: lbfgs failed to converge (status=1):\n",
      "STOP: TOTAL NO. of ITERATIONS REACHED LIMIT.\n",
      "\n",
      "Increase the number of iterations (max_iter) or scale the data as shown in:\n",
      "    https://scikit-learn.org/stable/modules/preprocessing.html\n",
      "Please also refer to the documentation for alternative solver options:\n",
      "    https://scikit-learn.org/stable/modules/linear_model.html#logistic-regression\n",
      "  n_iter_i = _check_optimize_result(\n"
     ]
    },
    {
     "name": "stdout",
     "output_type": "stream",
     "text": [
      "Linear Probe Accuracy (Hidden One): 91.73%\n"
     ]
    },
    {
     "name": "stderr",
     "output_type": "stream",
     "text": [
      "/home/alex/.local/lib/python3.10/site-packages/sklearn/linear_model/_logistic.py:469: ConvergenceWarning: lbfgs failed to converge (status=1):\n",
      "STOP: TOTAL NO. of ITERATIONS REACHED LIMIT.\n",
      "\n",
      "Increase the number of iterations (max_iter) or scale the data as shown in:\n",
      "    https://scikit-learn.org/stable/modules/preprocessing.html\n",
      "Please also refer to the documentation for alternative solver options:\n",
      "    https://scikit-learn.org/stable/modules/linear_model.html#logistic-regression\n",
      "  n_iter_i = _check_optimize_result(\n"
     ]
    },
    {
     "name": "stdout",
     "output_type": "stream",
     "text": [
      "Linear Probe Accuracy (Hidden Two): 91.03%\n",
      "\n",
      "##################################################\n",
      "Loss factor: 0.025000000000000012\n",
      "\n",
      "\n"
     ]
    },
    {
     "name": "stderr",
     "output_type": "stream",
     "text": [
      "                                                                                                                        \r"
     ]
    },
    {
     "name": "stdout",
     "output_type": "stream",
     "text": [
      "Epoch 1/20\n",
      "  Train Loss: 1.0519\n",
      "  SAE Train Loss (hidden one): 9.0129\n",
      "  SAE Train Loss (hidden two): 1.1713\n",
      "  Val Loss: 0.5355 | Val Acc: 84.26%\n",
      "  Saved model with Val Acc: 84.26%\n"
     ]
    },
    {
     "name": "stderr",
     "output_type": "stream",
     "text": [
      "                                                                                                                        \r"
     ]
    },
    {
     "name": "stdout",
     "output_type": "stream",
     "text": [
      "Epoch 2/20\n",
      "  Train Loss: 0.4785\n",
      "  SAE Train Loss (hidden one): 0.5163\n",
      "  SAE Train Loss (hidden two): 0.0995\n",
      "  Val Loss: 0.4230 | Val Acc: 87.97%\n",
      "  Saved model with Val Acc: 87.97%\n"
     ]
    },
    {
     "name": "stderr",
     "output_type": "stream",
     "text": [
      "                                                                                                                        \r"
     ]
    },
    {
     "name": "stdout",
     "output_type": "stream",
     "text": [
      "Epoch 3/20\n",
      "  Train Loss: 0.3903\n",
      "  SAE Train Loss (hidden one): 0.5521\n",
      "  SAE Train Loss (hidden two): 0.0945\n",
      "  Val Loss: 0.3657 | Val Acc: 89.29%\n",
      "  Saved model with Val Acc: 89.29%\n"
     ]
    },
    {
     "name": "stderr",
     "output_type": "stream",
     "text": [
      "                                                                                                                        \r"
     ]
    },
    {
     "name": "stdout",
     "output_type": "stream",
     "text": [
      "Epoch 4/20\n",
      "  Train Loss: 0.3472\n",
      "  SAE Train Loss (hidden one): 0.5390\n",
      "  SAE Train Loss (hidden two): 0.0812\n",
      "  Val Loss: 0.3214 | Val Acc: 90.60%\n",
      "  Saved model with Val Acc: 90.60%\n"
     ]
    },
    {
     "name": "stderr",
     "output_type": "stream",
     "text": [
      "                                                                                                                        \r"
     ]
    },
    {
     "name": "stdout",
     "output_type": "stream",
     "text": [
      "Epoch 5/20\n",
      "  Train Loss: 0.3256\n",
      "  SAE Train Loss (hidden one): 0.5298\n",
      "  SAE Train Loss (hidden two): 0.0738\n",
      "  Val Loss: 0.3135 | Val Acc: 90.57%\n"
     ]
    },
    {
     "name": "stderr",
     "output_type": "stream",
     "text": [
      "                                                                                                                        \r"
     ]
    },
    {
     "name": "stdout",
     "output_type": "stream",
     "text": [
      "Epoch 6/20\n",
      "  Train Loss: 0.3094\n",
      "  SAE Train Loss (hidden one): 0.5749\n",
      "  SAE Train Loss (hidden two): 0.0704\n",
      "  Val Loss: 0.3082 | Val Acc: 91.22%\n",
      "  Saved model with Val Acc: 91.22%\n"
     ]
    },
    {
     "name": "stderr",
     "output_type": "stream",
     "text": [
      "                                                                                                                        \r"
     ]
    },
    {
     "name": "stdout",
     "output_type": "stream",
     "text": [
      "Epoch 7/20\n",
      "  Train Loss: 0.3011\n",
      "  SAE Train Loss (hidden one): 0.5559\n",
      "  SAE Train Loss (hidden two): 0.0674\n",
      "  Val Loss: 0.2956 | Val Acc: 91.19%\n"
     ]
    },
    {
     "name": "stderr",
     "output_type": "stream",
     "text": [
      "                                                                                                                        \r"
     ]
    },
    {
     "name": "stdout",
     "output_type": "stream",
     "text": [
      "Epoch 8/20\n",
      "  Train Loss: 0.2931\n",
      "  SAE Train Loss (hidden one): 0.6216\n",
      "  SAE Train Loss (hidden two): 0.0673\n",
      "  Val Loss: 0.2936 | Val Acc: 91.25%\n",
      "  Saved model with Val Acc: 91.25%\n"
     ]
    },
    {
     "name": "stderr",
     "output_type": "stream",
     "text": [
      "                                                                                                                        \r"
     ]
    },
    {
     "name": "stdout",
     "output_type": "stream",
     "text": [
      "Epoch 9/20\n",
      "  Train Loss: 0.2869\n",
      "  SAE Train Loss (hidden one): 0.5995\n",
      "  SAE Train Loss (hidden two): 0.0621\n",
      "  Val Loss: 0.3054 | Val Acc: 91.00%\n"
     ]
    },
    {
     "name": "stderr",
     "output_type": "stream",
     "text": [
      "                                                                                                                        \r"
     ]
    },
    {
     "name": "stdout",
     "output_type": "stream",
     "text": [
      "Epoch 10/20\n",
      "  Train Loss: 0.2824\n",
      "  SAE Train Loss (hidden one): 0.6177\n",
      "  SAE Train Loss (hidden two): 0.0618\n",
      "  Val Loss: 0.2865 | Val Acc: 91.52%\n",
      "  Saved model with Val Acc: 91.52%\n"
     ]
    },
    {
     "name": "stderr",
     "output_type": "stream",
     "text": [
      "                                                                                                                        \r"
     ]
    },
    {
     "name": "stdout",
     "output_type": "stream",
     "text": [
      "Epoch 11/20\n",
      "  Train Loss: 0.2757\n",
      "  SAE Train Loss (hidden one): 0.6516\n",
      "  SAE Train Loss (hidden two): 0.0596\n",
      "  Val Loss: 0.2921 | Val Acc: 91.24%\n"
     ]
    },
    {
     "name": "stderr",
     "output_type": "stream",
     "text": [
      "                                                                                                                        \r"
     ]
    },
    {
     "name": "stdout",
     "output_type": "stream",
     "text": [
      "Epoch 12/20\n",
      "  Train Loss: 0.2712\n",
      "  SAE Train Loss (hidden one): 0.6635\n",
      "  SAE Train Loss (hidden two): 0.0575\n",
      "  Val Loss: 0.2852 | Val Acc: 91.63%\n",
      "  Saved model with Val Acc: 91.63%\n"
     ]
    },
    {
     "name": "stderr",
     "output_type": "stream",
     "text": [
      "                                                                                                                        \r"
     ]
    },
    {
     "name": "stdout",
     "output_type": "stream",
     "text": [
      "Epoch 13/20\n",
      "  Train Loss: 0.2664\n",
      "  SAE Train Loss (hidden one): 0.6394\n",
      "  SAE Train Loss (hidden two): 0.0559\n",
      "  Val Loss: 0.2898 | Val Acc: 91.41%\n"
     ]
    },
    {
     "name": "stderr",
     "output_type": "stream",
     "text": [
      "                                                                                                                        \r"
     ]
    },
    {
     "name": "stdout",
     "output_type": "stream",
     "text": [
      "Epoch 14/20\n",
      "  Train Loss: 0.2651\n",
      "  SAE Train Loss (hidden one): 0.6577\n",
      "  SAE Train Loss (hidden two): 0.0537\n",
      "  Val Loss: 0.2867 | Val Acc: 91.80%\n",
      "  Saved model with Val Acc: 91.80%\n"
     ]
    },
    {
     "name": "stderr",
     "output_type": "stream",
     "text": [
      "                                                                                                                        \r"
     ]
    },
    {
     "name": "stdout",
     "output_type": "stream",
     "text": [
      "Epoch 15/20\n",
      "  Train Loss: 0.2622\n",
      "  SAE Train Loss (hidden one): 0.6337\n",
      "  SAE Train Loss (hidden two): 0.0540\n",
      "  Val Loss: 0.2859 | Val Acc: 91.61%\n"
     ]
    },
    {
     "name": "stderr",
     "output_type": "stream",
     "text": [
      "                                                                                                                        \r"
     ]
    },
    {
     "name": "stdout",
     "output_type": "stream",
     "text": [
      "Epoch 16/20\n",
      "  Train Loss: 0.2606\n",
      "  SAE Train Loss (hidden one): 0.6446\n",
      "  SAE Train Loss (hidden two): 0.0519\n",
      "  Val Loss: 0.2701 | Val Acc: 92.22%\n",
      "  Saved model with Val Acc: 92.22%\n"
     ]
    },
    {
     "name": "stderr",
     "output_type": "stream",
     "text": [
      "                                                                                                                        \r"
     ]
    },
    {
     "name": "stdout",
     "output_type": "stream",
     "text": [
      "Epoch 17/20\n",
      "  Train Loss: 0.2557\n",
      "  SAE Train Loss (hidden one): 0.6799\n",
      "  SAE Train Loss (hidden two): 0.0496\n",
      "  Val Loss: 0.2708 | Val Acc: 92.03%\n"
     ]
    },
    {
     "name": "stderr",
     "output_type": "stream",
     "text": [
      "                                                                                                                        \r"
     ]
    },
    {
     "name": "stdout",
     "output_type": "stream",
     "text": [
      "Epoch 18/20\n",
      "  Train Loss: 0.2565\n",
      "  SAE Train Loss (hidden one): 0.6091\n",
      "  SAE Train Loss (hidden two): 0.0490\n",
      "  Val Loss: 0.2700 | Val Acc: 92.39%\n",
      "  Saved model with Val Acc: 92.39%\n"
     ]
    },
    {
     "name": "stderr",
     "output_type": "stream",
     "text": [
      "                                                                                                                        \r"
     ]
    },
    {
     "name": "stdout",
     "output_type": "stream",
     "text": [
      "Epoch 19/20\n",
      "  Train Loss: 0.2547\n",
      "  SAE Train Loss (hidden one): 0.6237\n",
      "  SAE Train Loss (hidden two): 0.0471\n",
      "  Val Loss: 0.2897 | Val Acc: 91.34%\n"
     ]
    },
    {
     "name": "stderr",
     "output_type": "stream",
     "text": [
      "                                                                                                                        \r"
     ]
    },
    {
     "name": "stdout",
     "output_type": "stream",
     "text": [
      "Epoch 20/20\n",
      "  Train Loss: 0.2535\n",
      "  SAE Train Loss (hidden one): 0.6525\n",
      "  SAE Train Loss (hidden two): 0.0474\n",
      "  Val Loss: 0.2900 | Val Acc: 91.50%\n"
     ]
    },
    {
     "name": "stderr",
     "output_type": "stream",
     "text": [
      "Evaluation: 100%|██████████████████████████████████████████████████████████████████████| 79/79 [00:00<00:00, 297.30it/s]"
     ]
    },
    {
     "name": "stdout",
     "output_type": "stream",
     "text": [
      "Final Test Accuracy: 92.56%\n",
      "Average Reconstruction Error (Hidden One): 0.3661\n",
      "Average Reconstruction Error (Hidden Two): 0.0103\n",
      "Average Non-Zero Features per Image (Hidden One): 33.49\n",
      "Average Non-Zero Features per Image (Hidden Two): 33.48\n"
     ]
    },
    {
     "name": "stderr",
     "output_type": "stream",
     "text": [
      "\n",
      "/home/alex/.local/lib/python3.10/site-packages/sklearn/linear_model/_logistic.py:469: ConvergenceWarning: lbfgs failed to converge (status=1):\n",
      "STOP: TOTAL NO. of ITERATIONS REACHED LIMIT.\n",
      "\n",
      "Increase the number of iterations (max_iter) or scale the data as shown in:\n",
      "    https://scikit-learn.org/stable/modules/preprocessing.html\n",
      "Please also refer to the documentation for alternative solver options:\n",
      "    https://scikit-learn.org/stable/modules/linear_model.html#logistic-regression\n",
      "  n_iter_i = _check_optimize_result(\n"
     ]
    },
    {
     "name": "stdout",
     "output_type": "stream",
     "text": [
      "Linear Probe Accuracy (Hidden One): 92.64%\n"
     ]
    },
    {
     "name": "stderr",
     "output_type": "stream",
     "text": [
      "/home/alex/.local/lib/python3.10/site-packages/sklearn/linear_model/_logistic.py:469: ConvergenceWarning: lbfgs failed to converge (status=1):\n",
      "STOP: TOTAL NO. of ITERATIONS REACHED LIMIT.\n",
      "\n",
      "Increase the number of iterations (max_iter) or scale the data as shown in:\n",
      "    https://scikit-learn.org/stable/modules/preprocessing.html\n",
      "Please also refer to the documentation for alternative solver options:\n",
      "    https://scikit-learn.org/stable/modules/linear_model.html#logistic-regression\n",
      "  n_iter_i = _check_optimize_result(\n"
     ]
    },
    {
     "name": "stdout",
     "output_type": "stream",
     "text": [
      "Linear Probe Accuracy (Hidden Two): 89.78%\n",
      "\n",
      "##################################################\n",
      "Loss factor: 0.026000000000000013\n",
      "\n",
      "\n"
     ]
    },
    {
     "name": "stderr",
     "output_type": "stream",
     "text": [
      "                                                                                                                        \r"
     ]
    },
    {
     "name": "stdout",
     "output_type": "stream",
     "text": [
      "Epoch 1/20\n",
      "  Train Loss: 1.0454\n",
      "  SAE Train Loss (hidden one): 8.9796\n",
      "  SAE Train Loss (hidden two): 1.1790\n",
      "  Val Loss: 0.5112 | Val Acc: 85.16%\n",
      "  Saved model with Val Acc: 85.16%\n"
     ]
    },
    {
     "name": "stderr",
     "output_type": "stream",
     "text": [
      "                                                                                                                        \r"
     ]
    },
    {
     "name": "stdout",
     "output_type": "stream",
     "text": [
      "Epoch 2/20\n",
      "  Train Loss: 0.4584\n",
      "  SAE Train Loss (hidden one): 0.6070\n",
      "  SAE Train Loss (hidden two): 0.1088\n",
      "  Val Loss: 0.4306 | Val Acc: 87.30%\n",
      "  Saved model with Val Acc: 87.30%\n"
     ]
    },
    {
     "name": "stderr",
     "output_type": "stream",
     "text": [
      "                                                                                                                        \r"
     ]
    },
    {
     "name": "stdout",
     "output_type": "stream",
     "text": [
      "Epoch 3/20\n",
      "  Train Loss: 0.3926\n",
      "  SAE Train Loss (hidden one): 0.6565\n",
      "  SAE Train Loss (hidden two): 0.0951\n",
      "  Val Loss: 0.3854 | Val Acc: 88.97%\n",
      "  Saved model with Val Acc: 88.97%\n"
     ]
    },
    {
     "name": "stderr",
     "output_type": "stream",
     "text": [
      "                                                                                                                        \r"
     ]
    },
    {
     "name": "stdout",
     "output_type": "stream",
     "text": [
      "Epoch 4/20\n",
      "  Train Loss: 0.3638\n",
      "  SAE Train Loss (hidden one): 0.7128\n",
      "  SAE Train Loss (hidden two): 0.0900\n",
      "  Val Loss: 0.3527 | Val Acc: 90.08%\n",
      "  Saved model with Val Acc: 90.08%\n"
     ]
    },
    {
     "name": "stderr",
     "output_type": "stream",
     "text": [
      "                                                                                                                        \r"
     ]
    },
    {
     "name": "stdout",
     "output_type": "stream",
     "text": [
      "Epoch 5/20\n",
      "  Train Loss: 0.3462\n",
      "  SAE Train Loss (hidden one): 0.7094\n",
      "  SAE Train Loss (hidden two): 0.0870\n",
      "  Val Loss: 0.3303 | Val Acc: 90.41%\n",
      "  Saved model with Val Acc: 90.41%\n"
     ]
    },
    {
     "name": "stderr",
     "output_type": "stream",
     "text": [
      "                                                                                                                        \r"
     ]
    },
    {
     "name": "stdout",
     "output_type": "stream",
     "text": [
      "Epoch 6/20\n",
      "  Train Loss: 0.3300\n",
      "  SAE Train Loss (hidden one): 0.7108\n",
      "  SAE Train Loss (hidden two): 0.0820\n",
      "  Val Loss: 0.3231 | Val Acc: 90.74%\n",
      "  Saved model with Val Acc: 90.74%\n"
     ]
    },
    {
     "name": "stderr",
     "output_type": "stream",
     "text": [
      "                                                                                                                        \r"
     ]
    },
    {
     "name": "stdout",
     "output_type": "stream",
     "text": [
      "Epoch 7/20\n",
      "  Train Loss: 0.3210\n",
      "  SAE Train Loss (hidden one): 0.7336\n",
      "  SAE Train Loss (hidden two): 0.0809\n",
      "  Val Loss: 0.3195 | Val Acc: 90.58%\n"
     ]
    },
    {
     "name": "stderr",
     "output_type": "stream",
     "text": [
      "                                                                                                                        \r"
     ]
    },
    {
     "name": "stdout",
     "output_type": "stream",
     "text": [
      "Epoch 8/20\n",
      "  Train Loss: 0.3132\n",
      "  SAE Train Loss (hidden one): 0.7747\n",
      "  SAE Train Loss (hidden two): 0.0795\n",
      "  Val Loss: 0.3249 | Val Acc: 90.67%\n"
     ]
    },
    {
     "name": "stderr",
     "output_type": "stream",
     "text": [
      "                                                                                                                        \r"
     ]
    },
    {
     "name": "stdout",
     "output_type": "stream",
     "text": [
      "Epoch 9/20\n",
      "  Train Loss: 0.3049\n",
      "  SAE Train Loss (hidden one): 0.7591\n",
      "  SAE Train Loss (hidden two): 0.0740\n",
      "  Val Loss: 0.3441 | Val Acc: 89.86%\n"
     ]
    },
    {
     "name": "stderr",
     "output_type": "stream",
     "text": [
      "                                                                                                                        \r"
     ]
    },
    {
     "name": "stdout",
     "output_type": "stream",
     "text": [
      "Epoch 10/20\n",
      "  Train Loss: 0.3023\n",
      "  SAE Train Loss (hidden one): 0.7530\n",
      "  SAE Train Loss (hidden two): 0.0730\n",
      "  Val Loss: 0.3261 | Val Acc: 90.44%\n"
     ]
    },
    {
     "name": "stderr",
     "output_type": "stream",
     "text": [
      "                                                                                                                        \r"
     ]
    },
    {
     "name": "stdout",
     "output_type": "stream",
     "text": [
      "Epoch 11/20\n",
      "  Train Loss: 0.2928\n",
      "  SAE Train Loss (hidden one): 0.7593\n",
      "  SAE Train Loss (hidden two): 0.0725\n",
      "  Val Loss: 0.3080 | Val Acc: 90.93%\n",
      "  Saved model with Val Acc: 90.93%\n"
     ]
    },
    {
     "name": "stderr",
     "output_type": "stream",
     "text": [
      "                                                                                                                        \r"
     ]
    },
    {
     "name": "stdout",
     "output_type": "stream",
     "text": [
      "Epoch 12/20\n",
      "  Train Loss: 0.2907\n",
      "  SAE Train Loss (hidden one): 0.7649\n",
      "  SAE Train Loss (hidden two): 0.0691\n",
      "  Val Loss: 0.2949 | Val Acc: 91.12%\n",
      "  Saved model with Val Acc: 91.12%\n"
     ]
    },
    {
     "name": "stderr",
     "output_type": "stream",
     "text": [
      "                                                                                                                        \r"
     ]
    },
    {
     "name": "stdout",
     "output_type": "stream",
     "text": [
      "Epoch 13/20\n",
      "  Train Loss: 0.2827\n",
      "  SAE Train Loss (hidden one): 0.8344\n",
      "  SAE Train Loss (hidden two): 0.0668\n",
      "  Val Loss: 0.2908 | Val Acc: 91.30%\n",
      "  Saved model with Val Acc: 91.30%\n"
     ]
    },
    {
     "name": "stderr",
     "output_type": "stream",
     "text": [
      "                                                                                                                        \r"
     ]
    },
    {
     "name": "stdout",
     "output_type": "stream",
     "text": [
      "Epoch 14/20\n",
      "  Train Loss: 0.2799\n",
      "  SAE Train Loss (hidden one): 0.7830\n",
      "  SAE Train Loss (hidden two): 0.0645\n",
      "  Val Loss: 0.2979 | Val Acc: 91.44%\n",
      "  Saved model with Val Acc: 91.44%\n"
     ]
    },
    {
     "name": "stderr",
     "output_type": "stream",
     "text": [
      "                                                                                                                        \r"
     ]
    },
    {
     "name": "stdout",
     "output_type": "stream",
     "text": [
      "Epoch 15/20\n",
      "  Train Loss: 0.2829\n",
      "  SAE Train Loss (hidden one): 0.7512\n",
      "  SAE Train Loss (hidden two): 0.0628\n",
      "  Val Loss: 0.2933 | Val Acc: 91.35%\n"
     ]
    },
    {
     "name": "stderr",
     "output_type": "stream",
     "text": [
      "                                                                                                                        \r"
     ]
    },
    {
     "name": "stdout",
     "output_type": "stream",
     "text": [
      "Epoch 16/20\n",
      "  Train Loss: 0.2756\n",
      "  SAE Train Loss (hidden one): 0.8168\n",
      "  SAE Train Loss (hidden two): 0.0632\n",
      "  Val Loss: 0.2794 | Val Acc: 91.79%\n",
      "  Saved model with Val Acc: 91.79%\n"
     ]
    },
    {
     "name": "stderr",
     "output_type": "stream",
     "text": [
      "                                                                                                                        \r"
     ]
    },
    {
     "name": "stdout",
     "output_type": "stream",
     "text": [
      "Epoch 17/20\n",
      "  Train Loss: 0.2712\n",
      "  SAE Train Loss (hidden one): 0.8577\n",
      "  SAE Train Loss (hidden two): 0.0573\n",
      "  Val Loss: 0.2891 | Val Acc: 91.71%\n"
     ]
    },
    {
     "name": "stderr",
     "output_type": "stream",
     "text": [
      "                                                                                                                        \r"
     ]
    },
    {
     "name": "stdout",
     "output_type": "stream",
     "text": [
      "Epoch 18/20\n",
      "  Train Loss: 0.2695\n",
      "  SAE Train Loss (hidden one): 0.8310\n",
      "  SAE Train Loss (hidden two): 0.0574\n",
      "  Val Loss: 0.2765 | Val Acc: 91.82%\n",
      "  Saved model with Val Acc: 91.82%\n"
     ]
    },
    {
     "name": "stderr",
     "output_type": "stream",
     "text": [
      "                                                                                                                        \r"
     ]
    },
    {
     "name": "stdout",
     "output_type": "stream",
     "text": [
      "Epoch 19/20\n",
      "  Train Loss: 0.2692\n",
      "  SAE Train Loss (hidden one): 0.8483\n",
      "  SAE Train Loss (hidden two): 0.0548\n",
      "  Val Loss: 0.2903 | Val Acc: 91.35%\n"
     ]
    },
    {
     "name": "stderr",
     "output_type": "stream",
     "text": [
      "                                                                                                                        \r"
     ]
    },
    {
     "name": "stdout",
     "output_type": "stream",
     "text": [
      "Epoch 20/20\n",
      "  Train Loss: 0.2649\n",
      "  SAE Train Loss (hidden one): 0.9021\n",
      "  SAE Train Loss (hidden two): 0.0548\n",
      "  Val Loss: 0.2972 | Val Acc: 91.23%\n"
     ]
    },
    {
     "name": "stderr",
     "output_type": "stream",
     "text": [
      "Evaluation: 100%|██████████████████████████████████████████████████████████████████████| 79/79 [00:00<00:00, 320.37it/s]\n"
     ]
    },
    {
     "name": "stdout",
     "output_type": "stream",
     "text": [
      "Final Test Accuracy: 91.99%\n",
      "Average Reconstruction Error (Hidden One): 0.9211\n",
      "Average Reconstruction Error (Hidden Two): 0.0162\n",
      "Average Non-Zero Features per Image (Hidden One): 34.19\n",
      "Average Non-Zero Features per Image (Hidden Two): 34.60\n"
     ]
    },
    {
     "name": "stderr",
     "output_type": "stream",
     "text": [
      "/home/alex/.local/lib/python3.10/site-packages/sklearn/linear_model/_logistic.py:469: ConvergenceWarning: lbfgs failed to converge (status=1):\n",
      "STOP: TOTAL NO. of ITERATIONS REACHED LIMIT.\n",
      "\n",
      "Increase the number of iterations (max_iter) or scale the data as shown in:\n",
      "    https://scikit-learn.org/stable/modules/preprocessing.html\n",
      "Please also refer to the documentation for alternative solver options:\n",
      "    https://scikit-learn.org/stable/modules/linear_model.html#logistic-regression\n",
      "  n_iter_i = _check_optimize_result(\n"
     ]
    },
    {
     "name": "stdout",
     "output_type": "stream",
     "text": [
      "Linear Probe Accuracy (Hidden One): 91.94%\n"
     ]
    },
    {
     "name": "stderr",
     "output_type": "stream",
     "text": [
      "/home/alex/.local/lib/python3.10/site-packages/sklearn/linear_model/_logistic.py:469: ConvergenceWarning: lbfgs failed to converge (status=1):\n",
      "STOP: TOTAL NO. of ITERATIONS REACHED LIMIT.\n",
      "\n",
      "Increase the number of iterations (max_iter) or scale the data as shown in:\n",
      "    https://scikit-learn.org/stable/modules/preprocessing.html\n",
      "Please also refer to the documentation for alternative solver options:\n",
      "    https://scikit-learn.org/stable/modules/linear_model.html#logistic-regression\n",
      "  n_iter_i = _check_optimize_result(\n"
     ]
    },
    {
     "name": "stdout",
     "output_type": "stream",
     "text": [
      "Linear Probe Accuracy (Hidden Two): 90.79%\n",
      "\n",
      "##################################################\n",
      "Loss factor: 0.027000000000000014\n",
      "\n",
      "\n"
     ]
    },
    {
     "name": "stderr",
     "output_type": "stream",
     "text": [
      "                                                                                                                        \r"
     ]
    },
    {
     "name": "stdout",
     "output_type": "stream",
     "text": [
      "Epoch 1/20\n",
      "  Train Loss: 1.0566\n",
      "  SAE Train Loss (hidden one): 8.7466\n",
      "  SAE Train Loss (hidden two): 1.1930\n",
      "  Val Loss: 0.6039 | Val Acc: 84.47%\n",
      "  Saved model with Val Acc: 84.47%\n"
     ]
    },
    {
     "name": "stderr",
     "output_type": "stream",
     "text": [
      "                                                                                                                        \r"
     ]
    },
    {
     "name": "stdout",
     "output_type": "stream",
     "text": [
      "Epoch 2/20\n",
      "  Train Loss: 0.5243\n",
      "  SAE Train Loss (hidden one): 0.5371\n",
      "  SAE Train Loss (hidden two): 0.1047\n",
      "  Val Loss: 0.4655 | Val Acc: 86.67%\n",
      "  Saved model with Val Acc: 86.67%\n"
     ]
    },
    {
     "name": "stderr",
     "output_type": "stream",
     "text": [
      "                                                                                                                        \r"
     ]
    },
    {
     "name": "stdout",
     "output_type": "stream",
     "text": [
      "Epoch 3/20\n",
      "  Train Loss: 0.4214\n",
      "  SAE Train Loss (hidden one): 0.6080\n",
      "  SAE Train Loss (hidden two): 0.0920\n",
      "  Val Loss: 0.4214 | Val Acc: 88.17%\n",
      "  Saved model with Val Acc: 88.17%\n"
     ]
    },
    {
     "name": "stderr",
     "output_type": "stream",
     "text": [
      "                                                                                                                        \r"
     ]
    },
    {
     "name": "stdout",
     "output_type": "stream",
     "text": [
      "Epoch 4/20\n",
      "  Train Loss: 0.3857\n",
      "  SAE Train Loss (hidden one): 0.5413\n",
      "  SAE Train Loss (hidden two): 0.0793\n",
      "  Val Loss: 0.3790 | Val Acc: 89.20%\n",
      "  Saved model with Val Acc: 89.20%\n"
     ]
    },
    {
     "name": "stderr",
     "output_type": "stream",
     "text": [
      "                                                                                                                        \r"
     ]
    },
    {
     "name": "stdout",
     "output_type": "stream",
     "text": [
      "Epoch 5/20\n",
      "  Train Loss: 0.3697\n",
      "  SAE Train Loss (hidden one): 0.5291\n",
      "  SAE Train Loss (hidden two): 0.0726\n",
      "  Val Loss: 0.3498 | Val Acc: 89.80%\n",
      "  Saved model with Val Acc: 89.80%\n"
     ]
    },
    {
     "name": "stderr",
     "output_type": "stream",
     "text": [
      "                                                                                                                        \r"
     ]
    },
    {
     "name": "stdout",
     "output_type": "stream",
     "text": [
      "Epoch 6/20\n",
      "  Train Loss: 0.3502\n",
      "  SAE Train Loss (hidden one): 0.6036\n",
      "  SAE Train Loss (hidden two): 0.0682\n",
      "  Val Loss: 0.3470 | Val Acc: 90.05%\n",
      "  Saved model with Val Acc: 90.05%\n"
     ]
    },
    {
     "name": "stderr",
     "output_type": "stream",
     "text": [
      "                                                                                                                        \r"
     ]
    },
    {
     "name": "stdout",
     "output_type": "stream",
     "text": [
      "Epoch 7/20\n",
      "  Train Loss: 0.3450\n",
      "  SAE Train Loss (hidden one): 0.5202\n",
      "  SAE Train Loss (hidden two): 0.0637\n",
      "  Val Loss: 0.3417 | Val Acc: 90.37%\n",
      "  Saved model with Val Acc: 90.37%\n"
     ]
    },
    {
     "name": "stderr",
     "output_type": "stream",
     "text": [
      "                                                                                                                        \r"
     ]
    },
    {
     "name": "stdout",
     "output_type": "stream",
     "text": [
      "Epoch 8/20\n",
      "  Train Loss: 0.3377\n",
      "  SAE Train Loss (hidden one): 0.5332\n",
      "  SAE Train Loss (hidden two): 0.0598\n",
      "  Val Loss: 0.3389 | Val Acc: 90.14%\n"
     ]
    },
    {
     "name": "stderr",
     "output_type": "stream",
     "text": [
      "                                                                                                                        \r"
     ]
    },
    {
     "name": "stdout",
     "output_type": "stream",
     "text": [
      "Epoch 9/20\n",
      "  Train Loss: 0.3298\n",
      "  SAE Train Loss (hidden one): 0.5609\n",
      "  SAE Train Loss (hidden two): 0.0575\n",
      "  Val Loss: 0.3466 | Val Acc: 89.91%\n"
     ]
    },
    {
     "name": "stderr",
     "output_type": "stream",
     "text": [
      "                                                                                                                        \r"
     ]
    },
    {
     "name": "stdout",
     "output_type": "stream",
     "text": [
      "Epoch 10/20\n",
      "  Train Loss: 0.3245\n",
      "  SAE Train Loss (hidden one): 0.4932\n",
      "  SAE Train Loss (hidden two): 0.0554\n",
      "  Val Loss: 0.3402 | Val Acc: 89.77%\n"
     ]
    },
    {
     "name": "stderr",
     "output_type": "stream",
     "text": [
      "                                                                                                                        \r"
     ]
    },
    {
     "name": "stdout",
     "output_type": "stream",
     "text": [
      "Epoch 11/20\n",
      "  Train Loss: 0.3239\n",
      "  SAE Train Loss (hidden one): 0.5788\n",
      "  SAE Train Loss (hidden two): 0.0517\n",
      "  Val Loss: 0.3249 | Val Acc: 90.62%\n",
      "  Saved model with Val Acc: 90.62%\n"
     ]
    },
    {
     "name": "stderr",
     "output_type": "stream",
     "text": [
      "                                                                                                                        \r"
     ]
    },
    {
     "name": "stdout",
     "output_type": "stream",
     "text": [
      "Epoch 12/20\n",
      "  Train Loss: 0.3188\n",
      "  SAE Train Loss (hidden one): 0.4953\n",
      "  SAE Train Loss (hidden two): 0.0488\n",
      "  Val Loss: 0.3355 | Val Acc: 90.17%\n"
     ]
    },
    {
     "name": "stderr",
     "output_type": "stream",
     "text": [
      "                                                                                                                        \r"
     ]
    },
    {
     "name": "stdout",
     "output_type": "stream",
     "text": [
      "Epoch 13/20\n",
      "  Train Loss: 0.3158\n",
      "  SAE Train Loss (hidden one): 0.5385\n",
      "  SAE Train Loss (hidden two): 0.0482\n",
      "  Val Loss: 0.3465 | Val Acc: 89.91%\n"
     ]
    },
    {
     "name": "stderr",
     "output_type": "stream",
     "text": [
      "                                                                                                                        \r"
     ]
    },
    {
     "name": "stdout",
     "output_type": "stream",
     "text": [
      "Epoch 14/20\n",
      "  Train Loss: 0.3140\n",
      "  SAE Train Loss (hidden one): 0.5856\n",
      "  SAE Train Loss (hidden two): 0.0464\n",
      "  Val Loss: 0.3398 | Val Acc: 90.28%\n"
     ]
    },
    {
     "name": "stderr",
     "output_type": "stream",
     "text": [
      "                                                                                                                        \r"
     ]
    },
    {
     "name": "stdout",
     "output_type": "stream",
     "text": [
      "Epoch 15/20\n",
      "  Train Loss: 0.3085\n",
      "  SAE Train Loss (hidden one): 0.5219\n",
      "  SAE Train Loss (hidden two): 0.0435\n",
      "  Val Loss: 0.3286 | Val Acc: 90.61%\n"
     ]
    },
    {
     "name": "stderr",
     "output_type": "stream",
     "text": [
      "                                                                                                                        \r"
     ]
    },
    {
     "name": "stdout",
     "output_type": "stream",
     "text": [
      "Epoch 16/20\n",
      "  Train Loss: 0.3078\n",
      "  SAE Train Loss (hidden one): 0.5570\n",
      "  SAE Train Loss (hidden two): 0.0431\n",
      "  Val Loss: 0.3197 | Val Acc: 90.49%\n"
     ]
    },
    {
     "name": "stderr",
     "output_type": "stream",
     "text": [
      "                                                                                                                        \r"
     ]
    },
    {
     "name": "stdout",
     "output_type": "stream",
     "text": [
      "Epoch 17/20\n",
      "  Train Loss: 0.3039\n",
      "  SAE Train Loss (hidden one): 0.5639\n",
      "  SAE Train Loss (hidden two): 0.0417\n",
      "  Val Loss: 0.3216 | Val Acc: 90.73%\n",
      "  Saved model with Val Acc: 90.73%\n"
     ]
    },
    {
     "name": "stderr",
     "output_type": "stream",
     "text": [
      "                                                                                                                        \r"
     ]
    },
    {
     "name": "stdout",
     "output_type": "stream",
     "text": [
      "Epoch 18/20\n",
      "  Train Loss: 0.3039\n",
      "  SAE Train Loss (hidden one): 0.5361\n",
      "  SAE Train Loss (hidden two): 0.0399\n",
      "  Val Loss: 0.3222 | Val Acc: 90.72%\n"
     ]
    },
    {
     "name": "stderr",
     "output_type": "stream",
     "text": [
      "                                                                                                                        \r"
     ]
    },
    {
     "name": "stdout",
     "output_type": "stream",
     "text": [
      "Epoch 19/20\n",
      "  Train Loss: 0.3057\n",
      "  SAE Train Loss (hidden one): 0.5666\n",
      "  SAE Train Loss (hidden two): 0.0397\n",
      "  Val Loss: 0.3300 | Val Acc: 90.31%\n"
     ]
    },
    {
     "name": "stderr",
     "output_type": "stream",
     "text": [
      "                                                                                                                        \r"
     ]
    },
    {
     "name": "stdout",
     "output_type": "stream",
     "text": [
      "Epoch 20/20\n",
      "  Train Loss: 0.2998\n",
      "  SAE Train Loss (hidden one): 0.5620\n",
      "  SAE Train Loss (hidden two): 0.0378\n",
      "  Val Loss: 0.3267 | Val Acc: 90.83%\n",
      "  Saved model with Val Acc: 90.83%\n"
     ]
    },
    {
     "name": "stderr",
     "output_type": "stream",
     "text": [
      "Evaluation: 100%|██████████████████████████████████████████████████████████████████████| 79/79 [00:00<00:00, 309.75it/s]"
     ]
    },
    {
     "name": "stdout",
     "output_type": "stream",
     "text": [
      "Final Test Accuracy: 90.56%\n",
      "Average Reconstruction Error (Hidden One): 0.2199\n",
      "Average Reconstruction Error (Hidden Two): 0.0084\n",
      "Average Non-Zero Features per Image (Hidden One): 31.96\n",
      "Average Non-Zero Features per Image (Hidden Two): 31.25\n"
     ]
    },
    {
     "name": "stderr",
     "output_type": "stream",
     "text": [
      "\n",
      "/home/alex/.local/lib/python3.10/site-packages/sklearn/linear_model/_logistic.py:469: ConvergenceWarning: lbfgs failed to converge (status=1):\n",
      "STOP: TOTAL NO. of ITERATIONS REACHED LIMIT.\n",
      "\n",
      "Increase the number of iterations (max_iter) or scale the data as shown in:\n",
      "    https://scikit-learn.org/stable/modules/preprocessing.html\n",
      "Please also refer to the documentation for alternative solver options:\n",
      "    https://scikit-learn.org/stable/modules/linear_model.html#logistic-regression\n",
      "  n_iter_i = _check_optimize_result(\n"
     ]
    },
    {
     "name": "stdout",
     "output_type": "stream",
     "text": [
      "Linear Probe Accuracy (Hidden One): 90.76%\n"
     ]
    },
    {
     "name": "stderr",
     "output_type": "stream",
     "text": [
      "/home/alex/.local/lib/python3.10/site-packages/sklearn/linear_model/_logistic.py:469: ConvergenceWarning: lbfgs failed to converge (status=1):\n",
      "STOP: TOTAL NO. of ITERATIONS REACHED LIMIT.\n",
      "\n",
      "Increase the number of iterations (max_iter) or scale the data as shown in:\n",
      "    https://scikit-learn.org/stable/modules/preprocessing.html\n",
      "Please also refer to the documentation for alternative solver options:\n",
      "    https://scikit-learn.org/stable/modules/linear_model.html#logistic-regression\n",
      "  n_iter_i = _check_optimize_result(\n"
     ]
    },
    {
     "name": "stdout",
     "output_type": "stream",
     "text": [
      "Linear Probe Accuracy (Hidden Two): 90.94%\n",
      "\n",
      "##################################################\n",
      "Loss factor: 0.028000000000000014\n",
      "\n",
      "\n"
     ]
    },
    {
     "name": "stderr",
     "output_type": "stream",
     "text": [
      "                                                                                                                        \r"
     ]
    },
    {
     "name": "stdout",
     "output_type": "stream",
     "text": [
      "Epoch 1/20\n",
      "  Train Loss: 1.0548\n",
      "  SAE Train Loss (hidden one): 8.7007\n",
      "  SAE Train Loss (hidden two): 1.1750\n",
      "  Val Loss: 0.6297 | Val Acc: 84.01%\n",
      "  Saved model with Val Acc: 84.01%\n"
     ]
    },
    {
     "name": "stderr",
     "output_type": "stream",
     "text": [
      "                                                                                                                        \r"
     ]
    },
    {
     "name": "stdout",
     "output_type": "stream",
     "text": [
      "Epoch 2/20\n",
      "  Train Loss: 0.5353\n",
      "  SAE Train Loss (hidden one): 0.6666\n",
      "  SAE Train Loss (hidden two): 0.1085\n",
      "  Val Loss: 0.4645 | Val Acc: 87.36%\n",
      "  Saved model with Val Acc: 87.36%\n"
     ]
    },
    {
     "name": "stderr",
     "output_type": "stream",
     "text": [
      "                                                                                                                        \r"
     ]
    },
    {
     "name": "stdout",
     "output_type": "stream",
     "text": [
      "Epoch 3/20\n",
      "  Train Loss: 0.4181\n",
      "  SAE Train Loss (hidden one): 0.5638\n",
      "  SAE Train Loss (hidden two): 0.0923\n",
      "  Val Loss: 0.4026 | Val Acc: 88.73%\n",
      "  Saved model with Val Acc: 88.73%\n"
     ]
    },
    {
     "name": "stderr",
     "output_type": "stream",
     "text": [
      "                                                                                                                        \r"
     ]
    },
    {
     "name": "stdout",
     "output_type": "stream",
     "text": [
      "Epoch 4/20\n",
      "  Train Loss: 0.3872\n",
      "  SAE Train Loss (hidden one): 0.5529\n",
      "  SAE Train Loss (hidden two): 0.0819\n",
      "  Val Loss: 0.3817 | Val Acc: 89.21%\n",
      "  Saved model with Val Acc: 89.21%\n"
     ]
    },
    {
     "name": "stderr",
     "output_type": "stream",
     "text": [
      "                                                                                                                        \r"
     ]
    },
    {
     "name": "stdout",
     "output_type": "stream",
     "text": [
      "Epoch 5/20\n",
      "  Train Loss: 0.3705\n",
      "  SAE Train Loss (hidden one): 0.5357\n",
      "  SAE Train Loss (hidden two): 0.0773\n",
      "  Val Loss: 0.3687 | Val Acc: 89.32%\n",
      "  Saved model with Val Acc: 89.32%\n"
     ]
    },
    {
     "name": "stderr",
     "output_type": "stream",
     "text": [
      "                                                                                                                        \r"
     ]
    },
    {
     "name": "stdout",
     "output_type": "stream",
     "text": [
      "Epoch 6/20\n",
      "  Train Loss: 0.3473\n",
      "  SAE Train Loss (hidden one): 0.5070\n",
      "  SAE Train Loss (hidden two): 0.0684\n",
      "  Val Loss: 0.3511 | Val Acc: 90.16%\n",
      "  Saved model with Val Acc: 90.16%\n"
     ]
    },
    {
     "name": "stderr",
     "output_type": "stream",
     "text": [
      "                                                                                                                        \r"
     ]
    },
    {
     "name": "stdout",
     "output_type": "stream",
     "text": [
      "Epoch 7/20\n",
      "  Train Loss: 0.3390\n",
      "  SAE Train Loss (hidden one): 0.5151\n",
      "  SAE Train Loss (hidden two): 0.0657\n",
      "  Val Loss: 0.3421 | Val Acc: 90.31%\n",
      "  Saved model with Val Acc: 90.31%\n"
     ]
    },
    {
     "name": "stderr",
     "output_type": "stream",
     "text": [
      "                                                                                                                        \r"
     ]
    },
    {
     "name": "stdout",
     "output_type": "stream",
     "text": [
      "Epoch 8/20\n",
      "  Train Loss: 0.3330\n",
      "  SAE Train Loss (hidden one): 0.5514\n",
      "  SAE Train Loss (hidden two): 0.0613\n",
      "  Val Loss: 0.3392 | Val Acc: 90.23%\n"
     ]
    },
    {
     "name": "stderr",
     "output_type": "stream",
     "text": [
      "                                                                                                                        \r"
     ]
    },
    {
     "name": "stdout",
     "output_type": "stream",
     "text": [
      "Epoch 9/20\n",
      "  Train Loss: 0.3275\n",
      "  SAE Train Loss (hidden one): 0.5507\n",
      "  SAE Train Loss (hidden two): 0.0570\n",
      "  Val Loss: 0.3410 | Val Acc: 89.96%\n"
     ]
    },
    {
     "name": "stderr",
     "output_type": "stream",
     "text": [
      "                                                                                                                        \r"
     ]
    },
    {
     "name": "stdout",
     "output_type": "stream",
     "text": [
      "Epoch 10/20\n",
      "  Train Loss: 0.3220\n",
      "  SAE Train Loss (hidden one): 0.5002\n",
      "  SAE Train Loss (hidden two): 0.0551\n",
      "  Val Loss: 0.3495 | Val Acc: 89.95%\n"
     ]
    },
    {
     "name": "stderr",
     "output_type": "stream",
     "text": [
      "                                                                                                                        \r"
     ]
    },
    {
     "name": "stdout",
     "output_type": "stream",
     "text": [
      "Epoch 11/20\n",
      "  Train Loss: 0.3177\n",
      "  SAE Train Loss (hidden one): 0.5660\n",
      "  SAE Train Loss (hidden two): 0.0532\n",
      "  Val Loss: 0.3226 | Val Acc: 90.55%\n",
      "  Saved model with Val Acc: 90.55%\n"
     ]
    },
    {
     "name": "stderr",
     "output_type": "stream",
     "text": [
      "                                                                                                                        \r"
     ]
    },
    {
     "name": "stdout",
     "output_type": "stream",
     "text": [
      "Epoch 12/20\n",
      "  Train Loss: 0.3137\n",
      "  SAE Train Loss (hidden one): 0.5470\n",
      "  SAE Train Loss (hidden two): 0.0505\n",
      "  Val Loss: 0.3345 | Val Acc: 90.09%\n"
     ]
    },
    {
     "name": "stderr",
     "output_type": "stream",
     "text": [
      "                                                                                                                        \r"
     ]
    },
    {
     "name": "stdout",
     "output_type": "stream",
     "text": [
      "Epoch 13/20\n",
      "  Train Loss: 0.3136\n",
      "  SAE Train Loss (hidden one): 0.5751\n",
      "  SAE Train Loss (hidden two): 0.0500\n",
      "  Val Loss: 0.3254 | Val Acc: 90.69%\n",
      "  Saved model with Val Acc: 90.69%\n"
     ]
    },
    {
     "name": "stderr",
     "output_type": "stream",
     "text": [
      "                                                                                                                        \r"
     ]
    },
    {
     "name": "stdout",
     "output_type": "stream",
     "text": [
      "Epoch 14/20\n",
      "  Train Loss: 0.3080\n",
      "  SAE Train Loss (hidden one): 0.6340\n",
      "  SAE Train Loss (hidden two): 0.0473\n",
      "  Val Loss: 0.3303 | Val Acc: 90.52%\n"
     ]
    },
    {
     "name": "stderr",
     "output_type": "stream",
     "text": [
      "                                                                                                                        \r"
     ]
    },
    {
     "name": "stdout",
     "output_type": "stream",
     "text": [
      "Epoch 15/20\n",
      "  Train Loss: 0.3043\n",
      "  SAE Train Loss (hidden one): 0.5285\n",
      "  SAE Train Loss (hidden two): 0.0454\n",
      "  Val Loss: 0.3169 | Val Acc: 90.80%\n",
      "  Saved model with Val Acc: 90.80%\n"
     ]
    },
    {
     "name": "stderr",
     "output_type": "stream",
     "text": [
      "                                                                                                                        \r"
     ]
    },
    {
     "name": "stdout",
     "output_type": "stream",
     "text": [
      "Epoch 16/20\n",
      "  Train Loss: 0.3003\n",
      "  SAE Train Loss (hidden one): 0.5704\n",
      "  SAE Train Loss (hidden two): 0.0458\n",
      "  Val Loss: 0.3179 | Val Acc: 90.86%\n",
      "  Saved model with Val Acc: 90.86%\n"
     ]
    },
    {
     "name": "stderr",
     "output_type": "stream",
     "text": [
      "                                                                                                                        \r"
     ]
    },
    {
     "name": "stdout",
     "output_type": "stream",
     "text": [
      "Epoch 17/20\n",
      "  Train Loss: 0.2995\n",
      "  SAE Train Loss (hidden one): 0.5856\n",
      "  SAE Train Loss (hidden two): 0.0444\n",
      "  Val Loss: 0.3185 | Val Acc: 90.87%\n",
      "  Saved model with Val Acc: 90.87%\n"
     ]
    },
    {
     "name": "stderr",
     "output_type": "stream",
     "text": [
      "                                                                                                                        \r"
     ]
    },
    {
     "name": "stdout",
     "output_type": "stream",
     "text": [
      "Epoch 18/20\n",
      "  Train Loss: 0.2991\n",
      "  SAE Train Loss (hidden one): 0.5852\n",
      "  SAE Train Loss (hidden two): 0.0447\n",
      "  Val Loss: 0.3103 | Val Acc: 90.85%\n"
     ]
    },
    {
     "name": "stderr",
     "output_type": "stream",
     "text": [
      "                                                                                                                        \r"
     ]
    },
    {
     "name": "stdout",
     "output_type": "stream",
     "text": [
      "Epoch 19/20\n",
      "  Train Loss: 0.2994\n",
      "  SAE Train Loss (hidden one): 0.6501\n",
      "  SAE Train Loss (hidden two): 0.0444\n",
      "  Val Loss: 0.3343 | Val Acc: 90.03%\n"
     ]
    },
    {
     "name": "stderr",
     "output_type": "stream",
     "text": [
      "                                                                                                                        \r"
     ]
    },
    {
     "name": "stdout",
     "output_type": "stream",
     "text": [
      "Epoch 20/20\n",
      "  Train Loss: 0.2978\n",
      "  SAE Train Loss (hidden one): 0.6167\n",
      "  SAE Train Loss (hidden two): 0.0426\n",
      "  Val Loss: 0.3161 | Val Acc: 90.92%\n",
      "  Saved model with Val Acc: 90.92%\n"
     ]
    },
    {
     "name": "stderr",
     "output_type": "stream",
     "text": [
      "Evaluation: 100%|██████████████████████████████████████████████████████████████████████| 79/79 [00:00<00:00, 320.12it/s]\n"
     ]
    },
    {
     "name": "stdout",
     "output_type": "stream",
     "text": [
      "Final Test Accuracy: 91.13%\n",
      "Average Reconstruction Error (Hidden One): 0.0976\n",
      "Average Reconstruction Error (Hidden Two): 0.0095\n",
      "Average Non-Zero Features per Image (Hidden One): 32.07\n",
      "Average Non-Zero Features per Image (Hidden Two): 31.80\n"
     ]
    },
    {
     "name": "stderr",
     "output_type": "stream",
     "text": [
      "/home/alex/.local/lib/python3.10/site-packages/sklearn/linear_model/_logistic.py:469: ConvergenceWarning: lbfgs failed to converge (status=1):\n",
      "STOP: TOTAL NO. of ITERATIONS REACHED LIMIT.\n",
      "\n",
      "Increase the number of iterations (max_iter) or scale the data as shown in:\n",
      "    https://scikit-learn.org/stable/modules/preprocessing.html\n",
      "Please also refer to the documentation for alternative solver options:\n",
      "    https://scikit-learn.org/stable/modules/linear_model.html#logistic-regression\n",
      "  n_iter_i = _check_optimize_result(\n"
     ]
    },
    {
     "name": "stdout",
     "output_type": "stream",
     "text": [
      "Linear Probe Accuracy (Hidden One): 90.84%\n"
     ]
    },
    {
     "name": "stderr",
     "output_type": "stream",
     "text": [
      "/home/alex/.local/lib/python3.10/site-packages/sklearn/linear_model/_logistic.py:469: ConvergenceWarning: lbfgs failed to converge (status=1):\n",
      "STOP: TOTAL NO. of ITERATIONS REACHED LIMIT.\n",
      "\n",
      "Increase the number of iterations (max_iter) or scale the data as shown in:\n",
      "    https://scikit-learn.org/stable/modules/preprocessing.html\n",
      "Please also refer to the documentation for alternative solver options:\n",
      "    https://scikit-learn.org/stable/modules/linear_model.html#logistic-regression\n",
      "  n_iter_i = _check_optimize_result(\n"
     ]
    },
    {
     "name": "stdout",
     "output_type": "stream",
     "text": [
      "Linear Probe Accuracy (Hidden Two): 90.98%\n",
      "\n",
      "##################################################\n",
      "Loss factor: 0.029000000000000015\n",
      "\n",
      "\n"
     ]
    },
    {
     "name": "stderr",
     "output_type": "stream",
     "text": [
      "                                                                                                                        \r"
     ]
    },
    {
     "name": "stdout",
     "output_type": "stream",
     "text": [
      "Epoch 1/20\n",
      "  Train Loss: 1.0638\n",
      "  SAE Train Loss (hidden one): 8.7118\n",
      "  SAE Train Loss (hidden two): 1.1828\n",
      "  Val Loss: 0.6670 | Val Acc: 82.84%\n",
      "  Saved model with Val Acc: 82.84%\n"
     ]
    },
    {
     "name": "stderr",
     "output_type": "stream",
     "text": [
      "                                                                                                                        \r"
     ]
    },
    {
     "name": "stdout",
     "output_type": "stream",
     "text": [
      "Epoch 2/20\n",
      "  Train Loss: 0.5461\n",
      "  SAE Train Loss (hidden one): 0.6456\n",
      "  SAE Train Loss (hidden two): 0.1133\n",
      "  Val Loss: 0.4551 | Val Acc: 87.61%\n",
      "  Saved model with Val Acc: 87.61%\n"
     ]
    },
    {
     "name": "stderr",
     "output_type": "stream",
     "text": [
      "                                                                                                                        \r"
     ]
    },
    {
     "name": "stdout",
     "output_type": "stream",
     "text": [
      "Epoch 3/20\n",
      "  Train Loss: 0.4287\n",
      "  SAE Train Loss (hidden one): 0.7124\n",
      "  SAE Train Loss (hidden two): 0.1022\n",
      "  Val Loss: 0.4173 | Val Acc: 88.60%\n",
      "  Saved model with Val Acc: 88.60%\n"
     ]
    },
    {
     "name": "stderr",
     "output_type": "stream",
     "text": [
      "                                                                                                                        \r"
     ]
    },
    {
     "name": "stdout",
     "output_type": "stream",
     "text": [
      "Epoch 4/20\n",
      "  Train Loss: 0.3911\n",
      "  SAE Train Loss (hidden one): 0.7385\n",
      "  SAE Train Loss (hidden two): 0.0937\n",
      "  Val Loss: 0.3599 | Val Acc: 90.13%\n",
      "  Saved model with Val Acc: 90.13%\n"
     ]
    },
    {
     "name": "stderr",
     "output_type": "stream",
     "text": [
      "                                                                                                                        \r"
     ]
    },
    {
     "name": "stdout",
     "output_type": "stream",
     "text": [
      "Epoch 5/20\n",
      "  Train Loss: 0.3624\n",
      "  SAE Train Loss (hidden one): 1.0152\n",
      "  SAE Train Loss (hidden two): 0.0859\n",
      "  Val Loss: 0.3527 | Val Acc: 90.05%\n"
     ]
    },
    {
     "name": "stderr",
     "output_type": "stream",
     "text": [
      "                                                                                                                        \r"
     ]
    },
    {
     "name": "stdout",
     "output_type": "stream",
     "text": [
      "Epoch 6/20\n",
      "  Train Loss: 0.3491\n",
      "  SAE Train Loss (hidden one): 0.7366\n",
      "  SAE Train Loss (hidden two): 0.0821\n",
      "  Val Loss: 0.3329 | Val Acc: 90.61%\n",
      "  Saved model with Val Acc: 90.61%\n"
     ]
    },
    {
     "name": "stderr",
     "output_type": "stream",
     "text": [
      "                                                                                                                        \r"
     ]
    },
    {
     "name": "stdout",
     "output_type": "stream",
     "text": [
      "Epoch 7/20\n",
      "  Train Loss: 0.3401\n",
      "  SAE Train Loss (hidden one): 0.6851\n",
      "  SAE Train Loss (hidden two): 0.0755\n",
      "  Val Loss: 0.3468 | Val Acc: 90.33%\n"
     ]
    },
    {
     "name": "stderr",
     "output_type": "stream",
     "text": [
      "                                                                                                                        \r"
     ]
    },
    {
     "name": "stdout",
     "output_type": "stream",
     "text": [
      "Epoch 8/20\n",
      "  Train Loss: 0.3316\n",
      "  SAE Train Loss (hidden one): 0.8468\n",
      "  SAE Train Loss (hidden two): 0.0771\n",
      "  Val Loss: 0.3545 | Val Acc: 89.84%\n"
     ]
    },
    {
     "name": "stderr",
     "output_type": "stream",
     "text": [
      "                                                                                                                        \r"
     ]
    },
    {
     "name": "stdout",
     "output_type": "stream",
     "text": [
      "Epoch 9/20\n",
      "  Train Loss: 0.3206\n",
      "  SAE Train Loss (hidden one): 0.8990\n",
      "  SAE Train Loss (hidden two): 0.0745\n",
      "  Val Loss: 0.3701 | Val Acc: 89.29%\n"
     ]
    },
    {
     "name": "stderr",
     "output_type": "stream",
     "text": [
      "                                                                                                                        \r"
     ]
    },
    {
     "name": "stdout",
     "output_type": "stream",
     "text": [
      "Epoch 10/20\n",
      "  Train Loss: 0.3127\n",
      "  SAE Train Loss (hidden one): 0.8512\n",
      "  SAE Train Loss (hidden two): 0.0702\n",
      "  Val Loss: 0.3257 | Val Acc: 90.71%\n",
      "  Saved model with Val Acc: 90.71%\n"
     ]
    },
    {
     "name": "stderr",
     "output_type": "stream",
     "text": [
      "                                                                                                                        \r"
     ]
    },
    {
     "name": "stdout",
     "output_type": "stream",
     "text": [
      "Epoch 11/20\n",
      "  Train Loss: 0.3050\n",
      "  SAE Train Loss (hidden one): 0.9208\n",
      "  SAE Train Loss (hidden two): 0.0723\n",
      "  Val Loss: 0.3081 | Val Acc: 91.32%\n",
      "  Saved model with Val Acc: 91.32%\n"
     ]
    },
    {
     "name": "stderr",
     "output_type": "stream",
     "text": [
      "                                                                                                                        \r"
     ]
    },
    {
     "name": "stdout",
     "output_type": "stream",
     "text": [
      "Epoch 12/20\n",
      "  Train Loss: 0.2990\n",
      "  SAE Train Loss (hidden one): 0.9561\n",
      "  SAE Train Loss (hidden two): 0.0691\n",
      "  Val Loss: 0.3055 | Val Acc: 91.37%\n",
      "  Saved model with Val Acc: 91.37%\n"
     ]
    },
    {
     "name": "stderr",
     "output_type": "stream",
     "text": [
      "                                                                                                                        \r"
     ]
    },
    {
     "name": "stdout",
     "output_type": "stream",
     "text": [
      "Epoch 13/20\n",
      "  Train Loss: 0.2860\n",
      "  SAE Train Loss (hidden one): 0.8124\n",
      "  SAE Train Loss (hidden two): 0.0660\n",
      "  Val Loss: 0.3140 | Val Acc: 90.68%\n"
     ]
    },
    {
     "name": "stderr",
     "output_type": "stream",
     "text": [
      "                                                                                                                        \r"
     ]
    },
    {
     "name": "stdout",
     "output_type": "stream",
     "text": [
      "Epoch 14/20\n",
      "  Train Loss: 0.2852\n",
      "  SAE Train Loss (hidden one): 0.8744\n",
      "  SAE Train Loss (hidden two): 0.0634\n",
      "  Val Loss: 0.3287 | Val Acc: 91.07%\n"
     ]
    },
    {
     "name": "stderr",
     "output_type": "stream",
     "text": [
      "                                                                                                                        \r"
     ]
    },
    {
     "name": "stdout",
     "output_type": "stream",
     "text": [
      "Epoch 15/20\n",
      "  Train Loss: 0.2771\n",
      "  SAE Train Loss (hidden one): 0.7969\n",
      "  SAE Train Loss (hidden two): 0.0645\n",
      "  Val Loss: 0.2963 | Val Acc: 91.61%\n",
      "  Saved model with Val Acc: 91.61%\n"
     ]
    },
    {
     "name": "stderr",
     "output_type": "stream",
     "text": [
      "                                                                                                                        \r"
     ]
    },
    {
     "name": "stdout",
     "output_type": "stream",
     "text": [
      "Epoch 16/20\n",
      "  Train Loss: 0.2763\n",
      "  SAE Train Loss (hidden one): 0.8487\n",
      "  SAE Train Loss (hidden two): 0.0624\n",
      "  Val Loss: 0.2982 | Val Acc: 91.51%\n"
     ]
    },
    {
     "name": "stderr",
     "output_type": "stream",
     "text": [
      "                                                                                                                        \r"
     ]
    },
    {
     "name": "stdout",
     "output_type": "stream",
     "text": [
      "Epoch 17/20\n",
      "  Train Loss: 0.2674\n",
      "  SAE Train Loss (hidden one): 0.8070\n",
      "  SAE Train Loss (hidden two): 0.0586\n",
      "  Val Loss: 0.2865 | Val Acc: 91.69%\n",
      "  Saved model with Val Acc: 91.69%\n"
     ]
    },
    {
     "name": "stderr",
     "output_type": "stream",
     "text": [
      "                                                                                                                        \r"
     ]
    },
    {
     "name": "stdout",
     "output_type": "stream",
     "text": [
      "Epoch 18/20\n",
      "  Train Loss: 0.2670\n",
      "  SAE Train Loss (hidden one): 0.8501\n",
      "  SAE Train Loss (hidden two): 0.0603\n",
      "  Val Loss: 0.2823 | Val Acc: 92.05%\n",
      "  Saved model with Val Acc: 92.05%\n"
     ]
    },
    {
     "name": "stderr",
     "output_type": "stream",
     "text": [
      "                                                                                                                        \r"
     ]
    },
    {
     "name": "stdout",
     "output_type": "stream",
     "text": [
      "Epoch 19/20\n",
      "  Train Loss: 0.2668\n",
      "  SAE Train Loss (hidden one): 0.8071\n",
      "  SAE Train Loss (hidden two): 0.0604\n",
      "  Val Loss: 0.3045 | Val Acc: 91.07%\n"
     ]
    },
    {
     "name": "stderr",
     "output_type": "stream",
     "text": [
      "                                                                                                                        \r"
     ]
    },
    {
     "name": "stdout",
     "output_type": "stream",
     "text": [
      "Epoch 20/20\n",
      "  Train Loss: 0.2600\n",
      "  SAE Train Loss (hidden one): 0.8042\n",
      "  SAE Train Loss (hidden two): 0.0569\n",
      "  Val Loss: 0.2965 | Val Acc: 91.73%\n"
     ]
    },
    {
     "name": "stderr",
     "output_type": "stream",
     "text": [
      "Evaluation: 100%|██████████████████████████████████████████████████████████████████████| 79/79 [00:00<00:00, 298.72it/s]"
     ]
    },
    {
     "name": "stdout",
     "output_type": "stream",
     "text": [
      "Final Test Accuracy: 92.64%\n",
      "Average Reconstruction Error (Hidden One): 0.2071\n",
      "Average Reconstruction Error (Hidden Two): 0.0132\n",
      "Average Non-Zero Features per Image (Hidden One): 32.20\n",
      "Average Non-Zero Features per Image (Hidden Two): 34.46\n"
     ]
    },
    {
     "name": "stderr",
     "output_type": "stream",
     "text": [
      "\n",
      "/home/alex/.local/lib/python3.10/site-packages/sklearn/linear_model/_logistic.py:469: ConvergenceWarning: lbfgs failed to converge (status=1):\n",
      "STOP: TOTAL NO. of ITERATIONS REACHED LIMIT.\n",
      "\n",
      "Increase the number of iterations (max_iter) or scale the data as shown in:\n",
      "    https://scikit-learn.org/stable/modules/preprocessing.html\n",
      "Please also refer to the documentation for alternative solver options:\n",
      "    https://scikit-learn.org/stable/modules/linear_model.html#logistic-regression\n",
      "  n_iter_i = _check_optimize_result(\n"
     ]
    },
    {
     "name": "stdout",
     "output_type": "stream",
     "text": [
      "Linear Probe Accuracy (Hidden One): 92.49%\n"
     ]
    },
    {
     "name": "stderr",
     "output_type": "stream",
     "text": [
      "/home/alex/.local/lib/python3.10/site-packages/sklearn/linear_model/_logistic.py:469: ConvergenceWarning: lbfgs failed to converge (status=1):\n",
      "STOP: TOTAL NO. of ITERATIONS REACHED LIMIT.\n",
      "\n",
      "Increase the number of iterations (max_iter) or scale the data as shown in:\n",
      "    https://scikit-learn.org/stable/modules/preprocessing.html\n",
      "Please also refer to the documentation for alternative solver options:\n",
      "    https://scikit-learn.org/stable/modules/linear_model.html#logistic-regression\n",
      "  n_iter_i = _check_optimize_result(\n"
     ]
    },
    {
     "name": "stdout",
     "output_type": "stream",
     "text": [
      "Linear Probe Accuracy (Hidden Two): 92.20%\n",
      "\n",
      "##################################################\n",
      "Loss factor: 0.030000000000000016\n",
      "\n",
      "\n"
     ]
    },
    {
     "name": "stderr",
     "output_type": "stream",
     "text": [
      "                                                                                                                        \r"
     ]
    },
    {
     "name": "stdout",
     "output_type": "stream",
     "text": [
      "Epoch 1/20\n",
      "  Train Loss: 1.0223\n",
      "  SAE Train Loss (hidden one): 8.7253\n",
      "  SAE Train Loss (hidden two): 1.1804\n",
      "  Val Loss: 0.5684 | Val Acc: 85.78%\n",
      "  Saved model with Val Acc: 85.78%\n"
     ]
    },
    {
     "name": "stderr",
     "output_type": "stream",
     "text": [
      "                                                                                                                        \r"
     ]
    },
    {
     "name": "stdout",
     "output_type": "stream",
     "text": [
      "Epoch 2/20\n",
      "  Train Loss: 0.5051\n",
      "  SAE Train Loss (hidden one): 0.3869\n",
      "  SAE Train Loss (hidden two): 0.0869\n",
      "  Val Loss: 0.4318 | Val Acc: 87.95%\n",
      "  Saved model with Val Acc: 87.95%\n"
     ]
    },
    {
     "name": "stderr",
     "output_type": "stream",
     "text": [
      "                                                                                                                        \r"
     ]
    },
    {
     "name": "stdout",
     "output_type": "stream",
     "text": [
      "Epoch 3/20\n",
      "  Train Loss: 0.4157\n",
      "  SAE Train Loss (hidden one): 0.4406\n",
      "  SAE Train Loss (hidden two): 0.0819\n",
      "  Val Loss: 0.4150 | Val Acc: 88.37%\n",
      "  Saved model with Val Acc: 88.37%\n"
     ]
    },
    {
     "name": "stderr",
     "output_type": "stream",
     "text": [
      "                                                                                                                        \r"
     ]
    },
    {
     "name": "stdout",
     "output_type": "stream",
     "text": [
      "Epoch 4/20\n",
      "  Train Loss: 0.3864\n",
      "  SAE Train Loss (hidden one): 0.4214\n",
      "  SAE Train Loss (hidden two): 0.0701\n",
      "  Val Loss: 0.3796 | Val Acc: 89.09%\n",
      "  Saved model with Val Acc: 89.09%\n"
     ]
    },
    {
     "name": "stderr",
     "output_type": "stream",
     "text": [
      "                                                                                                                        \r"
     ]
    },
    {
     "name": "stdout",
     "output_type": "stream",
     "text": [
      "Epoch 5/20\n",
      "  Train Loss: 0.3722\n",
      "  SAE Train Loss (hidden one): 0.4552\n",
      "  SAE Train Loss (hidden two): 0.0667\n",
      "  Val Loss: 0.3822 | Val Acc: 88.97%\n"
     ]
    },
    {
     "name": "stderr",
     "output_type": "stream",
     "text": [
      "                                                                                                                        \r"
     ]
    },
    {
     "name": "stdout",
     "output_type": "stream",
     "text": [
      "Epoch 6/20\n",
      "  Train Loss: 0.3591\n",
      "  SAE Train Loss (hidden one): 0.4924\n",
      "  SAE Train Loss (hidden two): 0.0637\n",
      "  Val Loss: 0.3467 | Val Acc: 90.18%\n",
      "  Saved model with Val Acc: 90.18%\n"
     ]
    },
    {
     "name": "stderr",
     "output_type": "stream",
     "text": [
      "                                                                                                                        \r"
     ]
    },
    {
     "name": "stdout",
     "output_type": "stream",
     "text": [
      "Epoch 7/20\n",
      "  Train Loss: 0.3544\n",
      "  SAE Train Loss (hidden one): 0.4912\n",
      "  SAE Train Loss (hidden two): 0.0619\n",
      "  Val Loss: 0.3356 | Val Acc: 90.47%\n",
      "  Saved model with Val Acc: 90.47%\n"
     ]
    },
    {
     "name": "stderr",
     "output_type": "stream",
     "text": [
      "                                                                                                                        \r"
     ]
    },
    {
     "name": "stdout",
     "output_type": "stream",
     "text": [
      "Epoch 8/20\n",
      "  Train Loss: 0.3438\n",
      "  SAE Train Loss (hidden one): 0.5179\n",
      "  SAE Train Loss (hidden two): 0.0591\n",
      "  Val Loss: 0.3433 | Val Acc: 90.47%\n"
     ]
    },
    {
     "name": "stderr",
     "output_type": "stream",
     "text": [
      "                                                                                                                        \r"
     ]
    },
    {
     "name": "stdout",
     "output_type": "stream",
     "text": [
      "Epoch 9/20\n",
      "  Train Loss: 0.3380\n",
      "  SAE Train Loss (hidden one): 0.5151\n",
      "  SAE Train Loss (hidden two): 0.0555\n",
      "  Val Loss: 0.3525 | Val Acc: 89.86%\n"
     ]
    },
    {
     "name": "stderr",
     "output_type": "stream",
     "text": [
      "                                                                                                                        \r"
     ]
    },
    {
     "name": "stdout",
     "output_type": "stream",
     "text": [
      "Epoch 10/20\n",
      "  Train Loss: 0.3345\n",
      "  SAE Train Loss (hidden one): 0.4855\n",
      "  SAE Train Loss (hidden two): 0.0538\n",
      "  Val Loss: 0.3500 | Val Acc: 89.95%\n"
     ]
    },
    {
     "name": "stderr",
     "output_type": "stream",
     "text": [
      "                                                                                                                        \r"
     ]
    },
    {
     "name": "stdout",
     "output_type": "stream",
     "text": [
      "Epoch 11/20\n",
      "  Train Loss: 0.3295\n",
      "  SAE Train Loss (hidden one): 0.8994\n",
      "  SAE Train Loss (hidden two): 0.0558\n",
      "  Val Loss: 0.3385 | Val Acc: 90.40%\n"
     ]
    },
    {
     "name": "stderr",
     "output_type": "stream",
     "text": [
      "                                                                                                                        \r"
     ]
    },
    {
     "name": "stdout",
     "output_type": "stream",
     "text": [
      "Epoch 12/20\n",
      "  Train Loss: 0.3157\n",
      "  SAE Train Loss (hidden one): 0.6382\n",
      "  SAE Train Loss (hidden two): 0.0570\n",
      "  Val Loss: 0.3182 | Val Acc: 90.95%\n",
      "  Saved model with Val Acc: 90.95%\n"
     ]
    },
    {
     "name": "stderr",
     "output_type": "stream",
     "text": [
      "                                                                                                                        \r"
     ]
    },
    {
     "name": "stdout",
     "output_type": "stream",
     "text": [
      "Epoch 13/20\n",
      "  Train Loss: 0.3094\n",
      "  SAE Train Loss (hidden one): 0.6222\n",
      "  SAE Train Loss (hidden two): 0.0524\n",
      "  Val Loss: 0.3089 | Val Acc: 91.25%\n",
      "  Saved model with Val Acc: 91.25%\n"
     ]
    },
    {
     "name": "stderr",
     "output_type": "stream",
     "text": [
      "                                                                                                                        \r"
     ]
    },
    {
     "name": "stdout",
     "output_type": "stream",
     "text": [
      "Epoch 14/20\n",
      "  Train Loss: 0.3046\n",
      "  SAE Train Loss (hidden one): 0.6293\n",
      "  SAE Train Loss (hidden two): 0.0520\n",
      "  Val Loss: 0.3245 | Val Acc: 91.15%\n"
     ]
    },
    {
     "name": "stderr",
     "output_type": "stream",
     "text": [
      "                                                                                                                        \r"
     ]
    },
    {
     "name": "stdout",
     "output_type": "stream",
     "text": [
      "Epoch 15/20\n",
      "  Train Loss: 0.2972\n",
      "  SAE Train Loss (hidden one): 0.6201\n",
      "  SAE Train Loss (hidden two): 0.0491\n",
      "  Val Loss: 0.3291 | Val Acc: 90.79%\n"
     ]
    },
    {
     "name": "stderr",
     "output_type": "stream",
     "text": [
      "                                                                                                                        \r"
     ]
    },
    {
     "name": "stdout",
     "output_type": "stream",
     "text": [
      "Epoch 16/20\n",
      "  Train Loss: 0.2956\n",
      "  SAE Train Loss (hidden one): 0.6681\n",
      "  SAE Train Loss (hidden two): 0.0517\n",
      "  Val Loss: 0.3087 | Val Acc: 91.18%\n"
     ]
    },
    {
     "name": "stderr",
     "output_type": "stream",
     "text": [
      "                                                                                                                        \r"
     ]
    },
    {
     "name": "stdout",
     "output_type": "stream",
     "text": [
      "Epoch 17/20\n",
      "  Train Loss: 0.2922\n",
      "  SAE Train Loss (hidden one): 0.6973\n",
      "  SAE Train Loss (hidden two): 0.0461\n",
      "  Val Loss: 0.3221 | Val Acc: 90.89%\n"
     ]
    },
    {
     "name": "stderr",
     "output_type": "stream",
     "text": [
      "                                                                                                                        \r"
     ]
    },
    {
     "name": "stdout",
     "output_type": "stream",
     "text": [
      "Epoch 18/20\n",
      "  Train Loss: 0.2912\n",
      "  SAE Train Loss (hidden one): 0.6035\n",
      "  SAE Train Loss (hidden two): 0.0453\n",
      "  Val Loss: 0.3104 | Val Acc: 91.29%\n",
      "  Saved model with Val Acc: 91.29%\n"
     ]
    },
    {
     "name": "stderr",
     "output_type": "stream",
     "text": [
      "                                                                                                                        \r"
     ]
    },
    {
     "name": "stdout",
     "output_type": "stream",
     "text": [
      "Epoch 19/20\n",
      "  Train Loss: 0.2897\n",
      "  SAE Train Loss (hidden one): 0.6323\n",
      "  SAE Train Loss (hidden two): 0.0466\n",
      "  Val Loss: 0.3164 | Val Acc: 91.14%\n"
     ]
    },
    {
     "name": "stderr",
     "output_type": "stream",
     "text": [
      "                                                                                                                        \r"
     ]
    },
    {
     "name": "stdout",
     "output_type": "stream",
     "text": [
      "Epoch 20/20\n",
      "  Train Loss: 0.2863\n",
      "  SAE Train Loss (hidden one): 0.7951\n",
      "  SAE Train Loss (hidden two): 0.0449\n",
      "  Val Loss: 0.3057 | Val Acc: 91.33%\n",
      "  Saved model with Val Acc: 91.33%\n"
     ]
    },
    {
     "name": "stderr",
     "output_type": "stream",
     "text": [
      "Evaluation: 100%|██████████████████████████████████████████████████████████████████████| 79/79 [00:00<00:00, 299.49it/s]\n"
     ]
    },
    {
     "name": "stdout",
     "output_type": "stream",
     "text": [
      "Final Test Accuracy: 91.68%\n",
      "Average Reconstruction Error (Hidden One): 0.4905\n",
      "Average Reconstruction Error (Hidden Two): 0.0165\n",
      "Average Non-Zero Features per Image (Hidden One): 31.82\n",
      "Average Non-Zero Features per Image (Hidden Two): 32.26\n"
     ]
    },
    {
     "name": "stderr",
     "output_type": "stream",
     "text": [
      "/home/alex/.local/lib/python3.10/site-packages/sklearn/linear_model/_logistic.py:469: ConvergenceWarning: lbfgs failed to converge (status=1):\n",
      "STOP: TOTAL NO. of ITERATIONS REACHED LIMIT.\n",
      "\n",
      "Increase the number of iterations (max_iter) or scale the data as shown in:\n",
      "    https://scikit-learn.org/stable/modules/preprocessing.html\n",
      "Please also refer to the documentation for alternative solver options:\n",
      "    https://scikit-learn.org/stable/modules/linear_model.html#logistic-regression\n",
      "  n_iter_i = _check_optimize_result(\n"
     ]
    },
    {
     "name": "stdout",
     "output_type": "stream",
     "text": [
      "Linear Probe Accuracy (Hidden One): 91.59%\n"
     ]
    },
    {
     "name": "stderr",
     "output_type": "stream",
     "text": [
      "/home/alex/.local/lib/python3.10/site-packages/sklearn/linear_model/_logistic.py:469: ConvergenceWarning: lbfgs failed to converge (status=1):\n",
      "STOP: TOTAL NO. of ITERATIONS REACHED LIMIT.\n",
      "\n",
      "Increase the number of iterations (max_iter) or scale the data as shown in:\n",
      "    https://scikit-learn.org/stable/modules/preprocessing.html\n",
      "Please also refer to the documentation for alternative solver options:\n",
      "    https://scikit-learn.org/stable/modules/linear_model.html#logistic-regression\n",
      "  n_iter_i = _check_optimize_result(\n"
     ]
    },
    {
     "name": "stdout",
     "output_type": "stream",
     "text": [
      "Linear Probe Accuracy (Hidden Two): 91.67%\n",
      "\n",
      "##################################################\n",
      "Loss factor: 0.031000000000000017\n",
      "\n",
      "\n"
     ]
    },
    {
     "name": "stderr",
     "output_type": "stream",
     "text": [
      "                                                                                                                        \r"
     ]
    },
    {
     "name": "stdout",
     "output_type": "stream",
     "text": [
      "Epoch 1/20\n",
      "  Train Loss: 1.0468\n",
      "  SAE Train Loss (hidden one): 8.7718\n",
      "  SAE Train Loss (hidden two): 1.1960\n",
      "  Val Loss: 0.6061 | Val Acc: 85.18%\n",
      "  Saved model with Val Acc: 85.18%\n"
     ]
    },
    {
     "name": "stderr",
     "output_type": "stream",
     "text": [
      "                                                                                                                        \r"
     ]
    },
    {
     "name": "stdout",
     "output_type": "stream",
     "text": [
      "Epoch 2/20\n",
      "  Train Loss: 0.5220\n",
      "  SAE Train Loss (hidden one): 0.5316\n",
      "  SAE Train Loss (hidden two): 0.1030\n",
      "  Val Loss: 0.4542 | Val Acc: 87.15%\n",
      "  Saved model with Val Acc: 87.15%\n"
     ]
    },
    {
     "name": "stderr",
     "output_type": "stream",
     "text": [
      "                                                                                                                        \r"
     ]
    },
    {
     "name": "stdout",
     "output_type": "stream",
     "text": [
      "Epoch 3/20\n",
      "  Train Loss: 0.4192\n",
      "  SAE Train Loss (hidden one): 0.5610\n",
      "  SAE Train Loss (hidden two): 0.0913\n",
      "  Val Loss: 0.4237 | Val Acc: 88.29%\n",
      "  Saved model with Val Acc: 88.29%\n"
     ]
    },
    {
     "name": "stderr",
     "output_type": "stream",
     "text": [
      "                                                                                                                        \r"
     ]
    },
    {
     "name": "stdout",
     "output_type": "stream",
     "text": [
      "Epoch 4/20\n",
      "  Train Loss: 0.3823\n",
      "  SAE Train Loss (hidden one): 0.5776\n",
      "  SAE Train Loss (hidden two): 0.0795\n",
      "  Val Loss: 0.3812 | Val Acc: 89.11%\n",
      "  Saved model with Val Acc: 89.11%\n"
     ]
    },
    {
     "name": "stderr",
     "output_type": "stream",
     "text": [
      "                                                                                                                        \r"
     ]
    },
    {
     "name": "stdout",
     "output_type": "stream",
     "text": [
      "Epoch 5/20\n",
      "  Train Loss: 0.3689\n",
      "  SAE Train Loss (hidden one): 0.5073\n",
      "  SAE Train Loss (hidden two): 0.0731\n",
      "  Val Loss: 0.3605 | Val Acc: 89.58%\n",
      "  Saved model with Val Acc: 89.58%\n"
     ]
    },
    {
     "name": "stderr",
     "output_type": "stream",
     "text": [
      "                                                                                                                        \r"
     ]
    },
    {
     "name": "stdout",
     "output_type": "stream",
     "text": [
      "Epoch 6/20\n",
      "  Train Loss: 0.3513\n",
      "  SAE Train Loss (hidden one): 0.5253\n",
      "  SAE Train Loss (hidden two): 0.0693\n",
      "  Val Loss: 0.3456 | Val Acc: 90.06%\n",
      "  Saved model with Val Acc: 90.06%\n"
     ]
    },
    {
     "name": "stderr",
     "output_type": "stream",
     "text": [
      "                                                                                                                        \r"
     ]
    },
    {
     "name": "stdout",
     "output_type": "stream",
     "text": [
      "Epoch 7/20\n",
      "  Train Loss: 0.3473\n",
      "  SAE Train Loss (hidden one): 0.5206\n",
      "  SAE Train Loss (hidden two): 0.0653\n",
      "  Val Loss: 0.3538 | Val Acc: 90.09%\n",
      "  Saved model with Val Acc: 90.09%\n"
     ]
    },
    {
     "name": "stderr",
     "output_type": "stream",
     "text": [
      "                                                                                                                        \r"
     ]
    },
    {
     "name": "stdout",
     "output_type": "stream",
     "text": [
      "Epoch 8/20\n",
      "  Train Loss: 0.3414\n",
      "  SAE Train Loss (hidden one): 0.5497\n",
      "  SAE Train Loss (hidden two): 0.0626\n",
      "  Val Loss: 0.3526 | Val Acc: 89.78%\n"
     ]
    },
    {
     "name": "stderr",
     "output_type": "stream",
     "text": [
      "                                                                                                                        \r"
     ]
    },
    {
     "name": "stdout",
     "output_type": "stream",
     "text": [
      "Epoch 9/20\n",
      "  Train Loss: 0.3360\n",
      "  SAE Train Loss (hidden one): 0.5426\n",
      "  SAE Train Loss (hidden two): 0.0593\n",
      "  Val Loss: 0.3471 | Val Acc: 90.13%\n",
      "  Saved model with Val Acc: 90.13%\n"
     ]
    },
    {
     "name": "stderr",
     "output_type": "stream",
     "text": [
      "                                                                                                                        \r"
     ]
    },
    {
     "name": "stdout",
     "output_type": "stream",
     "text": [
      "Epoch 10/20\n",
      "  Train Loss: 0.3346\n",
      "  SAE Train Loss (hidden one): 0.5392\n",
      "  SAE Train Loss (hidden two): 0.0555\n",
      "  Val Loss: 0.3540 | Val Acc: 89.94%\n"
     ]
    },
    {
     "name": "stderr",
     "output_type": "stream",
     "text": [
      "                                                                                                                        \r"
     ]
    },
    {
     "name": "stdout",
     "output_type": "stream",
     "text": [
      "Epoch 11/20\n",
      "  Train Loss: 0.3307\n",
      "  SAE Train Loss (hidden one): 0.5164\n",
      "  SAE Train Loss (hidden two): 0.0549\n",
      "  Val Loss: 0.3514 | Val Acc: 90.22%\n",
      "  Saved model with Val Acc: 90.22%\n"
     ]
    },
    {
     "name": "stderr",
     "output_type": "stream",
     "text": [
      "                                                                                                                        \r"
     ]
    },
    {
     "name": "stdout",
     "output_type": "stream",
     "text": [
      "Epoch 12/20\n",
      "  Train Loss: 0.3243\n",
      "  SAE Train Loss (hidden one): 0.5155\n",
      "  SAE Train Loss (hidden two): 0.0502\n",
      "  Val Loss: 0.3237 | Val Acc: 90.52%\n",
      "  Saved model with Val Acc: 90.52%\n"
     ]
    },
    {
     "name": "stderr",
     "output_type": "stream",
     "text": [
      "                                                                                                                        \r"
     ]
    },
    {
     "name": "stdout",
     "output_type": "stream",
     "text": [
      "Epoch 13/20\n",
      "  Train Loss: 0.3207\n",
      "  SAE Train Loss (hidden one): 0.5506\n",
      "  SAE Train Loss (hidden two): 0.0507\n",
      "  Val Loss: 0.3430 | Val Acc: 89.63%\n"
     ]
    },
    {
     "name": "stderr",
     "output_type": "stream",
     "text": [
      "                                                                                                                        \r"
     ]
    },
    {
     "name": "stdout",
     "output_type": "stream",
     "text": [
      "Epoch 14/20\n",
      "  Train Loss: 0.3186\n",
      "  SAE Train Loss (hidden one): 0.5329\n",
      "  SAE Train Loss (hidden two): 0.0482\n",
      "  Val Loss: 0.3506 | Val Acc: 90.05%\n"
     ]
    },
    {
     "name": "stderr",
     "output_type": "stream",
     "text": [
      "                                                                                                                        \r"
     ]
    },
    {
     "name": "stdout",
     "output_type": "stream",
     "text": [
      "Epoch 15/20\n",
      "  Train Loss: 0.3158\n",
      "  SAE Train Loss (hidden one): 0.5160\n",
      "  SAE Train Loss (hidden two): 0.0454\n",
      "  Val Loss: 0.3429 | Val Acc: 90.11%\n"
     ]
    },
    {
     "name": "stderr",
     "output_type": "stream",
     "text": [
      "                                                                                                                        \r"
     ]
    },
    {
     "name": "stdout",
     "output_type": "stream",
     "text": [
      "Epoch 16/20\n",
      "  Train Loss: 0.3120\n",
      "  SAE Train Loss (hidden one): 0.5535\n",
      "  SAE Train Loss (hidden two): 0.0452\n",
      "  Val Loss: 0.3299 | Val Acc: 90.44%\n"
     ]
    },
    {
     "name": "stderr",
     "output_type": "stream",
     "text": [
      "                                                                                                                        \r"
     ]
    },
    {
     "name": "stdout",
     "output_type": "stream",
     "text": [
      "Epoch 17/20\n",
      "  Train Loss: 0.3115\n",
      "  SAE Train Loss (hidden one): 0.7034\n",
      "  SAE Train Loss (hidden two): 0.0453\n",
      "  Val Loss: 0.3306 | Val Acc: 90.60%\n",
      "  Saved model with Val Acc: 90.60%\n"
     ]
    },
    {
     "name": "stderr",
     "output_type": "stream",
     "text": [
      "                                                                                                                        \r"
     ]
    },
    {
     "name": "stdout",
     "output_type": "stream",
     "text": [
      "Epoch 18/20\n",
      "  Train Loss: 0.3114\n",
      "  SAE Train Loss (hidden one): 0.5542\n",
      "  SAE Train Loss (hidden two): 0.0433\n",
      "  Val Loss: 0.3196 | Val Acc: 90.72%\n",
      "  Saved model with Val Acc: 90.72%\n"
     ]
    },
    {
     "name": "stderr",
     "output_type": "stream",
     "text": [
      "                                                                                                                        \r"
     ]
    },
    {
     "name": "stdout",
     "output_type": "stream",
     "text": [
      "Epoch 19/20\n",
      "  Train Loss: 0.3099\n",
      "  SAE Train Loss (hidden one): 0.5501\n",
      "  SAE Train Loss (hidden two): 0.0417\n",
      "  Val Loss: 0.3355 | Val Acc: 89.86%\n"
     ]
    },
    {
     "name": "stderr",
     "output_type": "stream",
     "text": [
      "                                                                                                                        \r"
     ]
    },
    {
     "name": "stdout",
     "output_type": "stream",
     "text": [
      "Epoch 20/20\n",
      "  Train Loss: 0.3057\n",
      "  SAE Train Loss (hidden one): 0.6319\n",
      "  SAE Train Loss (hidden two): 0.0411\n",
      "  Val Loss: 0.3297 | Val Acc: 90.53%\n"
     ]
    },
    {
     "name": "stderr",
     "output_type": "stream",
     "text": [
      "Evaluation: 100%|██████████████████████████████████████████████████████████████████████| 79/79 [00:00<00:00, 294.42it/s]"
     ]
    },
    {
     "name": "stdout",
     "output_type": "stream",
     "text": [
      "Final Test Accuracy: 90.68%\n",
      "Average Reconstruction Error (Hidden One): 0.0869\n",
      "Average Reconstruction Error (Hidden Two): 0.0108\n",
      "Average Non-Zero Features per Image (Hidden One): 32.32\n",
      "Average Non-Zero Features per Image (Hidden Two): 33.21\n"
     ]
    },
    {
     "name": "stderr",
     "output_type": "stream",
     "text": [
      "\n",
      "/home/alex/.local/lib/python3.10/site-packages/sklearn/linear_model/_logistic.py:469: ConvergenceWarning: lbfgs failed to converge (status=1):\n",
      "STOP: TOTAL NO. of ITERATIONS REACHED LIMIT.\n",
      "\n",
      "Increase the number of iterations (max_iter) or scale the data as shown in:\n",
      "    https://scikit-learn.org/stable/modules/preprocessing.html\n",
      "Please also refer to the documentation for alternative solver options:\n",
      "    https://scikit-learn.org/stable/modules/linear_model.html#logistic-regression\n",
      "  n_iter_i = _check_optimize_result(\n"
     ]
    },
    {
     "name": "stdout",
     "output_type": "stream",
     "text": [
      "Linear Probe Accuracy (Hidden One): 90.83%\n"
     ]
    },
    {
     "name": "stderr",
     "output_type": "stream",
     "text": [
      "/home/alex/.local/lib/python3.10/site-packages/sklearn/linear_model/_logistic.py:469: ConvergenceWarning: lbfgs failed to converge (status=1):\n",
      "STOP: TOTAL NO. of ITERATIONS REACHED LIMIT.\n",
      "\n",
      "Increase the number of iterations (max_iter) or scale the data as shown in:\n",
      "    https://scikit-learn.org/stable/modules/preprocessing.html\n",
      "Please also refer to the documentation for alternative solver options:\n",
      "    https://scikit-learn.org/stable/modules/linear_model.html#logistic-regression\n",
      "  n_iter_i = _check_optimize_result(\n"
     ]
    },
    {
     "name": "stdout",
     "output_type": "stream",
     "text": [
      "Linear Probe Accuracy (Hidden Two): 89.53%\n",
      "\n",
      "##################################################\n",
      "Loss factor: 0.032000000000000015\n",
      "\n",
      "\n"
     ]
    },
    {
     "name": "stderr",
     "output_type": "stream",
     "text": [
      "                                                                                                                        \r"
     ]
    },
    {
     "name": "stdout",
     "output_type": "stream",
     "text": [
      "Epoch 1/20\n",
      "  Train Loss: 1.0635\n",
      "  SAE Train Loss (hidden one): 8.7622\n",
      "  SAE Train Loss (hidden two): 1.1927\n",
      "  Val Loss: 0.6240 | Val Acc: 84.23%\n",
      "  Saved model with Val Acc: 84.23%\n"
     ]
    },
    {
     "name": "stderr",
     "output_type": "stream",
     "text": [
      "                                                                                                                        \r"
     ]
    },
    {
     "name": "stdout",
     "output_type": "stream",
     "text": [
      "Epoch 2/20\n",
      "  Train Loss: 0.5279\n",
      "  SAE Train Loss (hidden one): 0.5123\n",
      "  SAE Train Loss (hidden two): 0.1038\n",
      "  Val Loss: 0.4682 | Val Acc: 86.28%\n",
      "  Saved model with Val Acc: 86.28%\n"
     ]
    },
    {
     "name": "stderr",
     "output_type": "stream",
     "text": [
      "                                                                                                                        \r"
     ]
    },
    {
     "name": "stdout",
     "output_type": "stream",
     "text": [
      "Epoch 3/20\n",
      "  Train Loss: 0.4236\n",
      "  SAE Train Loss (hidden one): 0.5689\n",
      "  SAE Train Loss (hidden two): 0.0959\n",
      "  Val Loss: 0.4324 | Val Acc: 87.69%\n",
      "  Saved model with Val Acc: 87.69%\n"
     ]
    },
    {
     "name": "stderr",
     "output_type": "stream",
     "text": [
      "                                                                                                                        \r"
     ]
    },
    {
     "name": "stdout",
     "output_type": "stream",
     "text": [
      "Epoch 4/20\n",
      "  Train Loss: 0.3882\n",
      "  SAE Train Loss (hidden one): 0.5086\n",
      "  SAE Train Loss (hidden two): 0.0813\n",
      "  Val Loss: 0.3750 | Val Acc: 89.31%\n",
      "  Saved model with Val Acc: 89.31%\n"
     ]
    },
    {
     "name": "stderr",
     "output_type": "stream",
     "text": [
      "                                                                                                                        \r"
     ]
    },
    {
     "name": "stdout",
     "output_type": "stream",
     "text": [
      "Epoch 5/20\n",
      "  Train Loss: 0.3725\n",
      "  SAE Train Loss (hidden one): 0.5057\n",
      "  SAE Train Loss (hidden two): 0.0753\n",
      "  Val Loss: 0.3568 | Val Acc: 89.65%\n",
      "  Saved model with Val Acc: 89.65%\n"
     ]
    },
    {
     "name": "stderr",
     "output_type": "stream",
     "text": [
      "                                                                                                                        \r"
     ]
    },
    {
     "name": "stdout",
     "output_type": "stream",
     "text": [
      "Epoch 6/20\n",
      "  Train Loss: 0.3557\n",
      "  SAE Train Loss (hidden one): 0.5027\n",
      "  SAE Train Loss (hidden two): 0.0705\n",
      "  Val Loss: 0.3571 | Val Acc: 89.82%\n",
      "  Saved model with Val Acc: 89.82%\n"
     ]
    },
    {
     "name": "stderr",
     "output_type": "stream",
     "text": [
      "                                                                                                                        \r"
     ]
    },
    {
     "name": "stdout",
     "output_type": "stream",
     "text": [
      "Epoch 7/20\n",
      "  Train Loss: 0.3474\n",
      "  SAE Train Loss (hidden one): 0.5024\n",
      "  SAE Train Loss (hidden two): 0.0657\n",
      "  Val Loss: 0.3448 | Val Acc: 90.36%\n",
      "  Saved model with Val Acc: 90.36%\n"
     ]
    },
    {
     "name": "stderr",
     "output_type": "stream",
     "text": [
      "                                                                                                                        \r"
     ]
    },
    {
     "name": "stdout",
     "output_type": "stream",
     "text": [
      "Epoch 8/20\n",
      "  Train Loss: 0.3428\n",
      "  SAE Train Loss (hidden one): 0.5349\n",
      "  SAE Train Loss (hidden two): 0.0628\n",
      "  Val Loss: 0.3422 | Val Acc: 90.08%\n"
     ]
    },
    {
     "name": "stderr",
     "output_type": "stream",
     "text": [
      "                                                                                                                        \r"
     ]
    },
    {
     "name": "stdout",
     "output_type": "stream",
     "text": [
      "Epoch 9/20\n",
      "  Train Loss: 0.3346\n",
      "  SAE Train Loss (hidden one): 0.5190\n",
      "  SAE Train Loss (hidden two): 0.0575\n",
      "  Val Loss: 0.3630 | Val Acc: 89.25%\n"
     ]
    },
    {
     "name": "stderr",
     "output_type": "stream",
     "text": [
      "                                                                                                                        \r"
     ]
    },
    {
     "name": "stdout",
     "output_type": "stream",
     "text": [
      "Epoch 10/20\n",
      "  Train Loss: 0.3308\n",
      "  SAE Train Loss (hidden one): 0.4583\n",
      "  SAE Train Loss (hidden two): 0.0544\n",
      "  Val Loss: 0.3486 | Val Acc: 89.79%\n"
     ]
    },
    {
     "name": "stderr",
     "output_type": "stream",
     "text": [
      "                                                                                                                        \r"
     ]
    },
    {
     "name": "stdout",
     "output_type": "stream",
     "text": [
      "Epoch 11/20\n",
      "  Train Loss: 0.3286\n",
      "  SAE Train Loss (hidden one): 0.5506\n",
      "  SAE Train Loss (hidden two): 0.0530\n",
      "  Val Loss: 0.3366 | Val Acc: 90.52%\n",
      "  Saved model with Val Acc: 90.52%\n"
     ]
    },
    {
     "name": "stderr",
     "output_type": "stream",
     "text": [
      "                                                                                                                        \r"
     ]
    },
    {
     "name": "stdout",
     "output_type": "stream",
     "text": [
      "Epoch 12/20\n",
      "  Train Loss: 0.3242\n",
      "  SAE Train Loss (hidden one): 0.4944\n",
      "  SAE Train Loss (hidden two): 0.0492\n",
      "  Val Loss: 0.3355 | Val Acc: 90.02%\n"
     ]
    },
    {
     "name": "stderr",
     "output_type": "stream",
     "text": [
      "                                                                                                                        \r"
     ]
    },
    {
     "name": "stdout",
     "output_type": "stream",
     "text": [
      "Epoch 13/20\n",
      "  Train Loss: 0.3202\n",
      "  SAE Train Loss (hidden one): 0.5729\n",
      "  SAE Train Loss (hidden two): 0.0478\n",
      "  Val Loss: 0.3250 | Val Acc: 90.41%\n"
     ]
    },
    {
     "name": "stderr",
     "output_type": "stream",
     "text": [
      "                                                                                                                        \r"
     ]
    },
    {
     "name": "stdout",
     "output_type": "stream",
     "text": [
      "Epoch 14/20\n",
      "  Train Loss: 0.3160\n",
      "  SAE Train Loss (hidden one): 0.5512\n",
      "  SAE Train Loss (hidden two): 0.0479\n",
      "  Val Loss: 0.3334 | Val Acc: 90.64%\n",
      "  Saved model with Val Acc: 90.64%\n"
     ]
    },
    {
     "name": "stderr",
     "output_type": "stream",
     "text": [
      "                                                                                                                        \r"
     ]
    },
    {
     "name": "stdout",
     "output_type": "stream",
     "text": [
      "Epoch 15/20\n",
      "  Train Loss: 0.3130\n",
      "  SAE Train Loss (hidden one): 0.5003\n",
      "  SAE Train Loss (hidden two): 0.0450\n",
      "  Val Loss: 0.3195 | Val Acc: 90.73%\n",
      "  Saved model with Val Acc: 90.73%\n"
     ]
    },
    {
     "name": "stderr",
     "output_type": "stream",
     "text": [
      "                                                                                                                        \r"
     ]
    },
    {
     "name": "stdout",
     "output_type": "stream",
     "text": [
      "Epoch 16/20\n",
      "  Train Loss: 0.3104\n",
      "  SAE Train Loss (hidden one): 0.5495\n",
      "  SAE Train Loss (hidden two): 0.0434\n",
      "  Val Loss: 0.3219 | Val Acc: 90.61%\n"
     ]
    },
    {
     "name": "stderr",
     "output_type": "stream",
     "text": [
      "                                                                                                                        \r"
     ]
    },
    {
     "name": "stdout",
     "output_type": "stream",
     "text": [
      "Epoch 17/20\n",
      "  Train Loss: 0.3090\n",
      "  SAE Train Loss (hidden one): 0.5425\n",
      "  SAE Train Loss (hidden two): 0.0421\n",
      "  Val Loss: 0.3174 | Val Acc: 90.82%\n",
      "  Saved model with Val Acc: 90.82%\n"
     ]
    },
    {
     "name": "stderr",
     "output_type": "stream",
     "text": [
      "                                                                                                                        \r"
     ]
    },
    {
     "name": "stdout",
     "output_type": "stream",
     "text": [
      "Epoch 18/20\n",
      "  Train Loss: 0.3075\n",
      "  SAE Train Loss (hidden one): 0.5255\n",
      "  SAE Train Loss (hidden two): 0.0409\n",
      "  Val Loss: 0.3271 | Val Acc: 90.38%\n"
     ]
    },
    {
     "name": "stderr",
     "output_type": "stream",
     "text": [
      "                                                                                                                        \r"
     ]
    },
    {
     "name": "stdout",
     "output_type": "stream",
     "text": [
      "Epoch 19/20\n",
      "  Train Loss: 0.3063\n",
      "  SAE Train Loss (hidden one): 0.6263\n",
      "  SAE Train Loss (hidden two): 0.0407\n",
      "  Val Loss: 0.3271 | Val Acc: 90.48%\n"
     ]
    },
    {
     "name": "stderr",
     "output_type": "stream",
     "text": [
      "                                                                                                                        \r"
     ]
    },
    {
     "name": "stdout",
     "output_type": "stream",
     "text": [
      "Epoch 20/20\n",
      "  Train Loss: 0.3043\n",
      "  SAE Train Loss (hidden one): 0.5596\n",
      "  SAE Train Loss (hidden two): 0.0397\n",
      "  Val Loss: 0.3321 | Val Acc: 90.44%\n"
     ]
    },
    {
     "name": "stderr",
     "output_type": "stream",
     "text": [
      "Evaluation: 100%|██████████████████████████████████████████████████████████████████████| 79/79 [00:00<00:00, 320.47it/s]\n"
     ]
    },
    {
     "name": "stdout",
     "output_type": "stream",
     "text": [
      "Final Test Accuracy: 90.71%\n",
      "Average Reconstruction Error (Hidden One): 0.8554\n",
      "Average Reconstruction Error (Hidden Two): 0.0097\n",
      "Average Non-Zero Features per Image (Hidden One): 32.46\n",
      "Average Non-Zero Features per Image (Hidden Two): 34.38\n"
     ]
    },
    {
     "name": "stderr",
     "output_type": "stream",
     "text": [
      "/home/alex/.local/lib/python3.10/site-packages/sklearn/linear_model/_logistic.py:469: ConvergenceWarning: lbfgs failed to converge (status=1):\n",
      "STOP: TOTAL NO. of ITERATIONS REACHED LIMIT.\n",
      "\n",
      "Increase the number of iterations (max_iter) or scale the data as shown in:\n",
      "    https://scikit-learn.org/stable/modules/preprocessing.html\n",
      "Please also refer to the documentation for alternative solver options:\n",
      "    https://scikit-learn.org/stable/modules/linear_model.html#logistic-regression\n",
      "  n_iter_i = _check_optimize_result(\n"
     ]
    },
    {
     "name": "stdout",
     "output_type": "stream",
     "text": [
      "Linear Probe Accuracy (Hidden One): 89.90%\n"
     ]
    },
    {
     "name": "stderr",
     "output_type": "stream",
     "text": [
      "/home/alex/.local/lib/python3.10/site-packages/sklearn/linear_model/_logistic.py:469: ConvergenceWarning: lbfgs failed to converge (status=1):\n",
      "STOP: TOTAL NO. of ITERATIONS REACHED LIMIT.\n",
      "\n",
      "Increase the number of iterations (max_iter) or scale the data as shown in:\n",
      "    https://scikit-learn.org/stable/modules/preprocessing.html\n",
      "Please also refer to the documentation for alternative solver options:\n",
      "    https://scikit-learn.org/stable/modules/linear_model.html#logistic-regression\n",
      "  n_iter_i = _check_optimize_result(\n"
     ]
    },
    {
     "name": "stdout",
     "output_type": "stream",
     "text": [
      "Linear Probe Accuracy (Hidden Two): 88.25%\n",
      "\n",
      "##################################################\n",
      "Loss factor: 0.033000000000000015\n",
      "\n",
      "\n"
     ]
    },
    {
     "name": "stderr",
     "output_type": "stream",
     "text": [
      "                                                                                                                        \r"
     ]
    },
    {
     "name": "stdout",
     "output_type": "stream",
     "text": [
      "Epoch 1/20\n",
      "  Train Loss: 1.0707\n",
      "  SAE Train Loss (hidden one): 8.6865\n",
      "  SAE Train Loss (hidden two): 1.1854\n",
      "  Val Loss: 0.6340 | Val Acc: 83.63%\n",
      "  Saved model with Val Acc: 83.63%\n"
     ]
    },
    {
     "name": "stderr",
     "output_type": "stream",
     "text": [
      "                                                                                                                        \r"
     ]
    },
    {
     "name": "stdout",
     "output_type": "stream",
     "text": [
      "Epoch 2/20\n",
      "  Train Loss: 0.5204\n",
      "  SAE Train Loss (hidden one): 0.7639\n",
      "  SAE Train Loss (hidden two): 0.1168\n",
      "  Val Loss: 0.4386 | Val Acc: 87.22%\n",
      "  Saved model with Val Acc: 87.22%\n"
     ]
    },
    {
     "name": "stderr",
     "output_type": "stream",
     "text": [
      "                                                                                                                        \r"
     ]
    },
    {
     "name": "stdout",
     "output_type": "stream",
     "text": [
      "Epoch 3/20\n",
      "  Train Loss: 0.3931\n",
      "  SAE Train Loss (hidden one): 0.7094\n",
      "  SAE Train Loss (hidden two): 0.1026\n",
      "  Val Loss: 0.3585 | Val Acc: 90.12%\n",
      "  Saved model with Val Acc: 90.12%\n"
     ]
    },
    {
     "name": "stderr",
     "output_type": "stream",
     "text": [
      "                                                                                                                        \r"
     ]
    },
    {
     "name": "stdout",
     "output_type": "stream",
     "text": [
      "Epoch 4/20\n",
      "  Train Loss: 0.3605\n",
      "  SAE Train Loss (hidden one): 0.7827\n",
      "  SAE Train Loss (hidden two): 0.0947\n",
      "  Val Loss: 0.3356 | Val Acc: 90.47%\n",
      "  Saved model with Val Acc: 90.47%\n"
     ]
    },
    {
     "name": "stderr",
     "output_type": "stream",
     "text": [
      "                                                                                                                        \r"
     ]
    },
    {
     "name": "stdout",
     "output_type": "stream",
     "text": [
      "Epoch 5/20\n",
      "  Train Loss: 0.3423\n",
      "  SAE Train Loss (hidden one): 0.6035\n",
      "  SAE Train Loss (hidden two): 0.0859\n",
      "  Val Loss: 0.3253 | Val Acc: 90.73%\n",
      "  Saved model with Val Acc: 90.73%\n"
     ]
    },
    {
     "name": "stderr",
     "output_type": "stream",
     "text": [
      "                                                                                                                        \r"
     ]
    },
    {
     "name": "stdout",
     "output_type": "stream",
     "text": [
      "Epoch 6/20\n",
      "  Train Loss: 0.3259\n",
      "  SAE Train Loss (hidden one): 0.6702\n",
      "  SAE Train Loss (hidden two): 0.0825\n",
      "  Val Loss: 0.3055 | Val Acc: 91.43%\n",
      "  Saved model with Val Acc: 91.43%\n"
     ]
    },
    {
     "name": "stderr",
     "output_type": "stream",
     "text": [
      "                                                                                                                        \r"
     ]
    },
    {
     "name": "stdout",
     "output_type": "stream",
     "text": [
      "Epoch 7/20\n",
      "  Train Loss: 0.3178\n",
      "  SAE Train Loss (hidden one): 0.6472\n",
      "  SAE Train Loss (hidden two): 0.0797\n",
      "  Val Loss: 0.3170 | Val Acc: 91.15%\n"
     ]
    },
    {
     "name": "stderr",
     "output_type": "stream",
     "text": [
      "                                                                                                                        \r"
     ]
    },
    {
     "name": "stdout",
     "output_type": "stream",
     "text": [
      "Epoch 8/20\n",
      "  Train Loss: 0.3138\n",
      "  SAE Train Loss (hidden one): 0.7257\n",
      "  SAE Train Loss (hidden two): 0.0751\n",
      "  Val Loss: 0.3115 | Val Acc: 91.30%\n"
     ]
    },
    {
     "name": "stderr",
     "output_type": "stream",
     "text": [
      "                                                                                                                        \r"
     ]
    },
    {
     "name": "stdout",
     "output_type": "stream",
     "text": [
      "Epoch 9/20\n",
      "  Train Loss: 0.3064\n",
      "  SAE Train Loss (hidden one): 0.6608\n",
      "  SAE Train Loss (hidden two): 0.0710\n",
      "  Val Loss: 0.3216 | Val Acc: 90.35%\n"
     ]
    },
    {
     "name": "stderr",
     "output_type": "stream",
     "text": [
      "                                                                                                                        \r"
     ]
    },
    {
     "name": "stdout",
     "output_type": "stream",
     "text": [
      "Epoch 10/20\n",
      "  Train Loss: 0.3040\n",
      "  SAE Train Loss (hidden one): 0.6605\n",
      "  SAE Train Loss (hidden two): 0.0699\n",
      "  Val Loss: 0.3138 | Val Acc: 90.98%\n"
     ]
    },
    {
     "name": "stderr",
     "output_type": "stream",
     "text": [
      "                                                                                                                        \r"
     ]
    },
    {
     "name": "stdout",
     "output_type": "stream",
     "text": [
      "Epoch 11/20\n",
      "  Train Loss: 0.2971\n",
      "  SAE Train Loss (hidden one): 0.6676\n",
      "  SAE Train Loss (hidden two): 0.0658\n",
      "  Val Loss: 0.3127 | Val Acc: 91.52%\n",
      "  Saved model with Val Acc: 91.52%\n"
     ]
    },
    {
     "name": "stderr",
     "output_type": "stream",
     "text": [
      "                                                                                                                        \r"
     ]
    },
    {
     "name": "stdout",
     "output_type": "stream",
     "text": [
      "Epoch 12/20\n",
      "  Train Loss: 0.2949\n",
      "  SAE Train Loss (hidden one): 0.6749\n",
      "  SAE Train Loss (hidden two): 0.0650\n",
      "  Val Loss: 0.3118 | Val Acc: 90.76%\n"
     ]
    },
    {
     "name": "stderr",
     "output_type": "stream",
     "text": [
      "                                                                                                                        \r"
     ]
    },
    {
     "name": "stdout",
     "output_type": "stream",
     "text": [
      "Epoch 13/20\n",
      "  Train Loss: 0.2904\n",
      "  SAE Train Loss (hidden one): 0.7571\n",
      "  SAE Train Loss (hidden two): 0.0623\n",
      "  Val Loss: 0.2998 | Val Acc: 91.23%\n"
     ]
    },
    {
     "name": "stderr",
     "output_type": "stream",
     "text": [
      "                                                                                                                        \r"
     ]
    },
    {
     "name": "stdout",
     "output_type": "stream",
     "text": [
      "Epoch 14/20\n",
      "  Train Loss: 0.2876\n",
      "  SAE Train Loss (hidden one): 0.7182\n",
      "  SAE Train Loss (hidden two): 0.0602\n",
      "  Val Loss: 0.3308 | Val Acc: 90.76%\n"
     ]
    },
    {
     "name": "stderr",
     "output_type": "stream",
     "text": [
      "                                                                                                                        \r"
     ]
    },
    {
     "name": "stdout",
     "output_type": "stream",
     "text": [
      "Epoch 15/20\n",
      "  Train Loss: 0.2865\n",
      "  SAE Train Loss (hidden one): 0.6342\n",
      "  SAE Train Loss (hidden two): 0.0588\n",
      "  Val Loss: 0.3163 | Val Acc: 90.97%\n"
     ]
    },
    {
     "name": "stderr",
     "output_type": "stream",
     "text": [
      "                                                                                                                        \r"
     ]
    },
    {
     "name": "stdout",
     "output_type": "stream",
     "text": [
      "Epoch 16/20\n",
      "  Train Loss: 0.2804\n",
      "  SAE Train Loss (hidden one): 0.7198\n",
      "  SAE Train Loss (hidden two): 0.0556\n",
      "  Val Loss: 0.3005 | Val Acc: 91.57%\n",
      "  Saved model with Val Acc: 91.57%\n"
     ]
    },
    {
     "name": "stderr",
     "output_type": "stream",
     "text": [
      "                                                                                                                        \r"
     ]
    },
    {
     "name": "stdout",
     "output_type": "stream",
     "text": [
      "Epoch 17/20\n",
      "  Train Loss: 0.2813\n",
      "  SAE Train Loss (hidden one): 0.7127\n",
      "  SAE Train Loss (hidden two): 0.0536\n",
      "  Val Loss: 0.2887 | Val Acc: 91.91%\n",
      "  Saved model with Val Acc: 91.91%\n"
     ]
    },
    {
     "name": "stderr",
     "output_type": "stream",
     "text": [
      "                                                                                                                        \r"
     ]
    },
    {
     "name": "stdout",
     "output_type": "stream",
     "text": [
      "Epoch 18/20\n",
      "  Train Loss: 0.2773\n",
      "  SAE Train Loss (hidden one): 0.7003\n",
      "  SAE Train Loss (hidden two): 0.0526\n",
      "  Val Loss: 0.2816 | Val Acc: 91.88%\n"
     ]
    },
    {
     "name": "stderr",
     "output_type": "stream",
     "text": [
      "                                                                                                                        \r"
     ]
    },
    {
     "name": "stdout",
     "output_type": "stream",
     "text": [
      "Epoch 19/20\n",
      "  Train Loss: 0.2758\n",
      "  SAE Train Loss (hidden one): 0.7434\n",
      "  SAE Train Loss (hidden two): 0.0498\n",
      "  Val Loss: 0.3041 | Val Acc: 91.26%\n"
     ]
    },
    {
     "name": "stderr",
     "output_type": "stream",
     "text": [
      "                                                                                                                        \r"
     ]
    },
    {
     "name": "stdout",
     "output_type": "stream",
     "text": [
      "Epoch 20/20\n",
      "  Train Loss: 0.2734\n",
      "  SAE Train Loss (hidden one): 0.7055\n",
      "  SAE Train Loss (hidden two): 0.0503\n",
      "  Val Loss: 0.3031 | Val Acc: 91.22%\n"
     ]
    },
    {
     "name": "stderr",
     "output_type": "stream",
     "text": [
      "Evaluation: 100%|██████████████████████████████████████████████████████████████████████| 79/79 [00:00<00:00, 293.41it/s]"
     ]
    },
    {
     "name": "stdout",
     "output_type": "stream",
     "text": [
      "Final Test Accuracy: 91.92%\n",
      "Average Reconstruction Error (Hidden One): 1.0816\n",
      "Average Reconstruction Error (Hidden Two): 0.0185\n",
      "Average Non-Zero Features per Image (Hidden One): 33.41\n",
      "Average Non-Zero Features per Image (Hidden Two): 35.83\n"
     ]
    },
    {
     "name": "stderr",
     "output_type": "stream",
     "text": [
      "\n",
      "/home/alex/.local/lib/python3.10/site-packages/sklearn/linear_model/_logistic.py:469: ConvergenceWarning: lbfgs failed to converge (status=1):\n",
      "STOP: TOTAL NO. of ITERATIONS REACHED LIMIT.\n",
      "\n",
      "Increase the number of iterations (max_iter) or scale the data as shown in:\n",
      "    https://scikit-learn.org/stable/modules/preprocessing.html\n",
      "Please also refer to the documentation for alternative solver options:\n",
      "    https://scikit-learn.org/stable/modules/linear_model.html#logistic-regression\n",
      "  n_iter_i = _check_optimize_result(\n"
     ]
    },
    {
     "name": "stdout",
     "output_type": "stream",
     "text": [
      "Linear Probe Accuracy (Hidden One): 90.75%\n"
     ]
    },
    {
     "name": "stderr",
     "output_type": "stream",
     "text": [
      "/home/alex/.local/lib/python3.10/site-packages/sklearn/linear_model/_logistic.py:469: ConvergenceWarning: lbfgs failed to converge (status=1):\n",
      "STOP: TOTAL NO. of ITERATIONS REACHED LIMIT.\n",
      "\n",
      "Increase the number of iterations (max_iter) or scale the data as shown in:\n",
      "    https://scikit-learn.org/stable/modules/preprocessing.html\n",
      "Please also refer to the documentation for alternative solver options:\n",
      "    https://scikit-learn.org/stable/modules/linear_model.html#logistic-regression\n",
      "  n_iter_i = _check_optimize_result(\n"
     ]
    },
    {
     "name": "stdout",
     "output_type": "stream",
     "text": [
      "Linear Probe Accuracy (Hidden Two): 89.73%\n",
      "\n",
      "##################################################\n",
      "Loss factor: 0.034000000000000016\n",
      "\n",
      "\n"
     ]
    },
    {
     "name": "stderr",
     "output_type": "stream",
     "text": [
      "                                                                                                                        \r"
     ]
    },
    {
     "name": "stdout",
     "output_type": "stream",
     "text": [
      "Epoch 1/20\n",
      "  Train Loss: 0.9875\n",
      "  SAE Train Loss (hidden one): 9.0423\n",
      "  SAE Train Loss (hidden two): 1.1868\n",
      "  Val Loss: 0.4549 | Val Acc: 86.65%\n",
      "  Saved model with Val Acc: 86.65%\n"
     ]
    },
    {
     "name": "stderr",
     "output_type": "stream",
     "text": [
      "                                                                                                                        \r"
     ]
    },
    {
     "name": "stdout",
     "output_type": "stream",
     "text": [
      "Epoch 2/20\n",
      "  Train Loss: 0.4446\n",
      "  SAE Train Loss (hidden one): 0.4896\n",
      "  SAE Train Loss (hidden two): 0.0973\n",
      "  Val Loss: 0.3889 | Val Acc: 88.65%\n",
      "  Saved model with Val Acc: 88.65%\n"
     ]
    },
    {
     "name": "stderr",
     "output_type": "stream",
     "text": [
      "                                                                                                                        \r"
     ]
    },
    {
     "name": "stdout",
     "output_type": "stream",
     "text": [
      "Epoch 3/20\n",
      "  Train Loss: 0.3836\n",
      "  SAE Train Loss (hidden one): 0.5947\n",
      "  SAE Train Loss (hidden two): 0.1025\n",
      "  Val Loss: 0.3896 | Val Acc: 88.81%\n",
      "  Saved model with Val Acc: 88.81%\n"
     ]
    },
    {
     "name": "stderr",
     "output_type": "stream",
     "text": [
      "                                                                                                                        \r"
     ]
    },
    {
     "name": "stdout",
     "output_type": "stream",
     "text": [
      "Epoch 4/20\n",
      "  Train Loss: 0.3572\n",
      "  SAE Train Loss (hidden one): 0.6159\n",
      "  SAE Train Loss (hidden two): 0.0943\n",
      "  Val Loss: 0.3579 | Val Acc: 89.40%\n",
      "  Saved model with Val Acc: 89.40%\n"
     ]
    },
    {
     "name": "stderr",
     "output_type": "stream",
     "text": [
      "                                                                                                                        \r"
     ]
    },
    {
     "name": "stdout",
     "output_type": "stream",
     "text": [
      "Epoch 5/20\n",
      "  Train Loss: 0.3390\n",
      "  SAE Train Loss (hidden one): 0.6311\n",
      "  SAE Train Loss (hidden two): 0.0894\n",
      "  Val Loss: 0.3362 | Val Acc: 90.15%\n",
      "  Saved model with Val Acc: 90.15%\n"
     ]
    },
    {
     "name": "stderr",
     "output_type": "stream",
     "text": [
      "                                                                                                                        \r"
     ]
    },
    {
     "name": "stdout",
     "output_type": "stream",
     "text": [
      "Epoch 6/20\n",
      "  Train Loss: 0.3278\n",
      "  SAE Train Loss (hidden one): 0.7067\n",
      "  SAE Train Loss (hidden two): 0.0856\n",
      "  Val Loss: 0.3234 | Val Acc: 90.60%\n",
      "  Saved model with Val Acc: 90.60%\n"
     ]
    },
    {
     "name": "stderr",
     "output_type": "stream",
     "text": [
      "                                                                                                                        \r"
     ]
    },
    {
     "name": "stdout",
     "output_type": "stream",
     "text": [
      "Epoch 7/20\n",
      "  Train Loss: 0.3218\n",
      "  SAE Train Loss (hidden one): 0.6971\n",
      "  SAE Train Loss (hidden two): 0.0842\n",
      "  Val Loss: 0.3599 | Val Acc: 89.70%\n"
     ]
    },
    {
     "name": "stderr",
     "output_type": "stream",
     "text": [
      "                                                                                                                        \r"
     ]
    },
    {
     "name": "stdout",
     "output_type": "stream",
     "text": [
      "Epoch 8/20\n",
      "  Train Loss: 0.3136\n",
      "  SAE Train Loss (hidden one): 0.7258\n",
      "  SAE Train Loss (hidden two): 0.0800\n",
      "  Val Loss: 0.3067 | Val Acc: 91.19%\n",
      "  Saved model with Val Acc: 91.19%\n"
     ]
    },
    {
     "name": "stderr",
     "output_type": "stream",
     "text": [
      "                                                                                                                        \r"
     ]
    },
    {
     "name": "stdout",
     "output_type": "stream",
     "text": [
      "Epoch 9/20\n",
      "  Train Loss: 0.3081\n",
      "  SAE Train Loss (hidden one): 0.7678\n",
      "  SAE Train Loss (hidden two): 0.0793\n",
      "  Val Loss: 0.3408 | Val Acc: 90.24%\n"
     ]
    },
    {
     "name": "stderr",
     "output_type": "stream",
     "text": [
      "                                                                                                                        \r"
     ]
    },
    {
     "name": "stdout",
     "output_type": "stream",
     "text": [
      "Epoch 10/20\n",
      "  Train Loss: 0.3048\n",
      "  SAE Train Loss (hidden one): 0.7414\n",
      "  SAE Train Loss (hidden two): 0.0740\n",
      "  Val Loss: 0.3010 | Val Acc: 91.23%\n",
      "  Saved model with Val Acc: 91.23%\n"
     ]
    },
    {
     "name": "stderr",
     "output_type": "stream",
     "text": [
      "                                                                                                                        \r"
     ]
    },
    {
     "name": "stdout",
     "output_type": "stream",
     "text": [
      "Epoch 11/20\n",
      "  Train Loss: 0.2956\n",
      "  SAE Train Loss (hidden one): 0.6867\n",
      "  SAE Train Loss (hidden two): 0.0723\n",
      "  Val Loss: 0.2977 | Val Acc: 91.48%\n",
      "  Saved model with Val Acc: 91.48%\n"
     ]
    },
    {
     "name": "stderr",
     "output_type": "stream",
     "text": [
      "                                                                                                                        \r"
     ]
    },
    {
     "name": "stdout",
     "output_type": "stream",
     "text": [
      "Epoch 12/20\n",
      "  Train Loss: 0.2938\n",
      "  SAE Train Loss (hidden one): 0.8150\n",
      "  SAE Train Loss (hidden two): 0.0678\n",
      "  Val Loss: 0.2952 | Val Acc: 91.44%\n"
     ]
    },
    {
     "name": "stderr",
     "output_type": "stream",
     "text": [
      "                                                                                                                        \r"
     ]
    },
    {
     "name": "stdout",
     "output_type": "stream",
     "text": [
      "Epoch 13/20\n",
      "  Train Loss: 0.2882\n",
      "  SAE Train Loss (hidden one): 0.7054\n",
      "  SAE Train Loss (hidden two): 0.0667\n",
      "  Val Loss: 0.2824 | Val Acc: 91.68%\n",
      "  Saved model with Val Acc: 91.68%\n"
     ]
    },
    {
     "name": "stderr",
     "output_type": "stream",
     "text": [
      "                                                                                                                        \r"
     ]
    },
    {
     "name": "stdout",
     "output_type": "stream",
     "text": [
      "Epoch 14/20\n",
      "  Train Loss: 0.2866\n",
      "  SAE Train Loss (hidden one): 0.7522\n",
      "  SAE Train Loss (hidden two): 0.0631\n",
      "  Val Loss: 0.3133 | Val Acc: 90.98%\n"
     ]
    },
    {
     "name": "stderr",
     "output_type": "stream",
     "text": [
      "                                                                                                                        \r"
     ]
    },
    {
     "name": "stdout",
     "output_type": "stream",
     "text": [
      "Epoch 15/20\n",
      "  Train Loss: 0.2820\n",
      "  SAE Train Loss (hidden one): 0.7450\n",
      "  SAE Train Loss (hidden two): 0.0604\n",
      "  Val Loss: 0.3027 | Val Acc: 91.34%\n"
     ]
    },
    {
     "name": "stderr",
     "output_type": "stream",
     "text": [
      "                                                                                                                        \r"
     ]
    },
    {
     "name": "stdout",
     "output_type": "stream",
     "text": [
      "Epoch 16/20\n",
      "  Train Loss: 0.2791\n",
      "  SAE Train Loss (hidden one): 0.7359\n",
      "  SAE Train Loss (hidden two): 0.0584\n",
      "  Val Loss: 0.3008 | Val Acc: 91.38%\n"
     ]
    },
    {
     "name": "stderr",
     "output_type": "stream",
     "text": [
      "                                                                                                                        \r"
     ]
    },
    {
     "name": "stdout",
     "output_type": "stream",
     "text": [
      "Epoch 17/20\n",
      "  Train Loss: 0.2757\n",
      "  SAE Train Loss (hidden one): 0.7229\n",
      "  SAE Train Loss (hidden two): 0.0570\n",
      "  Val Loss: 0.2885 | Val Acc: 91.68%\n"
     ]
    },
    {
     "name": "stderr",
     "output_type": "stream",
     "text": [
      "                                                                                                                        \r"
     ]
    },
    {
     "name": "stdout",
     "output_type": "stream",
     "text": [
      "Epoch 18/20\n",
      "  Train Loss: 0.2777\n",
      "  SAE Train Loss (hidden one): 0.7951\n",
      "  SAE Train Loss (hidden two): 0.0558\n",
      "  Val Loss: 0.2935 | Val Acc: 91.57%\n"
     ]
    },
    {
     "name": "stderr",
     "output_type": "stream",
     "text": [
      "                                                                                                                        \r"
     ]
    },
    {
     "name": "stdout",
     "output_type": "stream",
     "text": [
      "Epoch 19/20\n",
      "  Train Loss: 0.2724\n",
      "  SAE Train Loss (hidden one): 0.8095\n",
      "  SAE Train Loss (hidden two): 0.0538\n",
      "  Val Loss: 0.2830 | Val Acc: 91.95%\n",
      "  Saved model with Val Acc: 91.95%\n"
     ]
    },
    {
     "name": "stderr",
     "output_type": "stream",
     "text": [
      "                                                                                                                        \r"
     ]
    },
    {
     "name": "stdout",
     "output_type": "stream",
     "text": [
      "Epoch 20/20\n",
      "  Train Loss: 0.2702\n",
      "  SAE Train Loss (hidden one): 0.8516\n",
      "  SAE Train Loss (hidden two): 0.0512\n",
      "  Val Loss: 0.2807 | Val Acc: 91.90%\n"
     ]
    },
    {
     "name": "stderr",
     "output_type": "stream",
     "text": [
      "Evaluation: 100%|██████████████████████████████████████████████████████████████████████| 79/79 [00:00<00:00, 292.75it/s]\n"
     ]
    },
    {
     "name": "stdout",
     "output_type": "stream",
     "text": [
      "Final Test Accuracy: 92.25%\n",
      "Average Reconstruction Error (Hidden One): 0.1521\n",
      "Average Reconstruction Error (Hidden Two): 0.0153\n",
      "Average Non-Zero Features per Image (Hidden One): 33.46\n",
      "Average Non-Zero Features per Image (Hidden Two): 34.64\n"
     ]
    },
    {
     "name": "stderr",
     "output_type": "stream",
     "text": [
      "/home/alex/.local/lib/python3.10/site-packages/sklearn/linear_model/_logistic.py:469: ConvergenceWarning: lbfgs failed to converge (status=1):\n",
      "STOP: TOTAL NO. of ITERATIONS REACHED LIMIT.\n",
      "\n",
      "Increase the number of iterations (max_iter) or scale the data as shown in:\n",
      "    https://scikit-learn.org/stable/modules/preprocessing.html\n",
      "Please also refer to the documentation for alternative solver options:\n",
      "    https://scikit-learn.org/stable/modules/linear_model.html#logistic-regression\n",
      "  n_iter_i = _check_optimize_result(\n"
     ]
    },
    {
     "name": "stdout",
     "output_type": "stream",
     "text": [
      "Linear Probe Accuracy (Hidden One): 92.42%\n"
     ]
    },
    {
     "name": "stderr",
     "output_type": "stream",
     "text": [
      "/home/alex/.local/lib/python3.10/site-packages/sklearn/linear_model/_logistic.py:469: ConvergenceWarning: lbfgs failed to converge (status=1):\n",
      "STOP: TOTAL NO. of ITERATIONS REACHED LIMIT.\n",
      "\n",
      "Increase the number of iterations (max_iter) or scale the data as shown in:\n",
      "    https://scikit-learn.org/stable/modules/preprocessing.html\n",
      "Please also refer to the documentation for alternative solver options:\n",
      "    https://scikit-learn.org/stable/modules/linear_model.html#logistic-regression\n",
      "  n_iter_i = _check_optimize_result(\n"
     ]
    },
    {
     "name": "stdout",
     "output_type": "stream",
     "text": [
      "Linear Probe Accuracy (Hidden Two): 92.41%\n",
      "\n",
      "##################################################\n",
      "Loss factor: 0.03500000000000002\n",
      "\n",
      "\n"
     ]
    },
    {
     "name": "stderr",
     "output_type": "stream",
     "text": [
      "                                                                                                                        \r"
     ]
    },
    {
     "name": "stdout",
     "output_type": "stream",
     "text": [
      "Epoch 1/20\n",
      "  Train Loss: 1.0623\n",
      "  SAE Train Loss (hidden one): 8.8116\n",
      "  SAE Train Loss (hidden two): 1.1893\n",
      "  Val Loss: 0.6526 | Val Acc: 81.97%\n",
      "  Saved model with Val Acc: 81.97%\n"
     ]
    },
    {
     "name": "stderr",
     "output_type": "stream",
     "text": [
      "                                                                                                                        \r"
     ]
    },
    {
     "name": "stdout",
     "output_type": "stream",
     "text": [
      "Epoch 2/20\n",
      "  Train Loss: 0.5547\n",
      "  SAE Train Loss (hidden one): 0.4812\n",
      "  SAE Train Loss (hidden two): 0.0992\n",
      "  Val Loss: 0.4799 | Val Acc: 86.88%\n",
      "  Saved model with Val Acc: 86.88%\n"
     ]
    },
    {
     "name": "stderr",
     "output_type": "stream",
     "text": [
      "                                                                                                                        \r"
     ]
    },
    {
     "name": "stdout",
     "output_type": "stream",
     "text": [
      "Epoch 3/20\n",
      "  Train Loss: 0.4331\n",
      "  SAE Train Loss (hidden one): 0.6548\n",
      "  SAE Train Loss (hidden two): 0.0882\n",
      "  Val Loss: 0.3965 | Val Acc: 88.94%\n",
      "  Saved model with Val Acc: 88.94%\n"
     ]
    },
    {
     "name": "stderr",
     "output_type": "stream",
     "text": [
      "                                                                                                                        \r"
     ]
    },
    {
     "name": "stdout",
     "output_type": "stream",
     "text": [
      "Epoch 4/20\n",
      "  Train Loss: 0.3930\n",
      "  SAE Train Loss (hidden one): 0.6041\n",
      "  SAE Train Loss (hidden two): 0.0855\n",
      "  Val Loss: 0.3359 | Val Acc: 90.52%\n",
      "  Saved model with Val Acc: 90.52%\n"
     ]
    },
    {
     "name": "stderr",
     "output_type": "stream",
     "text": [
      "                                                                                                                        \r"
     ]
    },
    {
     "name": "stdout",
     "output_type": "stream",
     "text": [
      "Epoch 5/20\n",
      "  Train Loss: 0.3582\n",
      "  SAE Train Loss (hidden one): 0.5879\n",
      "  SAE Train Loss (hidden two): 0.0882\n",
      "  Val Loss: 0.3405 | Val Acc: 90.06%\n"
     ]
    },
    {
     "name": "stderr",
     "output_type": "stream",
     "text": [
      "                                                                                                                        \r"
     ]
    },
    {
     "name": "stdout",
     "output_type": "stream",
     "text": [
      "Epoch 6/20\n",
      "  Train Loss: 0.3370\n",
      "  SAE Train Loss (hidden one): 0.5638\n",
      "  SAE Train Loss (hidden two): 0.0748\n",
      "  Val Loss: 0.3201 | Val Acc: 91.09%\n",
      "  Saved model with Val Acc: 91.09%\n"
     ]
    },
    {
     "name": "stderr",
     "output_type": "stream",
     "text": [
      "                                                                                                                        \r"
     ]
    },
    {
     "name": "stdout",
     "output_type": "stream",
     "text": [
      "Epoch 7/20\n",
      "  Train Loss: 0.3237\n",
      "  SAE Train Loss (hidden one): 0.5637\n",
      "  SAE Train Loss (hidden two): 0.0698\n",
      "  Val Loss: 0.3213 | Val Acc: 90.58%\n"
     ]
    },
    {
     "name": "stderr",
     "output_type": "stream",
     "text": [
      "                                                                                                                        \r"
     ]
    },
    {
     "name": "stdout",
     "output_type": "stream",
     "text": [
      "Epoch 8/20\n",
      "  Train Loss: 0.3129\n",
      "  SAE Train Loss (hidden one): 0.5882\n",
      "  SAE Train Loss (hidden two): 0.0637\n",
      "  Val Loss: 0.3277 | Val Acc: 90.96%\n"
     ]
    },
    {
     "name": "stderr",
     "output_type": "stream",
     "text": [
      "                                                                                                                        \r"
     ]
    },
    {
     "name": "stdout",
     "output_type": "stream",
     "text": [
      "Epoch 9/20\n",
      "  Train Loss: 0.3070\n",
      "  SAE Train Loss (hidden one): 0.5713\n",
      "  SAE Train Loss (hidden two): 0.0615\n",
      "  Val Loss: 0.3105 | Val Acc: 90.94%\n"
     ]
    },
    {
     "name": "stderr",
     "output_type": "stream",
     "text": [
      "                                                                                                                        \r"
     ]
    },
    {
     "name": "stdout",
     "output_type": "stream",
     "text": [
      "Epoch 10/20\n",
      "  Train Loss: 0.2961\n",
      "  SAE Train Loss (hidden one): 0.5831\n",
      "  SAE Train Loss (hidden two): 0.0575\n",
      "  Val Loss: 0.3186 | Val Acc: 91.39%\n",
      "  Saved model with Val Acc: 91.39%\n"
     ]
    },
    {
     "name": "stderr",
     "output_type": "stream",
     "text": [
      "                                                                                                                        \r"
     ]
    },
    {
     "name": "stdout",
     "output_type": "stream",
     "text": [
      "Epoch 11/20\n",
      "  Train Loss: 0.2963\n",
      "  SAE Train Loss (hidden one): 0.6037\n",
      "  SAE Train Loss (hidden two): 0.0568\n",
      "  Val Loss: 0.2973 | Val Acc: 91.44%\n",
      "  Saved model with Val Acc: 91.44%\n"
     ]
    },
    {
     "name": "stderr",
     "output_type": "stream",
     "text": [
      "                                                                                                                        \r"
     ]
    },
    {
     "name": "stdout",
     "output_type": "stream",
     "text": [
      "Epoch 12/20\n",
      "  Train Loss: 0.2851\n",
      "  SAE Train Loss (hidden one): 0.6132\n",
      "  SAE Train Loss (hidden two): 0.0525\n",
      "  Val Loss: 0.3033 | Val Acc: 91.61%\n",
      "  Saved model with Val Acc: 91.61%\n"
     ]
    },
    {
     "name": "stderr",
     "output_type": "stream",
     "text": [
      "                                                                                                                        \r"
     ]
    },
    {
     "name": "stdout",
     "output_type": "stream",
     "text": [
      "Epoch 13/20\n",
      "  Train Loss: 0.2813\n",
      "  SAE Train Loss (hidden one): 0.5997\n",
      "  SAE Train Loss (hidden two): 0.0522\n",
      "  Val Loss: 0.2822 | Val Acc: 91.67%\n",
      "  Saved model with Val Acc: 91.67%\n"
     ]
    },
    {
     "name": "stderr",
     "output_type": "stream",
     "text": [
      "                                                                                                                        \r"
     ]
    },
    {
     "name": "stdout",
     "output_type": "stream",
     "text": [
      "Epoch 14/20\n",
      "  Train Loss: 0.2808\n",
      "  SAE Train Loss (hidden one): 0.6131\n",
      "  SAE Train Loss (hidden two): 0.0507\n",
      "  Val Loss: 0.2949 | Val Acc: 91.52%\n"
     ]
    },
    {
     "name": "stderr",
     "output_type": "stream",
     "text": [
      "                                                                                                                        \r"
     ]
    },
    {
     "name": "stdout",
     "output_type": "stream",
     "text": [
      "Epoch 15/20\n",
      "  Train Loss: 0.2793\n",
      "  SAE Train Loss (hidden one): 0.5690\n",
      "  SAE Train Loss (hidden two): 0.0500\n",
      "  Val Loss: 0.2909 | Val Acc: 91.71%\n",
      "  Saved model with Val Acc: 91.71%\n"
     ]
    },
    {
     "name": "stderr",
     "output_type": "stream",
     "text": [
      "                                                                                                                        \r"
     ]
    },
    {
     "name": "stdout",
     "output_type": "stream",
     "text": [
      "Epoch 16/20\n",
      "  Train Loss: 0.2763\n",
      "  SAE Train Loss (hidden one): 0.5760\n",
      "  SAE Train Loss (hidden two): 0.0497\n",
      "  Val Loss: 0.2849 | Val Acc: 91.73%\n",
      "  Saved model with Val Acc: 91.73%\n"
     ]
    },
    {
     "name": "stderr",
     "output_type": "stream",
     "text": [
      "                                                                                                                        \r"
     ]
    },
    {
     "name": "stdout",
     "output_type": "stream",
     "text": [
      "Epoch 17/20\n",
      "  Train Loss: 0.2686\n",
      "  SAE Train Loss (hidden one): 0.5874\n",
      "  SAE Train Loss (hidden two): 0.0483\n",
      "  Val Loss: 0.2838 | Val Acc: 91.79%\n",
      "  Saved model with Val Acc: 91.79%\n"
     ]
    },
    {
     "name": "stderr",
     "output_type": "stream",
     "text": [
      "                                                                                                                        \r"
     ]
    },
    {
     "name": "stdout",
     "output_type": "stream",
     "text": [
      "Epoch 18/20\n",
      "  Train Loss: 0.2675\n",
      "  SAE Train Loss (hidden one): 0.5699\n",
      "  SAE Train Loss (hidden two): 0.0491\n",
      "  Val Loss: 0.2814 | Val Acc: 92.14%\n",
      "  Saved model with Val Acc: 92.14%\n"
     ]
    },
    {
     "name": "stderr",
     "output_type": "stream",
     "text": [
      "                                                                                                                        \r"
     ]
    },
    {
     "name": "stdout",
     "output_type": "stream",
     "text": [
      "Epoch 19/20\n",
      "  Train Loss: 0.2697\n",
      "  SAE Train Loss (hidden one): 0.6195\n",
      "  SAE Train Loss (hidden two): 0.0469\n",
      "  Val Loss: 0.2935 | Val Acc: 91.45%\n"
     ]
    },
    {
     "name": "stderr",
     "output_type": "stream",
     "text": [
      "                                                                                                                        \r"
     ]
    },
    {
     "name": "stdout",
     "output_type": "stream",
     "text": [
      "Epoch 20/20\n",
      "  Train Loss: 0.2631\n",
      "  SAE Train Loss (hidden one): 0.5263\n",
      "  SAE Train Loss (hidden two): 0.0445\n",
      "  Val Loss: 0.2890 | Val Acc: 91.93%\n"
     ]
    },
    {
     "name": "stderr",
     "output_type": "stream",
     "text": [
      "Evaluation: 100%|██████████████████████████████████████████████████████████████████████| 79/79 [00:00<00:00, 313.26it/s]"
     ]
    },
    {
     "name": "stdout",
     "output_type": "stream",
     "text": [
      "Final Test Accuracy: 92.54%\n",
      "Average Reconstruction Error (Hidden One): 0.1701\n",
      "Average Reconstruction Error (Hidden Two): 0.0162\n",
      "Average Non-Zero Features per Image (Hidden One): 32.33\n",
      "Average Non-Zero Features per Image (Hidden Two): 33.07\n"
     ]
    },
    {
     "name": "stderr",
     "output_type": "stream",
     "text": [
      "\n",
      "/home/alex/.local/lib/python3.10/site-packages/sklearn/linear_model/_logistic.py:469: ConvergenceWarning: lbfgs failed to converge (status=1):\n",
      "STOP: TOTAL NO. of ITERATIONS REACHED LIMIT.\n",
      "\n",
      "Increase the number of iterations (max_iter) or scale the data as shown in:\n",
      "    https://scikit-learn.org/stable/modules/preprocessing.html\n",
      "Please also refer to the documentation for alternative solver options:\n",
      "    https://scikit-learn.org/stable/modules/linear_model.html#logistic-regression\n",
      "  n_iter_i = _check_optimize_result(\n"
     ]
    },
    {
     "name": "stdout",
     "output_type": "stream",
     "text": [
      "Linear Probe Accuracy (Hidden One): 91.78%\n"
     ]
    },
    {
     "name": "stderr",
     "output_type": "stream",
     "text": [
      "/home/alex/.local/lib/python3.10/site-packages/sklearn/linear_model/_logistic.py:469: ConvergenceWarning: lbfgs failed to converge (status=1):\n",
      "STOP: TOTAL NO. of ITERATIONS REACHED LIMIT.\n",
      "\n",
      "Increase the number of iterations (max_iter) or scale the data as shown in:\n",
      "    https://scikit-learn.org/stable/modules/preprocessing.html\n",
      "Please also refer to the documentation for alternative solver options:\n",
      "    https://scikit-learn.org/stable/modules/linear_model.html#logistic-regression\n",
      "  n_iter_i = _check_optimize_result(\n"
     ]
    },
    {
     "name": "stdout",
     "output_type": "stream",
     "text": [
      "Linear Probe Accuracy (Hidden Two): 91.56%\n",
      "\n",
      "##################################################\n",
      "Loss factor: 0.03600000000000002\n",
      "\n",
      "\n"
     ]
    },
    {
     "name": "stderr",
     "output_type": "stream",
     "text": [
      "                                                                                                                        \r"
     ]
    },
    {
     "name": "stdout",
     "output_type": "stream",
     "text": [
      "Epoch 1/20\n",
      "  Train Loss: 1.0380\n",
      "  SAE Train Loss (hidden one): 8.8359\n",
      "  SAE Train Loss (hidden two): 1.1820\n",
      "  Val Loss: 0.5726 | Val Acc: 86.44%\n",
      "  Saved model with Val Acc: 86.44%\n"
     ]
    },
    {
     "name": "stderr",
     "output_type": "stream",
     "text": [
      "                                                                                                                        \r"
     ]
    },
    {
     "name": "stdout",
     "output_type": "stream",
     "text": [
      "Epoch 2/20\n",
      "  Train Loss: 0.5084\n",
      "  SAE Train Loss (hidden one): 0.4236\n",
      "  SAE Train Loss (hidden two): 0.0942\n",
      "  Val Loss: 0.4200 | Val Acc: 88.47%\n",
      "  Saved model with Val Acc: 88.47%\n"
     ]
    },
    {
     "name": "stderr",
     "output_type": "stream",
     "text": [
      "                                                                                                                        \r"
     ]
    },
    {
     "name": "stdout",
     "output_type": "stream",
     "text": [
      "Epoch 3/20\n",
      "  Train Loss: 0.4152\n",
      "  SAE Train Loss (hidden one): 0.4421\n",
      "  SAE Train Loss (hidden two): 0.0803\n",
      "  Val Loss: 0.4111 | Val Acc: 88.68%\n",
      "  Saved model with Val Acc: 88.68%\n"
     ]
    },
    {
     "name": "stderr",
     "output_type": "stream",
     "text": [
      "                                                                                                                        \r"
     ]
    },
    {
     "name": "stdout",
     "output_type": "stream",
     "text": [
      "Epoch 4/20\n",
      "  Train Loss: 0.3935\n",
      "  SAE Train Loss (hidden one): 0.4509\n",
      "  SAE Train Loss (hidden two): 0.0737\n",
      "  Val Loss: 0.3662 | Val Acc: 89.43%\n",
      "  Saved model with Val Acc: 89.43%\n"
     ]
    },
    {
     "name": "stderr",
     "output_type": "stream",
     "text": [
      "                                                                                                                        \r"
     ]
    },
    {
     "name": "stdout",
     "output_type": "stream",
     "text": [
      "Epoch 5/20\n",
      "  Train Loss: 0.3765\n",
      "  SAE Train Loss (hidden one): 0.4712\n",
      "  SAE Train Loss (hidden two): 0.0665\n",
      "  Val Loss: 0.3656 | Val Acc: 89.26%\n"
     ]
    },
    {
     "name": "stderr",
     "output_type": "stream",
     "text": [
      "                                                                                                                        \r"
     ]
    },
    {
     "name": "stdout",
     "output_type": "stream",
     "text": [
      "Epoch 6/20\n",
      "  Train Loss: 0.3627\n",
      "  SAE Train Loss (hidden one): 0.4598\n",
      "  SAE Train Loss (hidden two): 0.0629\n",
      "  Val Loss: 0.3388 | Val Acc: 90.36%\n",
      "  Saved model with Val Acc: 90.36%\n"
     ]
    },
    {
     "name": "stderr",
     "output_type": "stream",
     "text": [
      "                                                                                                                        \r"
     ]
    },
    {
     "name": "stdout",
     "output_type": "stream",
     "text": [
      "Epoch 7/20\n",
      "  Train Loss: 0.3574\n",
      "  SAE Train Loss (hidden one): 0.4941\n",
      "  SAE Train Loss (hidden two): 0.0607\n",
      "  Val Loss: 0.3599 | Val Acc: 89.89%\n"
     ]
    },
    {
     "name": "stderr",
     "output_type": "stream",
     "text": [
      "                                                                                                                        \r"
     ]
    },
    {
     "name": "stdout",
     "output_type": "stream",
     "text": [
      "Epoch 8/20\n",
      "  Train Loss: 0.3508\n",
      "  SAE Train Loss (hidden one): 0.5145\n",
      "  SAE Train Loss (hidden two): 0.0575\n",
      "  Val Loss: 0.3288 | Val Acc: 90.73%\n",
      "  Saved model with Val Acc: 90.73%\n"
     ]
    },
    {
     "name": "stderr",
     "output_type": "stream",
     "text": [
      "                                                                                                                        \r"
     ]
    },
    {
     "name": "stdout",
     "output_type": "stream",
     "text": [
      "Epoch 9/20\n",
      "  Train Loss: 0.3403\n",
      "  SAE Train Loss (hidden one): 0.5077\n",
      "  SAE Train Loss (hidden two): 0.0557\n",
      "  Val Loss: 0.3938 | Val Acc: 88.67%\n"
     ]
    },
    {
     "name": "stderr",
     "output_type": "stream",
     "text": [
      "                                                                                                                        \r"
     ]
    },
    {
     "name": "stdout",
     "output_type": "stream",
     "text": [
      "Epoch 10/20\n",
      "  Train Loss: 0.3424\n",
      "  SAE Train Loss (hidden one): 0.4948\n",
      "  SAE Train Loss (hidden two): 0.0541\n",
      "  Val Loss: 0.3516 | Val Acc: 89.69%\n"
     ]
    },
    {
     "name": "stderr",
     "output_type": "stream",
     "text": [
      "                                                                                                                        \r"
     ]
    },
    {
     "name": "stdout",
     "output_type": "stream",
     "text": [
      "Epoch 11/20\n",
      "  Train Loss: 0.3376\n",
      "  SAE Train Loss (hidden one): 0.5698\n",
      "  SAE Train Loss (hidden two): 0.0529\n",
      "  Val Loss: 0.3576 | Val Acc: 90.14%\n"
     ]
    },
    {
     "name": "stderr",
     "output_type": "stream",
     "text": [
      "                                                                                                                        \r"
     ]
    },
    {
     "name": "stdout",
     "output_type": "stream",
     "text": [
      "Epoch 12/20\n",
      "  Train Loss: 0.3321\n",
      "  SAE Train Loss (hidden one): 0.4815\n",
      "  SAE Train Loss (hidden two): 0.0506\n",
      "  Val Loss: 0.3363 | Val Acc: 90.28%\n"
     ]
    },
    {
     "name": "stderr",
     "output_type": "stream",
     "text": [
      "                                                                                                                        \r"
     ]
    },
    {
     "name": "stdout",
     "output_type": "stream",
     "text": [
      "Epoch 13/20\n",
      "  Train Loss: 0.3310\n",
      "  SAE Train Loss (hidden one): 0.5504\n",
      "  SAE Train Loss (hidden two): 0.0474\n",
      "  Val Loss: 0.3298 | Val Acc: 90.45%\n"
     ]
    },
    {
     "name": "stderr",
     "output_type": "stream",
     "text": [
      "                                                                                                                        \r"
     ]
    },
    {
     "name": "stdout",
     "output_type": "stream",
     "text": [
      "Epoch 14/20\n",
      "  Train Loss: 0.3277\n",
      "  SAE Train Loss (hidden one): 0.4811\n",
      "  SAE Train Loss (hidden two): 0.0482\n",
      "  Val Loss: 0.3373 | Val Acc: 90.44%\n"
     ]
    },
    {
     "name": "stderr",
     "output_type": "stream",
     "text": [
      "                                                                                                                        \r"
     ]
    },
    {
     "name": "stdout",
     "output_type": "stream",
     "text": [
      "Epoch 15/20\n",
      "  Train Loss: 0.3264\n",
      "  SAE Train Loss (hidden one): 0.5058\n",
      "  SAE Train Loss (hidden two): 0.0442\n",
      "  Val Loss: 0.3281 | Val Acc: 90.64%\n"
     ]
    },
    {
     "name": "stderr",
     "output_type": "stream",
     "text": [
      "                                                                                                                        \r"
     ]
    },
    {
     "name": "stdout",
     "output_type": "stream",
     "text": [
      "Epoch 16/20\n",
      "  Train Loss: 0.3204\n",
      "  SAE Train Loss (hidden one): 0.4998\n",
      "  SAE Train Loss (hidden two): 0.0454\n",
      "  Val Loss: 0.3319 | Val Acc: 90.58%\n"
     ]
    },
    {
     "name": "stderr",
     "output_type": "stream",
     "text": [
      "                                                                                                                        \r"
     ]
    },
    {
     "name": "stdout",
     "output_type": "stream",
     "text": [
      "Epoch 17/20\n",
      "  Train Loss: 0.3213\n",
      "  SAE Train Loss (hidden one): 0.5641\n",
      "  SAE Train Loss (hidden two): 0.0445\n",
      "  Val Loss: 0.3272 | Val Acc: 90.47%\n"
     ]
    },
    {
     "name": "stderr",
     "output_type": "stream",
     "text": [
      "                                                                                                                        \r"
     ]
    },
    {
     "name": "stdout",
     "output_type": "stream",
     "text": [
      "Epoch 18/20\n",
      "  Train Loss: 0.3201\n",
      "  SAE Train Loss (hidden one): 0.5234\n",
      "  SAE Train Loss (hidden two): 0.0438\n",
      "  Val Loss: 0.3395 | Val Acc: 90.41%\n"
     ]
    },
    {
     "name": "stderr",
     "output_type": "stream",
     "text": [
      "                                                                                                                        \r"
     ]
    },
    {
     "name": "stdout",
     "output_type": "stream",
     "text": [
      "Epoch 19/20\n",
      "  Train Loss: 0.3191\n",
      "  SAE Train Loss (hidden one): 1.4896\n",
      "  SAE Train Loss (hidden two): 0.0442\n",
      "  Val Loss: 0.3428 | Val Acc: 90.00%\n"
     ]
    },
    {
     "name": "stderr",
     "output_type": "stream",
     "text": [
      "                                                                                                                        \r"
     ]
    },
    {
     "name": "stdout",
     "output_type": "stream",
     "text": [
      "Epoch 20/20\n",
      "  Train Loss: 0.3152\n",
      "  SAE Train Loss (hidden one): 0.3777\n",
      "  SAE Train Loss (hidden two): 0.0397\n",
      "  Val Loss: 0.3401 | Val Acc: 90.14%\n"
     ]
    },
    {
     "name": "stderr",
     "output_type": "stream",
     "text": [
      "Evaluation: 100%|██████████████████████████████████████████████████████████████████████| 79/79 [00:00<00:00, 327.69it/s]\n"
     ]
    },
    {
     "name": "stdout",
     "output_type": "stream",
     "text": [
      "Final Test Accuracy: 90.38%\n",
      "Average Reconstruction Error (Hidden One): 0.2649\n",
      "Average Reconstruction Error (Hidden Two): 0.0128\n",
      "Average Non-Zero Features per Image (Hidden One): 33.52\n",
      "Average Non-Zero Features per Image (Hidden Two): 37.54\n"
     ]
    },
    {
     "name": "stderr",
     "output_type": "stream",
     "text": [
      "/home/alex/.local/lib/python3.10/site-packages/sklearn/linear_model/_logistic.py:469: ConvergenceWarning: lbfgs failed to converge (status=1):\n",
      "STOP: TOTAL NO. of ITERATIONS REACHED LIMIT.\n",
      "\n",
      "Increase the number of iterations (max_iter) or scale the data as shown in:\n",
      "    https://scikit-learn.org/stable/modules/preprocessing.html\n",
      "Please also refer to the documentation for alternative solver options:\n",
      "    https://scikit-learn.org/stable/modules/linear_model.html#logistic-regression\n",
      "  n_iter_i = _check_optimize_result(\n"
     ]
    },
    {
     "name": "stdout",
     "output_type": "stream",
     "text": [
      "Linear Probe Accuracy (Hidden One): 54.72%\n"
     ]
    },
    {
     "name": "stderr",
     "output_type": "stream",
     "text": [
      "/home/alex/.local/lib/python3.10/site-packages/sklearn/linear_model/_logistic.py:469: ConvergenceWarning: lbfgs failed to converge (status=1):\n",
      "STOP: TOTAL NO. of ITERATIONS REACHED LIMIT.\n",
      "\n",
      "Increase the number of iterations (max_iter) or scale the data as shown in:\n",
      "    https://scikit-learn.org/stable/modules/preprocessing.html\n",
      "Please also refer to the documentation for alternative solver options:\n",
      "    https://scikit-learn.org/stable/modules/linear_model.html#logistic-regression\n",
      "  n_iter_i = _check_optimize_result(\n"
     ]
    },
    {
     "name": "stdout",
     "output_type": "stream",
     "text": [
      "Linear Probe Accuracy (Hidden Two): 45.76%\n",
      "\n",
      "##################################################\n",
      "Loss factor: 0.03700000000000002\n",
      "\n",
      "\n"
     ]
    },
    {
     "name": "stderr",
     "output_type": "stream",
     "text": [
      "                                                                                                                        \r"
     ]
    },
    {
     "name": "stdout",
     "output_type": "stream",
     "text": [
      "Epoch 1/20\n",
      "  Train Loss: 1.0330\n",
      "  SAE Train Loss (hidden one): 9.0020\n",
      "  SAE Train Loss (hidden two): 1.1885\n",
      "  Val Loss: 0.5346 | Val Acc: 84.64%\n",
      "  Saved model with Val Acc: 84.64%\n"
     ]
    },
    {
     "name": "stderr",
     "output_type": "stream",
     "text": [
      "                                                                                                                        \r"
     ]
    },
    {
     "name": "stdout",
     "output_type": "stream",
     "text": [
      "Epoch 2/20\n",
      "  Train Loss: 0.4532\n",
      "  SAE Train Loss (hidden one): 0.6592\n",
      "  SAE Train Loss (hidden two): 0.1124\n",
      "  Val Loss: 0.4046 | Val Acc: 88.22%\n",
      "  Saved model with Val Acc: 88.22%\n"
     ]
    },
    {
     "name": "stderr",
     "output_type": "stream",
     "text": [
      "                                                                                                                        \r"
     ]
    },
    {
     "name": "stdout",
     "output_type": "stream",
     "text": [
      "Epoch 3/20\n",
      "  Train Loss: 0.3767\n",
      "  SAE Train Loss (hidden one): 0.7298\n",
      "  SAE Train Loss (hidden two): 0.1069\n",
      "  Val Loss: 0.3809 | Val Acc: 89.07%\n",
      "  Saved model with Val Acc: 89.07%\n"
     ]
    },
    {
     "name": "stderr",
     "output_type": "stream",
     "text": [
      "                                                                                                                        \r"
     ]
    },
    {
     "name": "stdout",
     "output_type": "stream",
     "text": [
      "Epoch 4/20\n",
      "  Train Loss: 0.3553\n",
      "  SAE Train Loss (hidden one): 0.6658\n",
      "  SAE Train Loss (hidden two): 0.0962\n",
      "  Val Loss: 0.3609 | Val Acc: 89.11%\n",
      "  Saved model with Val Acc: 89.11%\n"
     ]
    },
    {
     "name": "stderr",
     "output_type": "stream",
     "text": [
      "                                                                                                                        \r"
     ]
    },
    {
     "name": "stdout",
     "output_type": "stream",
     "text": [
      "Epoch 5/20\n",
      "  Train Loss: 0.3401\n",
      "  SAE Train Loss (hidden one): 0.8456\n",
      "  SAE Train Loss (hidden two): 0.0914\n",
      "  Val Loss: 0.3184 | Val Acc: 90.92%\n",
      "  Saved model with Val Acc: 90.92%\n"
     ]
    },
    {
     "name": "stderr",
     "output_type": "stream",
     "text": [
      "                                                                                                                        \r"
     ]
    },
    {
     "name": "stdout",
     "output_type": "stream",
     "text": [
      "Epoch 6/20\n",
      "  Train Loss: 0.3243\n",
      "  SAE Train Loss (hidden one): 0.6884\n",
      "  SAE Train Loss (hidden two): 0.0884\n",
      "  Val Loss: 0.3332 | Val Acc: 89.64%\n"
     ]
    },
    {
     "name": "stderr",
     "output_type": "stream",
     "text": [
      "                                                                                                                        \r"
     ]
    },
    {
     "name": "stdout",
     "output_type": "stream",
     "text": [
      "Epoch 7/20\n",
      "  Train Loss: 0.3186\n",
      "  SAE Train Loss (hidden one): 0.6637\n",
      "  SAE Train Loss (hidden two): 0.0826\n",
      "  Val Loss: 0.3102 | Val Acc: 90.98%\n",
      "  Saved model with Val Acc: 90.98%\n"
     ]
    },
    {
     "name": "stderr",
     "output_type": "stream",
     "text": [
      "                                                                                                                        \r"
     ]
    },
    {
     "name": "stdout",
     "output_type": "stream",
     "text": [
      "Epoch 8/20\n",
      "  Train Loss: 0.3139\n",
      "  SAE Train Loss (hidden one): 0.7106\n",
      "  SAE Train Loss (hidden two): 0.0823\n",
      "  Val Loss: 0.3058 | Val Acc: 91.12%\n",
      "  Saved model with Val Acc: 91.12%\n"
     ]
    },
    {
     "name": "stderr",
     "output_type": "stream",
     "text": [
      "                                                                                                                        \r"
     ]
    },
    {
     "name": "stdout",
     "output_type": "stream",
     "text": [
      "Epoch 9/20\n",
      "  Train Loss: 0.3082\n",
      "  SAE Train Loss (hidden one): 0.6932\n",
      "  SAE Train Loss (hidden two): 0.0748\n",
      "  Val Loss: 0.3448 | Val Acc: 90.03%\n"
     ]
    },
    {
     "name": "stderr",
     "output_type": "stream",
     "text": [
      "                                                                                                                        \r"
     ]
    },
    {
     "name": "stdout",
     "output_type": "stream",
     "text": [
      "Epoch 10/20\n",
      "  Train Loss: 0.3032\n",
      "  SAE Train Loss (hidden one): 0.6100\n",
      "  SAE Train Loss (hidden two): 0.0712\n",
      "  Val Loss: 0.3035 | Val Acc: 91.04%\n"
     ]
    },
    {
     "name": "stderr",
     "output_type": "stream",
     "text": [
      "                                                                                                                        \r"
     ]
    },
    {
     "name": "stdout",
     "output_type": "stream",
     "text": [
      "Epoch 11/20\n",
      "  Train Loss: 0.3004\n",
      "  SAE Train Loss (hidden one): 0.6366\n",
      "  SAE Train Loss (hidden two): 0.0696\n",
      "  Val Loss: 0.2990 | Val Acc: 91.13%\n",
      "  Saved model with Val Acc: 91.13%\n"
     ]
    },
    {
     "name": "stderr",
     "output_type": "stream",
     "text": [
      "                                                                                                                        \r"
     ]
    },
    {
     "name": "stdout",
     "output_type": "stream",
     "text": [
      "Epoch 12/20\n",
      "  Train Loss: 0.2944\n",
      "  SAE Train Loss (hidden one): 0.6454\n",
      "  SAE Train Loss (hidden two): 0.0686\n",
      "  Val Loss: 0.2931 | Val Acc: 91.38%\n",
      "  Saved model with Val Acc: 91.38%\n"
     ]
    },
    {
     "name": "stderr",
     "output_type": "stream",
     "text": [
      "                                                                                                                        \r"
     ]
    },
    {
     "name": "stdout",
     "output_type": "stream",
     "text": [
      "Epoch 13/20\n",
      "  Train Loss: 0.2938\n",
      "  SAE Train Loss (hidden one): 0.6976\n",
      "  SAE Train Loss (hidden two): 0.0653\n",
      "  Val Loss: 0.3003 | Val Acc: 91.11%\n"
     ]
    },
    {
     "name": "stderr",
     "output_type": "stream",
     "text": [
      "                                                                                                                        \r"
     ]
    },
    {
     "name": "stdout",
     "output_type": "stream",
     "text": [
      "Epoch 14/20\n",
      "  Train Loss: 0.2892\n",
      "  SAE Train Loss (hidden one): 0.6341\n",
      "  SAE Train Loss (hidden two): 0.0628\n",
      "  Val Loss: 0.3285 | Val Acc: 90.92%\n"
     ]
    },
    {
     "name": "stderr",
     "output_type": "stream",
     "text": [
      "                                                                                                                        \r"
     ]
    },
    {
     "name": "stdout",
     "output_type": "stream",
     "text": [
      "Epoch 15/20\n",
      "  Train Loss: 0.2890\n",
      "  SAE Train Loss (hidden one): 0.6679\n",
      "  SAE Train Loss (hidden two): 0.0617\n",
      "  Val Loss: 0.3362 | Val Acc: 90.10%\n"
     ]
    },
    {
     "name": "stderr",
     "output_type": "stream",
     "text": [
      "                                                                                                                        \r"
     ]
    },
    {
     "name": "stdout",
     "output_type": "stream",
     "text": [
      "Epoch 16/20\n",
      "  Train Loss: 0.2854\n",
      "  SAE Train Loss (hidden one): 0.6754\n",
      "  SAE Train Loss (hidden two): 0.0593\n",
      "  Val Loss: 0.3147 | Val Acc: 90.69%\n"
     ]
    },
    {
     "name": "stderr",
     "output_type": "stream",
     "text": [
      "                                                                                                                        \r"
     ]
    },
    {
     "name": "stdout",
     "output_type": "stream",
     "text": [
      "Epoch 17/20\n",
      "  Train Loss: 0.2820\n",
      "  SAE Train Loss (hidden one): 0.7338\n",
      "  SAE Train Loss (hidden two): 0.0603\n",
      "  Val Loss: 0.2956 | Val Acc: 91.53%\n",
      "  Saved model with Val Acc: 91.53%\n"
     ]
    },
    {
     "name": "stderr",
     "output_type": "stream",
     "text": [
      "                                                                                                                        \r"
     ]
    },
    {
     "name": "stdout",
     "output_type": "stream",
     "text": [
      "Epoch 18/20\n",
      "  Train Loss: 0.2803\n",
      "  SAE Train Loss (hidden one): 0.7373\n",
      "  SAE Train Loss (hidden two): 0.0554\n",
      "  Val Loss: 0.2860 | Val Acc: 91.81%\n",
      "  Saved model with Val Acc: 91.81%\n"
     ]
    },
    {
     "name": "stderr",
     "output_type": "stream",
     "text": [
      "                                                                                                                        \r"
     ]
    },
    {
     "name": "stdout",
     "output_type": "stream",
     "text": [
      "Epoch 19/20\n",
      "  Train Loss: 0.2789\n",
      "  SAE Train Loss (hidden one): 0.7568\n",
      "  SAE Train Loss (hidden two): 0.0543\n",
      "  Val Loss: 0.2870 | Val Acc: 91.72%\n"
     ]
    },
    {
     "name": "stderr",
     "output_type": "stream",
     "text": [
      "                                                                                                                        \r"
     ]
    },
    {
     "name": "stdout",
     "output_type": "stream",
     "text": [
      "Epoch 20/20\n",
      "  Train Loss: 0.2759\n",
      "  SAE Train Loss (hidden one): 0.6195\n",
      "  SAE Train Loss (hidden two): 0.0529\n",
      "  Val Loss: 0.2939 | Val Acc: 91.47%\n"
     ]
    },
    {
     "name": "stderr",
     "output_type": "stream",
     "text": [
      "Evaluation: 100%|██████████████████████████████████████████████████████████████████████| 79/79 [00:00<00:00, 304.40it/s]"
     ]
    },
    {
     "name": "stdout",
     "output_type": "stream",
     "text": [
      "Final Test Accuracy: 91.68%\n",
      "Average Reconstruction Error (Hidden One): 0.1089\n",
      "Average Reconstruction Error (Hidden Two): 0.0089\n",
      "Average Non-Zero Features per Image (Hidden One): 33.50\n",
      "Average Non-Zero Features per Image (Hidden Two): 35.70\n"
     ]
    },
    {
     "name": "stderr",
     "output_type": "stream",
     "text": [
      "\n",
      "/home/alex/.local/lib/python3.10/site-packages/sklearn/linear_model/_logistic.py:469: ConvergenceWarning: lbfgs failed to converge (status=1):\n",
      "STOP: TOTAL NO. of ITERATIONS REACHED LIMIT.\n",
      "\n",
      "Increase the number of iterations (max_iter) or scale the data as shown in:\n",
      "    https://scikit-learn.org/stable/modules/preprocessing.html\n",
      "Please also refer to the documentation for alternative solver options:\n",
      "    https://scikit-learn.org/stable/modules/linear_model.html#logistic-regression\n",
      "  n_iter_i = _check_optimize_result(\n"
     ]
    },
    {
     "name": "stdout",
     "output_type": "stream",
     "text": [
      "Linear Probe Accuracy (Hidden One): 91.35%\n"
     ]
    },
    {
     "name": "stderr",
     "output_type": "stream",
     "text": [
      "/home/alex/.local/lib/python3.10/site-packages/sklearn/linear_model/_logistic.py:469: ConvergenceWarning: lbfgs failed to converge (status=1):\n",
      "STOP: TOTAL NO. of ITERATIONS REACHED LIMIT.\n",
      "\n",
      "Increase the number of iterations (max_iter) or scale the data as shown in:\n",
      "    https://scikit-learn.org/stable/modules/preprocessing.html\n",
      "Please also refer to the documentation for alternative solver options:\n",
      "    https://scikit-learn.org/stable/modules/linear_model.html#logistic-regression\n",
      "  n_iter_i = _check_optimize_result(\n"
     ]
    },
    {
     "name": "stdout",
     "output_type": "stream",
     "text": [
      "Linear Probe Accuracy (Hidden Two): 91.69%\n",
      "\n",
      "##################################################\n",
      "Loss factor: 0.03800000000000002\n",
      "\n",
      "\n"
     ]
    },
    {
     "name": "stderr",
     "output_type": "stream",
     "text": [
      "                                                                                                                        \r"
     ]
    },
    {
     "name": "stdout",
     "output_type": "stream",
     "text": [
      "Epoch 1/20\n",
      "  Train Loss: 1.0414\n",
      "  SAE Train Loss (hidden one): 8.6704\n",
      "  SAE Train Loss (hidden two): 1.1796\n",
      "  Val Loss: 0.5730 | Val Acc: 84.09%\n",
      "  Saved model with Val Acc: 84.09%\n"
     ]
    },
    {
     "name": "stderr",
     "output_type": "stream",
     "text": [
      "                                                                                                                        \r"
     ]
    },
    {
     "name": "stdout",
     "output_type": "stream",
     "text": [
      "Epoch 2/20\n",
      "  Train Loss: 0.4840\n",
      "  SAE Train Loss (hidden one): 0.6441\n",
      "  SAE Train Loss (hidden two): 0.1268\n",
      "  Val Loss: 0.4150 | Val Acc: 87.67%\n",
      "  Saved model with Val Acc: 87.67%\n"
     ]
    },
    {
     "name": "stderr",
     "output_type": "stream",
     "text": [
      "                                                                                                                        \r"
     ]
    },
    {
     "name": "stdout",
     "output_type": "stream",
     "text": [
      "Epoch 3/20\n",
      "  Train Loss: 0.3975\n",
      "  SAE Train Loss (hidden one): 0.6388\n",
      "  SAE Train Loss (hidden two): 0.1067\n",
      "  Val Loss: 0.3740 | Val Acc: 89.11%\n",
      "  Saved model with Val Acc: 89.11%\n"
     ]
    },
    {
     "name": "stderr",
     "output_type": "stream",
     "text": [
      "                                                                                                                        \r"
     ]
    },
    {
     "name": "stdout",
     "output_type": "stream",
     "text": [
      "Epoch 4/20\n",
      "  Train Loss: 0.3687\n",
      "  SAE Train Loss (hidden one): 0.5832\n",
      "  SAE Train Loss (hidden two): 0.0933\n",
      "  Val Loss: 0.3517 | Val Acc: 89.30%\n",
      "  Saved model with Val Acc: 89.30%\n"
     ]
    },
    {
     "name": "stderr",
     "output_type": "stream",
     "text": [
      "                                                                                                                        \r"
     ]
    },
    {
     "name": "stdout",
     "output_type": "stream",
     "text": [
      "Epoch 5/20\n",
      "  Train Loss: 0.3577\n",
      "  SAE Train Loss (hidden one): 0.7178\n",
      "  SAE Train Loss (hidden two): 0.0882\n",
      "  Val Loss: 0.3320 | Val Acc: 90.34%\n",
      "  Saved model with Val Acc: 90.34%\n"
     ]
    },
    {
     "name": "stderr",
     "output_type": "stream",
     "text": [
      "                                                                                                                        \r"
     ]
    },
    {
     "name": "stdout",
     "output_type": "stream",
     "text": [
      "Epoch 6/20\n",
      "  Train Loss: 0.3425\n",
      "  SAE Train Loss (hidden one): 0.6459\n",
      "  SAE Train Loss (hidden two): 0.0847\n",
      "  Val Loss: 0.3340 | Val Acc: 90.10%\n"
     ]
    },
    {
     "name": "stderr",
     "output_type": "stream",
     "text": [
      "                                                                                                                        \r"
     ]
    },
    {
     "name": "stdout",
     "output_type": "stream",
     "text": [
      "Epoch 7/20\n",
      "  Train Loss: 0.3385\n",
      "  SAE Train Loss (hidden one): 0.5734\n",
      "  SAE Train Loss (hidden two): 0.0761\n",
      "  Val Loss: 0.3455 | Val Acc: 90.15%\n"
     ]
    },
    {
     "name": "stderr",
     "output_type": "stream",
     "text": [
      "                                                                                                                        \r"
     ]
    },
    {
     "name": "stdout",
     "output_type": "stream",
     "text": [
      "Epoch 8/20\n",
      "  Train Loss: 0.3308\n",
      "  SAE Train Loss (hidden one): 0.6430\n",
      "  SAE Train Loss (hidden two): 0.0758\n",
      "  Val Loss: 0.3239 | Val Acc: 90.69%\n",
      "  Saved model with Val Acc: 90.69%\n"
     ]
    },
    {
     "name": "stderr",
     "output_type": "stream",
     "text": [
      "                                                                                                                        \r"
     ]
    },
    {
     "name": "stdout",
     "output_type": "stream",
     "text": [
      "Epoch 9/20\n",
      "  Train Loss: 0.3248\n",
      "  SAE Train Loss (hidden one): 0.7340\n",
      "  SAE Train Loss (hidden two): 0.0724\n",
      "  Val Loss: 0.3404 | Val Acc: 90.06%\n"
     ]
    },
    {
     "name": "stderr",
     "output_type": "stream",
     "text": [
      "                                                                                                                        \r"
     ]
    },
    {
     "name": "stdout",
     "output_type": "stream",
     "text": [
      "Epoch 10/20\n",
      "  Train Loss: 0.3174\n",
      "  SAE Train Loss (hidden one): 0.7207\n",
      "  SAE Train Loss (hidden two): 0.0707\n",
      "  Val Loss: 0.3223 | Val Acc: 90.48%\n"
     ]
    },
    {
     "name": "stderr",
     "output_type": "stream",
     "text": [
      "                                                                                                                        \r"
     ]
    },
    {
     "name": "stdout",
     "output_type": "stream",
     "text": [
      "Epoch 11/20\n",
      "  Train Loss: 0.3106\n",
      "  SAE Train Loss (hidden one): 0.9405\n",
      "  SAE Train Loss (hidden two): 0.0716\n",
      "  Val Loss: 0.3276 | Val Acc: 90.60%\n"
     ]
    },
    {
     "name": "stderr",
     "output_type": "stream",
     "text": [
      "                                                                                                                        \r"
     ]
    },
    {
     "name": "stdout",
     "output_type": "stream",
     "text": [
      "Epoch 12/20\n",
      "  Train Loss: 0.3082\n",
      "  SAE Train Loss (hidden one): 0.8796\n",
      "  SAE Train Loss (hidden two): 0.0673\n",
      "  Val Loss: 0.3205 | Val Acc: 90.39%\n"
     ]
    },
    {
     "name": "stderr",
     "output_type": "stream",
     "text": [
      "                                                                                                                        \r"
     ]
    },
    {
     "name": "stdout",
     "output_type": "stream",
     "text": [
      "Epoch 13/20\n",
      "  Train Loss: 0.3024\n",
      "  SAE Train Loss (hidden one): 0.6829\n",
      "  SAE Train Loss (hidden two): 0.0628\n",
      "  Val Loss: 0.3120 | Val Acc: 90.91%\n",
      "  Saved model with Val Acc: 90.91%\n"
     ]
    },
    {
     "name": "stderr",
     "output_type": "stream",
     "text": [
      "                                                                                                                        \r"
     ]
    },
    {
     "name": "stdout",
     "output_type": "stream",
     "text": [
      "Epoch 14/20\n",
      "  Train Loss: 0.2983\n",
      "  SAE Train Loss (hidden one): 0.9247\n",
      "  SAE Train Loss (hidden two): 0.0603\n",
      "  Val Loss: 0.3184 | Val Acc: 91.06%\n",
      "  Saved model with Val Acc: 91.06%\n"
     ]
    },
    {
     "name": "stderr",
     "output_type": "stream",
     "text": [
      "                                                                                                                        \r"
     ]
    },
    {
     "name": "stdout",
     "output_type": "stream",
     "text": [
      "Epoch 15/20\n",
      "  Train Loss: 0.2939\n",
      "  SAE Train Loss (hidden one): 0.7710\n",
      "  SAE Train Loss (hidden two): 0.0588\n",
      "  Val Loss: 0.3210 | Val Acc: 90.51%\n"
     ]
    },
    {
     "name": "stderr",
     "output_type": "stream",
     "text": [
      "                                                                                                                        \r"
     ]
    },
    {
     "name": "stdout",
     "output_type": "stream",
     "text": [
      "Epoch 16/20\n",
      "  Train Loss: 0.2916\n",
      "  SAE Train Loss (hidden one): 0.8655\n",
      "  SAE Train Loss (hidden two): 0.0580\n",
      "  Val Loss: 0.3066 | Val Acc: 91.00%\n"
     ]
    },
    {
     "name": "stderr",
     "output_type": "stream",
     "text": [
      "                                                                                                                        \r"
     ]
    },
    {
     "name": "stdout",
     "output_type": "stream",
     "text": [
      "Epoch 17/20\n",
      "  Train Loss: 0.2867\n",
      "  SAE Train Loss (hidden one): 0.8216\n",
      "  SAE Train Loss (hidden two): 0.0555\n",
      "  Val Loss: 0.3015 | Val Acc: 90.98%\n"
     ]
    },
    {
     "name": "stderr",
     "output_type": "stream",
     "text": [
      "                                                                                                                        \r"
     ]
    },
    {
     "name": "stdout",
     "output_type": "stream",
     "text": [
      "Epoch 18/20\n",
      "  Train Loss: 0.2821\n",
      "  SAE Train Loss (hidden one): 0.9889\n",
      "  SAE Train Loss (hidden two): 0.0555\n",
      "  Val Loss: 0.2857 | Val Acc: 91.59%\n",
      "  Saved model with Val Acc: 91.59%\n"
     ]
    },
    {
     "name": "stderr",
     "output_type": "stream",
     "text": [
      "                                                                                                                        \r"
     ]
    },
    {
     "name": "stdout",
     "output_type": "stream",
     "text": [
      "Epoch 19/20\n",
      "  Train Loss: 0.2810\n",
      "  SAE Train Loss (hidden one): 0.8548\n",
      "  SAE Train Loss (hidden two): 0.0546\n",
      "  Val Loss: 0.3098 | Val Acc: 90.89%\n"
     ]
    },
    {
     "name": "stderr",
     "output_type": "stream",
     "text": [
      "                                                                                                                        \r"
     ]
    },
    {
     "name": "stdout",
     "output_type": "stream",
     "text": [
      "Epoch 20/20\n",
      "  Train Loss: 0.2765\n",
      "  SAE Train Loss (hidden one): 0.8415\n",
      "  SAE Train Loss (hidden two): 0.0525\n",
      "  Val Loss: 0.2891 | Val Acc: 91.37%\n"
     ]
    },
    {
     "name": "stderr",
     "output_type": "stream",
     "text": [
      "Evaluation: 100%|██████████████████████████████████████████████████████████████████████| 79/79 [00:00<00:00, 307.03it/s]\n"
     ]
    },
    {
     "name": "stdout",
     "output_type": "stream",
     "text": [
      "Final Test Accuracy: 92.15%\n",
      "Average Reconstruction Error (Hidden One): 0.2363\n",
      "Average Reconstruction Error (Hidden Two): 0.0153\n",
      "Average Non-Zero Features per Image (Hidden One): 33.73\n",
      "Average Non-Zero Features per Image (Hidden Two): 35.64\n"
     ]
    },
    {
     "name": "stderr",
     "output_type": "stream",
     "text": [
      "/home/alex/.local/lib/python3.10/site-packages/sklearn/linear_model/_logistic.py:469: ConvergenceWarning: lbfgs failed to converge (status=1):\n",
      "STOP: TOTAL NO. of ITERATIONS REACHED LIMIT.\n",
      "\n",
      "Increase the number of iterations (max_iter) or scale the data as shown in:\n",
      "    https://scikit-learn.org/stable/modules/preprocessing.html\n",
      "Please also refer to the documentation for alternative solver options:\n",
      "    https://scikit-learn.org/stable/modules/linear_model.html#logistic-regression\n",
      "  n_iter_i = _check_optimize_result(\n"
     ]
    },
    {
     "name": "stdout",
     "output_type": "stream",
     "text": [
      "Linear Probe Accuracy (Hidden One): 92.21%\n"
     ]
    },
    {
     "name": "stderr",
     "output_type": "stream",
     "text": [
      "/home/alex/.local/lib/python3.10/site-packages/sklearn/linear_model/_logistic.py:469: ConvergenceWarning: lbfgs failed to converge (status=1):\n",
      "STOP: TOTAL NO. of ITERATIONS REACHED LIMIT.\n",
      "\n",
      "Increase the number of iterations (max_iter) or scale the data as shown in:\n",
      "    https://scikit-learn.org/stable/modules/preprocessing.html\n",
      "Please also refer to the documentation for alternative solver options:\n",
      "    https://scikit-learn.org/stable/modules/linear_model.html#logistic-regression\n",
      "  n_iter_i = _check_optimize_result(\n"
     ]
    },
    {
     "name": "stdout",
     "output_type": "stream",
     "text": [
      "Linear Probe Accuracy (Hidden Two): 91.61%\n",
      "\n",
      "##################################################\n",
      "Loss factor: 0.03900000000000002\n",
      "\n",
      "\n"
     ]
    },
    {
     "name": "stderr",
     "output_type": "stream",
     "text": [
      "                                                                                                                        \r"
     ]
    },
    {
     "name": "stdout",
     "output_type": "stream",
     "text": [
      "Epoch 1/20\n",
      "  Train Loss: 1.0440\n",
      "  SAE Train Loss (hidden one): 8.9971\n",
      "  SAE Train Loss (hidden two): 1.1865\n",
      "  Val Loss: 0.5391 | Val Acc: 84.65%\n",
      "  Saved model with Val Acc: 84.65%\n"
     ]
    },
    {
     "name": "stderr",
     "output_type": "stream",
     "text": [
      "                                                                                                                        \r"
     ]
    },
    {
     "name": "stdout",
     "output_type": "stream",
     "text": [
      "Epoch 2/20\n",
      "  Train Loss: 0.4584\n",
      "  SAE Train Loss (hidden one): 0.5863\n",
      "  SAE Train Loss (hidden two): 0.1059\n",
      "  Val Loss: 0.4250 | Val Acc: 87.66%\n",
      "  Saved model with Val Acc: 87.66%\n"
     ]
    },
    {
     "name": "stderr",
     "output_type": "stream",
     "text": [
      "                                                                                                                        \r"
     ]
    },
    {
     "name": "stdout",
     "output_type": "stream",
     "text": [
      "Epoch 3/20\n",
      "  Train Loss: 0.3884\n",
      "  SAE Train Loss (hidden one): 0.6553\n",
      "  SAE Train Loss (hidden two): 0.0959\n",
      "  Val Loss: 0.3786 | Val Acc: 89.07%\n",
      "  Saved model with Val Acc: 89.07%\n"
     ]
    },
    {
     "name": "stderr",
     "output_type": "stream",
     "text": [
      "                                                                                                                        \r"
     ]
    },
    {
     "name": "stdout",
     "output_type": "stream",
     "text": [
      "Epoch 4/20\n",
      "  Train Loss: 0.3639\n",
      "  SAE Train Loss (hidden one): 0.6417\n",
      "  SAE Train Loss (hidden two): 0.0910\n",
      "  Val Loss: 0.3525 | Val Acc: 89.74%\n",
      "  Saved model with Val Acc: 89.74%\n"
     ]
    },
    {
     "name": "stderr",
     "output_type": "stream",
     "text": [
      "                                                                                                                        \r"
     ]
    },
    {
     "name": "stdout",
     "output_type": "stream",
     "text": [
      "Epoch 5/20\n",
      "  Train Loss: 0.3468\n",
      "  SAE Train Loss (hidden one): 0.6507\n",
      "  SAE Train Loss (hidden two): 0.0868\n",
      "  Val Loss: 0.3351 | Val Acc: 90.25%\n",
      "  Saved model with Val Acc: 90.25%\n"
     ]
    },
    {
     "name": "stderr",
     "output_type": "stream",
     "text": [
      "                                                                                                                        \r"
     ]
    },
    {
     "name": "stdout",
     "output_type": "stream",
     "text": [
      "Epoch 6/20\n",
      "  Train Loss: 0.3317\n",
      "  SAE Train Loss (hidden one): 0.6803\n",
      "  SAE Train Loss (hidden two): 0.0831\n",
      "  Val Loss: 0.3290 | Val Acc: 90.07%\n"
     ]
    },
    {
     "name": "stderr",
     "output_type": "stream",
     "text": [
      "                                                                                                                        \r"
     ]
    },
    {
     "name": "stdout",
     "output_type": "stream",
     "text": [
      "Epoch 7/20\n",
      "  Train Loss: 0.3258\n",
      "  SAE Train Loss (hidden one): 0.7453\n",
      "  SAE Train Loss (hidden two): 0.0781\n",
      "  Val Loss: 0.3227 | Val Acc: 90.77%\n",
      "  Saved model with Val Acc: 90.77%\n"
     ]
    },
    {
     "name": "stderr",
     "output_type": "stream",
     "text": [
      "                                                                                                                        \r"
     ]
    },
    {
     "name": "stdout",
     "output_type": "stream",
     "text": [
      "Epoch 8/20\n",
      "  Train Loss: 0.3202\n",
      "  SAE Train Loss (hidden one): 0.6739\n",
      "  SAE Train Loss (hidden two): 0.0770\n",
      "  Val Loss: 0.3084 | Val Acc: 90.83%\n",
      "  Saved model with Val Acc: 90.83%\n"
     ]
    },
    {
     "name": "stderr",
     "output_type": "stream",
     "text": [
      "                                                                                                                        \r"
     ]
    },
    {
     "name": "stdout",
     "output_type": "stream",
     "text": [
      "Epoch 9/20\n",
      "  Train Loss: 0.3137\n",
      "  SAE Train Loss (hidden one): 0.6912\n",
      "  SAE Train Loss (hidden two): 0.0715\n",
      "  Val Loss: 0.3318 | Val Acc: 90.69%\n"
     ]
    },
    {
     "name": "stderr",
     "output_type": "stream",
     "text": [
      "                                                                                                                        \r"
     ]
    },
    {
     "name": "stdout",
     "output_type": "stream",
     "text": [
      "Epoch 10/20\n",
      "  Train Loss: 0.3083\n",
      "  SAE Train Loss (hidden one): 0.6513\n",
      "  SAE Train Loss (hidden two): 0.0686\n",
      "  Val Loss: 0.3109 | Val Acc: 90.81%\n"
     ]
    },
    {
     "name": "stderr",
     "output_type": "stream",
     "text": [
      "                                                                                                                        \r"
     ]
    },
    {
     "name": "stdout",
     "output_type": "stream",
     "text": [
      "Epoch 11/20\n",
      "  Train Loss: 0.3019\n",
      "  SAE Train Loss (hidden one): 0.6688\n",
      "  SAE Train Loss (hidden two): 0.0668\n",
      "  Val Loss: 0.3129 | Val Acc: 90.94%\n",
      "  Saved model with Val Acc: 90.94%\n"
     ]
    },
    {
     "name": "stderr",
     "output_type": "stream",
     "text": [
      "                                                                                                                        \r"
     ]
    },
    {
     "name": "stdout",
     "output_type": "stream",
     "text": [
      "Epoch 12/20\n",
      "  Train Loss: 0.3003\n",
      "  SAE Train Loss (hidden one): 0.6974\n",
      "  SAE Train Loss (hidden two): 0.0656\n",
      "  Val Loss: 0.3002 | Val Acc: 91.11%\n",
      "  Saved model with Val Acc: 91.11%\n"
     ]
    },
    {
     "name": "stderr",
     "output_type": "stream",
     "text": [
      "                                                                                                                        \r"
     ]
    },
    {
     "name": "stdout",
     "output_type": "stream",
     "text": [
      "Epoch 13/20\n",
      "  Train Loss: 0.2975\n",
      "  SAE Train Loss (hidden one): 0.6850\n",
      "  SAE Train Loss (hidden two): 0.0637\n",
      "  Val Loss: 0.2964 | Val Acc: 91.24%\n",
      "  Saved model with Val Acc: 91.24%\n"
     ]
    },
    {
     "name": "stderr",
     "output_type": "stream",
     "text": [
      "                                                                                                                        \r"
     ]
    },
    {
     "name": "stdout",
     "output_type": "stream",
     "text": [
      "Epoch 14/20\n",
      "  Train Loss: 0.2921\n",
      "  SAE Train Loss (hidden one): 0.6690\n",
      "  SAE Train Loss (hidden two): 0.0604\n",
      "  Val Loss: 0.3268 | Val Acc: 90.79%\n"
     ]
    },
    {
     "name": "stderr",
     "output_type": "stream",
     "text": [
      "                                                                                                                        \r"
     ]
    },
    {
     "name": "stdout",
     "output_type": "stream",
     "text": [
      "Epoch 15/20\n",
      "  Train Loss: 0.2904\n",
      "  SAE Train Loss (hidden one): 0.6729\n",
      "  SAE Train Loss (hidden two): 0.0586\n",
      "  Val Loss: 0.2946 | Val Acc: 91.39%\n",
      "  Saved model with Val Acc: 91.39%\n"
     ]
    },
    {
     "name": "stderr",
     "output_type": "stream",
     "text": [
      "                                                                                                                        \r"
     ]
    },
    {
     "name": "stdout",
     "output_type": "stream",
     "text": [
      "Epoch 16/20\n",
      "  Train Loss: 0.2890\n",
      "  SAE Train Loss (hidden one): 0.7171\n",
      "  SAE Train Loss (hidden two): 0.0576\n",
      "  Val Loss: 0.3083 | Val Acc: 91.14%\n"
     ]
    },
    {
     "name": "stderr",
     "output_type": "stream",
     "text": [
      "                                                                                                                        \r"
     ]
    },
    {
     "name": "stdout",
     "output_type": "stream",
     "text": [
      "Epoch 17/20\n",
      "  Train Loss: 0.2877\n",
      "  SAE Train Loss (hidden one): 0.7744\n",
      "  SAE Train Loss (hidden two): 0.0563\n",
      "  Val Loss: 0.3020 | Val Acc: 91.35%\n"
     ]
    },
    {
     "name": "stderr",
     "output_type": "stream",
     "text": [
      "                                                                                                                        \r"
     ]
    },
    {
     "name": "stdout",
     "output_type": "stream",
     "text": [
      "Epoch 18/20\n",
      "  Train Loss: 0.2863\n",
      "  SAE Train Loss (hidden one): 0.6643\n",
      "  SAE Train Loss (hidden two): 0.0557\n",
      "  Val Loss: 0.2826 | Val Acc: 91.89%\n",
      "  Saved model with Val Acc: 91.89%\n"
     ]
    },
    {
     "name": "stderr",
     "output_type": "stream",
     "text": [
      "                                                                                                                        \r"
     ]
    },
    {
     "name": "stdout",
     "output_type": "stream",
     "text": [
      "Epoch 19/20\n",
      "  Train Loss: 0.2839\n",
      "  SAE Train Loss (hidden one): 0.6820\n",
      "  SAE Train Loss (hidden two): 0.0528\n",
      "  Val Loss: 0.2847 | Val Acc: 91.81%\n"
     ]
    },
    {
     "name": "stderr",
     "output_type": "stream",
     "text": [
      "                                                                                                                        \r"
     ]
    },
    {
     "name": "stdout",
     "output_type": "stream",
     "text": [
      "Epoch 20/20\n",
      "  Train Loss: 0.2795\n",
      "  SAE Train Loss (hidden one): 0.7633\n",
      "  SAE Train Loss (hidden two): 0.0516\n",
      "  Val Loss: 0.3058 | Val Acc: 91.23%\n"
     ]
    },
    {
     "name": "stderr",
     "output_type": "stream",
     "text": [
      "Evaluation: 100%|██████████████████████████████████████████████████████████████████████| 79/79 [00:00<00:00, 293.80it/s]"
     ]
    },
    {
     "name": "stdout",
     "output_type": "stream",
     "text": [
      "Final Test Accuracy: 91.95%\n",
      "Average Reconstruction Error (Hidden One): 0.5564\n",
      "Average Reconstruction Error (Hidden Two): 0.0126\n",
      "Average Non-Zero Features per Image (Hidden One): 33.76\n",
      "Average Non-Zero Features per Image (Hidden Two): 35.10\n"
     ]
    },
    {
     "name": "stderr",
     "output_type": "stream",
     "text": [
      "\n",
      "/home/alex/.local/lib/python3.10/site-packages/sklearn/linear_model/_logistic.py:469: ConvergenceWarning: lbfgs failed to converge (status=1):\n",
      "STOP: TOTAL NO. of ITERATIONS REACHED LIMIT.\n",
      "\n",
      "Increase the number of iterations (max_iter) or scale the data as shown in:\n",
      "    https://scikit-learn.org/stable/modules/preprocessing.html\n",
      "Please also refer to the documentation for alternative solver options:\n",
      "    https://scikit-learn.org/stable/modules/linear_model.html#logistic-regression\n",
      "  n_iter_i = _check_optimize_result(\n"
     ]
    },
    {
     "name": "stdout",
     "output_type": "stream",
     "text": [
      "Linear Probe Accuracy (Hidden One): 91.15%\n"
     ]
    },
    {
     "name": "stderr",
     "output_type": "stream",
     "text": [
      "/home/alex/.local/lib/python3.10/site-packages/sklearn/linear_model/_logistic.py:469: ConvergenceWarning: lbfgs failed to converge (status=1):\n",
      "STOP: TOTAL NO. of ITERATIONS REACHED LIMIT.\n",
      "\n",
      "Increase the number of iterations (max_iter) or scale the data as shown in:\n",
      "    https://scikit-learn.org/stable/modules/preprocessing.html\n",
      "Please also refer to the documentation for alternative solver options:\n",
      "    https://scikit-learn.org/stable/modules/linear_model.html#logistic-regression\n",
      "  n_iter_i = _check_optimize_result(\n"
     ]
    },
    {
     "name": "stdout",
     "output_type": "stream",
     "text": [
      "Linear Probe Accuracy (Hidden Two): 90.43%\n",
      "\n",
      "##################################################\n",
      "Loss factor: 0.04000000000000002\n",
      "\n",
      "\n"
     ]
    },
    {
     "name": "stderr",
     "output_type": "stream",
     "text": [
      "                                                                                                                        \r"
     ]
    },
    {
     "name": "stdout",
     "output_type": "stream",
     "text": [
      "Epoch 1/20\n",
      "  Train Loss: 1.0574\n",
      "  SAE Train Loss (hidden one): 9.0831\n",
      "  SAE Train Loss (hidden two): 1.1842\n",
      "  Val Loss: 0.5568 | Val Acc: 83.84%\n",
      "  Saved model with Val Acc: 83.84%\n"
     ]
    },
    {
     "name": "stderr",
     "output_type": "stream",
     "text": [
      "                                                                                                                        \r"
     ]
    },
    {
     "name": "stdout",
     "output_type": "stream",
     "text": [
      "Epoch 2/20\n",
      "  Train Loss: 0.4624\n",
      "  SAE Train Loss (hidden one): 0.6097\n",
      "  SAE Train Loss (hidden two): 0.1096\n",
      "  Val Loss: 0.4000 | Val Acc: 88.38%\n",
      "  Saved model with Val Acc: 88.38%\n"
     ]
    },
    {
     "name": "stderr",
     "output_type": "stream",
     "text": [
      "                                                                                                                        \r"
     ]
    },
    {
     "name": "stdout",
     "output_type": "stream",
     "text": [
      "Epoch 3/20\n",
      "  Train Loss: 0.3853\n",
      "  SAE Train Loss (hidden one): 0.6649\n",
      "  SAE Train Loss (hidden two): 0.1004\n",
      "  Val Loss: 0.3912 | Val Acc: 88.66%\n",
      "  Saved model with Val Acc: 88.66%\n"
     ]
    },
    {
     "name": "stderr",
     "output_type": "stream",
     "text": [
      "                                                                                                                        \r"
     ]
    },
    {
     "name": "stdout",
     "output_type": "stream",
     "text": [
      "Epoch 4/20\n",
      "  Train Loss: 0.3590\n",
      "  SAE Train Loss (hidden one): 0.6247\n",
      "  SAE Train Loss (hidden two): 0.0900\n",
      "  Val Loss: 0.3620 | Val Acc: 89.15%\n",
      "  Saved model with Val Acc: 89.15%\n"
     ]
    },
    {
     "name": "stderr",
     "output_type": "stream",
     "text": [
      "                                                                                                                        \r"
     ]
    },
    {
     "name": "stdout",
     "output_type": "stream",
     "text": [
      "Epoch 5/20\n",
      "  Train Loss: 0.3452\n",
      "  SAE Train Loss (hidden one): 0.8287\n",
      "  SAE Train Loss (hidden two): 0.0879\n",
      "  Val Loss: 0.3153 | Val Acc: 90.74%\n",
      "  Saved model with Val Acc: 90.74%\n"
     ]
    },
    {
     "name": "stderr",
     "output_type": "stream",
     "text": [
      "                                                                                                                        \r"
     ]
    },
    {
     "name": "stdout",
     "output_type": "stream",
     "text": [
      "Epoch 6/20\n",
      "  Train Loss: 0.3309\n",
      "  SAE Train Loss (hidden one): 0.6871\n",
      "  SAE Train Loss (hidden two): 0.0865\n",
      "  Val Loss: 0.3404 | Val Acc: 89.62%\n"
     ]
    },
    {
     "name": "stderr",
     "output_type": "stream",
     "text": [
      "                                                                                                                        \r"
     ]
    },
    {
     "name": "stdout",
     "output_type": "stream",
     "text": [
      "Epoch 7/20\n",
      "  Train Loss: 0.3244\n",
      "  SAE Train Loss (hidden one): 0.6849\n",
      "  SAE Train Loss (hidden two): 0.0797\n",
      "  Val Loss: 0.3075 | Val Acc: 91.05%\n",
      "  Saved model with Val Acc: 91.05%\n"
     ]
    },
    {
     "name": "stderr",
     "output_type": "stream",
     "text": [
      "                                                                                                                        \r"
     ]
    },
    {
     "name": "stdout",
     "output_type": "stream",
     "text": [
      "Epoch 8/20\n",
      "  Train Loss: 0.3191\n",
      "  SAE Train Loss (hidden one): 0.7791\n",
      "  SAE Train Loss (hidden two): 0.0790\n",
      "  Val Loss: 0.3017 | Val Acc: 91.23%\n",
      "  Saved model with Val Acc: 91.23%\n"
     ]
    },
    {
     "name": "stderr",
     "output_type": "stream",
     "text": [
      "                                                                                                                        \r"
     ]
    },
    {
     "name": "stdout",
     "output_type": "stream",
     "text": [
      "Epoch 9/20\n",
      "  Train Loss: 0.3097\n",
      "  SAE Train Loss (hidden one): 0.7593\n",
      "  SAE Train Loss (hidden two): 0.0764\n",
      "  Val Loss: 0.3220 | Val Acc: 90.71%\n"
     ]
    },
    {
     "name": "stderr",
     "output_type": "stream",
     "text": [
      "                                                                                                                        \r"
     ]
    },
    {
     "name": "stdout",
     "output_type": "stream",
     "text": [
      "Epoch 10/20\n",
      "  Train Loss: 0.3042\n",
      "  SAE Train Loss (hidden one): 0.8302\n",
      "  SAE Train Loss (hidden two): 0.0757\n",
      "  Val Loss: 0.3106 | Val Acc: 90.71%\n"
     ]
    },
    {
     "name": "stderr",
     "output_type": "stream",
     "text": [
      "                                                                                                                        \r"
     ]
    },
    {
     "name": "stdout",
     "output_type": "stream",
     "text": [
      "Epoch 11/20\n",
      "  Train Loss: 0.2944\n",
      "  SAE Train Loss (hidden one): 1.0727\n",
      "  SAE Train Loss (hidden two): 0.0748\n",
      "  Val Loss: 0.2914 | Val Acc: 91.29%\n",
      "  Saved model with Val Acc: 91.29%\n"
     ]
    },
    {
     "name": "stderr",
     "output_type": "stream",
     "text": [
      "                                                                                                                        \r"
     ]
    },
    {
     "name": "stdout",
     "output_type": "stream",
     "text": [
      "Epoch 12/20\n",
      "  Train Loss: 0.2841\n",
      "  SAE Train Loss (hidden one): 1.0181\n",
      "  SAE Train Loss (hidden two): 0.0729\n",
      "  Val Loss: 0.2776 | Val Acc: 91.74%\n",
      "  Saved model with Val Acc: 91.74%\n"
     ]
    },
    {
     "name": "stderr",
     "output_type": "stream",
     "text": [
      "                                                                                                                        \r"
     ]
    },
    {
     "name": "stdout",
     "output_type": "stream",
     "text": [
      "Epoch 13/20\n",
      "  Train Loss: 0.2766\n",
      "  SAE Train Loss (hidden one): 0.9663\n",
      "  SAE Train Loss (hidden two): 0.0698\n",
      "  Val Loss: 0.2849 | Val Acc: 91.89%\n",
      "  Saved model with Val Acc: 91.89%\n"
     ]
    },
    {
     "name": "stderr",
     "output_type": "stream",
     "text": [
      "                                                                                                                        \r"
     ]
    },
    {
     "name": "stdout",
     "output_type": "stream",
     "text": [
      "Epoch 14/20\n",
      "  Train Loss: 0.2717\n",
      "  SAE Train Loss (hidden one): 0.9364\n",
      "  SAE Train Loss (hidden two): 0.0677\n",
      "  Val Loss: 0.3474 | Val Acc: 90.24%\n"
     ]
    },
    {
     "name": "stderr",
     "output_type": "stream",
     "text": [
      "                                                                                                                        \r"
     ]
    },
    {
     "name": "stdout",
     "output_type": "stream",
     "text": [
      "Epoch 15/20\n",
      "  Train Loss: 0.2694\n",
      "  SAE Train Loss (hidden one): 0.8649\n",
      "  SAE Train Loss (hidden two): 0.0634\n",
      "  Val Loss: 0.2824 | Val Acc: 91.71%\n"
     ]
    },
    {
     "name": "stderr",
     "output_type": "stream",
     "text": [
      "                                                                                                                        \r"
     ]
    },
    {
     "name": "stdout",
     "output_type": "stream",
     "text": [
      "Epoch 16/20\n",
      "  Train Loss: 0.2646\n",
      "  SAE Train Loss (hidden one): 0.8456\n",
      "  SAE Train Loss (hidden two): 0.0621\n",
      "  Val Loss: 0.2839 | Val Acc: 92.07%\n",
      "  Saved model with Val Acc: 92.07%\n"
     ]
    },
    {
     "name": "stderr",
     "output_type": "stream",
     "text": [
      "                                                                                                                        \r"
     ]
    },
    {
     "name": "stdout",
     "output_type": "stream",
     "text": [
      "Epoch 17/20\n",
      "  Train Loss: 0.2611\n",
      "  SAE Train Loss (hidden one): 0.9284\n",
      "  SAE Train Loss (hidden two): 0.0611\n",
      "  Val Loss: 0.2734 | Val Acc: 92.04%\n"
     ]
    },
    {
     "name": "stderr",
     "output_type": "stream",
     "text": [
      "                                                                                                                        \r"
     ]
    },
    {
     "name": "stdout",
     "output_type": "stream",
     "text": [
      "Epoch 18/20\n",
      "  Train Loss: 0.2593\n",
      "  SAE Train Loss (hidden one): 0.8009\n",
      "  SAE Train Loss (hidden two): 0.0573\n",
      "  Val Loss: 0.2705 | Val Acc: 91.83%\n"
     ]
    },
    {
     "name": "stderr",
     "output_type": "stream",
     "text": [
      "                                                                                                                        \r"
     ]
    },
    {
     "name": "stdout",
     "output_type": "stream",
     "text": [
      "Epoch 19/20\n",
      "  Train Loss: 0.2583\n",
      "  SAE Train Loss (hidden one): 0.9189\n",
      "  SAE Train Loss (hidden two): 0.0565\n",
      "  Val Loss: 0.2642 | Val Acc: 92.30%\n",
      "  Saved model with Val Acc: 92.30%\n"
     ]
    },
    {
     "name": "stderr",
     "output_type": "stream",
     "text": [
      "                                                                                                                        \r"
     ]
    },
    {
     "name": "stdout",
     "output_type": "stream",
     "text": [
      "Epoch 20/20\n",
      "  Train Loss: 0.2538\n",
      "  SAE Train Loss (hidden one): 0.8383\n",
      "  SAE Train Loss (hidden two): 0.0558\n",
      "  Val Loss: 0.2673 | Val Acc: 92.12%\n"
     ]
    },
    {
     "name": "stderr",
     "output_type": "stream",
     "text": [
      "Evaluation: 100%|██████████████████████████████████████████████████████████████████████| 79/79 [00:00<00:00, 298.66it/s]\n"
     ]
    },
    {
     "name": "stdout",
     "output_type": "stream",
     "text": [
      "Final Test Accuracy: 92.44%\n",
      "Average Reconstruction Error (Hidden One): 0.4453\n",
      "Average Reconstruction Error (Hidden Two): 0.0114\n",
      "Average Non-Zero Features per Image (Hidden One): 33.69\n",
      "Average Non-Zero Features per Image (Hidden Two): 35.25\n"
     ]
    },
    {
     "name": "stderr",
     "output_type": "stream",
     "text": [
      "/home/alex/.local/lib/python3.10/site-packages/sklearn/linear_model/_logistic.py:469: ConvergenceWarning: lbfgs failed to converge (status=1):\n",
      "STOP: TOTAL NO. of ITERATIONS REACHED LIMIT.\n",
      "\n",
      "Increase the number of iterations (max_iter) or scale the data as shown in:\n",
      "    https://scikit-learn.org/stable/modules/preprocessing.html\n",
      "Please also refer to the documentation for alternative solver options:\n",
      "    https://scikit-learn.org/stable/modules/linear_model.html#logistic-regression\n",
      "  n_iter_i = _check_optimize_result(\n"
     ]
    },
    {
     "name": "stdout",
     "output_type": "stream",
     "text": [
      "Linear Probe Accuracy (Hidden One): 92.94%\n"
     ]
    },
    {
     "name": "stderr",
     "output_type": "stream",
     "text": [
      "/home/alex/.local/lib/python3.10/site-packages/sklearn/linear_model/_logistic.py:469: ConvergenceWarning: lbfgs failed to converge (status=1):\n",
      "STOP: TOTAL NO. of ITERATIONS REACHED LIMIT.\n",
      "\n",
      "Increase the number of iterations (max_iter) or scale the data as shown in:\n",
      "    https://scikit-learn.org/stable/modules/preprocessing.html\n",
      "Please also refer to the documentation for alternative solver options:\n",
      "    https://scikit-learn.org/stable/modules/linear_model.html#logistic-regression\n",
      "  n_iter_i = _check_optimize_result(\n"
     ]
    },
    {
     "name": "stdout",
     "output_type": "stream",
     "text": [
      "Linear Probe Accuracy (Hidden Two): 92.51%\n",
      "\n",
      "##################################################\n",
      "Loss factor: 0.04100000000000002\n",
      "\n",
      "\n"
     ]
    },
    {
     "name": "stderr",
     "output_type": "stream",
     "text": [
      "                                                                                                                        \r"
     ]
    },
    {
     "name": "stdout",
     "output_type": "stream",
     "text": [
      "Epoch 1/20\n",
      "  Train Loss: 1.0677\n",
      "  SAE Train Loss (hidden one): 8.9974\n",
      "  SAE Train Loss (hidden two): 1.1475\n",
      "  Val Loss: 0.5688 | Val Acc: 86.05%\n",
      "  Saved model with Val Acc: 86.05%\n"
     ]
    },
    {
     "name": "stderr",
     "output_type": "stream",
     "text": [
      "                                                                                                                        \r"
     ]
    },
    {
     "name": "stdout",
     "output_type": "stream",
     "text": [
      "Epoch 2/20\n",
      "  Train Loss: 0.5139\n",
      "  SAE Train Loss (hidden one): 0.4939\n",
      "  SAE Train Loss (hidden two): 0.0864\n",
      "  Val Loss: 0.4127 | Val Acc: 89.24%\n",
      "  Saved model with Val Acc: 89.24%\n"
     ]
    },
    {
     "name": "stderr",
     "output_type": "stream",
     "text": [
      "                                                                                                                        \r"
     ]
    },
    {
     "name": "stdout",
     "output_type": "stream",
     "text": [
      "Epoch 3/20\n",
      "  Train Loss: 0.4169\n",
      "  SAE Train Loss (hidden one): 0.5692\n",
      "  SAE Train Loss (hidden two): 0.0738\n",
      "  Val Loss: 0.4000 | Val Acc: 89.23%\n"
     ]
    },
    {
     "name": "stderr",
     "output_type": "stream",
     "text": [
      "                                                                                                                        \r"
     ]
    },
    {
     "name": "stdout",
     "output_type": "stream",
     "text": [
      "Epoch 4/20\n",
      "  Train Loss: 0.3852\n",
      "  SAE Train Loss (hidden one): 0.6408\n",
      "  SAE Train Loss (hidden two): 0.0730\n",
      "  Val Loss: 0.3514 | Val Acc: 90.05%\n",
      "  Saved model with Val Acc: 90.05%\n"
     ]
    },
    {
     "name": "stderr",
     "output_type": "stream",
     "text": [
      "                                                                                                                        \r"
     ]
    },
    {
     "name": "stdout",
     "output_type": "stream",
     "text": [
      "Epoch 5/20\n",
      "  Train Loss: 0.3643\n",
      "  SAE Train Loss (hidden one): 0.5834\n",
      "  SAE Train Loss (hidden two): 0.0676\n",
      "  Val Loss: 0.3526 | Val Acc: 89.67%\n"
     ]
    },
    {
     "name": "stderr",
     "output_type": "stream",
     "text": [
      "                                                                                                                        \r"
     ]
    },
    {
     "name": "stdout",
     "output_type": "stream",
     "text": [
      "Epoch 6/20\n",
      "  Train Loss: 0.3501\n",
      "  SAE Train Loss (hidden one): 0.6469\n",
      "  SAE Train Loss (hidden two): 0.0659\n",
      "  Val Loss: 0.3341 | Val Acc: 90.32%\n",
      "  Saved model with Val Acc: 90.32%\n"
     ]
    },
    {
     "name": "stderr",
     "output_type": "stream",
     "text": [
      "                                                                                                                        \r"
     ]
    },
    {
     "name": "stdout",
     "output_type": "stream",
     "text": [
      "Epoch 7/20\n",
      "  Train Loss: 0.3389\n",
      "  SAE Train Loss (hidden one): 0.6338\n",
      "  SAE Train Loss (hidden two): 0.0615\n",
      "  Val Loss: 0.3101 | Val Acc: 90.81%\n",
      "  Saved model with Val Acc: 90.81%\n"
     ]
    },
    {
     "name": "stderr",
     "output_type": "stream",
     "text": [
      "                                                                                                                        \r"
     ]
    },
    {
     "name": "stdout",
     "output_type": "stream",
     "text": [
      "Epoch 8/20\n",
      "  Train Loss: 0.3321\n",
      "  SAE Train Loss (hidden one): 0.6698\n",
      "  SAE Train Loss (hidden two): 0.0606\n",
      "  Val Loss: 0.3148 | Val Acc: 90.95%\n",
      "  Saved model with Val Acc: 90.95%\n"
     ]
    },
    {
     "name": "stderr",
     "output_type": "stream",
     "text": [
      "                                                                                                                        \r"
     ]
    },
    {
     "name": "stdout",
     "output_type": "stream",
     "text": [
      "Epoch 9/20\n",
      "  Train Loss: 0.3234\n",
      "  SAE Train Loss (hidden one): 0.6215\n",
      "  SAE Train Loss (hidden two): 0.0565\n",
      "  Val Loss: 0.3243 | Val Acc: 90.43%\n"
     ]
    },
    {
     "name": "stderr",
     "output_type": "stream",
     "text": [
      "                                                                                                                        \r"
     ]
    },
    {
     "name": "stdout",
     "output_type": "stream",
     "text": [
      "Epoch 10/20\n",
      "  Train Loss: 0.3174\n",
      "  SAE Train Loss (hidden one): 0.6242\n",
      "  SAE Train Loss (hidden two): 0.0560\n",
      "  Val Loss: 0.3055 | Val Acc: 90.86%\n"
     ]
    },
    {
     "name": "stderr",
     "output_type": "stream",
     "text": [
      "                                                                                                                        \r"
     ]
    },
    {
     "name": "stdout",
     "output_type": "stream",
     "text": [
      "Epoch 11/20\n",
      "  Train Loss: 0.3132\n",
      "  SAE Train Loss (hidden one): 0.6840\n",
      "  SAE Train Loss (hidden two): 0.0540\n",
      "  Val Loss: 0.3257 | Val Acc: 90.44%\n"
     ]
    },
    {
     "name": "stderr",
     "output_type": "stream",
     "text": [
      "                                                                                                                        \r"
     ]
    },
    {
     "name": "stdout",
     "output_type": "stream",
     "text": [
      "Epoch 12/20\n",
      "  Train Loss: 0.3067\n",
      "  SAE Train Loss (hidden one): 0.6500\n",
      "  SAE Train Loss (hidden two): 0.0529\n",
      "  Val Loss: 0.3150 | Val Acc: 90.70%\n"
     ]
    },
    {
     "name": "stderr",
     "output_type": "stream",
     "text": [
      "                                                                                                                        \r"
     ]
    },
    {
     "name": "stdout",
     "output_type": "stream",
     "text": [
      "Epoch 13/20\n",
      "  Train Loss: 0.3048\n",
      "  SAE Train Loss (hidden one): 0.6682\n",
      "  SAE Train Loss (hidden two): 0.0531\n",
      "  Val Loss: 0.2877 | Val Acc: 91.53%\n",
      "  Saved model with Val Acc: 91.53%\n"
     ]
    },
    {
     "name": "stderr",
     "output_type": "stream",
     "text": [
      "                                                                                                                        \r"
     ]
    },
    {
     "name": "stdout",
     "output_type": "stream",
     "text": [
      "Epoch 14/20\n",
      "  Train Loss: 0.2997\n",
      "  SAE Train Loss (hidden one): 0.6970\n",
      "  SAE Train Loss (hidden two): 0.0493\n",
      "  Val Loss: 0.3131 | Val Acc: 90.79%\n"
     ]
    },
    {
     "name": "stderr",
     "output_type": "stream",
     "text": [
      "                                                                                                                        \r"
     ]
    },
    {
     "name": "stdout",
     "output_type": "stream",
     "text": [
      "Epoch 15/20\n",
      "  Train Loss: 0.2968\n",
      "  SAE Train Loss (hidden one): 0.5805\n",
      "  SAE Train Loss (hidden two): 0.0488\n",
      "  Val Loss: 0.2952 | Val Acc: 91.18%\n"
     ]
    },
    {
     "name": "stderr",
     "output_type": "stream",
     "text": [
      "                                                                                                                        \r"
     ]
    },
    {
     "name": "stdout",
     "output_type": "stream",
     "text": [
      "Epoch 16/20\n",
      "  Train Loss: 0.2957\n",
      "  SAE Train Loss (hidden one): 0.7196\n",
      "  SAE Train Loss (hidden two): 0.0481\n",
      "  Val Loss: 0.2953 | Val Acc: 91.47%\n"
     ]
    },
    {
     "name": "stderr",
     "output_type": "stream",
     "text": [
      "                                                                                                                        \r"
     ]
    },
    {
     "name": "stdout",
     "output_type": "stream",
     "text": [
      "Epoch 17/20\n",
      "  Train Loss: 0.2929\n",
      "  SAE Train Loss (hidden one): 0.6444\n",
      "  SAE Train Loss (hidden two): 0.0469\n",
      "  Val Loss: 0.3054 | Val Acc: 91.05%\n"
     ]
    },
    {
     "name": "stderr",
     "output_type": "stream",
     "text": [
      "                                                                                                                        \r"
     ]
    },
    {
     "name": "stdout",
     "output_type": "stream",
     "text": [
      "Epoch 18/20\n",
      "  Train Loss: 0.2897\n",
      "  SAE Train Loss (hidden one): 0.6908\n",
      "  SAE Train Loss (hidden two): 0.0456\n",
      "  Val Loss: 0.2970 | Val Acc: 91.24%\n"
     ]
    },
    {
     "name": "stderr",
     "output_type": "stream",
     "text": [
      "                                                                                                                        \r"
     ]
    },
    {
     "name": "stdout",
     "output_type": "stream",
     "text": [
      "Epoch 19/20\n",
      "  Train Loss: 0.2898\n",
      "  SAE Train Loss (hidden one): 0.6051\n",
      "  SAE Train Loss (hidden two): 0.0469\n",
      "  Val Loss: 0.3048 | Val Acc: 91.33%\n"
     ]
    },
    {
     "name": "stderr",
     "output_type": "stream",
     "text": [
      "                                                                                                                        \r"
     ]
    },
    {
     "name": "stdout",
     "output_type": "stream",
     "text": [
      "Epoch 20/20\n",
      "  Train Loss: 0.2872\n",
      "  SAE Train Loss (hidden one): 0.6656\n",
      "  SAE Train Loss (hidden two): 0.0447\n",
      "  Val Loss: 0.3084 | Val Acc: 90.96%\n"
     ]
    },
    {
     "name": "stderr",
     "output_type": "stream",
     "text": [
      "Evaluation: 100%|██████████████████████████████████████████████████████████████████████| 79/79 [00:00<00:00, 313.96it/s]"
     ]
    },
    {
     "name": "stdout",
     "output_type": "stream",
     "text": [
      "Final Test Accuracy: 92.00%\n",
      "Average Reconstruction Error (Hidden One): 0.2213\n",
      "Average Reconstruction Error (Hidden Two): 0.0145\n",
      "Average Non-Zero Features per Image (Hidden One): 34.42\n",
      "Average Non-Zero Features per Image (Hidden Two): 37.04\n"
     ]
    },
    {
     "name": "stderr",
     "output_type": "stream",
     "text": [
      "\n",
      "/home/alex/.local/lib/python3.10/site-packages/sklearn/linear_model/_logistic.py:469: ConvergenceWarning: lbfgs failed to converge (status=1):\n",
      "STOP: TOTAL NO. of ITERATIONS REACHED LIMIT.\n",
      "\n",
      "Increase the number of iterations (max_iter) or scale the data as shown in:\n",
      "    https://scikit-learn.org/stable/modules/preprocessing.html\n",
      "Please also refer to the documentation for alternative solver options:\n",
      "    https://scikit-learn.org/stable/modules/linear_model.html#logistic-regression\n",
      "  n_iter_i = _check_optimize_result(\n"
     ]
    },
    {
     "name": "stdout",
     "output_type": "stream",
     "text": [
      "Linear Probe Accuracy (Hidden One): 83.22%\n"
     ]
    },
    {
     "name": "stderr",
     "output_type": "stream",
     "text": [
      "/home/alex/.local/lib/python3.10/site-packages/sklearn/linear_model/_logistic.py:469: ConvergenceWarning: lbfgs failed to converge (status=1):\n",
      "STOP: TOTAL NO. of ITERATIONS REACHED LIMIT.\n",
      "\n",
      "Increase the number of iterations (max_iter) or scale the data as shown in:\n",
      "    https://scikit-learn.org/stable/modules/preprocessing.html\n",
      "Please also refer to the documentation for alternative solver options:\n",
      "    https://scikit-learn.org/stable/modules/linear_model.html#logistic-regression\n",
      "  n_iter_i = _check_optimize_result(\n"
     ]
    },
    {
     "name": "stdout",
     "output_type": "stream",
     "text": [
      "Linear Probe Accuracy (Hidden Two): 60.36%\n",
      "\n",
      "##################################################\n",
      "Loss factor: 0.04200000000000002\n",
      "\n",
      "\n"
     ]
    },
    {
     "name": "stderr",
     "output_type": "stream",
     "text": [
      "                                                                                                                        \r"
     ]
    },
    {
     "name": "stdout",
     "output_type": "stream",
     "text": [
      "Epoch 1/20\n",
      "  Train Loss: 1.0480\n",
      "  SAE Train Loss (hidden one): 9.0668\n",
      "  SAE Train Loss (hidden two): 1.1745\n",
      "  Val Loss: 0.5498 | Val Acc: 86.74%\n",
      "  Saved model with Val Acc: 86.74%\n"
     ]
    },
    {
     "name": "stderr",
     "output_type": "stream",
     "text": [
      "                                                                                                                        \r"
     ]
    },
    {
     "name": "stdout",
     "output_type": "stream",
     "text": [
      "Epoch 2/20\n",
      "  Train Loss: 0.4992\n",
      "  SAE Train Loss (hidden one): 0.5673\n",
      "  SAE Train Loss (hidden two): 0.0980\n",
      "  Val Loss: 0.4248 | Val Acc: 88.56%\n",
      "  Saved model with Val Acc: 88.56%\n"
     ]
    },
    {
     "name": "stderr",
     "output_type": "stream",
     "text": [
      "                                                                                                                        \r"
     ]
    },
    {
     "name": "stdout",
     "output_type": "stream",
     "text": [
      "Epoch 3/20\n",
      "  Train Loss: 0.4091\n",
      "  SAE Train Loss (hidden one): 0.6023\n",
      "  SAE Train Loss (hidden two): 0.0783\n",
      "  Val Loss: 0.3924 | Val Acc: 89.36%\n",
      "  Saved model with Val Acc: 89.36%\n"
     ]
    },
    {
     "name": "stderr",
     "output_type": "stream",
     "text": [
      "                                                                                                                        \r"
     ]
    },
    {
     "name": "stdout",
     "output_type": "stream",
     "text": [
      "Epoch 4/20\n",
      "  Train Loss: 0.3777\n",
      "  SAE Train Loss (hidden one): 0.5866\n",
      "  SAE Train Loss (hidden two): 0.0692\n",
      "  Val Loss: 0.3398 | Val Acc: 90.46%\n",
      "  Saved model with Val Acc: 90.46%\n"
     ]
    },
    {
     "name": "stderr",
     "output_type": "stream",
     "text": [
      "                                                                                                                        \r"
     ]
    },
    {
     "name": "stdout",
     "output_type": "stream",
     "text": [
      "Epoch 5/20\n",
      "  Train Loss: 0.3594\n",
      "  SAE Train Loss (hidden one): 0.6140\n",
      "  SAE Train Loss (hidden two): 0.0657\n",
      "  Val Loss: 0.3404 | Val Acc: 90.26%\n"
     ]
    },
    {
     "name": "stderr",
     "output_type": "stream",
     "text": [
      "                                                                                                                        \r"
     ]
    },
    {
     "name": "stdout",
     "output_type": "stream",
     "text": [
      "Epoch 6/20\n",
      "  Train Loss: 0.3468\n",
      "  SAE Train Loss (hidden one): 0.6307\n",
      "  SAE Train Loss (hidden two): 0.0641\n",
      "  Val Loss: 0.3450 | Val Acc: 90.44%\n"
     ]
    },
    {
     "name": "stderr",
     "output_type": "stream",
     "text": [
      "                                                                                                                        \r"
     ]
    },
    {
     "name": "stdout",
     "output_type": "stream",
     "text": [
      "Epoch 7/20\n",
      "  Train Loss: 0.3383\n",
      "  SAE Train Loss (hidden one): 0.7256\n",
      "  SAE Train Loss (hidden two): 0.0644\n",
      "  Val Loss: 0.3045 | Val Acc: 91.52%\n",
      "  Saved model with Val Acc: 91.52%\n"
     ]
    },
    {
     "name": "stderr",
     "output_type": "stream",
     "text": [
      "                                                                                                                        \r"
     ]
    },
    {
     "name": "stdout",
     "output_type": "stream",
     "text": [
      "Epoch 8/20\n",
      "  Train Loss: 0.3217\n",
      "  SAE Train Loss (hidden one): 0.6670\n",
      "  SAE Train Loss (hidden two): 0.0604\n",
      "  Val Loss: 0.3183 | Val Acc: 91.11%\n"
     ]
    },
    {
     "name": "stderr",
     "output_type": "stream",
     "text": [
      "                                                                                                                        \r"
     ]
    },
    {
     "name": "stdout",
     "output_type": "stream",
     "text": [
      "Epoch 9/20\n",
      "  Train Loss: 0.3204\n",
      "  SAE Train Loss (hidden one): 0.6722\n",
      "  SAE Train Loss (hidden two): 0.0590\n",
      "  Val Loss: 0.3426 | Val Acc: 90.30%\n"
     ]
    },
    {
     "name": "stderr",
     "output_type": "stream",
     "text": [
      "                                                                                                                        \r"
     ]
    },
    {
     "name": "stdout",
     "output_type": "stream",
     "text": [
      "Epoch 10/20\n",
      "  Train Loss: 0.3126\n",
      "  SAE Train Loss (hidden one): 0.6587\n",
      "  SAE Train Loss (hidden two): 0.0577\n",
      "  Val Loss: 0.3268 | Val Acc: 90.56%\n"
     ]
    },
    {
     "name": "stderr",
     "output_type": "stream",
     "text": [
      "                                                                                                                        \r"
     ]
    },
    {
     "name": "stdout",
     "output_type": "stream",
     "text": [
      "Epoch 11/20\n",
      "  Train Loss: 0.3061\n",
      "  SAE Train Loss (hidden one): 0.7864\n",
      "  SAE Train Loss (hidden two): 0.0578\n",
      "  Val Loss: 0.3011 | Val Acc: 91.39%\n"
     ]
    },
    {
     "name": "stderr",
     "output_type": "stream",
     "text": [
      "                                                                                                                        \r"
     ]
    },
    {
     "name": "stdout",
     "output_type": "stream",
     "text": [
      "Epoch 12/20\n",
      "  Train Loss: 0.3020\n",
      "  SAE Train Loss (hidden one): 0.6876\n",
      "  SAE Train Loss (hidden two): 0.0548\n",
      "  Val Loss: 0.3038 | Val Acc: 91.26%\n"
     ]
    },
    {
     "name": "stderr",
     "output_type": "stream",
     "text": [
      "                                                                                                                        \r"
     ]
    },
    {
     "name": "stdout",
     "output_type": "stream",
     "text": [
      "Epoch 13/20\n",
      "  Train Loss: 0.3006\n",
      "  SAE Train Loss (hidden one): 0.6837\n",
      "  SAE Train Loss (hidden two): 0.0545\n",
      "  Val Loss: 0.2796 | Val Acc: 91.74%\n",
      "  Saved model with Val Acc: 91.74%\n"
     ]
    },
    {
     "name": "stderr",
     "output_type": "stream",
     "text": [
      "                                                                                                                        \r"
     ]
    },
    {
     "name": "stdout",
     "output_type": "stream",
     "text": [
      "Epoch 14/20\n",
      "  Train Loss: 0.2929\n",
      "  SAE Train Loss (hidden one): 0.6057\n",
      "  SAE Train Loss (hidden two): 0.0516\n",
      "  Val Loss: 0.3134 | Val Acc: 90.87%\n"
     ]
    },
    {
     "name": "stderr",
     "output_type": "stream",
     "text": [
      "                                                                                                                        \r"
     ]
    },
    {
     "name": "stdout",
     "output_type": "stream",
     "text": [
      "Epoch 15/20\n",
      "  Train Loss: 0.2904\n",
      "  SAE Train Loss (hidden one): 0.6812\n",
      "  SAE Train Loss (hidden two): 0.0502\n",
      "  Val Loss: 0.2983 | Val Acc: 91.55%\n"
     ]
    },
    {
     "name": "stderr",
     "output_type": "stream",
     "text": [
      "                                                                                                                        \r"
     ]
    },
    {
     "name": "stdout",
     "output_type": "stream",
     "text": [
      "Epoch 16/20\n",
      "  Train Loss: 0.2868\n",
      "  SAE Train Loss (hidden one): 0.6500\n",
      "  SAE Train Loss (hidden two): 0.0496\n",
      "  Val Loss: 0.2975 | Val Acc: 91.53%\n"
     ]
    },
    {
     "name": "stderr",
     "output_type": "stream",
     "text": [
      "                                                                                                                        \r"
     ]
    },
    {
     "name": "stdout",
     "output_type": "stream",
     "text": [
      "Epoch 17/20\n",
      "  Train Loss: 0.2852\n",
      "  SAE Train Loss (hidden one): 0.7137\n",
      "  SAE Train Loss (hidden two): 0.0476\n",
      "  Val Loss: 0.2884 | Val Acc: 91.87%\n",
      "  Saved model with Val Acc: 91.87%\n"
     ]
    },
    {
     "name": "stderr",
     "output_type": "stream",
     "text": [
      "                                                                                                                        \r"
     ]
    },
    {
     "name": "stdout",
     "output_type": "stream",
     "text": [
      "Epoch 18/20\n",
      "  Train Loss: 0.2854\n",
      "  SAE Train Loss (hidden one): 0.6621\n",
      "  SAE Train Loss (hidden two): 0.0476\n",
      "  Val Loss: 0.2957 | Val Acc: 91.60%\n"
     ]
    },
    {
     "name": "stderr",
     "output_type": "stream",
     "text": [
      "                                                                                                                        \r"
     ]
    },
    {
     "name": "stdout",
     "output_type": "stream",
     "text": [
      "Epoch 19/20\n",
      "  Train Loss: 0.2840\n",
      "  SAE Train Loss (hidden one): 0.6367\n",
      "  SAE Train Loss (hidden two): 0.0478\n",
      "  Val Loss: 0.2930 | Val Acc: 91.50%\n"
     ]
    },
    {
     "name": "stderr",
     "output_type": "stream",
     "text": [
      "                                                                                                                        \r"
     ]
    },
    {
     "name": "stdout",
     "output_type": "stream",
     "text": [
      "Epoch 20/20\n",
      "  Train Loss: 0.2794\n",
      "  SAE Train Loss (hidden one): 0.6866\n",
      "  SAE Train Loss (hidden two): 0.0463\n",
      "  Val Loss: 0.3132 | Val Acc: 91.27%\n"
     ]
    },
    {
     "name": "stderr",
     "output_type": "stream",
     "text": [
      "Evaluation: 100%|██████████████████████████████████████████████████████████████████████| 79/79 [00:00<00:00, 301.93it/s]\n"
     ]
    },
    {
     "name": "stdout",
     "output_type": "stream",
     "text": [
      "Final Test Accuracy: 91.90%\n",
      "Average Reconstruction Error (Hidden One): 0.6530\n",
      "Average Reconstruction Error (Hidden Two): 0.0294\n",
      "Average Non-Zero Features per Image (Hidden One): 33.98\n",
      "Average Non-Zero Features per Image (Hidden Two): 33.98\n"
     ]
    },
    {
     "name": "stderr",
     "output_type": "stream",
     "text": [
      "/home/alex/.local/lib/python3.10/site-packages/sklearn/linear_model/_logistic.py:469: ConvergenceWarning: lbfgs failed to converge (status=1):\n",
      "STOP: TOTAL NO. of ITERATIONS REACHED LIMIT.\n",
      "\n",
      "Increase the number of iterations (max_iter) or scale the data as shown in:\n",
      "    https://scikit-learn.org/stable/modules/preprocessing.html\n",
      "Please also refer to the documentation for alternative solver options:\n",
      "    https://scikit-learn.org/stable/modules/linear_model.html#logistic-regression\n",
      "  n_iter_i = _check_optimize_result(\n"
     ]
    },
    {
     "name": "stdout",
     "output_type": "stream",
     "text": [
      "Linear Probe Accuracy (Hidden One): 91.71%\n"
     ]
    },
    {
     "name": "stderr",
     "output_type": "stream",
     "text": [
      "/home/alex/.local/lib/python3.10/site-packages/sklearn/linear_model/_logistic.py:469: ConvergenceWarning: lbfgs failed to converge (status=1):\n",
      "STOP: TOTAL NO. of ITERATIONS REACHED LIMIT.\n",
      "\n",
      "Increase the number of iterations (max_iter) or scale the data as shown in:\n",
      "    https://scikit-learn.org/stable/modules/preprocessing.html\n",
      "Please also refer to the documentation for alternative solver options:\n",
      "    https://scikit-learn.org/stable/modules/linear_model.html#logistic-regression\n",
      "  n_iter_i = _check_optimize_result(\n"
     ]
    },
    {
     "name": "stdout",
     "output_type": "stream",
     "text": [
      "Linear Probe Accuracy (Hidden Two): 88.38%\n",
      "\n",
      "##################################################\n",
      "Loss factor: 0.043000000000000024\n",
      "\n",
      "\n"
     ]
    },
    {
     "name": "stderr",
     "output_type": "stream",
     "text": [
      "                                                                                                                        \r"
     ]
    },
    {
     "name": "stdout",
     "output_type": "stream",
     "text": [
      "Epoch 1/20\n",
      "  Train Loss: 1.0537\n",
      "  SAE Train Loss (hidden one): 8.7801\n",
      "  SAE Train Loss (hidden two): 1.1723\n",
      "  Val Loss: 0.5873 | Val Acc: 85.41%\n",
      "  Saved model with Val Acc: 85.41%\n"
     ]
    },
    {
     "name": "stderr",
     "output_type": "stream",
     "text": [
      "                                                                                                                        \r"
     ]
    },
    {
     "name": "stdout",
     "output_type": "stream",
     "text": [
      "Epoch 2/20\n",
      "  Train Loss: 0.5206\n",
      "  SAE Train Loss (hidden one): 0.4287\n",
      "  SAE Train Loss (hidden two): 0.0960\n",
      "  Val Loss: 0.4272 | Val Acc: 88.14%\n",
      "  Saved model with Val Acc: 88.14%\n"
     ]
    },
    {
     "name": "stderr",
     "output_type": "stream",
     "text": [
      "                                                                                                                        \r"
     ]
    },
    {
     "name": "stdout",
     "output_type": "stream",
     "text": [
      "Epoch 3/20\n",
      "  Train Loss: 0.4274\n",
      "  SAE Train Loss (hidden one): 0.4395\n",
      "  SAE Train Loss (hidden two): 0.0853\n",
      "  Val Loss: 0.4254 | Val Acc: 88.44%\n",
      "  Saved model with Val Acc: 88.44%\n"
     ]
    },
    {
     "name": "stderr",
     "output_type": "stream",
     "text": [
      "                                                                                                                        \r"
     ]
    },
    {
     "name": "stdout",
     "output_type": "stream",
     "text": [
      "Epoch 4/20\n",
      "  Train Loss: 0.4028\n",
      "  SAE Train Loss (hidden one): 0.4921\n",
      "  SAE Train Loss (hidden two): 0.0730\n",
      "  Val Loss: 0.3731 | Val Acc: 89.42%\n",
      "  Saved model with Val Acc: 89.42%\n"
     ]
    },
    {
     "name": "stderr",
     "output_type": "stream",
     "text": [
      "                                                                                                                        \r"
     ]
    },
    {
     "name": "stdout",
     "output_type": "stream",
     "text": [
      "Epoch 5/20\n",
      "  Train Loss: 0.3873\n",
      "  SAE Train Loss (hidden one): 0.5162\n",
      "  SAE Train Loss (hidden two): 0.0728\n",
      "  Val Loss: 0.3912 | Val Acc: 88.65%\n"
     ]
    },
    {
     "name": "stderr",
     "output_type": "stream",
     "text": [
      "                                                                                                                        \r"
     ]
    },
    {
     "name": "stdout",
     "output_type": "stream",
     "text": [
      "Epoch 6/20\n",
      "  Train Loss: 0.3742\n",
      "  SAE Train Loss (hidden one): 0.5337\n",
      "  SAE Train Loss (hidden two): 0.0698\n",
      "  Val Loss: 0.3537 | Val Acc: 89.87%\n",
      "  Saved model with Val Acc: 89.87%\n"
     ]
    },
    {
     "name": "stderr",
     "output_type": "stream",
     "text": [
      "                                                                                                                        \r"
     ]
    },
    {
     "name": "stdout",
     "output_type": "stream",
     "text": [
      "Epoch 7/20\n",
      "  Train Loss: 0.3663\n",
      "  SAE Train Loss (hidden one): 0.5241\n",
      "  SAE Train Loss (hidden two): 0.0629\n",
      "  Val Loss: 0.3734 | Val Acc: 89.66%\n"
     ]
    },
    {
     "name": "stderr",
     "output_type": "stream",
     "text": [
      "                                                                                                                        \r"
     ]
    },
    {
     "name": "stdout",
     "output_type": "stream",
     "text": [
      "Epoch 8/20\n",
      "  Train Loss: 0.3590\n",
      "  SAE Train Loss (hidden one): 0.5910\n",
      "  SAE Train Loss (hidden two): 0.0614\n",
      "  Val Loss: 0.3490 | Val Acc: 90.18%\n",
      "  Saved model with Val Acc: 90.18%\n"
     ]
    },
    {
     "name": "stderr",
     "output_type": "stream",
     "text": [
      "                                                                                                                        \r"
     ]
    },
    {
     "name": "stdout",
     "output_type": "stream",
     "text": [
      "Epoch 9/20\n",
      "  Train Loss: 0.3452\n",
      "  SAE Train Loss (hidden one): 0.6827\n",
      "  SAE Train Loss (hidden two): 0.0607\n",
      "  Val Loss: 0.3680 | Val Acc: 89.47%\n"
     ]
    },
    {
     "name": "stderr",
     "output_type": "stream",
     "text": [
      "                                                                                                                        \r"
     ]
    },
    {
     "name": "stdout",
     "output_type": "stream",
     "text": [
      "Epoch 10/20\n",
      "  Train Loss: 0.3321\n",
      "  SAE Train Loss (hidden one): 0.8416\n",
      "  SAE Train Loss (hidden two): 0.0623\n",
      "  Val Loss: 0.3265 | Val Acc: 90.52%\n",
      "  Saved model with Val Acc: 90.52%\n"
     ]
    },
    {
     "name": "stderr",
     "output_type": "stream",
     "text": [
      "                                                                                                                        \r"
     ]
    },
    {
     "name": "stdout",
     "output_type": "stream",
     "text": [
      "Epoch 11/20\n",
      "  Train Loss: 0.3198\n",
      "  SAE Train Loss (hidden one): 0.8006\n",
      "  SAE Train Loss (hidden two): 0.0595\n",
      "  Val Loss: 0.3250 | Val Acc: 90.84%\n",
      "  Saved model with Val Acc: 90.84%\n"
     ]
    },
    {
     "name": "stderr",
     "output_type": "stream",
     "text": [
      "                                                                                                                        \r"
     ]
    },
    {
     "name": "stdout",
     "output_type": "stream",
     "text": [
      "Epoch 12/20\n",
      "  Train Loss: 0.3125\n",
      "  SAE Train Loss (hidden one): 0.7853\n",
      "  SAE Train Loss (hidden two): 0.0575\n",
      "  Val Loss: 0.3092 | Val Acc: 91.07%\n",
      "  Saved model with Val Acc: 91.07%\n"
     ]
    },
    {
     "name": "stderr",
     "output_type": "stream",
     "text": [
      "                                                                                                                        \r"
     ]
    },
    {
     "name": "stdout",
     "output_type": "stream",
     "text": [
      "Epoch 13/20\n",
      "  Train Loss: 0.3058\n",
      "  SAE Train Loss (hidden one): 0.7593\n",
      "  SAE Train Loss (hidden two): 0.0562\n",
      "  Val Loss: 0.2945 | Val Acc: 91.36%\n",
      "  Saved model with Val Acc: 91.36%\n"
     ]
    },
    {
     "name": "stderr",
     "output_type": "stream",
     "text": [
      "                                                                                                                        \r"
     ]
    },
    {
     "name": "stdout",
     "output_type": "stream",
     "text": [
      "Epoch 14/20\n",
      "  Train Loss: 0.2996\n",
      "  SAE Train Loss (hidden one): 0.6944\n",
      "  SAE Train Loss (hidden two): 0.0532\n",
      "  Val Loss: 0.2892 | Val Acc: 91.46%\n",
      "  Saved model with Val Acc: 91.46%\n"
     ]
    },
    {
     "name": "stderr",
     "output_type": "stream",
     "text": [
      "                                                                                                                        \r"
     ]
    },
    {
     "name": "stdout",
     "output_type": "stream",
     "text": [
      "Epoch 15/20\n",
      "  Train Loss: 0.2951\n",
      "  SAE Train Loss (hidden one): 0.7078\n",
      "  SAE Train Loss (hidden two): 0.0521\n",
      "  Val Loss: 0.2860 | Val Acc: 91.63%\n",
      "  Saved model with Val Acc: 91.63%\n"
     ]
    },
    {
     "name": "stderr",
     "output_type": "stream",
     "text": [
      "                                                                                                                        \r"
     ]
    },
    {
     "name": "stdout",
     "output_type": "stream",
     "text": [
      "Epoch 16/20\n",
      "  Train Loss: 0.2918\n",
      "  SAE Train Loss (hidden one): 0.7062\n",
      "  SAE Train Loss (hidden two): 0.0526\n",
      "  Val Loss: 0.2840 | Val Acc: 91.82%\n",
      "  Saved model with Val Acc: 91.82%\n"
     ]
    },
    {
     "name": "stderr",
     "output_type": "stream",
     "text": [
      "                                                                                                                        \r"
     ]
    },
    {
     "name": "stdout",
     "output_type": "stream",
     "text": [
      "Epoch 17/20\n",
      "  Train Loss: 0.2848\n",
      "  SAE Train Loss (hidden one): 0.6907\n",
      "  SAE Train Loss (hidden two): 0.0499\n",
      "  Val Loss: 0.2839 | Val Acc: 91.63%\n"
     ]
    },
    {
     "name": "stderr",
     "output_type": "stream",
     "text": [
      "                                                                                                                        \r"
     ]
    },
    {
     "name": "stdout",
     "output_type": "stream",
     "text": [
      "Epoch 18/20\n",
      "  Train Loss: 0.2828\n",
      "  SAE Train Loss (hidden one): 0.7843\n",
      "  SAE Train Loss (hidden two): 0.0492\n",
      "  Val Loss: 0.2866 | Val Acc: 91.66%\n"
     ]
    },
    {
     "name": "stderr",
     "output_type": "stream",
     "text": [
      "                                                                                                                        \r"
     ]
    },
    {
     "name": "stdout",
     "output_type": "stream",
     "text": [
      "Epoch 19/20\n",
      "  Train Loss: 0.2817\n",
      "  SAE Train Loss (hidden one): 0.6417\n",
      "  SAE Train Loss (hidden two): 0.0476\n",
      "  Val Loss: 0.2940 | Val Acc: 91.24%\n"
     ]
    },
    {
     "name": "stderr",
     "output_type": "stream",
     "text": [
      "                                                                                                                        \r"
     ]
    },
    {
     "name": "stdout",
     "output_type": "stream",
     "text": [
      "Epoch 20/20\n",
      "  Train Loss: 0.2769\n",
      "  SAE Train Loss (hidden one): 0.6727\n",
      "  SAE Train Loss (hidden two): 0.0457\n",
      "  Val Loss: 0.2961 | Val Acc: 91.05%\n"
     ]
    },
    {
     "name": "stderr",
     "output_type": "stream",
     "text": [
      "Evaluation: 100%|██████████████████████████████████████████████████████████████████████| 79/79 [00:00<00:00, 302.53it/s]"
     ]
    },
    {
     "name": "stdout",
     "output_type": "stream",
     "text": [
      "Final Test Accuracy: 92.02%\n",
      "Average Reconstruction Error (Hidden One): 0.2031\n",
      "Average Reconstruction Error (Hidden Two): 0.0203\n",
      "Average Non-Zero Features per Image (Hidden One): 33.54\n",
      "Average Non-Zero Features per Image (Hidden Two): 35.47\n"
     ]
    },
    {
     "name": "stderr",
     "output_type": "stream",
     "text": [
      "\n",
      "/home/alex/.local/lib/python3.10/site-packages/sklearn/linear_model/_logistic.py:469: ConvergenceWarning: lbfgs failed to converge (status=1):\n",
      "STOP: TOTAL NO. of ITERATIONS REACHED LIMIT.\n",
      "\n",
      "Increase the number of iterations (max_iter) or scale the data as shown in:\n",
      "    https://scikit-learn.org/stable/modules/preprocessing.html\n",
      "Please also refer to the documentation for alternative solver options:\n",
      "    https://scikit-learn.org/stable/modules/linear_model.html#logistic-regression\n",
      "  n_iter_i = _check_optimize_result(\n"
     ]
    },
    {
     "name": "stdout",
     "output_type": "stream",
     "text": [
      "Linear Probe Accuracy (Hidden One): 91.59%\n"
     ]
    },
    {
     "name": "stderr",
     "output_type": "stream",
     "text": [
      "/home/alex/.local/lib/python3.10/site-packages/sklearn/linear_model/_logistic.py:469: ConvergenceWarning: lbfgs failed to converge (status=1):\n",
      "STOP: TOTAL NO. of ITERATIONS REACHED LIMIT.\n",
      "\n",
      "Increase the number of iterations (max_iter) or scale the data as shown in:\n",
      "    https://scikit-learn.org/stable/modules/preprocessing.html\n",
      "Please also refer to the documentation for alternative solver options:\n",
      "    https://scikit-learn.org/stable/modules/linear_model.html#logistic-regression\n",
      "  n_iter_i = _check_optimize_result(\n"
     ]
    },
    {
     "name": "stdout",
     "output_type": "stream",
     "text": [
      "Linear Probe Accuracy (Hidden Two): 82.81%\n",
      "\n",
      "##################################################\n",
      "Loss factor: 0.044000000000000025\n",
      "\n",
      "\n"
     ]
    },
    {
     "name": "stderr",
     "output_type": "stream",
     "text": [
      "                                                                                                                        \r"
     ]
    },
    {
     "name": "stdout",
     "output_type": "stream",
     "text": [
      "Epoch 1/20\n",
      "  Train Loss: 1.0226\n",
      "  SAE Train Loss (hidden one): 8.7816\n",
      "  SAE Train Loss (hidden two): 1.1940\n",
      "  Val Loss: 0.5502 | Val Acc: 83.94%\n",
      "  Saved model with Val Acc: 83.94%\n"
     ]
    },
    {
     "name": "stderr",
     "output_type": "stream",
     "text": [
      "                                                                                                                        \r"
     ]
    },
    {
     "name": "stdout",
     "output_type": "stream",
     "text": [
      "Epoch 2/20\n",
      "  Train Loss: 0.4830\n",
      "  SAE Train Loss (hidden one): 0.5657\n",
      "  SAE Train Loss (hidden two): 0.1166\n",
      "  Val Loss: 0.4520 | Val Acc: 86.68%\n",
      "  Saved model with Val Acc: 86.68%\n"
     ]
    },
    {
     "name": "stderr",
     "output_type": "stream",
     "text": [
      "                                                                                                                        \r"
     ]
    },
    {
     "name": "stdout",
     "output_type": "stream",
     "text": [
      "Epoch 3/20\n",
      "  Train Loss: 0.4020\n",
      "  SAE Train Loss (hidden one): 0.5814\n",
      "  SAE Train Loss (hidden two): 0.0963\n",
      "  Val Loss: 0.3725 | Val Acc: 89.64%\n",
      "  Saved model with Val Acc: 89.64%\n"
     ]
    },
    {
     "name": "stderr",
     "output_type": "stream",
     "text": [
      "                                                                                                                        \r"
     ]
    },
    {
     "name": "stdout",
     "output_type": "stream",
     "text": [
      "Epoch 4/20\n",
      "  Train Loss: 0.3791\n",
      "  SAE Train Loss (hidden one): 0.5762\n",
      "  SAE Train Loss (hidden two): 0.0885\n",
      "  Val Loss: 0.3655 | Val Acc: 89.47%\n"
     ]
    },
    {
     "name": "stderr",
     "output_type": "stream",
     "text": [
      "                                                                                                                        \r"
     ]
    },
    {
     "name": "stdout",
     "output_type": "stream",
     "text": [
      "Epoch 5/20\n",
      "  Train Loss: 0.3678\n",
      "  SAE Train Loss (hidden one): 0.7106\n",
      "  SAE Train Loss (hidden two): 0.0826\n",
      "  Val Loss: 0.3412 | Val Acc: 89.96%\n",
      "  Saved model with Val Acc: 89.96%\n"
     ]
    },
    {
     "name": "stderr",
     "output_type": "stream",
     "text": [
      "                                                                                                                        \r"
     ]
    },
    {
     "name": "stdout",
     "output_type": "stream",
     "text": [
      "Epoch 6/20\n",
      "  Train Loss: 0.3531\n",
      "  SAE Train Loss (hidden one): 0.6169\n",
      "  SAE Train Loss (hidden two): 0.0783\n",
      "  Val Loss: 0.3344 | Val Acc: 90.08%\n",
      "  Saved model with Val Acc: 90.08%\n"
     ]
    },
    {
     "name": "stderr",
     "output_type": "stream",
     "text": [
      "                                                                                                                        \r"
     ]
    },
    {
     "name": "stdout",
     "output_type": "stream",
     "text": [
      "Epoch 7/20\n",
      "  Train Loss: 0.3448\n",
      "  SAE Train Loss (hidden one): 0.6135\n",
      "  SAE Train Loss (hidden two): 0.0740\n",
      "  Val Loss: 0.3398 | Val Acc: 90.52%\n",
      "  Saved model with Val Acc: 90.52%\n"
     ]
    },
    {
     "name": "stderr",
     "output_type": "stream",
     "text": [
      "                                                                                                                        \r"
     ]
    },
    {
     "name": "stdout",
     "output_type": "stream",
     "text": [
      "Epoch 8/20\n",
      "  Train Loss: 0.3407\n",
      "  SAE Train Loss (hidden one): 0.6165\n",
      "  SAE Train Loss (hidden two): 0.0681\n",
      "  Val Loss: 0.3309 | Val Acc: 90.62%\n",
      "  Saved model with Val Acc: 90.62%\n"
     ]
    },
    {
     "name": "stderr",
     "output_type": "stream",
     "text": [
      "                                                                                                                        \r"
     ]
    },
    {
     "name": "stdout",
     "output_type": "stream",
     "text": [
      "Epoch 9/20\n",
      "  Train Loss: 0.3317\n",
      "  SAE Train Loss (hidden one): 0.6499\n",
      "  SAE Train Loss (hidden two): 0.0650\n",
      "  Val Loss: 0.3474 | Val Acc: 89.95%\n"
     ]
    },
    {
     "name": "stderr",
     "output_type": "stream",
     "text": [
      "                                                                                                                        \r"
     ]
    },
    {
     "name": "stdout",
     "output_type": "stream",
     "text": [
      "Epoch 10/20\n",
      "  Train Loss: 0.3273\n",
      "  SAE Train Loss (hidden one): 0.5789\n",
      "  SAE Train Loss (hidden two): 0.0607\n",
      "  Val Loss: 0.3271 | Val Acc: 90.17%\n"
     ]
    },
    {
     "name": "stderr",
     "output_type": "stream",
     "text": [
      "                                                                                                                        \r"
     ]
    },
    {
     "name": "stdout",
     "output_type": "stream",
     "text": [
      "Epoch 11/20\n",
      "  Train Loss: 0.3233\n",
      "  SAE Train Loss (hidden one): 0.5984\n",
      "  SAE Train Loss (hidden two): 0.0576\n",
      "  Val Loss: 0.3408 | Val Acc: 90.23%\n"
     ]
    },
    {
     "name": "stderr",
     "output_type": "stream",
     "text": [
      "                                                                                                                        \r"
     ]
    },
    {
     "name": "stdout",
     "output_type": "stream",
     "text": [
      "Epoch 12/20\n",
      "  Train Loss: 0.3227\n",
      "  SAE Train Loss (hidden one): 0.6603\n",
      "  SAE Train Loss (hidden two): 0.0560\n",
      "  Val Loss: 0.3215 | Val Acc: 90.35%\n"
     ]
    },
    {
     "name": "stderr",
     "output_type": "stream",
     "text": [
      "                                                                                                                        \r"
     ]
    },
    {
     "name": "stdout",
     "output_type": "stream",
     "text": [
      "Epoch 13/20\n",
      "  Train Loss: 0.3189\n",
      "  SAE Train Loss (hidden one): 0.6032\n",
      "  SAE Train Loss (hidden two): 0.0537\n",
      "  Val Loss: 0.3277 | Val Acc: 90.69%\n",
      "  Saved model with Val Acc: 90.69%\n"
     ]
    },
    {
     "name": "stderr",
     "output_type": "stream",
     "text": [
      "                                                                                                                        \r"
     ]
    },
    {
     "name": "stdout",
     "output_type": "stream",
     "text": [
      "Epoch 14/20\n",
      "  Train Loss: 0.3168\n",
      "  SAE Train Loss (hidden one): 0.6634\n",
      "  SAE Train Loss (hidden two): 0.0531\n",
      "  Val Loss: 0.3550 | Val Acc: 90.07%\n"
     ]
    },
    {
     "name": "stderr",
     "output_type": "stream",
     "text": [
      "                                                                                                                        \r"
     ]
    },
    {
     "name": "stdout",
     "output_type": "stream",
     "text": [
      "Epoch 15/20\n",
      "  Train Loss: 0.3150\n",
      "  SAE Train Loss (hidden one): 0.6313\n",
      "  SAE Train Loss (hidden two): 0.0500\n",
      "  Val Loss: 0.3280 | Val Acc: 90.62%\n"
     ]
    },
    {
     "name": "stderr",
     "output_type": "stream",
     "text": [
      "                                                                                                                        \r"
     ]
    },
    {
     "name": "stdout",
     "output_type": "stream",
     "text": [
      "Epoch 16/20\n",
      "  Train Loss: 0.3118\n",
      "  SAE Train Loss (hidden one): 0.6027\n",
      "  SAE Train Loss (hidden two): 0.0501\n",
      "  Val Loss: 0.3252 | Val Acc: 90.29%\n"
     ]
    },
    {
     "name": "stderr",
     "output_type": "stream",
     "text": [
      "                                                                                                                        \r"
     ]
    },
    {
     "name": "stdout",
     "output_type": "stream",
     "text": [
      "Epoch 17/20\n",
      "  Train Loss: 0.3100\n",
      "  SAE Train Loss (hidden one): 0.6104\n",
      "  SAE Train Loss (hidden two): 0.0469\n",
      "  Val Loss: 0.3214 | Val Acc: 90.45%\n"
     ]
    },
    {
     "name": "stderr",
     "output_type": "stream",
     "text": [
      "                                                                                                                        \r"
     ]
    },
    {
     "name": "stdout",
     "output_type": "stream",
     "text": [
      "Epoch 18/20\n",
      "  Train Loss: 0.3068\n",
      "  SAE Train Loss (hidden one): 0.7418\n",
      "  SAE Train Loss (hidden two): 0.0470\n",
      "  Val Loss: 0.3085 | Val Acc: 90.94%\n",
      "  Saved model with Val Acc: 90.94%\n"
     ]
    },
    {
     "name": "stderr",
     "output_type": "stream",
     "text": [
      "                                                                                                                        \r"
     ]
    },
    {
     "name": "stdout",
     "output_type": "stream",
     "text": [
      "Epoch 19/20\n",
      "  Train Loss: 0.3059\n",
      "  SAE Train Loss (hidden one): 0.7288\n",
      "  SAE Train Loss (hidden two): 0.0465\n",
      "  Val Loss: 0.3337 | Val Acc: 90.57%\n"
     ]
    },
    {
     "name": "stderr",
     "output_type": "stream",
     "text": [
      "                                                                                                                        \r"
     ]
    },
    {
     "name": "stdout",
     "output_type": "stream",
     "text": [
      "Epoch 20/20\n",
      "  Train Loss: 0.3032\n",
      "  SAE Train Loss (hidden one): 0.6643\n",
      "  SAE Train Loss (hidden two): 0.0459\n",
      "  Val Loss: 0.3309 | Val Acc: 90.62%\n"
     ]
    },
    {
     "name": "stderr",
     "output_type": "stream",
     "text": [
      "Evaluation: 100%|██████████████████████████████████████████████████████████████████████| 79/79 [00:00<00:00, 314.56it/s]\n"
     ]
    },
    {
     "name": "stdout",
     "output_type": "stream",
     "text": [
      "Final Test Accuracy: 91.40%\n",
      "Average Reconstruction Error (Hidden One): 0.2166\n",
      "Average Reconstruction Error (Hidden Two): 0.0131\n",
      "Average Non-Zero Features per Image (Hidden One): 32.28\n",
      "Average Non-Zero Features per Image (Hidden Two): 34.84\n"
     ]
    },
    {
     "name": "stderr",
     "output_type": "stream",
     "text": [
      "/home/alex/.local/lib/python3.10/site-packages/sklearn/linear_model/_logistic.py:469: ConvergenceWarning: lbfgs failed to converge (status=1):\n",
      "STOP: TOTAL NO. of ITERATIONS REACHED LIMIT.\n",
      "\n",
      "Increase the number of iterations (max_iter) or scale the data as shown in:\n",
      "    https://scikit-learn.org/stable/modules/preprocessing.html\n",
      "Please also refer to the documentation for alternative solver options:\n",
      "    https://scikit-learn.org/stable/modules/linear_model.html#logistic-regression\n",
      "  n_iter_i = _check_optimize_result(\n"
     ]
    },
    {
     "name": "stdout",
     "output_type": "stream",
     "text": [
      "Linear Probe Accuracy (Hidden One): 91.14%\n"
     ]
    },
    {
     "name": "stderr",
     "output_type": "stream",
     "text": [
      "/home/alex/.local/lib/python3.10/site-packages/sklearn/linear_model/_logistic.py:469: ConvergenceWarning: lbfgs failed to converge (status=1):\n",
      "STOP: TOTAL NO. of ITERATIONS REACHED LIMIT.\n",
      "\n",
      "Increase the number of iterations (max_iter) or scale the data as shown in:\n",
      "    https://scikit-learn.org/stable/modules/preprocessing.html\n",
      "Please also refer to the documentation for alternative solver options:\n",
      "    https://scikit-learn.org/stable/modules/linear_model.html#logistic-regression\n",
      "  n_iter_i = _check_optimize_result(\n"
     ]
    },
    {
     "name": "stdout",
     "output_type": "stream",
     "text": [
      "Linear Probe Accuracy (Hidden Two): 89.81%\n",
      "\n",
      "##################################################\n",
      "Loss factor: 0.045000000000000026\n",
      "\n",
      "\n"
     ]
    },
    {
     "name": "stderr",
     "output_type": "stream",
     "text": [
      "                                                                                                                        \r"
     ]
    },
    {
     "name": "stdout",
     "output_type": "stream",
     "text": [
      "Epoch 1/20\n",
      "  Train Loss: 1.0262\n",
      "  SAE Train Loss (hidden one): 8.7943\n",
      "  SAE Train Loss (hidden two): 1.1942\n",
      "  Val Loss: 0.5613 | Val Acc: 85.45%\n",
      "  Saved model with Val Acc: 85.45%\n"
     ]
    },
    {
     "name": "stderr",
     "output_type": "stream",
     "text": [
      "                                                                                                                        \r"
     ]
    },
    {
     "name": "stdout",
     "output_type": "stream",
     "text": [
      "Epoch 2/20\n",
      "  Train Loss: 0.4874\n",
      "  SAE Train Loss (hidden one): 0.5834\n",
      "  SAE Train Loss (hidden two): 0.1181\n",
      "  Val Loss: 0.4175 | Val Acc: 88.06%\n",
      "  Saved model with Val Acc: 88.06%\n"
     ]
    },
    {
     "name": "stderr",
     "output_type": "stream",
     "text": [
      "                                                                                                                        \r"
     ]
    },
    {
     "name": "stdout",
     "output_type": "stream",
     "text": [
      "Epoch 3/20\n",
      "  Train Loss: 0.4002\n",
      "  SAE Train Loss (hidden one): 0.7078\n",
      "  SAE Train Loss (hidden two): 0.1087\n",
      "  Val Loss: 0.3726 | Val Acc: 89.41%\n",
      "  Saved model with Val Acc: 89.41%\n"
     ]
    },
    {
     "name": "stderr",
     "output_type": "stream",
     "text": [
      "                                                                                                                        \r"
     ]
    },
    {
     "name": "stdout",
     "output_type": "stream",
     "text": [
      "Epoch 4/20\n",
      "  Train Loss: 0.3790\n",
      "  SAE Train Loss (hidden one): 0.6106\n",
      "  SAE Train Loss (hidden two): 0.0912\n",
      "  Val Loss: 0.3494 | Val Acc: 89.74%\n",
      "  Saved model with Val Acc: 89.74%\n"
     ]
    },
    {
     "name": "stderr",
     "output_type": "stream",
     "text": [
      "                                                                                                                        \r"
     ]
    },
    {
     "name": "stdout",
     "output_type": "stream",
     "text": [
      "Epoch 5/20\n",
      "  Train Loss: 0.3637\n",
      "  SAE Train Loss (hidden one): 0.6382\n",
      "  SAE Train Loss (hidden two): 0.0878\n",
      "  Val Loss: 0.3346 | Val Acc: 90.03%\n",
      "  Saved model with Val Acc: 90.03%\n"
     ]
    },
    {
     "name": "stderr",
     "output_type": "stream",
     "text": [
      "                                                                                                                        \r"
     ]
    },
    {
     "name": "stdout",
     "output_type": "stream",
     "text": [
      "Epoch 6/20\n",
      "  Train Loss: 0.3500\n",
      "  SAE Train Loss (hidden one): 0.6145\n",
      "  SAE Train Loss (hidden two): 0.0802\n",
      "  Val Loss: 0.3225 | Val Acc: 90.51%\n",
      "  Saved model with Val Acc: 90.51%\n"
     ]
    },
    {
     "name": "stderr",
     "output_type": "stream",
     "text": [
      "                                                                                                                        \r"
     ]
    },
    {
     "name": "stdout",
     "output_type": "stream",
     "text": [
      "Epoch 7/20\n",
      "  Train Loss: 0.3438\n",
      "  SAE Train Loss (hidden one): 0.7360\n",
      "  SAE Train Loss (hidden two): 0.0756\n",
      "  Val Loss: 0.3251 | Val Acc: 90.71%\n",
      "  Saved model with Val Acc: 90.71%\n"
     ]
    },
    {
     "name": "stderr",
     "output_type": "stream",
     "text": [
      "                                                                                                                        \r"
     ]
    },
    {
     "name": "stdout",
     "output_type": "stream",
     "text": [
      "Epoch 8/20\n",
      "  Train Loss: 0.3387\n",
      "  SAE Train Loss (hidden one): 0.5958\n",
      "  SAE Train Loss (hidden two): 0.0683\n",
      "  Val Loss: 0.3270 | Val Acc: 90.47%\n"
     ]
    },
    {
     "name": "stderr",
     "output_type": "stream",
     "text": [
      "                                                                                                                        \r"
     ]
    },
    {
     "name": "stdout",
     "output_type": "stream",
     "text": [
      "Epoch 9/20\n",
      "  Train Loss: 0.3301\n",
      "  SAE Train Loss (hidden one): 0.6422\n",
      "  SAE Train Loss (hidden two): 0.0681\n",
      "  Val Loss: 0.3578 | Val Acc: 89.46%\n"
     ]
    },
    {
     "name": "stderr",
     "output_type": "stream",
     "text": [
      "                                                                                                                        \r"
     ]
    },
    {
     "name": "stdout",
     "output_type": "stream",
     "text": [
      "Epoch 10/20\n",
      "  Train Loss: 0.3241\n",
      "  SAE Train Loss (hidden one): 0.5862\n",
      "  SAE Train Loss (hidden two): 0.0632\n",
      "  Val Loss: 0.3329 | Val Acc: 89.83%\n"
     ]
    },
    {
     "name": "stderr",
     "output_type": "stream",
     "text": [
      "                                                                                                                        \r"
     ]
    },
    {
     "name": "stdout",
     "output_type": "stream",
     "text": [
      "Epoch 11/20\n",
      "  Train Loss: 0.3205\n",
      "  SAE Train Loss (hidden one): 0.7845\n",
      "  SAE Train Loss (hidden two): 0.0642\n",
      "  Val Loss: 0.3294 | Val Acc: 90.31%\n"
     ]
    },
    {
     "name": "stderr",
     "output_type": "stream",
     "text": [
      "                                                                                                                        \r"
     ]
    },
    {
     "name": "stdout",
     "output_type": "stream",
     "text": [
      "Epoch 12/20\n",
      "  Train Loss: 0.3181\n",
      "  SAE Train Loss (hidden one): 0.8215\n",
      "  SAE Train Loss (hidden two): 0.0613\n",
      "  Val Loss: 0.3145 | Val Acc: 90.51%\n"
     ]
    },
    {
     "name": "stderr",
     "output_type": "stream",
     "text": [
      "                                                                                                                        \r"
     ]
    },
    {
     "name": "stdout",
     "output_type": "stream",
     "text": [
      "Epoch 13/20\n",
      "  Train Loss: 0.3140\n",
      "  SAE Train Loss (hidden one): 0.6716\n",
      "  SAE Train Loss (hidden two): 0.0568\n",
      "  Val Loss: 0.3271 | Val Acc: 90.66%\n"
     ]
    },
    {
     "name": "stderr",
     "output_type": "stream",
     "text": [
      "                                                                                                                        \r"
     ]
    },
    {
     "name": "stdout",
     "output_type": "stream",
     "text": [
      "Epoch 14/20\n",
      "  Train Loss: 0.3159\n",
      "  SAE Train Loss (hidden one): 1.3246\n",
      "  SAE Train Loss (hidden two): 0.0662\n",
      "  Val Loss: 0.3282 | Val Acc: 90.87%\n",
      "  Saved model with Val Acc: 90.87%\n"
     ]
    },
    {
     "name": "stderr",
     "output_type": "stream",
     "text": [
      "                                                                                                                        \r"
     ]
    },
    {
     "name": "stdout",
     "output_type": "stream",
     "text": [
      "Epoch 15/20\n",
      "  Train Loss: 0.3101\n",
      "  SAE Train Loss (hidden one): 1.1595\n",
      "  SAE Train Loss (hidden two): 0.0608\n",
      "  Val Loss: 0.3249 | Val Acc: 90.42%\n"
     ]
    },
    {
     "name": "stderr",
     "output_type": "stream",
     "text": [
      "                                                                                                                        \r"
     ]
    },
    {
     "name": "stdout",
     "output_type": "stream",
     "text": [
      "Epoch 16/20\n",
      "  Train Loss: 0.3081\n",
      "  SAE Train Loss (hidden one): 0.9325\n",
      "  SAE Train Loss (hidden two): 0.0583\n",
      "  Val Loss: 0.3375 | Val Acc: 90.30%\n"
     ]
    },
    {
     "name": "stderr",
     "output_type": "stream",
     "text": [
      "                                                                                                                        \r"
     ]
    },
    {
     "name": "stdout",
     "output_type": "stream",
     "text": [
      "Epoch 17/20\n",
      "  Train Loss: 0.2985\n",
      "  SAE Train Loss (hidden one): 1.1222\n",
      "  SAE Train Loss (hidden two): 0.0569\n",
      "  Val Loss: 0.3147 | Val Acc: 90.74%\n"
     ]
    },
    {
     "name": "stderr",
     "output_type": "stream",
     "text": [
      "                                                                                                                        \r"
     ]
    },
    {
     "name": "stdout",
     "output_type": "stream",
     "text": [
      "Epoch 18/20\n",
      "  Train Loss: 0.2957\n",
      "  SAE Train Loss (hidden one): 1.4752\n",
      "  SAE Train Loss (hidden two): 0.0611\n",
      "  Val Loss: 0.2948 | Val Acc: 91.41%\n",
      "  Saved model with Val Acc: 91.41%\n"
     ]
    },
    {
     "name": "stderr",
     "output_type": "stream",
     "text": [
      "                                                                                                                        \r"
     ]
    },
    {
     "name": "stdout",
     "output_type": "stream",
     "text": [
      "Epoch 19/20\n",
      "  Train Loss: 0.2889\n",
      "  SAE Train Loss (hidden one): 1.1312\n",
      "  SAE Train Loss (hidden two): 0.0621\n",
      "  Val Loss: 0.3020 | Val Acc: 91.15%\n"
     ]
    },
    {
     "name": "stderr",
     "output_type": "stream",
     "text": [
      "                                                                                                                        \r"
     ]
    },
    {
     "name": "stdout",
     "output_type": "stream",
     "text": [
      "Epoch 20/20\n",
      "  Train Loss: 0.2836\n",
      "  SAE Train Loss (hidden one): 1.0417\n",
      "  SAE Train Loss (hidden two): 0.0585\n",
      "  Val Loss: 0.2974 | Val Acc: 91.52%\n",
      "  Saved model with Val Acc: 91.52%\n"
     ]
    },
    {
     "name": "stderr",
     "output_type": "stream",
     "text": [
      "Evaluation: 100%|██████████████████████████████████████████████████████████████████████| 79/79 [00:00<00:00, 303.10it/s]"
     ]
    },
    {
     "name": "stdout",
     "output_type": "stream",
     "text": [
      "Final Test Accuracy: 91.60%\n",
      "Average Reconstruction Error (Hidden One): 0.3505\n",
      "Average Reconstruction Error (Hidden Two): 0.0154\n",
      "Average Non-Zero Features per Image (Hidden One): 31.92\n",
      "Average Non-Zero Features per Image (Hidden Two): 33.96\n"
     ]
    },
    {
     "name": "stderr",
     "output_type": "stream",
     "text": [
      "\n",
      "/home/alex/.local/lib/python3.10/site-packages/sklearn/linear_model/_logistic.py:469: ConvergenceWarning: lbfgs failed to converge (status=1):\n",
      "STOP: TOTAL NO. of ITERATIONS REACHED LIMIT.\n",
      "\n",
      "Increase the number of iterations (max_iter) or scale the data as shown in:\n",
      "    https://scikit-learn.org/stable/modules/preprocessing.html\n",
      "Please also refer to the documentation for alternative solver options:\n",
      "    https://scikit-learn.org/stable/modules/linear_model.html#logistic-regression\n",
      "  n_iter_i = _check_optimize_result(\n"
     ]
    },
    {
     "name": "stdout",
     "output_type": "stream",
     "text": [
      "Linear Probe Accuracy (Hidden One): 92.17%\n"
     ]
    },
    {
     "name": "stderr",
     "output_type": "stream",
     "text": [
      "/home/alex/.local/lib/python3.10/site-packages/sklearn/linear_model/_logistic.py:469: ConvergenceWarning: lbfgs failed to converge (status=1):\n",
      "STOP: TOTAL NO. of ITERATIONS REACHED LIMIT.\n",
      "\n",
      "Increase the number of iterations (max_iter) or scale the data as shown in:\n",
      "    https://scikit-learn.org/stable/modules/preprocessing.html\n",
      "Please also refer to the documentation for alternative solver options:\n",
      "    https://scikit-learn.org/stable/modules/linear_model.html#logistic-regression\n",
      "  n_iter_i = _check_optimize_result(\n"
     ]
    },
    {
     "name": "stdout",
     "output_type": "stream",
     "text": [
      "Linear Probe Accuracy (Hidden Two): 91.84%\n",
      "\n",
      "##################################################\n",
      "Loss factor: 0.04600000000000003\n",
      "\n",
      "\n"
     ]
    },
    {
     "name": "stderr",
     "output_type": "stream",
     "text": [
      "                                                                                                                        \r"
     ]
    },
    {
     "name": "stdout",
     "output_type": "stream",
     "text": [
      "Epoch 1/20\n",
      "  Train Loss: 1.0617\n",
      "  SAE Train Loss (hidden one): 8.3942\n",
      "  SAE Train Loss (hidden two): 1.1344\n",
      "  Val Loss: 0.5993 | Val Acc: 84.82%\n",
      "  Saved model with Val Acc: 84.82%\n"
     ]
    },
    {
     "name": "stderr",
     "output_type": "stream",
     "text": [
      "                                                                                                                        \r"
     ]
    },
    {
     "name": "stdout",
     "output_type": "stream",
     "text": [
      "Epoch 2/20\n",
      "  Train Loss: 0.5077\n",
      "  SAE Train Loss (hidden one): 0.6767\n",
      "  SAE Train Loss (hidden two): 0.1035\n",
      "  Val Loss: 0.4331 | Val Acc: 86.65%\n",
      "  Saved model with Val Acc: 86.65%\n"
     ]
    },
    {
     "name": "stderr",
     "output_type": "stream",
     "text": [
      "                                                                                                                        \r"
     ]
    },
    {
     "name": "stdout",
     "output_type": "stream",
     "text": [
      "Epoch 3/20\n",
      "  Train Loss: 0.4170\n",
      "  SAE Train Loss (hidden one): 0.6833\n",
      "  SAE Train Loss (hidden two): 0.1090\n",
      "  Val Loss: 0.3865 | Val Acc: 88.98%\n",
      "  Saved model with Val Acc: 88.98%\n"
     ]
    },
    {
     "name": "stderr",
     "output_type": "stream",
     "text": [
      "                                                                                                                        \r"
     ]
    },
    {
     "name": "stdout",
     "output_type": "stream",
     "text": [
      "Epoch 4/20\n",
      "  Train Loss: 0.3774\n",
      "  SAE Train Loss (hidden one): 0.6451\n",
      "  SAE Train Loss (hidden two): 0.0934\n",
      "  Val Loss: 0.3484 | Val Acc: 89.78%\n",
      "  Saved model with Val Acc: 89.78%\n"
     ]
    },
    {
     "name": "stderr",
     "output_type": "stream",
     "text": [
      "                                                                                                                        \r"
     ]
    },
    {
     "name": "stdout",
     "output_type": "stream",
     "text": [
      "Epoch 5/20\n",
      "  Train Loss: 0.3579\n",
      "  SAE Train Loss (hidden one): 0.6714\n",
      "  SAE Train Loss (hidden two): 0.0894\n",
      "  Val Loss: 0.3380 | Val Acc: 90.01%\n",
      "  Saved model with Val Acc: 90.01%\n"
     ]
    },
    {
     "name": "stderr",
     "output_type": "stream",
     "text": [
      "                                                                                                                        \r"
     ]
    },
    {
     "name": "stdout",
     "output_type": "stream",
     "text": [
      "Epoch 6/20\n",
      "  Train Loss: 0.3380\n",
      "  SAE Train Loss (hidden one): 0.8508\n",
      "  SAE Train Loss (hidden two): 0.0841\n",
      "  Val Loss: 0.3230 | Val Acc: 90.59%\n",
      "  Saved model with Val Acc: 90.59%\n"
     ]
    },
    {
     "name": "stderr",
     "output_type": "stream",
     "text": [
      "                                                                                                                        \r"
     ]
    },
    {
     "name": "stdout",
     "output_type": "stream",
     "text": [
      "Epoch 7/20\n",
      "  Train Loss: 0.3301\n",
      "  SAE Train Loss (hidden one): 0.6409\n",
      "  SAE Train Loss (hidden two): 0.0763\n",
      "  Val Loss: 0.3067 | Val Acc: 91.06%\n",
      "  Saved model with Val Acc: 91.06%\n"
     ]
    },
    {
     "name": "stderr",
     "output_type": "stream",
     "text": [
      "                                                                                                                        \r"
     ]
    },
    {
     "name": "stdout",
     "output_type": "stream",
     "text": [
      "Epoch 8/20\n",
      "  Train Loss: 0.3219\n",
      "  SAE Train Loss (hidden one): 0.7139\n",
      "  SAE Train Loss (hidden two): 0.0769\n",
      "  Val Loss: 0.3144 | Val Acc: 90.81%\n"
     ]
    },
    {
     "name": "stderr",
     "output_type": "stream",
     "text": [
      "                                                                                                                        \r"
     ]
    },
    {
     "name": "stdout",
     "output_type": "stream",
     "text": [
      "Epoch 9/20\n",
      "  Train Loss: 0.3153\n",
      "  SAE Train Loss (hidden one): 0.6844\n",
      "  SAE Train Loss (hidden two): 0.0728\n",
      "  Val Loss: 0.3331 | Val Acc: 90.11%\n"
     ]
    },
    {
     "name": "stderr",
     "output_type": "stream",
     "text": [
      "                                                                                                                        \r"
     ]
    },
    {
     "name": "stdout",
     "output_type": "stream",
     "text": [
      "Epoch 10/20\n",
      "  Train Loss: 0.3108\n",
      "  SAE Train Loss (hidden one): 0.6774\n",
      "  SAE Train Loss (hidden two): 0.0697\n",
      "  Val Loss: 0.3072 | Val Acc: 90.91%\n"
     ]
    },
    {
     "name": "stderr",
     "output_type": "stream",
     "text": [
      "                                                                                                                        \r"
     ]
    },
    {
     "name": "stdout",
     "output_type": "stream",
     "text": [
      "Epoch 11/20\n",
      "  Train Loss: 0.3061\n",
      "  SAE Train Loss (hidden one): 0.7486\n",
      "  SAE Train Loss (hidden two): 0.0708\n",
      "  Val Loss: 0.3040 | Val Acc: 91.07%\n",
      "  Saved model with Val Acc: 91.07%\n"
     ]
    },
    {
     "name": "stderr",
     "output_type": "stream",
     "text": [
      "                                                                                                                        \r"
     ]
    },
    {
     "name": "stdout",
     "output_type": "stream",
     "text": [
      "Epoch 12/20\n",
      "  Train Loss: 0.3024\n",
      "  SAE Train Loss (hidden one): 0.7271\n",
      "  SAE Train Loss (hidden two): 0.0690\n",
      "  Val Loss: 0.2952 | Val Acc: 91.36%\n",
      "  Saved model with Val Acc: 91.36%\n"
     ]
    },
    {
     "name": "stderr",
     "output_type": "stream",
     "text": [
      "                                                                                                                        \r"
     ]
    },
    {
     "name": "stdout",
     "output_type": "stream",
     "text": [
      "Epoch 13/20\n",
      "  Train Loss: 0.2999\n",
      "  SAE Train Loss (hidden one): 0.7336\n",
      "  SAE Train Loss (hidden two): 0.0667\n",
      "  Val Loss: 0.2932 | Val Acc: 91.27%\n"
     ]
    },
    {
     "name": "stderr",
     "output_type": "stream",
     "text": [
      "                                                                                                                        \r"
     ]
    },
    {
     "name": "stdout",
     "output_type": "stream",
     "text": [
      "Epoch 14/20\n",
      "  Train Loss: 0.2977\n",
      "  SAE Train Loss (hidden one): 0.7475\n",
      "  SAE Train Loss (hidden two): 0.0644\n",
      "  Val Loss: 0.3154 | Val Acc: 90.96%\n"
     ]
    },
    {
     "name": "stderr",
     "output_type": "stream",
     "text": [
      "                                                                                                                        \r"
     ]
    },
    {
     "name": "stdout",
     "output_type": "stream",
     "text": [
      "Epoch 15/20\n",
      "  Train Loss: 0.2953\n",
      "  SAE Train Loss (hidden one): 0.7531\n",
      "  SAE Train Loss (hidden two): 0.0640\n",
      "  Val Loss: 0.2999 | Val Acc: 91.14%\n"
     ]
    },
    {
     "name": "stderr",
     "output_type": "stream",
     "text": [
      "                                                                                                                        \r"
     ]
    },
    {
     "name": "stdout",
     "output_type": "stream",
     "text": [
      "Epoch 16/20\n",
      "  Train Loss: 0.2927\n",
      "  SAE Train Loss (hidden one): 0.7208\n",
      "  SAE Train Loss (hidden two): 0.0619\n",
      "  Val Loss: 0.3268 | Val Acc: 90.29%\n"
     ]
    },
    {
     "name": "stderr",
     "output_type": "stream",
     "text": [
      "                                                                                                                        \r"
     ]
    },
    {
     "name": "stdout",
     "output_type": "stream",
     "text": [
      "Epoch 17/20\n",
      "  Train Loss: 0.2904\n",
      "  SAE Train Loss (hidden one): 0.8102\n",
      "  SAE Train Loss (hidden two): 0.0616\n",
      "  Val Loss: 0.2904 | Val Acc: 91.45%\n",
      "  Saved model with Val Acc: 91.45%\n"
     ]
    },
    {
     "name": "stderr",
     "output_type": "stream",
     "text": [
      "                                                                                                                        \r"
     ]
    },
    {
     "name": "stdout",
     "output_type": "stream",
     "text": [
      "Epoch 18/20\n",
      "  Train Loss: 0.2875\n",
      "  SAE Train Loss (hidden one): 0.7203\n",
      "  SAE Train Loss (hidden two): 0.0585\n",
      "  Val Loss: 0.2874 | Val Acc: 91.72%\n",
      "  Saved model with Val Acc: 91.72%\n"
     ]
    },
    {
     "name": "stderr",
     "output_type": "stream",
     "text": [
      "                                                                                                                        \r"
     ]
    },
    {
     "name": "stdout",
     "output_type": "stream",
     "text": [
      "Epoch 19/20\n",
      "  Train Loss: 0.2881\n",
      "  SAE Train Loss (hidden one): 0.8156\n",
      "  SAE Train Loss (hidden two): 0.0591\n",
      "  Val Loss: 0.2963 | Val Acc: 91.28%\n"
     ]
    },
    {
     "name": "stderr",
     "output_type": "stream",
     "text": [
      "                                                                                                                        \r"
     ]
    },
    {
     "name": "stdout",
     "output_type": "stream",
     "text": [
      "Epoch 20/20\n",
      "  Train Loss: 0.2833\n",
      "  SAE Train Loss (hidden one): 0.7569\n",
      "  SAE Train Loss (hidden two): 0.0575\n",
      "  Val Loss: 0.2937 | Val Acc: 91.26%\n"
     ]
    },
    {
     "name": "stderr",
     "output_type": "stream",
     "text": [
      "Evaluation: 100%|██████████████████████████████████████████████████████████████████████| 79/79 [00:00<00:00, 321.68it/s]\n"
     ]
    },
    {
     "name": "stdout",
     "output_type": "stream",
     "text": [
      "Final Test Accuracy: 91.73%\n",
      "Average Reconstruction Error (Hidden One): 1.6046\n",
      "Average Reconstruction Error (Hidden Two): 0.0272\n",
      "Average Non-Zero Features per Image (Hidden One): 33.95\n",
      "Average Non-Zero Features per Image (Hidden Two): 34.71\n"
     ]
    },
    {
     "name": "stderr",
     "output_type": "stream",
     "text": [
      "/home/alex/.local/lib/python3.10/site-packages/sklearn/linear_model/_logistic.py:469: ConvergenceWarning: lbfgs failed to converge (status=1):\n",
      "STOP: TOTAL NO. of ITERATIONS REACHED LIMIT.\n",
      "\n",
      "Increase the number of iterations (max_iter) or scale the data as shown in:\n",
      "    https://scikit-learn.org/stable/modules/preprocessing.html\n",
      "Please also refer to the documentation for alternative solver options:\n",
      "    https://scikit-learn.org/stable/modules/linear_model.html#logistic-regression\n",
      "  n_iter_i = _check_optimize_result(\n"
     ]
    },
    {
     "name": "stdout",
     "output_type": "stream",
     "text": [
      "Linear Probe Accuracy (Hidden One): 91.12%\n"
     ]
    },
    {
     "name": "stderr",
     "output_type": "stream",
     "text": [
      "/home/alex/.local/lib/python3.10/site-packages/sklearn/linear_model/_logistic.py:469: ConvergenceWarning: lbfgs failed to converge (status=1):\n",
      "STOP: TOTAL NO. of ITERATIONS REACHED LIMIT.\n",
      "\n",
      "Increase the number of iterations (max_iter) or scale the data as shown in:\n",
      "    https://scikit-learn.org/stable/modules/preprocessing.html\n",
      "Please also refer to the documentation for alternative solver options:\n",
      "    https://scikit-learn.org/stable/modules/linear_model.html#logistic-regression\n",
      "  n_iter_i = _check_optimize_result(\n"
     ]
    },
    {
     "name": "stdout",
     "output_type": "stream",
     "text": [
      "Linear Probe Accuracy (Hidden Two): 90.56%\n",
      "\n",
      "##################################################\n",
      "Loss factor: 0.04700000000000003\n",
      "\n",
      "\n"
     ]
    },
    {
     "name": "stderr",
     "output_type": "stream",
     "text": [
      "                                                                                                                        \r"
     ]
    },
    {
     "name": "stdout",
     "output_type": "stream",
     "text": [
      "Epoch 1/20\n",
      "  Train Loss: 1.0658\n",
      "  SAE Train Loss (hidden one): 8.4635\n",
      "  SAE Train Loss (hidden two): 1.1472\n",
      "  Val Loss: 0.5731 | Val Acc: 84.53%\n",
      "  Saved model with Val Acc: 84.53%\n"
     ]
    },
    {
     "name": "stderr",
     "output_type": "stream",
     "text": [
      "                                                                                                                        \r"
     ]
    },
    {
     "name": "stdout",
     "output_type": "stream",
     "text": [
      "Epoch 2/20\n",
      "  Train Loss: 0.5077\n",
      "  SAE Train Loss (hidden one): 0.6172\n",
      "  SAE Train Loss (hidden two): 0.1035\n",
      "  Val Loss: 0.4096 | Val Acc: 87.64%\n",
      "  Saved model with Val Acc: 87.64%\n"
     ]
    },
    {
     "name": "stderr",
     "output_type": "stream",
     "text": [
      "                                                                                                                        \r"
     ]
    },
    {
     "name": "stdout",
     "output_type": "stream",
     "text": [
      "Epoch 3/20\n",
      "  Train Loss: 0.4277\n",
      "  SAE Train Loss (hidden one): 0.6061\n",
      "  SAE Train Loss (hidden two): 0.0913\n",
      "  Val Loss: 0.3818 | Val Acc: 88.86%\n",
      "  Saved model with Val Acc: 88.86%\n"
     ]
    },
    {
     "name": "stderr",
     "output_type": "stream",
     "text": [
      "                                                                                                                        \r"
     ]
    },
    {
     "name": "stdout",
     "output_type": "stream",
     "text": [
      "Epoch 4/20\n",
      "  Train Loss: 0.3939\n",
      "  SAE Train Loss (hidden one): 0.6575\n",
      "  SAE Train Loss (hidden two): 0.0872\n",
      "  Val Loss: 0.3602 | Val Acc: 89.21%\n",
      "  Saved model with Val Acc: 89.21%\n"
     ]
    },
    {
     "name": "stderr",
     "output_type": "stream",
     "text": [
      "                                                                                                                        \r"
     ]
    },
    {
     "name": "stdout",
     "output_type": "stream",
     "text": [
      "Epoch 5/20\n",
      "  Train Loss: 0.3804\n",
      "  SAE Train Loss (hidden one): 0.7833\n",
      "  SAE Train Loss (hidden two): 0.0846\n",
      "  Val Loss: 0.3721 | Val Acc: 88.91%\n"
     ]
    },
    {
     "name": "stderr",
     "output_type": "stream",
     "text": [
      "                                                                                                                        \r"
     ]
    },
    {
     "name": "stdout",
     "output_type": "stream",
     "text": [
      "Epoch 6/20\n",
      "  Train Loss: 0.3597\n",
      "  SAE Train Loss (hidden one): 0.6992\n",
      "  SAE Train Loss (hidden two): 0.0823\n",
      "  Val Loss: 0.3323 | Val Acc: 90.48%\n",
      "  Saved model with Val Acc: 90.48%\n"
     ]
    },
    {
     "name": "stderr",
     "output_type": "stream",
     "text": [
      "                                                                                                                        \r"
     ]
    },
    {
     "name": "stdout",
     "output_type": "stream",
     "text": [
      "Epoch 7/20\n",
      "  Train Loss: 0.3504\n",
      "  SAE Train Loss (hidden one): 0.6900\n",
      "  SAE Train Loss (hidden two): 0.0739\n",
      "  Val Loss: 0.3388 | Val Acc: 90.00%\n"
     ]
    },
    {
     "name": "stderr",
     "output_type": "stream",
     "text": [
      "                                                                                                                        \r"
     ]
    },
    {
     "name": "stdout",
     "output_type": "stream",
     "text": [
      "Epoch 8/20\n",
      "  Train Loss: 0.3386\n",
      "  SAE Train Loss (hidden one): 0.7092\n",
      "  SAE Train Loss (hidden two): 0.0728\n",
      "  Val Loss: 0.3270 | Val Acc: 90.50%\n",
      "  Saved model with Val Acc: 90.50%\n"
     ]
    },
    {
     "name": "stderr",
     "output_type": "stream",
     "text": [
      "                                                                                                                        \r"
     ]
    },
    {
     "name": "stdout",
     "output_type": "stream",
     "text": [
      "Epoch 9/20\n",
      "  Train Loss: 0.3346\n",
      "  SAE Train Loss (hidden one): 0.6227\n",
      "  SAE Train Loss (hidden two): 0.0685\n",
      "  Val Loss: 0.3585 | Val Acc: 89.37%\n"
     ]
    },
    {
     "name": "stderr",
     "output_type": "stream",
     "text": [
      "                                                                                                                        \r"
     ]
    },
    {
     "name": "stdout",
     "output_type": "stream",
     "text": [
      "Epoch 10/20\n",
      "  Train Loss: 0.3296\n",
      "  SAE Train Loss (hidden one): 0.6505\n",
      "  SAE Train Loss (hidden two): 0.0649\n",
      "  Val Loss: 0.2990 | Val Acc: 91.31%\n",
      "  Saved model with Val Acc: 91.31%\n"
     ]
    },
    {
     "name": "stderr",
     "output_type": "stream",
     "text": [
      "                                                                                                                        \r"
     ]
    },
    {
     "name": "stdout",
     "output_type": "stream",
     "text": [
      "Epoch 11/20\n",
      "  Train Loss: 0.3222\n",
      "  SAE Train Loss (hidden one): 0.7162\n",
      "  SAE Train Loss (hidden two): 0.0663\n",
      "  Val Loss: 0.3074 | Val Acc: 91.10%\n"
     ]
    },
    {
     "name": "stderr",
     "output_type": "stream",
     "text": [
      "                                                                                                                        \r"
     ]
    },
    {
     "name": "stdout",
     "output_type": "stream",
     "text": [
      "Epoch 12/20\n",
      "  Train Loss: 0.3215\n",
      "  SAE Train Loss (hidden one): 0.6806\n",
      "  SAE Train Loss (hidden two): 0.0638\n",
      "  Val Loss: 0.2996 | Val Acc: 91.46%\n",
      "  Saved model with Val Acc: 91.46%\n"
     ]
    },
    {
     "name": "stderr",
     "output_type": "stream",
     "text": [
      "                                                                                                                        \r"
     ]
    },
    {
     "name": "stdout",
     "output_type": "stream",
     "text": [
      "Epoch 13/20\n",
      "  Train Loss: 0.3171\n",
      "  SAE Train Loss (hidden one): 0.7192\n",
      "  SAE Train Loss (hidden two): 0.0611\n",
      "  Val Loss: 0.2984 | Val Acc: 91.29%\n"
     ]
    },
    {
     "name": "stderr",
     "output_type": "stream",
     "text": [
      "                                                                                                                        \r"
     ]
    },
    {
     "name": "stdout",
     "output_type": "stream",
     "text": [
      "Epoch 14/20\n",
      "  Train Loss: 0.3126\n",
      "  SAE Train Loss (hidden one): 0.6635\n",
      "  SAE Train Loss (hidden two): 0.0600\n",
      "  Val Loss: 0.3287 | Val Acc: 90.54%\n"
     ]
    },
    {
     "name": "stderr",
     "output_type": "stream",
     "text": [
      "                                                                                                                        \r"
     ]
    },
    {
     "name": "stdout",
     "output_type": "stream",
     "text": [
      "Epoch 15/20\n",
      "  Train Loss: 0.3107\n",
      "  SAE Train Loss (hidden one): 0.7099\n",
      "  SAE Train Loss (hidden two): 0.0580\n",
      "  Val Loss: 0.3058 | Val Acc: 90.94%\n"
     ]
    },
    {
     "name": "stderr",
     "output_type": "stream",
     "text": [
      "                                                                                                                        \r"
     ]
    },
    {
     "name": "stdout",
     "output_type": "stream",
     "text": [
      "Epoch 16/20\n",
      "  Train Loss: 0.3093\n",
      "  SAE Train Loss (hidden one): 0.7050\n",
      "  SAE Train Loss (hidden two): 0.0578\n",
      "  Val Loss: 0.3418 | Val Acc: 89.98%\n"
     ]
    },
    {
     "name": "stderr",
     "output_type": "stream",
     "text": [
      "                                                                                                                        \r"
     ]
    },
    {
     "name": "stdout",
     "output_type": "stream",
     "text": [
      "Epoch 17/20\n",
      "  Train Loss: 0.3056\n",
      "  SAE Train Loss (hidden one): 0.7794\n",
      "  SAE Train Loss (hidden two): 0.0541\n",
      "  Val Loss: 0.2975 | Val Acc: 91.22%\n"
     ]
    },
    {
     "name": "stderr",
     "output_type": "stream",
     "text": [
      "                                                                                                                        \r"
     ]
    },
    {
     "name": "stdout",
     "output_type": "stream",
     "text": [
      "Epoch 18/20\n",
      "  Train Loss: 0.3050\n",
      "  SAE Train Loss (hidden one): 0.7444\n",
      "  SAE Train Loss (hidden two): 0.0541\n",
      "  Val Loss: 0.2982 | Val Acc: 91.40%\n"
     ]
    },
    {
     "name": "stderr",
     "output_type": "stream",
     "text": [
      "                                                                                                                        \r"
     ]
    },
    {
     "name": "stdout",
     "output_type": "stream",
     "text": [
      "Epoch 19/20\n",
      "  Train Loss: 0.3043\n",
      "  SAE Train Loss (hidden one): 0.7953\n",
      "  SAE Train Loss (hidden two): 0.0528\n",
      "  Val Loss: 0.3156 | Val Acc: 90.38%\n"
     ]
    },
    {
     "name": "stderr",
     "output_type": "stream",
     "text": [
      "                                                                                                                        \r"
     ]
    },
    {
     "name": "stdout",
     "output_type": "stream",
     "text": [
      "Epoch 20/20\n",
      "  Train Loss: 0.2997\n",
      "  SAE Train Loss (hidden one): 0.6568\n",
      "  SAE Train Loss (hidden two): 0.0519\n",
      "  Val Loss: 0.3066 | Val Acc: 90.86%\n"
     ]
    },
    {
     "name": "stderr",
     "output_type": "stream",
     "text": [
      "Evaluation: 100%|██████████████████████████████████████████████████████████████████████| 79/79 [00:00<00:00, 299.90it/s]"
     ]
    },
    {
     "name": "stdout",
     "output_type": "stream",
     "text": [
      "Final Test Accuracy: 91.31%\n",
      "Average Reconstruction Error (Hidden One): 0.3784\n",
      "Average Reconstruction Error (Hidden Two): 0.0192\n",
      "Average Non-Zero Features per Image (Hidden One): 34.26\n",
      "Average Non-Zero Features per Image (Hidden Two): 36.86\n"
     ]
    },
    {
     "name": "stderr",
     "output_type": "stream",
     "text": [
      "\n",
      "/home/alex/.local/lib/python3.10/site-packages/sklearn/linear_model/_logistic.py:469: ConvergenceWarning: lbfgs failed to converge (status=1):\n",
      "STOP: TOTAL NO. of ITERATIONS REACHED LIMIT.\n",
      "\n",
      "Increase the number of iterations (max_iter) or scale the data as shown in:\n",
      "    https://scikit-learn.org/stable/modules/preprocessing.html\n",
      "Please also refer to the documentation for alternative solver options:\n",
      "    https://scikit-learn.org/stable/modules/linear_model.html#logistic-regression\n",
      "  n_iter_i = _check_optimize_result(\n"
     ]
    },
    {
     "name": "stdout",
     "output_type": "stream",
     "text": [
      "Linear Probe Accuracy (Hidden One): 83.30%\n"
     ]
    },
    {
     "name": "stderr",
     "output_type": "stream",
     "text": [
      "/home/alex/.local/lib/python3.10/site-packages/sklearn/linear_model/_logistic.py:469: ConvergenceWarning: lbfgs failed to converge (status=1):\n",
      "STOP: TOTAL NO. of ITERATIONS REACHED LIMIT.\n",
      "\n",
      "Increase the number of iterations (max_iter) or scale the data as shown in:\n",
      "    https://scikit-learn.org/stable/modules/preprocessing.html\n",
      "Please also refer to the documentation for alternative solver options:\n",
      "    https://scikit-learn.org/stable/modules/linear_model.html#logistic-regression\n",
      "  n_iter_i = _check_optimize_result(\n"
     ]
    },
    {
     "name": "stdout",
     "output_type": "stream",
     "text": [
      "Linear Probe Accuracy (Hidden Two): 60.63%\n",
      "\n",
      "##################################################\n",
      "Loss factor: 0.04800000000000003\n",
      "\n",
      "\n"
     ]
    },
    {
     "name": "stderr",
     "output_type": "stream",
     "text": [
      "                                                                                                                        \r"
     ]
    },
    {
     "name": "stdout",
     "output_type": "stream",
     "text": [
      "Epoch 1/20\n",
      "  Train Loss: 1.0725\n",
      "  SAE Train Loss (hidden one): 8.3616\n",
      "  SAE Train Loss (hidden two): 1.1456\n",
      "  Val Loss: 0.6258 | Val Acc: 84.38%\n",
      "  Saved model with Val Acc: 84.38%\n"
     ]
    },
    {
     "name": "stderr",
     "output_type": "stream",
     "text": [
      "                                                                                                                        \r"
     ]
    },
    {
     "name": "stdout",
     "output_type": "stream",
     "text": [
      "Epoch 2/20\n",
      "  Train Loss: 0.5741\n",
      "  SAE Train Loss (hidden one): 0.5041\n",
      "  SAE Train Loss (hidden two): 0.0970\n",
      "  Val Loss: 0.4628 | Val Acc: 87.08%\n",
      "  Saved model with Val Acc: 87.08%\n"
     ]
    },
    {
     "name": "stderr",
     "output_type": "stream",
     "text": [
      "                                                                                                                        \r"
     ]
    },
    {
     "name": "stdout",
     "output_type": "stream",
     "text": [
      "Epoch 3/20\n",
      "  Train Loss: 0.4527\n",
      "  SAE Train Loss (hidden one): 0.4956\n",
      "  SAE Train Loss (hidden two): 0.0857\n",
      "  Val Loss: 0.4185 | Val Acc: 88.04%\n",
      "  Saved model with Val Acc: 88.04%\n"
     ]
    },
    {
     "name": "stderr",
     "output_type": "stream",
     "text": [
      "                                                                                                                        \r"
     ]
    },
    {
     "name": "stdout",
     "output_type": "stream",
     "text": [
      "Epoch 4/20\n",
      "  Train Loss: 0.4063\n",
      "  SAE Train Loss (hidden one): 0.4929\n",
      "  SAE Train Loss (hidden two): 0.0776\n",
      "  Val Loss: 0.3777 | Val Acc: 88.87%\n",
      "  Saved model with Val Acc: 88.87%\n"
     ]
    },
    {
     "name": "stderr",
     "output_type": "stream",
     "text": [
      "                                                                                                                        \r"
     ]
    },
    {
     "name": "stdout",
     "output_type": "stream",
     "text": [
      "Epoch 5/20\n",
      "  Train Loss: 0.3886\n",
      "  SAE Train Loss (hidden one): 0.5124\n",
      "  SAE Train Loss (hidden two): 0.0736\n",
      "  Val Loss: 0.3853 | Val Acc: 88.35%\n"
     ]
    },
    {
     "name": "stderr",
     "output_type": "stream",
     "text": [
      "                                                                                                                        \r"
     ]
    },
    {
     "name": "stdout",
     "output_type": "stream",
     "text": [
      "Epoch 6/20\n",
      "  Train Loss: 0.3731\n",
      "  SAE Train Loss (hidden one): 0.5413\n",
      "  SAE Train Loss (hidden two): 0.0670\n",
      "  Val Loss: 0.3400 | Val Acc: 90.13%\n",
      "  Saved model with Val Acc: 90.13%\n"
     ]
    },
    {
     "name": "stderr",
     "output_type": "stream",
     "text": [
      "                                                                                                                        \r"
     ]
    },
    {
     "name": "stdout",
     "output_type": "stream",
     "text": [
      "Epoch 7/20\n",
      "  Train Loss: 0.3674\n",
      "  SAE Train Loss (hidden one): 0.5190\n",
      "  SAE Train Loss (hidden two): 0.0633\n",
      "  Val Loss: 0.3421 | Val Acc: 90.04%\n"
     ]
    },
    {
     "name": "stderr",
     "output_type": "stream",
     "text": [
      "                                                                                                                        \r"
     ]
    },
    {
     "name": "stdout",
     "output_type": "stream",
     "text": [
      "Epoch 8/20\n",
      "  Train Loss: 0.3581\n",
      "  SAE Train Loss (hidden one): 0.5864\n",
      "  SAE Train Loss (hidden two): 0.0625\n",
      "  Val Loss: 0.3369 | Val Acc: 90.37%\n",
      "  Saved model with Val Acc: 90.37%\n"
     ]
    },
    {
     "name": "stderr",
     "output_type": "stream",
     "text": [
      "                                                                                                                        \r"
     ]
    },
    {
     "name": "stdout",
     "output_type": "stream",
     "text": [
      "Epoch 9/20\n",
      "  Train Loss: 0.3480\n",
      "  SAE Train Loss (hidden one): 0.5714\n",
      "  SAE Train Loss (hidden two): 0.0584\n",
      "  Val Loss: 0.3482 | Val Acc: 89.77%\n"
     ]
    },
    {
     "name": "stderr",
     "output_type": "stream",
     "text": [
      "                                                                                                                        \r"
     ]
    },
    {
     "name": "stdout",
     "output_type": "stream",
     "text": [
      "Epoch 10/20\n",
      "  Train Loss: 0.3438\n",
      "  SAE Train Loss (hidden one): 0.5582\n",
      "  SAE Train Loss (hidden two): 0.0566\n",
      "  Val Loss: 0.3311 | Val Acc: 90.59%\n",
      "  Saved model with Val Acc: 90.59%\n"
     ]
    },
    {
     "name": "stderr",
     "output_type": "stream",
     "text": [
      "                                                                                                                        \r"
     ]
    },
    {
     "name": "stdout",
     "output_type": "stream",
     "text": [
      "Epoch 11/20\n",
      "  Train Loss: 0.3341\n",
      "  SAE Train Loss (hidden one): 0.5758\n",
      "  SAE Train Loss (hidden two): 0.0557\n",
      "  Val Loss: 0.3432 | Val Acc: 89.98%\n"
     ]
    },
    {
     "name": "stderr",
     "output_type": "stream",
     "text": [
      "                                                                                                                        \r"
     ]
    },
    {
     "name": "stdout",
     "output_type": "stream",
     "text": [
      "Epoch 12/20\n",
      "  Train Loss: 0.3320\n",
      "  SAE Train Loss (hidden one): 0.5750\n",
      "  SAE Train Loss (hidden two): 0.0539\n",
      "  Val Loss: 0.3268 | Val Acc: 90.20%\n"
     ]
    },
    {
     "name": "stderr",
     "output_type": "stream",
     "text": [
      "                                                                                                                        \r"
     ]
    },
    {
     "name": "stdout",
     "output_type": "stream",
     "text": [
      "Epoch 13/20\n",
      "  Train Loss: 0.3313\n",
      "  SAE Train Loss (hidden one): 0.6252\n",
      "  SAE Train Loss (hidden two): 0.0531\n",
      "  Val Loss: 0.3150 | Val Acc: 90.75%\n",
      "  Saved model with Val Acc: 90.75%\n"
     ]
    },
    {
     "name": "stderr",
     "output_type": "stream",
     "text": [
      "                                                                                                                        \r"
     ]
    },
    {
     "name": "stdout",
     "output_type": "stream",
     "text": [
      "Epoch 14/20\n",
      "  Train Loss: 0.3256\n",
      "  SAE Train Loss (hidden one): 0.5477\n",
      "  SAE Train Loss (hidden two): 0.0503\n",
      "  Val Loss: 0.3321 | Val Acc: 90.24%\n"
     ]
    },
    {
     "name": "stderr",
     "output_type": "stream",
     "text": [
      "                                                                                                                        \r"
     ]
    },
    {
     "name": "stdout",
     "output_type": "stream",
     "text": [
      "Epoch 15/20\n",
      "  Train Loss: 0.3220\n",
      "  SAE Train Loss (hidden one): 0.6659\n",
      "  SAE Train Loss (hidden two): 0.0515\n",
      "  Val Loss: 0.3403 | Val Acc: 89.98%\n"
     ]
    },
    {
     "name": "stderr",
     "output_type": "stream",
     "text": [
      "                                                                                                                        \r"
     ]
    },
    {
     "name": "stdout",
     "output_type": "stream",
     "text": [
      "Epoch 16/20\n",
      "  Train Loss: 0.3189\n",
      "  SAE Train Loss (hidden one): 0.5732\n",
      "  SAE Train Loss (hidden two): 0.0527\n",
      "  Val Loss: 0.3134 | Val Acc: 91.02%\n",
      "  Saved model with Val Acc: 91.02%\n"
     ]
    },
    {
     "name": "stderr",
     "output_type": "stream",
     "text": [
      "                                                                                                                        \r"
     ]
    },
    {
     "name": "stdout",
     "output_type": "stream",
     "text": [
      "Epoch 17/20\n",
      "  Train Loss: 0.3162\n",
      "  SAE Train Loss (hidden one): 0.6342\n",
      "  SAE Train Loss (hidden two): 0.0484\n",
      "  Val Loss: 0.3214 | Val Acc: 90.51%\n"
     ]
    },
    {
     "name": "stderr",
     "output_type": "stream",
     "text": [
      "                                                                                                                        \r"
     ]
    },
    {
     "name": "stdout",
     "output_type": "stream",
     "text": [
      "Epoch 18/20\n",
      "  Train Loss: 0.3145\n",
      "  SAE Train Loss (hidden one): 0.6141\n",
      "  SAE Train Loss (hidden two): 0.0498\n",
      "  Val Loss: 0.3140 | Val Acc: 90.78%\n"
     ]
    },
    {
     "name": "stderr",
     "output_type": "stream",
     "text": [
      "                                                                                                                        \r"
     ]
    },
    {
     "name": "stdout",
     "output_type": "stream",
     "text": [
      "Epoch 19/20\n",
      "  Train Loss: 0.3137\n",
      "  SAE Train Loss (hidden one): 0.6492\n",
      "  SAE Train Loss (hidden two): 0.0493\n",
      "  Val Loss: 0.3152 | Val Acc: 90.34%\n"
     ]
    },
    {
     "name": "stderr",
     "output_type": "stream",
     "text": [
      "                                                                                                                        \r"
     ]
    },
    {
     "name": "stdout",
     "output_type": "stream",
     "text": [
      "Epoch 20/20\n",
      "  Train Loss: 0.3078\n",
      "  SAE Train Loss (hidden one): 0.6075\n",
      "  SAE Train Loss (hidden two): 0.0498\n",
      "  Val Loss: 0.3109 | Val Acc: 91.04%\n",
      "  Saved model with Val Acc: 91.04%\n"
     ]
    },
    {
     "name": "stderr",
     "output_type": "stream",
     "text": [
      "Evaluation: 100%|██████████████████████████████████████████████████████████████████████| 79/79 [00:00<00:00, 311.00it/s]\n"
     ]
    },
    {
     "name": "stdout",
     "output_type": "stream",
     "text": [
      "Final Test Accuracy: 91.21%\n",
      "Average Reconstruction Error (Hidden One): 0.3768\n",
      "Average Reconstruction Error (Hidden Two): 0.0110\n",
      "Average Non-Zero Features per Image (Hidden One): 31.71\n",
      "Average Non-Zero Features per Image (Hidden Two): 32.10\n"
     ]
    },
    {
     "name": "stderr",
     "output_type": "stream",
     "text": [
      "/home/alex/.local/lib/python3.10/site-packages/sklearn/linear_model/_logistic.py:469: ConvergenceWarning: lbfgs failed to converge (status=1):\n",
      "STOP: TOTAL NO. of ITERATIONS REACHED LIMIT.\n",
      "\n",
      "Increase the number of iterations (max_iter) or scale the data as shown in:\n",
      "    https://scikit-learn.org/stable/modules/preprocessing.html\n",
      "Please also refer to the documentation for alternative solver options:\n",
      "    https://scikit-learn.org/stable/modules/linear_model.html#logistic-regression\n",
      "  n_iter_i = _check_optimize_result(\n"
     ]
    },
    {
     "name": "stdout",
     "output_type": "stream",
     "text": [
      "Linear Probe Accuracy (Hidden One): 91.27%\n"
     ]
    },
    {
     "name": "stderr",
     "output_type": "stream",
     "text": [
      "/home/alex/.local/lib/python3.10/site-packages/sklearn/linear_model/_logistic.py:469: ConvergenceWarning: lbfgs failed to converge (status=1):\n",
      "STOP: TOTAL NO. of ITERATIONS REACHED LIMIT.\n",
      "\n",
      "Increase the number of iterations (max_iter) or scale the data as shown in:\n",
      "    https://scikit-learn.org/stable/modules/preprocessing.html\n",
      "Please also refer to the documentation for alternative solver options:\n",
      "    https://scikit-learn.org/stable/modules/linear_model.html#logistic-regression\n",
      "  n_iter_i = _check_optimize_result(\n"
     ]
    },
    {
     "name": "stdout",
     "output_type": "stream",
     "text": [
      "Linear Probe Accuracy (Hidden Two): 90.96%\n",
      "\n",
      "##################################################\n",
      "Loss factor: 0.04900000000000003\n",
      "\n",
      "\n"
     ]
    },
    {
     "name": "stderr",
     "output_type": "stream",
     "text": [
      "                                                                                                                        \r"
     ]
    },
    {
     "name": "stdout",
     "output_type": "stream",
     "text": [
      "Epoch 1/20\n",
      "  Train Loss: 1.0729\n",
      "  SAE Train Loss (hidden one): 8.3641\n",
      "  SAE Train Loss (hidden two): 1.1436\n",
      "  Val Loss: 0.6347 | Val Acc: 83.72%\n",
      "  Saved model with Val Acc: 83.72%\n"
     ]
    },
    {
     "name": "stderr",
     "output_type": "stream",
     "text": [
      "                                                                                                                        \r"
     ]
    },
    {
     "name": "stdout",
     "output_type": "stream",
     "text": [
      "Epoch 2/20\n",
      "  Train Loss: 0.5256\n",
      "  SAE Train Loss (hidden one): 0.7792\n",
      "  SAE Train Loss (hidden two): 0.1047\n",
      "  Val Loss: 0.4207 | Val Acc: 87.72%\n",
      "  Saved model with Val Acc: 87.72%\n"
     ]
    },
    {
     "name": "stderr",
     "output_type": "stream",
     "text": [
      "                                                                                                                        \r"
     ]
    },
    {
     "name": "stdout",
     "output_type": "stream",
     "text": [
      "Epoch 3/20\n",
      "  Train Loss: 0.4322\n",
      "  SAE Train Loss (hidden one): 0.5737\n",
      "  SAE Train Loss (hidden two): 0.0892\n",
      "  Val Loss: 0.3836 | Val Acc: 89.06%\n",
      "  Saved model with Val Acc: 89.06%\n"
     ]
    },
    {
     "name": "stderr",
     "output_type": "stream",
     "text": [
      "                                                                                                                        \r"
     ]
    },
    {
     "name": "stdout",
     "output_type": "stream",
     "text": [
      "Epoch 4/20\n",
      "  Train Loss: 0.4026\n",
      "  SAE Train Loss (hidden one): 0.6094\n",
      "  SAE Train Loss (hidden two): 0.0814\n",
      "  Val Loss: 0.3600 | Val Acc: 89.51%\n",
      "  Saved model with Val Acc: 89.51%\n"
     ]
    },
    {
     "name": "stderr",
     "output_type": "stream",
     "text": [
      "                                                                                                                        \r"
     ]
    },
    {
     "name": "stdout",
     "output_type": "stream",
     "text": [
      "Epoch 5/20\n",
      "  Train Loss: 0.3847\n",
      "  SAE Train Loss (hidden one): 0.6899\n",
      "  SAE Train Loss (hidden two): 0.0848\n",
      "  Val Loss: 0.3897 | Val Acc: 88.57%\n"
     ]
    },
    {
     "name": "stderr",
     "output_type": "stream",
     "text": [
      "                                                                                                                        \r"
     ]
    },
    {
     "name": "stdout",
     "output_type": "stream",
     "text": [
      "Epoch 6/20\n",
      "  Train Loss: 0.3642\n",
      "  SAE Train Loss (hidden one): 0.6769\n",
      "  SAE Train Loss (hidden two): 0.0782\n",
      "  Val Loss: 0.3435 | Val Acc: 90.24%\n",
      "  Saved model with Val Acc: 90.24%\n"
     ]
    },
    {
     "name": "stderr",
     "output_type": "stream",
     "text": [
      "                                                                                                                        \r"
     ]
    },
    {
     "name": "stdout",
     "output_type": "stream",
     "text": [
      "Epoch 7/20\n",
      "  Train Loss: 0.3552\n",
      "  SAE Train Loss (hidden one): 0.7455\n",
      "  SAE Train Loss (hidden two): 0.0735\n",
      "  Val Loss: 0.3339 | Val Acc: 90.22%\n"
     ]
    },
    {
     "name": "stderr",
     "output_type": "stream",
     "text": [
      "                                                                                                                        \r"
     ]
    },
    {
     "name": "stdout",
     "output_type": "stream",
     "text": [
      "Epoch 8/20\n",
      "  Train Loss: 0.3454\n",
      "  SAE Train Loss (hidden one): 0.6779\n",
      "  SAE Train Loss (hidden two): 0.0730\n",
      "  Val Loss: 0.3410 | Val Acc: 90.29%\n",
      "  Saved model with Val Acc: 90.29%\n"
     ]
    },
    {
     "name": "stderr",
     "output_type": "stream",
     "text": [
      "                                                                                                                        \r"
     ]
    },
    {
     "name": "stdout",
     "output_type": "stream",
     "text": [
      "Epoch 9/20\n",
      "  Train Loss: 0.3409\n",
      "  SAE Train Loss (hidden one): 0.7003\n",
      "  SAE Train Loss (hidden two): 0.0693\n",
      "  Val Loss: 0.3268 | Val Acc: 90.48%\n",
      "  Saved model with Val Acc: 90.48%\n"
     ]
    },
    {
     "name": "stderr",
     "output_type": "stream",
     "text": [
      "                                                                                                                        \r"
     ]
    },
    {
     "name": "stdout",
     "output_type": "stream",
     "text": [
      "Epoch 10/20\n",
      "  Train Loss: 0.3342\n",
      "  SAE Train Loss (hidden one): 0.6761\n",
      "  SAE Train Loss (hidden two): 0.0647\n",
      "  Val Loss: 0.3206 | Val Acc: 90.55%\n",
      "  Saved model with Val Acc: 90.55%\n"
     ]
    },
    {
     "name": "stderr",
     "output_type": "stream",
     "text": [
      "                                                                                                                        \r"
     ]
    },
    {
     "name": "stdout",
     "output_type": "stream",
     "text": [
      "Epoch 11/20\n",
      "  Train Loss: 0.3283\n",
      "  SAE Train Loss (hidden one): 0.6650\n",
      "  SAE Train Loss (hidden two): 0.0655\n",
      "  Val Loss: 0.3190 | Val Acc: 90.73%\n",
      "  Saved model with Val Acc: 90.73%\n"
     ]
    },
    {
     "name": "stderr",
     "output_type": "stream",
     "text": [
      "                                                                                                                        \r"
     ]
    },
    {
     "name": "stdout",
     "output_type": "stream",
     "text": [
      "Epoch 12/20\n",
      "  Train Loss: 0.3272\n",
      "  SAE Train Loss (hidden one): 0.7100\n",
      "  SAE Train Loss (hidden two): 0.0625\n",
      "  Val Loss: 0.3111 | Val Acc: 90.95%\n",
      "  Saved model with Val Acc: 90.95%\n"
     ]
    },
    {
     "name": "stderr",
     "output_type": "stream",
     "text": [
      "                                                                                                                        \r"
     ]
    },
    {
     "name": "stdout",
     "output_type": "stream",
     "text": [
      "Epoch 13/20\n",
      "  Train Loss: 0.3229\n",
      "  SAE Train Loss (hidden one): 0.7768\n",
      "  SAE Train Loss (hidden two): 0.0592\n",
      "  Val Loss: 0.3078 | Val Acc: 90.98%\n",
      "  Saved model with Val Acc: 90.98%\n"
     ]
    },
    {
     "name": "stderr",
     "output_type": "stream",
     "text": [
      "                                                                                                                        \r"
     ]
    },
    {
     "name": "stdout",
     "output_type": "stream",
     "text": [
      "Epoch 14/20\n",
      "  Train Loss: 0.3166\n",
      "  SAE Train Loss (hidden one): 0.6569\n",
      "  SAE Train Loss (hidden two): 0.0598\n",
      "  Val Loss: 0.3367 | Val Acc: 90.40%\n"
     ]
    },
    {
     "name": "stderr",
     "output_type": "stream",
     "text": [
      "                                                                                                                        \r"
     ]
    },
    {
     "name": "stdout",
     "output_type": "stream",
     "text": [
      "Epoch 15/20\n",
      "  Train Loss: 0.3176\n",
      "  SAE Train Loss (hidden one): 0.7463\n",
      "  SAE Train Loss (hidden two): 0.0568\n",
      "  Val Loss: 0.3022 | Val Acc: 91.22%\n",
      "  Saved model with Val Acc: 91.22%\n"
     ]
    },
    {
     "name": "stderr",
     "output_type": "stream",
     "text": [
      "                                                                                                                        \r"
     ]
    },
    {
     "name": "stdout",
     "output_type": "stream",
     "text": [
      "Epoch 16/20\n",
      "  Train Loss: 0.3117\n",
      "  SAE Train Loss (hidden one): 0.7390\n",
      "  SAE Train Loss (hidden two): 0.0569\n",
      "  Val Loss: 0.3177 | Val Acc: 90.64%\n"
     ]
    },
    {
     "name": "stderr",
     "output_type": "stream",
     "text": [
      "                                                                                                                        \r"
     ]
    },
    {
     "name": "stdout",
     "output_type": "stream",
     "text": [
      "Epoch 17/20\n",
      "  Train Loss: 0.3108\n",
      "  SAE Train Loss (hidden one): 0.7897\n",
      "  SAE Train Loss (hidden two): 0.0565\n",
      "  Val Loss: 0.2927 | Val Acc: 91.49%\n",
      "  Saved model with Val Acc: 91.49%\n"
     ]
    },
    {
     "name": "stderr",
     "output_type": "stream",
     "text": [
      "                                                                                                                        \r"
     ]
    },
    {
     "name": "stdout",
     "output_type": "stream",
     "text": [
      "Epoch 18/20\n",
      "  Train Loss: 0.3060\n",
      "  SAE Train Loss (hidden one): 0.7886\n",
      "  SAE Train Loss (hidden two): 0.0537\n",
      "  Val Loss: 0.3047 | Val Acc: 91.15%\n"
     ]
    },
    {
     "name": "stderr",
     "output_type": "stream",
     "text": [
      "                                                                                                                        \r"
     ]
    },
    {
     "name": "stdout",
     "output_type": "stream",
     "text": [
      "Epoch 19/20\n",
      "  Train Loss: 0.3071\n",
      "  SAE Train Loss (hidden one): 0.8445\n",
      "  SAE Train Loss (hidden two): 0.0533\n",
      "  Val Loss: 0.3242 | Val Acc: 90.39%\n"
     ]
    },
    {
     "name": "stderr",
     "output_type": "stream",
     "text": [
      "                                                                                                                        \r"
     ]
    },
    {
     "name": "stdout",
     "output_type": "stream",
     "text": [
      "Epoch 20/20\n",
      "  Train Loss: 0.3035\n",
      "  SAE Train Loss (hidden one): 0.6586\n",
      "  SAE Train Loss (hidden two): 0.0525\n",
      "  Val Loss: 0.3122 | Val Acc: 90.88%\n"
     ]
    },
    {
     "name": "stderr",
     "output_type": "stream",
     "text": [
      "Evaluation: 100%|██████████████████████████████████████████████████████████████████████| 79/79 [00:00<00:00, 283.70it/s]"
     ]
    },
    {
     "name": "stdout",
     "output_type": "stream",
     "text": [
      "Final Test Accuracy: 91.96%\n",
      "Average Reconstruction Error (Hidden One): 0.7800\n",
      "Average Reconstruction Error (Hidden Two): 0.0177\n",
      "Average Non-Zero Features per Image (Hidden One): 33.85\n",
      "Average Non-Zero Features per Image (Hidden Two): 34.87\n"
     ]
    },
    {
     "name": "stderr",
     "output_type": "stream",
     "text": [
      "\n",
      "/home/alex/.local/lib/python3.10/site-packages/sklearn/linear_model/_logistic.py:469: ConvergenceWarning: lbfgs failed to converge (status=1):\n",
      "STOP: TOTAL NO. of ITERATIONS REACHED LIMIT.\n",
      "\n",
      "Increase the number of iterations (max_iter) or scale the data as shown in:\n",
      "    https://scikit-learn.org/stable/modules/preprocessing.html\n",
      "Please also refer to the documentation for alternative solver options:\n",
      "    https://scikit-learn.org/stable/modules/linear_model.html#logistic-regression\n",
      "  n_iter_i = _check_optimize_result(\n"
     ]
    },
    {
     "name": "stdout",
     "output_type": "stream",
     "text": [
      "Linear Probe Accuracy (Hidden One): 90.34%\n"
     ]
    },
    {
     "name": "stderr",
     "output_type": "stream",
     "text": [
      "/home/alex/.local/lib/python3.10/site-packages/sklearn/linear_model/_logistic.py:469: ConvergenceWarning: lbfgs failed to converge (status=1):\n",
      "STOP: TOTAL NO. of ITERATIONS REACHED LIMIT.\n",
      "\n",
      "Increase the number of iterations (max_iter) or scale the data as shown in:\n",
      "    https://scikit-learn.org/stable/modules/preprocessing.html\n",
      "Please also refer to the documentation for alternative solver options:\n",
      "    https://scikit-learn.org/stable/modules/linear_model.html#logistic-regression\n",
      "  n_iter_i = _check_optimize_result(\n"
     ]
    },
    {
     "name": "stdout",
     "output_type": "stream",
     "text": [
      "Linear Probe Accuracy (Hidden Two): 84.79%\n",
      "\n",
      "##################################################\n",
      "Loss factor: 0.05000000000000003\n",
      "\n",
      "\n"
     ]
    },
    {
     "name": "stderr",
     "output_type": "stream",
     "text": [
      "                                                                                                                        \r"
     ]
    },
    {
     "name": "stdout",
     "output_type": "stream",
     "text": [
      "Epoch 1/20\n",
      "  Train Loss: 1.0628\n",
      "  SAE Train Loss (hidden one): 8.3913\n",
      "  SAE Train Loss (hidden two): 1.1556\n",
      "  Val Loss: 0.5999 | Val Acc: 84.24%\n",
      "  Saved model with Val Acc: 84.24%\n"
     ]
    },
    {
     "name": "stderr",
     "output_type": "stream",
     "text": [
      "                                                                                                                        \r"
     ]
    },
    {
     "name": "stdout",
     "output_type": "stream",
     "text": [
      "Epoch 2/20\n",
      "  Train Loss: 0.5606\n",
      "  SAE Train Loss (hidden one): 0.4647\n",
      "  SAE Train Loss (hidden two): 0.0889\n",
      "  Val Loss: 0.4896 | Val Acc: 85.07%\n",
      "  Saved model with Val Acc: 85.07%\n"
     ]
    },
    {
     "name": "stderr",
     "output_type": "stream",
     "text": [
      "                                                                                                                        \r"
     ]
    },
    {
     "name": "stdout",
     "output_type": "stream",
     "text": [
      "Epoch 3/20\n",
      "  Train Loss: 0.4780\n",
      "  SAE Train Loss (hidden one): 0.3966\n",
      "  SAE Train Loss (hidden two): 0.0732\n",
      "  Val Loss: 0.4691 | Val Acc: 86.63%\n",
      "  Saved model with Val Acc: 86.63%\n"
     ]
    },
    {
     "name": "stderr",
     "output_type": "stream",
     "text": [
      "                                                                                                                        \r"
     ]
    },
    {
     "name": "stdout",
     "output_type": "stream",
     "text": [
      "Epoch 4/20\n",
      "  Train Loss: 0.4536\n",
      "  SAE Train Loss (hidden one): 0.3842\n",
      "  SAE Train Loss (hidden two): 0.0649\n",
      "  Val Loss: 0.4249 | Val Acc: 87.43%\n",
      "  Saved model with Val Acc: 87.43%\n"
     ]
    },
    {
     "name": "stderr",
     "output_type": "stream",
     "text": [
      "                                                                                                                        \r"
     ]
    },
    {
     "name": "stdout",
     "output_type": "stream",
     "text": [
      "Epoch 5/20\n",
      "  Train Loss: 0.4398\n",
      "  SAE Train Loss (hidden one): 0.3983\n",
      "  SAE Train Loss (hidden two): 0.0618\n",
      "  Val Loss: 0.4183 | Val Acc: 87.23%\n"
     ]
    },
    {
     "name": "stderr",
     "output_type": "stream",
     "text": [
      "                                                                                                                        \r"
     ]
    },
    {
     "name": "stdout",
     "output_type": "stream",
     "text": [
      "Epoch 6/20\n",
      "  Train Loss: 0.4248\n",
      "  SAE Train Loss (hidden one): 0.4239\n",
      "  SAE Train Loss (hidden two): 0.0595\n",
      "  Val Loss: 0.4199 | Val Acc: 87.46%\n",
      "  Saved model with Val Acc: 87.46%\n"
     ]
    },
    {
     "name": "stderr",
     "output_type": "stream",
     "text": [
      "                                                                                                                        \r"
     ]
    },
    {
     "name": "stdout",
     "output_type": "stream",
     "text": [
      "Epoch 7/20\n",
      "  Train Loss: 0.4212\n",
      "  SAE Train Loss (hidden one): 0.4135\n",
      "  SAE Train Loss (hidden two): 0.0573\n",
      "  Val Loss: 0.3896 | Val Acc: 88.52%\n",
      "  Saved model with Val Acc: 88.52%\n"
     ]
    },
    {
     "name": "stderr",
     "output_type": "stream",
     "text": [
      "                                                                                                                        \r"
     ]
    },
    {
     "name": "stdout",
     "output_type": "stream",
     "text": [
      "Epoch 8/20\n",
      "  Train Loss: 0.4091\n",
      "  SAE Train Loss (hidden one): 0.4306\n",
      "  SAE Train Loss (hidden two): 0.0540\n",
      "  Val Loss: 0.3865 | Val Acc: 88.55%\n",
      "  Saved model with Val Acc: 88.55%\n"
     ]
    },
    {
     "name": "stderr",
     "output_type": "stream",
     "text": [
      "                                                                                                                        \r"
     ]
    },
    {
     "name": "stdout",
     "output_type": "stream",
     "text": [
      "Epoch 9/20\n",
      "  Train Loss: 0.4065\n",
      "  SAE Train Loss (hidden one): 0.4300\n",
      "  SAE Train Loss (hidden two): 0.0526\n",
      "  Val Loss: 0.3914 | Val Acc: 88.28%\n"
     ]
    },
    {
     "name": "stderr",
     "output_type": "stream",
     "text": [
      "                                                                                                                        \r"
     ]
    },
    {
     "name": "stdout",
     "output_type": "stream",
     "text": [
      "Epoch 10/20\n",
      "  Train Loss: 0.4027\n",
      "  SAE Train Loss (hidden one): 0.4752\n",
      "  SAE Train Loss (hidden two): 0.0488\n",
      "  Val Loss: 0.3961 | Val Acc: 88.38%\n"
     ]
    },
    {
     "name": "stderr",
     "output_type": "stream",
     "text": [
      "                                                                                                                        \r"
     ]
    },
    {
     "name": "stdout",
     "output_type": "stream",
     "text": [
      "Epoch 11/20\n",
      "  Train Loss: 0.3986\n",
      "  SAE Train Loss (hidden one): 0.4103\n",
      "  SAE Train Loss (hidden two): 0.0497\n",
      "  Val Loss: 0.3942 | Val Acc: 88.62%\n",
      "  Saved model with Val Acc: 88.62%\n"
     ]
    },
    {
     "name": "stderr",
     "output_type": "stream",
     "text": [
      "                                                                                                                        \r"
     ]
    },
    {
     "name": "stdout",
     "output_type": "stream",
     "text": [
      "Epoch 12/20\n",
      "  Train Loss: 0.3955\n",
      "  SAE Train Loss (hidden one): 0.4276\n",
      "  SAE Train Loss (hidden two): 0.0473\n",
      "  Val Loss: 0.3881 | Val Acc: 88.54%\n"
     ]
    },
    {
     "name": "stderr",
     "output_type": "stream",
     "text": [
      "                                                                                                                        \r"
     ]
    },
    {
     "name": "stdout",
     "output_type": "stream",
     "text": [
      "Epoch 13/20\n",
      "  Train Loss: 0.3956\n",
      "  SAE Train Loss (hidden one): 0.4580\n",
      "  SAE Train Loss (hidden two): 0.0456\n",
      "  Val Loss: 0.3688 | Val Acc: 89.27%\n",
      "  Saved model with Val Acc: 89.27%\n"
     ]
    },
    {
     "name": "stderr",
     "output_type": "stream",
     "text": [
      "                                                                                                                        \r"
     ]
    },
    {
     "name": "stdout",
     "output_type": "stream",
     "text": [
      "Epoch 14/20\n",
      "  Train Loss: 0.3913\n",
      "  SAE Train Loss (hidden one): 0.4524\n",
      "  SAE Train Loss (hidden two): 0.0449\n",
      "  Val Loss: 0.3942 | Val Acc: 88.29%\n"
     ]
    },
    {
     "name": "stderr",
     "output_type": "stream",
     "text": [
      "                                                                                                                        \r"
     ]
    },
    {
     "name": "stdout",
     "output_type": "stream",
     "text": [
      "Epoch 15/20\n",
      "  Train Loss: 0.3889\n",
      "  SAE Train Loss (hidden one): 0.4103\n",
      "  SAE Train Loss (hidden two): 0.0428\n",
      "  Val Loss: 0.3704 | Val Acc: 89.05%\n"
     ]
    },
    {
     "name": "stderr",
     "output_type": "stream",
     "text": [
      "                                                                                                                        \r"
     ]
    },
    {
     "name": "stdout",
     "output_type": "stream",
     "text": [
      "Epoch 16/20\n",
      "  Train Loss: 0.3878\n",
      "  SAE Train Loss (hidden one): 0.4611\n",
      "  SAE Train Loss (hidden two): 0.0447\n",
      "  Val Loss: 0.3761 | Val Acc: 89.03%\n"
     ]
    },
    {
     "name": "stderr",
     "output_type": "stream",
     "text": [
      "                                                                                                                        \r"
     ]
    },
    {
     "name": "stdout",
     "output_type": "stream",
     "text": [
      "Epoch 17/20\n",
      "  Train Loss: 0.3862\n",
      "  SAE Train Loss (hidden one): 0.4566\n",
      "  SAE Train Loss (hidden two): 0.0428\n",
      "  Val Loss: 0.3751 | Val Acc: 88.98%\n"
     ]
    },
    {
     "name": "stderr",
     "output_type": "stream",
     "text": [
      "                                                                                                                        \r"
     ]
    },
    {
     "name": "stdout",
     "output_type": "stream",
     "text": [
      "Epoch 18/20\n",
      "  Train Loss: 0.3844\n",
      "  SAE Train Loss (hidden one): 0.5038\n",
      "  SAE Train Loss (hidden two): 0.0424\n",
      "  Val Loss: 0.3759 | Val Acc: 89.00%\n"
     ]
    },
    {
     "name": "stderr",
     "output_type": "stream",
     "text": [
      "                                                                                                                        \r"
     ]
    },
    {
     "name": "stdout",
     "output_type": "stream",
     "text": [
      "Epoch 19/20\n",
      "  Train Loss: 0.3816\n",
      "  SAE Train Loss (hidden one): 0.4707\n",
      "  SAE Train Loss (hidden two): 0.0413\n",
      "  Val Loss: 0.3748 | Val Acc: 88.71%\n"
     ]
    },
    {
     "name": "stderr",
     "output_type": "stream",
     "text": [
      "                                                                                                                        \r"
     ]
    },
    {
     "name": "stdout",
     "output_type": "stream",
     "text": [
      "Epoch 20/20\n",
      "  Train Loss: 0.3805\n",
      "  SAE Train Loss (hidden one): 0.4878\n",
      "  SAE Train Loss (hidden two): 0.0424\n",
      "  Val Loss: 0.3920 | Val Acc: 88.69%\n"
     ]
    },
    {
     "name": "stderr",
     "output_type": "stream",
     "text": [
      "Evaluation: 100%|██████████████████████████████████████████████████████████████████████| 79/79 [00:00<00:00, 320.42it/s]\n"
     ]
    },
    {
     "name": "stdout",
     "output_type": "stream",
     "text": [
      "Final Test Accuracy: 88.99%\n",
      "Average Reconstruction Error (Hidden One): 0.3664\n",
      "Average Reconstruction Error (Hidden Two): 0.0124\n",
      "Average Non-Zero Features per Image (Hidden One): 32.85\n",
      "Average Non-Zero Features per Image (Hidden Two): 35.33\n"
     ]
    },
    {
     "name": "stderr",
     "output_type": "stream",
     "text": [
      "/home/alex/.local/lib/python3.10/site-packages/sklearn/linear_model/_logistic.py:469: ConvergenceWarning: lbfgs failed to converge (status=1):\n",
      "STOP: TOTAL NO. of ITERATIONS REACHED LIMIT.\n",
      "\n",
      "Increase the number of iterations (max_iter) or scale the data as shown in:\n",
      "    https://scikit-learn.org/stable/modules/preprocessing.html\n",
      "Please also refer to the documentation for alternative solver options:\n",
      "    https://scikit-learn.org/stable/modules/linear_model.html#logistic-regression\n",
      "  n_iter_i = _check_optimize_result(\n"
     ]
    },
    {
     "name": "stdout",
     "output_type": "stream",
     "text": [
      "Linear Probe Accuracy (Hidden One): 75.73%\n"
     ]
    },
    {
     "name": "stderr",
     "output_type": "stream",
     "text": [
      "/home/alex/.local/lib/python3.10/site-packages/sklearn/linear_model/_logistic.py:469: ConvergenceWarning: lbfgs failed to converge (status=1):\n",
      "STOP: TOTAL NO. of ITERATIONS REACHED LIMIT.\n",
      "\n",
      "Increase the number of iterations (max_iter) or scale the data as shown in:\n",
      "    https://scikit-learn.org/stable/modules/preprocessing.html\n",
      "Please also refer to the documentation for alternative solver options:\n",
      "    https://scikit-learn.org/stable/modules/linear_model.html#logistic-regression\n",
      "  n_iter_i = _check_optimize_result(\n"
     ]
    },
    {
     "name": "stdout",
     "output_type": "stream",
     "text": [
      "Linear Probe Accuracy (Hidden Two): 65.99%\n",
      "\n",
      "##################################################\n",
      "Loss factor: 0.05100000000000003\n",
      "\n",
      "\n"
     ]
    },
    {
     "name": "stderr",
     "output_type": "stream",
     "text": [
      "                                                                                                                        \r"
     ]
    },
    {
     "name": "stdout",
     "output_type": "stream",
     "text": [
      "Epoch 1/20\n",
      "  Train Loss: 1.0625\n",
      "  SAE Train Loss (hidden one): 8.5997\n",
      "  SAE Train Loss (hidden two): 1.1640\n",
      "  Val Loss: 0.5622 | Val Acc: 84.06%\n",
      "  Saved model with Val Acc: 84.06%\n"
     ]
    },
    {
     "name": "stderr",
     "output_type": "stream",
     "text": [
      "                                                                                                                        \r"
     ]
    },
    {
     "name": "stdout",
     "output_type": "stream",
     "text": [
      "Epoch 2/20\n",
      "  Train Loss: 0.5107\n",
      "  SAE Train Loss (hidden one): 0.4680\n",
      "  SAE Train Loss (hidden two): 0.1071\n",
      "  Val Loss: 0.4419 | Val Acc: 86.75%\n",
      "  Saved model with Val Acc: 86.75%\n"
     ]
    },
    {
     "name": "stderr",
     "output_type": "stream",
     "text": [
      "                                                                                                                        \r"
     ]
    },
    {
     "name": "stdout",
     "output_type": "stream",
     "text": [
      "Epoch 3/20\n",
      "  Train Loss: 0.4356\n",
      "  SAE Train Loss (hidden one): 0.5558\n",
      "  SAE Train Loss (hidden two): 0.0930\n",
      "  Val Loss: 0.3901 | Val Acc: 88.73%\n",
      "  Saved model with Val Acc: 88.73%\n"
     ]
    },
    {
     "name": "stderr",
     "output_type": "stream",
     "text": [
      "                                                                                                                        \r"
     ]
    },
    {
     "name": "stdout",
     "output_type": "stream",
     "text": [
      "Epoch 4/20\n",
      "  Train Loss: 0.4033\n",
      "  SAE Train Loss (hidden one): 0.5494\n",
      "  SAE Train Loss (hidden two): 0.0858\n",
      "  Val Loss: 0.3781 | Val Acc: 89.01%\n",
      "  Saved model with Val Acc: 89.01%\n"
     ]
    },
    {
     "name": "stderr",
     "output_type": "stream",
     "text": [
      "                                                                                                                        \r"
     ]
    },
    {
     "name": "stdout",
     "output_type": "stream",
     "text": [
      "Epoch 5/20\n",
      "  Train Loss: 0.3922\n",
      "  SAE Train Loss (hidden one): 0.6036\n",
      "  SAE Train Loss (hidden two): 0.0796\n",
      "  Val Loss: 0.3796 | Val Acc: 88.68%\n"
     ]
    },
    {
     "name": "stderr",
     "output_type": "stream",
     "text": [
      "                                                                                                                        \r"
     ]
    },
    {
     "name": "stdout",
     "output_type": "stream",
     "text": [
      "Epoch 6/20\n",
      "  Train Loss: 0.3773\n",
      "  SAE Train Loss (hidden one): 0.5442\n",
      "  SAE Train Loss (hidden two): 0.0734\n",
      "  Val Loss: 0.3326 | Val Acc: 90.17%\n",
      "  Saved model with Val Acc: 90.17%\n"
     ]
    },
    {
     "name": "stderr",
     "output_type": "stream",
     "text": [
      "                                                                                                                        \r"
     ]
    },
    {
     "name": "stdout",
     "output_type": "stream",
     "text": [
      "Epoch 7/20\n",
      "  Train Loss: 0.3687\n",
      "  SAE Train Loss (hidden one): 0.5521\n",
      "  SAE Train Loss (hidden two): 0.0706\n",
      "  Val Loss: 0.3349 | Val Acc: 90.21%\n",
      "  Saved model with Val Acc: 90.21%\n"
     ]
    },
    {
     "name": "stderr",
     "output_type": "stream",
     "text": [
      "                                                                                                                        \r"
     ]
    },
    {
     "name": "stdout",
     "output_type": "stream",
     "text": [
      "Epoch 8/20\n",
      "  Train Loss: 0.3611\n",
      "  SAE Train Loss (hidden one): 0.5850\n",
      "  SAE Train Loss (hidden two): 0.0683\n",
      "  Val Loss: 0.3469 | Val Acc: 89.66%\n"
     ]
    },
    {
     "name": "stderr",
     "output_type": "stream",
     "text": [
      "                                                                                                                        \r"
     ]
    },
    {
     "name": "stdout",
     "output_type": "stream",
     "text": [
      "Epoch 9/20\n",
      "  Train Loss: 0.3528\n",
      "  SAE Train Loss (hidden one): 0.5633\n",
      "  SAE Train Loss (hidden two): 0.0656\n",
      "  Val Loss: 0.3549 | Val Acc: 89.77%\n"
     ]
    },
    {
     "name": "stderr",
     "output_type": "stream",
     "text": [
      "                                                                                                                        \r"
     ]
    },
    {
     "name": "stdout",
     "output_type": "stream",
     "text": [
      "Epoch 10/20\n",
      "  Train Loss: 0.3510\n",
      "  SAE Train Loss (hidden one): 0.5111\n",
      "  SAE Train Loss (hidden two): 0.0609\n",
      "  Val Loss: 0.3319 | Val Acc: 90.16%\n"
     ]
    },
    {
     "name": "stderr",
     "output_type": "stream",
     "text": [
      "                                                                                                                        \r"
     ]
    },
    {
     "name": "stdout",
     "output_type": "stream",
     "text": [
      "Epoch 11/20\n",
      "  Train Loss: 0.3444\n",
      "  SAE Train Loss (hidden one): 0.5443\n",
      "  SAE Train Loss (hidden two): 0.0598\n",
      "  Val Loss: 0.3582 | Val Acc: 89.78%\n"
     ]
    },
    {
     "name": "stderr",
     "output_type": "stream",
     "text": [
      "                                                                                                                        \r"
     ]
    },
    {
     "name": "stdout",
     "output_type": "stream",
     "text": [
      "Epoch 12/20\n",
      "  Train Loss: 0.3398\n",
      "  SAE Train Loss (hidden one): 0.5507\n",
      "  SAE Train Loss (hidden two): 0.0572\n",
      "  Val Loss: 0.3356 | Val Acc: 90.14%\n"
     ]
    },
    {
     "name": "stderr",
     "output_type": "stream",
     "text": [
      "                                                                                                                        \r"
     ]
    },
    {
     "name": "stdout",
     "output_type": "stream",
     "text": [
      "Epoch 13/20\n",
      "  Train Loss: 0.3429\n",
      "  SAE Train Loss (hidden one): 0.5810\n",
      "  SAE Train Loss (hidden two): 0.0571\n",
      "  Val Loss: 0.3281 | Val Acc: 90.57%\n",
      "  Saved model with Val Acc: 90.57%\n"
     ]
    },
    {
     "name": "stderr",
     "output_type": "stream",
     "text": [
      "                                                                                                                        \r"
     ]
    },
    {
     "name": "stdout",
     "output_type": "stream",
     "text": [
      "Epoch 14/20\n",
      "  Train Loss: 0.3371\n",
      "  SAE Train Loss (hidden one): 0.5282\n",
      "  SAE Train Loss (hidden two): 0.0541\n",
      "  Val Loss: 0.3320 | Val Acc: 90.53%\n"
     ]
    },
    {
     "name": "stderr",
     "output_type": "stream",
     "text": [
      "                                                                                                                        \r"
     ]
    },
    {
     "name": "stdout",
     "output_type": "stream",
     "text": [
      "Epoch 15/20\n",
      "  Train Loss: 0.3342\n",
      "  SAE Train Loss (hidden one): 0.5887\n",
      "  SAE Train Loss (hidden two): 0.0521\n",
      "  Val Loss: 0.3508 | Val Acc: 90.09%\n"
     ]
    },
    {
     "name": "stderr",
     "output_type": "stream",
     "text": [
      "                                                                                                                        \r"
     ]
    },
    {
     "name": "stdout",
     "output_type": "stream",
     "text": [
      "Epoch 16/20\n",
      "  Train Loss: 0.3309\n",
      "  SAE Train Loss (hidden one): 0.5490\n",
      "  SAE Train Loss (hidden two): 0.0508\n",
      "  Val Loss: 0.3314 | Val Acc: 90.43%\n"
     ]
    },
    {
     "name": "stderr",
     "output_type": "stream",
     "text": [
      "                                                                                                                        \r"
     ]
    },
    {
     "name": "stdout",
     "output_type": "stream",
     "text": [
      "Epoch 17/20\n",
      "  Train Loss: 0.3282\n",
      "  SAE Train Loss (hidden one): 0.5825\n",
      "  SAE Train Loss (hidden two): 0.0487\n",
      "  Val Loss: 0.3226 | Val Acc: 90.67%\n",
      "  Saved model with Val Acc: 90.67%\n"
     ]
    },
    {
     "name": "stderr",
     "output_type": "stream",
     "text": [
      "                                                                                                                        \r"
     ]
    },
    {
     "name": "stdout",
     "output_type": "stream",
     "text": [
      "Epoch 18/20\n",
      "  Train Loss: 0.3272\n",
      "  SAE Train Loss (hidden one): 0.5609\n",
      "  SAE Train Loss (hidden two): 0.0483\n",
      "  Val Loss: 0.3208 | Val Acc: 90.69%\n",
      "  Saved model with Val Acc: 90.69%\n"
     ]
    },
    {
     "name": "stderr",
     "output_type": "stream",
     "text": [
      "                                                                                                                        \r"
     ]
    },
    {
     "name": "stdout",
     "output_type": "stream",
     "text": [
      "Epoch 19/20\n",
      "  Train Loss: 0.3264\n",
      "  SAE Train Loss (hidden one): 0.6269\n",
      "  SAE Train Loss (hidden two): 0.0459\n",
      "  Val Loss: 0.3252 | Val Acc: 90.45%\n"
     ]
    },
    {
     "name": "stderr",
     "output_type": "stream",
     "text": [
      "                                                                                                                        \r"
     ]
    },
    {
     "name": "stdout",
     "output_type": "stream",
     "text": [
      "Epoch 20/20\n",
      "  Train Loss: 0.3240\n",
      "  SAE Train Loss (hidden one): 0.5587\n",
      "  SAE Train Loss (hidden two): 0.0457\n",
      "  Val Loss: 0.3274 | Val Acc: 90.57%\n"
     ]
    },
    {
     "name": "stderr",
     "output_type": "stream",
     "text": [
      "Evaluation: 100%|██████████████████████████████████████████████████████████████████████| 79/79 [00:00<00:00, 294.29it/s]"
     ]
    },
    {
     "name": "stdout",
     "output_type": "stream",
     "text": [
      "Final Test Accuracy: 91.25%\n",
      "Average Reconstruction Error (Hidden One): 0.3226\n",
      "Average Reconstruction Error (Hidden Two): 0.0113\n",
      "Average Non-Zero Features per Image (Hidden One): 32.49\n",
      "Average Non-Zero Features per Image (Hidden Two): 34.46\n"
     ]
    },
    {
     "name": "stderr",
     "output_type": "stream",
     "text": [
      "\n",
      "/home/alex/.local/lib/python3.10/site-packages/sklearn/linear_model/_logistic.py:469: ConvergenceWarning: lbfgs failed to converge (status=1):\n",
      "STOP: TOTAL NO. of ITERATIONS REACHED LIMIT.\n",
      "\n",
      "Increase the number of iterations (max_iter) or scale the data as shown in:\n",
      "    https://scikit-learn.org/stable/modules/preprocessing.html\n",
      "Please also refer to the documentation for alternative solver options:\n",
      "    https://scikit-learn.org/stable/modules/linear_model.html#logistic-regression\n",
      "  n_iter_i = _check_optimize_result(\n"
     ]
    },
    {
     "name": "stdout",
     "output_type": "stream",
     "text": [
      "Linear Probe Accuracy (Hidden One): 90.72%\n"
     ]
    },
    {
     "name": "stderr",
     "output_type": "stream",
     "text": [
      "/home/alex/.local/lib/python3.10/site-packages/sklearn/linear_model/_logistic.py:469: ConvergenceWarning: lbfgs failed to converge (status=1):\n",
      "STOP: TOTAL NO. of ITERATIONS REACHED LIMIT.\n",
      "\n",
      "Increase the number of iterations (max_iter) or scale the data as shown in:\n",
      "    https://scikit-learn.org/stable/modules/preprocessing.html\n",
      "Please also refer to the documentation for alternative solver options:\n",
      "    https://scikit-learn.org/stable/modules/linear_model.html#logistic-regression\n",
      "  n_iter_i = _check_optimize_result(\n"
     ]
    },
    {
     "name": "stdout",
     "output_type": "stream",
     "text": [
      "Linear Probe Accuracy (Hidden Two): 89.57%\n",
      "\n"
     ]
    }
   ],
   "source": [
    "loss_data_dict = {}\n",
    "for loss_factor in loss_factors:\n",
    "    print(\"#\" * 50)\n",
    "    print(f\"Loss factor: {loss_factor}\\n\\n\")\n",
    "    ######################################################################################################\n",
    "    # MODELS INIT\n",
    "    ######################################################################################################\n",
    "    \n",
    "    # for reproducibility\n",
    "    seed = 42\n",
    "    torch.manual_seed(seed)\n",
    "    np.random.seed(seed)\n",
    "    random.seed(seed)\n",
    "    if torch.cuda.is_available():\n",
    "        torch.cuda.manual_seed_all(seed)\n",
    "        torch.backends.cudnn.deterministic = True\n",
    "        torch.backends.cudnn.benchmark = False\n",
    "    \n",
    "    model = NeuralNetwork().to(device)\n",
    "    \n",
    "    # loss functions\n",
    "    classification_loss_fn = nn.CrossEntropyLoss()\n",
    "    hidden_act_one_loss_fn = nn.CosineSimilarity()\n",
    "    \n",
    "    # optimizers\n",
    "    optimizer = torch.optim.Adam(model.parameters())\n",
    "    \n",
    "    # for reproducibility\n",
    "    seed = 42\n",
    "    torch.manual_seed(seed)\n",
    "    np.random.seed(seed)\n",
    "    random.seed(seed)\n",
    "    if torch.cuda.is_available():\n",
    "        torch.cuda.manual_seed_all(seed)\n",
    "        torch.backends.cudnn.deterministic = True\n",
    "        torch.backends.cudnn.benchmark = False\n",
    "        \n",
    "    sae_hidden_two = SparseAutoencoder(input_size=16, hidden_size=HIDDEN_SIZE).to(device)\n",
    "    optimizer_sae_hidden_two = torch.optim.Adam(sae_hidden_two.parameters())\n",
    "    \n",
    "    # for reproducibility\n",
    "    seed = 42\n",
    "    torch.manual_seed(seed)\n",
    "    np.random.seed(seed)\n",
    "    random.seed(seed)\n",
    "    if torch.cuda.is_available():\n",
    "        torch.cuda.manual_seed_all(seed)\n",
    "        torch.backends.cudnn.deterministic = True\n",
    "        torch.backends.cudnn.benchmark = False\n",
    "        \n",
    "    sae_hidden_one = SparseAutoencoder(input_size=16, hidden_size=HIDDEN_SIZE).to(device)\n",
    "    optimizer_sae_hidden_one = torch.optim.Adam(sae_hidden_one.parameters())\n",
    "    \n",
    "    ######################################################################################################\n",
    "    # DATA INIT\n",
    "    ######################################################################################################\n",
    "    \n",
    "    generator = torch.Generator().manual_seed(seed)\n",
    "    \n",
    "    NUM_WORKERS = 4\n",
    "    if device.type.lower() == \"cpu\":\n",
    "        NUM_WORKERS = 0\n",
    "    \n",
    "    # training data\n",
    "    train_dataset = EdgeDataset(train_images, train_labels, recon_max_sparse_act_one)\n",
    "    train_loader = DataLoader(train_dataset, batch_size=64, shuffle=True, num_workers=NUM_WORKERS, worker_init_fn=seed_worker, generator=generator)\n",
    "    \n",
    "    # validation data\n",
    "    val_dataset = EdgeDataset(val_images, val_labels)\n",
    "    val_loader = DataLoader(val_dataset, batch_size=128, shuffle=False, num_workers=NUM_WORKERS)  # larger batch size for faster validation\n",
    "    \n",
    "    # test data\n",
    "    test_dataset = EdgeDataset(test_images, test_labels)\n",
    "    test_loader = DataLoader(test_dataset, batch_size=128, shuffle=False, num_workers=NUM_WORKERS)\n",
    "    \n",
    "    ######################################################################################################\n",
    "    # TRAINING LOOP\n",
    "    ######################################################################################################\n",
    "    best_model = None\n",
    "    best_sae_one = None\n",
    "    best_sae_two = None\n",
    "    num_epochs = 20\n",
    "    \n",
    "    best_val_acc = 0.0\n",
    "    best_val_loss = float('inf')\n",
    "    \n",
    "    validation_losses = []\n",
    "    training_losses = []\n",
    "    SAE_hidden_one_losses = []\n",
    "    SAE_hidden_two_losses = []\n",
    "    \n",
    "    # Initialize storage for training features and labels\n",
    "    feature_activations_one_train = torch.zeros(HIDDEN_SIZE, len(train_loader.dataset))\n",
    "    feature_activations_two_train = torch.zeros(HIDDEN_SIZE, len(train_loader.dataset))\n",
    "    labels_train = torch.zeros(len(train_loader.dataset), dtype=torch.long)\n",
    "    \n",
    "    for epoch in range(num_epochs):\n",
    "        # --- Training Phase ---\n",
    "        model.train()  # set the model to training mode - this is currently a no-op\n",
    "        sae_hidden_two.train()\n",
    "        sae_hidden_one.train()\n",
    "        \n",
    "        train_loss = 0.0\n",
    "        total_sae_loss_hidden_two = 0.0\n",
    "        total_sae_loss_hidden_one = 0.0\n",
    "    \n",
    "        train_bar = tqdm(train_loader, desc=f\"Epoch {epoch + 1}/{num_epochs} [Train]\", leave=False)\n",
    "        for batch_idx, batch in enumerate(train_bar):\n",
    "            # deconstruct batch items\n",
    "            images, labels, acts_one = batch\n",
    "            images, labels, acts_one = images.to(device), labels.to(device), acts_one.to(device)\n",
    "            \n",
    "            # forward pass\n",
    "            classification_out, hidden_act_one, hidden_act_two = model(images)\n",
    "    \n",
    "            # Classification loss and backprop\n",
    "            optimizer.zero_grad()\n",
    "            \n",
    "            sub_loss = (1 - hidden_act_one_loss_fn(hidden_act_one, acts_one)).mean()\n",
    "            total_loss = classification_loss_fn(classification_out, labels) + loss_factor * (sub_loss)\n",
    "            total_loss.backward()\n",
    "            \n",
    "            optimizer.step()\n",
    "            train_loss += total_loss.item()\n",
    "            train_bar.set_postfix(loss=total_loss.item())\n",
    "    \n",
    "            # to prevent backprop on both graphs:\n",
    "            hidden_act_one_detached = hidden_act_one.detach()\n",
    "            hidden_act_two_detached = hidden_act_two.detach()\n",
    "    \n",
    "            # SAE loss and backprop - hidden layer one\n",
    "            optimizer_sae_hidden_one.zero_grad()\n",
    "            reconstructed_one, encoded_one = sae_hidden_one(hidden_act_one_detached)\n",
    "            sae_loss_hidden_one = sae_hidden_one.loss(hidden_act_one_detached,\n",
    "                                                      reconstructed_one,\n",
    "                                                      encoded_one,\n",
    "                                                      l1_lambda=L1_PENALTY\n",
    "                                                     )\n",
    "            sae_loss_hidden_one.backward()\n",
    "            optimizer_sae_hidden_one.step()\n",
    "            total_sae_loss_hidden_one += sae_loss_hidden_one.item()\n",
    "            \n",
    "            # SAE loss and backprop - hidden layer two\n",
    "            optimizer_sae_hidden_two.zero_grad()\n",
    "            reconstructed_two, encoded_two = sae_hidden_two(hidden_act_two_detached)\n",
    "            sae_loss_hidden_two = sae_hidden_two.loss(hidden_act_two_detached,\n",
    "                                                      reconstructed_two,\n",
    "                                                      encoded_two,\n",
    "                                                      l1_lambda=L1_PENALTY\n",
    "                                                     )\n",
    "            sae_loss_hidden_two.backward()\n",
    "            optimizer_sae_hidden_two.step()\n",
    "            total_sae_loss_hidden_two += sae_loss_hidden_two.item()\n",
    "    \n",
    "            # Store training features and labels\n",
    "            start_idx = batch_idx * train_loader.batch_size\n",
    "            end_idx = start_idx + images.size(0)\n",
    "            feature_activations_one_train[:, start_idx:end_idx] = encoded_one.T.cpu()\n",
    "            feature_activations_two_train[:, start_idx:end_idx] = encoded_two.T.cpu()\n",
    "            labels_train[start_idx:end_idx] = labels.cpu()\n",
    "    \n",
    "        # --- Validation Phase ---\n",
    "        model.eval()\n",
    "        val_loss = 0.0\n",
    "        correct = 0\n",
    "        total = 0\n",
    "        \n",
    "        val_bar = tqdm(val_loader, desc=f\"Epoch {epoch + 1}/{num_epochs} [Val]\", leave=False)\n",
    "        with torch.no_grad():\n",
    "            for batch in val_bar:\n",
    "                # deconstruct\n",
    "                images, labels = batch\n",
    "                images, labels = images.to(device), labels.to(device)\n",
    "    \n",
    "                # forward pass\n",
    "                classification_out, _, _ = model(images)\n",
    "    \n",
    "                # compute loss\n",
    "                loss = classification_loss_fn(classification_out, labels)\n",
    "    \n",
    "                # calculate metrics\n",
    "                val_loss += loss.item()\n",
    "                _, predicted = torch.max(classification_out, 1)\n",
    "                correct += (predicted == labels).sum().item()\n",
    "                total += labels.size(0)\n",
    "    \n",
    "        # epoch stats\n",
    "        avg_train_loss = train_loss / len(train_loader)\n",
    "        avg_val_loss = val_loss / len(val_loader)\n",
    "        avg_sae_train_loss_hidden_one = total_sae_loss_hidden_one / len(train_loader)\n",
    "        avg_sae_train_loss_hidden_two = total_sae_loss_hidden_two / len(train_loader)\n",
    "        val_accuracy = 100 * correct / total\n",
    "    \n",
    "        print(f\"Epoch {epoch+1}/{num_epochs}\")\n",
    "        print(f\"  Train Loss: {avg_train_loss:.4f}\")\n",
    "        print(f\"  SAE Train Loss (hidden one): {avg_sae_train_loss_hidden_one:.4f}\")\n",
    "        print(f\"  SAE Train Loss (hidden two): {avg_sae_train_loss_hidden_two:.4f}\")\n",
    "        print(f\"  Val Loss: {avg_val_loss:.4f} | Val Acc: {val_accuracy:.2f}%\")\n",
    "    \n",
    "        model_path = f'./models/{EXPERIMENT_TYPE}/{RUN_ID}/best_model_baseline_{epoch+1}.pth'\n",
    "        os.makedirs(os.path.dirname(model_path), exist_ok=True)\n",
    "        if val_accuracy > best_val_acc:\n",
    "            best_val_acc = val_accuracy\n",
    "            best_val_loss = avg_val_loss  # Update loss for reference\n",
    "            torch.save(model.state_dict(), model_path)\n",
    "            print(f\"  Saved model with Val Acc: {val_accuracy:.2f}%\")\n",
    "    \n",
    "            best_model = copy.deepcopy(model)\n",
    "            best_sae_one = copy.deepcopy(sae_hidden_one)\n",
    "            best_sae_two = copy.deepcopy(sae_hidden_two)\n",
    "            \n",
    "        # Optional: Save if accuracy is equal but loss is lower\n",
    "        elif val_accuracy == best_val_acc and avg_val_loss < best_val_loss:\n",
    "            best_val_loss = avg_val_loss\n",
    "            torch.save(model.state_dict(), model_path)\n",
    "            print(f\"  Saved model with same Val Acc: {val_accuracy:.2f}% but lower Val Loss: {avg_val_loss:.4f}\")\n",
    "    \n",
    "            best_model = copy.deepcopy(model)\n",
    "            best_sae_one = copy.deepcopy(sae_hidden_one)\n",
    "            best_sae_two = copy.deepcopy(sae_hidden_two)\n",
    "    \n",
    "        validation_losses.append(avg_val_loss)\n",
    "        training_losses.append(avg_train_loss)\n",
    "        SAE_hidden_one_losses.append(avg_sae_train_loss_hidden_one)\n",
    "        SAE_hidden_two_losses.append(avg_sae_train_loss_hidden_two)\n",
    "    \n",
    "    Z_train_one = feature_activations_one_train.detach().T.numpy()\n",
    "    Z_train_two = feature_activations_two_train.detach().T.numpy()\n",
    "    y_train = labels_train.numpy()\n",
    "    \n",
    "    \n",
    "    ######################################################################################################\n",
    "    # EVAL\n",
    "    ######################################################################################################\n",
    "    best_model.eval()  # again currently a no-op\n",
    "    best_sae_one.eval()\n",
    "    best_sae_two.eval()\n",
    "    \n",
    "    test_correct = 0\n",
    "    test_total = 0\n",
    "    \n",
    "    feature_activations_one_test = torch.zeros(HIDDEN_SIZE, len(test_images))\n",
    "    feature_activations_two_test = torch.zeros(HIDDEN_SIZE, len(test_images))\n",
    "    labels_test = torch.zeros(len(test_images), dtype=torch.long)\n",
    "    \n",
    "    recon_errors_one = []\n",
    "    recon_errors_two = []\n",
    "    \n",
    "    with torch.no_grad():\n",
    "        test_bar = tqdm(test_loader, desc=f\"Evaluation\")\n",
    "        for i, batch in enumerate(test_bar):\n",
    "            images, labels = batch\n",
    "            images, labels = images.to(device), labels.to(device)\n",
    "    \n",
    "            # forward pass\n",
    "            classification_out, hidden_one_act, hidden_two_act = best_model(images)\n",
    "            reconstructed_one, encoded_one = best_sae_one(hidden_one_act)\n",
    "            reconstructed_two, encoded_two = best_sae_two(hidden_two_act)\n",
    "    \n",
    "            # SAE reconstruction\n",
    "            recon_errors_one.append(torch.mean((hidden_one_act - reconstructed_one) ** 2).item())\n",
    "            recon_errors_two.append(torch.mean((hidden_two_act - reconstructed_two) ** 2).item())\n",
    "    \n",
    "            start_idx = i * test_loader.batch_size\n",
    "            end_idx = start_idx + images.size(0)\n",
    "            feature_activations_one_test[:, start_idx:end_idx] = encoded_one.T.cpu()\n",
    "            feature_activations_two_test[:, start_idx:end_idx] = encoded_two.T.cpu()\n",
    "            labels_test[start_idx:end_idx] = labels.cpu()\n",
    "    \n",
    "            # stats\n",
    "            _, predicted = torch.max(classification_out, 1)\n",
    "            test_correct += (predicted == labels).sum().item()\n",
    "            test_total += labels.size(0)\n",
    "    \n",
    "    Z_test_one = feature_activations_one_test.T.numpy()\n",
    "    Z_test_two = feature_activations_two_test.T.numpy()\n",
    "    y_test = labels_test.numpy()\n",
    "    \n",
    "    test_accuracy = 100 * test_correct / test_total\n",
    "    print(f\"Final Test Accuracy: {test_accuracy:.2f}%\")\n",
    "    \n",
    "    # reconstruction accuracy of SAE at each layer\n",
    "    avg_recon_error_one = np.mean(recon_errors_one)\n",
    "    avg_recon_error_two = np.mean(recon_errors_two)\n",
    "    print(f\"Average Reconstruction Error (Hidden One): {avg_recon_error_one:.4f}\")\n",
    "    print(f\"Average Reconstruction Error (Hidden Two): {avg_recon_error_two:.4f}\")\n",
    "    \n",
    "    # Compute sparsity (average non-zero features per image)\n",
    "    sparsity_one = torch.mean((feature_activations_one_test > 1e-5).float()).item() * 64\n",
    "    sparsity_two = torch.mean((feature_activations_two_test > 1e-5).float()).item() * 64\n",
    "    print(f\"Average Non-Zero Features per Image (Hidden One): {sparsity_one:.2f}\")\n",
    "    print(f\"Average Non-Zero Features per Image (Hidden Two): {sparsity_two:.2f}\")\n",
    "    \n",
    "    ######################################################################################################\n",
    "    # SPARSE FEATURE PROBES\n",
    "    ######################################################################################################\n",
    "        \n",
    "    clf_one = LogisticRegression(penalty='l2', max_iter=1000, n_jobs=-1)\n",
    "    clf_one.fit(Z_train_one, y_train)\n",
    "    acc_one = clf_one.score(Z_test_one, y_test)\n",
    "    print(f\"Linear Probe Accuracy (Hidden One): {acc_one:.2%}\")\n",
    "    \n",
    "    clf_two = LogisticRegression(penalty='l2', max_iter=1000, n_jobs=-1)\n",
    "    clf_two.fit(Z_train_two, y_train)\n",
    "    acc_two = clf_two.score(Z_test_two, y_test)\n",
    "    print(f\"Linear Probe Accuracy (Hidden Two): {acc_two:.2%}\")\n",
    "\n",
    "    loss_data_dict[loss_factor] = {}\n",
    "    loss_data_dict[loss_factor][\"Final_Accuracy\"] = test_accuracy\n",
    "    loss_data_dict[loss_factor][\"Final_Loss\"] = avg_train_loss\n",
    "    loss_data_dict[loss_factor][\"S1_Probe_Acccuracy\"] = acc_one\n",
    "    loss_data_dict[loss_factor][\"S2_Probe_Acccuracy\"] = acc_two\n",
    "    loss_data_dict[loss_factor][\"Loss_Plot_Data\"] = (validation_losses, training_losses, SAE_hidden_one_losses, SAE_hidden_two_losses)\n",
    "\n",
    "    del feature_activations_one_train, feature_activations_two_train, labels_train\n",
    "    del feature_activations_one_test, feature_activations_two_test, labels_test\n",
    "    del best_model, best_sae_one, best_sae_two\n",
    "    del validation_losses, training_losses, SAE_hidden_one_losses, SAE_hidden_two_losses\n",
    "    del clf_two, clf_one\n",
    "    del model, sae_hidden_one, sae_hidden_two\n",
    "    del train_dataset, train_loader\n",
    "    del test_dataset, test_loader\n",
    "    del val_dataset, val_loader\n",
    "    torch.cuda.empty_cache()\n",
    "    print()"
   ]
  },
  {
   "cell_type": "code",
   "execution_count": 19,
   "id": "60ce1426-747d-470a-a42a-d5b13b3c776c",
   "metadata": {},
   "outputs": [
    {
     "data": {
      "text/plain": [
       "dict_keys([0.011, 0.012, 0.013000000000000001, 0.014000000000000002, 0.015000000000000003, 0.016000000000000004, 0.017000000000000005, 0.018000000000000006, 0.019000000000000006, 0.020000000000000007, 0.021000000000000008, 0.02200000000000001, 0.02300000000000001, 0.02400000000000001, 0.025000000000000012, 0.026000000000000013, 0.027000000000000014, 0.028000000000000014, 0.029000000000000015, 0.030000000000000016, 0.031000000000000017, 0.032000000000000015, 0.033000000000000015, 0.034000000000000016, 0.03500000000000002, 0.03600000000000002, 0.03700000000000002, 0.03800000000000002, 0.03900000000000002, 0.04000000000000002, 0.04100000000000002, 0.04200000000000002, 0.043000000000000024, 0.044000000000000025, 0.045000000000000026, 0.04600000000000003, 0.04700000000000003, 0.04800000000000003, 0.04900000000000003, 0.05000000000000003, 0.05100000000000003])"
      ]
     },
     "execution_count": 19,
     "metadata": {},
     "output_type": "execute_result"
    }
   ],
   "source": [
    "loss_data_dict.keys()"
   ]
  },
  {
   "cell_type": "code",
   "execution_count": 21,
   "id": "bdd96fe2-4d73-41b2-8d57-556ba65e9e38",
   "metadata": {
    "scrolled": true
   },
   "outputs": [
    {
     "name": "stdout",
     "output_type": "stream",
     "text": [
      "0.011\n",
      "92.85\n",
      "0.9256\n",
      "0.9218\n"
     ]
    }
   ],
   "source": [
    "max_acc = 0\n",
    "max_digit = -1\n",
    "for digit in loss_data_dict.keys():\n",
    "    if loss_data_dict[digit][\"Final_Accuracy\"] > max_acc:\n",
    "        max_acc = loss_data_dict[digit][\"Final_Accuracy\"]\n",
    "        max_digit = digit\n",
    "\n",
    "print(max_digit)\n",
    "print(loss_data_dict[max_digit][\"Final_Accuracy\"])\n",
    "print(loss_data_dict[max_digit][\"S1_Probe_Acccuracy\"])\n",
    "print(loss_data_dict[max_digit][\"S2_Probe_Acccuracy\"])"
   ]
  },
  {
   "cell_type": "code",
   "execution_count": 20,
   "id": "ecee6c71-6f71-40fc-9d21-2ccd3ea32b87",
   "metadata": {},
   "outputs": [],
   "source": [
    "import pickle\n",
    "\n",
    "file_path = f\"./loss_data_dict_0.011_to_0.051.pkl\"\n",
    "with open(file_path, \"wb\") as f:\n",
    "    pickle.dump(loss_data_dict, f)"
   ]
  },
  {
   "cell_type": "code",
   "execution_count": null,
   "id": "2e6ba107-3ab6-473f-b610-5283e28e633b",
   "metadata": {},
   "outputs": [],
   "source": []
  }
 ],
 "metadata": {
  "kernelspec": {
   "display_name": "Python 3 (ipykernel)",
   "language": "python",
   "name": "python3"
  },
  "language_info": {
   "codemirror_mode": {
    "name": "ipython",
    "version": 3
   },
   "file_extension": ".py",
   "mimetype": "text/x-python",
   "name": "python",
   "nbconvert_exporter": "python",
   "pygments_lexer": "ipython3",
   "version": "3.10.12"
  }
 },
 "nbformat": 4,
 "nbformat_minor": 5
}
