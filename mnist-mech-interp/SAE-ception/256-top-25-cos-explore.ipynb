{
 "cells": [
  {
   "cell_type": "markdown",
   "id": "84207c44-9c22-4853-943c-5a6cb08bdbdf",
   "metadata": {},
   "source": [
    "# Training on SAE Sparse Features\n",
    "\n",
    "Loss factor of 0.01, working with the 25 highest activating features per digit\n",
    "\n",
    "Cosine instead of MSE for auxilary loss - it seemed to work quite well, and makes auxiliary loss easier to manage w/global loss."
   ]
  },
  {
   "cell_type": "code",
   "execution_count": 1,
   "id": "10aa37d0-59c1-4368-aec0-83ccb0ce6a4b",
   "metadata": {},
   "outputs": [],
   "source": [
    "import time\n",
    "\n",
    "EXPERIMENT_TYPE = \"SAE\"\n",
    "RUN_ID = time.time()"
   ]
  },
  {
   "cell_type": "markdown",
   "id": "f2b67228-330c-480e-99b5-cb4001e89013",
   "metadata": {},
   "source": [
    "## SAE Params"
   ]
  },
  {
   "cell_type": "code",
   "execution_count": 2,
   "id": "250d7778-885a-4a6d-9bd2-ddbcb9a27be3",
   "metadata": {},
   "outputs": [],
   "source": [
    "HIDDEN_SIZE = 256\n",
    "L1_PENALTY = 0.01\n",
    "N = 25"
   ]
  },
  {
   "cell_type": "markdown",
   "id": "fcf4a0ba-710d-4882-9bd0-f948e9f6fb9d",
   "metadata": {},
   "source": [
    "## Imports"
   ]
  },
  {
   "cell_type": "code",
   "execution_count": 3,
   "id": "4a4018f1-cb83-4f0b-90db-0f48aad1fe9f",
   "metadata": {},
   "outputs": [],
   "source": [
    "import random\n",
    "import copy\n",
    "\n",
    "import numpy as np\n",
    "import pandas as pd\n",
    "import matplotlib.pyplot as plt\n",
    "from sklearn.model_selection import train_test_split\n",
    "from sklearn.linear_model import LogisticRegression\n",
    "\n",
    "\n",
    "import torch\n",
    "from torch import nn\n",
    "from torch.utils.data import Dataset, DataLoader\n",
    "\n",
    "from tqdm import tqdm"
   ]
  },
  {
   "cell_type": "code",
   "execution_count": 4,
   "id": "6e7038c3-06d1-4d3c-9b44-2f2bc3485f57",
   "metadata": {},
   "outputs": [],
   "source": [
    "from graph_helpers import (plot_weights,\n",
    "                    plot_activations,\n",
    "                    plot_losses,\n",
    "                    plot_saliency_map,\n",
    "                    plot_sparse_vecs_by_image,\n",
    "                    plot_top_act_images_by_feature,\n",
    "                    feature_inversion\n",
    "                )"
   ]
  },
  {
   "cell_type": "code",
   "execution_count": 5,
   "id": "2c069cc3-458e-4825-9828-c771c7f7370a",
   "metadata": {},
   "outputs": [],
   "source": [
    "import sys, os\n",
    "from pathlib import Path\n",
    "\n",
    "# assume cwd is project_root/data_loader\n",
    "project_root = Path(os.getcwd()).parent  # go up one level to project_root\n",
    "sys.path.insert(0, str(project_root))\n",
    "\n",
    "from helpers import load_images, load_labels, visualize_image, get_edges, load_intermediate_labels"
   ]
  },
  {
   "cell_type": "markdown",
   "id": "6cbef66c-0819-4e4f-9fb7-346b8b786a6b",
   "metadata": {},
   "source": [
    "## Set Device to GPU"
   ]
  },
  {
   "cell_type": "code",
   "execution_count": 6,
   "id": "67f93931-772a-4720-b394-0cff7884a1ba",
   "metadata": {},
   "outputs": [
    {
     "name": "stdout",
     "output_type": "stream",
     "text": [
      "We will be using device: cuda\n"
     ]
    }
   ],
   "source": [
    "device = torch.device('cuda' if torch.cuda.is_available() else 'cpu')\n",
    "print(f\"We will be using device: {device}\")"
   ]
  },
  {
   "cell_type": "markdown",
   "id": "7b553d6d-7e3a-4973-a472-3c735df1b699",
   "metadata": {},
   "source": [
    "## Load Data"
   ]
  },
  {
   "cell_type": "code",
   "execution_count": 7,
   "id": "070db857-3892-4a37-b24a-b3f8a8d7bb37",
   "metadata": {},
   "outputs": [],
   "source": [
    "# train data\n",
    "train_images = load_intermediate_labels(\"first_layer/train_images.pkl\")\n",
    "train_labels = load_intermediate_labels(\"first_layer/train_labels.pkl\")\n",
    "\n",
    "# val data\n",
    "val_images = load_intermediate_labels(\"first_layer/val_images.pkl\")\n",
    "val_labels = load_intermediate_labels(\"first_layer/val_labels.pkl\")\n",
    "\n",
    "# test data\n",
    "test_images = load_intermediate_labels(\"first_layer/test_images.pkl\")\n",
    "test_labels = load_intermediate_labels(\"first_layer/test_labels.pkl\")\n",
    "\n",
    "# intermediate labels\n",
    "recon_max_sparse_act_one = load_intermediate_labels(f\"first_layer/train_images_recon_max_sparse_top_{N}.pkl\")\n",
    "recon_max_sparse_act_one_ablated = load_intermediate_labels(f\"first_layer/train_images_recon_max_sparse_ablated_top_{N}.pkl\")"
   ]
  },
  {
   "cell_type": "code",
   "execution_count": 8,
   "id": "70de73dd-39e5-4c74-b3a3-03b6155d3fd5",
   "metadata": {},
   "outputs": [
    {
     "data": {
      "text/plain": [
       "torch.Tensor"
      ]
     },
     "execution_count": 8,
     "metadata": {},
     "output_type": "execute_result"
    }
   ],
   "source": [
    "type(recon_max_sparse_act_one[0])"
   ]
  },
  {
   "cell_type": "code",
   "execution_count": 9,
   "id": "a75e03f6-1174-4b0a-bac4-a30b30deff63",
   "metadata": {},
   "outputs": [
    {
     "name": "stdout",
     "output_type": "stream",
     "text": [
      "Train images shape: (50000, 28, 28)\n",
      "Val images shape: (10000, 28, 28)\n",
      "Test images shape: (10000, 28, 28)\n"
     ]
    }
   ],
   "source": [
    "print(\"Train images shape:\", train_images.shape)\n",
    "print(\"Val images shape:\", val_images.shape)\n",
    "print(\"Test images shape:\", test_images.shape)"
   ]
  },
  {
   "cell_type": "markdown",
   "id": "39ca05d5-d791-4fbb-9736-b52a5eae1409",
   "metadata": {},
   "source": [
    "## Visualize an image"
   ]
  },
  {
   "cell_type": "code",
   "execution_count": 10,
   "id": "10a6f14c-5f30-4237-933c-55a6f254a9df",
   "metadata": {},
   "outputs": [
    {
     "data": {
      "image/png": "[encoded data removed]",
      "text/plain": [
       "<Figure size 300x300 with 1 Axes>"
      ]
     },
     "metadata": {},
     "output_type": "display_data"
    }
   ],
   "source": [
    "sample_image = train_images[0]\n",
    "sample_label = train_labels[0]\n",
    "visualize_image(sample_image, sample_label)"
   ]
  },
  {
   "cell_type": "markdown",
   "id": "00d7fd35-fd62-4598-89f5-58f98567ad3c",
   "metadata": {},
   "source": [
    "## Architecture\n",
    "\n",
    "### NN\n",
    "\n",
    "Once again, two hidden layers. 16 nodes each. Same as 3blue1brown."
   ]
  },
  {
   "cell_type": "code",
   "execution_count": 11,
   "id": "1e5d2535-98f4-4c1e-8073-c5373a5b56c0",
   "metadata": {},
   "outputs": [],
   "source": [
    "class NeuralNetwork(nn.Module):\n",
    "    def __init__(self):\n",
    "        super().__init__()\n",
    "        layer_size_by_pixels = 28*28\n",
    "        \n",
    "        self.flatten = nn.Flatten()\n",
    "        \n",
    "        # define layers separately to have access to each\n",
    "        self.hidden_one = nn.Linear(layer_size_by_pixels, 16)\n",
    "        self.hidden_two = nn.Linear(16, 16)\n",
    "        self.classification_layer = nn.Linear(16, 10)\n",
    "        \n",
    "        self.activation_function = nn.ReLU()\n",
    "\n",
    "    def forward(self, x):\n",
    "        x = self.flatten(x)\n",
    "\n",
    "        # first hidden layer\n",
    "        hidden_one_out = self.hidden_one(x)\n",
    "        hidden_one_act = self.activation_function(hidden_one_out)\n",
    "\n",
    "        # second hidden layer\n",
    "        hidden_two_out = self.hidden_two(hidden_one_act)\n",
    "        hidden_two_act = self.activation_function(hidden_two_out)\n",
    "\n",
    "        # classification layer\n",
    "        classification_out = self.classification_layer(hidden_two_act)\n",
    "        \n",
    "        return classification_out, hidden_one_act, hidden_two_act"
   ]
  },
  {
   "cell_type": "markdown",
   "id": "dd44c3cf-602d-451e-b10c-8b7f005858e8",
   "metadata": {},
   "source": [
    "### SAE"
   ]
  },
  {
   "cell_type": "code",
   "execution_count": 12,
   "id": "53786553-7c2c-4d0f-96a9-b901297c7756",
   "metadata": {},
   "outputs": [],
   "source": [
    "class SparseAutoencoder(nn.Module):\n",
    "    def __init__(self, input_size=16, hidden_size=128):\n",
    "        super().__init__()\n",
    "        self.encoder = nn.Linear(input_size, hidden_size)\n",
    "        self.decoder = nn.Linear(hidden_size, input_size)\n",
    "        self.activation = nn.ReLU()\n",
    "    \n",
    "    def forward(self, x):\n",
    "        encoded = self.activation(self.encoder(x))\n",
    "        reconstructed = self.decoder(encoded)\n",
    "        return reconstructed, encoded\n",
    "    \n",
    "    def loss(self, x, reconstructed, encoded, l1_lambda=0.001):\n",
    "        mse_loss = nn.MSELoss()(reconstructed, x)\n",
    "        l1_loss = l1_lambda * torch.mean(torch.abs(encoded))\n",
    "        return mse_loss + l1_loss"
   ]
  },
  {
   "cell_type": "markdown",
   "id": "17fa3f1a-32f7-46d9-975d-3c7c77d95a9f",
   "metadata": {},
   "source": [
    "## Dataloader"
   ]
  },
  {
   "cell_type": "code",
   "execution_count": 13,
   "id": "2fe0386b-042b-4e96-8266-adb647758c37",
   "metadata": {},
   "outputs": [],
   "source": [
    "class EdgeDataset(Dataset):\n",
    "    def __init__(self, images, labels, first_layer_acts=None):\n",
    "        self.images = images\n",
    "        self.labels = labels\n",
    "        self.first_layer_acts = first_layer_acts\n",
    "\n",
    "    def __len__(self):\n",
    "        assert len(self.images) == len(self.labels)\n",
    "        if self.first_layer_acts:\n",
    "            assert(len(self.first_layer_acts) == len(self.images))\n",
    "            \n",
    "        return len(self.images)\n",
    "\n",
    "    def __getitem__(self, idx):\n",
    "        image = torch.from_numpy(self.images[idx].copy()).float()\n",
    "        label = torch.tensor(self.labels[idx].copy(), dtype=torch.long)\n",
    "\n",
    "        if self.first_layer_acts:\n",
    "            return (image, label, self.first_layer_acts[idx])\n",
    "        else:\n",
    "            return (image, label)"
   ]
  },
  {
   "cell_type": "code",
   "execution_count": 14,
   "id": "634f8215-1f78-4e3f-975f-1bddf935cd34",
   "metadata": {},
   "outputs": [],
   "source": [
    "# for reproducibility on training\n",
    "def seed_worker(worker_id):\n",
    "    worker_seed = torch.initial_seed() % 2**32\n",
    "    np.random.seed(worker_seed)\n",
    "    random.seed(worker_seed)"
   ]
  },
  {
   "cell_type": "markdown",
   "id": "b878bdc7-4dc6-4510-a3a7-d64a2d2d7394",
   "metadata": {},
   "source": [
    "## Training Loop"
   ]
  },
  {
   "cell_type": "code",
   "execution_count": 15,
   "id": "e90a2e09-4d54-4b9a-8abe-379edef96d95",
   "metadata": {},
   "outputs": [
    {
     "name": "stdout",
     "output_type": "stream",
     "text": [
      "11\n"
     ]
    }
   ],
   "source": [
    "loss_factors = np.arange(0.0, 0.01 + 0.001, 0.001)\n",
    "print(len(loss_factors))"
   ]
  },
  {
   "cell_type": "code",
   "execution_count": 16,
   "id": "5efead09-bdd4-4177-9ead-fee16bb28a15",
   "metadata": {
    "scrolled": true
   },
   "outputs": [
    {
     "name": "stdout",
     "output_type": "stream",
     "text": [
      "##################################################\n",
      "Loss factor: 0.0\n",
      "\n",
      "\n"
     ]
    },
    {
     "name": "stderr",
     "output_type": "stream",
     "text": [
      "                                                                                                                               \r"
     ]
    },
    {
     "name": "stdout",
     "output_type": "stream",
     "text": [
      "Epoch 1/20\n",
      "  Train Loss: 1.0223\n",
      "  SAE Train Loss (hidden one): 8.8025\n",
      "  SAE Train Loss (hidden two): 1.1771\n",
      "  Val Loss: 0.5656 | Val Acc: 83.62%\n",
      "  Saved model with Val Acc: 83.62%\n"
     ]
    },
    {
     "name": "stderr",
     "output_type": "stream",
     "text": [
      "                                                                                                                               \r"
     ]
    },
    {
     "name": "stdout",
     "output_type": "stream",
     "text": [
      "Epoch 2/20\n",
      "  Train Loss: 0.4646\n",
      "  SAE Train Loss (hidden one): 0.5374\n",
      "  SAE Train Loss (hidden two): 0.1031\n",
      "  Val Loss: 0.4460 | Val Acc: 86.46%\n",
      "  Saved model with Val Acc: 86.46%\n"
     ]
    },
    {
     "name": "stderr",
     "output_type": "stream",
     "text": [
      "                                                                                                                               \r"
     ]
    },
    {
     "name": "stdout",
     "output_type": "stream",
     "text": [
      "Epoch 3/20\n",
      "  Train Loss: 0.3924\n",
      "  SAE Train Loss (hidden one): 0.5168\n",
      "  SAE Train Loss (hidden two): 0.0914\n",
      "  Val Loss: 0.3987 | Val Acc: 88.16%\n",
      "  Saved model with Val Acc: 88.16%\n"
     ]
    },
    {
     "name": "stderr",
     "output_type": "stream",
     "text": [
      "                                                                                                                               \r"
     ]
    },
    {
     "name": "stdout",
     "output_type": "stream",
     "text": [
      "Epoch 4/20\n",
      "  Train Loss: 0.3673\n",
      "  SAE Train Loss (hidden one): 0.5392\n",
      "  SAE Train Loss (hidden two): 0.0826\n",
      "  Val Loss: 0.3996 | Val Acc: 88.18%\n",
      "  Saved model with Val Acc: 88.18%\n"
     ]
    },
    {
     "name": "stderr",
     "output_type": "stream",
     "text": [
      "                                                                                                                               \r"
     ]
    },
    {
     "name": "stdout",
     "output_type": "stream",
     "text": [
      "Epoch 5/20\n",
      "  Train Loss: 0.3517\n",
      "  SAE Train Loss (hidden one): 0.5301\n",
      "  SAE Train Loss (hidden two): 0.0762\n",
      "  Val Loss: 0.3552 | Val Acc: 89.42%\n",
      "  Saved model with Val Acc: 89.42%\n"
     ]
    },
    {
     "name": "stderr",
     "output_type": "stream",
     "text": [
      "                                                                                                                               \r"
     ]
    },
    {
     "name": "stdout",
     "output_type": "stream",
     "text": [
      "Epoch 6/20\n",
      "  Train Loss: 0.3349\n",
      "  SAE Train Loss (hidden one): 0.5936\n",
      "  SAE Train Loss (hidden two): 0.0750\n",
      "  Val Loss: 0.3484 | Val Acc: 89.91%\n",
      "  Saved model with Val Acc: 89.91%\n"
     ]
    },
    {
     "name": "stderr",
     "output_type": "stream",
     "text": [
      "                                                                                                                               \r"
     ]
    },
    {
     "name": "stdout",
     "output_type": "stream",
     "text": [
      "Epoch 7/20\n",
      "  Train Loss: 0.3278\n",
      "  SAE Train Loss (hidden one): 0.6069\n",
      "  SAE Train Loss (hidden two): 0.0731\n",
      "  Val Loss: 0.3521 | Val Acc: 89.77%\n"
     ]
    },
    {
     "name": "stderr",
     "output_type": "stream",
     "text": [
      "                                                                                                                               \r"
     ]
    },
    {
     "name": "stdout",
     "output_type": "stream",
     "text": [
      "Epoch 8/20\n",
      "  Train Loss: 0.3185\n",
      "  SAE Train Loss (hidden one): 0.6247\n",
      "  SAE Train Loss (hidden two): 0.0704\n",
      "  Val Loss: 0.3430 | Val Acc: 89.99%\n",
      "  Saved model with Val Acc: 89.99%\n"
     ]
    },
    {
     "name": "stderr",
     "output_type": "stream",
     "text": [
      "                                                                                                                               \r"
     ]
    },
    {
     "name": "stdout",
     "output_type": "stream",
     "text": [
      "Epoch 9/20\n",
      "  Train Loss: 0.3092\n",
      "  SAE Train Loss (hidden one): 0.6384\n",
      "  SAE Train Loss (hidden two): 0.0679\n",
      "  Val Loss: 0.3521 | Val Acc: 89.41%\n"
     ]
    },
    {
     "name": "stderr",
     "output_type": "stream",
     "text": [
      "                                                                                                                               \r"
     ]
    },
    {
     "name": "stdout",
     "output_type": "stream",
     "text": [
      "Epoch 10/20\n",
      "  Train Loss: 0.3059\n",
      "  SAE Train Loss (hidden one): 0.6079\n",
      "  SAE Train Loss (hidden two): 0.0648\n",
      "  Val Loss: 0.3405 | Val Acc: 90.10%\n",
      "  Saved model with Val Acc: 90.10%\n"
     ]
    },
    {
     "name": "stderr",
     "output_type": "stream",
     "text": [
      "                                                                                                                               \r"
     ]
    },
    {
     "name": "stdout",
     "output_type": "stream",
     "text": [
      "Epoch 11/20\n",
      "  Train Loss: 0.2975\n",
      "  SAE Train Loss (hidden one): 0.5902\n",
      "  SAE Train Loss (hidden two): 0.0635\n",
      "  Val Loss: 0.3421 | Val Acc: 90.39%\n",
      "  Saved model with Val Acc: 90.39%\n"
     ]
    },
    {
     "name": "stderr",
     "output_type": "stream",
     "text": [
      "                                                                                                                               \r"
     ]
    },
    {
     "name": "stdout",
     "output_type": "stream",
     "text": [
      "Epoch 12/20\n",
      "  Train Loss: 0.2959\n",
      "  SAE Train Loss (hidden one): 0.6767\n",
      "  SAE Train Loss (hidden two): 0.0629\n",
      "  Val Loss: 0.3340 | Val Acc: 90.59%\n",
      "  Saved model with Val Acc: 90.59%\n"
     ]
    },
    {
     "name": "stderr",
     "output_type": "stream",
     "text": [
      "                                                                                                                               \r"
     ]
    },
    {
     "name": "stdout",
     "output_type": "stream",
     "text": [
      "Epoch 13/20\n",
      "  Train Loss: 0.2922\n",
      "  SAE Train Loss (hidden one): 0.6343\n",
      "  SAE Train Loss (hidden two): 0.0592\n",
      "  Val Loss: 0.3310 | Val Acc: 90.67%\n",
      "  Saved model with Val Acc: 90.67%\n"
     ]
    },
    {
     "name": "stderr",
     "output_type": "stream",
     "text": [
      "                                                                                                                               \r"
     ]
    },
    {
     "name": "stdout",
     "output_type": "stream",
     "text": [
      "Epoch 14/20\n",
      "  Train Loss: 0.2875\n",
      "  SAE Train Loss (hidden one): 0.6153\n",
      "  SAE Train Loss (hidden two): 0.0569\n",
      "  Val Loss: 0.3456 | Val Acc: 89.83%\n"
     ]
    },
    {
     "name": "stderr",
     "output_type": "stream",
     "text": [
      "                                                                                                                               \r"
     ]
    },
    {
     "name": "stdout",
     "output_type": "stream",
     "text": [
      "Epoch 15/20\n",
      "  Train Loss: 0.2879\n",
      "  SAE Train Loss (hidden one): 0.6247\n",
      "  SAE Train Loss (hidden two): 0.0575\n",
      "  Val Loss: 0.3609 | Val Acc: 89.51%\n"
     ]
    },
    {
     "name": "stderr",
     "output_type": "stream",
     "text": [
      "                                                                                                                               \r"
     ]
    },
    {
     "name": "stdout",
     "output_type": "stream",
     "text": [
      "Epoch 16/20\n",
      "  Train Loss: 0.2835\n",
      "  SAE Train Loss (hidden one): 0.6209\n",
      "  SAE Train Loss (hidden two): 0.0530\n",
      "  Val Loss: 0.3243 | Val Acc: 90.88%\n",
      "  Saved model with Val Acc: 90.88%\n"
     ]
    },
    {
     "name": "stderr",
     "output_type": "stream",
     "text": [
      "                                                                                                                               \r"
     ]
    },
    {
     "name": "stdout",
     "output_type": "stream",
     "text": [
      "Epoch 17/20\n",
      "  Train Loss: 0.2821\n",
      "  SAE Train Loss (hidden one): 0.6050\n",
      "  SAE Train Loss (hidden two): 0.0534\n",
      "  Val Loss: 0.3349 | Val Acc: 90.67%\n"
     ]
    },
    {
     "name": "stderr",
     "output_type": "stream",
     "text": [
      "                                                                                                                               \r"
     ]
    },
    {
     "name": "stdout",
     "output_type": "stream",
     "text": [
      "Epoch 18/20\n",
      "  Train Loss: 0.2784\n",
      "  SAE Train Loss (hidden one): 0.6636\n",
      "  SAE Train Loss (hidden two): 0.0517\n",
      "  Val Loss: 0.3256 | Val Acc: 90.95%\n",
      "  Saved model with Val Acc: 90.95%\n"
     ]
    },
    {
     "name": "stderr",
     "output_type": "stream",
     "text": [
      "                                                                                                                               \r"
     ]
    },
    {
     "name": "stdout",
     "output_type": "stream",
     "text": [
      "Epoch 19/20\n",
      "  Train Loss: 0.2754\n",
      "  SAE Train Loss (hidden one): 0.6143\n",
      "  SAE Train Loss (hidden two): 0.0501\n",
      "  Val Loss: 0.3458 | Val Acc: 89.98%\n"
     ]
    },
    {
     "name": "stderr",
     "output_type": "stream",
     "text": [
      "                                                                                                                               \r"
     ]
    },
    {
     "name": "stdout",
     "output_type": "stream",
     "text": [
      "Epoch 20/20\n",
      "  Train Loss: 0.2749\n",
      "  SAE Train Loss (hidden one): 0.6182\n",
      "  SAE Train Loss (hidden two): 0.0488\n",
      "  Val Loss: 0.3339 | Val Acc: 90.36%\n"
     ]
    },
    {
     "name": "stderr",
     "output_type": "stream",
     "text": [
      "Evaluation: 100%|█████████████████████████████████████████████████████████████████████████████| 79/79 [00:00<00:00, 267.98it/s]\n"
     ]
    },
    {
     "name": "stdout",
     "output_type": "stream",
     "text": [
      "Final Test Accuracy: 91.11%\n",
      "Average Reconstruction Error (Hidden One): 0.1686\n",
      "Average Reconstruction Error (Hidden Two): 0.0237\n",
      "Average Non-Zero Features per Image (Hidden One): 32.81\n",
      "Average Non-Zero Features per Image (Hidden Two): 33.70\n"
     ]
    },
    {
     "name": "stderr",
     "output_type": "stream",
     "text": [
      "/home/alex/.local/lib/python3.10/site-packages/sklearn/linear_model/_logistic.py:469: ConvergenceWarning: lbfgs failed to converge (status=1):\n",
      "STOP: TOTAL NO. of ITERATIONS REACHED LIMIT.\n",
      "\n",
      "Increase the number of iterations (max_iter) or scale the data as shown in:\n",
      "    https://scikit-learn.org/stable/modules/preprocessing.html\n",
      "Please also refer to the documentation for alternative solver options:\n",
      "    https://scikit-learn.org/stable/modules/linear_model.html#logistic-regression\n",
      "  n_iter_i = _check_optimize_result(\n"
     ]
    },
    {
     "name": "stdout",
     "output_type": "stream",
     "text": [
      "Linear Probe Accuracy (Hidden One): 91.40%\n"
     ]
    },
    {
     "name": "stderr",
     "output_type": "stream",
     "text": [
      "/home/alex/.local/lib/python3.10/site-packages/sklearn/linear_model/_logistic.py:469: ConvergenceWarning: lbfgs failed to converge (status=1):\n",
      "STOP: TOTAL NO. of ITERATIONS REACHED LIMIT.\n",
      "\n",
      "Increase the number of iterations (max_iter) or scale the data as shown in:\n",
      "    https://scikit-learn.org/stable/modules/preprocessing.html\n",
      "Please also refer to the documentation for alternative solver options:\n",
      "    https://scikit-learn.org/stable/modules/linear_model.html#logistic-regression\n",
      "  n_iter_i = _check_optimize_result(\n"
     ]
    },
    {
     "name": "stdout",
     "output_type": "stream",
     "text": [
      "Linear Probe Accuracy (Hidden Two): 90.68%\n",
      "\n",
      "##################################################\n",
      "Loss factor: 0.001\n",
      "\n",
      "\n"
     ]
    },
    {
     "name": "stderr",
     "output_type": "stream",
     "text": [
      "                                                                                                                               \r"
     ]
    },
    {
     "name": "stdout",
     "output_type": "stream",
     "text": [
      "Epoch 1/20\n",
      "  Train Loss: 1.0280\n",
      "  SAE Train Loss (hidden one): 8.6243\n",
      "  SAE Train Loss (hidden two): 1.1437\n",
      "  Val Loss: 0.5353 | Val Acc: 84.60%\n",
      "  Saved model with Val Acc: 84.60%\n"
     ]
    },
    {
     "name": "stderr",
     "output_type": "stream",
     "text": [
      "                                                                                                                               \r"
     ]
    },
    {
     "name": "stdout",
     "output_type": "stream",
     "text": [
      "Epoch 2/20\n",
      "  Train Loss: 0.4583\n",
      "  SAE Train Loss (hidden one): 0.4240\n",
      "  SAE Train Loss (hidden two): 0.0928\n",
      "  Val Loss: 0.4192 | Val Acc: 87.65%\n",
      "  Saved model with Val Acc: 87.65%\n"
     ]
    },
    {
     "name": "stderr",
     "output_type": "stream",
     "text": [
      "                                                                                                                               \r"
     ]
    },
    {
     "name": "stdout",
     "output_type": "stream",
     "text": [
      "Epoch 3/20\n",
      "  Train Loss: 0.3990\n",
      "  SAE Train Loss (hidden one): 0.4501\n",
      "  SAE Train Loss (hidden two): 0.0784\n",
      "  Val Loss: 0.4167 | Val Acc: 87.76%\n",
      "  Saved model with Val Acc: 87.76%\n"
     ]
    },
    {
     "name": "stderr",
     "output_type": "stream",
     "text": [
      "                                                                                                                               \r"
     ]
    },
    {
     "name": "stdout",
     "output_type": "stream",
     "text": [
      "Epoch 4/20\n",
      "  Train Loss: 0.3780\n",
      "  SAE Train Loss (hidden one): 0.4629\n",
      "  SAE Train Loss (hidden two): 0.0692\n",
      "  Val Loss: 0.3790 | Val Acc: 88.70%\n",
      "  Saved model with Val Acc: 88.70%\n"
     ]
    },
    {
     "name": "stderr",
     "output_type": "stream",
     "text": [
      "                                                                                                                               \r"
     ]
    },
    {
     "name": "stdout",
     "output_type": "stream",
     "text": [
      "Epoch 5/20\n",
      "  Train Loss: 0.3649\n",
      "  SAE Train Loss (hidden one): 0.4758\n",
      "  SAE Train Loss (hidden two): 0.0655\n",
      "  Val Loss: 0.3741 | Val Acc: 88.89%\n",
      "  Saved model with Val Acc: 88.89%\n"
     ]
    },
    {
     "name": "stderr",
     "output_type": "stream",
     "text": [
      "                                                                                                                               \r"
     ]
    },
    {
     "name": "stdout",
     "output_type": "stream",
     "text": [
      "Epoch 6/20\n",
      "  Train Loss: 0.3578\n",
      "  SAE Train Loss (hidden one): 0.4915\n",
      "  SAE Train Loss (hidden two): 0.0607\n",
      "  Val Loss: 0.3737 | Val Acc: 89.11%\n",
      "  Saved model with Val Acc: 89.11%\n"
     ]
    },
    {
     "name": "stderr",
     "output_type": "stream",
     "text": [
      "                                                                                                                               \r"
     ]
    },
    {
     "name": "stdout",
     "output_type": "stream",
     "text": [
      "Epoch 7/20\n",
      "  Train Loss: 0.3522\n",
      "  SAE Train Loss (hidden one): 0.5442\n",
      "  SAE Train Loss (hidden two): 0.0582\n",
      "  Val Loss: 0.3853 | Val Acc: 88.79%\n"
     ]
    },
    {
     "name": "stderr",
     "output_type": "stream",
     "text": [
      "                                                                                                                               \r"
     ]
    },
    {
     "name": "stdout",
     "output_type": "stream",
     "text": [
      "Epoch 8/20\n",
      "  Train Loss: 0.3466\n",
      "  SAE Train Loss (hidden one): 0.5624\n",
      "  SAE Train Loss (hidden two): 0.0566\n",
      "  Val Loss: 0.3663 | Val Acc: 88.94%\n"
     ]
    },
    {
     "name": "stderr",
     "output_type": "stream",
     "text": [
      "                                                                                                                               \r"
     ]
    },
    {
     "name": "stdout",
     "output_type": "stream",
     "text": [
      "Epoch 9/20\n",
      "  Train Loss: 0.3399\n",
      "  SAE Train Loss (hidden one): 0.5967\n",
      "  SAE Train Loss (hidden two): 0.0565\n",
      "  Val Loss: 0.3775 | Val Acc: 88.66%\n"
     ]
    },
    {
     "name": "stderr",
     "output_type": "stream",
     "text": [
      "                                                                                                                               \r"
     ]
    },
    {
     "name": "stdout",
     "output_type": "stream",
     "text": [
      "Epoch 10/20\n",
      "  Train Loss: 0.3359\n",
      "  SAE Train Loss (hidden one): 0.5097\n",
      "  SAE Train Loss (hidden two): 0.0536\n",
      "  Val Loss: 0.3706 | Val Acc: 88.95%\n"
     ]
    },
    {
     "name": "stderr",
     "output_type": "stream",
     "text": [
      "                                                                                                                               \r"
     ]
    },
    {
     "name": "stdout",
     "output_type": "stream",
     "text": [
      "Epoch 11/20\n",
      "  Train Loss: 0.3317\n",
      "  SAE Train Loss (hidden one): 0.6324\n",
      "  SAE Train Loss (hidden two): 0.0536\n",
      "  Val Loss: 0.3865 | Val Acc: 88.44%\n"
     ]
    },
    {
     "name": "stderr",
     "output_type": "stream",
     "text": [
      "                                                                                                                               \r"
     ]
    },
    {
     "name": "stdout",
     "output_type": "stream",
     "text": [
      "Epoch 12/20\n",
      "  Train Loss: 0.3297\n",
      "  SAE Train Loss (hidden one): 0.5368\n",
      "  SAE Train Loss (hidden two): 0.0496\n",
      "  Val Loss: 0.3648 | Val Acc: 89.04%\n"
     ]
    },
    {
     "name": "stderr",
     "output_type": "stream",
     "text": [
      "                                                                                                                               \r"
     ]
    },
    {
     "name": "stdout",
     "output_type": "stream",
     "text": [
      "Epoch 13/20\n",
      "  Train Loss: 0.3259\n",
      "  SAE Train Loss (hidden one): 0.5496\n",
      "  SAE Train Loss (hidden two): 0.0497\n",
      "  Val Loss: 0.3569 | Val Acc: 89.46%\n",
      "  Saved model with Val Acc: 89.46%\n"
     ]
    },
    {
     "name": "stderr",
     "output_type": "stream",
     "text": [
      "                                                                                                                               \r"
     ]
    },
    {
     "name": "stdout",
     "output_type": "stream",
     "text": [
      "Epoch 14/20\n",
      "  Train Loss: 0.3241\n",
      "  SAE Train Loss (hidden one): 0.6137\n",
      "  SAE Train Loss (hidden two): 0.0490\n",
      "  Val Loss: 0.3543 | Val Acc: 89.40%\n"
     ]
    },
    {
     "name": "stderr",
     "output_type": "stream",
     "text": [
      "                                                                                                                               \r"
     ]
    },
    {
     "name": "stdout",
     "output_type": "stream",
     "text": [
      "Epoch 15/20\n",
      "  Train Loss: 0.3247\n",
      "  SAE Train Loss (hidden one): 0.5164\n",
      "  SAE Train Loss (hidden two): 0.0471\n",
      "  Val Loss: 0.3511 | Val Acc: 89.27%\n"
     ]
    },
    {
     "name": "stderr",
     "output_type": "stream",
     "text": [
      "                                                                                                                               \r"
     ]
    },
    {
     "name": "stdout",
     "output_type": "stream",
     "text": [
      "Epoch 16/20\n",
      "  Train Loss: 0.3200\n",
      "  SAE Train Loss (hidden one): 0.6072\n",
      "  SAE Train Loss (hidden two): 0.0465\n",
      "  Val Loss: 0.3524 | Val Acc: 89.55%\n",
      "  Saved model with Val Acc: 89.55%\n"
     ]
    },
    {
     "name": "stderr",
     "output_type": "stream",
     "text": [
      "                                                                                                                               \r"
     ]
    },
    {
     "name": "stdout",
     "output_type": "stream",
     "text": [
      "Epoch 17/20\n",
      "  Train Loss: 0.3207\n",
      "  SAE Train Loss (hidden one): 0.6231\n",
      "  SAE Train Loss (hidden two): 0.0466\n",
      "  Val Loss: 0.3488 | Val Acc: 89.70%\n",
      "  Saved model with Val Acc: 89.70%\n"
     ]
    },
    {
     "name": "stderr",
     "output_type": "stream",
     "text": [
      "                                                                                                                               \r"
     ]
    },
    {
     "name": "stdout",
     "output_type": "stream",
     "text": [
      "Epoch 18/20\n",
      "  Train Loss: 0.3208\n",
      "  SAE Train Loss (hidden one): 0.6501\n",
      "  SAE Train Loss (hidden two): 0.0464\n",
      "  Val Loss: 0.3489 | Val Acc: 89.55%\n"
     ]
    },
    {
     "name": "stderr",
     "output_type": "stream",
     "text": [
      "                                                                                                                               \r"
     ]
    },
    {
     "name": "stdout",
     "output_type": "stream",
     "text": [
      "Epoch 19/20\n",
      "  Train Loss: 0.3147\n",
      "  SAE Train Loss (hidden one): 0.5385\n",
      "  SAE Train Loss (hidden two): 0.0446\n",
      "  Val Loss: 0.3618 | Val Acc: 89.29%\n"
     ]
    },
    {
     "name": "stderr",
     "output_type": "stream",
     "text": [
      "                                                                                                                               \r"
     ]
    },
    {
     "name": "stdout",
     "output_type": "stream",
     "text": [
      "Epoch 20/20\n",
      "  Train Loss: 0.3154\n",
      "  SAE Train Loss (hidden one): 0.5415\n",
      "  SAE Train Loss (hidden two): 0.0451\n",
      "  Val Loss: 0.3576 | Val Acc: 89.59%\n"
     ]
    },
    {
     "name": "stderr",
     "output_type": "stream",
     "text": [
      "Evaluation: 100%|█████████████████████████████████████████████████████████████████████████████| 79/79 [00:00<00:00, 277.40it/s]\n"
     ]
    },
    {
     "name": "stdout",
     "output_type": "stream",
     "text": [
      "Final Test Accuracy: 89.91%\n",
      "Average Reconstruction Error (Hidden One): 0.8298\n",
      "Average Reconstruction Error (Hidden Two): 0.0187\n",
      "Average Non-Zero Features per Image (Hidden One): 32.79\n",
      "Average Non-Zero Features per Image (Hidden Two): 33.70\n"
     ]
    },
    {
     "name": "stderr",
     "output_type": "stream",
     "text": [
      "/home/alex/.local/lib/python3.10/site-packages/sklearn/linear_model/_logistic.py:469: ConvergenceWarning: lbfgs failed to converge (status=1):\n",
      "STOP: TOTAL NO. of ITERATIONS REACHED LIMIT.\n",
      "\n",
      "Increase the number of iterations (max_iter) or scale the data as shown in:\n",
      "    https://scikit-learn.org/stable/modules/preprocessing.html\n",
      "Please also refer to the documentation for alternative solver options:\n",
      "    https://scikit-learn.org/stable/modules/linear_model.html#logistic-regression\n",
      "  n_iter_i = _check_optimize_result(\n"
     ]
    },
    {
     "name": "stdout",
     "output_type": "stream",
     "text": [
      "Linear Probe Accuracy (Hidden One): 87.68%\n"
     ]
    },
    {
     "name": "stderr",
     "output_type": "stream",
     "text": [
      "/home/alex/.local/lib/python3.10/site-packages/sklearn/linear_model/_logistic.py:469: ConvergenceWarning: lbfgs failed to converge (status=1):\n",
      "STOP: TOTAL NO. of ITERATIONS REACHED LIMIT.\n",
      "\n",
      "Increase the number of iterations (max_iter) or scale the data as shown in:\n",
      "    https://scikit-learn.org/stable/modules/preprocessing.html\n",
      "Please also refer to the documentation for alternative solver options:\n",
      "    https://scikit-learn.org/stable/modules/linear_model.html#logistic-regression\n",
      "  n_iter_i = _check_optimize_result(\n"
     ]
    },
    {
     "name": "stdout",
     "output_type": "stream",
     "text": [
      "Linear Probe Accuracy (Hidden Two): 88.20%\n",
      "\n",
      "##################################################\n",
      "Loss factor: 0.002\n",
      "\n",
      "\n"
     ]
    },
    {
     "name": "stderr",
     "output_type": "stream",
     "text": [
      "                                                                                                                               \r"
     ]
    },
    {
     "name": "stdout",
     "output_type": "stream",
     "text": [
      "Epoch 1/20\n",
      "  Train Loss: 1.0179\n",
      "  SAE Train Loss (hidden one): 8.6718\n",
      "  SAE Train Loss (hidden two): 1.1493\n",
      "  Val Loss: 0.5084 | Val Acc: 84.81%\n",
      "  Saved model with Val Acc: 84.81%\n"
     ]
    },
    {
     "name": "stderr",
     "output_type": "stream",
     "text": [
      "                                                                                                                               \r"
     ]
    },
    {
     "name": "stdout",
     "output_type": "stream",
     "text": [
      "Epoch 2/20\n",
      "  Train Loss: 0.4559\n",
      "  SAE Train Loss (hidden one): 0.4654\n",
      "  SAE Train Loss (hidden two): 0.0953\n",
      "  Val Loss: 0.4211 | Val Acc: 87.56%\n",
      "  Saved model with Val Acc: 87.56%\n"
     ]
    },
    {
     "name": "stderr",
     "output_type": "stream",
     "text": [
      "                                                                                                                               \r"
     ]
    },
    {
     "name": "stdout",
     "output_type": "stream",
     "text": [
      "Epoch 3/20\n",
      "  Train Loss: 0.3960\n",
      "  SAE Train Loss (hidden one): 0.4863\n",
      "  SAE Train Loss (hidden two): 0.0812\n",
      "  Val Loss: 0.4135 | Val Acc: 87.82%\n",
      "  Saved model with Val Acc: 87.82%\n"
     ]
    },
    {
     "name": "stderr",
     "output_type": "stream",
     "text": [
      "                                                                                                                               \r"
     ]
    },
    {
     "name": "stdout",
     "output_type": "stream",
     "text": [
      "Epoch 4/20\n",
      "  Train Loss: 0.3710\n",
      "  SAE Train Loss (hidden one): 0.5520\n",
      "  SAE Train Loss (hidden two): 0.0741\n",
      "  Val Loss: 0.3752 | Val Acc: 88.86%\n",
      "  Saved model with Val Acc: 88.86%\n"
     ]
    },
    {
     "name": "stderr",
     "output_type": "stream",
     "text": [
      "                                                                                                                               \r"
     ]
    },
    {
     "name": "stdout",
     "output_type": "stream",
     "text": [
      "Epoch 5/20\n",
      "  Train Loss: 0.3542\n",
      "  SAE Train Loss (hidden one): 0.5806\n",
      "  SAE Train Loss (hidden two): 0.0728\n",
      "  Val Loss: 0.3486 | Val Acc: 89.59%\n",
      "  Saved model with Val Acc: 89.59%\n"
     ]
    },
    {
     "name": "stderr",
     "output_type": "stream",
     "text": [
      "                                                                                                                               \r"
     ]
    },
    {
     "name": "stdout",
     "output_type": "stream",
     "text": [
      "Epoch 6/20\n",
      "  Train Loss: 0.3358\n",
      "  SAE Train Loss (hidden one): 0.6257\n",
      "  SAE Train Loss (hidden two): 0.0700\n",
      "  Val Loss: 0.3492 | Val Acc: 90.05%\n",
      "  Saved model with Val Acc: 90.05%\n"
     ]
    },
    {
     "name": "stderr",
     "output_type": "stream",
     "text": [
      "                                                                                                                               \r"
     ]
    },
    {
     "name": "stdout",
     "output_type": "stream",
     "text": [
      "Epoch 7/20\n",
      "  Train Loss: 0.3265\n",
      "  SAE Train Loss (hidden one): 0.6661\n",
      "  SAE Train Loss (hidden two): 0.0665\n",
      "  Val Loss: 0.3518 | Val Acc: 90.06%\n",
      "  Saved model with Val Acc: 90.06%\n"
     ]
    },
    {
     "name": "stderr",
     "output_type": "stream",
     "text": [
      "                                                                                                                               \r"
     ]
    },
    {
     "name": "stdout",
     "output_type": "stream",
     "text": [
      "Epoch 8/20\n",
      "  Train Loss: 0.3202\n",
      "  SAE Train Loss (hidden one): 0.6725\n",
      "  SAE Train Loss (hidden two): 0.0654\n",
      "  Val Loss: 0.3378 | Val Acc: 90.02%\n"
     ]
    },
    {
     "name": "stderr",
     "output_type": "stream",
     "text": [
      "                                                                                                                               \r"
     ]
    },
    {
     "name": "stdout",
     "output_type": "stream",
     "text": [
      "Epoch 9/20\n",
      "  Train Loss: 0.3138\n",
      "  SAE Train Loss (hidden one): 0.6965\n",
      "  SAE Train Loss (hidden two): 0.0649\n",
      "  Val Loss: 0.3535 | Val Acc: 89.48%\n"
     ]
    },
    {
     "name": "stderr",
     "output_type": "stream",
     "text": [
      "                                                                                                                               \r"
     ]
    },
    {
     "name": "stdout",
     "output_type": "stream",
     "text": [
      "Epoch 10/20\n",
      "  Train Loss: 0.3073\n",
      "  SAE Train Loss (hidden one): 0.6875\n",
      "  SAE Train Loss (hidden two): 0.0616\n",
      "  Val Loss: 0.3430 | Val Acc: 89.91%\n"
     ]
    },
    {
     "name": "stderr",
     "output_type": "stream",
     "text": [
      "                                                                                                                               \r"
     ]
    },
    {
     "name": "stdout",
     "output_type": "stream",
     "text": [
      "Epoch 11/20\n",
      "  Train Loss: 0.3016\n",
      "  SAE Train Loss (hidden one): 0.6944\n",
      "  SAE Train Loss (hidden two): 0.0623\n",
      "  Val Loss: 0.3444 | Val Acc: 90.12%\n",
      "  Saved model with Val Acc: 90.12%\n"
     ]
    },
    {
     "name": "stderr",
     "output_type": "stream",
     "text": [
      "                                                                                                                               \r"
     ]
    },
    {
     "name": "stdout",
     "output_type": "stream",
     "text": [
      "Epoch 12/20\n",
      "  Train Loss: 0.2964\n",
      "  SAE Train Loss (hidden one): 0.7158\n",
      "  SAE Train Loss (hidden two): 0.0606\n",
      "  Val Loss: 0.3266 | Val Acc: 90.21%\n",
      "  Saved model with Val Acc: 90.21%\n"
     ]
    },
    {
     "name": "stderr",
     "output_type": "stream",
     "text": [
      "                                                                                                                               \r"
     ]
    },
    {
     "name": "stdout",
     "output_type": "stream",
     "text": [
      "Epoch 13/20\n",
      "  Train Loss: 0.2928\n",
      "  SAE Train Loss (hidden one): 0.6897\n",
      "  SAE Train Loss (hidden two): 0.0589\n",
      "  Val Loss: 0.3402 | Val Acc: 90.18%\n"
     ]
    },
    {
     "name": "stderr",
     "output_type": "stream",
     "text": [
      "                                                                                                                               \r"
     ]
    },
    {
     "name": "stdout",
     "output_type": "stream",
     "text": [
      "Epoch 14/20\n",
      "  Train Loss: 0.2882\n",
      "  SAE Train Loss (hidden one): 0.6722\n",
      "  SAE Train Loss (hidden two): 0.0588\n",
      "  Val Loss: 0.3236 | Val Acc: 90.69%\n",
      "  Saved model with Val Acc: 90.69%\n"
     ]
    },
    {
     "name": "stderr",
     "output_type": "stream",
     "text": [
      "                                                                                                                               \r"
     ]
    },
    {
     "name": "stdout",
     "output_type": "stream",
     "text": [
      "Epoch 15/20\n",
      "  Train Loss: 0.2830\n",
      "  SAE Train Loss (hidden one): 0.6221\n",
      "  SAE Train Loss (hidden two): 0.0564\n",
      "  Val Loss: 0.3304 | Val Acc: 90.68%\n"
     ]
    },
    {
     "name": "stderr",
     "output_type": "stream",
     "text": [
      "                                                                                                                               \r"
     ]
    },
    {
     "name": "stdout",
     "output_type": "stream",
     "text": [
      "Epoch 16/20\n",
      "  Train Loss: 0.2810\n",
      "  SAE Train Loss (hidden one): 0.7905\n",
      "  SAE Train Loss (hidden two): 0.0568\n",
      "  Val Loss: 0.3109 | Val Acc: 91.00%\n",
      "  Saved model with Val Acc: 91.00%\n"
     ]
    },
    {
     "name": "stderr",
     "output_type": "stream",
     "text": [
      "                                                                                                                               \r"
     ]
    },
    {
     "name": "stdout",
     "output_type": "stream",
     "text": [
      "Epoch 17/20\n",
      "  Train Loss: 0.2758\n",
      "  SAE Train Loss (hidden one): 0.6914\n",
      "  SAE Train Loss (hidden two): 0.0579\n",
      "  Val Loss: 0.3113 | Val Acc: 90.99%\n"
     ]
    },
    {
     "name": "stderr",
     "output_type": "stream",
     "text": [
      "                                                                                                                               \r"
     ]
    },
    {
     "name": "stdout",
     "output_type": "stream",
     "text": [
      "Epoch 18/20\n",
      "  Train Loss: 0.2739\n",
      "  SAE Train Loss (hidden one): 0.6319\n",
      "  SAE Train Loss (hidden two): 0.0553\n",
      "  Val Loss: 0.3027 | Val Acc: 91.25%\n",
      "  Saved model with Val Acc: 91.25%\n"
     ]
    },
    {
     "name": "stderr",
     "output_type": "stream",
     "text": [
      "                                                                                                                               \r"
     ]
    },
    {
     "name": "stdout",
     "output_type": "stream",
     "text": [
      "Epoch 19/20\n",
      "  Train Loss: 0.2700\n",
      "  SAE Train Loss (hidden one): 0.6834\n",
      "  SAE Train Loss (hidden two): 0.0539\n",
      "  Val Loss: 0.3229 | Val Acc: 90.19%\n"
     ]
    },
    {
     "name": "stderr",
     "output_type": "stream",
     "text": [
      "                                                                                                                               \r"
     ]
    },
    {
     "name": "stdout",
     "output_type": "stream",
     "text": [
      "Epoch 20/20\n",
      "  Train Loss: 0.2662\n",
      "  SAE Train Loss (hidden one): 0.6671\n",
      "  SAE Train Loss (hidden two): 0.0534\n",
      "  Val Loss: 0.3200 | Val Acc: 90.55%\n"
     ]
    },
    {
     "name": "stderr",
     "output_type": "stream",
     "text": [
      "Evaluation: 100%|█████████████████████████████████████████████████████████████████████████████| 79/79 [00:00<00:00, 264.79it/s]"
     ]
    },
    {
     "name": "stdout",
     "output_type": "stream",
     "text": [
      "Final Test Accuracy: 91.74%\n",
      "Average Reconstruction Error (Hidden One): 0.5619\n",
      "Average Reconstruction Error (Hidden Two): 0.0242\n",
      "Average Non-Zero Features per Image (Hidden One): 33.09\n",
      "Average Non-Zero Features per Image (Hidden Two): 33.64\n"
     ]
    },
    {
     "name": "stderr",
     "output_type": "stream",
     "text": [
      "\n",
      "/home/alex/.local/lib/python3.10/site-packages/sklearn/linear_model/_logistic.py:469: ConvergenceWarning: lbfgs failed to converge (status=1):\n",
      "STOP: TOTAL NO. of ITERATIONS REACHED LIMIT.\n",
      "\n",
      "Increase the number of iterations (max_iter) or scale the data as shown in:\n",
      "    https://scikit-learn.org/stable/modules/preprocessing.html\n",
      "Please also refer to the documentation for alternative solver options:\n",
      "    https://scikit-learn.org/stable/modules/linear_model.html#logistic-regression\n",
      "  n_iter_i = _check_optimize_result(\n"
     ]
    },
    {
     "name": "stdout",
     "output_type": "stream",
     "text": [
      "Linear Probe Accuracy (Hidden One): 91.53%\n"
     ]
    },
    {
     "name": "stderr",
     "output_type": "stream",
     "text": [
      "/home/alex/.local/lib/python3.10/site-packages/sklearn/linear_model/_logistic.py:469: ConvergenceWarning: lbfgs failed to converge (status=1):\n",
      "STOP: TOTAL NO. of ITERATIONS REACHED LIMIT.\n",
      "\n",
      "Increase the number of iterations (max_iter) or scale the data as shown in:\n",
      "    https://scikit-learn.org/stable/modules/preprocessing.html\n",
      "Please also refer to the documentation for alternative solver options:\n",
      "    https://scikit-learn.org/stable/modules/linear_model.html#logistic-regression\n",
      "  n_iter_i = _check_optimize_result(\n"
     ]
    },
    {
     "name": "stdout",
     "output_type": "stream",
     "text": [
      "Linear Probe Accuracy (Hidden Two): 88.36%\n",
      "\n",
      "##################################################\n",
      "Loss factor: 0.003\n",
      "\n",
      "\n"
     ]
    },
    {
     "name": "stderr",
     "output_type": "stream",
     "text": [
      "                                                                                                                               \r"
     ]
    },
    {
     "name": "stdout",
     "output_type": "stream",
     "text": [
      "Epoch 1/20\n",
      "  Train Loss: 1.0750\n",
      "  SAE Train Loss (hidden one): 8.1960\n",
      "  SAE Train Loss (hidden two): 1.1234\n",
      "  Val Loss: 0.6791 | Val Acc: 81.24%\n",
      "  Saved model with Val Acc: 81.24%\n"
     ]
    },
    {
     "name": "stderr",
     "output_type": "stream",
     "text": [
      "                                                                                                                               \r"
     ]
    },
    {
     "name": "stdout",
     "output_type": "stream",
     "text": [
      "Epoch 2/20\n",
      "  Train Loss: 0.5748\n",
      "  SAE Train Loss (hidden one): 0.4461\n",
      "  SAE Train Loss (hidden two): 0.0961\n",
      "  Val Loss: 0.4929 | Val Acc: 86.18%\n",
      "  Saved model with Val Acc: 86.18%\n"
     ]
    },
    {
     "name": "stderr",
     "output_type": "stream",
     "text": [
      "                                                                                                                               \r"
     ]
    },
    {
     "name": "stdout",
     "output_type": "stream",
     "text": [
      "Epoch 3/20\n",
      "  Train Loss: 0.4614\n",
      "  SAE Train Loss (hidden one): 0.4719\n",
      "  SAE Train Loss (hidden two): 0.0786\n",
      "  Val Loss: 0.4526 | Val Acc: 87.34%\n",
      "  Saved model with Val Acc: 87.34%\n"
     ]
    },
    {
     "name": "stderr",
     "output_type": "stream",
     "text": [
      "                                                                                                                               \r"
     ]
    },
    {
     "name": "stdout",
     "output_type": "stream",
     "text": [
      "Epoch 4/20\n",
      "  Train Loss: 0.4273\n",
      "  SAE Train Loss (hidden one): 0.5281\n",
      "  SAE Train Loss (hidden two): 0.0717\n",
      "  Val Loss: 0.3948 | Val Acc: 88.79%\n",
      "  Saved model with Val Acc: 88.79%\n"
     ]
    },
    {
     "name": "stderr",
     "output_type": "stream",
     "text": [
      "                                                                                                                               \r"
     ]
    },
    {
     "name": "stdout",
     "output_type": "stream",
     "text": [
      "Epoch 5/20\n",
      "  Train Loss: 0.4024\n",
      "  SAE Train Loss (hidden one): 0.4080\n",
      "  SAE Train Loss (hidden two): 0.0613\n",
      "  Val Loss: 0.4211 | Val Acc: 88.15%\n"
     ]
    },
    {
     "name": "stderr",
     "output_type": "stream",
     "text": [
      "                                                                                                                               \r"
     ]
    },
    {
     "name": "stdout",
     "output_type": "stream",
     "text": [
      "Epoch 6/20\n",
      "  Train Loss: 0.3919\n",
      "  SAE Train Loss (hidden one): 0.4570\n",
      "  SAE Train Loss (hidden two): 0.0596\n",
      "  Val Loss: 0.3922 | Val Acc: 88.50%\n"
     ]
    },
    {
     "name": "stderr",
     "output_type": "stream",
     "text": [
      "                                                                                                                               \r"
     ]
    },
    {
     "name": "stdout",
     "output_type": "stream",
     "text": [
      "Epoch 7/20\n",
      "  Train Loss: 0.3872\n",
      "  SAE Train Loss (hidden one): 0.4491\n",
      "  SAE Train Loss (hidden two): 0.0559\n",
      "  Val Loss: 0.4273 | Val Acc: 87.91%\n"
     ]
    },
    {
     "name": "stderr",
     "output_type": "stream",
     "text": [
      "                                                                                                                               \r"
     ]
    },
    {
     "name": "stdout",
     "output_type": "stream",
     "text": [
      "Epoch 8/20\n",
      "  Train Loss: 0.3831\n",
      "  SAE Train Loss (hidden one): 0.4885\n",
      "  SAE Train Loss (hidden two): 0.0543\n",
      "  Val Loss: 0.4198 | Val Acc: 87.81%\n"
     ]
    },
    {
     "name": "stderr",
     "output_type": "stream",
     "text": [
      "                                                                                                                               \r"
     ]
    },
    {
     "name": "stdout",
     "output_type": "stream",
     "text": [
      "Epoch 9/20\n",
      "  Train Loss: 0.3683\n",
      "  SAE Train Loss (hidden one): 0.5427\n",
      "  SAE Train Loss (hidden two): 0.0519\n",
      "  Val Loss: 0.3849 | Val Acc: 88.96%\n",
      "  Saved model with Val Acc: 88.96%\n"
     ]
    },
    {
     "name": "stderr",
     "output_type": "stream",
     "text": [
      "                                                                                                                               \r"
     ]
    },
    {
     "name": "stdout",
     "output_type": "stream",
     "text": [
      "Epoch 10/20\n",
      "  Train Loss: 0.3622\n",
      "  SAE Train Loss (hidden one): 0.4411\n",
      "  SAE Train Loss (hidden two): 0.0499\n",
      "  Val Loss: 0.3804 | Val Acc: 88.72%\n"
     ]
    },
    {
     "name": "stderr",
     "output_type": "stream",
     "text": [
      "                                                                                                                               \r"
     ]
    },
    {
     "name": "stdout",
     "output_type": "stream",
     "text": [
      "Epoch 11/20\n",
      "  Train Loss: 0.3587\n",
      "  SAE Train Loss (hidden one): 0.5215\n",
      "  SAE Train Loss (hidden two): 0.0511\n",
      "  Val Loss: 0.3672 | Val Acc: 89.12%\n",
      "  Saved model with Val Acc: 89.12%\n"
     ]
    },
    {
     "name": "stderr",
     "output_type": "stream",
     "text": [
      "                                                                                                                               \r"
     ]
    },
    {
     "name": "stdout",
     "output_type": "stream",
     "text": [
      "Epoch 12/20\n",
      "  Train Loss: 0.3582\n",
      "  SAE Train Loss (hidden one): 0.5333\n",
      "  SAE Train Loss (hidden two): 0.0481\n",
      "  Val Loss: 0.3879 | Val Acc: 88.72%\n"
     ]
    },
    {
     "name": "stderr",
     "output_type": "stream",
     "text": [
      "                                                                                                                               \r"
     ]
    },
    {
     "name": "stdout",
     "output_type": "stream",
     "text": [
      "Epoch 13/20\n",
      "  Train Loss: 0.3572\n",
      "  SAE Train Loss (hidden one): 0.6345\n",
      "  SAE Train Loss (hidden two): 0.0476\n",
      "  Val Loss: 0.3680 | Val Acc: 89.32%\n",
      "  Saved model with Val Acc: 89.32%\n"
     ]
    },
    {
     "name": "stderr",
     "output_type": "stream",
     "text": [
      "                                                                                                                               \r"
     ]
    },
    {
     "name": "stdout",
     "output_type": "stream",
     "text": [
      "Epoch 14/20\n",
      "  Train Loss: 0.3495\n",
      "  SAE Train Loss (hidden one): 0.4448\n",
      "  SAE Train Loss (hidden two): 0.0474\n",
      "  Val Loss: 0.3729 | Val Acc: 89.30%\n"
     ]
    },
    {
     "name": "stderr",
     "output_type": "stream",
     "text": [
      "                                                                                                                               \r"
     ]
    },
    {
     "name": "stdout",
     "output_type": "stream",
     "text": [
      "Epoch 15/20\n",
      "  Train Loss: 0.3472\n",
      "  SAE Train Loss (hidden one): 0.5247\n",
      "  SAE Train Loss (hidden two): 0.0463\n",
      "  Val Loss: 0.3609 | Val Acc: 89.27%\n"
     ]
    },
    {
     "name": "stderr",
     "output_type": "stream",
     "text": [
      "                                                                                                                               \r"
     ]
    },
    {
     "name": "stdout",
     "output_type": "stream",
     "text": [
      "Epoch 16/20\n",
      "  Train Loss: 0.3384\n",
      "  SAE Train Loss (hidden one): 0.5654\n",
      "  SAE Train Loss (hidden two): 0.0459\n",
      "  Val Loss: 0.3592 | Val Acc: 89.60%\n",
      "  Saved model with Val Acc: 89.60%\n"
     ]
    },
    {
     "name": "stderr",
     "output_type": "stream",
     "text": [
      "                                                                                                                               \r"
     ]
    },
    {
     "name": "stdout",
     "output_type": "stream",
     "text": [
      "Epoch 17/20\n",
      "  Train Loss: 0.3375\n",
      "  SAE Train Loss (hidden one): 0.5112\n",
      "  SAE Train Loss (hidden two): 0.0437\n",
      "  Val Loss: 0.3663 | Val Acc: 89.40%\n"
     ]
    },
    {
     "name": "stderr",
     "output_type": "stream",
     "text": [
      "                                                                                                                               \r"
     ]
    },
    {
     "name": "stdout",
     "output_type": "stream",
     "text": [
      "Epoch 18/20\n",
      "  Train Loss: 0.3347\n",
      "  SAE Train Loss (hidden one): 0.5467\n",
      "  SAE Train Loss (hidden two): 0.0427\n",
      "  Val Loss: 0.3556 | Val Acc: 89.62%\n",
      "  Saved model with Val Acc: 89.62%\n"
     ]
    },
    {
     "name": "stderr",
     "output_type": "stream",
     "text": [
      "                                                                                                                               \r"
     ]
    },
    {
     "name": "stdout",
     "output_type": "stream",
     "text": [
      "Epoch 19/20\n",
      "  Train Loss: 0.3287\n",
      "  SAE Train Loss (hidden one): 0.5284\n",
      "  SAE Train Loss (hidden two): 0.0426\n",
      "  Val Loss: 0.3642 | Val Acc: 89.43%\n"
     ]
    },
    {
     "name": "stderr",
     "output_type": "stream",
     "text": [
      "                                                                                                                               \r"
     ]
    },
    {
     "name": "stdout",
     "output_type": "stream",
     "text": [
      "Epoch 20/20\n",
      "  Train Loss: 0.3276\n",
      "  SAE Train Loss (hidden one): 0.5489\n",
      "  SAE Train Loss (hidden two): 0.0422\n",
      "  Val Loss: 0.3577 | Val Acc: 89.97%\n",
      "  Saved model with Val Acc: 89.97%\n"
     ]
    },
    {
     "name": "stderr",
     "output_type": "stream",
     "text": [
      "Evaluation: 100%|█████████████████████████████████████████████████████████████████████████████| 79/79 [00:00<00:00, 264.26it/s]\n"
     ]
    },
    {
     "name": "stdout",
     "output_type": "stream",
     "text": [
      "Final Test Accuracy: 89.83%\n",
      "Average Reconstruction Error (Hidden One): 0.3793\n",
      "Average Reconstruction Error (Hidden Two): 0.0204\n",
      "Average Non-Zero Features per Image (Hidden One): 30.86\n",
      "Average Non-Zero Features per Image (Hidden Two): 32.21\n"
     ]
    },
    {
     "name": "stderr",
     "output_type": "stream",
     "text": [
      "/home/alex/.local/lib/python3.10/site-packages/sklearn/linear_model/_logistic.py:469: ConvergenceWarning: lbfgs failed to converge (status=1):\n",
      "STOP: TOTAL NO. of ITERATIONS REACHED LIMIT.\n",
      "\n",
      "Increase the number of iterations (max_iter) or scale the data as shown in:\n",
      "    https://scikit-learn.org/stable/modules/preprocessing.html\n",
      "Please also refer to the documentation for alternative solver options:\n",
      "    https://scikit-learn.org/stable/modules/linear_model.html#logistic-regression\n",
      "  n_iter_i = _check_optimize_result(\n"
     ]
    },
    {
     "name": "stdout",
     "output_type": "stream",
     "text": [
      "Linear Probe Accuracy (Hidden One): 90.11%\n"
     ]
    },
    {
     "name": "stderr",
     "output_type": "stream",
     "text": [
      "/home/alex/.local/lib/python3.10/site-packages/sklearn/linear_model/_logistic.py:469: ConvergenceWarning: lbfgs failed to converge (status=1):\n",
      "STOP: TOTAL NO. of ITERATIONS REACHED LIMIT.\n",
      "\n",
      "Increase the number of iterations (max_iter) or scale the data as shown in:\n",
      "    https://scikit-learn.org/stable/modules/preprocessing.html\n",
      "Please also refer to the documentation for alternative solver options:\n",
      "    https://scikit-learn.org/stable/modules/linear_model.html#logistic-regression\n",
      "  n_iter_i = _check_optimize_result(\n"
     ]
    },
    {
     "name": "stdout",
     "output_type": "stream",
     "text": [
      "Linear Probe Accuracy (Hidden Two): 89.91%\n",
      "\n",
      "##################################################\n",
      "Loss factor: 0.004\n",
      "\n",
      "\n"
     ]
    },
    {
     "name": "stderr",
     "output_type": "stream",
     "text": [
      "                                                                                                                               \r"
     ]
    },
    {
     "name": "stdout",
     "output_type": "stream",
     "text": [
      "Epoch 1/20\n",
      "  Train Loss: 1.0760\n",
      "  SAE Train Loss (hidden one): 8.4559\n",
      "  SAE Train Loss (hidden two): 1.1412\n",
      "  Val Loss: 0.6304 | Val Acc: 82.19%\n",
      "  Saved model with Val Acc: 82.19%\n"
     ]
    },
    {
     "name": "stderr",
     "output_type": "stream",
     "text": [
      "                                                                                                                               \r"
     ]
    },
    {
     "name": "stdout",
     "output_type": "stream",
     "text": [
      "Epoch 2/20\n",
      "  Train Loss: 0.4953\n",
      "  SAE Train Loss (hidden one): 0.6361\n",
      "  SAE Train Loss (hidden two): 0.1102\n",
      "  Val Loss: 0.5129 | Val Acc: 84.19%\n",
      "  Saved model with Val Acc: 84.19%\n"
     ]
    },
    {
     "name": "stderr",
     "output_type": "stream",
     "text": [
      "                                                                                                                               \r"
     ]
    },
    {
     "name": "stdout",
     "output_type": "stream",
     "text": [
      "Epoch 3/20\n",
      "  Train Loss: 0.4097\n",
      "  SAE Train Loss (hidden one): 0.5824\n",
      "  SAE Train Loss (hidden two): 0.0900\n",
      "  Val Loss: 0.4077 | Val Acc: 87.93%\n",
      "  Saved model with Val Acc: 87.93%\n"
     ]
    },
    {
     "name": "stderr",
     "output_type": "stream",
     "text": [
      "                                                                                                                               \r"
     ]
    },
    {
     "name": "stdout",
     "output_type": "stream",
     "text": [
      "Epoch 4/20\n",
      "  Train Loss: 0.3671\n",
      "  SAE Train Loss (hidden one): 0.6475\n",
      "  SAE Train Loss (hidden two): 0.0898\n",
      "  Val Loss: 0.3587 | Val Acc: 89.63%\n",
      "  Saved model with Val Acc: 89.63%\n"
     ]
    },
    {
     "name": "stderr",
     "output_type": "stream",
     "text": [
      "                                                                                                                               \r"
     ]
    },
    {
     "name": "stdout",
     "output_type": "stream",
     "text": [
      "Epoch 5/20\n",
      "  Train Loss: 0.3450\n",
      "  SAE Train Loss (hidden one): 0.6266\n",
      "  SAE Train Loss (hidden two): 0.0825\n",
      "  Val Loss: 0.3393 | Val Acc: 90.05%\n",
      "  Saved model with Val Acc: 90.05%\n"
     ]
    },
    {
     "name": "stderr",
     "output_type": "stream",
     "text": [
      "                                                                                                                               \r"
     ]
    },
    {
     "name": "stdout",
     "output_type": "stream",
     "text": [
      "Epoch 6/20\n",
      "  Train Loss: 0.3307\n",
      "  SAE Train Loss (hidden one): 0.5973\n",
      "  SAE Train Loss (hidden two): 0.0782\n",
      "  Val Loss: 0.3479 | Val Acc: 90.25%\n",
      "  Saved model with Val Acc: 90.25%\n"
     ]
    },
    {
     "name": "stderr",
     "output_type": "stream",
     "text": [
      "                                                                                                                               \r"
     ]
    },
    {
     "name": "stdout",
     "output_type": "stream",
     "text": [
      "Epoch 7/20\n",
      "  Train Loss: 0.3208\n",
      "  SAE Train Loss (hidden one): 0.5608\n",
      "  SAE Train Loss (hidden two): 0.0734\n",
      "  Val Loss: 0.3477 | Val Acc: 90.06%\n"
     ]
    },
    {
     "name": "stderr",
     "output_type": "stream",
     "text": [
      "                                                                                                                               \r"
     ]
    },
    {
     "name": "stdout",
     "output_type": "stream",
     "text": [
      "Epoch 8/20\n",
      "  Train Loss: 0.3175\n",
      "  SAE Train Loss (hidden one): 0.5801\n",
      "  SAE Train Loss (hidden two): 0.0706\n",
      "  Val Loss: 0.3444 | Val Acc: 89.92%\n"
     ]
    },
    {
     "name": "stderr",
     "output_type": "stream",
     "text": [
      "                                                                                                                               \r"
     ]
    },
    {
     "name": "stdout",
     "output_type": "stream",
     "text": [
      "Epoch 9/20\n",
      "  Train Loss: 0.3064\n",
      "  SAE Train Loss (hidden one): 0.5945\n",
      "  SAE Train Loss (hidden two): 0.0696\n",
      "  Val Loss: 0.3443 | Val Acc: 89.67%\n"
     ]
    },
    {
     "name": "stderr",
     "output_type": "stream",
     "text": [
      "                                                                                                                               \r"
     ]
    },
    {
     "name": "stdout",
     "output_type": "stream",
     "text": [
      "Epoch 10/20\n",
      "  Train Loss: 0.3043\n",
      "  SAE Train Loss (hidden one): 0.5157\n",
      "  SAE Train Loss (hidden two): 0.0656\n",
      "  Val Loss: 0.3601 | Val Acc: 89.66%\n"
     ]
    },
    {
     "name": "stderr",
     "output_type": "stream",
     "text": [
      "                                                                                                                               \r"
     ]
    },
    {
     "name": "stdout",
     "output_type": "stream",
     "text": [
      "Epoch 11/20\n",
      "  Train Loss: 0.2960\n",
      "  SAE Train Loss (hidden one): 0.6168\n",
      "  SAE Train Loss (hidden two): 0.0652\n",
      "  Val Loss: 0.3363 | Val Acc: 90.06%\n"
     ]
    },
    {
     "name": "stderr",
     "output_type": "stream",
     "text": [
      "                                                                                                                               \r"
     ]
    },
    {
     "name": "stdout",
     "output_type": "stream",
     "text": [
      "Epoch 12/20\n",
      "  Train Loss: 0.2981\n",
      "  SAE Train Loss (hidden one): 0.6473\n",
      "  SAE Train Loss (hidden two): 0.0643\n",
      "  Val Loss: 0.3145 | Val Acc: 90.92%\n",
      "  Saved model with Val Acc: 90.92%\n"
     ]
    },
    {
     "name": "stderr",
     "output_type": "stream",
     "text": [
      "                                                                                                                               \r"
     ]
    },
    {
     "name": "stdout",
     "output_type": "stream",
     "text": [
      "Epoch 13/20\n",
      "  Train Loss: 0.2888\n",
      "  SAE Train Loss (hidden one): 0.7153\n",
      "  SAE Train Loss (hidden two): 0.0675\n",
      "  Val Loss: 0.3073 | Val Acc: 90.83%\n"
     ]
    },
    {
     "name": "stderr",
     "output_type": "stream",
     "text": [
      "                                                                                                                               \r"
     ]
    },
    {
     "name": "stdout",
     "output_type": "stream",
     "text": [
      "Epoch 14/20\n",
      "  Train Loss: 0.2883\n",
      "  SAE Train Loss (hidden one): 0.6020\n",
      "  SAE Train Loss (hidden two): 0.0612\n",
      "  Val Loss: 0.3115 | Val Acc: 90.87%\n"
     ]
    },
    {
     "name": "stderr",
     "output_type": "stream",
     "text": [
      "                                                                                                                               \r"
     ]
    },
    {
     "name": "stdout",
     "output_type": "stream",
     "text": [
      "Epoch 15/20\n",
      "  Train Loss: 0.2835\n",
      "  SAE Train Loss (hidden one): 0.6830\n",
      "  SAE Train Loss (hidden two): 0.0632\n",
      "  Val Loss: 0.3514 | Val Acc: 90.02%\n"
     ]
    },
    {
     "name": "stderr",
     "output_type": "stream",
     "text": [
      "                                                                                                                               \r"
     ]
    },
    {
     "name": "stdout",
     "output_type": "stream",
     "text": [
      "Epoch 16/20\n",
      "  Train Loss: 0.2780\n",
      "  SAE Train Loss (hidden one): 0.7445\n",
      "  SAE Train Loss (hidden two): 0.0613\n",
      "  Val Loss: 0.3064 | Val Acc: 91.14%\n",
      "  Saved model with Val Acc: 91.14%\n"
     ]
    },
    {
     "name": "stderr",
     "output_type": "stream",
     "text": [
      "                                                                                                                               \r"
     ]
    },
    {
     "name": "stdout",
     "output_type": "stream",
     "text": [
      "Epoch 17/20\n",
      "  Train Loss: 0.2739\n",
      "  SAE Train Loss (hidden one): 0.7355\n",
      "  SAE Train Loss (hidden two): 0.0601\n",
      "  Val Loss: 0.2964 | Val Acc: 91.58%\n",
      "  Saved model with Val Acc: 91.58%\n"
     ]
    },
    {
     "name": "stderr",
     "output_type": "stream",
     "text": [
      "                                                                                                                               \r"
     ]
    },
    {
     "name": "stdout",
     "output_type": "stream",
     "text": [
      "Epoch 18/20\n",
      "  Train Loss: 0.2680\n",
      "  SAE Train Loss (hidden one): 0.6496\n",
      "  SAE Train Loss (hidden two): 0.0565\n",
      "  Val Loss: 0.2998 | Val Acc: 91.26%\n"
     ]
    },
    {
     "name": "stderr",
     "output_type": "stream",
     "text": [
      "                                                                                                                               \r"
     ]
    },
    {
     "name": "stdout",
     "output_type": "stream",
     "text": [
      "Epoch 19/20\n",
      "  Train Loss: 0.2647\n",
      "  SAE Train Loss (hidden one): 0.8207\n",
      "  SAE Train Loss (hidden two): 0.0573\n",
      "  Val Loss: 0.3086 | Val Acc: 91.02%\n"
     ]
    },
    {
     "name": "stderr",
     "output_type": "stream",
     "text": [
      "                                                                                                                               \r"
     ]
    },
    {
     "name": "stdout",
     "output_type": "stream",
     "text": [
      "Epoch 20/20\n",
      "  Train Loss: 0.2624\n",
      "  SAE Train Loss (hidden one): 0.6460\n",
      "  SAE Train Loss (hidden two): 0.0546\n",
      "  Val Loss: 0.3011 | Val Acc: 91.25%\n"
     ]
    },
    {
     "name": "stderr",
     "output_type": "stream",
     "text": [
      "Evaluation: 100%|█████████████████████████████████████████████████████████████████████████████| 79/79 [00:00<00:00, 253.47it/s]"
     ]
    },
    {
     "name": "stdout",
     "output_type": "stream",
     "text": [
      "Final Test Accuracy: 91.17%\n",
      "Average Reconstruction Error (Hidden One): 0.1337\n",
      "Average Reconstruction Error (Hidden Two): 0.0193\n",
      "Average Non-Zero Features per Image (Hidden One): 33.88\n",
      "Average Non-Zero Features per Image (Hidden Two): 34.59\n"
     ]
    },
    {
     "name": "stderr",
     "output_type": "stream",
     "text": [
      "\n",
      "/home/alex/.local/lib/python3.10/site-packages/sklearn/linear_model/_logistic.py:469: ConvergenceWarning: lbfgs failed to converge (status=1):\n",
      "STOP: TOTAL NO. of ITERATIONS REACHED LIMIT.\n",
      "\n",
      "Increase the number of iterations (max_iter) or scale the data as shown in:\n",
      "    https://scikit-learn.org/stable/modules/preprocessing.html\n",
      "Please also refer to the documentation for alternative solver options:\n",
      "    https://scikit-learn.org/stable/modules/linear_model.html#logistic-regression\n",
      "  n_iter_i = _check_optimize_result(\n"
     ]
    },
    {
     "name": "stdout",
     "output_type": "stream",
     "text": [
      "Linear Probe Accuracy (Hidden One): 90.57%\n"
     ]
    },
    {
     "name": "stderr",
     "output_type": "stream",
     "text": [
      "/home/alex/.local/lib/python3.10/site-packages/sklearn/linear_model/_logistic.py:469: ConvergenceWarning: lbfgs failed to converge (status=1):\n",
      "STOP: TOTAL NO. of ITERATIONS REACHED LIMIT.\n",
      "\n",
      "Increase the number of iterations (max_iter) or scale the data as shown in:\n",
      "    https://scikit-learn.org/stable/modules/preprocessing.html\n",
      "Please also refer to the documentation for alternative solver options:\n",
      "    https://scikit-learn.org/stable/modules/linear_model.html#logistic-regression\n",
      "  n_iter_i = _check_optimize_result(\n"
     ]
    },
    {
     "name": "stdout",
     "output_type": "stream",
     "text": [
      "Linear Probe Accuracy (Hidden Two): 89.97%\n",
      "\n",
      "##################################################\n",
      "Loss factor: 0.005\n",
      "\n",
      "\n"
     ]
    },
    {
     "name": "stderr",
     "output_type": "stream",
     "text": [
      "                                                                                                                               \r"
     ]
    },
    {
     "name": "stdout",
     "output_type": "stream",
     "text": [
      "Epoch 1/20\n",
      "  Train Loss: 1.0321\n",
      "  SAE Train Loss (hidden one): 8.9207\n",
      "  SAE Train Loss (hidden two): 1.1793\n",
      "  Val Loss: 0.5022 | Val Acc: 85.67%\n",
      "  Saved model with Val Acc: 85.67%\n"
     ]
    },
    {
     "name": "stderr",
     "output_type": "stream",
     "text": [
      "                                                                                                                               \r"
     ]
    },
    {
     "name": "stdout",
     "output_type": "stream",
     "text": [
      "Epoch 2/20\n",
      "  Train Loss: 0.4558\n",
      "  SAE Train Loss (hidden one): 0.5850\n",
      "  SAE Train Loss (hidden two): 0.1058\n",
      "  Val Loss: 0.4100 | Val Acc: 88.71%\n",
      "  Saved model with Val Acc: 88.71%\n"
     ]
    },
    {
     "name": "stderr",
     "output_type": "stream",
     "text": [
      "                                                                                                                               \r"
     ]
    },
    {
     "name": "stdout",
     "output_type": "stream",
     "text": [
      "Epoch 3/20\n",
      "  Train Loss: 0.3599\n",
      "  SAE Train Loss (hidden one): 0.5582\n",
      "  SAE Train Loss (hidden two): 0.0902\n",
      "  Val Loss: 0.3477 | Val Acc: 89.88%\n",
      "  Saved model with Val Acc: 89.88%\n"
     ]
    },
    {
     "name": "stderr",
     "output_type": "stream",
     "text": [
      "                                                                                                                               \r"
     ]
    },
    {
     "name": "stdout",
     "output_type": "stream",
     "text": [
      "Epoch 4/20\n",
      "  Train Loss: 0.3277\n",
      "  SAE Train Loss (hidden one): 0.5476\n",
      "  SAE Train Loss (hidden two): 0.0804\n",
      "  Val Loss: 0.3138 | Val Acc: 90.97%\n",
      "  Saved model with Val Acc: 90.97%\n"
     ]
    },
    {
     "name": "stderr",
     "output_type": "stream",
     "text": [
      "                                                                                                                               \r"
     ]
    },
    {
     "name": "stdout",
     "output_type": "stream",
     "text": [
      "Epoch 5/20\n",
      "  Train Loss: 0.3061\n",
      "  SAE Train Loss (hidden one): 0.5226\n",
      "  SAE Train Loss (hidden two): 0.0730\n",
      "  Val Loss: 0.3153 | Val Acc: 91.17%\n",
      "  Saved model with Val Acc: 91.17%\n"
     ]
    },
    {
     "name": "stderr",
     "output_type": "stream",
     "text": [
      "                                                                                                                               \r"
     ]
    },
    {
     "name": "stdout",
     "output_type": "stream",
     "text": [
      "Epoch 6/20\n",
      "  Train Loss: 0.2924\n",
      "  SAE Train Loss (hidden one): 0.5691\n",
      "  SAE Train Loss (hidden two): 0.0712\n",
      "  Val Loss: 0.3005 | Val Acc: 91.38%\n",
      "  Saved model with Val Acc: 91.38%\n"
     ]
    },
    {
     "name": "stderr",
     "output_type": "stream",
     "text": [
      "                                                                                                                               \r"
     ]
    },
    {
     "name": "stdout",
     "output_type": "stream",
     "text": [
      "Epoch 7/20\n",
      "  Train Loss: 0.2855\n",
      "  SAE Train Loss (hidden one): 0.5665\n",
      "  SAE Train Loss (hidden two): 0.0698\n",
      "  Val Loss: 0.2988 | Val Acc: 91.33%\n"
     ]
    },
    {
     "name": "stderr",
     "output_type": "stream",
     "text": [
      "                                                                                                                               \r"
     ]
    },
    {
     "name": "stdout",
     "output_type": "stream",
     "text": [
      "Epoch 8/20\n",
      "  Train Loss: 0.2781\n",
      "  SAE Train Loss (hidden one): 0.5864\n",
      "  SAE Train Loss (hidden two): 0.0662\n",
      "  Val Loss: 0.2993 | Val Acc: 91.29%\n"
     ]
    },
    {
     "name": "stderr",
     "output_type": "stream",
     "text": [
      "                                                                                                                               \r"
     ]
    },
    {
     "name": "stdout",
     "output_type": "stream",
     "text": [
      "Epoch 9/20\n",
      "  Train Loss: 0.2706\n",
      "  SAE Train Loss (hidden one): 0.6592\n",
      "  SAE Train Loss (hidden two): 0.0665\n",
      "  Val Loss: 0.3223 | Val Acc: 90.60%\n"
     ]
    },
    {
     "name": "stderr",
     "output_type": "stream",
     "text": [
      "                                                                                                                               \r"
     ]
    },
    {
     "name": "stdout",
     "output_type": "stream",
     "text": [
      "Epoch 10/20\n",
      "  Train Loss: 0.2674\n",
      "  SAE Train Loss (hidden one): 0.5729\n",
      "  SAE Train Loss (hidden two): 0.0632\n",
      "  Val Loss: 0.2942 | Val Acc: 91.38%\n",
      "  Saved model with same Val Acc: 91.38% but lower Val Loss: 0.2942\n"
     ]
    },
    {
     "name": "stderr",
     "output_type": "stream",
     "text": [
      "                                                                                                                               \r"
     ]
    },
    {
     "name": "stdout",
     "output_type": "stream",
     "text": [
      "Epoch 11/20\n",
      "  Train Loss: 0.2612\n",
      "  SAE Train Loss (hidden one): 0.6400\n",
      "  SAE Train Loss (hidden two): 0.0609\n",
      "  Val Loss: 0.2949 | Val Acc: 91.40%\n",
      "  Saved model with Val Acc: 91.40%\n"
     ]
    },
    {
     "name": "stderr",
     "output_type": "stream",
     "text": [
      "                                                                                                                               \r"
     ]
    },
    {
     "name": "stdout",
     "output_type": "stream",
     "text": [
      "Epoch 12/20\n",
      "  Train Loss: 0.2564\n",
      "  SAE Train Loss (hidden one): 0.6402\n",
      "  SAE Train Loss (hidden two): 0.0586\n",
      "  Val Loss: 0.2838 | Val Acc: 91.80%\n",
      "  Saved model with Val Acc: 91.80%\n"
     ]
    },
    {
     "name": "stderr",
     "output_type": "stream",
     "text": [
      "                                                                                                                               \r"
     ]
    },
    {
     "name": "stdout",
     "output_type": "stream",
     "text": [
      "Epoch 13/20\n",
      "  Train Loss: 0.2517\n",
      "  SAE Train Loss (hidden one): 0.6676\n",
      "  SAE Train Loss (hidden two): 0.0572\n",
      "  Val Loss: 0.2804 | Val Acc: 91.94%\n",
      "  Saved model with Val Acc: 91.94%\n"
     ]
    },
    {
     "name": "stderr",
     "output_type": "stream",
     "text": [
      "                                                                                                                               \r"
     ]
    },
    {
     "name": "stdout",
     "output_type": "stream",
     "text": [
      "Epoch 14/20\n",
      "  Train Loss: 0.2490\n",
      "  SAE Train Loss (hidden one): 0.6386\n",
      "  SAE Train Loss (hidden two): 0.0556\n",
      "  Val Loss: 0.2931 | Val Acc: 91.60%\n"
     ]
    },
    {
     "name": "stderr",
     "output_type": "stream",
     "text": [
      "                                                                                                                               \r"
     ]
    },
    {
     "name": "stdout",
     "output_type": "stream",
     "text": [
      "Epoch 15/20\n",
      "  Train Loss: 0.2474\n",
      "  SAE Train Loss (hidden one): 0.6178\n",
      "  SAE Train Loss (hidden two): 0.0525\n",
      "  Val Loss: 0.2886 | Val Acc: 91.57%\n"
     ]
    },
    {
     "name": "stderr",
     "output_type": "stream",
     "text": [
      "                                                                                                                               \r"
     ]
    },
    {
     "name": "stdout",
     "output_type": "stream",
     "text": [
      "Epoch 16/20\n",
      "  Train Loss: 0.2440\n",
      "  SAE Train Loss (hidden one): 0.6060\n",
      "  SAE Train Loss (hidden two): 0.0520\n",
      "  Val Loss: 0.2726 | Val Acc: 92.18%\n",
      "  Saved model with Val Acc: 92.18%\n"
     ]
    },
    {
     "name": "stderr",
     "output_type": "stream",
     "text": [
      "                                                                                                                               \r"
     ]
    },
    {
     "name": "stdout",
     "output_type": "stream",
     "text": [
      "Epoch 17/20\n",
      "  Train Loss: 0.2406\n",
      "  SAE Train Loss (hidden one): 0.6762\n",
      "  SAE Train Loss (hidden two): 0.0509\n",
      "  Val Loss: 0.2792 | Val Acc: 92.15%\n"
     ]
    },
    {
     "name": "stderr",
     "output_type": "stream",
     "text": [
      "                                                                                                                               \r"
     ]
    },
    {
     "name": "stdout",
     "output_type": "stream",
     "text": [
      "Epoch 18/20\n",
      "  Train Loss: 0.2381\n",
      "  SAE Train Loss (hidden one): 0.6554\n",
      "  SAE Train Loss (hidden two): 0.0499\n",
      "  Val Loss: 0.2692 | Val Acc: 92.34%\n",
      "  Saved model with Val Acc: 92.34%\n"
     ]
    },
    {
     "name": "stderr",
     "output_type": "stream",
     "text": [
      "                                                                                                                               \r"
     ]
    },
    {
     "name": "stdout",
     "output_type": "stream",
     "text": [
      "Epoch 19/20\n",
      "  Train Loss: 0.2396\n",
      "  SAE Train Loss (hidden one): 0.5604\n",
      "  SAE Train Loss (hidden two): 0.0473\n",
      "  Val Loss: 0.2960 | Val Acc: 91.49%\n"
     ]
    },
    {
     "name": "stderr",
     "output_type": "stream",
     "text": [
      "                                                                                                                               \r"
     ]
    },
    {
     "name": "stdout",
     "output_type": "stream",
     "text": [
      "Epoch 20/20\n",
      "  Train Loss: 0.2364\n",
      "  SAE Train Loss (hidden one): 0.6975\n",
      "  SAE Train Loss (hidden two): 0.0463\n",
      "  Val Loss: 0.2923 | Val Acc: 91.69%\n"
     ]
    },
    {
     "name": "stderr",
     "output_type": "stream",
     "text": [
      "Evaluation: 100%|█████████████████████████████████████████████████████████████████████████████| 79/79 [00:00<00:00, 271.01it/s]\n"
     ]
    },
    {
     "name": "stdout",
     "output_type": "stream",
     "text": [
      "Final Test Accuracy: 92.33%\n",
      "Average Reconstruction Error (Hidden One): 0.1816\n",
      "Average Reconstruction Error (Hidden Two): 0.0155\n",
      "Average Non-Zero Features per Image (Hidden One): 33.34\n",
      "Average Non-Zero Features per Image (Hidden Two): 33.89\n"
     ]
    },
    {
     "name": "stderr",
     "output_type": "stream",
     "text": [
      "/home/alex/.local/lib/python3.10/site-packages/sklearn/linear_model/_logistic.py:469: ConvergenceWarning: lbfgs failed to converge (status=1):\n",
      "STOP: TOTAL NO. of ITERATIONS REACHED LIMIT.\n",
      "\n",
      "Increase the number of iterations (max_iter) or scale the data as shown in:\n",
      "    https://scikit-learn.org/stable/modules/preprocessing.html\n",
      "Please also refer to the documentation for alternative solver options:\n",
      "    https://scikit-learn.org/stable/modules/linear_model.html#logistic-regression\n",
      "  n_iter_i = _check_optimize_result(\n"
     ]
    },
    {
     "name": "stdout",
     "output_type": "stream",
     "text": [
      "Linear Probe Accuracy (Hidden One): 91.75%\n"
     ]
    },
    {
     "name": "stderr",
     "output_type": "stream",
     "text": [
      "/home/alex/.local/lib/python3.10/site-packages/sklearn/linear_model/_logistic.py:469: ConvergenceWarning: lbfgs failed to converge (status=1):\n",
      "STOP: TOTAL NO. of ITERATIONS REACHED LIMIT.\n",
      "\n",
      "Increase the number of iterations (max_iter) or scale the data as shown in:\n",
      "    https://scikit-learn.org/stable/modules/preprocessing.html\n",
      "Please also refer to the documentation for alternative solver options:\n",
      "    https://scikit-learn.org/stable/modules/linear_model.html#logistic-regression\n",
      "  n_iter_i = _check_optimize_result(\n"
     ]
    },
    {
     "name": "stdout",
     "output_type": "stream",
     "text": [
      "Linear Probe Accuracy (Hidden Two): 91.26%\n",
      "\n",
      "##################################################\n",
      "Loss factor: 0.006\n",
      "\n",
      "\n"
     ]
    },
    {
     "name": "stderr",
     "output_type": "stream",
     "text": [
      "                                                                                                                               \r"
     ]
    },
    {
     "name": "stdout",
     "output_type": "stream",
     "text": [
      "Epoch 1/20\n",
      "  Train Loss: 1.0078\n",
      "  SAE Train Loss (hidden one): 8.9391\n",
      "  SAE Train Loss (hidden two): 1.1738\n",
      "  Val Loss: 0.4736 | Val Acc: 85.84%\n",
      "  Saved model with Val Acc: 85.84%\n"
     ]
    },
    {
     "name": "stderr",
     "output_type": "stream",
     "text": [
      "                                                                                                                               \r"
     ]
    },
    {
     "name": "stdout",
     "output_type": "stream",
     "text": [
      "Epoch 2/20\n",
      "  Train Loss: 0.4240\n",
      "  SAE Train Loss (hidden one): 0.5181\n",
      "  SAE Train Loss (hidden two): 0.1015\n",
      "  Val Loss: 0.3982 | Val Acc: 88.56%\n",
      "  Saved model with Val Acc: 88.56%\n"
     ]
    },
    {
     "name": "stderr",
     "output_type": "stream",
     "text": [
      "                                                                                                                               \r"
     ]
    },
    {
     "name": "stdout",
     "output_type": "stream",
     "text": [
      "Epoch 3/20\n",
      "  Train Loss: 0.3567\n",
      "  SAE Train Loss (hidden one): 0.6195\n",
      "  SAE Train Loss (hidden two): 0.1075\n",
      "  Val Loss: 0.3707 | Val Acc: 89.40%\n",
      "  Saved model with Val Acc: 89.40%\n"
     ]
    },
    {
     "name": "stderr",
     "output_type": "stream",
     "text": [
      "                                                                                                                               \r"
     ]
    },
    {
     "name": "stdout",
     "output_type": "stream",
     "text": [
      "Epoch 4/20\n",
      "  Train Loss: 0.3336\n",
      "  SAE Train Loss (hidden one): 0.5939\n",
      "  SAE Train Loss (hidden two): 0.0951\n",
      "  Val Loss: 0.3685 | Val Acc: 88.81%\n"
     ]
    },
    {
     "name": "stderr",
     "output_type": "stream",
     "text": [
      "                                                                                                                               \r"
     ]
    },
    {
     "name": "stdout",
     "output_type": "stream",
     "text": [
      "Epoch 5/20\n",
      "  Train Loss: 0.3178\n",
      "  SAE Train Loss (hidden one): 0.6918\n",
      "  SAE Train Loss (hidden two): 0.0891\n",
      "  Val Loss: 0.3412 | Val Acc: 90.04%\n",
      "  Saved model with Val Acc: 90.04%\n"
     ]
    },
    {
     "name": "stderr",
     "output_type": "stream",
     "text": [
      "                                                                                                                               \r"
     ]
    },
    {
     "name": "stdout",
     "output_type": "stream",
     "text": [
      "Epoch 6/20\n",
      "  Train Loss: 0.3076\n",
      "  SAE Train Loss (hidden one): 0.6375\n",
      "  SAE Train Loss (hidden two): 0.0874\n",
      "  Val Loss: 0.3467 | Val Acc: 89.90%\n"
     ]
    },
    {
     "name": "stderr",
     "output_type": "stream",
     "text": [
      "                                                                                                                               \r"
     ]
    },
    {
     "name": "stdout",
     "output_type": "stream",
     "text": [
      "Epoch 7/20\n",
      "  Train Loss: 0.3007\n",
      "  SAE Train Loss (hidden one): 0.6408\n",
      "  SAE Train Loss (hidden two): 0.0818\n",
      "  Val Loss: 0.3272 | Val Acc: 90.55%\n",
      "  Saved model with Val Acc: 90.55%\n"
     ]
    },
    {
     "name": "stderr",
     "output_type": "stream",
     "text": [
      "                                                                                                                               \r"
     ]
    },
    {
     "name": "stdout",
     "output_type": "stream",
     "text": [
      "Epoch 8/20\n",
      "  Train Loss: 0.2954\n",
      "  SAE Train Loss (hidden one): 0.6296\n",
      "  SAE Train Loss (hidden two): 0.0802\n",
      "  Val Loss: 0.3090 | Val Acc: 91.23%\n",
      "  Saved model with Val Acc: 91.23%\n"
     ]
    },
    {
     "name": "stderr",
     "output_type": "stream",
     "text": [
      "                                                                                                                               \r"
     ]
    },
    {
     "name": "stdout",
     "output_type": "stream",
     "text": [
      "Epoch 9/20\n",
      "  Train Loss: 0.2862\n",
      "  SAE Train Loss (hidden one): 0.6328\n",
      "  SAE Train Loss (hidden two): 0.0766\n",
      "  Val Loss: 0.3374 | Val Acc: 90.20%\n"
     ]
    },
    {
     "name": "stderr",
     "output_type": "stream",
     "text": [
      "                                                                                                                               \r"
     ]
    },
    {
     "name": "stdout",
     "output_type": "stream",
     "text": [
      "Epoch 10/20\n",
      "  Train Loss: 0.2839\n",
      "  SAE Train Loss (hidden one): 0.6290\n",
      "  SAE Train Loss (hidden two): 0.0709\n",
      "  Val Loss: 0.3103 | Val Acc: 90.99%\n"
     ]
    },
    {
     "name": "stderr",
     "output_type": "stream",
     "text": [
      "                                                                                                                               \r"
     ]
    },
    {
     "name": "stdout",
     "output_type": "stream",
     "text": [
      "Epoch 11/20\n",
      "  Train Loss: 0.2770\n",
      "  SAE Train Loss (hidden one): 0.6375\n",
      "  SAE Train Loss (hidden two): 0.0694\n",
      "  Val Loss: 0.3147 | Val Acc: 90.77%\n"
     ]
    },
    {
     "name": "stderr",
     "output_type": "stream",
     "text": [
      "                                                                                                                               \r"
     ]
    },
    {
     "name": "stdout",
     "output_type": "stream",
     "text": [
      "Epoch 12/20\n",
      "  Train Loss: 0.2746\n",
      "  SAE Train Loss (hidden one): 0.7142\n",
      "  SAE Train Loss (hidden two): 0.0693\n",
      "  Val Loss: 0.3075 | Val Acc: 91.30%\n",
      "  Saved model with Val Acc: 91.30%\n"
     ]
    },
    {
     "name": "stderr",
     "output_type": "stream",
     "text": [
      "                                                                                                                               \r"
     ]
    },
    {
     "name": "stdout",
     "output_type": "stream",
     "text": [
      "Epoch 13/20\n",
      "  Train Loss: 0.2717\n",
      "  SAE Train Loss (hidden one): 0.6547\n",
      "  SAE Train Loss (hidden two): 0.0651\n",
      "  Val Loss: 0.2922 | Val Acc: 91.30%\n",
      "  Saved model with same Val Acc: 91.30% but lower Val Loss: 0.2922\n"
     ]
    },
    {
     "name": "stderr",
     "output_type": "stream",
     "text": [
      "                                                                                                                               \r"
     ]
    },
    {
     "name": "stdout",
     "output_type": "stream",
     "text": [
      "Epoch 14/20\n",
      "  Train Loss: 0.2669\n",
      "  SAE Train Loss (hidden one): 0.6568\n",
      "  SAE Train Loss (hidden two): 0.0625\n",
      "  Val Loss: 0.3136 | Val Acc: 91.04%\n"
     ]
    },
    {
     "name": "stderr",
     "output_type": "stream",
     "text": [
      "                                                                                                                               \r"
     ]
    },
    {
     "name": "stdout",
     "output_type": "stream",
     "text": [
      "Epoch 15/20\n",
      "  Train Loss: 0.2636\n",
      "  SAE Train Loss (hidden one): 0.7586\n",
      "  SAE Train Loss (hidden two): 0.0617\n",
      "  Val Loss: 0.3038 | Val Acc: 91.40%\n",
      "  Saved model with Val Acc: 91.40%\n"
     ]
    },
    {
     "name": "stderr",
     "output_type": "stream",
     "text": [
      "                                                                                                                               \r"
     ]
    },
    {
     "name": "stdout",
     "output_type": "stream",
     "text": [
      "Epoch 16/20\n",
      "  Train Loss: 0.2632\n",
      "  SAE Train Loss (hidden one): 0.6630\n",
      "  SAE Train Loss (hidden two): 0.0601\n",
      "  Val Loss: 0.3094 | Val Acc: 91.15%\n"
     ]
    },
    {
     "name": "stderr",
     "output_type": "stream",
     "text": [
      "                                                                                                                               \r"
     ]
    },
    {
     "name": "stdout",
     "output_type": "stream",
     "text": [
      "Epoch 17/20\n",
      "  Train Loss: 0.2565\n",
      "  SAE Train Loss (hidden one): 0.6985\n",
      "  SAE Train Loss (hidden two): 0.0566\n",
      "  Val Loss: 0.3043 | Val Acc: 91.18%\n"
     ]
    },
    {
     "name": "stderr",
     "output_type": "stream",
     "text": [
      "                                                                                                                               \r"
     ]
    },
    {
     "name": "stdout",
     "output_type": "stream",
     "text": [
      "Epoch 18/20\n",
      "  Train Loss: 0.2605\n",
      "  SAE Train Loss (hidden one): 0.7256\n",
      "  SAE Train Loss (hidden two): 0.0561\n",
      "  Val Loss: 0.2915 | Val Acc: 91.61%\n",
      "  Saved model with Val Acc: 91.61%\n"
     ]
    },
    {
     "name": "stderr",
     "output_type": "stream",
     "text": [
      "                                                                                                                               \r"
     ]
    },
    {
     "name": "stdout",
     "output_type": "stream",
     "text": [
      "Epoch 19/20\n",
      "  Train Loss: 0.2548\n",
      "  SAE Train Loss (hidden one): 0.8211\n",
      "  SAE Train Loss (hidden two): 0.0546\n",
      "  Val Loss: 0.2921 | Val Acc: 91.75%\n",
      "  Saved model with Val Acc: 91.75%\n"
     ]
    },
    {
     "name": "stderr",
     "output_type": "stream",
     "text": [
      "                                                                                                                               \r"
     ]
    },
    {
     "name": "stdout",
     "output_type": "stream",
     "text": [
      "Epoch 20/20\n",
      "  Train Loss: 0.2510\n",
      "  SAE Train Loss (hidden one): 0.7354\n",
      "  SAE Train Loss (hidden two): 0.0534\n",
      "  Val Loss: 0.3026 | Val Acc: 91.43%\n"
     ]
    },
    {
     "name": "stderr",
     "output_type": "stream",
     "text": [
      "Evaluation: 100%|█████████████████████████████████████████████████████████████████████████████| 79/79 [00:00<00:00, 249.81it/s]"
     ]
    },
    {
     "name": "stdout",
     "output_type": "stream",
     "text": [
      "Final Test Accuracy: 92.00%\n",
      "Average Reconstruction Error (Hidden One): 0.1415\n",
      "Average Reconstruction Error (Hidden Two): 0.0141\n",
      "Average Non-Zero Features per Image (Hidden One): 33.41\n",
      "Average Non-Zero Features per Image (Hidden Two): 35.17\n"
     ]
    },
    {
     "name": "stderr",
     "output_type": "stream",
     "text": [
      "\n",
      "/home/alex/.local/lib/python3.10/site-packages/sklearn/linear_model/_logistic.py:469: ConvergenceWarning: lbfgs failed to converge (status=1):\n",
      "STOP: TOTAL NO. of ITERATIONS REACHED LIMIT.\n",
      "\n",
      "Increase the number of iterations (max_iter) or scale the data as shown in:\n",
      "    https://scikit-learn.org/stable/modules/preprocessing.html\n",
      "Please also refer to the documentation for alternative solver options:\n",
      "    https://scikit-learn.org/stable/modules/linear_model.html#logistic-regression\n",
      "  n_iter_i = _check_optimize_result(\n"
     ]
    },
    {
     "name": "stdout",
     "output_type": "stream",
     "text": [
      "Linear Probe Accuracy (Hidden One): 92.29%\n"
     ]
    },
    {
     "name": "stderr",
     "output_type": "stream",
     "text": [
      "/home/alex/.local/lib/python3.10/site-packages/sklearn/linear_model/_logistic.py:469: ConvergenceWarning: lbfgs failed to converge (status=1):\n",
      "STOP: TOTAL NO. of ITERATIONS REACHED LIMIT.\n",
      "\n",
      "Increase the number of iterations (max_iter) or scale the data as shown in:\n",
      "    https://scikit-learn.org/stable/modules/preprocessing.html\n",
      "Please also refer to the documentation for alternative solver options:\n",
      "    https://scikit-learn.org/stable/modules/linear_model.html#logistic-regression\n",
      "  n_iter_i = _check_optimize_result(\n"
     ]
    },
    {
     "name": "stdout",
     "output_type": "stream",
     "text": [
      "Linear Probe Accuracy (Hidden Two): 92.07%\n",
      "\n",
      "##################################################\n",
      "Loss factor: 0.007\n",
      "\n",
      "\n"
     ]
    },
    {
     "name": "stderr",
     "output_type": "stream",
     "text": [
      "                                                                                                                               \r"
     ]
    },
    {
     "name": "stdout",
     "output_type": "stream",
     "text": [
      "Epoch 1/20\n",
      "  Train Loss: 1.0610\n",
      "  SAE Train Loss (hidden one): 8.5880\n",
      "  SAE Train Loss (hidden two): 1.1712\n",
      "  Val Loss: 0.6592 | Val Acc: 83.05%\n",
      "  Saved model with Val Acc: 83.05%\n"
     ]
    },
    {
     "name": "stderr",
     "output_type": "stream",
     "text": [
      "                                                                                                                               \r"
     ]
    },
    {
     "name": "stdout",
     "output_type": "stream",
     "text": [
      "Epoch 2/20\n",
      "  Train Loss: 0.5262\n",
      "  SAE Train Loss (hidden one): 0.5420\n",
      "  SAE Train Loss (hidden two): 0.1119\n",
      "  Val Loss: 0.5060 | Val Acc: 85.68%\n",
      "  Saved model with Val Acc: 85.68%\n"
     ]
    },
    {
     "name": "stderr",
     "output_type": "stream",
     "text": [
      "                                                                                                                               \r"
     ]
    },
    {
     "name": "stdout",
     "output_type": "stream",
     "text": [
      "Epoch 3/20\n",
      "  Train Loss: 0.4080\n",
      "  SAE Train Loss (hidden one): 0.5400\n",
      "  SAE Train Loss (hidden two): 0.0921\n",
      "  Val Loss: 0.4207 | Val Acc: 88.05%\n",
      "  Saved model with Val Acc: 88.05%\n"
     ]
    },
    {
     "name": "stderr",
     "output_type": "stream",
     "text": [
      "                                                                                                                               \r"
     ]
    },
    {
     "name": "stdout",
     "output_type": "stream",
     "text": [
      "Epoch 4/20\n",
      "  Train Loss: 0.3691\n",
      "  SAE Train Loss (hidden one): 0.5556\n",
      "  SAE Train Loss (hidden two): 0.0839\n",
      "  Val Loss: 0.3786 | Val Acc: 89.24%\n",
      "  Saved model with Val Acc: 89.24%\n"
     ]
    },
    {
     "name": "stderr",
     "output_type": "stream",
     "text": [
      "                                                                                                                               \r"
     ]
    },
    {
     "name": "stdout",
     "output_type": "stream",
     "text": [
      "Epoch 5/20\n",
      "  Train Loss: 0.3486\n",
      "  SAE Train Loss (hidden one): 0.5034\n",
      "  SAE Train Loss (hidden two): 0.0755\n",
      "  Val Loss: 0.3645 | Val Acc: 89.19%\n"
     ]
    },
    {
     "name": "stderr",
     "output_type": "stream",
     "text": [
      "                                                                                                                               \r"
     ]
    },
    {
     "name": "stdout",
     "output_type": "stream",
     "text": [
      "Epoch 6/20\n",
      "  Train Loss: 0.3300\n",
      "  SAE Train Loss (hidden one): 0.5188\n",
      "  SAE Train Loss (hidden two): 0.0698\n",
      "  Val Loss: 0.3411 | Val Acc: 90.24%\n",
      "  Saved model with Val Acc: 90.24%\n"
     ]
    },
    {
     "name": "stderr",
     "output_type": "stream",
     "text": [
      "                                                                                                                               \r"
     ]
    },
    {
     "name": "stdout",
     "output_type": "stream",
     "text": [
      "Epoch 7/20\n",
      "  Train Loss: 0.3209\n",
      "  SAE Train Loss (hidden one): 0.5081\n",
      "  SAE Train Loss (hidden two): 0.0665\n",
      "  Val Loss: 0.3487 | Val Acc: 89.99%\n"
     ]
    },
    {
     "name": "stderr",
     "output_type": "stream",
     "text": [
      "                                                                                                                               \r"
     ]
    },
    {
     "name": "stdout",
     "output_type": "stream",
     "text": [
      "Epoch 8/20\n",
      "  Train Loss: 0.3164\n",
      "  SAE Train Loss (hidden one): 0.5276\n",
      "  SAE Train Loss (hidden two): 0.0620\n",
      "  Val Loss: 0.3706 | Val Acc: 89.88%\n"
     ]
    },
    {
     "name": "stderr",
     "output_type": "stream",
     "text": [
      "                                                                                                                               \r"
     ]
    },
    {
     "name": "stdout",
     "output_type": "stream",
     "text": [
      "Epoch 9/20\n",
      "  Train Loss: 0.3087\n",
      "  SAE Train Loss (hidden one): 0.5634\n",
      "  SAE Train Loss (hidden two): 0.0602\n",
      "  Val Loss: 0.3469 | Val Acc: 89.79%\n"
     ]
    },
    {
     "name": "stderr",
     "output_type": "stream",
     "text": [
      "                                                                                                                               \r"
     ]
    },
    {
     "name": "stdout",
     "output_type": "stream",
     "text": [
      "Epoch 10/20\n",
      "  Train Loss: 0.3044\n",
      "  SAE Train Loss (hidden one): 0.4591\n",
      "  SAE Train Loss (hidden two): 0.0552\n",
      "  Val Loss: 0.3429 | Val Acc: 90.00%\n"
     ]
    },
    {
     "name": "stderr",
     "output_type": "stream",
     "text": [
      "                                                                                                                               \r"
     ]
    },
    {
     "name": "stdout",
     "output_type": "stream",
     "text": [
      "Epoch 11/20\n",
      "  Train Loss: 0.3008\n",
      "  SAE Train Loss (hidden one): 0.5448\n",
      "  SAE Train Loss (hidden two): 0.0536\n",
      "  Val Loss: 0.3272 | Val Acc: 90.63%\n",
      "  Saved model with Val Acc: 90.63%\n"
     ]
    },
    {
     "name": "stderr",
     "output_type": "stream",
     "text": [
      "                                                                                                                               \r"
     ]
    },
    {
     "name": "stdout",
     "output_type": "stream",
     "text": [
      "Epoch 12/20\n",
      "  Train Loss: 0.2953\n",
      "  SAE Train Loss (hidden one): 0.5099\n",
      "  SAE Train Loss (hidden two): 0.0511\n",
      "  Val Loss: 0.3326 | Val Acc: 90.21%\n"
     ]
    },
    {
     "name": "stderr",
     "output_type": "stream",
     "text": [
      "                                                                                                                               \r"
     ]
    },
    {
     "name": "stdout",
     "output_type": "stream",
     "text": [
      "Epoch 13/20\n",
      "  Train Loss: 0.2936\n",
      "  SAE Train Loss (hidden one): 0.5662\n",
      "  SAE Train Loss (hidden two): 0.0503\n",
      "  Val Loss: 0.3301 | Val Acc: 90.74%\n",
      "  Saved model with Val Acc: 90.74%\n"
     ]
    },
    {
     "name": "stderr",
     "output_type": "stream",
     "text": [
      "                                                                                                                               \r"
     ]
    },
    {
     "name": "stdout",
     "output_type": "stream",
     "text": [
      "Epoch 14/20\n",
      "  Train Loss: 0.2884\n",
      "  SAE Train Loss (hidden one): 0.5538\n",
      "  SAE Train Loss (hidden two): 0.0476\n",
      "  Val Loss: 0.3274 | Val Acc: 90.69%\n"
     ]
    },
    {
     "name": "stderr",
     "output_type": "stream",
     "text": [
      "                                                                                                                               \r"
     ]
    },
    {
     "name": "stdout",
     "output_type": "stream",
     "text": [
      "Epoch 15/20\n",
      "  Train Loss: 0.2886\n",
      "  SAE Train Loss (hidden one): 0.5485\n",
      "  SAE Train Loss (hidden two): 0.0459\n",
      "  Val Loss: 0.3378 | Val Acc: 90.40%\n"
     ]
    },
    {
     "name": "stderr",
     "output_type": "stream",
     "text": [
      "                                                                                                                               \r"
     ]
    },
    {
     "name": "stdout",
     "output_type": "stream",
     "text": [
      "Epoch 16/20\n",
      "  Train Loss: 0.2848\n",
      "  SAE Train Loss (hidden one): 0.5685\n",
      "  SAE Train Loss (hidden two): 0.0463\n",
      "  Val Loss: 0.3248 | Val Acc: 90.52%\n"
     ]
    },
    {
     "name": "stderr",
     "output_type": "stream",
     "text": [
      "                                                                                                                               \r"
     ]
    },
    {
     "name": "stdout",
     "output_type": "stream",
     "text": [
      "Epoch 17/20\n",
      "  Train Loss: 0.2831\n",
      "  SAE Train Loss (hidden one): 0.6054\n",
      "  SAE Train Loss (hidden two): 0.0463\n",
      "  Val Loss: 0.3162 | Val Acc: 90.79%\n",
      "  Saved model with Val Acc: 90.79%\n"
     ]
    },
    {
     "name": "stderr",
     "output_type": "stream",
     "text": [
      "                                                                                                                               \r"
     ]
    },
    {
     "name": "stdout",
     "output_type": "stream",
     "text": [
      "Epoch 18/20\n",
      "  Train Loss: 0.2822\n",
      "  SAE Train Loss (hidden one): 0.5572\n",
      "  SAE Train Loss (hidden two): 0.0457\n",
      "  Val Loss: 0.3261 | Val Acc: 90.39%\n"
     ]
    },
    {
     "name": "stderr",
     "output_type": "stream",
     "text": [
      "                                                                                                                               \r"
     ]
    },
    {
     "name": "stdout",
     "output_type": "stream",
     "text": [
      "Epoch 19/20\n",
      "  Train Loss: 0.2807\n",
      "  SAE Train Loss (hidden one): 0.6573\n",
      "  SAE Train Loss (hidden two): 0.0463\n",
      "  Val Loss: 0.3491 | Val Acc: 89.51%\n"
     ]
    },
    {
     "name": "stderr",
     "output_type": "stream",
     "text": [
      "                                                                                                                               \r"
     ]
    },
    {
     "name": "stdout",
     "output_type": "stream",
     "text": [
      "Epoch 20/20\n",
      "  Train Loss: 0.2796\n",
      "  SAE Train Loss (hidden one): 0.5753\n",
      "  SAE Train Loss (hidden two): 0.0447\n",
      "  Val Loss: 0.3195 | Val Acc: 90.84%\n",
      "  Saved model with Val Acc: 90.84%\n"
     ]
    },
    {
     "name": "stderr",
     "output_type": "stream",
     "text": [
      "Evaluation: 100%|█████████████████████████████████████████████████████████████████████████████| 79/79 [00:00<00:00, 254.81it/s]\n"
     ]
    },
    {
     "name": "stdout",
     "output_type": "stream",
     "text": [
      "Final Test Accuracy: 91.14%\n",
      "Average Reconstruction Error (Hidden One): 0.1465\n",
      "Average Reconstruction Error (Hidden Two): 0.0091\n",
      "Average Non-Zero Features per Image (Hidden One): 31.67\n",
      "Average Non-Zero Features per Image (Hidden Two): 32.62\n"
     ]
    },
    {
     "name": "stderr",
     "output_type": "stream",
     "text": [
      "/home/alex/.local/lib/python3.10/site-packages/sklearn/linear_model/_logistic.py:469: ConvergenceWarning: lbfgs failed to converge (status=1):\n",
      "STOP: TOTAL NO. of ITERATIONS REACHED LIMIT.\n",
      "\n",
      "Increase the number of iterations (max_iter) or scale the data as shown in:\n",
      "    https://scikit-learn.org/stable/modules/preprocessing.html\n",
      "Please also refer to the documentation for alternative solver options:\n",
      "    https://scikit-learn.org/stable/modules/linear_model.html#logistic-regression\n",
      "  n_iter_i = _check_optimize_result(\n"
     ]
    },
    {
     "name": "stdout",
     "output_type": "stream",
     "text": [
      "Linear Probe Accuracy (Hidden One): 91.28%\n"
     ]
    },
    {
     "name": "stderr",
     "output_type": "stream",
     "text": [
      "/home/alex/.local/lib/python3.10/site-packages/sklearn/linear_model/_logistic.py:469: ConvergenceWarning: lbfgs failed to converge (status=1):\n",
      "STOP: TOTAL NO. of ITERATIONS REACHED LIMIT.\n",
      "\n",
      "Increase the number of iterations (max_iter) or scale the data as shown in:\n",
      "    https://scikit-learn.org/stable/modules/preprocessing.html\n",
      "Please also refer to the documentation for alternative solver options:\n",
      "    https://scikit-learn.org/stable/modules/linear_model.html#logistic-regression\n",
      "  n_iter_i = _check_optimize_result(\n"
     ]
    },
    {
     "name": "stdout",
     "output_type": "stream",
     "text": [
      "Linear Probe Accuracy (Hidden Two): 91.25%\n",
      "\n",
      "##################################################\n",
      "Loss factor: 0.008\n",
      "\n",
      "\n"
     ]
    },
    {
     "name": "stderr",
     "output_type": "stream",
     "text": [
      "                                                                                                                               \r"
     ]
    },
    {
     "name": "stdout",
     "output_type": "stream",
     "text": [
      "Epoch 1/20\n",
      "  Train Loss: 1.0458\n",
      "  SAE Train Loss (hidden one): 8.6281\n",
      "  SAE Train Loss (hidden two): 1.1794\n",
      "  Val Loss: 0.5956 | Val Acc: 84.70%\n",
      "  Saved model with Val Acc: 84.70%\n"
     ]
    },
    {
     "name": "stderr",
     "output_type": "stream",
     "text": [
      "                                                                                                                               \r"
     ]
    },
    {
     "name": "stdout",
     "output_type": "stream",
     "text": [
      "Epoch 2/20\n",
      "  Train Loss: 0.4944\n",
      "  SAE Train Loss (hidden one): 0.8742\n",
      "  SAE Train Loss (hidden two): 0.1305\n",
      "  Val Loss: 0.4481 | Val Acc: 86.87%\n",
      "  Saved model with Val Acc: 86.87%\n"
     ]
    },
    {
     "name": "stderr",
     "output_type": "stream",
     "text": [
      "                                                                                                                               \r"
     ]
    },
    {
     "name": "stdout",
     "output_type": "stream",
     "text": [
      "Epoch 3/20\n",
      "  Train Loss: 0.3763\n",
      "  SAE Train Loss (hidden one): 0.9193\n",
      "  SAE Train Loss (hidden two): 0.1287\n",
      "  Val Loss: 0.4021 | Val Acc: 88.59%\n",
      "  Saved model with Val Acc: 88.59%\n"
     ]
    },
    {
     "name": "stderr",
     "output_type": "stream",
     "text": [
      "                                                                                                                               \r"
     ]
    },
    {
     "name": "stdout",
     "output_type": "stream",
     "text": [
      "Epoch 4/20\n",
      "  Train Loss: 0.3450\n",
      "  SAE Train Loss (hidden one): 0.8398\n",
      "  SAE Train Loss (hidden two): 0.1113\n",
      "  Val Loss: 0.3499 | Val Acc: 90.01%\n",
      "  Saved model with Val Acc: 90.01%\n"
     ]
    },
    {
     "name": "stderr",
     "output_type": "stream",
     "text": [
      "                                                                                                                               \r"
     ]
    },
    {
     "name": "stdout",
     "output_type": "stream",
     "text": [
      "Epoch 5/20\n",
      "  Train Loss: 0.3280\n",
      "  SAE Train Loss (hidden one): 0.7762\n",
      "  SAE Train Loss (hidden two): 0.1018\n",
      "  Val Loss: 0.3401 | Val Acc: 90.19%\n",
      "  Saved model with Val Acc: 90.19%\n"
     ]
    },
    {
     "name": "stderr",
     "output_type": "stream",
     "text": [
      "                                                                                                                               \r"
     ]
    },
    {
     "name": "stdout",
     "output_type": "stream",
     "text": [
      "Epoch 6/20\n",
      "  Train Loss: 0.3079\n",
      "  SAE Train Loss (hidden one): 0.9032\n",
      "  SAE Train Loss (hidden two): 0.0958\n",
      "  Val Loss: 0.3198 | Val Acc: 90.62%\n",
      "  Saved model with Val Acc: 90.62%\n"
     ]
    },
    {
     "name": "stderr",
     "output_type": "stream",
     "text": [
      "                                                                                                                               \r"
     ]
    },
    {
     "name": "stdout",
     "output_type": "stream",
     "text": [
      "Epoch 7/20\n",
      "  Train Loss: 0.3034\n",
      "  SAE Train Loss (hidden one): 0.7835\n",
      "  SAE Train Loss (hidden two): 0.0933\n",
      "  Val Loss: 0.3150 | Val Acc: 90.75%\n",
      "  Saved model with Val Acc: 90.75%\n"
     ]
    },
    {
     "name": "stderr",
     "output_type": "stream",
     "text": [
      "                                                                                                                               \r"
     ]
    },
    {
     "name": "stdout",
     "output_type": "stream",
     "text": [
      "Epoch 8/20\n",
      "  Train Loss: 0.2936\n",
      "  SAE Train Loss (hidden one): 0.8867\n",
      "  SAE Train Loss (hidden two): 0.0885\n",
      "  Val Loss: 0.3310 | Val Acc: 90.58%\n"
     ]
    },
    {
     "name": "stderr",
     "output_type": "stream",
     "text": [
      "                                                                                                                               \r"
     ]
    },
    {
     "name": "stdout",
     "output_type": "stream",
     "text": [
      "Epoch 9/20\n",
      "  Train Loss: 0.2840\n",
      "  SAE Train Loss (hidden one): 0.7661\n",
      "  SAE Train Loss (hidden two): 0.0816\n",
      "  Val Loss: 0.3252 | Val Acc: 90.61%\n"
     ]
    },
    {
     "name": "stderr",
     "output_type": "stream",
     "text": [
      "                                                                                                                               \r"
     ]
    },
    {
     "name": "stdout",
     "output_type": "stream",
     "text": [
      "Epoch 10/20\n",
      "  Train Loss: 0.2777\n",
      "  SAE Train Loss (hidden one): 0.7243\n",
      "  SAE Train Loss (hidden two): 0.0787\n",
      "  Val Loss: 0.3090 | Val Acc: 90.88%\n",
      "  Saved model with Val Acc: 90.88%\n"
     ]
    },
    {
     "name": "stderr",
     "output_type": "stream",
     "text": [
      "                                                                                                                               \r"
     ]
    },
    {
     "name": "stdout",
     "output_type": "stream",
     "text": [
      "Epoch 11/20\n",
      "  Train Loss: 0.2744\n",
      "  SAE Train Loss (hidden one): 0.7736\n",
      "  SAE Train Loss (hidden two): 0.0781\n",
      "  Val Loss: 0.3016 | Val Acc: 90.93%\n",
      "  Saved model with Val Acc: 90.93%\n"
     ]
    },
    {
     "name": "stderr",
     "output_type": "stream",
     "text": [
      "                                                                                                                               \r"
     ]
    },
    {
     "name": "stdout",
     "output_type": "stream",
     "text": [
      "Epoch 12/20\n",
      "  Train Loss: 0.2673\n",
      "  SAE Train Loss (hidden one): 0.7572\n",
      "  SAE Train Loss (hidden two): 0.0727\n",
      "  Val Loss: 0.3114 | Val Acc: 91.01%\n",
      "  Saved model with Val Acc: 91.01%\n"
     ]
    },
    {
     "name": "stderr",
     "output_type": "stream",
     "text": [
      "                                                                                                                               \r"
     ]
    },
    {
     "name": "stdout",
     "output_type": "stream",
     "text": [
      "Epoch 13/20\n",
      "  Train Loss: 0.2672\n",
      "  SAE Train Loss (hidden one): 0.8712\n",
      "  SAE Train Loss (hidden two): 0.0711\n",
      "  Val Loss: 0.3103 | Val Acc: 90.85%\n"
     ]
    },
    {
     "name": "stderr",
     "output_type": "stream",
     "text": [
      "                                                                                                                               \r"
     ]
    },
    {
     "name": "stdout",
     "output_type": "stream",
     "text": [
      "Epoch 14/20\n",
      "  Train Loss: 0.2642\n",
      "  SAE Train Loss (hidden one): 0.7382\n",
      "  SAE Train Loss (hidden two): 0.0674\n",
      "  Val Loss: 0.3146 | Val Acc: 90.85%\n"
     ]
    },
    {
     "name": "stderr",
     "output_type": "stream",
     "text": [
      "                                                                                                                               \r"
     ]
    },
    {
     "name": "stdout",
     "output_type": "stream",
     "text": [
      "Epoch 15/20\n",
      "  Train Loss: 0.2615\n",
      "  SAE Train Loss (hidden one): 0.8373\n",
      "  SAE Train Loss (hidden two): 0.0651\n",
      "  Val Loss: 0.3047 | Val Acc: 91.24%\n",
      "  Saved model with Val Acc: 91.24%\n"
     ]
    },
    {
     "name": "stderr",
     "output_type": "stream",
     "text": [
      "                                                                                                                               \r"
     ]
    },
    {
     "name": "stdout",
     "output_type": "stream",
     "text": [
      "Epoch 16/20\n",
      "  Train Loss: 0.2602\n",
      "  SAE Train Loss (hidden one): 0.7971\n",
      "  SAE Train Loss (hidden two): 0.0646\n",
      "  Val Loss: 0.3295 | Val Acc: 90.52%\n"
     ]
    },
    {
     "name": "stderr",
     "output_type": "stream",
     "text": [
      "                                                                                                                               \r"
     ]
    },
    {
     "name": "stdout",
     "output_type": "stream",
     "text": [
      "Epoch 17/20\n",
      "  Train Loss: 0.2558\n",
      "  SAE Train Loss (hidden one): 1.3891\n",
      "  SAE Train Loss (hidden two): 0.0639\n",
      "  Val Loss: 0.2924 | Val Acc: 91.50%\n",
      "  Saved model with Val Acc: 91.50%\n"
     ]
    },
    {
     "name": "stderr",
     "output_type": "stream",
     "text": [
      "                                                                                                                               \r"
     ]
    },
    {
     "name": "stdout",
     "output_type": "stream",
     "text": [
      "Epoch 18/20\n",
      "  Train Loss: 0.2498\n",
      "  SAE Train Loss (hidden one): 1.1550\n",
      "  SAE Train Loss (hidden two): 0.0606\n",
      "  Val Loss: 0.2896 | Val Acc: 92.08%\n",
      "  Saved model with Val Acc: 92.08%\n"
     ]
    },
    {
     "name": "stderr",
     "output_type": "stream",
     "text": [
      "                                                                                                                               \r"
     ]
    },
    {
     "name": "stdout",
     "output_type": "stream",
     "text": [
      "Epoch 19/20\n",
      "  Train Loss: 0.2529\n",
      "  SAE Train Loss (hidden one): 1.5176\n",
      "  SAE Train Loss (hidden two): 0.0622\n",
      "  Val Loss: 0.2933 | Val Acc: 91.35%\n"
     ]
    },
    {
     "name": "stderr",
     "output_type": "stream",
     "text": [
      "                                                                                                                               \r"
     ]
    },
    {
     "name": "stdout",
     "output_type": "stream",
     "text": [
      "Epoch 20/20\n",
      "  Train Loss: 0.2431\n",
      "  SAE Train Loss (hidden one): 1.4409\n",
      "  SAE Train Loss (hidden two): 0.0605\n",
      "  Val Loss: 0.2835 | Val Acc: 91.83%\n"
     ]
    },
    {
     "name": "stderr",
     "output_type": "stream",
     "text": [
      "Evaluation: 100%|█████████████████████████████████████████████████████████████████████████████| 79/79 [00:00<00:00, 256.92it/s]"
     ]
    },
    {
     "name": "stdout",
     "output_type": "stream",
     "text": [
      "Final Test Accuracy: 91.99%\n",
      "Average Reconstruction Error (Hidden One): 0.7879\n",
      "Average Reconstruction Error (Hidden Two): 0.0141\n",
      "Average Non-Zero Features per Image (Hidden One): 33.13\n",
      "Average Non-Zero Features per Image (Hidden Two): 36.09\n"
     ]
    },
    {
     "name": "stderr",
     "output_type": "stream",
     "text": [
      "\n",
      "/home/alex/.local/lib/python3.10/site-packages/sklearn/linear_model/_logistic.py:469: ConvergenceWarning: lbfgs failed to converge (status=1):\n",
      "STOP: TOTAL NO. of ITERATIONS REACHED LIMIT.\n",
      "\n",
      "Increase the number of iterations (max_iter) or scale the data as shown in:\n",
      "    https://scikit-learn.org/stable/modules/preprocessing.html\n",
      "Please also refer to the documentation for alternative solver options:\n",
      "    https://scikit-learn.org/stable/modules/linear_model.html#logistic-regression\n",
      "  n_iter_i = _check_optimize_result(\n"
     ]
    },
    {
     "name": "stdout",
     "output_type": "stream",
     "text": [
      "Linear Probe Accuracy (Hidden One): 91.53%\n"
     ]
    },
    {
     "name": "stderr",
     "output_type": "stream",
     "text": [
      "/home/alex/.local/lib/python3.10/site-packages/sklearn/linear_model/_logistic.py:469: ConvergenceWarning: lbfgs failed to converge (status=1):\n",
      "STOP: TOTAL NO. of ITERATIONS REACHED LIMIT.\n",
      "\n",
      "Increase the number of iterations (max_iter) or scale the data as shown in:\n",
      "    https://scikit-learn.org/stable/modules/preprocessing.html\n",
      "Please also refer to the documentation for alternative solver options:\n",
      "    https://scikit-learn.org/stable/modules/linear_model.html#logistic-regression\n",
      "  n_iter_i = _check_optimize_result(\n"
     ]
    },
    {
     "name": "stdout",
     "output_type": "stream",
     "text": [
      "Linear Probe Accuracy (Hidden Two): 90.72%\n",
      "\n",
      "##################################################\n",
      "Loss factor: 0.009000000000000001\n",
      "\n",
      "\n"
     ]
    },
    {
     "name": "stderr",
     "output_type": "stream",
     "text": [
      "                                                                                                                               \r"
     ]
    },
    {
     "name": "stdout",
     "output_type": "stream",
     "text": [
      "Epoch 1/20\n",
      "  Train Loss: 1.0408\n",
      "  SAE Train Loss (hidden one): 8.5471\n",
      "  SAE Train Loss (hidden two): 1.1584\n",
      "  Val Loss: 0.6140 | Val Acc: 84.78%\n",
      "  Saved model with Val Acc: 84.78%\n"
     ]
    },
    {
     "name": "stderr",
     "output_type": "stream",
     "text": [
      "                                                                                                                               \r"
     ]
    },
    {
     "name": "stdout",
     "output_type": "stream",
     "text": [
      "Epoch 2/20\n",
      "  Train Loss: 0.5155\n",
      "  SAE Train Loss (hidden one): 0.3924\n",
      "  SAE Train Loss (hidden two): 0.0882\n",
      "  Val Loss: 0.4562 | Val Acc: 87.29%\n",
      "  Saved model with Val Acc: 87.29%\n"
     ]
    },
    {
     "name": "stderr",
     "output_type": "stream",
     "text": [
      "                                                                                                                               \r"
     ]
    },
    {
     "name": "stdout",
     "output_type": "stream",
     "text": [
      "Epoch 3/20\n",
      "  Train Loss: 0.4037\n",
      "  SAE Train Loss (hidden one): 0.4635\n",
      "  SAE Train Loss (hidden two): 0.0825\n",
      "  Val Loss: 0.4152 | Val Acc: 88.36%\n",
      "  Saved model with Val Acc: 88.36%\n"
     ]
    },
    {
     "name": "stderr",
     "output_type": "stream",
     "text": [
      "                                                                                                                               \r"
     ]
    },
    {
     "name": "stdout",
     "output_type": "stream",
     "text": [
      "Epoch 4/20\n",
      "  Train Loss: 0.3706\n",
      "  SAE Train Loss (hidden one): 0.4484\n",
      "  SAE Train Loss (hidden two): 0.0765\n",
      "  Val Loss: 0.3868 | Val Acc: 88.75%\n",
      "  Saved model with Val Acc: 88.75%\n"
     ]
    },
    {
     "name": "stderr",
     "output_type": "stream",
     "text": [
      "                                                                                                                               \r"
     ]
    },
    {
     "name": "stdout",
     "output_type": "stream",
     "text": [
      "Epoch 5/20\n",
      "  Train Loss: 0.3533\n",
      "  SAE Train Loss (hidden one): 0.4773\n",
      "  SAE Train Loss (hidden two): 0.0731\n",
      "  Val Loss: 0.3590 | Val Acc: 89.60%\n",
      "  Saved model with Val Acc: 89.60%\n"
     ]
    },
    {
     "name": "stderr",
     "output_type": "stream",
     "text": [
      "                                                                                                                               \r"
     ]
    },
    {
     "name": "stdout",
     "output_type": "stream",
     "text": [
      "Epoch 6/20\n",
      "  Train Loss: 0.3411\n",
      "  SAE Train Loss (hidden one): 0.4891\n",
      "  SAE Train Loss (hidden two): 0.0678\n",
      "  Val Loss: 0.3622 | Val Acc: 89.72%\n",
      "  Saved model with Val Acc: 89.72%\n"
     ]
    },
    {
     "name": "stderr",
     "output_type": "stream",
     "text": [
      "                                                                                                                               \r"
     ]
    },
    {
     "name": "stdout",
     "output_type": "stream",
     "text": [
      "Epoch 7/20\n",
      "  Train Loss: 0.3309\n",
      "  SAE Train Loss (hidden one): 0.6854\n",
      "  SAE Train Loss (hidden two): 0.0668\n",
      "  Val Loss: 0.3502 | Val Acc: 90.16%\n",
      "  Saved model with Val Acc: 90.16%\n"
     ]
    },
    {
     "name": "stderr",
     "output_type": "stream",
     "text": [
      "                                                                                                                               \r"
     ]
    },
    {
     "name": "stdout",
     "output_type": "stream",
     "text": [
      "Epoch 8/20\n",
      "  Train Loss: 0.3240\n",
      "  SAE Train Loss (hidden one): 0.4876\n",
      "  SAE Train Loss (hidden two): 0.0608\n",
      "  Val Loss: 0.3349 | Val Acc: 90.63%\n",
      "  Saved model with Val Acc: 90.63%\n"
     ]
    },
    {
     "name": "stderr",
     "output_type": "stream",
     "text": [
      "                                                                                                                               \r"
     ]
    },
    {
     "name": "stdout",
     "output_type": "stream",
     "text": [
      "Epoch 9/20\n",
      "  Train Loss: 0.3154\n",
      "  SAE Train Loss (hidden one): 0.5765\n",
      "  SAE Train Loss (hidden two): 0.0587\n",
      "  Val Loss: 0.3614 | Val Acc: 89.46%\n"
     ]
    },
    {
     "name": "stderr",
     "output_type": "stream",
     "text": [
      "                                                                                                                               \r"
     ]
    },
    {
     "name": "stdout",
     "output_type": "stream",
     "text": [
      "Epoch 10/20\n",
      "  Train Loss: 0.3110\n",
      "  SAE Train Loss (hidden one): 0.4764\n",
      "  SAE Train Loss (hidden two): 0.0559\n",
      "  Val Loss: 0.3292 | Val Acc: 90.21%\n"
     ]
    },
    {
     "name": "stderr",
     "output_type": "stream",
     "text": [
      "                                                                                                                               \r"
     ]
    },
    {
     "name": "stdout",
     "output_type": "stream",
     "text": [
      "Epoch 11/20\n",
      "  Train Loss: 0.3066\n",
      "  SAE Train Loss (hidden one): 0.5047\n",
      "  SAE Train Loss (hidden two): 0.0532\n",
      "  Val Loss: 0.3244 | Val Acc: 90.64%\n",
      "  Saved model with Val Acc: 90.64%\n"
     ]
    },
    {
     "name": "stderr",
     "output_type": "stream",
     "text": [
      "                                                                                                                               \r"
     ]
    },
    {
     "name": "stdout",
     "output_type": "stream",
     "text": [
      "Epoch 12/20\n",
      "  Train Loss: 0.3004\n",
      "  SAE Train Loss (hidden one): 0.5281\n",
      "  SAE Train Loss (hidden two): 0.0508\n",
      "  Val Loss: 0.3290 | Val Acc: 90.52%\n"
     ]
    },
    {
     "name": "stderr",
     "output_type": "stream",
     "text": [
      "                                                                                                                               \r"
     ]
    },
    {
     "name": "stdout",
     "output_type": "stream",
     "text": [
      "Epoch 13/20\n",
      "  Train Loss: 0.3007\n",
      "  SAE Train Loss (hidden one): 0.5737\n",
      "  SAE Train Loss (hidden two): 0.0499\n",
      "  Val Loss: 0.3195 | Val Acc: 90.74%\n",
      "  Saved model with Val Acc: 90.74%\n"
     ]
    },
    {
     "name": "stderr",
     "output_type": "stream",
     "text": [
      "                                                                                                                               \r"
     ]
    },
    {
     "name": "stdout",
     "output_type": "stream",
     "text": [
      "Epoch 14/20\n",
      "  Train Loss: 0.2961\n",
      "  SAE Train Loss (hidden one): 0.4957\n",
      "  SAE Train Loss (hidden two): 0.0475\n",
      "  Val Loss: 0.3452 | Val Acc: 89.92%\n"
     ]
    },
    {
     "name": "stderr",
     "output_type": "stream",
     "text": [
      "                                                                                                                               \r"
     ]
    },
    {
     "name": "stdout",
     "output_type": "stream",
     "text": [
      "Epoch 15/20\n",
      "  Train Loss: 0.2939\n",
      "  SAE Train Loss (hidden one): 0.6585\n",
      "  SAE Train Loss (hidden two): 0.0503\n",
      "  Val Loss: 0.3384 | Val Acc: 90.33%\n"
     ]
    },
    {
     "name": "stderr",
     "output_type": "stream",
     "text": [
      "                                                                                                                               \r"
     ]
    },
    {
     "name": "stdout",
     "output_type": "stream",
     "text": [
      "Epoch 16/20\n",
      "  Train Loss: 0.2936\n",
      "  SAE Train Loss (hidden one): 0.6743\n",
      "  SAE Train Loss (hidden two): 0.0513\n",
      "  Val Loss: 0.3248 | Val Acc: 90.32%\n"
     ]
    },
    {
     "name": "stderr",
     "output_type": "stream",
     "text": [
      "                                                                                                                               \r"
     ]
    },
    {
     "name": "stdout",
     "output_type": "stream",
     "text": [
      "Epoch 17/20\n",
      "  Train Loss: 0.2856\n",
      "  SAE Train Loss (hidden one): 0.6069\n",
      "  SAE Train Loss (hidden two): 0.0486\n",
      "  Val Loss: 0.3213 | Val Acc: 90.51%\n"
     ]
    },
    {
     "name": "stderr",
     "output_type": "stream",
     "text": [
      "                                                                                                                               \r"
     ]
    },
    {
     "name": "stdout",
     "output_type": "stream",
     "text": [
      "Epoch 18/20\n",
      "  Train Loss: 0.2816\n",
      "  SAE Train Loss (hidden one): 0.7309\n",
      "  SAE Train Loss (hidden two): 0.0485\n",
      "  Val Loss: 0.3240 | Val Acc: 90.64%\n"
     ]
    },
    {
     "name": "stderr",
     "output_type": "stream",
     "text": [
      "                                                                                                                               \r"
     ]
    },
    {
     "name": "stdout",
     "output_type": "stream",
     "text": [
      "Epoch 19/20\n",
      "  Train Loss: 0.2752\n",
      "  SAE Train Loss (hidden one): 0.7022\n",
      "  SAE Train Loss (hidden two): 0.0476\n",
      "  Val Loss: 0.3088 | Val Acc: 90.91%\n",
      "  Saved model with Val Acc: 90.91%\n"
     ]
    },
    {
     "name": "stderr",
     "output_type": "stream",
     "text": [
      "                                                                                                                               \r"
     ]
    },
    {
     "name": "stdout",
     "output_type": "stream",
     "text": [
      "Epoch 20/20\n",
      "  Train Loss: 0.2747\n",
      "  SAE Train Loss (hidden one): 0.6631\n",
      "  SAE Train Loss (hidden two): 0.0476\n",
      "  Val Loss: 0.3153 | Val Acc: 91.15%\n",
      "  Saved model with Val Acc: 91.15%\n"
     ]
    },
    {
     "name": "stderr",
     "output_type": "stream",
     "text": [
      "Evaluation: 100%|█████████████████████████████████████████████████████████████████████████████| 79/79 [00:00<00:00, 273.24it/s]\n"
     ]
    },
    {
     "name": "stdout",
     "output_type": "stream",
     "text": [
      "Final Test Accuracy: 91.40%\n",
      "Average Reconstruction Error (Hidden One): 0.8902\n",
      "Average Reconstruction Error (Hidden Two): 0.0124\n",
      "Average Non-Zero Features per Image (Hidden One): 31.72\n",
      "Average Non-Zero Features per Image (Hidden Two): 33.31\n"
     ]
    },
    {
     "name": "stderr",
     "output_type": "stream",
     "text": [
      "/home/alex/.local/lib/python3.10/site-packages/sklearn/linear_model/_logistic.py:469: ConvergenceWarning: lbfgs failed to converge (status=1):\n",
      "STOP: TOTAL NO. of ITERATIONS REACHED LIMIT.\n",
      "\n",
      "Increase the number of iterations (max_iter) or scale the data as shown in:\n",
      "    https://scikit-learn.org/stable/modules/preprocessing.html\n",
      "Please also refer to the documentation for alternative solver options:\n",
      "    https://scikit-learn.org/stable/modules/linear_model.html#logistic-regression\n",
      "  n_iter_i = _check_optimize_result(\n"
     ]
    },
    {
     "name": "stdout",
     "output_type": "stream",
     "text": [
      "Linear Probe Accuracy (Hidden One): 91.42%\n"
     ]
    },
    {
     "name": "stderr",
     "output_type": "stream",
     "text": [
      "/home/alex/.local/lib/python3.10/site-packages/sklearn/linear_model/_logistic.py:469: ConvergenceWarning: lbfgs failed to converge (status=1):\n",
      "STOP: TOTAL NO. of ITERATIONS REACHED LIMIT.\n",
      "\n",
      "Increase the number of iterations (max_iter) or scale the data as shown in:\n",
      "    https://scikit-learn.org/stable/modules/preprocessing.html\n",
      "Please also refer to the documentation for alternative solver options:\n",
      "    https://scikit-learn.org/stable/modules/linear_model.html#logistic-regression\n",
      "  n_iter_i = _check_optimize_result(\n"
     ]
    },
    {
     "name": "stdout",
     "output_type": "stream",
     "text": [
      "Linear Probe Accuracy (Hidden Two): 91.44%\n",
      "\n",
      "##################################################\n",
      "Loss factor: 0.01\n",
      "\n",
      "\n"
     ]
    },
    {
     "name": "stderr",
     "output_type": "stream",
     "text": [
      "                                                                                                                               \r"
     ]
    },
    {
     "name": "stdout",
     "output_type": "stream",
     "text": [
      "Epoch 1/20\n",
      "  Train Loss: 1.0299\n",
      "  SAE Train Loss (hidden one): 8.8278\n",
      "  SAE Train Loss (hidden two): 1.1736\n",
      "  Val Loss: 0.5232 | Val Acc: 85.13%\n",
      "  Saved model with Val Acc: 85.13%\n"
     ]
    },
    {
     "name": "stderr",
     "output_type": "stream",
     "text": [
      "                                                                                                                               \r"
     ]
    },
    {
     "name": "stdout",
     "output_type": "stream",
     "text": [
      "Epoch 2/20\n",
      "  Train Loss: 0.4297\n",
      "  SAE Train Loss (hidden one): 0.6318\n",
      "  SAE Train Loss (hidden two): 0.1035\n",
      "  Val Loss: 0.3990 | Val Acc: 88.43%\n",
      "  Saved model with Val Acc: 88.43%\n"
     ]
    },
    {
     "name": "stderr",
     "output_type": "stream",
     "text": [
      "                                                                                                                               \r"
     ]
    },
    {
     "name": "stdout",
     "output_type": "stream",
     "text": [
      "Epoch 3/20\n",
      "  Train Loss: 0.3601\n",
      "  SAE Train Loss (hidden one): 0.6712\n",
      "  SAE Train Loss (hidden two): 0.0995\n",
      "  Val Loss: 0.3734 | Val Acc: 89.40%\n",
      "  Saved model with Val Acc: 89.40%\n"
     ]
    },
    {
     "name": "stderr",
     "output_type": "stream",
     "text": [
      "                                                                                                                               \r"
     ]
    },
    {
     "name": "stdout",
     "output_type": "stream",
     "text": [
      "Epoch 4/20\n",
      "  Train Loss: 0.3390\n",
      "  SAE Train Loss (hidden one): 0.7096\n",
      "  SAE Train Loss (hidden two): 0.0940\n",
      "  Val Loss: 0.3640 | Val Acc: 89.05%\n"
     ]
    },
    {
     "name": "stderr",
     "output_type": "stream",
     "text": [
      "                                                                                                                               \r"
     ]
    },
    {
     "name": "stdout",
     "output_type": "stream",
     "text": [
      "Epoch 5/20\n",
      "  Train Loss: 0.3182\n",
      "  SAE Train Loss (hidden one): 0.6775\n",
      "  SAE Train Loss (hidden two): 0.0906\n",
      "  Val Loss: 0.3452 | Val Acc: 89.61%\n",
      "  Saved model with Val Acc: 89.61%\n"
     ]
    },
    {
     "name": "stderr",
     "output_type": "stream",
     "text": [
      "                                                                                                                               \r"
     ]
    },
    {
     "name": "stdout",
     "output_type": "stream",
     "text": [
      "Epoch 6/20\n",
      "  Train Loss: 0.3018\n",
      "  SAE Train Loss (hidden one): 0.8253\n",
      "  SAE Train Loss (hidden two): 0.0882\n",
      "  Val Loss: 0.3230 | Val Acc: 90.51%\n",
      "  Saved model with Val Acc: 90.51%\n"
     ]
    },
    {
     "name": "stderr",
     "output_type": "stream",
     "text": [
      "                                                                                                                               \r"
     ]
    },
    {
     "name": "stdout",
     "output_type": "stream",
     "text": [
      "Epoch 7/20\n",
      "  Train Loss: 0.2905\n",
      "  SAE Train Loss (hidden one): 0.9401\n",
      "  SAE Train Loss (hidden two): 0.0891\n",
      "  Val Loss: 0.3217 | Val Acc: 90.69%\n",
      "  Saved model with Val Acc: 90.69%\n"
     ]
    },
    {
     "name": "stderr",
     "output_type": "stream",
     "text": [
      "                                                                                                                               \r"
     ]
    },
    {
     "name": "stdout",
     "output_type": "stream",
     "text": [
      "Epoch 8/20\n",
      "  Train Loss: 0.2762\n",
      "  SAE Train Loss (hidden one): 0.8658\n",
      "  SAE Train Loss (hidden two): 0.0843\n",
      "  Val Loss: 0.2998 | Val Acc: 91.32%\n",
      "  Saved model with Val Acc: 91.32%\n"
     ]
    },
    {
     "name": "stderr",
     "output_type": "stream",
     "text": [
      "                                                                                                                               \r"
     ]
    },
    {
     "name": "stdout",
     "output_type": "stream",
     "text": [
      "Epoch 9/20\n",
      "  Train Loss: 0.2667\n",
      "  SAE Train Loss (hidden one): 0.8292\n",
      "  SAE Train Loss (hidden two): 0.0823\n",
      "  Val Loss: 0.3295 | Val Acc: 90.61%\n"
     ]
    },
    {
     "name": "stderr",
     "output_type": "stream",
     "text": [
      "                                                                                                                               \r"
     ]
    },
    {
     "name": "stdout",
     "output_type": "stream",
     "text": [
      "Epoch 10/20\n",
      "  Train Loss: 0.2620\n",
      "  SAE Train Loss (hidden one): 0.7856\n",
      "  SAE Train Loss (hidden two): 0.0800\n",
      "  Val Loss: 0.2930 | Val Acc: 91.35%\n",
      "  Saved model with Val Acc: 91.35%\n"
     ]
    },
    {
     "name": "stderr",
     "output_type": "stream",
     "text": [
      "                                                                                                                               \r"
     ]
    },
    {
     "name": "stdout",
     "output_type": "stream",
     "text": [
      "Epoch 11/20\n",
      "  Train Loss: 0.2506\n",
      "  SAE Train Loss (hidden one): 0.8054\n",
      "  SAE Train Loss (hidden two): 0.0778\n",
      "  Val Loss: 0.2853 | Val Acc: 91.80%\n",
      "  Saved model with Val Acc: 91.80%\n"
     ]
    },
    {
     "name": "stderr",
     "output_type": "stream",
     "text": [
      "                                                                                                                               \r"
     ]
    },
    {
     "name": "stdout",
     "output_type": "stream",
     "text": [
      "Epoch 12/20\n",
      "  Train Loss: 0.2460\n",
      "  SAE Train Loss (hidden one): 0.8020\n",
      "  SAE Train Loss (hidden two): 0.0760\n",
      "  Val Loss: 0.2754 | Val Acc: 92.01%\n",
      "  Saved model with Val Acc: 92.01%\n"
     ]
    },
    {
     "name": "stderr",
     "output_type": "stream",
     "text": [
      "                                                                                                                               \r"
     ]
    },
    {
     "name": "stdout",
     "output_type": "stream",
     "text": [
      "Epoch 13/20\n",
      "  Train Loss: 0.2416\n",
      "  SAE Train Loss (hidden one): 0.8035\n",
      "  SAE Train Loss (hidden two): 0.0730\n",
      "  Val Loss: 0.2699 | Val Acc: 91.94%\n"
     ]
    },
    {
     "name": "stderr",
     "output_type": "stream",
     "text": [
      "                                                                                                                               \r"
     ]
    },
    {
     "name": "stdout",
     "output_type": "stream",
     "text": [
      "Epoch 14/20\n",
      "  Train Loss: 0.2411\n",
      "  SAE Train Loss (hidden one): 0.7721\n",
      "  SAE Train Loss (hidden two): 0.0693\n",
      "  Val Loss: 0.2945 | Val Acc: 91.69%\n"
     ]
    },
    {
     "name": "stderr",
     "output_type": "stream",
     "text": [
      "                                                                                                                               \r"
     ]
    },
    {
     "name": "stdout",
     "output_type": "stream",
     "text": [
      "Epoch 15/20\n",
      "  Train Loss: 0.2341\n",
      "  SAE Train Loss (hidden one): 0.8381\n",
      "  SAE Train Loss (hidden two): 0.0718\n",
      "  Val Loss: 0.2839 | Val Acc: 91.79%\n"
     ]
    },
    {
     "name": "stderr",
     "output_type": "stream",
     "text": [
      "                                                                                                                               \r"
     ]
    },
    {
     "name": "stdout",
     "output_type": "stream",
     "text": [
      "Epoch 16/20\n",
      "  Train Loss: 0.2354\n",
      "  SAE Train Loss (hidden one): 0.7381\n",
      "  SAE Train Loss (hidden two): 0.0652\n",
      "  Val Loss: 0.2825 | Val Acc: 91.93%\n"
     ]
    },
    {
     "name": "stderr",
     "output_type": "stream",
     "text": [
      "                                                                                                                               \r"
     ]
    },
    {
     "name": "stdout",
     "output_type": "stream",
     "text": [
      "Epoch 17/20\n",
      "  Train Loss: 0.2276\n",
      "  SAE Train Loss (hidden one): 0.8042\n",
      "  SAE Train Loss (hidden two): 0.0668\n",
      "  Val Loss: 0.2764 | Val Acc: 92.14%\n",
      "  Saved model with Val Acc: 92.14%\n"
     ]
    },
    {
     "name": "stderr",
     "output_type": "stream",
     "text": [
      "                                                                                                                               \r"
     ]
    },
    {
     "name": "stdout",
     "output_type": "stream",
     "text": [
      "Epoch 18/20\n",
      "  Train Loss: 0.2296\n",
      "  SAE Train Loss (hidden one): 0.8066\n",
      "  SAE Train Loss (hidden two): 0.0654\n",
      "  Val Loss: 0.2924 | Val Acc: 91.96%\n"
     ]
    },
    {
     "name": "stderr",
     "output_type": "stream",
     "text": [
      "                                                                                                                               \r"
     ]
    },
    {
     "name": "stdout",
     "output_type": "stream",
     "text": [
      "Epoch 19/20\n",
      "  Train Loss: 0.2266\n",
      "  SAE Train Loss (hidden one): 0.8113\n",
      "  SAE Train Loss (hidden two): 0.0623\n",
      "  Val Loss: 0.2881 | Val Acc: 91.84%\n"
     ]
    },
    {
     "name": "stderr",
     "output_type": "stream",
     "text": [
      "                                                                                                                               \r"
     ]
    },
    {
     "name": "stdout",
     "output_type": "stream",
     "text": [
      "Epoch 20/20\n",
      "  Train Loss: 0.2244\n",
      "  SAE Train Loss (hidden one): 0.7400\n",
      "  SAE Train Loss (hidden two): 0.0607\n",
      "  Val Loss: 0.2808 | Val Acc: 91.90%\n"
     ]
    },
    {
     "name": "stderr",
     "output_type": "stream",
     "text": [
      "Evaluation: 100%|█████████████████████████████████████████████████████████████████████████████| 79/79 [00:00<00:00, 250.66it/s]"
     ]
    },
    {
     "name": "stdout",
     "output_type": "stream",
     "text": [
      "Final Test Accuracy: 92.64%\n",
      "Average Reconstruction Error (Hidden One): 0.8486\n",
      "Average Reconstruction Error (Hidden Two): 0.0242\n",
      "Average Non-Zero Features per Image (Hidden One): 34.02\n",
      "Average Non-Zero Features per Image (Hidden Two): 35.35\n"
     ]
    },
    {
     "name": "stderr",
     "output_type": "stream",
     "text": [
      "\n",
      "/home/alex/.local/lib/python3.10/site-packages/sklearn/linear_model/_logistic.py:469: ConvergenceWarning: lbfgs failed to converge (status=1):\n",
      "STOP: TOTAL NO. of ITERATIONS REACHED LIMIT.\n",
      "\n",
      "Increase the number of iterations (max_iter) or scale the data as shown in:\n",
      "    https://scikit-learn.org/stable/modules/preprocessing.html\n",
      "Please also refer to the documentation for alternative solver options:\n",
      "    https://scikit-learn.org/stable/modules/linear_model.html#logistic-regression\n",
      "  n_iter_i = _check_optimize_result(\n"
     ]
    },
    {
     "name": "stdout",
     "output_type": "stream",
     "text": [
      "Linear Probe Accuracy (Hidden One): 91.16%\n"
     ]
    },
    {
     "name": "stderr",
     "output_type": "stream",
     "text": [
      "/home/alex/.local/lib/python3.10/site-packages/sklearn/linear_model/_logistic.py:469: ConvergenceWarning: lbfgs failed to converge (status=1):\n",
      "STOP: TOTAL NO. of ITERATIONS REACHED LIMIT.\n",
      "\n",
      "Increase the number of iterations (max_iter) or scale the data as shown in:\n",
      "    https://scikit-learn.org/stable/modules/preprocessing.html\n",
      "Please also refer to the documentation for alternative solver options:\n",
      "    https://scikit-learn.org/stable/modules/linear_model.html#logistic-regression\n",
      "  n_iter_i = _check_optimize_result(\n"
     ]
    },
    {
     "name": "stdout",
     "output_type": "stream",
     "text": [
      "Linear Probe Accuracy (Hidden Two): 90.85%\n",
      "\n"
     ]
    }
   ],
   "source": [
    "loss_data_dict = {}\n",
    "for loss_factor in loss_factors:\n",
    "    print(\"#\" * 50)\n",
    "    print(f\"Loss factor: {loss_factor}\\n\\n\")\n",
    "    ######################################################################################################\n",
    "    # MODELS INIT\n",
    "    ######################################################################################################\n",
    "    \n",
    "    # for reproducibility\n",
    "    seed = 42\n",
    "    torch.manual_seed(seed)\n",
    "    np.random.seed(seed)\n",
    "    random.seed(seed)\n",
    "    if torch.cuda.is_available():\n",
    "        torch.cuda.manual_seed_all(seed)\n",
    "        torch.backends.cudnn.deterministic = True\n",
    "        torch.backends.cudnn.benchmark = False\n",
    "    \n",
    "    model = NeuralNetwork().to(device)\n",
    "    \n",
    "    # loss functions\n",
    "    classification_loss_fn = nn.CrossEntropyLoss()\n",
    "    hidden_act_one_loss_fn = nn.CosineSimilarity()\n",
    "    \n",
    "    # optimizers\n",
    "    optimizer = torch.optim.Adam(model.parameters())\n",
    "    \n",
    "    # for reproducibility\n",
    "    seed = 42\n",
    "    torch.manual_seed(seed)\n",
    "    np.random.seed(seed)\n",
    "    random.seed(seed)\n",
    "    if torch.cuda.is_available():\n",
    "        torch.cuda.manual_seed_all(seed)\n",
    "        torch.backends.cudnn.deterministic = True\n",
    "        torch.backends.cudnn.benchmark = False\n",
    "        \n",
    "    sae_hidden_two = SparseAutoencoder(input_size=16, hidden_size=HIDDEN_SIZE).to(device)\n",
    "    optimizer_sae_hidden_two = torch.optim.Adam(sae_hidden_two.parameters())\n",
    "    \n",
    "    # for reproducibility\n",
    "    seed = 42\n",
    "    torch.manual_seed(seed)\n",
    "    np.random.seed(seed)\n",
    "    random.seed(seed)\n",
    "    if torch.cuda.is_available():\n",
    "        torch.cuda.manual_seed_all(seed)\n",
    "        torch.backends.cudnn.deterministic = True\n",
    "        torch.backends.cudnn.benchmark = False\n",
    "        \n",
    "    sae_hidden_one = SparseAutoencoder(input_size=16, hidden_size=HIDDEN_SIZE).to(device)\n",
    "    optimizer_sae_hidden_one = torch.optim.Adam(sae_hidden_one.parameters())\n",
    "    \n",
    "    ######################################################################################################\n",
    "    # DATA INIT\n",
    "    ######################################################################################################\n",
    "    \n",
    "    generator = torch.Generator().manual_seed(seed)\n",
    "    \n",
    "    NUM_WORKERS = 4\n",
    "    if device.type.lower() == \"cpu\":\n",
    "        NUM_WORKERS = 0\n",
    "    \n",
    "    # training data\n",
    "    train_dataset = EdgeDataset(train_images, train_labels, recon_max_sparse_act_one)\n",
    "    train_loader = DataLoader(train_dataset, batch_size=64, shuffle=True, num_workers=NUM_WORKERS, worker_init_fn=seed_worker, generator=generator)\n",
    "    \n",
    "    # validation data\n",
    "    val_dataset = EdgeDataset(val_images, val_labels)\n",
    "    val_loader = DataLoader(val_dataset, batch_size=128, shuffle=False, num_workers=NUM_WORKERS)  # larger batch size for faster validation\n",
    "    \n",
    "    # test data\n",
    "    test_dataset = EdgeDataset(test_images, test_labels)\n",
    "    test_loader = DataLoader(test_dataset, batch_size=128, shuffle=False, num_workers=NUM_WORKERS)\n",
    "    \n",
    "    ######################################################################################################\n",
    "    # TRAINING LOOP\n",
    "    ######################################################################################################\n",
    "    best_model = None\n",
    "    best_sae_one = None\n",
    "    best_sae_two = None\n",
    "    num_epochs = 20\n",
    "    \n",
    "    best_val_acc = 0.0\n",
    "    best_val_loss = float('inf')\n",
    "    \n",
    "    validation_losses = []\n",
    "    training_losses = []\n",
    "    SAE_hidden_one_losses = []\n",
    "    SAE_hidden_two_losses = []\n",
    "    \n",
    "    # Initialize storage for training features and labels\n",
    "    feature_activations_one_train = torch.zeros(HIDDEN_SIZE, len(train_loader.dataset))\n",
    "    feature_activations_two_train = torch.zeros(HIDDEN_SIZE, len(train_loader.dataset))\n",
    "    labels_train = torch.zeros(len(train_loader.dataset), dtype=torch.long)\n",
    "    \n",
    "    for epoch in range(num_epochs):\n",
    "        # --- Training Phase ---\n",
    "        model.train()  # set the model to training mode - this is currently a no-op\n",
    "        sae_hidden_two.train()\n",
    "        sae_hidden_one.train()\n",
    "        \n",
    "        train_loss = 0.0\n",
    "        total_sae_loss_hidden_two = 0.0\n",
    "        total_sae_loss_hidden_one = 0.0\n",
    "    \n",
    "        train_bar = tqdm(train_loader, desc=f\"Epoch {epoch + 1}/{num_epochs} [Train]\", leave=False)\n",
    "        for batch_idx, batch in enumerate(train_bar):\n",
    "            # deconstruct batch items\n",
    "            images, labels, acts_one = batch\n",
    "            images, labels, acts_one = images.to(device), labels.to(device), acts_one.to(device)\n",
    "            \n",
    "            # forward pass\n",
    "            classification_out, hidden_act_one, hidden_act_two = model(images)\n",
    "    \n",
    "            # Classification loss and backprop\n",
    "            optimizer.zero_grad()\n",
    "            \n",
    "            sub_loss = (1 - hidden_act_one_loss_fn(hidden_act_one, acts_one)).mean()\n",
    "            total_loss = classification_loss_fn(classification_out, labels) + loss_factor * (sub_loss)\n",
    "            total_loss.backward()\n",
    "            \n",
    "            optimizer.step()\n",
    "            train_loss += total_loss.item()\n",
    "            train_bar.set_postfix(loss=total_loss.item())\n",
    "    \n",
    "            # to prevent backprop on both graphs:\n",
    "            hidden_act_one_detached = hidden_act_one.detach()\n",
    "            hidden_act_two_detached = hidden_act_two.detach()\n",
    "    \n",
    "            # SAE loss and backprop - hidden layer one\n",
    "            optimizer_sae_hidden_one.zero_grad()\n",
    "            reconstructed_one, encoded_one = sae_hidden_one(hidden_act_one_detached)\n",
    "            sae_loss_hidden_one = sae_hidden_one.loss(hidden_act_one_detached,\n",
    "                                                      reconstructed_one,\n",
    "                                                      encoded_one,\n",
    "                                                      l1_lambda=L1_PENALTY\n",
    "                                                     )\n",
    "            sae_loss_hidden_one.backward()\n",
    "            optimizer_sae_hidden_one.step()\n",
    "            total_sae_loss_hidden_one += sae_loss_hidden_one.item()\n",
    "            \n",
    "            # SAE loss and backprop - hidden layer two\n",
    "            optimizer_sae_hidden_two.zero_grad()\n",
    "            reconstructed_two, encoded_two = sae_hidden_two(hidden_act_two_detached)\n",
    "            sae_loss_hidden_two = sae_hidden_two.loss(hidden_act_two_detached,\n",
    "                                                      reconstructed_two,\n",
    "                                                      encoded_two,\n",
    "                                                      l1_lambda=L1_PENALTY\n",
    "                                                     )\n",
    "            sae_loss_hidden_two.backward()\n",
    "            optimizer_sae_hidden_two.step()\n",
    "            total_sae_loss_hidden_two += sae_loss_hidden_two.item()\n",
    "    \n",
    "            # Store training features and labels\n",
    "            start_idx = batch_idx * train_loader.batch_size\n",
    "            end_idx = start_idx + images.size(0)\n",
    "            feature_activations_one_train[:, start_idx:end_idx] = encoded_one.T.cpu()\n",
    "            feature_activations_two_train[:, start_idx:end_idx] = encoded_two.T.cpu()\n",
    "            labels_train[start_idx:end_idx] = labels.cpu()\n",
    "    \n",
    "        # --- Validation Phase ---\n",
    "        model.eval()\n",
    "        val_loss = 0.0\n",
    "        correct = 0\n",
    "        total = 0\n",
    "        \n",
    "        val_bar = tqdm(val_loader, desc=f\"Epoch {epoch + 1}/{num_epochs} [Val]\", leave=False)\n",
    "        with torch.no_grad():\n",
    "            for batch in val_bar:\n",
    "                # deconstruct\n",
    "                images, labels = batch\n",
    "                images, labels = images.to(device), labels.to(device)\n",
    "    \n",
    "                # forward pass\n",
    "                classification_out, _, _ = model(images)\n",
    "    \n",
    "                # compute loss\n",
    "                loss = classification_loss_fn(classification_out, labels)\n",
    "    \n",
    "                # calculate metrics\n",
    "                val_loss += loss.item()\n",
    "                _, predicted = torch.max(classification_out, 1)\n",
    "                correct += (predicted == labels).sum().item()\n",
    "                total += labels.size(0)\n",
    "    \n",
    "        # epoch stats\n",
    "        avg_train_loss = train_loss / len(train_loader)\n",
    "        avg_val_loss = val_loss / len(val_loader)\n",
    "        avg_sae_train_loss_hidden_one = total_sae_loss_hidden_one / len(train_loader)\n",
    "        avg_sae_train_loss_hidden_two = total_sae_loss_hidden_two / len(train_loader)\n",
    "        val_accuracy = 100 * correct / total\n",
    "    \n",
    "        print(f\"Epoch {epoch+1}/{num_epochs}\")\n",
    "        print(f\"  Train Loss: {avg_train_loss:.4f}\")\n",
    "        print(f\"  SAE Train Loss (hidden one): {avg_sae_train_loss_hidden_one:.4f}\")\n",
    "        print(f\"  SAE Train Loss (hidden two): {avg_sae_train_loss_hidden_two:.4f}\")\n",
    "        print(f\"  Val Loss: {avg_val_loss:.4f} | Val Acc: {val_accuracy:.2f}%\")\n",
    "    \n",
    "        model_path = f'./models/{EXPERIMENT_TYPE}/{RUN_ID}/best_model_baseline_{epoch+1}.pth'\n",
    "        os.makedirs(os.path.dirname(model_path), exist_ok=True)\n",
    "        if val_accuracy > best_val_acc:\n",
    "            best_val_acc = val_accuracy\n",
    "            best_val_loss = avg_val_loss  # Update loss for reference\n",
    "            torch.save(model.state_dict(), model_path)\n",
    "            print(f\"  Saved model with Val Acc: {val_accuracy:.2f}%\")\n",
    "    \n",
    "            best_model = copy.deepcopy(model)\n",
    "            best_sae_one = copy.deepcopy(sae_hidden_one)\n",
    "            best_sae_two = copy.deepcopy(sae_hidden_two)\n",
    "            \n",
    "        # Optional: Save if accuracy is equal but loss is lower\n",
    "        elif val_accuracy == best_val_acc and avg_val_loss < best_val_loss:\n",
    "            best_val_loss = avg_val_loss\n",
    "            torch.save(model.state_dict(), model_path)\n",
    "            print(f\"  Saved model with same Val Acc: {val_accuracy:.2f}% but lower Val Loss: {avg_val_loss:.4f}\")\n",
    "    \n",
    "            best_model = copy.deepcopy(model)\n",
    "            best_sae_one = copy.deepcopy(sae_hidden_one)\n",
    "            best_sae_two = copy.deepcopy(sae_hidden_two)\n",
    "    \n",
    "        validation_losses.append(avg_val_loss)\n",
    "        training_losses.append(avg_train_loss)\n",
    "        SAE_hidden_one_losses.append(avg_sae_train_loss_hidden_one)\n",
    "        SAE_hidden_two_losses.append(avg_sae_train_loss_hidden_two)\n",
    "    \n",
    "    Z_train_one = feature_activations_one_train.detach().T.numpy()\n",
    "    Z_train_two = feature_activations_two_train.detach().T.numpy()\n",
    "    y_train = labels_train.numpy()\n",
    "    \n",
    "    \n",
    "    ######################################################################################################\n",
    "    # EVAL\n",
    "    ######################################################################################################\n",
    "    best_model.eval()  # again currently a no-op\n",
    "    best_sae_one.eval()\n",
    "    best_sae_two.eval()\n",
    "    \n",
    "    test_correct = 0\n",
    "    test_total = 0\n",
    "    \n",
    "    feature_activations_one_test = torch.zeros(HIDDEN_SIZE, len(test_images))\n",
    "    feature_activations_two_test = torch.zeros(HIDDEN_SIZE, len(test_images))\n",
    "    labels_test = torch.zeros(len(test_images), dtype=torch.long)\n",
    "    \n",
    "    recon_errors_one = []\n",
    "    recon_errors_two = []\n",
    "    \n",
    "    with torch.no_grad():\n",
    "        test_bar = tqdm(test_loader, desc=f\"Evaluation\")\n",
    "        for i, batch in enumerate(test_bar):\n",
    "            images, labels = batch\n",
    "            images, labels = images.to(device), labels.to(device)\n",
    "    \n",
    "            # forward pass\n",
    "            classification_out, hidden_one_act, hidden_two_act = best_model(images)\n",
    "            reconstructed_one, encoded_one = best_sae_one(hidden_one_act)\n",
    "            reconstructed_two, encoded_two = best_sae_two(hidden_two_act)\n",
    "    \n",
    "            # SAE reconstruction\n",
    "            recon_errors_one.append(torch.mean((hidden_one_act - reconstructed_one) ** 2).item())\n",
    "            recon_errors_two.append(torch.mean((hidden_two_act - reconstructed_two) ** 2).item())\n",
    "    \n",
    "            start_idx = i * test_loader.batch_size\n",
    "            end_idx = start_idx + images.size(0)\n",
    "            feature_activations_one_test[:, start_idx:end_idx] = encoded_one.T.cpu()\n",
    "            feature_activations_two_test[:, start_idx:end_idx] = encoded_two.T.cpu()\n",
    "            labels_test[start_idx:end_idx] = labels.cpu()\n",
    "    \n",
    "            # stats\n",
    "            _, predicted = torch.max(classification_out, 1)\n",
    "            test_correct += (predicted == labels).sum().item()\n",
    "            test_total += labels.size(0)\n",
    "    \n",
    "    Z_test_one = feature_activations_one_test.T.numpy()\n",
    "    Z_test_two = feature_activations_two_test.T.numpy()\n",
    "    y_test = labels_test.numpy()\n",
    "    \n",
    "    test_accuracy = 100 * test_correct / test_total\n",
    "    print(f\"Final Test Accuracy: {test_accuracy:.2f}%\")\n",
    "    \n",
    "    # reconstruction accuracy of SAE at each layer\n",
    "    avg_recon_error_one = np.mean(recon_errors_one)\n",
    "    avg_recon_error_two = np.mean(recon_errors_two)\n",
    "    print(f\"Average Reconstruction Error (Hidden One): {avg_recon_error_one:.4f}\")\n",
    "    print(f\"Average Reconstruction Error (Hidden Two): {avg_recon_error_two:.4f}\")\n",
    "    \n",
    "    # Compute sparsity (average non-zero features per image)\n",
    "    sparsity_one = torch.mean((feature_activations_one_test > 1e-5).float()).item() * 64\n",
    "    sparsity_two = torch.mean((feature_activations_two_test > 1e-5).float()).item() * 64\n",
    "    print(f\"Average Non-Zero Features per Image (Hidden One): {sparsity_one:.2f}\")\n",
    "    print(f\"Average Non-Zero Features per Image (Hidden Two): {sparsity_two:.2f}\")\n",
    "    \n",
    "    ######################################################################################################\n",
    "    # SPARSE FEATURE PROBES\n",
    "    ######################################################################################################\n",
    "        \n",
    "    clf_one = LogisticRegression(penalty='l2', max_iter=1000, n_jobs=-1)\n",
    "    clf_one.fit(Z_train_one, y_train)\n",
    "    acc_one = clf_one.score(Z_test_one, y_test)\n",
    "    print(f\"Linear Probe Accuracy (Hidden One): {acc_one:.2%}\")\n",
    "    \n",
    "    clf_two = LogisticRegression(penalty='l2', max_iter=1000, n_jobs=-1)\n",
    "    clf_two.fit(Z_train_two, y_train)\n",
    "    acc_two = clf_two.score(Z_test_two, y_test)\n",
    "    print(f\"Linear Probe Accuracy (Hidden Two): {acc_two:.2%}\")\n",
    "\n",
    "    loss_data_dict[loss_factor] = {}\n",
    "    loss_data_dict[loss_factor][\"Final_Accuracy\"] = test_accuracy\n",
    "    loss_data_dict[loss_factor][\"Final_Loss\"] = avg_train_loss\n",
    "    loss_data_dict[loss_factor][\"S1_Probe_Acccuracy\"] = acc_one\n",
    "    loss_data_dict[loss_factor][\"S2_Probe_Acccuracy\"] = acc_two\n",
    "    loss_data_dict[loss_factor][\"Loss_Plot_Data\"] = (validation_losses, training_losses, SAE_hidden_one_losses, SAE_hidden_two_losses)\n",
    "\n",
    "    del feature_activations_one_train, feature_activations_two_train, labels_train\n",
    "    del feature_activations_one_test, feature_activations_two_test, labels_test\n",
    "    del best_model, best_sae_one, best_sae_two\n",
    "    del validation_losses, training_losses, SAE_hidden_one_losses, SAE_hidden_two_losses\n",
    "    del clf_two, clf_one\n",
    "    del model, sae_hidden_one, sae_hidden_two\n",
    "    del train_dataset, train_loader\n",
    "    del test_dataset, test_loader\n",
    "    del val_dataset, val_loader\n",
    "    torch.cuda.empty_cache()\n",
    "    print()"
   ]
  },
  {
   "cell_type": "code",
   "execution_count": 17,
   "id": "62122aa9-ef90-474f-b9ce-aadb150d0f04",
   "metadata": {},
   "outputs": [
    {
     "data": {
      "text/plain": [
       "(91.11, 0.914, 0.9068)"
      ]
     },
     "execution_count": 17,
     "metadata": {},
     "output_type": "execute_result"
    }
   ],
   "source": [
    "loss_data_dict[0][\"Final_Accuracy\"], loss_data_dict[0][\"S1_Probe_Acccuracy\"], loss_data_dict[0][\"S2_Probe_Acccuracy\"]"
   ]
  },
  {
   "cell_type": "code",
   "execution_count": 18,
   "id": "255dec3e-58fa-47c0-9b08-0c1850dfab51",
   "metadata": {},
   "outputs": [
    {
     "data": {
      "text/plain": [
       "(92.64, 0.9116, 0.9085)"
      ]
     },
     "execution_count": 18,
     "metadata": {},
     "output_type": "execute_result"
    }
   ],
   "source": [
    "loss_data_dict[0.01][\"Final_Accuracy\"], loss_data_dict[0.01][\"S1_Probe_Acccuracy\"], loss_data_dict[0.01][\"S2_Probe_Acccuracy\"]"
   ]
  },
  {
   "cell_type": "code",
   "execution_count": 21,
   "id": "60ce1426-747d-470a-a42a-d5b13b3c776c",
   "metadata": {},
   "outputs": [
    {
     "data": {
      "text/plain": [
       "dict_keys([0.0, 0.001, 0.002, 0.003, 0.004, 0.005, 0.006, 0.007, 0.008, 0.009000000000000001, 0.01])"
      ]
     },
     "execution_count": 21,
     "metadata": {},
     "output_type": "execute_result"
    }
   ],
   "source": [
    "loss_data_dict.keys()"
   ]
  },
  {
   "cell_type": "code",
   "execution_count": 23,
   "id": "bdd96fe2-4d73-41b2-8d57-556ba65e9e38",
   "metadata": {
    "scrolled": true
   },
   "outputs": [
    {
     "name": "stdout",
     "output_type": "stream",
     "text": [
      "0.0\n",
      "91.11\n",
      "0.914\n",
      "0.9068\n",
      "--------------------------------------------------\n",
      "0.001\n",
      "89.91\n",
      "0.8768\n",
      "0.882\n",
      "--------------------------------------------------\n",
      "0.002\n",
      "91.74\n",
      "0.9153\n",
      "0.8836\n",
      "--------------------------------------------------\n",
      "0.003\n",
      "89.83\n",
      "0.9011\n",
      "0.8991\n",
      "--------------------------------------------------\n",
      "0.004\n",
      "91.17\n",
      "0.9057\n",
      "0.8997\n",
      "--------------------------------------------------\n",
      "0.005\n",
      "92.33\n",
      "0.9175\n",
      "0.9126\n",
      "--------------------------------------------------\n",
      "0.006\n",
      "92.0\n",
      "0.9229\n",
      "0.9207\n",
      "--------------------------------------------------\n",
      "0.007\n",
      "91.14\n",
      "0.9128\n",
      "0.9125\n",
      "--------------------------------------------------\n",
      "0.008\n",
      "91.99\n",
      "0.9153\n",
      "0.9072\n",
      "--------------------------------------------------\n",
      "0.009000000000000001\n",
      "91.4\n",
      "0.9142\n",
      "0.9144\n",
      "--------------------------------------------------\n",
      "0.01\n",
      "92.64\n",
      "0.9116\n",
      "0.9085\n",
      "--------------------------------------------------\n"
     ]
    }
   ],
   "source": [
    "for digit in loss_data_dict.keys():\n",
    "    print(digit)\n",
    "    print(loss_data_dict[digit][\"Final_Accuracy\"])\n",
    "    print(loss_data_dict[digit][\"S1_Probe_Acccuracy\"])\n",
    "    print(loss_data_dict[digit][\"S2_Probe_Acccuracy\"])\n",
    "    print(\"-\" * 50)"
   ]
  },
  {
   "cell_type": "code",
   "execution_count": 22,
   "id": "ecee6c71-6f71-40fc-9d21-2ccd3ea32b87",
   "metadata": {},
   "outputs": [],
   "source": [
    "import pickle\n",
    "\n",
    "file_path = f\"./loss_data_dict_0_to_0.01.pkl\"\n",
    "with open(file_path, \"wb\") as f:\n",
    "    pickle.dump(loss_data_dict, f)"
   ]
  },
  {
   "cell_type": "code",
   "execution_count": null,
   "id": "2e6ba107-3ab6-473f-b610-5283e28e633b",
   "metadata": {},
   "outputs": [],
   "source": []
  }
 ],
 "metadata": {
  "kernelspec": {
   "display_name": "Python 3 (ipykernel)",
   "language": "python",
   "name": "python3"
  },
  "language_info": {
   "codemirror_mode": {
    "name": "ipython",
    "version": 3
   },
   "file_extension": ".py",
   "mimetype": "text/x-python",
   "name": "python",
   "nbconvert_exporter": "python",
   "pygments_lexer": "ipython3",
   "version": "3.10.12"
  }
 },
 "nbformat": 4,
 "nbformat_minor": 5
}
