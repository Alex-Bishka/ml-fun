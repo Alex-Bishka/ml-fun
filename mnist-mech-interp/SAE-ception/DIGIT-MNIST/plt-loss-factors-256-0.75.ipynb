{
 "cells": [
  {
   "cell_type": "markdown",
   "id": "f228a86c-44c9-45d2-976d-149aee4c5946",
   "metadata": {},
   "source": [
    "# Examine Loss Data"
   ]
  },
  {
   "cell_type": "markdown",
   "id": "bdc786f2-10ba-4720-89ac-b462b957c703",
   "metadata": {},
   "source": [
    "## Imports"
   ]
  },
  {
   "cell_type": "code",
   "execution_count": 1,
   "id": "951de8b1-3f41-489e-9041-996651340a0b",
   "metadata": {},
   "outputs": [],
   "source": [
    "from models_and_data.vplot_helpers import main"
   ]
  },
  {
   "cell_type": "code",
   "execution_count": 16,
   "id": "8db2d69f-8f61-4988-9508-7df2f6594a7a",
   "metadata": {},
   "outputs": [
    {
     "name": "stdout",
     "output_type": "stream",
     "text": [
      "    Loss_Factor              Metric  Value\n",
      "50         0.21  S1_Probe_Acccuracy  93.30\n",
      "51         0.22  S1_Probe_Acccuracy  93.25\n",
      "42         0.13  S1_Probe_Acccuracy  93.13\n",
      "55         0.26  S1_Probe_Acccuracy  92.90\n",
      "49         0.20  S1_Probe_Acccuracy  92.84\n"
     ]
    },
    {
     "data": {
      "application/vnd.plotly.v1+json": {
       "config": {
        "plotlyServerURL": "https://plot.ly"
       },
       "data": [
        {
         "hovertemplate": "Metric=Final_Accuracy<br>Loss_Factors=%{x}<br>Accuracy=%{y}<extra></extra>",
         "legendgroup": "Final_Accuracy",
         "line": {
          "color": "#636efa",
          "dash": "solid"
         },
         "marker": {
          "symbol": "circle"
         },
         "mode": "lines+markers",
         "name": "Final_Accuracy",
         "orientation": "v",
         "showlegend": true,
         "type": "scatter",
         "x": [
          0.01,
          0.02,
          0.03,
          0.04,
          0.05,
          0.060000000000000005,
          0.06999999999999999,
          0.08,
          0.09,
          0.09999999999999999,
          0.11,
          0.12,
          0.13,
          0.14,
          0.15000000000000002,
          0.16,
          0.17,
          0.18000000000000002,
          0.19,
          0.2,
          0.21000000000000002,
          0.22,
          0.23,
          0.24000000000000002,
          0.25,
          0.26,
          0.27,
          0.28,
          0.29000000000000004,
          0.3
         ],
         "xaxis": "x",
         "y": [
          91.6,
          91.1,
          92.25,
          92.38,
          90.59,
          92.27,
          92.48,
          90.45,
          91.99,
          91.59,
          91.71,
          91.27,
          92.84,
          92.5,
          89.46,
          90.41,
          91.43,
          91.45,
          91.72,
          92.14,
          92.74,
          92.73,
          91.49,
          91.25,
          91.69,
          92.36,
          91.73,
          92.13,
          91.45,
          92.17
         ],
         "yaxis": "y"
        },
        {
         "hovertemplate": "Metric=S1_Probe_Acccuracy<br>Loss_Factors=%{x}<br>Accuracy=%{y}<extra></extra>",
         "legendgroup": "S1_Probe_Acccuracy",
         "line": {
          "color": "#EF553B",
          "dash": "solid"
         },
         "marker": {
          "symbol": "circle"
         },
         "mode": "lines+markers",
         "name": "S1_Probe_Acccuracy",
         "orientation": "v",
         "showlegend": true,
         "type": "scatter",
         "x": [
          0.01,
          0.02,
          0.03,
          0.04,
          0.05,
          0.060000000000000005,
          0.06999999999999999,
          0.08,
          0.09,
          0.09999999999999999,
          0.11,
          0.12,
          0.13,
          0.14,
          0.15000000000000002,
          0.16,
          0.17,
          0.18000000000000002,
          0.19,
          0.2,
          0.21000000000000002,
          0.22,
          0.23,
          0.24000000000000002,
          0.25,
          0.26,
          0.27,
          0.28,
          0.29000000000000004,
          0.3
         ],
         "xaxis": "x",
         "y": [
          91.93,
          91.14999999999999,
          92.44,
          92.80000000000001,
          91.36,
          92.47999999999999,
          92.55,
          90.9,
          92.41,
          91.9,
          92.08,
          91.81,
          93.13,
          92.80000000000001,
          89.85,
          90.56,
          91.64,
          91.71000000000001,
          92.11,
          92.84,
          93.30000000000001,
          93.25,
          92.31,
          91.86,
          92.25999999999999,
          92.9,
          92.32000000000001,
          92.17999999999999,
          91.53999999999999,
          92.71000000000001
         ],
         "yaxis": "y"
        },
        {
         "hovertemplate": "Metric=S2_Probe_Acccuracy<br>Loss_Factors=%{x}<br>Accuracy=%{y}<extra></extra>",
         "legendgroup": "S2_Probe_Acccuracy",
         "line": {
          "color": "#00cc96",
          "dash": "solid"
         },
         "marker": {
          "symbol": "circle"
         },
         "mode": "lines+markers",
         "name": "S2_Probe_Acccuracy",
         "orientation": "v",
         "showlegend": true,
         "type": "scatter",
         "x": [
          0.01,
          0.02,
          0.03,
          0.04,
          0.05,
          0.060000000000000005,
          0.06999999999999999,
          0.08,
          0.09,
          0.09999999999999999,
          0.11,
          0.12,
          0.13,
          0.14,
          0.15000000000000002,
          0.16,
          0.17,
          0.18000000000000002,
          0.19,
          0.2,
          0.21000000000000002,
          0.22,
          0.23,
          0.24000000000000002,
          0.25,
          0.26,
          0.27,
          0.28,
          0.29000000000000004,
          0.3
         ],
         "xaxis": "x",
         "y": [
          92.16,
          91.45,
          92.75,
          92.97,
          91.4,
          92.89,
          92.81,
          91.03999999999999,
          92.47999999999999,
          92.01,
          92.19000000000001,
          92.09,
          93.52000000000001,
          92.95,
          89.86,
          90.97,
          91.79,
          91.81,
          92.07,
          92.96,
          93.38,
          93.46,
          92.47999999999999,
          92,
          92.52,
          92.91,
          92.17999999999999,
          92.41,
          91.75999999999999,
          92.56
         ],
         "yaxis": "y"
        }
       ],
       "layout": {
        "autosize": true,
        "legend": {
         "title": {
          "text": "Metric"
         },
         "tracegroupgap": 0
        },
        "showlegend": true,
        "template": {
         "data": {
          "bar": [
           {
            "error_x": {
             "color": "#2a3f5f"
            },
            "error_y": {
             "color": "#2a3f5f"
            },
            "marker": {
             "line": {
              "color": "#E5ECF6",
              "width": 0.5
             },
             "pattern": {
              "fillmode": "overlay",
              "size": 10,
              "solidity": 0.2
             }
            },
            "type": "bar"
           }
          ],
          "barpolar": [
           {
            "marker": {
             "line": {
              "color": "#E5ECF6",
              "width": 0.5
             },
             "pattern": {
              "fillmode": "overlay",
              "size": 10,
              "solidity": 0.2
             }
            },
            "type": "barpolar"
           }
          ],
          "carpet": [
           {
            "aaxis": {
             "endlinecolor": "#2a3f5f",
             "gridcolor": "white",
             "linecolor": "white",
             "minorgridcolor": "white",
             "startlinecolor": "#2a3f5f"
            },
            "baxis": {
             "endlinecolor": "#2a3f5f",
             "gridcolor": "white",
             "linecolor": "white",
             "minorgridcolor": "white",
             "startlinecolor": "#2a3f5f"
            },
            "type": "carpet"
           }
          ],
          "choropleth": [
           {
            "colorbar": {
             "outlinewidth": 0,
             "ticks": ""
            },
            "type": "choropleth"
           }
          ],
          "contour": [
           {
            "colorbar": {
             "outlinewidth": 0,
             "ticks": ""
            },
            "colorscale": [
             [
              0,
              "#0d0887"
             ],
             [
              0.1111111111111111,
              "#46039f"
             ],
             [
              0.2222222222222222,
              "#7201a8"
             ],
             [
              0.3333333333333333,
              "#9c179e"
             ],
             [
              0.4444444444444444,
              "#bd3786"
             ],
             [
              0.5555555555555556,
              "#d8576b"
             ],
             [
              0.6666666666666666,
              "#ed7953"
             ],
             [
              0.7777777777777778,
              "#fb9f3a"
             ],
             [
              0.8888888888888888,
              "#fdca26"
             ],
             [
              1,
              "#f0f921"
             ]
            ],
            "type": "contour"
           }
          ],
          "contourcarpet": [
           {
            "colorbar": {
             "outlinewidth": 0,
             "ticks": ""
            },
            "type": "contourcarpet"
           }
          ],
          "heatmap": [
           {
            "colorbar": {
             "outlinewidth": 0,
             "ticks": ""
            },
            "colorscale": [
             [
              0,
              "#0d0887"
             ],
             [
              0.1111111111111111,
              "#46039f"
             ],
             [
              0.2222222222222222,
              "#7201a8"
             ],
             [
              0.3333333333333333,
              "#9c179e"
             ],
             [
              0.4444444444444444,
              "#bd3786"
             ],
             [
              0.5555555555555556,
              "#d8576b"
             ],
             [
              0.6666666666666666,
              "#ed7953"
             ],
             [
              0.7777777777777778,
              "#fb9f3a"
             ],
             [
              0.8888888888888888,
              "#fdca26"
             ],
             [
              1,
              "#f0f921"
             ]
            ],
            "type": "heatmap"
           }
          ],
          "heatmapgl": [
           {
            "colorbar": {
             "outlinewidth": 0,
             "ticks": ""
            },
            "colorscale": [
             [
              0,
              "#0d0887"
             ],
             [
              0.1111111111111111,
              "#46039f"
             ],
             [
              0.2222222222222222,
              "#7201a8"
             ],
             [
              0.3333333333333333,
              "#9c179e"
             ],
             [
              0.4444444444444444,
              "#bd3786"
             ],
             [
              0.5555555555555556,
              "#d8576b"
             ],
             [
              0.6666666666666666,
              "#ed7953"
             ],
             [
              0.7777777777777778,
              "#fb9f3a"
             ],
             [
              0.8888888888888888,
              "#fdca26"
             ],
             [
              1,
              "#f0f921"
             ]
            ],
            "type": "heatmapgl"
           }
          ],
          "histogram": [
           {
            "marker": {
             "pattern": {
              "fillmode": "overlay",
              "size": 10,
              "solidity": 0.2
             }
            },
            "type": "histogram"
           }
          ],
          "histogram2d": [
           {
            "colorbar": {
             "outlinewidth": 0,
             "ticks": ""
            },
            "colorscale": [
             [
              0,
              "#0d0887"
             ],
             [
              0.1111111111111111,
              "#46039f"
             ],
             [
              0.2222222222222222,
              "#7201a8"
             ],
             [
              0.3333333333333333,
              "#9c179e"
             ],
             [
              0.4444444444444444,
              "#bd3786"
             ],
             [
              0.5555555555555556,
              "#d8576b"
             ],
             [
              0.6666666666666666,
              "#ed7953"
             ],
             [
              0.7777777777777778,
              "#fb9f3a"
             ],
             [
              0.8888888888888888,
              "#fdca26"
             ],
             [
              1,
              "#f0f921"
             ]
            ],
            "type": "histogram2d"
           }
          ],
          "histogram2dcontour": [
           {
            "colorbar": {
             "outlinewidth": 0,
             "ticks": ""
            },
            "colorscale": [
             [
              0,
              "#0d0887"
             ],
             [
              0.1111111111111111,
              "#46039f"
             ],
             [
              0.2222222222222222,
              "#7201a8"
             ],
             [
              0.3333333333333333,
              "#9c179e"
             ],
             [
              0.4444444444444444,
              "#bd3786"
             ],
             [
              0.5555555555555556,
              "#d8576b"
             ],
             [
              0.6666666666666666,
              "#ed7953"
             ],
             [
              0.7777777777777778,
              "#fb9f3a"
             ],
             [
              0.8888888888888888,
              "#fdca26"
             ],
             [
              1,
              "#f0f921"
             ]
            ],
            "type": "histogram2dcontour"
           }
          ],
          "mesh3d": [
           {
            "colorbar": {
             "outlinewidth": 0,
             "ticks": ""
            },
            "type": "mesh3d"
           }
          ],
          "parcoords": [
           {
            "line": {
             "colorbar": {
              "outlinewidth": 0,
              "ticks": ""
             }
            },
            "type": "parcoords"
           }
          ],
          "pie": [
           {
            "automargin": true,
            "type": "pie"
           }
          ],
          "scatter": [
           {
            "fillpattern": {
             "fillmode": "overlay",
             "size": 10,
             "solidity": 0.2
            },
            "type": "scatter"
           }
          ],
          "scatter3d": [
           {
            "line": {
             "colorbar": {
              "outlinewidth": 0,
              "ticks": ""
             }
            },
            "marker": {
             "colorbar": {
              "outlinewidth": 0,
              "ticks": ""
             }
            },
            "type": "scatter3d"
           }
          ],
          "scattercarpet": [
           {
            "marker": {
             "colorbar": {
              "outlinewidth": 0,
              "ticks": ""
             }
            },
            "type": "scattercarpet"
           }
          ],
          "scattergeo": [
           {
            "marker": {
             "colorbar": {
              "outlinewidth": 0,
              "ticks": ""
             }
            },
            "type": "scattergeo"
           }
          ],
          "scattergl": [
           {
            "marker": {
             "colorbar": {
              "outlinewidth": 0,
              "ticks": ""
             }
            },
            "type": "scattergl"
           }
          ],
          "scattermapbox": [
           {
            "marker": {
             "colorbar": {
              "outlinewidth": 0,
              "ticks": ""
             }
            },
            "type": "scattermapbox"
           }
          ],
          "scatterpolar": [
           {
            "marker": {
             "colorbar": {
              "outlinewidth": 0,
              "ticks": ""
             }
            },
            "type": "scatterpolar"
           }
          ],
          "scatterpolargl": [
           {
            "marker": {
             "colorbar": {
              "outlinewidth": 0,
              "ticks": ""
             }
            },
            "type": "scatterpolargl"
           }
          ],
          "scatterternary": [
           {
            "marker": {
             "colorbar": {
              "outlinewidth": 0,
              "ticks": ""
             }
            },
            "type": "scatterternary"
           }
          ],
          "surface": [
           {
            "colorbar": {
             "outlinewidth": 0,
             "ticks": ""
            },
            "colorscale": [
             [
              0,
              "#0d0887"
             ],
             [
              0.1111111111111111,
              "#46039f"
             ],
             [
              0.2222222222222222,
              "#7201a8"
             ],
             [
              0.3333333333333333,
              "#9c179e"
             ],
             [
              0.4444444444444444,
              "#bd3786"
             ],
             [
              0.5555555555555556,
              "#d8576b"
             ],
             [
              0.6666666666666666,
              "#ed7953"
             ],
             [
              0.7777777777777778,
              "#fb9f3a"
             ],
             [
              0.8888888888888888,
              "#fdca26"
             ],
             [
              1,
              "#f0f921"
             ]
            ],
            "type": "surface"
           }
          ],
          "table": [
           {
            "cells": {
             "fill": {
              "color": "#EBF0F8"
             },
             "line": {
              "color": "white"
             }
            },
            "header": {
             "fill": {
              "color": "#C8D4E3"
             },
             "line": {
              "color": "white"
             }
            },
            "type": "table"
           }
          ]
         },
         "layout": {
          "annotationdefaults": {
           "arrowcolor": "#2a3f5f",
           "arrowhead": 0,
           "arrowwidth": 1
          },
          "autotypenumbers": "strict",
          "coloraxis": {
           "colorbar": {
            "outlinewidth": 0,
            "ticks": ""
           }
          },
          "colorscale": {
           "diverging": [
            [
             0,
             "#8e0152"
            ],
            [
             0.1,
             "#c51b7d"
            ],
            [
             0.2,
             "#de77ae"
            ],
            [
             0.3,
             "#f1b6da"
            ],
            [
             0.4,
             "#fde0ef"
            ],
            [
             0.5,
             "#f7f7f7"
            ],
            [
             0.6,
             "#e6f5d0"
            ],
            [
             0.7,
             "#b8e186"
            ],
            [
             0.8,
             "#7fbc41"
            ],
            [
             0.9,
             "#4d9221"
            ],
            [
             1,
             "#276419"
            ]
           ],
           "sequential": [
            [
             0,
             "#0d0887"
            ],
            [
             0.1111111111111111,
             "#46039f"
            ],
            [
             0.2222222222222222,
             "#7201a8"
            ],
            [
             0.3333333333333333,
             "#9c179e"
            ],
            [
             0.4444444444444444,
             "#bd3786"
            ],
            [
             0.5555555555555556,
             "#d8576b"
            ],
            [
             0.6666666666666666,
             "#ed7953"
            ],
            [
             0.7777777777777778,
             "#fb9f3a"
            ],
            [
             0.8888888888888888,
             "#fdca26"
            ],
            [
             1,
             "#f0f921"
            ]
           ],
           "sequentialminus": [
            [
             0,
             "#0d0887"
            ],
            [
             0.1111111111111111,
             "#46039f"
            ],
            [
             0.2222222222222222,
             "#7201a8"
            ],
            [
             0.3333333333333333,
             "#9c179e"
            ],
            [
             0.4444444444444444,
             "#bd3786"
            ],
            [
             0.5555555555555556,
             "#d8576b"
            ],
            [
             0.6666666666666666,
             "#ed7953"
            ],
            [
             0.7777777777777778,
             "#fb9f3a"
            ],
            [
             0.8888888888888888,
             "#fdca26"
            ],
            [
             1,
             "#f0f921"
            ]
           ]
          },
          "colorway": [
           "#636efa",
           "#EF553B",
           "#00cc96",
           "#ab63fa",
           "#FFA15A",
           "#19d3f3",
           "#FF6692",
           "#B6E880",
           "#FF97FF",
           "#FECB52"
          ],
          "font": {
           "color": "#2a3f5f"
          },
          "geo": {
           "bgcolor": "white",
           "lakecolor": "white",
           "landcolor": "#E5ECF6",
           "showlakes": true,
           "showland": true,
           "subunitcolor": "white"
          },
          "hoverlabel": {
           "align": "left"
          },
          "hovermode": "closest",
          "mapbox": {
           "style": "light"
          },
          "paper_bgcolor": "white",
          "plot_bgcolor": "#E5ECF6",
          "polar": {
           "angularaxis": {
            "gridcolor": "white",
            "linecolor": "white",
            "ticks": ""
           },
           "bgcolor": "#E5ECF6",
           "radialaxis": {
            "gridcolor": "white",
            "linecolor": "white",
            "ticks": ""
           }
          },
          "scene": {
           "xaxis": {
            "backgroundcolor": "#E5ECF6",
            "gridcolor": "white",
            "gridwidth": 2,
            "linecolor": "white",
            "showbackground": true,
            "ticks": "",
            "zerolinecolor": "white"
           },
           "yaxis": {
            "backgroundcolor": "#E5ECF6",
            "gridcolor": "white",
            "gridwidth": 2,
            "linecolor": "white",
            "showbackground": true,
            "ticks": "",
            "zerolinecolor": "white"
           },
           "zaxis": {
            "backgroundcolor": "#E5ECF6",
            "gridcolor": "white",
            "gridwidth": 2,
            "linecolor": "white",
            "showbackground": true,
            "ticks": "",
            "zerolinecolor": "white"
           }
          },
          "shapedefaults": {
           "line": {
            "color": "#2a3f5f"
           }
          },
          "ternary": {
           "aaxis": {
            "gridcolor": "white",
            "linecolor": "white",
            "ticks": ""
           },
           "baxis": {
            "gridcolor": "white",
            "linecolor": "white",
            "ticks": ""
           },
           "bgcolor": "#E5ECF6",
           "caxis": {
            "gridcolor": "white",
            "linecolor": "white",
            "ticks": ""
           }
          },
          "title": {
           "x": 0.05
          },
          "xaxis": {
           "automargin": true,
           "gridcolor": "white",
           "linecolor": "white",
           "ticks": "",
           "title": {
            "standoff": 15
           },
           "zerolinecolor": "white",
           "zerolinewidth": 2
          },
          "yaxis": {
           "automargin": true,
           "gridcolor": "white",
           "linecolor": "white",
           "ticks": "",
           "title": {
            "standoff": 15
           },
           "zerolinecolor": "white",
           "zerolinewidth": 2
          }
         }
        },
        "title": {
         "text": "Accuracy Metrics vs. Dictionary Keys"
        },
        "xaxis": {
         "anchor": "y",
         "autorange": true,
         "domain": [
          0,
          1
         ],
         "range": [
          -0.007603433370384093,
          0.3176034333703841
         ],
         "tickmode": "linear",
         "title": {
          "text": "Loss_Factors"
         },
         "type": "linear"
        },
        "yaxis": {
         "anchor": "x",
         "domain": [
          0,
          1
         ],
         "range": [
          84.46,
          100
         ],
         "title": {
          "text": "Accuracy"
         },
         "type": "linear"
        }
       }
      },
      "image/png": "[encoded data removed]",
      "text/html": [
       "<div>                            <div id=\"fdce591e-2681-4d66-b80a-f37554fec18f\" class=\"plotly-graph-div\" style=\"height:525px; width:100%;\"></div>            <script type=\"text/javascript\">                require([\"plotly\"], function(Plotly) {                    window.PLOTLYENV=window.PLOTLYENV || {};                                    if (document.getElementById(\"fdce591e-2681-4d66-b80a-f37554fec18f\")) {                    Plotly.newPlot(                        \"fdce591e-2681-4d66-b80a-f37554fec18f\",                        [{\"hovertemplate\":\"Metric=Final_Accuracy\\u003cbr\\u003eLoss_Factors=%{x}\\u003cbr\\u003eAccuracy=%{y}\\u003cextra\\u003e\\u003c\\u002fextra\\u003e\",\"legendgroup\":\"Final_Accuracy\",\"line\":{\"color\":\"#636efa\",\"dash\":\"solid\"},\"marker\":{\"symbol\":\"circle\"},\"mode\":\"lines+markers\",\"name\":\"Final_Accuracy\",\"orientation\":\"v\",\"showlegend\":true,\"x\":[0.01,0.02,0.03,0.04,0.05,0.060000000000000005,0.06999999999999999,0.08,0.09,0.09999999999999999,0.11,0.12,0.13,0.14,0.15000000000000002,0.16,0.17,0.18000000000000002,0.19,0.2,0.21000000000000002,0.22,0.23,0.24000000000000002,0.25,0.26,0.27,0.28,0.29000000000000004,0.3],\"xaxis\":\"x\",\"y\":[91.6,91.1,92.25,92.38,90.59,92.27,92.48,90.45,91.99,91.59,91.71,91.27,92.84,92.5,89.46,90.41,91.43,91.45,91.72,92.14,92.74,92.73,91.49,91.25,91.69,92.36,91.73,92.13,91.45,92.17],\"yaxis\":\"y\",\"type\":\"scatter\"},{\"hovertemplate\":\"Metric=S1_Probe_Acccuracy\\u003cbr\\u003eLoss_Factors=%{x}\\u003cbr\\u003eAccuracy=%{y}\\u003cextra\\u003e\\u003c\\u002fextra\\u003e\",\"legendgroup\":\"S1_Probe_Acccuracy\",\"line\":{\"color\":\"#EF553B\",\"dash\":\"solid\"},\"marker\":{\"symbol\":\"circle\"},\"mode\":\"lines+markers\",\"name\":\"S1_Probe_Acccuracy\",\"orientation\":\"v\",\"showlegend\":true,\"x\":[0.01,0.02,0.03,0.04,0.05,0.060000000000000005,0.06999999999999999,0.08,0.09,0.09999999999999999,0.11,0.12,0.13,0.14,0.15000000000000002,0.16,0.17,0.18000000000000002,0.19,0.2,0.21000000000000002,0.22,0.23,0.24000000000000002,0.25,0.26,0.27,0.28,0.29000000000000004,0.3],\"xaxis\":\"x\",\"y\":[91.93,91.14999999999999,92.44,92.80000000000001,91.36,92.47999999999999,92.55,90.9,92.41,91.9,92.08,91.81,93.13,92.80000000000001,89.85,90.56,91.64,91.71000000000001,92.11,92.84,93.30000000000001,93.25,92.31,91.86,92.25999999999999,92.9,92.32000000000001,92.17999999999999,91.53999999999999,92.71000000000001],\"yaxis\":\"y\",\"type\":\"scatter\"},{\"hovertemplate\":\"Metric=S2_Probe_Acccuracy\\u003cbr\\u003eLoss_Factors=%{x}\\u003cbr\\u003eAccuracy=%{y}\\u003cextra\\u003e\\u003c\\u002fextra\\u003e\",\"legendgroup\":\"S2_Probe_Acccuracy\",\"line\":{\"color\":\"#00cc96\",\"dash\":\"solid\"},\"marker\":{\"symbol\":\"circle\"},\"mode\":\"lines+markers\",\"name\":\"S2_Probe_Acccuracy\",\"orientation\":\"v\",\"showlegend\":true,\"x\":[0.01,0.02,0.03,0.04,0.05,0.060000000000000005,0.06999999999999999,0.08,0.09,0.09999999999999999,0.11,0.12,0.13,0.14,0.15000000000000002,0.16,0.17,0.18000000000000002,0.19,0.2,0.21000000000000002,0.22,0.23,0.24000000000000002,0.25,0.26,0.27,0.28,0.29000000000000004,0.3],\"xaxis\":\"x\",\"y\":[92.16,91.45,92.75,92.97,91.4,92.89,92.81,91.03999999999999,92.47999999999999,92.01,92.19000000000001,92.09,93.52000000000001,92.95,89.86,90.97,91.79,91.81,92.07,92.96,93.38,93.46,92.47999999999999,92.0,92.52,92.91,92.17999999999999,92.41,91.75999999999999,92.56],\"yaxis\":\"y\",\"type\":\"scatter\"}],                        {\"template\":{\"data\":{\"histogram2dcontour\":[{\"type\":\"histogram2dcontour\",\"colorbar\":{\"outlinewidth\":0,\"ticks\":\"\"},\"colorscale\":[[0.0,\"#0d0887\"],[0.1111111111111111,\"#46039f\"],[0.2222222222222222,\"#7201a8\"],[0.3333333333333333,\"#9c179e\"],[0.4444444444444444,\"#bd3786\"],[0.5555555555555556,\"#d8576b\"],[0.6666666666666666,\"#ed7953\"],[0.7777777777777778,\"#fb9f3a\"],[0.8888888888888888,\"#fdca26\"],[1.0,\"#f0f921\"]]}],\"choropleth\":[{\"type\":\"choropleth\",\"colorbar\":{\"outlinewidth\":0,\"ticks\":\"\"}}],\"histogram2d\":[{\"type\":\"histogram2d\",\"colorbar\":{\"outlinewidth\":0,\"ticks\":\"\"},\"colorscale\":[[0.0,\"#0d0887\"],[0.1111111111111111,\"#46039f\"],[0.2222222222222222,\"#7201a8\"],[0.3333333333333333,\"#9c179e\"],[0.4444444444444444,\"#bd3786\"],[0.5555555555555556,\"#d8576b\"],[0.6666666666666666,\"#ed7953\"],[0.7777777777777778,\"#fb9f3a\"],[0.8888888888888888,\"#fdca26\"],[1.0,\"#f0f921\"]]}],\"heatmap\":[{\"type\":\"heatmap\",\"colorbar\":{\"outlinewidth\":0,\"ticks\":\"\"},\"colorscale\":[[0.0,\"#0d0887\"],[0.1111111111111111,\"#46039f\"],[0.2222222222222222,\"#7201a8\"],[0.3333333333333333,\"#9c179e\"],[0.4444444444444444,\"#bd3786\"],[0.5555555555555556,\"#d8576b\"],[0.6666666666666666,\"#ed7953\"],[0.7777777777777778,\"#fb9f3a\"],[0.8888888888888888,\"#fdca26\"],[1.0,\"#f0f921\"]]}],\"heatmapgl\":[{\"type\":\"heatmapgl\",\"colorbar\":{\"outlinewidth\":0,\"ticks\":\"\"},\"colorscale\":[[0.0,\"#0d0887\"],[0.1111111111111111,\"#46039f\"],[0.2222222222222222,\"#7201a8\"],[0.3333333333333333,\"#9c179e\"],[0.4444444444444444,\"#bd3786\"],[0.5555555555555556,\"#d8576b\"],[0.6666666666666666,\"#ed7953\"],[0.7777777777777778,\"#fb9f3a\"],[0.8888888888888888,\"#fdca26\"],[1.0,\"#f0f921\"]]}],\"contourcarpet\":[{\"type\":\"contourcarpet\",\"colorbar\":{\"outlinewidth\":0,\"ticks\":\"\"}}],\"contour\":[{\"type\":\"contour\",\"colorbar\":{\"outlinewidth\":0,\"ticks\":\"\"},\"colorscale\":[[0.0,\"#0d0887\"],[0.1111111111111111,\"#46039f\"],[0.2222222222222222,\"#7201a8\"],[0.3333333333333333,\"#9c179e\"],[0.4444444444444444,\"#bd3786\"],[0.5555555555555556,\"#d8576b\"],[0.6666666666666666,\"#ed7953\"],[0.7777777777777778,\"#fb9f3a\"],[0.8888888888888888,\"#fdca26\"],[1.0,\"#f0f921\"]]}],\"surface\":[{\"type\":\"surface\",\"colorbar\":{\"outlinewidth\":0,\"ticks\":\"\"},\"colorscale\":[[0.0,\"#0d0887\"],[0.1111111111111111,\"#46039f\"],[0.2222222222222222,\"#7201a8\"],[0.3333333333333333,\"#9c179e\"],[0.4444444444444444,\"#bd3786\"],[0.5555555555555556,\"#d8576b\"],[0.6666666666666666,\"#ed7953\"],[0.7777777777777778,\"#fb9f3a\"],[0.8888888888888888,\"#fdca26\"],[1.0,\"#f0f921\"]]}],\"mesh3d\":[{\"type\":\"mesh3d\",\"colorbar\":{\"outlinewidth\":0,\"ticks\":\"\"}}],\"scatter\":[{\"fillpattern\":{\"fillmode\":\"overlay\",\"size\":10,\"solidity\":0.2},\"type\":\"scatter\"}],\"parcoords\":[{\"type\":\"parcoords\",\"line\":{\"colorbar\":{\"outlinewidth\":0,\"ticks\":\"\"}}}],\"scatterpolargl\":[{\"type\":\"scatterpolargl\",\"marker\":{\"colorbar\":{\"outlinewidth\":0,\"ticks\":\"\"}}}],\"bar\":[{\"error_x\":{\"color\":\"#2a3f5f\"},\"error_y\":{\"color\":\"#2a3f5f\"},\"marker\":{\"line\":{\"color\":\"#E5ECF6\",\"width\":0.5},\"pattern\":{\"fillmode\":\"overlay\",\"size\":10,\"solidity\":0.2}},\"type\":\"bar\"}],\"scattergeo\":[{\"type\":\"scattergeo\",\"marker\":{\"colorbar\":{\"outlinewidth\":0,\"ticks\":\"\"}}}],\"scatterpolar\":[{\"type\":\"scatterpolar\",\"marker\":{\"colorbar\":{\"outlinewidth\":0,\"ticks\":\"\"}}}],\"histogram\":[{\"marker\":{\"pattern\":{\"fillmode\":\"overlay\",\"size\":10,\"solidity\":0.2}},\"type\":\"histogram\"}],\"scattergl\":[{\"type\":\"scattergl\",\"marker\":{\"colorbar\":{\"outlinewidth\":0,\"ticks\":\"\"}}}],\"scatter3d\":[{\"type\":\"scatter3d\",\"line\":{\"colorbar\":{\"outlinewidth\":0,\"ticks\":\"\"}},\"marker\":{\"colorbar\":{\"outlinewidth\":0,\"ticks\":\"\"}}}],\"scattermapbox\":[{\"type\":\"scattermapbox\",\"marker\":{\"colorbar\":{\"outlinewidth\":0,\"ticks\":\"\"}}}],\"scatterternary\":[{\"type\":\"scatterternary\",\"marker\":{\"colorbar\":{\"outlinewidth\":0,\"ticks\":\"\"}}}],\"scattercarpet\":[{\"type\":\"scattercarpet\",\"marker\":{\"colorbar\":{\"outlinewidth\":0,\"ticks\":\"\"}}}],\"carpet\":[{\"aaxis\":{\"endlinecolor\":\"#2a3f5f\",\"gridcolor\":\"white\",\"linecolor\":\"white\",\"minorgridcolor\":\"white\",\"startlinecolor\":\"#2a3f5f\"},\"baxis\":{\"endlinecolor\":\"#2a3f5f\",\"gridcolor\":\"white\",\"linecolor\":\"white\",\"minorgridcolor\":\"white\",\"startlinecolor\":\"#2a3f5f\"},\"type\":\"carpet\"}],\"table\":[{\"cells\":{\"fill\":{\"color\":\"#EBF0F8\"},\"line\":{\"color\":\"white\"}},\"header\":{\"fill\":{\"color\":\"#C8D4E3\"},\"line\":{\"color\":\"white\"}},\"type\":\"table\"}],\"barpolar\":[{\"marker\":{\"line\":{\"color\":\"#E5ECF6\",\"width\":0.5},\"pattern\":{\"fillmode\":\"overlay\",\"size\":10,\"solidity\":0.2}},\"type\":\"barpolar\"}],\"pie\":[{\"automargin\":true,\"type\":\"pie\"}]},\"layout\":{\"autotypenumbers\":\"strict\",\"colorway\":[\"#636efa\",\"#EF553B\",\"#00cc96\",\"#ab63fa\",\"#FFA15A\",\"#19d3f3\",\"#FF6692\",\"#B6E880\",\"#FF97FF\",\"#FECB52\"],\"font\":{\"color\":\"#2a3f5f\"},\"hovermode\":\"closest\",\"hoverlabel\":{\"align\":\"left\"},\"paper_bgcolor\":\"white\",\"plot_bgcolor\":\"#E5ECF6\",\"polar\":{\"bgcolor\":\"#E5ECF6\",\"angularaxis\":{\"gridcolor\":\"white\",\"linecolor\":\"white\",\"ticks\":\"\"},\"radialaxis\":{\"gridcolor\":\"white\",\"linecolor\":\"white\",\"ticks\":\"\"}},\"ternary\":{\"bgcolor\":\"#E5ECF6\",\"aaxis\":{\"gridcolor\":\"white\",\"linecolor\":\"white\",\"ticks\":\"\"},\"baxis\":{\"gridcolor\":\"white\",\"linecolor\":\"white\",\"ticks\":\"\"},\"caxis\":{\"gridcolor\":\"white\",\"linecolor\":\"white\",\"ticks\":\"\"}},\"coloraxis\":{\"colorbar\":{\"outlinewidth\":0,\"ticks\":\"\"}},\"colorscale\":{\"sequential\":[[0.0,\"#0d0887\"],[0.1111111111111111,\"#46039f\"],[0.2222222222222222,\"#7201a8\"],[0.3333333333333333,\"#9c179e\"],[0.4444444444444444,\"#bd3786\"],[0.5555555555555556,\"#d8576b\"],[0.6666666666666666,\"#ed7953\"],[0.7777777777777778,\"#fb9f3a\"],[0.8888888888888888,\"#fdca26\"],[1.0,\"#f0f921\"]],\"sequentialminus\":[[0.0,\"#0d0887\"],[0.1111111111111111,\"#46039f\"],[0.2222222222222222,\"#7201a8\"],[0.3333333333333333,\"#9c179e\"],[0.4444444444444444,\"#bd3786\"],[0.5555555555555556,\"#d8576b\"],[0.6666666666666666,\"#ed7953\"],[0.7777777777777778,\"#fb9f3a\"],[0.8888888888888888,\"#fdca26\"],[1.0,\"#f0f921\"]],\"diverging\":[[0,\"#8e0152\"],[0.1,\"#c51b7d\"],[0.2,\"#de77ae\"],[0.3,\"#f1b6da\"],[0.4,\"#fde0ef\"],[0.5,\"#f7f7f7\"],[0.6,\"#e6f5d0\"],[0.7,\"#b8e186\"],[0.8,\"#7fbc41\"],[0.9,\"#4d9221\"],[1,\"#276419\"]]},\"xaxis\":{\"gridcolor\":\"white\",\"linecolor\":\"white\",\"ticks\":\"\",\"title\":{\"standoff\":15},\"zerolinecolor\":\"white\",\"automargin\":true,\"zerolinewidth\":2},\"yaxis\":{\"gridcolor\":\"white\",\"linecolor\":\"white\",\"ticks\":\"\",\"title\":{\"standoff\":15},\"zerolinecolor\":\"white\",\"automargin\":true,\"zerolinewidth\":2},\"scene\":{\"xaxis\":{\"backgroundcolor\":\"#E5ECF6\",\"gridcolor\":\"white\",\"linecolor\":\"white\",\"showbackground\":true,\"ticks\":\"\",\"zerolinecolor\":\"white\",\"gridwidth\":2},\"yaxis\":{\"backgroundcolor\":\"#E5ECF6\",\"gridcolor\":\"white\",\"linecolor\":\"white\",\"showbackground\":true,\"ticks\":\"\",\"zerolinecolor\":\"white\",\"gridwidth\":2},\"zaxis\":{\"backgroundcolor\":\"#E5ECF6\",\"gridcolor\":\"white\",\"linecolor\":\"white\",\"showbackground\":true,\"ticks\":\"\",\"zerolinecolor\":\"white\",\"gridwidth\":2}},\"shapedefaults\":{\"line\":{\"color\":\"#2a3f5f\"}},\"annotationdefaults\":{\"arrowcolor\":\"#2a3f5f\",\"arrowhead\":0,\"arrowwidth\":1},\"geo\":{\"bgcolor\":\"white\",\"landcolor\":\"#E5ECF6\",\"subunitcolor\":\"white\",\"showland\":true,\"showlakes\":true,\"lakecolor\":\"white\"},\"title\":{\"x\":0.05},\"mapbox\":{\"style\":\"light\"}}},\"xaxis\":{\"anchor\":\"y\",\"domain\":[0.0,1.0],\"title\":{\"text\":\"Loss_Factors\"},\"tickmode\":\"linear\"},\"yaxis\":{\"anchor\":\"x\",\"domain\":[0.0,1.0],\"title\":{\"text\":\"Accuracy\"},\"range\":[84.46,100]},\"legend\":{\"title\":{\"text\":\"Metric\"},\"tracegroupgap\":0},\"title\":{\"text\":\"Accuracy Metrics vs. Dictionary Keys\"},\"showlegend\":true},                        {\"responsive\": true}                    ).then(function(){\n",
       "                            \n",
       "var gd = document.getElementById('fdce591e-2681-4d66-b80a-f37554fec18f');\n",
       "var x = new MutationObserver(function (mutations, observer) {{\n",
       "        var display = window.getComputedStyle(gd).display;\n",
       "        if (!display || display === 'none') {{\n",
       "            console.log([gd, 'removed!']);\n",
       "            Plotly.purge(gd);\n",
       "            observer.disconnect();\n",
       "        }}\n",
       "}});\n",
       "\n",
       "// Listen for the removal of the full notebook cells\n",
       "var notebookContainer = gd.closest('#notebook-container');\n",
       "if (notebookContainer) {{\n",
       "    x.observe(notebookContainer, {childList: true});\n",
       "}}\n",
       "\n",
       "// Listen for the clearing of the current output cell\n",
       "var outputEl = gd.closest('.output');\n",
       "if (outputEl) {{\n",
       "    x.observe(outputEl, {childList: true});\n",
       "}}\n",
       "\n",
       "                        })                };                });            </script>        </div>"
      ]
     },
     "metadata": {},
     "output_type": "display_data"
    }
   ],
   "source": [
    "# loss_dict_paths = [\"./SAE-Results/256-0.75/results/F0/results/loss_data_dict_0.01_to_0.3_25_top.pkl\"]\n",
    "loss_dict_paths = [\"./loss_data_dict_0.01_to_0.3_256_mask.pkl\"]\n",
    "\n",
    "df = main(loss_dict_paths)"
   ]
  },
  {
   "cell_type": "code",
   "execution_count": 17,
   "id": "716bfb85-a72a-4c3c-9c6f-aa3d8367797d",
   "metadata": {},
   "outputs": [
    {
     "data": {
      "text/html": [
       "<div>\n",
       "<style scoped>\n",
       "    .dataframe tbody tr th:only-of-type {\n",
       "        vertical-align: middle;\n",
       "    }\n",
       "\n",
       "    .dataframe tbody tr th {\n",
       "        vertical-align: top;\n",
       "    }\n",
       "\n",
       "    .dataframe thead th {\n",
       "        text-align: right;\n",
       "    }\n",
       "</style>\n",
       "<table border=\"1\" class=\"dataframe\">\n",
       "  <thead>\n",
       "    <tr style=\"text-align: right;\">\n",
       "      <th></th>\n",
       "      <th>Loss_Factor</th>\n",
       "      <th>Metric</th>\n",
       "      <th>Value</th>\n",
       "    </tr>\n",
       "  </thead>\n",
       "  <tbody>\n",
       "    <tr>\n",
       "      <th>12</th>\n",
       "      <td>0.13</td>\n",
       "      <td>Final_Accuracy</td>\n",
       "      <td>92.84</td>\n",
       "    </tr>\n",
       "    <tr>\n",
       "      <th>20</th>\n",
       "      <td>0.21</td>\n",
       "      <td>Final_Accuracy</td>\n",
       "      <td>92.74</td>\n",
       "    </tr>\n",
       "    <tr>\n",
       "      <th>21</th>\n",
       "      <td>0.22</td>\n",
       "      <td>Final_Accuracy</td>\n",
       "      <td>92.73</td>\n",
       "    </tr>\n",
       "    <tr>\n",
       "      <th>13</th>\n",
       "      <td>0.14</td>\n",
       "      <td>Final_Accuracy</td>\n",
       "      <td>92.50</td>\n",
       "    </tr>\n",
       "    <tr>\n",
       "      <th>6</th>\n",
       "      <td>0.07</td>\n",
       "      <td>Final_Accuracy</td>\n",
       "      <td>92.48</td>\n",
       "    </tr>\n",
       "  </tbody>\n",
       "</table>\n",
       "</div>"
      ],
      "text/plain": [
       "    Loss_Factor          Metric  Value\n",
       "12         0.13  Final_Accuracy  92.84\n",
       "20         0.21  Final_Accuracy  92.74\n",
       "21         0.22  Final_Accuracy  92.73\n",
       "13         0.14  Final_Accuracy  92.50\n",
       "6          0.07  Final_Accuracy  92.48"
      ]
     },
     "execution_count": 17,
     "metadata": {},
     "output_type": "execute_result"
    }
   ],
   "source": [
    "df.query(\"Metric=='Final_Accuracy'\").sort_values(by=\"Value\", ascending=False).head()"
   ]
  },
  {
   "cell_type": "markdown",
   "id": "42620738-df45-4b73-a719-8e9487412c62",
   "metadata": {},
   "source": [
    "# Iteration 0\n",
    "\n",
    "We skip over this for now, as our only settings would be to change hidden size and loss penalty. This is not as critical to our research.\n",
    "\n",
    "This does generate the `train_images_recon_max_sparse` intermediate label pickle files."
   ]
  },
  {
   "cell_type": "code",
   "execution_count": null,
   "id": "32bffa86-ce8e-47db-9254-e66866fcbdfc",
   "metadata": {},
   "outputs": [],
   "source": [
    "print(\"Baseline\")\n",
    "loss_dict_paths = [\"./SAE-Results/256-0.75/results/baseline/classifier_results.pkl\"]\n",
    "df_baseline= main(loss_dict_paths)"
   ]
  },
  {
   "cell_type": "code",
   "execution_count": null,
   "id": "038989d5-8b20-4e86-aee8-c352ee8d2f04",
   "metadata": {},
   "outputs": [],
   "source": [
    "df_baseline"
   ]
  },
  {
   "cell_type": "code",
   "execution_count": null,
   "id": "69d70f8e-1973-4bc5-8ff8-3784eea1546b",
   "metadata": {},
   "outputs": [],
   "source": [
    "import plotly.express as px\n",
    "\n",
    "fig = px.bar(df_baseline, x='Metric', y='Value', title='Accuracy Metrics', color='Metric', text='Value')\n",
    "\n",
    "# Update layout for better readability\n",
    "fig.update_traces(textposition='auto')\n",
    "fig.update_layout(\n",
    "    xaxis_title='Metric',\n",
    "    yaxis_title='Value (%)',\n",
    "    showlegend=False,\n",
    "    width=750,  # Set width in pixels\n",
    "    height=600  # Set height in pixels\n",
    ")\n",
    "\n",
    "# fig.write_html(\"accuracy_metrics_baseline.html\")\n",
    "fig.write_json(\"accuracy_metrics_baseline.json\")\n",
    "\n",
    "# Show the plot\n",
    "fig.show()"
   ]
  },
  {
   "cell_type": "markdown",
   "id": "c9150915-002c-4b3c-87f4-f33e92f7da7c",
   "metadata": {},
   "source": [
    "# Iteration 1"
   ]
  },
  {
   "cell_type": "code",
   "execution_count": null,
   "id": "9c29d0a8-f6b2-450f-99f1-e86e03fdc58a",
   "metadata": {},
   "outputs": [],
   "source": [
    "# print(\"Top 25\")\n",
    "# loss_dict_paths = [\"./SAE-Results/256-0.75/results/F0/results/loss_data_dict_0.01_to_0.3_25_top.pkl\"]\n",
    "# df_top_25 = main(loss_dict_paths)\n",
    "\n",
    "print(\"Bottom 231\")\n",
    "loss_dict_paths = [\"./SAE-Results/256-0.75/results/F0/results/loss_data_dict_0.01_to_0.3_25_mask.pkl\"]\n",
    "df_top_25_mask = main(loss_dict_paths)\n",
    "\n",
    "# print(\"#\" * 140)\n",
    "\n",
    "# print(\"\\nAll 256\")\n",
    "# loss_dict_paths = [\"./SAE-Results/256-0.75/results/F0/results/loss_data_dict_0.01_to_0.3_256_top.pkl\"]\n",
    "# df_all = main(loss_dict_paths)\n",
    "\n",
    "# print(\"0 Features\")\n",
    "# loss_dict_paths = [\"./SAE-Results/256-0.75/results/F0/results/loss_data_dict_0.01_to_0.3_256_mask.pkl\"]\n",
    "# df_none = main(loss_dict_paths)"
   ]
  },
  {
   "cell_type": "code",
   "execution_count": null,
   "id": "da9d17e5-473b-4a4e-bbc4-6f299dcfd6c1",
   "metadata": {},
   "outputs": [],
   "source": [
    "df_top_25_mask.query(\"Metric=='Final_Accuracy'\").sort_values(by=\"Value\", ascending=False).head()"
   ]
  },
  {
   "cell_type": "code",
   "execution_count": null,
   "id": "a0c3c6d3-58a2-4b50-90d1-1cb902700a5c",
   "metadata": {},
   "outputs": [],
   "source": [
    "df_none.query(\"Metric=='Final_Accuracy'\").sort_values(by=\"Value\", ascending=False).head()"
   ]
  },
  {
   "cell_type": "markdown",
   "id": "9dc556dc-7b6d-49f7-9c32-96d197898df6",
   "metadata": {},
   "source": [
    "# Iteration 2"
   ]
  },
  {
   "cell_type": "markdown",
   "id": "28e82b06-f136-4d77-866a-a2a050a39f9e",
   "metadata": {},
   "source": [
    "### Lambda 0.14\n",
    "\n",
    "Targets generated by `25_top` from iteration 1."
   ]
  },
  {
   "cell_type": "code",
   "execution_count": null,
   "id": "35f40331-ec67-4ea3-bb19-bc6e65202f23",
   "metadata": {},
   "outputs": [],
   "source": [
    "# print(\"Top 25\")\n",
    "# loss_dict_paths = [\"./SAE-Results/256-0.75/results/F1/results/25_top_0.14/loss_data_dict_0.01_to_0.3_25_top.pkl\"]\n",
    "# df_top_25_2 = main(loss_dict_paths)\n",
    "\n",
    "# print(\"Bottom 231\")\n",
    "# loss_dict_paths = [\"./SAE-Results/256-0.75/results/F1/results/25_top_0.14/loss_data_dict_0.01_to_0.3_25_mask.pkl\"]\n",
    "# df_top_25_mask_2 = main(loss_dict_paths)\n",
    "\n",
    "# print(\"#\" * 140)\n",
    "\n",
    "# print(\"\\nAll 256\")\n",
    "# loss_dict_paths = [\"./SAE-Results/256-0.75/results/F1/results/25_top_0.14/loss_data_dict_0.01_to_0.3_256_top.pkl\"]\n",
    "# df_all_2 = main(loss_dict_paths)\n",
    "\n",
    "# print(\"0 Features\")\n",
    "# loss_dict_paths = [\"./SAE-Results/256-0.75/results/F1/results/25_top_0.14/loss_data_dict_0.01_to_0.3_256_mask.pkl\"]\n",
    "# df_none_2 = main(loss_dict_paths)"
   ]
  },
  {
   "cell_type": "code",
   "execution_count": null,
   "id": "490d3ea9-a11d-4044-8ac8-e7dcc4e4df10",
   "metadata": {},
   "outputs": [],
   "source": [
    "df_top_25_2.query(\"Metric=='Final_Accuracy'\").sort_values(by=\"Value\", ascending=False).head(5)"
   ]
  },
  {
   "cell_type": "code",
   "execution_count": null,
   "id": "e9e7ba52-efff-47b1-9ecf-c12bd4fb97ec",
   "metadata": {},
   "outputs": [],
   "source": [
    "df_top_25_mask_2.query(\"Metric=='Final_Accuracy'\").sort_values(by=\"Value\", ascending=False).head(5)"
   ]
  },
  {
   "cell_type": "code",
   "execution_count": null,
   "id": "dd421d9a-b387-4234-89ce-9a9ce22bb6c0",
   "metadata": {},
   "outputs": [],
   "source": [
    "df_none_2.query(\"Metric=='Final_Accuracy'\").sort_values(by=\"Value\", ascending=False).head(5)"
   ]
  },
  {
   "cell_type": "markdown",
   "id": "d479761d-e4c0-4400-b6fa-0ef270fb83ff",
   "metadata": {},
   "source": [
    "### Lambda 0.07\n",
    "\n",
    "Targets generated by `256_top` from iteration 1."
   ]
  },
  {
   "cell_type": "code",
   "execution_count": null,
   "id": "8a40b4d2-c626-4db6-a960-7e848f2e63dc",
   "metadata": {
    "scrolled": true
   },
   "outputs": [],
   "source": [
    "# print(\"Top 25\")\n",
    "# loss_dict_paths = [\"./SAE-Results/256-0.75/results/F1/results/256_top_0.07/loss_data_dict_0.01_to_0.3_25_top.pkl\"]\n",
    "# df_top_25_2_1 = main(loss_dict_paths)\n",
    "\n",
    "# print(\"Bottom 231\")\n",
    "# loss_dict_paths = [\"./SAE-Results/256-0.75/results/F1/results/256_top_0.07/loss_data_dict_0.01_to_0.3_25_mask.pkl\"]\n",
    "# df_top_25_mask_2_1 = main(loss_dict_paths)\n",
    "\n",
    "# print(\"#\" * 140)\n",
    "\n",
    "# print(\"\\nAll 256\")\n",
    "# loss_dict_paths = [\"./SAE-Results/256-0.75/results/F1/results/256_top_0.07/loss_data_dict_0.01_to_0.3_256_top.pkl\"]\n",
    "# df_all_2_1 = main(loss_dict_paths)\n",
    "\n",
    "print(\"0 Features\")\n",
    "loss_dict_paths = [\"./SAE-Results/256-0.75/results/F1/results/256_top_0.07/loss_data_dict_0.01_to_0.3_256_mask.pkl\"]\n",
    "df_none_2_1 = main(loss_dict_paths)"
   ]
  },
  {
   "cell_type": "code",
   "execution_count": null,
   "id": "252b30b8-78e4-49df-b5cd-04e7aec9f31a",
   "metadata": {},
   "outputs": [],
   "source": [
    "df_top_25_2_1.query(\"Metric=='Final_Accuracy'\").sort_values(by=\"Value\", ascending=False).head(5)"
   ]
  },
  {
   "cell_type": "code",
   "execution_count": null,
   "id": "859e7cb3-31b3-4e1a-884a-872163e1b7c5",
   "metadata": {},
   "outputs": [],
   "source": [
    "df_all_2_1.query(\"Metric=='Final_Accuracy'\").sort_values(by=\"Value\", ascending=False).head(5)"
   ]
  },
  {
   "cell_type": "markdown",
   "id": "471dcf30-ad04-414a-ba3c-f97a318bb46d",
   "metadata": {},
   "source": [
    "# Iteration 3"
   ]
  },
  {
   "cell_type": "markdown",
   "id": "f993877a-ea35-47a0-821e-31371aef21d3",
   "metadata": {},
   "source": [
    "Generated by 25_top_0.14 -> 25_top_0.06."
   ]
  },
  {
   "cell_type": "code",
   "execution_count": null,
   "id": "13c946b3-799a-4c6a-9ab0-a47dcd0309aa",
   "metadata": {
    "scrolled": true
   },
   "outputs": [],
   "source": [
    "# print(\"Top 25\")\n",
    "# loss_dict_paths = [\"./SAE-Results/256-0.75/results/F2/results/25_top_0.14_25_top_0.06/loss_data_dict_0.01_to_0.3_25_top.pkl\"]\n",
    "# df_top_25_3 = main(loss_dict_paths)\n",
    "\n",
    "print(\"Bottom 231\")\n",
    "loss_dict_paths = [\"./SAE-Results/256-0.75/results/F2/results/25_top_0.14_25_top_0.06/loss_data_dict_0.01_to_0.3_25_mask.pkl\"]\n",
    "df_top_25_3 = main(loss_dict_paths)\n",
    "\n",
    "# print(\"#\" * 140)\n",
    "\n",
    "# print(\"\\nAll 256\")\n",
    "# loss_dict_paths = [\"./SAE-Results/256-0.75/results/F2/results/25_top_0.14_25_top_0.06/loss_data_dict_0.01_to_0.3_256_top.pkl\"]\n",
    "# df_all_3 = main(loss_dict_paths)\n",
    "\n",
    "# print(\"\\nAll 256\")\n",
    "# loss_dict_paths = [\"./SAE-Results/256-0.75/results/F2/results/25_top_0.14_25_top_0.06/loss_data_dict_0.01_to_0.3_256_mask.pkl\"]\n",
    "# df_all_3 = main(loss_dict_paths)"
   ]
  },
  {
   "cell_type": "code",
   "execution_count": null,
   "id": "4b29cb69-f051-4db5-a814-aabeabc48709",
   "metadata": {},
   "outputs": [],
   "source": [
    "df_top_25_3.query(\"Metric=='Final_Accuracy'\").sort_values(by=\"Value\", ascending=False).head(5)"
   ]
  },
  {
   "cell_type": "code",
   "execution_count": null,
   "id": "a6386eae-3176-4520-bf4a-bea9cebc28b1",
   "metadata": {},
   "outputs": [],
   "source": [
    "df_all_3.query(\"Metric=='Final_Accuracy'\").sort_values(by=\"Value\", ascending=False).head(5)"
   ]
  },
  {
   "cell_type": "markdown",
   "id": "17424ff1-49d9-41e5-8359-f2faf378e2ce",
   "metadata": {},
   "source": [
    "Generated by 256_top_0.07 -> 25_top_0.08 "
   ]
  },
  {
   "cell_type": "code",
   "execution_count": null,
   "id": "63722ac7-98e4-4a36-af23-d97e662d2430",
   "metadata": {},
   "outputs": [],
   "source": [
    "print(\"Top 25\")\n",
    "loss_dict_paths = [\"./SAE-Results/256-0.75/results/F2/results/256_top_0.07_25_top_0.08/loss_data_dict_0.01_to_0.3_25_top.pkl\"]\n",
    "df_top_25_3_1 = main(loss_dict_paths)\n",
    "\n",
    "print(\"#\" * 140)\n",
    "\n",
    "print(\"\\nAll 256\")\n",
    "loss_dict_paths = [\"./SAE-Results/256-0.75/results/F2/results/256_top_0.07_25_top_0.08/loss_data_dict_0.01_to_0.3_256_top.pkl\"]\n",
    "df_all_3_1 = main(loss_dict_paths)"
   ]
  },
  {
   "cell_type": "code",
   "execution_count": null,
   "id": "0a56e2c6-340a-4895-9d67-a340f45a42f8",
   "metadata": {},
   "outputs": [],
   "source": [
    "df_top_25_3_1.query(\"Metric=='Final_Accuracy'\").sort_values(by=\"Value\", ascending=False).head(5)"
   ]
  },
  {
   "cell_type": "code",
   "execution_count": null,
   "id": "4b79f9b0-4f20-439a-ab19-e3ce0da75613",
   "metadata": {},
   "outputs": [],
   "source": [
    "df_all_3_1.query(\"Metric=='Final_Accuracy'\").sort_values(by=\"Value\", ascending=False).head(5)"
   ]
  },
  {
   "cell_type": "markdown",
   "id": "4b8e2f71-8f76-41cb-be3e-5702a7248b74",
   "metadata": {},
   "source": [
    "Generated by 256_top_0.07 -> 256 top 0.04"
   ]
  },
  {
   "cell_type": "code",
   "execution_count": null,
   "id": "75a1237d-cad3-478e-a245-25639840542d",
   "metadata": {},
   "outputs": [],
   "source": [
    "print(\"\\nAll 256\")\n",
    "loss_dict_paths = [\"./SAE-Results/256-0.75/results/F2/results/256_top_0.06_256_top_0.04/loss_data_dict_0.01_to_0.3_256_top.pkl\"]\n",
    "df_all_3_1 = main(loss_dict_paths)"
   ]
  },
  {
   "cell_type": "code",
   "execution_count": null,
   "id": "3df6e8a0-2047-4e0c-8328-df82de8cb61a",
   "metadata": {},
   "outputs": [],
   "source": [
    "df_all_3_1.query(\"Metric=='Final_Accuracy'\").sort_values(by=\"Value\", ascending=False).head(5)"
   ]
  },
  {
   "cell_type": "markdown",
   "id": "02b62485-50e9-4be1-8c89-fbe986357d6f",
   "metadata": {},
   "source": [
    "# Iteration 4"
   ]
  },
  {
   "cell_type": "markdown",
   "id": "55a55d12-d058-4ceb-9fa5-c99f1b142a68",
   "metadata": {},
   "source": [
    "Generated by 25_top_0.14 -> 25_top_0.06 -> 25_top_0.18."
   ]
  },
  {
   "cell_type": "code",
   "execution_count": null,
   "id": "b5fe23a9-d789-4551-951f-279873ae4daf",
   "metadata": {
    "scrolled": true
   },
   "outputs": [],
   "source": [
    "print(\"Top 25\")\n",
    "loss_dict_paths = [\"./SAE-Results/256-0.75/results/F3/results/25_top_0.14_25_top_0.06_25_top_0.18/loss_data_dict_0.01_to_0.3_25_top.pkl\"]\n",
    "df_top_25_4 = main(loss_dict_paths)\n",
    "\n",
    "print(\"#\" * 140)\n",
    "\n",
    "print(\"\\nAll 256\")\n",
    "loss_dict_paths = [\"./SAE-Results/256-0.75/results/F3/results/25_top_0.14_25_top_0.06_25_top_0.18/loss_data_dict_0.01_to_0.3_256_top.pkl\"]\n",
    "df_all_4 = main(loss_dict_paths)"
   ]
  },
  {
   "cell_type": "code",
   "execution_count": null,
   "id": "d32b8a02-da50-4a13-bc0e-f1aa7e009fc2",
   "metadata": {},
   "outputs": [],
   "source": [
    "df_top_25_4.query(\"Metric=='Final_Accuracy'\").sort_values(by=\"Value\", ascending=False).head(5)"
   ]
  },
  {
   "cell_type": "code",
   "execution_count": null,
   "id": "7e215d0e-fb52-4ef1-b566-e751b9a6c3eb",
   "metadata": {},
   "outputs": [],
   "source": [
    "df_all_4.query(\"Metric=='Final_Accuracy'\").sort_values(by=\"Value\", ascending=False).head(5)"
   ]
  },
  {
   "cell_type": "code",
   "execution_count": null,
   "id": "f0972bd2-446a-4050-a1cf-be3e925f0404",
   "metadata": {
    "scrolled": true
   },
   "outputs": [],
   "source": [
    "print(\"Top 25\")\n",
    "loss_dict_paths = [\"./SAE-Results/256-0.75/results/F3/results/25_top_0.14_25_top_0.06_25_top_0.27/loss_data_dict_0.01_to_0.3_25_top.pkl\"]\n",
    "df_top_25_4_1 = main(loss_dict_paths)\n",
    "\n",
    "print(\"#\" * 140)\n",
    "\n",
    "print(\"\\nAll 256\")\n",
    "loss_dict_paths = [\"./SAE-Results/256-0.75/results/F3/results/25_top_0.14_25_top_0.06_25_top_0.27/loss_data_dict_0.01_to_0.3_256_top.pkl\"]\n",
    "df_all_4_1 = main(loss_dict_paths)"
   ]
  },
  {
   "cell_type": "code",
   "execution_count": null,
   "id": "23a63315-f2ad-4077-a420-a6d9d00ce70b",
   "metadata": {},
   "outputs": [],
   "source": [
    "df_top_25_4_1.query(\"Metric=='Final_Accuracy'\").sort_values(by=\"Value\", ascending=False).head(5)"
   ]
  },
  {
   "cell_type": "code",
   "execution_count": null,
   "id": "0eed87fc-322b-4595-9d4e-a192a2b84e27",
   "metadata": {},
   "outputs": [],
   "source": [
    "df_all_4_1.query(\"Metric=='Final_Accuracy'\").sort_values(by=\"Value\", ascending=False).head(5)"
   ]
  },
  {
   "cell_type": "code",
   "execution_count": null,
   "id": "910fed29-906b-4897-ba1c-658cd8323a15",
   "metadata": {},
   "outputs": [],
   "source": []
  }
 ],
 "metadata": {
  "kernelspec": {
   "display_name": "Python 3 (ipykernel)",
   "language": "python",
   "name": "python3"
  },
  "language_info": {
   "codemirror_mode": {
    "name": "ipython",
    "version": 3
   },
   "file_extension": ".py",
   "mimetype": "text/x-python",
   "name": "python",
   "nbconvert_exporter": "python",
   "pygments_lexer": "ipython3",
   "version": "3.10.12"
  }
 },
 "nbformat": 4,
 "nbformat_minor": 5
}
