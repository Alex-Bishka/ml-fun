{
 "cells": [
  {
   "cell_type": "code",
   "execution_count": 1,
   "id": "95eac496-e299-4e4b-8ea3-a29d02e4da55",
   "metadata": {},
   "outputs": [
    {
     "name": "stdout",
     "output_type": "stream",
     "text": [
      "We will be using device: cuda\n"
     ]
    }
   ],
   "source": [
    "from tqdm import tqdm\n",
    "\n",
    "import torch\n",
    "from torch.utils.data import DataLoader\n",
    "\n",
    "import numpy as np\n",
    "from models_and_data.nn import NeuralNetwork\n",
    "from models_and_data.sae import SparseAutoencoder\n",
    "from models_and_data.edgedataset import EdgeDataset\n",
    "from models_and_data.model_helpers import (load_intermediate_labels, extract_activations, evaluate_and_gather_activations, get_sublabel_data, get_top_N_features)\n",
    "\n",
    "from sklearn.metrics import mutual_info_score\n",
    "\n",
    "HIDDEN_SIZE = 256\n",
    "device = torch.device('cuda' if torch.cuda.is_available() else 'cpu')\n",
    "print(f\"We will be using device: {device}\")\n",
    "\n",
    "# train data\n",
    "train_images = load_intermediate_labels(\"./intermediate-labels/first_layer/train_images.pkl\")\n",
    "train_labels = load_intermediate_labels(\"./intermediate-labels/first_layer/train_labels.pkl\")\n",
    "\n",
    "# test data\n",
    "test_images = load_intermediate_labels(\"./intermediate-labels/first_layer/test_images.pkl\")\n",
    "test_labels = load_intermediate_labels(\"./intermediate-labels/first_layer/test_labels.pkl\")\n",
    "\n",
    "seed = 42\n",
    "generator = torch.Generator().manual_seed(seed)\n",
    "\n",
    "NUM_WORKERS = 4\n",
    "if device.type.lower() == \"cpu\":\n",
    "    NUM_WORKERS = 0\n",
    "\n",
    "# test data\n",
    "test_dataset = EdgeDataset(test_images, test_labels)\n",
    "test_loader = DataLoader(test_dataset, batch_size=128, shuffle=False, num_workers=NUM_WORKERS, pin_memory=True)\n",
    "\n",
    "layer = 'one'\n",
    "model_paths = [\n",
    "    \"./SAE-Results/256-0.75/results/baseline/model_state_dict.pth\",\n",
    "    \"./SAE-Results/256-0.75/results/F0/models/25_top/best_model_lf_0.14.pth\",\n",
    "    \"./SAE-Results/256-0.75/results/F1/models/25_top_0.14/25_top/best_model_lf_0.06.pth\",\n",
    "    \"./SAE-Results/256-0.75/results/F2/models/25_top_0.14_25_top_0.06/25_top/best_model_lf_0.18.pth\"\n",
    "\n",
    "    # \"./models_saved/256_mask/best_model_lf_0.29.pth\"\n",
    "\n",
    "    # \"./SAE-Results/256-0.75/results/baseline/model_state_dict.pth\",\n",
    "    # \"./SAE-Results/256-0.75/results/F0/models/25_mask/best_model_lf_0.01.pth\",\n",
    "    # \"./SAE-Results/256-0.75/results/F1/models/25_mask_0.01/25_mask/best_model_lf_0.06.pth\",\n",
    "    # \"./SAE-Results/256-0.75/results/F2/models/25_mask_0.01_25_mask_0.06/25_mask/best_model_lf_0.2.pth\"\n",
    "\n",
    "    # \"./SAE-Results/256-0.75/results/baseline/model_state_dict.pth\",\n",
    "    # \"./SAE-Results/256-0.75/results/F0/models/256_top/best_model_lf_0.07.pth\",\n",
    "    # \"./SAE-Results/256-0.75/results/F1/models/256_top_0.07/256_top/best_model_lf_0.04.pth\",\n",
    "    # \"./SAE-Results/256-0.75/results/F2/models/256_top_0.07_256_top_0.04/256_top/best_model_lf_0.03.pth\"\n",
    "\n",
    "    # \"./SAE-Results/256-0.75/results/baseline/model_state_dict.pth\",\n",
    "    # \"./SAE-Results/256-0.75/results/F0/models/256_mask/best_model_lf_0.29.pth\",\n",
    "    # \"./SAE-Results/256-0.75/results/F1/models/256_mask_0.29/256_mask/best_model_lf_0.02.pth\",\n",
    "    # \"./SAE-Results/256-0.75/results/F2/models/256_mask_0.29_256_mask_0.02/256_mask/best_model_lf_0.13.pth\"\n",
    "\n",
    "    # \"./full-total_epoch_100/full-34.pth\",\n",
    "    # \"./full-total_epoch_100/full-70.pth\"\n",
    "]"
   ]
  },
  {
   "cell_type": "code",
   "execution_count": 2,
   "id": "31b91a5c-51fe-415e-a9a0-8d5e295685fa",
   "metadata": {},
   "outputs": [
    {
     "data": {
      "text/plain": [
       "['./SAE-Results/256-0.75/results/baseline/model_state_dict.pth']"
      ]
     },
     "execution_count": 2,
     "metadata": {},
     "output_type": "execute_result"
    }
   ],
   "source": [
    "model_paths[0:1]"
   ]
  },
  {
   "cell_type": "code",
   "execution_count": 6,
   "id": "a1b432a4-b291-4a88-aca5-afe0c69b3939",
   "metadata": {},
   "outputs": [
    {
     "name": "stdout",
     "output_type": "stream",
     "text": [
      "./SAE-Results/256-0.75/results/F1/models/25_top_0.14/25_top/best_model_lf_0.06.pth\n"
     ]
    },
    {
     "name": "stderr",
     "output_type": "stream",
     "text": [
      "                                                                                                                                               \r"
     ]
    },
    {
     "name": "stdout",
     "output_type": "stream",
     "text": [
      "Model acc: 93.2\n"
     ]
    },
    {
     "name": "stderr",
     "output_type": "stream",
     "text": [
      "Extracting Activations: 100%|██████████████████████████████████████████████████████████████████████████████████| 79/79 [00:00<00:00, 97.50it/s]\n"
     ]
    },
    {
     "name": "stdout",
     "output_type": "stream",
     "text": [
      "Features used:\n",
      "25\n",
      "Mean class-selectivity: 0.6183466103468614\n",
      "############################################################\n",
      "./SAE-Results/256-0.75/results/F2/models/25_top_0.14_25_top_0.06/25_top/best_model_lf_0.18.pth\n"
     ]
    },
    {
     "name": "stderr",
     "output_type": "stream",
     "text": [
      "                                                                                                                                               \r"
     ]
    },
    {
     "name": "stdout",
     "output_type": "stream",
     "text": [
      "Model acc: 93.66\n"
     ]
    },
    {
     "name": "stderr",
     "output_type": "stream",
     "text": [
      "Extracting Activations: 100%|██████████████████████████████████████████████████████████████████████████████████| 79/79 [00:00<00:00, 81.84it/s]\n"
     ]
    },
    {
     "name": "stdout",
     "output_type": "stream",
     "text": [
      "Features used:\n",
      "25\n",
      "Mean class-selectivity: 0.558879684182666\n",
      "############################################################\n"
     ]
    }
   ],
   "source": [
    "for best_model_path in model_paths[2:]:\n",
    "    print(best_model_path)\n",
    "    checkpoint = torch.load(best_model_path)\n",
    "\n",
    "    model = NeuralNetwork().to(device)\n",
    "    model.load_state_dict(checkpoint['model_state_dict'])\n",
    "\n",
    "    sae = SparseAutoencoder(input_size=16, hidden_size=HIDDEN_SIZE).to(device)\n",
    "    sae.load_state_dict(checkpoint[f'sae_{layer}_state_dict'])\n",
    "\n",
    "    test_results = evaluate_and_gather_activations(model, sae, sae, test_loader, device)\n",
    "    print(f\"Model acc: {test_results['accuracy']}\")\n",
    "\n",
    "    activation_data = extract_activations(\n",
    "        data_loader=test_loader,\n",
    "        model=model,\n",
    "        sae_one=sae,\n",
    "        sae_two=sae,\n",
    "        device=device\n",
    "    )\n",
    "\n",
    "    sparse_vector_sizes = [25]\n",
    "    for N_recon in sparse_vector_sizes:\n",
    "        labels = activation_data[\"labels\"]\n",
    "        sparse_act_one = activation_data[\"sparse_one\"]\n",
    "        avg_digit_encoding, top_n_features = get_top_N_features(N_recon, sparse_act_one, labels)\n",
    "        \n",
    "        feature_indices_dict = {}\n",
    "        for digit in range(0, 10):\n",
    "            feature_indices_dict[digit] = top_n_features[digit]['indices']\n",
    "        \n",
    "        print(\"Features used:\")\n",
    "        print(len(feature_indices_dict[0]))\n",
    "        \n",
    "        recon_max_sparse_training, recon_max_sparse_ablated_training = get_sublabel_data(\n",
    "                                                                        test_labels,\n",
    "                                                                        test_images,\n",
    "                                                                        feature_indices_dict,\n",
    "                                                                        sparse_act_one,\n",
    "                                                                        sae,\n",
    "                                                                        device,\n",
    "                                                                        HIDDEN_SIZE\n",
    "                                                                    )\n",
    "\n",
    "    # codes = activation_data[f'sparse_{layer}']\n",
    "    # codes = activation_data[f'hidden_{layer}']\n",
    "\n",
    "    recon_max_sparse_tensor = torch.cat(recon_max_sparse_training, dim=0)\n",
    "    codes = recon_max_sparse_tensor.cpu().numpy()\n",
    "    labels = activation_data['labels']\n",
    "\n",
    "    H = codes.shape[1]\n",
    "    mi_indices = np.zeros(H)\n",
    "    csi_indices = np.zeros(H)\n",
    "    \n",
    "    unique_classes = np.unique(labels)\n",
    "    num_classes = len(unique_classes)\n",
    "    for j in range(H):\n",
    "        act_j = codes[:, j]\n",
    "    \n",
    "        # normalized MI variant\n",
    "        # thr = np.percentile(act_j, 75)           # e.g. threshold at top 25%\n",
    "        # binarized = (act_j > thr).astype(int)\n",
    "        # mi = mutual_info_score(binarized, labels)\n",
    "        # p_on = binarized.mean()\n",
    "        # h_on = -(p_on*np.log2(p_on + 1e-12) + (1-p_on)*np.log2(1-p_on + 1e-12))\n",
    "        # mi_indices[j] = mi / (h_on + 1e-12)\n",
    "    \n",
    "        # standard CSI\n",
    "        act_j_rectified = np.maximum(0, act_j)\n",
    "        class_means = np.array([np.mean(act_j_rectified[labels == c]) for c in unique_classes])\n",
    "        mu_max = np.max(class_means)\n",
    "        max_idx = np.argmax(class_means)\n",
    "        mu_other = np.mean(class_means[np.arange(num_classes) != max_idx]) if num_classes > 1 else 0\n",
    "        denominator = mu_max + mu_other + 1e-12\n",
    "        csi_indices[j] = (mu_max - mu_other) / denominator if denominator != 0 else 0\n",
    "    \n",
    "    # print(\"Mean class-selectivity (normalized MI):\", mi_indices.mean())\n",
    "    print(\"Mean class-selectivity:\", csi_indices.mean())\n",
    "    print(\"#\" * 60)"
   ]
  },
  {
   "cell_type": "code",
   "execution_count": null,
   "id": "66db3780-a425-4ccf-9d6f-3e5495237f98",
   "metadata": {},
   "outputs": [],
   "source": []
  }
 ],
 "metadata": {
  "kernelspec": {
   "display_name": "Python 3 (ipykernel)",
   "language": "python",
   "name": "python3"
  },
  "language_info": {
   "codemirror_mode": {
    "name": "ipython",
    "version": 3
   },
   "file_extension": ".py",
   "mimetype": "text/x-python",
   "name": "python",
   "nbconvert_exporter": "python",
   "pygments_lexer": "ipython3",
   "version": "3.10.12"
  }
 },
 "nbformat": 4,
 "nbformat_minor": 5
}
