{
 "cells": [
  {
   "cell_type": "code",
   "execution_count": 9,
   "id": "64139d74-c105-42b4-8fd4-46927c71c279",
   "metadata": {},
   "outputs": [],
   "source": [
    "import pandas as pd\n",
    "import plotly.express as px"
   ]
  },
  {
   "cell_type": "markdown",
   "id": "b81615c4-02b7-421c-ab45-a0e0a616b587",
   "metadata": {},
   "source": [
    "# Entropy Analysis"
   ]
  },
  {
   "cell_type": "code",
   "execution_count": 5,
   "id": "730b67d5-a0c5-4564-995a-fd5eb16ed64c",
   "metadata": {},
   "outputs": [],
   "source": [
    "df = pd.read_csv(\"./results/entropy.csv\", index_col=0)"
   ]
  },
  {
   "cell_type": "code",
   "execution_count": 6,
   "id": "5111f4dc-599c-485a-9a9a-15a8ec7934b0",
   "metadata": {},
   "outputs": [
    {
     "data": {
      "text/html": [
       "<div>\n",
       "<style scoped>\n",
       "    .dataframe tbody tr th:only-of-type {\n",
       "        vertical-align: middle;\n",
       "    }\n",
       "\n",
       "    .dataframe tbody tr th {\n",
       "        vertical-align: top;\n",
       "    }\n",
       "\n",
       "    .dataframe thead th {\n",
       "        text-align: right;\n",
       "    }\n",
       "</style>\n",
       "<table border=\"1\" class=\"dataframe\">\n",
       "  <thead>\n",
       "    <tr style=\"text-align: right;\">\n",
       "      <th></th>\n",
       "      <th>prompt_index</th>\n",
       "      <th>prompt_start</th>\n",
       "      <th>entropies.0</th>\n",
       "      <th>entropies.1</th>\n",
       "      <th>entropies.2</th>\n",
       "      <th>entropies.5</th>\n",
       "      <th>entropies.10</th>\n",
       "      <th>entropies.15</th>\n",
       "      <th>entropies.20</th>\n",
       "      <th>entropies.24</th>\n",
       "      <th>entropies.25</th>\n",
       "    </tr>\n",
       "  </thead>\n",
       "  <tbody>\n",
       "    <tr>\n",
       "      <th>0</th>\n",
       "      <td>0</td>\n",
       "      <td>James and his mom were walking to the park one...</td>\n",
       "      <td>0.002841</td>\n",
       "      <td>0.012692</td>\n",
       "      <td>0.013692</td>\n",
       "      <td>0.106909</td>\n",
       "      <td>0.810335</td>\n",
       "      <td>1.156944</td>\n",
       "      <td>0.453167</td>\n",
       "      <td>0.303021</td>\n",
       "      <td>0.929745</td>\n",
       "    </tr>\n",
       "    <tr>\n",
       "      <th>1</th>\n",
       "      <td>1</td>\n",
       "      <td>Once there was a little girl. She liked to put...</td>\n",
       "      <td>0.004980</td>\n",
       "      <td>0.005868</td>\n",
       "      <td>0.033454</td>\n",
       "      <td>0.130812</td>\n",
       "      <td>0.568140</td>\n",
       "      <td>0.974174</td>\n",
       "      <td>0.398959</td>\n",
       "      <td>0.390052</td>\n",
       "      <td>1.061851</td>\n",
       "    </tr>\n",
       "    <tr>\n",
       "      <th>2</th>\n",
       "      <td>2</td>\n",
       "      <td>Ben and Mia are twins. They like to play with ...</td>\n",
       "      <td>0.004665</td>\n",
       "      <td>0.009815</td>\n",
       "      <td>0.031804</td>\n",
       "      <td>0.149576</td>\n",
       "      <td>0.656617</td>\n",
       "      <td>1.062842</td>\n",
       "      <td>0.377453</td>\n",
       "      <td>0.305333</td>\n",
       "      <td>0.915309</td>\n",
       "    </tr>\n",
       "    <tr>\n",
       "      <th>3</th>\n",
       "      <td>3</td>\n",
       "      <td>Once upon a time there was an otter named Timm...</td>\n",
       "      <td>0.000275</td>\n",
       "      <td>0.004558</td>\n",
       "      <td>0.009065</td>\n",
       "      <td>0.160516</td>\n",
       "      <td>0.632366</td>\n",
       "      <td>0.903056</td>\n",
       "      <td>0.362114</td>\n",
       "      <td>0.331046</td>\n",
       "      <td>0.837523</td>\n",
       "    </tr>\n",
       "    <tr>\n",
       "      <th>4</th>\n",
       "      <td>4</td>\n",
       "      <td>Bella was a human and she liked to play with h...</td>\n",
       "      <td>0.000641</td>\n",
       "      <td>0.005041</td>\n",
       "      <td>0.004832</td>\n",
       "      <td>0.075883</td>\n",
       "      <td>0.576406</td>\n",
       "      <td>0.965831</td>\n",
       "      <td>0.365723</td>\n",
       "      <td>0.354434</td>\n",
       "      <td>1.049568</td>\n",
       "    </tr>\n",
       "  </tbody>\n",
       "</table>\n",
       "</div>"
      ],
      "text/plain": [
       "   prompt_index                                       prompt_start  \\\n",
       "0             0  James and his mom were walking to the park one...   \n",
       "1             1  Once there was a little girl. She liked to put...   \n",
       "2             2  Ben and Mia are twins. They like to play with ...   \n",
       "3             3  Once upon a time there was an otter named Timm...   \n",
       "4             4  Bella was a human and she liked to play with h...   \n",
       "\n",
       "   entropies.0  entropies.1  entropies.2  entropies.5  entropies.10  \\\n",
       "0     0.002841     0.012692     0.013692     0.106909      0.810335   \n",
       "1     0.004980     0.005868     0.033454     0.130812      0.568140   \n",
       "2     0.004665     0.009815     0.031804     0.149576      0.656617   \n",
       "3     0.000275     0.004558     0.009065     0.160516      0.632366   \n",
       "4     0.000641     0.005041     0.004832     0.075883      0.576406   \n",
       "\n",
       "   entropies.15  entropies.20  entropies.24  entropies.25  \n",
       "0      1.156944      0.453167      0.303021      0.929745  \n",
       "1      0.974174      0.398959      0.390052      1.061851  \n",
       "2      1.062842      0.377453      0.305333      0.915309  \n",
       "3      0.903056      0.362114      0.331046      0.837523  \n",
       "4      0.965831      0.365723      0.354434      1.049568  "
      ]
     },
     "execution_count": 6,
     "metadata": {},
     "output_type": "execute_result"
    }
   ],
   "source": [
    "df.head()"
   ]
  },
  {
   "cell_type": "code",
   "execution_count": 7,
   "id": "1de6f8ef-42c1-4355-80c5-8d57c1c89f7e",
   "metadata": {},
   "outputs": [],
   "source": [
    "entropy_cols = df.filter(like='entropies.')\n",
    "average_entropy_by_layer = entropy_cols.mean()"
   ]
  },
  {
   "cell_type": "code",
   "execution_count": 8,
   "id": "8e3dc0f5-e823-4be0-bebd-505539877ca2",
   "metadata": {},
   "outputs": [
    {
     "name": "stdout",
     "output_type": "stream",
     "text": [
      "entropies.0     0.002852\n",
      "entropies.1     0.007897\n",
      "entropies.2     0.017692\n",
      "entropies.5     0.122663\n",
      "entropies.10    0.613727\n",
      "entropies.15    0.989749\n",
      "entropies.20    0.402973\n",
      "entropies.24    0.325710\n",
      "entropies.25    0.919672\n",
      "dtype: float64\n"
     ]
    }
   ],
   "source": [
    "print(average_entropy_by_layer)"
   ]
  },
  {
   "cell_type": "code",
   "execution_count": 10,
   "id": "0a65ff33-7c91-47ae-9084-2ad402ce7b8a",
   "metadata": {},
   "outputs": [],
   "source": [
    "x_labels = [int(col.split('.')[-1]) for col in average_entropy_by_layer.index]\n",
    "y_values = average_entropy_by_layer.values"
   ]
  },
  {
   "cell_type": "code",
   "execution_count": 13,
   "id": "190edc1e-ae28-4bc2-b320-3465934f5b73",
   "metadata": {},
   "outputs": [
    {
     "data": {
      "application/vnd.plotly.v1+json": {
       "config": {
        "plotlyServerURL": "https://plot.ly"
       },
       "data": [
        {
         "hovertemplate": "Transformer Layer Number=%{x}<br>Average Entropy=%{y}<extra></extra>",
         "legendgroup": "",
         "line": {
          "color": "#636efa",
          "dash": "solid"
         },
         "marker": {
          "symbol": "circle"
         },
         "mode": "lines+markers",
         "name": "",
         "orientation": "v",
         "showlegend": false,
         "type": "scatter",
         "x": [
          0,
          1,
          2,
          5,
          10,
          15,
          20,
          24,
          25
         ],
         "xaxis": "x",
         "y": [
          0.0028524268630628173,
          0.00789679450808215,
          0.017692378549574592,
          0.12266259219869968,
          0.6137272542119027,
          0.9897488027215003,
          0.40297296091914175,
          0.3257099690437317,
          0.9196721416115761
         ],
         "yaxis": "y"
        }
       ],
       "layout": {
        "font": {
         "family": "Arial, sans-serif",
         "size": 14
        },
        "height": 800,
        "legend": {
         "tracegroupgap": 0
        },
        "template": {
         "data": {
          "bar": [
           {
            "error_x": {
             "color": "#2a3f5f"
            },
            "error_y": {
             "color": "#2a3f5f"
            },
            "marker": {
             "line": {
              "color": "#E5ECF6",
              "width": 0.5
             },
             "pattern": {
              "fillmode": "overlay",
              "size": 10,
              "solidity": 0.2
             }
            },
            "type": "bar"
           }
          ],
          "barpolar": [
           {
            "marker": {
             "line": {
              "color": "#E5ECF6",
              "width": 0.5
             },
             "pattern": {
              "fillmode": "overlay",
              "size": 10,
              "solidity": 0.2
             }
            },
            "type": "barpolar"
           }
          ],
          "carpet": [
           {
            "aaxis": {
             "endlinecolor": "#2a3f5f",
             "gridcolor": "white",
             "linecolor": "white",
             "minorgridcolor": "white",
             "startlinecolor": "#2a3f5f"
            },
            "baxis": {
             "endlinecolor": "#2a3f5f",
             "gridcolor": "white",
             "linecolor": "white",
             "minorgridcolor": "white",
             "startlinecolor": "#2a3f5f"
            },
            "type": "carpet"
           }
          ],
          "choropleth": [
           {
            "colorbar": {
             "outlinewidth": 0,
             "ticks": ""
            },
            "type": "choropleth"
           }
          ],
          "contour": [
           {
            "colorbar": {
             "outlinewidth": 0,
             "ticks": ""
            },
            "colorscale": [
             [
              0,
              "#0d0887"
             ],
             [
              0.1111111111111111,
              "#46039f"
             ],
             [
              0.2222222222222222,
              "#7201a8"
             ],
             [
              0.3333333333333333,
              "#9c179e"
             ],
             [
              0.4444444444444444,
              "#bd3786"
             ],
             [
              0.5555555555555556,
              "#d8576b"
             ],
             [
              0.6666666666666666,
              "#ed7953"
             ],
             [
              0.7777777777777778,
              "#fb9f3a"
             ],
             [
              0.8888888888888888,
              "#fdca26"
             ],
             [
              1,
              "#f0f921"
             ]
            ],
            "type": "contour"
           }
          ],
          "contourcarpet": [
           {
            "colorbar": {
             "outlinewidth": 0,
             "ticks": ""
            },
            "type": "contourcarpet"
           }
          ],
          "heatmap": [
           {
            "colorbar": {
             "outlinewidth": 0,
             "ticks": ""
            },
            "colorscale": [
             [
              0,
              "#0d0887"
             ],
             [
              0.1111111111111111,
              "#46039f"
             ],
             [
              0.2222222222222222,
              "#7201a8"
             ],
             [
              0.3333333333333333,
              "#9c179e"
             ],
             [
              0.4444444444444444,
              "#bd3786"
             ],
             [
              0.5555555555555556,
              "#d8576b"
             ],
             [
              0.6666666666666666,
              "#ed7953"
             ],
             [
              0.7777777777777778,
              "#fb9f3a"
             ],
             [
              0.8888888888888888,
              "#fdca26"
             ],
             [
              1,
              "#f0f921"
             ]
            ],
            "type": "heatmap"
           }
          ],
          "heatmapgl": [
           {
            "colorbar": {
             "outlinewidth": 0,
             "ticks": ""
            },
            "colorscale": [
             [
              0,
              "#0d0887"
             ],
             [
              0.1111111111111111,
              "#46039f"
             ],
             [
              0.2222222222222222,
              "#7201a8"
             ],
             [
              0.3333333333333333,
              "#9c179e"
             ],
             [
              0.4444444444444444,
              "#bd3786"
             ],
             [
              0.5555555555555556,
              "#d8576b"
             ],
             [
              0.6666666666666666,
              "#ed7953"
             ],
             [
              0.7777777777777778,
              "#fb9f3a"
             ],
             [
              0.8888888888888888,
              "#fdca26"
             ],
             [
              1,
              "#f0f921"
             ]
            ],
            "type": "heatmapgl"
           }
          ],
          "histogram": [
           {
            "marker": {
             "pattern": {
              "fillmode": "overlay",
              "size": 10,
              "solidity": 0.2
             }
            },
            "type": "histogram"
           }
          ],
          "histogram2d": [
           {
            "colorbar": {
             "outlinewidth": 0,
             "ticks": ""
            },
            "colorscale": [
             [
              0,
              "#0d0887"
             ],
             [
              0.1111111111111111,
              "#46039f"
             ],
             [
              0.2222222222222222,
              "#7201a8"
             ],
             [
              0.3333333333333333,
              "#9c179e"
             ],
             [
              0.4444444444444444,
              "#bd3786"
             ],
             [
              0.5555555555555556,
              "#d8576b"
             ],
             [
              0.6666666666666666,
              "#ed7953"
             ],
             [
              0.7777777777777778,
              "#fb9f3a"
             ],
             [
              0.8888888888888888,
              "#fdca26"
             ],
             [
              1,
              "#f0f921"
             ]
            ],
            "type": "histogram2d"
           }
          ],
          "histogram2dcontour": [
           {
            "colorbar": {
             "outlinewidth": 0,
             "ticks": ""
            },
            "colorscale": [
             [
              0,
              "#0d0887"
             ],
             [
              0.1111111111111111,
              "#46039f"
             ],
             [
              0.2222222222222222,
              "#7201a8"
             ],
             [
              0.3333333333333333,
              "#9c179e"
             ],
             [
              0.4444444444444444,
              "#bd3786"
             ],
             [
              0.5555555555555556,
              "#d8576b"
             ],
             [
              0.6666666666666666,
              "#ed7953"
             ],
             [
              0.7777777777777778,
              "#fb9f3a"
             ],
             [
              0.8888888888888888,
              "#fdca26"
             ],
             [
              1,
              "#f0f921"
             ]
            ],
            "type": "histogram2dcontour"
           }
          ],
          "mesh3d": [
           {
            "colorbar": {
             "outlinewidth": 0,
             "ticks": ""
            },
            "type": "mesh3d"
           }
          ],
          "parcoords": [
           {
            "line": {
             "colorbar": {
              "outlinewidth": 0,
              "ticks": ""
             }
            },
            "type": "parcoords"
           }
          ],
          "pie": [
           {
            "automargin": true,
            "type": "pie"
           }
          ],
          "scatter": [
           {
            "fillpattern": {
             "fillmode": "overlay",
             "size": 10,
             "solidity": 0.2
            },
            "type": "scatter"
           }
          ],
          "scatter3d": [
           {
            "line": {
             "colorbar": {
              "outlinewidth": 0,
              "ticks": ""
             }
            },
            "marker": {
             "colorbar": {
              "outlinewidth": 0,
              "ticks": ""
             }
            },
            "type": "scatter3d"
           }
          ],
          "scattercarpet": [
           {
            "marker": {
             "colorbar": {
              "outlinewidth": 0,
              "ticks": ""
             }
            },
            "type": "scattercarpet"
           }
          ],
          "scattergeo": [
           {
            "marker": {
             "colorbar": {
              "outlinewidth": 0,
              "ticks": ""
             }
            },
            "type": "scattergeo"
           }
          ],
          "scattergl": [
           {
            "marker": {
             "colorbar": {
              "outlinewidth": 0,
              "ticks": ""
             }
            },
            "type": "scattergl"
           }
          ],
          "scattermapbox": [
           {
            "marker": {
             "colorbar": {
              "outlinewidth": 0,
              "ticks": ""
             }
            },
            "type": "scattermapbox"
           }
          ],
          "scatterpolar": [
           {
            "marker": {
             "colorbar": {
              "outlinewidth": 0,
              "ticks": ""
             }
            },
            "type": "scatterpolar"
           }
          ],
          "scatterpolargl": [
           {
            "marker": {
             "colorbar": {
              "outlinewidth": 0,
              "ticks": ""
             }
            },
            "type": "scatterpolargl"
           }
          ],
          "scatterternary": [
           {
            "marker": {
             "colorbar": {
              "outlinewidth": 0,
              "ticks": ""
             }
            },
            "type": "scatterternary"
           }
          ],
          "surface": [
           {
            "colorbar": {
             "outlinewidth": 0,
             "ticks": ""
            },
            "colorscale": [
             [
              0,
              "#0d0887"
             ],
             [
              0.1111111111111111,
              "#46039f"
             ],
             [
              0.2222222222222222,
              "#7201a8"
             ],
             [
              0.3333333333333333,
              "#9c179e"
             ],
             [
              0.4444444444444444,
              "#bd3786"
             ],
             [
              0.5555555555555556,
              "#d8576b"
             ],
             [
              0.6666666666666666,
              "#ed7953"
             ],
             [
              0.7777777777777778,
              "#fb9f3a"
             ],
             [
              0.8888888888888888,
              "#fdca26"
             ],
             [
              1,
              "#f0f921"
             ]
            ],
            "type": "surface"
           }
          ],
          "table": [
           {
            "cells": {
             "fill": {
              "color": "#EBF0F8"
             },
             "line": {
              "color": "white"
             }
            },
            "header": {
             "fill": {
              "color": "#C8D4E3"
             },
             "line": {
              "color": "white"
             }
            },
            "type": "table"
           }
          ]
         },
         "layout": {
          "annotationdefaults": {
           "arrowcolor": "#2a3f5f",
           "arrowhead": 0,
           "arrowwidth": 1
          },
          "autotypenumbers": "strict",
          "coloraxis": {
           "colorbar": {
            "outlinewidth": 0,
            "ticks": ""
           }
          },
          "colorscale": {
           "diverging": [
            [
             0,
             "#8e0152"
            ],
            [
             0.1,
             "#c51b7d"
            ],
            [
             0.2,
             "#de77ae"
            ],
            [
             0.3,
             "#f1b6da"
            ],
            [
             0.4,
             "#fde0ef"
            ],
            [
             0.5,
             "#f7f7f7"
            ],
            [
             0.6,
             "#e6f5d0"
            ],
            [
             0.7,
             "#b8e186"
            ],
            [
             0.8,
             "#7fbc41"
            ],
            [
             0.9,
             "#4d9221"
            ],
            [
             1,
             "#276419"
            ]
           ],
           "sequential": [
            [
             0,
             "#0d0887"
            ],
            [
             0.1111111111111111,
             "#46039f"
            ],
            [
             0.2222222222222222,
             "#7201a8"
            ],
            [
             0.3333333333333333,
             "#9c179e"
            ],
            [
             0.4444444444444444,
             "#bd3786"
            ],
            [
             0.5555555555555556,
             "#d8576b"
            ],
            [
             0.6666666666666666,
             "#ed7953"
            ],
            [
             0.7777777777777778,
             "#fb9f3a"
            ],
            [
             0.8888888888888888,
             "#fdca26"
            ],
            [
             1,
             "#f0f921"
            ]
           ],
           "sequentialminus": [
            [
             0,
             "#0d0887"
            ],
            [
             0.1111111111111111,
             "#46039f"
            ],
            [
             0.2222222222222222,
             "#7201a8"
            ],
            [
             0.3333333333333333,
             "#9c179e"
            ],
            [
             0.4444444444444444,
             "#bd3786"
            ],
            [
             0.5555555555555556,
             "#d8576b"
            ],
            [
             0.6666666666666666,
             "#ed7953"
            ],
            [
             0.7777777777777778,
             "#fb9f3a"
            ],
            [
             0.8888888888888888,
             "#fdca26"
            ],
            [
             1,
             "#f0f921"
            ]
           ]
          },
          "colorway": [
           "#636efa",
           "#EF553B",
           "#00cc96",
           "#ab63fa",
           "#FFA15A",
           "#19d3f3",
           "#FF6692",
           "#B6E880",
           "#FF97FF",
           "#FECB52"
          ],
          "font": {
           "color": "#2a3f5f"
          },
          "geo": {
           "bgcolor": "white",
           "lakecolor": "white",
           "landcolor": "#E5ECF6",
           "showlakes": true,
           "showland": true,
           "subunitcolor": "white"
          },
          "hoverlabel": {
           "align": "left"
          },
          "hovermode": "closest",
          "mapbox": {
           "style": "light"
          },
          "paper_bgcolor": "white",
          "plot_bgcolor": "#E5ECF6",
          "polar": {
           "angularaxis": {
            "gridcolor": "white",
            "linecolor": "white",
            "ticks": ""
           },
           "bgcolor": "#E5ECF6",
           "radialaxis": {
            "gridcolor": "white",
            "linecolor": "white",
            "ticks": ""
           }
          },
          "scene": {
           "xaxis": {
            "backgroundcolor": "#E5ECF6",
            "gridcolor": "white",
            "gridwidth": 2,
            "linecolor": "white",
            "showbackground": true,
            "ticks": "",
            "zerolinecolor": "white"
           },
           "yaxis": {
            "backgroundcolor": "#E5ECF6",
            "gridcolor": "white",
            "gridwidth": 2,
            "linecolor": "white",
            "showbackground": true,
            "ticks": "",
            "zerolinecolor": "white"
           },
           "zaxis": {
            "backgroundcolor": "#E5ECF6",
            "gridcolor": "white",
            "gridwidth": 2,
            "linecolor": "white",
            "showbackground": true,
            "ticks": "",
            "zerolinecolor": "white"
           }
          },
          "shapedefaults": {
           "line": {
            "color": "#2a3f5f"
           }
          },
          "ternary": {
           "aaxis": {
            "gridcolor": "white",
            "linecolor": "white",
            "ticks": ""
           },
           "baxis": {
            "gridcolor": "white",
            "linecolor": "white",
            "ticks": ""
           },
           "bgcolor": "#E5ECF6",
           "caxis": {
            "gridcolor": "white",
            "linecolor": "white",
            "ticks": ""
           }
          },
          "title": {
           "x": 0.05
          },
          "xaxis": {
           "automargin": true,
           "gridcolor": "white",
           "linecolor": "white",
           "ticks": "",
           "title": {
            "standoff": 15
           },
           "zerolinecolor": "white",
           "zerolinewidth": 2
          },
          "yaxis": {
           "automargin": true,
           "gridcolor": "white",
           "linecolor": "white",
           "ticks": "",
           "title": {
            "standoff": 15
           },
           "zerolinecolor": "white",
           "zerolinewidth": 2
          }
         }
        },
        "title": {
         "text": "Average Entropy vs. Layer Depth in Gemma-2b"
        },
        "width": 600,
        "xaxis": {
         "anchor": "y",
         "autorange": true,
         "domain": [
          0,
          1
         ],
         "range": [
          -1.657014157014157,
          26.657014157014157
         ],
         "title": {
          "text": "Transformer Layer Number"
         },
         "type": "linear"
        },
        "yaxis": {
         "anchor": "x",
         "autorange": true,
         "domain": [
          0,
          1
         ],
         "range": [
          -0.05944484663572139,
          1.0520460762202846
         ],
         "title": {
          "text": "Average Entropy (Uncertainty)"
         },
         "type": "linear"
        }
       }
      },
      "image/png": "[encoded data removed]",
      "text/html": [
       "<div>                            <div id=\"c0725638-591b-44d0-b901-e778d7e096a7\" class=\"plotly-graph-div\" style=\"height:800px; width:600px;\"></div>            <script type=\"text/javascript\">                require([\"plotly\"], function(Plotly) {                    window.PLOTLYENV=window.PLOTLYENV || {};                                    if (document.getElementById(\"c0725638-591b-44d0-b901-e778d7e096a7\")) {                    Plotly.newPlot(                        \"c0725638-591b-44d0-b901-e778d7e096a7\",                        [{\"hovertemplate\":\"Transformer Layer Number=%{x}\\u003cbr\\u003eAverage Entropy=%{y}\\u003cextra\\u003e\\u003c\\u002fextra\\u003e\",\"legendgroup\":\"\",\"line\":{\"color\":\"#636efa\",\"dash\":\"solid\"},\"marker\":{\"symbol\":\"circle\"},\"mode\":\"lines+markers\",\"name\":\"\",\"orientation\":\"v\",\"showlegend\":false,\"x\":[0,1,2,5,10,15,20,24,25],\"xaxis\":\"x\",\"y\":[0.0028524268630628173,0.00789679450808215,0.017692378549574592,0.12266259219869968,0.6137272542119027,0.9897488027215003,0.40297296091914175,0.3257099690437317,0.9196721416115761],\"yaxis\":\"y\",\"type\":\"scatter\"}],                        {\"template\":{\"data\":{\"histogram2dcontour\":[{\"type\":\"histogram2dcontour\",\"colorbar\":{\"outlinewidth\":0,\"ticks\":\"\"},\"colorscale\":[[0.0,\"#0d0887\"],[0.1111111111111111,\"#46039f\"],[0.2222222222222222,\"#7201a8\"],[0.3333333333333333,\"#9c179e\"],[0.4444444444444444,\"#bd3786\"],[0.5555555555555556,\"#d8576b\"],[0.6666666666666666,\"#ed7953\"],[0.7777777777777778,\"#fb9f3a\"],[0.8888888888888888,\"#fdca26\"],[1.0,\"#f0f921\"]]}],\"choropleth\":[{\"type\":\"choropleth\",\"colorbar\":{\"outlinewidth\":0,\"ticks\":\"\"}}],\"histogram2d\":[{\"type\":\"histogram2d\",\"colorbar\":{\"outlinewidth\":0,\"ticks\":\"\"},\"colorscale\":[[0.0,\"#0d0887\"],[0.1111111111111111,\"#46039f\"],[0.2222222222222222,\"#7201a8\"],[0.3333333333333333,\"#9c179e\"],[0.4444444444444444,\"#bd3786\"],[0.5555555555555556,\"#d8576b\"],[0.6666666666666666,\"#ed7953\"],[0.7777777777777778,\"#fb9f3a\"],[0.8888888888888888,\"#fdca26\"],[1.0,\"#f0f921\"]]}],\"heatmap\":[{\"type\":\"heatmap\",\"colorbar\":{\"outlinewidth\":0,\"ticks\":\"\"},\"colorscale\":[[0.0,\"#0d0887\"],[0.1111111111111111,\"#46039f\"],[0.2222222222222222,\"#7201a8\"],[0.3333333333333333,\"#9c179e\"],[0.4444444444444444,\"#bd3786\"],[0.5555555555555556,\"#d8576b\"],[0.6666666666666666,\"#ed7953\"],[0.7777777777777778,\"#fb9f3a\"],[0.8888888888888888,\"#fdca26\"],[1.0,\"#f0f921\"]]}],\"heatmapgl\":[{\"type\":\"heatmapgl\",\"colorbar\":{\"outlinewidth\":0,\"ticks\":\"\"},\"colorscale\":[[0.0,\"#0d0887\"],[0.1111111111111111,\"#46039f\"],[0.2222222222222222,\"#7201a8\"],[0.3333333333333333,\"#9c179e\"],[0.4444444444444444,\"#bd3786\"],[0.5555555555555556,\"#d8576b\"],[0.6666666666666666,\"#ed7953\"],[0.7777777777777778,\"#fb9f3a\"],[0.8888888888888888,\"#fdca26\"],[1.0,\"#f0f921\"]]}],\"contourcarpet\":[{\"type\":\"contourcarpet\",\"colorbar\":{\"outlinewidth\":0,\"ticks\":\"\"}}],\"contour\":[{\"type\":\"contour\",\"colorbar\":{\"outlinewidth\":0,\"ticks\":\"\"},\"colorscale\":[[0.0,\"#0d0887\"],[0.1111111111111111,\"#46039f\"],[0.2222222222222222,\"#7201a8\"],[0.3333333333333333,\"#9c179e\"],[0.4444444444444444,\"#bd3786\"],[0.5555555555555556,\"#d8576b\"],[0.6666666666666666,\"#ed7953\"],[0.7777777777777778,\"#fb9f3a\"],[0.8888888888888888,\"#fdca26\"],[1.0,\"#f0f921\"]]}],\"surface\":[{\"type\":\"surface\",\"colorbar\":{\"outlinewidth\":0,\"ticks\":\"\"},\"colorscale\":[[0.0,\"#0d0887\"],[0.1111111111111111,\"#46039f\"],[0.2222222222222222,\"#7201a8\"],[0.3333333333333333,\"#9c179e\"],[0.4444444444444444,\"#bd3786\"],[0.5555555555555556,\"#d8576b\"],[0.6666666666666666,\"#ed7953\"],[0.7777777777777778,\"#fb9f3a\"],[0.8888888888888888,\"#fdca26\"],[1.0,\"#f0f921\"]]}],\"mesh3d\":[{\"type\":\"mesh3d\",\"colorbar\":{\"outlinewidth\":0,\"ticks\":\"\"}}],\"scatter\":[{\"fillpattern\":{\"fillmode\":\"overlay\",\"size\":10,\"solidity\":0.2},\"type\":\"scatter\"}],\"parcoords\":[{\"type\":\"parcoords\",\"line\":{\"colorbar\":{\"outlinewidth\":0,\"ticks\":\"\"}}}],\"scatterpolargl\":[{\"type\":\"scatterpolargl\",\"marker\":{\"colorbar\":{\"outlinewidth\":0,\"ticks\":\"\"}}}],\"bar\":[{\"error_x\":{\"color\":\"#2a3f5f\"},\"error_y\":{\"color\":\"#2a3f5f\"},\"marker\":{\"line\":{\"color\":\"#E5ECF6\",\"width\":0.5},\"pattern\":{\"fillmode\":\"overlay\",\"size\":10,\"solidity\":0.2}},\"type\":\"bar\"}],\"scattergeo\":[{\"type\":\"scattergeo\",\"marker\":{\"colorbar\":{\"outlinewidth\":0,\"ticks\":\"\"}}}],\"scatterpolar\":[{\"type\":\"scatterpolar\",\"marker\":{\"colorbar\":{\"outlinewidth\":0,\"ticks\":\"\"}}}],\"histogram\":[{\"marker\":{\"pattern\":{\"fillmode\":\"overlay\",\"size\":10,\"solidity\":0.2}},\"type\":\"histogram\"}],\"scattergl\":[{\"type\":\"scattergl\",\"marker\":{\"colorbar\":{\"outlinewidth\":0,\"ticks\":\"\"}}}],\"scatter3d\":[{\"type\":\"scatter3d\",\"line\":{\"colorbar\":{\"outlinewidth\":0,\"ticks\":\"\"}},\"marker\":{\"colorbar\":{\"outlinewidth\":0,\"ticks\":\"\"}}}],\"scattermapbox\":[{\"type\":\"scattermapbox\",\"marker\":{\"colorbar\":{\"outlinewidth\":0,\"ticks\":\"\"}}}],\"scatterternary\":[{\"type\":\"scatterternary\",\"marker\":{\"colorbar\":{\"outlinewidth\":0,\"ticks\":\"\"}}}],\"scattercarpet\":[{\"type\":\"scattercarpet\",\"marker\":{\"colorbar\":{\"outlinewidth\":0,\"ticks\":\"\"}}}],\"carpet\":[{\"aaxis\":{\"endlinecolor\":\"#2a3f5f\",\"gridcolor\":\"white\",\"linecolor\":\"white\",\"minorgridcolor\":\"white\",\"startlinecolor\":\"#2a3f5f\"},\"baxis\":{\"endlinecolor\":\"#2a3f5f\",\"gridcolor\":\"white\",\"linecolor\":\"white\",\"minorgridcolor\":\"white\",\"startlinecolor\":\"#2a3f5f\"},\"type\":\"carpet\"}],\"table\":[{\"cells\":{\"fill\":{\"color\":\"#EBF0F8\"},\"line\":{\"color\":\"white\"}},\"header\":{\"fill\":{\"color\":\"#C8D4E3\"},\"line\":{\"color\":\"white\"}},\"type\":\"table\"}],\"barpolar\":[{\"marker\":{\"line\":{\"color\":\"#E5ECF6\",\"width\":0.5},\"pattern\":{\"fillmode\":\"overlay\",\"size\":10,\"solidity\":0.2}},\"type\":\"barpolar\"}],\"pie\":[{\"automargin\":true,\"type\":\"pie\"}]},\"layout\":{\"autotypenumbers\":\"strict\",\"colorway\":[\"#636efa\",\"#EF553B\",\"#00cc96\",\"#ab63fa\",\"#FFA15A\",\"#19d3f3\",\"#FF6692\",\"#B6E880\",\"#FF97FF\",\"#FECB52\"],\"font\":{\"color\":\"#2a3f5f\"},\"hovermode\":\"closest\",\"hoverlabel\":{\"align\":\"left\"},\"paper_bgcolor\":\"white\",\"plot_bgcolor\":\"#E5ECF6\",\"polar\":{\"bgcolor\":\"#E5ECF6\",\"angularaxis\":{\"gridcolor\":\"white\",\"linecolor\":\"white\",\"ticks\":\"\"},\"radialaxis\":{\"gridcolor\":\"white\",\"linecolor\":\"white\",\"ticks\":\"\"}},\"ternary\":{\"bgcolor\":\"#E5ECF6\",\"aaxis\":{\"gridcolor\":\"white\",\"linecolor\":\"white\",\"ticks\":\"\"},\"baxis\":{\"gridcolor\":\"white\",\"linecolor\":\"white\",\"ticks\":\"\"},\"caxis\":{\"gridcolor\":\"white\",\"linecolor\":\"white\",\"ticks\":\"\"}},\"coloraxis\":{\"colorbar\":{\"outlinewidth\":0,\"ticks\":\"\"}},\"colorscale\":{\"sequential\":[[0.0,\"#0d0887\"],[0.1111111111111111,\"#46039f\"],[0.2222222222222222,\"#7201a8\"],[0.3333333333333333,\"#9c179e\"],[0.4444444444444444,\"#bd3786\"],[0.5555555555555556,\"#d8576b\"],[0.6666666666666666,\"#ed7953\"],[0.7777777777777778,\"#fb9f3a\"],[0.8888888888888888,\"#fdca26\"],[1.0,\"#f0f921\"]],\"sequentialminus\":[[0.0,\"#0d0887\"],[0.1111111111111111,\"#46039f\"],[0.2222222222222222,\"#7201a8\"],[0.3333333333333333,\"#9c179e\"],[0.4444444444444444,\"#bd3786\"],[0.5555555555555556,\"#d8576b\"],[0.6666666666666666,\"#ed7953\"],[0.7777777777777778,\"#fb9f3a\"],[0.8888888888888888,\"#fdca26\"],[1.0,\"#f0f921\"]],\"diverging\":[[0,\"#8e0152\"],[0.1,\"#c51b7d\"],[0.2,\"#de77ae\"],[0.3,\"#f1b6da\"],[0.4,\"#fde0ef\"],[0.5,\"#f7f7f7\"],[0.6,\"#e6f5d0\"],[0.7,\"#b8e186\"],[0.8,\"#7fbc41\"],[0.9,\"#4d9221\"],[1,\"#276419\"]]},\"xaxis\":{\"gridcolor\":\"white\",\"linecolor\":\"white\",\"ticks\":\"\",\"title\":{\"standoff\":15},\"zerolinecolor\":\"white\",\"automargin\":true,\"zerolinewidth\":2},\"yaxis\":{\"gridcolor\":\"white\",\"linecolor\":\"white\",\"ticks\":\"\",\"title\":{\"standoff\":15},\"zerolinecolor\":\"white\",\"automargin\":true,\"zerolinewidth\":2},\"scene\":{\"xaxis\":{\"backgroundcolor\":\"#E5ECF6\",\"gridcolor\":\"white\",\"linecolor\":\"white\",\"showbackground\":true,\"ticks\":\"\",\"zerolinecolor\":\"white\",\"gridwidth\":2},\"yaxis\":{\"backgroundcolor\":\"#E5ECF6\",\"gridcolor\":\"white\",\"linecolor\":\"white\",\"showbackground\":true,\"ticks\":\"\",\"zerolinecolor\":\"white\",\"gridwidth\":2},\"zaxis\":{\"backgroundcolor\":\"#E5ECF6\",\"gridcolor\":\"white\",\"linecolor\":\"white\",\"showbackground\":true,\"ticks\":\"\",\"zerolinecolor\":\"white\",\"gridwidth\":2}},\"shapedefaults\":{\"line\":{\"color\":\"#2a3f5f\"}},\"annotationdefaults\":{\"arrowcolor\":\"#2a3f5f\",\"arrowhead\":0,\"arrowwidth\":1},\"geo\":{\"bgcolor\":\"white\",\"landcolor\":\"#E5ECF6\",\"subunitcolor\":\"white\",\"showland\":true,\"showlakes\":true,\"lakecolor\":\"white\"},\"title\":{\"x\":0.05},\"mapbox\":{\"style\":\"light\"}}},\"xaxis\":{\"anchor\":\"y\",\"domain\":[0.0,1.0],\"title\":{\"text\":\"Transformer Layer Number\"}},\"yaxis\":{\"anchor\":\"x\",\"domain\":[0.0,1.0],\"title\":{\"text\":\"Average Entropy (Uncertainty)\"}},\"legend\":{\"tracegroupgap\":0},\"title\":{\"text\":\"Average Entropy vs. Layer Depth in Gemma-2b\"},\"font\":{\"family\":\"Arial, sans-serif\",\"size\":14},\"width\":600,\"height\":800},                        {\"responsive\": true}                    ).then(function(){\n",
       "                            \n",
       "var gd = document.getElementById('c0725638-591b-44d0-b901-e778d7e096a7');\n",
       "var x = new MutationObserver(function (mutations, observer) {{\n",
       "        var display = window.getComputedStyle(gd).display;\n",
       "        if (!display || display === 'none') {{\n",
       "            console.log([gd, 'removed!']);\n",
       "            Plotly.purge(gd);\n",
       "            observer.disconnect();\n",
       "        }}\n",
       "}});\n",
       "\n",
       "// Listen for the removal of the full notebook cells\n",
       "var notebookContainer = gd.closest('#notebook-container');\n",
       "if (notebookContainer) {{\n",
       "    x.observe(notebookContainer, {childList: true});\n",
       "}}\n",
       "\n",
       "// Listen for the clearing of the current output cell\n",
       "var outputEl = gd.closest('.output');\n",
       "if (outputEl) {{\n",
       "    x.observe(outputEl, {childList: true});\n",
       "}}\n",
       "\n",
       "                        })                };                });            </script>        </div>"
      ]
     },
     "metadata": {},
     "output_type": "display_data"
    }
   ],
   "source": [
    "fig = px.line(\n",
    "    x=x_labels, \n",
    "    y=y_values,\n",
    "    title='Average Entropy vs. Layer Depth in Gemma-2b',\n",
    "    labels={'x': 'Transformer Layer Number', 'y': 'Average Entropy'},\n",
    "    markers=True  # Add markers to each data point for clarity\n",
    ")\n",
    "\n",
    "fig.update_layout(\n",
    "    xaxis_title=\"Transformer Layer Number\",\n",
    "    yaxis_title=\"Average Entropy (Uncertainty)\",\n",
    "    font=dict(\n",
    "        family=\"Arial, sans-serif\",\n",
    "        size=14\n",
    "    ),\n",
    "    width=600,\n",
    "    height=800 \n",
    ")\n",
    "\n",
    "fig.show()"
   ]
  },
  {
   "cell_type": "markdown",
   "id": "9254d93b-8ae4-4723-9560-29b3377f489b",
   "metadata": {},
   "source": [
    "Some commentary here for certain about the early layers being really low and the last layer suddenly spiking back up. Though, the general inverted U-Shape is something I could convince myself of as being a reasonable outcome:\n",
    "- early: we have no clue what we should be answering, so the model doesn't really know how to answer\n",
    "- middle: where the \"magic happens\"  - model has some understanding of words, and has the wdiest range of next words\n",
    "- final: \"shift from what could this be\" to \"what should this be\"\n",
    "\n",
    "Final layer might be a result of preventing overconfidence/over calibration"
   ]
  },
  {
   "cell_type": "markdown",
   "id": "a65ffb8b-9a82-43b0-8d72-cbc817596c43",
   "metadata": {},
   "source": [
    "# Top Tokens by Layer"
   ]
  },
  {
   "cell_type": "code",
   "execution_count": 25,
   "id": "e32e6961-0f91-4080-bfc9-4db5c659df7d",
   "metadata": {},
   "outputs": [],
   "source": [
    "df_layer_preds = pd.read_csv(\"./results/average_layer_predictions.csv\")"
   ]
  },
  {
   "cell_type": "code",
   "execution_count": 26,
   "id": "3a6471c4-ef06-44e9-9ee6-077acfc677e1",
   "metadata": {},
   "outputs": [
    {
     "data": {
      "text/html": [
       "<div>\n",
       "<style scoped>\n",
       "    .dataframe tbody tr th:only-of-type {\n",
       "        vertical-align: middle;\n",
       "    }\n",
       "\n",
       "    .dataframe tbody tr th {\n",
       "        vertical-align: top;\n",
       "    }\n",
       "\n",
       "    .dataframe thead th {\n",
       "        text-align: right;\n",
       "    }\n",
       "</style>\n",
       "<table border=\"1\" class=\"dataframe\">\n",
       "  <thead>\n",
       "    <tr style=\"text-align: right;\">\n",
       "      <th></th>\n",
       "      <th>layer</th>\n",
       "      <th>rank</th>\n",
       "      <th>token</th>\n",
       "      <th>avg_logit</th>\n",
       "    </tr>\n",
       "  </thead>\n",
       "  <tbody>\n",
       "    <tr>\n",
       "      <th>0</th>\n",
       "      <td>0</td>\n",
       "      <td>1</td>\n",
       "      <td>.</td>\n",
       "      <td>92.408798</td>\n",
       "    </tr>\n",
       "    <tr>\n",
       "      <th>1</th>\n",
       "      <td>0</td>\n",
       "      <td>2</td>\n",
       "      <td>\\n\\n</td>\n",
       "      <td>90.205986</td>\n",
       "    </tr>\n",
       "    <tr>\n",
       "      <th>2</th>\n",
       "      <td>0</td>\n",
       "      <td>3</td>\n",
       "      <td>\\n</td>\n",
       "      <td>87.247139</td>\n",
       "    </tr>\n",
       "    <tr>\n",
       "      <th>3</th>\n",
       "      <td>0</td>\n",
       "      <td>4</td>\n",
       "      <td></td>\n",
       "      <td>86.141922</td>\n",
       "    </tr>\n",
       "    <tr>\n",
       "      <th>4</th>\n",
       "      <td>0</td>\n",
       "      <td>5</td>\n",
       "      <td>,</td>\n",
       "      <td>84.744537</td>\n",
       "    </tr>\n",
       "  </tbody>\n",
       "</table>\n",
       "</div>"
      ],
      "text/plain": [
       "   layer  rank token  avg_logit\n",
       "0      0     1     .  92.408798\n",
       "1      0     2  \\n\\n  90.205986\n",
       "2      0     3    \\n  87.247139\n",
       "3      0     4        86.141922\n",
       "4      0     5     ,  84.744537"
      ]
     },
     "execution_count": 26,
     "metadata": {},
     "output_type": "execute_result"
    }
   ],
   "source": [
    "df_layer_preds.head()"
   ]
  },
  {
   "cell_type": "code",
   "execution_count": 28,
   "id": "1b4937cd-2385-4635-a158-04f5ed12d7db",
   "metadata": {},
   "outputs": [],
   "source": [
    "df_layer_preds['token_with_logit'] = df_layer_preds.apply(\n",
    "    lambda row: f\"'{row['token']}' ({row['avg_logit']:.2f})\",\n",
    "    axis=1\n",
    ")\n",
    "\n",
    "\n",
    "full_pivot_df_with_logits = df_layer_preds.pivot_table(\n",
    "    index='rank',\n",
    "    columns='layer',\n",
    "    values='token_with_logit', # Use the new formatted column here\n",
    "    aggfunc='first'\n",
    ")"
   ]
  },
  {
   "cell_type": "code",
   "execution_count": 29,
   "id": "0d13ef4f-21d5-4a8a-b83f-76aa42eb2114",
   "metadata": {},
   "outputs": [
    {
     "data": {
      "text/html": [
       "<div>\n",
       "<style scoped>\n",
       "    .dataframe tbody tr th:only-of-type {\n",
       "        vertical-align: middle;\n",
       "    }\n",
       "\n",
       "    .dataframe tbody tr th {\n",
       "        vertical-align: top;\n",
       "    }\n",
       "\n",
       "    .dataframe thead th {\n",
       "        text-align: right;\n",
       "    }\n",
       "</style>\n",
       "<table border=\"1\" class=\"dataframe\">\n",
       "  <thead>\n",
       "    <tr style=\"text-align: right;\">\n",
       "      <th>layer</th>\n",
       "      <th>0</th>\n",
       "      <th>1</th>\n",
       "      <th>2</th>\n",
       "      <th>5</th>\n",
       "      <th>10</th>\n",
       "      <th>15</th>\n",
       "      <th>20</th>\n",
       "      <th>24</th>\n",
       "      <th>25</th>\n",
       "    </tr>\n",
       "    <tr>\n",
       "      <th>rank</th>\n",
       "      <th></th>\n",
       "      <th></th>\n",
       "      <th></th>\n",
       "      <th></th>\n",
       "      <th></th>\n",
       "      <th></th>\n",
       "      <th></th>\n",
       "      <th></th>\n",
       "      <th></th>\n",
       "    </tr>\n",
       "  </thead>\n",
       "  <tbody>\n",
       "    <tr>\n",
       "      <th>1</th>\n",
       "      <td>'.' (92.41)</td>\n",
       "      <td>'&lt;bos&gt;' (144.73)</td>\n",
       "      <td>'&lt;bos&gt;' (57.75)</td>\n",
       "      <td>'&lt;bos&gt;' (81.02)</td>\n",
       "      <td>' Theſe' (45.88)</td>\n",
       "      <td>' ſeveral' (87.08)</td>\n",
       "      <td>' very' (134.82)</td>\n",
       "      <td>',' (244.80)</td>\n",
       "      <td>'  ' (265.90)</td>\n",
       "    </tr>\n",
       "    <tr>\n",
       "      <th>2</th>\n",
       "      <td>'\\n\\n' (90.21)</td>\n",
       "      <td>''' (72.30)</td>\n",
       "      <td>' it' (34.21)</td>\n",
       "      <td>' and' (43.90)</td>\n",
       "      <td>'достатки' (45.41)</td>\n",
       "      <td>' Theſe' (86.35)</td>\n",
       "      <td>' really' (117.16)</td>\n",
       "      <td>' the' (230.71)</td>\n",
       "      <td>',' (247.35)</td>\n",
       "    </tr>\n",
       "    <tr>\n",
       "      <th>3</th>\n",
       "      <td>'\\n' (87.25)</td>\n",
       "      <td>',' (68.63)</td>\n",
       "      <td>' that' (33.93)</td>\n",
       "      <td>' that' (43.33)</td>\n",
       "      <td>' ſhe' (45.27)</td>\n",
       "      <td>' myſelf' (86.13)</td>\n",
       "      <td>' just' (115.49)</td>\n",
       "      <td>'  ' (228.74)</td>\n",
       "      <td>' the' (223.79)</td>\n",
       "    </tr>\n",
       "    <tr>\n",
       "      <th>4</th>\n",
       "      <td>' ' (86.14)</td>\n",
       "      <td>' ' (66.42)</td>\n",
       "      <td>' and' (33.51)</td>\n",
       "      <td>' to' (42.56)</td>\n",
       "      <td>' whoſe' (44.95)</td>\n",
       "      <td>' pleaſure' (83.56)</td>\n",
       "      <td>' all' (112.88)</td>\n",
       "      <td>' ' (226.64)</td>\n",
       "      <td>' and' (222.37)</td>\n",
       "    </tr>\n",
       "    <tr>\n",
       "      <th>5</th>\n",
       "      <td>',' (84.74)</td>\n",
       "      <td>'.' (66.09)</td>\n",
       "      <td>' to' (33.37)</td>\n",
       "      <td>' in' (37.55)</td>\n",
       "      <td>' myſelf' (43.81)</td>\n",
       "      <td>' Efq' (82.39)</td>\n",
       "      <td>' that' (111.62)</td>\n",
       "      <td>' and' (223.85)</td>\n",
       "      <td>' a' (211.06)</td>\n",
       "    </tr>\n",
       "    <tr>\n",
       "      <th>6</th>\n",
       "      <td>''' (77.90)</td>\n",
       "      <td>'’' (62.62)</td>\n",
       "      <td>' the' (32.78)</td>\n",
       "      <td>' the' (36.90)</td>\n",
       "      <td>' becauſe' (42.78)</td>\n",
       "      <td>' ſhe' (81.95)</td>\n",
       "      <td>' one' (110.44)</td>\n",
       "      <td>' a' (206.23)</td>\n",
       "      <td>' ' (204.69)</td>\n",
       "    </tr>\n",
       "    <tr>\n",
       "      <th>7</th>\n",
       "      <td>' (' (75.14)</td>\n",
       "      <td>'\\n' (62.22)</td>\n",
       "      <td>' in' (32.64)</td>\n",
       "      <td>' on' (36.04)</td>\n",
       "      <td>' himſelf' (42.27)</td>\n",
       "      <td>' whoſe' (80.85)</td>\n",
       "      <td>' like' (109.73)</td>\n",
       "      <td>' to' (198.28)</td>\n",
       "      <td>'.' (194.17)</td>\n",
       "    </tr>\n",
       "    <tr>\n",
       "      <th>8</th>\n",
       "      <td>' to' (72.04)</td>\n",
       "      <td>'(' (60.63)</td>\n",
       "      <td>' enough' (30.21)</td>\n",
       "      <td>' with' (35.71)</td>\n",
       "      <td>' automatiques' (41.66)</td>\n",
       "      <td>'достатки' (80.66)</td>\n",
       "      <td>' to' (107.47)</td>\n",
       "      <td>' in' (197.81)</td>\n",
       "      <td>' to' (190.59)</td>\n",
       "    </tr>\n",
       "    <tr>\n",
       "      <th>9</th>\n",
       "      <td>' and' (71.86)</td>\n",
       "      <td>'-' (60.54)</td>\n",
       "      <td>' of' (30.14)</td>\n",
       "      <td>' from' (33.86)</td>\n",
       "      <td>' ſeveral' (41.50)</td>\n",
       "      <td>' Jefus' (80.21)</td>\n",
       "      <td>' little' (105.25)</td>\n",
       "      <td>'.' (195.00)</td>\n",
       "      <td>' in' (176.93)</td>\n",
       "    </tr>\n",
       "    <tr>\n",
       "      <th>10</th>\n",
       "      <td>' in' (69.94)</td>\n",
       "      <td>' and' (60.35)</td>\n",
       "      <td>' there' (29.14)</td>\n",
       "      <td>' of' (33.71)</td>\n",
       "      <td>' Jefus' (41.05)</td>\n",
       "      <td>' automatiques' (79.28)</td>\n",
       "      <td>' and' (105.18)</td>\n",
       "      <td>'\\n\\n' (177.06)</td>\n",
       "      <td>' \"' (172.21)</td>\n",
       "    </tr>\n",
       "    <tr>\n",
       "      <th>11</th>\n",
       "      <td>'  ' (68.64)</td>\n",
       "      <td>'\"' (59.93)</td>\n",
       "      <td>' with' (28.72)</td>\n",
       "      <td>' it' (32.50)</td>\n",
       "      <td>' Efq' (39.13)</td>\n",
       "      <td>' purpoſe' (78.90)</td>\n",
       "      <td>' the' (104.30)</td>\n",
       "      <td>' for' (171.93)</td>\n",
       "      <td>'\\n\\n' (166.43)</td>\n",
       "    </tr>\n",
       "    <tr>\n",
       "      <th>12</th>\n",
       "      <td>'-' (67.96)</td>\n",
       "      <td>'The' (58.99)</td>\n",
       "      <td>' a' (28.44)</td>\n",
       "      <td>' for' (31.17)</td>\n",
       "      <td>' and' (38.66)</td>\n",
       "      <td>' himſelf' (78.87)</td>\n",
       "      <td>' got' (102.99)</td>\n",
       "      <td>' so' (169.20)</td>\n",
       "      <td>' just' (165.70)</td>\n",
       "    </tr>\n",
       "    <tr>\n",
       "      <th>13</th>\n",
       "      <td>' \"' (67.31)</td>\n",
       "      <td>' in' (55.89)</td>\n",
       "      <td>' on' (28.24)</td>\n",
       "      <td>' like' (31.11)</td>\n",
       "      <td>' faſt' (38.11)</td>\n",
       "      <td>' faſt' (78.15)</td>\n",
       "      <td>' in' (101.96)</td>\n",
       "      <td>' all' (168.35)</td>\n",
       "      <td>'...' (163.01)</td>\n",
       "    </tr>\n",
       "    <tr>\n",
       "      <th>14</th>\n",
       "      <td>'(' (66.88)</td>\n",
       "      <td>' The' (55.67)</td>\n",
       "      <td>' is' (28.22)</td>\n",
       "      <td>' went' (30.97)</td>\n",
       "      <td>' Monfieur' (37.84)</td>\n",
       "      <td>' reaſon' (77.12)</td>\n",
       "      <td>' suddenly' (101.89)</td>\n",
       "      <td>' with' (167.36)</td>\n",
       "      <td>' all' (162.25)</td>\n",
       "    </tr>\n",
       "    <tr>\n",
       "      <th>15</th>\n",
       "      <td>'’' (65.96)</td>\n",
       "      <td>'[' (53.72)</td>\n",
       "      <td>' you' (27.99)</td>\n",
       "      <td>',' (29.29)</td>\n",
       "      <td>' that' (37.70)</td>\n",
       "      <td>' preſent' (75.89)</td>\n",
       "      <td>' with' (100.20)</td>\n",
       "      <td>' on' (166.39)</td>\n",
       "      <td>' so' (161.32)</td>\n",
       "    </tr>\n",
       "    <tr>\n",
       "      <th>16</th>\n",
       "      <td>'1' (65.87)</td>\n",
       "      <td>' (' (53.46)</td>\n",
       "      <td>' we' (27.73)</td>\n",
       "      <td>' enough' (29.22)</td>\n",
       "      <td>' pleaſure' (37.50)</td>\n",
       "      <td>' ſmall' (75.54)</td>\n",
       "      <td>' made' (100.12)</td>\n",
       "      <td>' just' (160.72)</td>\n",
       "      <td>' with' (157.99)</td>\n",
       "    </tr>\n",
       "    <tr>\n",
       "      <th>17</th>\n",
       "      <td>' a' (65.70)</td>\n",
       "      <td>' I' (51.74)</td>\n",
       "      <td>' so' (27.73)</td>\n",
       "      <td>' looking' (28.71)</td>\n",
       "      <td>' themſelves' (37.03)</td>\n",
       "      <td>' themſelves' (75.49)</td>\n",
       "      <td>' quickly' (99.45)</td>\n",
       "      <td>' at' (159.85)</td>\n",
       "      <td>'\\n' (157.53)</td>\n",
       "    </tr>\n",
       "    <tr>\n",
       "      <th>18</th>\n",
       "      <td>' I' (65.54)</td>\n",
       "      <td>'\\' (51.56)</td>\n",
       "      <td>'yntaxException' (26.29)</td>\n",
       "      <td>' where' (28.66)</td>\n",
       "      <td>' raiſ' (36.25)</td>\n",
       "      <td>' leaſt' (74.16)</td>\n",
       "      <td>' then' (98.37)</td>\n",
       "      <td>' it' (159.82)</td>\n",
       "      <td>' **' (155.24)</td>\n",
       "    </tr>\n",
       "    <tr>\n",
       "      <th>19</th>\n",
       "      <td>' of' (64.60)</td>\n",
       "      <td>'*' (51.45)</td>\n",
       "      <td>' everything' (26.16)</td>\n",
       "      <td>' when' (28.42)</td>\n",
       "      <td>' againſt' (36.19)</td>\n",
       "      <td>' Monfieur' (73.91)</td>\n",
       "      <td>' so' (97.95)</td>\n",
       "      <td>'\\n' (157.58)</td>\n",
       "      <td>' it' (152.48)</td>\n",
       "    </tr>\n",
       "    <tr>\n",
       "      <th>20</th>\n",
       "      <td>' for' (64.44)</td>\n",
       "      <td>' is' (51.09)</td>\n",
       "      <td>' turned' (26.12)</td>\n",
       "      <td>' مواليد' (28.09)</td>\n",
       "      <td>' everything' (36.18)</td>\n",
       "      <td>' greateſt' (72.46)</td>\n",
       "      <td>' on' (97.65)</td>\n",
       "      <td>' that' (157.49)</td>\n",
       "      <td>' that' (148.91)</td>\n",
       "    </tr>\n",
       "  </tbody>\n",
       "</table>\n",
       "</div>"
      ],
      "text/plain": [
       "layer              0                 1                         2   \\\n",
       "rank                                                                \n",
       "1         '.' (92.41)  '<bos>' (144.73)           '<bos>' (57.75)   \n",
       "2      '\\n\\n' (90.21)       ''' (72.30)             ' it' (34.21)   \n",
       "3        '\\n' (87.25)       ',' (68.63)           ' that' (33.93)   \n",
       "4         ' ' (86.14)       ' ' (66.42)            ' and' (33.51)   \n",
       "5         ',' (84.74)       '.' (66.09)             ' to' (33.37)   \n",
       "6         ''' (77.90)       '’' (62.62)            ' the' (32.78)   \n",
       "7        ' (' (75.14)      '\\n' (62.22)             ' in' (32.64)   \n",
       "8       ' to' (72.04)       '(' (60.63)         ' enough' (30.21)   \n",
       "9      ' and' (71.86)       '-' (60.54)             ' of' (30.14)   \n",
       "10      ' in' (69.94)    ' and' (60.35)          ' there' (29.14)   \n",
       "11       '  ' (68.64)       '\"' (59.93)           ' with' (28.72)   \n",
       "12        '-' (67.96)     'The' (58.99)              ' a' (28.44)   \n",
       "13       ' \"' (67.31)     ' in' (55.89)             ' on' (28.24)   \n",
       "14        '(' (66.88)    ' The' (55.67)             ' is' (28.22)   \n",
       "15        '’' (65.96)       '[' (53.72)            ' you' (27.99)   \n",
       "16        '1' (65.87)      ' (' (53.46)             ' we' (27.73)   \n",
       "17       ' a' (65.70)      ' I' (51.74)             ' so' (27.73)   \n",
       "18       ' I' (65.54)       '\\' (51.56)  'yntaxException' (26.29)   \n",
       "19      ' of' (64.60)       '*' (51.45)     ' everything' (26.16)   \n",
       "20     ' for' (64.44)     ' is' (51.09)         ' turned' (26.12)   \n",
       "\n",
       "layer                  5                        10                       15  \\\n",
       "rank                                                                          \n",
       "1         '<bos>' (81.02)         ' Theſe' (45.88)       ' ſeveral' (87.08)   \n",
       "2          ' and' (43.90)       'достатки' (45.41)         ' Theſe' (86.35)   \n",
       "3         ' that' (43.33)           ' ſhe' (45.27)        ' myſelf' (86.13)   \n",
       "4           ' to' (42.56)         ' whoſe' (44.95)      ' pleaſure' (83.56)   \n",
       "5           ' in' (37.55)        ' myſelf' (43.81)           ' Efq' (82.39)   \n",
       "6          ' the' (36.90)       ' becauſe' (42.78)           ' ſhe' (81.95)   \n",
       "7           ' on' (36.04)       ' himſelf' (42.27)         ' whoſe' (80.85)   \n",
       "8         ' with' (35.71)  ' automatiques' (41.66)       'достатки' (80.66)   \n",
       "9         ' from' (33.86)       ' ſeveral' (41.50)         ' Jefus' (80.21)   \n",
       "10          ' of' (33.71)         ' Jefus' (41.05)  ' automatiques' (79.28)   \n",
       "11          ' it' (32.50)           ' Efq' (39.13)       ' purpoſe' (78.90)   \n",
       "12         ' for' (31.17)           ' and' (38.66)       ' himſelf' (78.87)   \n",
       "13        ' like' (31.11)          ' faſt' (38.11)          ' faſt' (78.15)   \n",
       "14        ' went' (30.97)      ' Monfieur' (37.84)        ' reaſon' (77.12)   \n",
       "15            ',' (29.29)          ' that' (37.70)       ' preſent' (75.89)   \n",
       "16      ' enough' (29.22)      ' pleaſure' (37.50)         ' ſmall' (75.54)   \n",
       "17     ' looking' (28.71)    ' themſelves' (37.03)    ' themſelves' (75.49)   \n",
       "18       ' where' (28.66)          ' raiſ' (36.25)         ' leaſt' (74.16)   \n",
       "19        ' when' (28.42)       ' againſt' (36.19)      ' Monfieur' (73.91)   \n",
       "20      ' مواليد' (28.09)    ' everything' (36.18)      ' greateſt' (72.46)   \n",
       "\n",
       "layer                    20                24                25  \n",
       "rank                                                             \n",
       "1          ' very' (134.82)      ',' (244.80)     '  ' (265.90)  \n",
       "2        ' really' (117.16)   ' the' (230.71)      ',' (247.35)  \n",
       "3          ' just' (115.49)     '  ' (228.74)   ' the' (223.79)  \n",
       "4           ' all' (112.88)      ' ' (226.64)   ' and' (222.37)  \n",
       "5          ' that' (111.62)   ' and' (223.85)     ' a' (211.06)  \n",
       "6           ' one' (110.44)     ' a' (206.23)      ' ' (204.69)  \n",
       "7          ' like' (109.73)    ' to' (198.28)      '.' (194.17)  \n",
       "8            ' to' (107.47)    ' in' (197.81)    ' to' (190.59)  \n",
       "9        ' little' (105.25)      '.' (195.00)    ' in' (176.93)  \n",
       "10          ' and' (105.18)   '\\n\\n' (177.06)     ' \"' (172.21)  \n",
       "11          ' the' (104.30)   ' for' (171.93)   '\\n\\n' (166.43)  \n",
       "12          ' got' (102.99)    ' so' (169.20)  ' just' (165.70)  \n",
       "13           ' in' (101.96)   ' all' (168.35)    '...' (163.01)  \n",
       "14     ' suddenly' (101.89)  ' with' (167.36)   ' all' (162.25)  \n",
       "15         ' with' (100.20)    ' on' (166.39)    ' so' (161.32)  \n",
       "16         ' made' (100.12)  ' just' (160.72)  ' with' (157.99)  \n",
       "17       ' quickly' (99.45)    ' at' (159.85)     '\\n' (157.53)  \n",
       "18          ' then' (98.37)    ' it' (159.82)    ' **' (155.24)  \n",
       "19            ' so' (97.95)     '\\n' (157.58)    ' it' (152.48)  \n",
       "20            ' on' (97.65)  ' that' (157.49)  ' that' (148.91)  "
      ]
     },
     "execution_count": 29,
     "metadata": {},
     "output_type": "execute_result"
    }
   ],
   "source": [
    "full_pivot_df_with_logits"
   ]
  },
  {
   "cell_type": "code",
   "execution_count": 30,
   "id": "ac748939-04a8-49cd-9195-a2ad4de9522c",
   "metadata": {},
   "outputs": [],
   "source": [
    "top_predictions_df = df_layer_preds[df_layer_preds['rank'] == 1].sort_values('layer')"
   ]
  },
  {
   "cell_type": "code",
   "execution_count": 32,
   "id": "8083369e-a832-4a4a-a9d4-dd3583a4c47d",
   "metadata": {},
   "outputs": [
    {
     "data": {
      "application/vnd.plotly.v1+json": {
       "config": {
        "plotlyServerURL": "https://plot.ly"
       },
       "data": [
        {
         "hovertemplate": "Transformer Layer Number=%{x}<br>Average Logit of Top Prediction (Model Confidence)=%{y}<extra></extra>",
         "legendgroup": "",
         "line": {
          "color": "#636efa",
          "dash": "solid"
         },
         "marker": {
          "symbol": "circle"
         },
         "mode": "lines+markers",
         "name": "",
         "orientation": "v",
         "showlegend": false,
         "type": "scatter",
         "x": [
          0,
          1,
          2,
          5,
          10,
          15,
          20,
          24,
          25
         ],
         "xaxis": "x",
         "y": [
          92.40879821777344,
          144.73048400878906,
          57.74989700317383,
          81.01564025878906,
          45.882423400878906,
          87.07986450195312,
          134.81948852539062,
          244.80325317382807,
          265.9049072265625
         ],
         "yaxis": "y"
        }
       ],
       "layout": {
        "height": 800,
        "legend": {
         "tracegroupgap": 0
        },
        "template": {
         "data": {
          "bar": [
           {
            "error_x": {
             "color": "#2a3f5f"
            },
            "error_y": {
             "color": "#2a3f5f"
            },
            "marker": {
             "line": {
              "color": "white",
              "width": 0.5
             },
             "pattern": {
              "fillmode": "overlay",
              "size": 10,
              "solidity": 0.2
             }
            },
            "type": "bar"
           }
          ],
          "barpolar": [
           {
            "marker": {
             "line": {
              "color": "white",
              "width": 0.5
             },
             "pattern": {
              "fillmode": "overlay",
              "size": 10,
              "solidity": 0.2
             }
            },
            "type": "barpolar"
           }
          ],
          "carpet": [
           {
            "aaxis": {
             "endlinecolor": "#2a3f5f",
             "gridcolor": "#C8D4E3",
             "linecolor": "#C8D4E3",
             "minorgridcolor": "#C8D4E3",
             "startlinecolor": "#2a3f5f"
            },
            "baxis": {
             "endlinecolor": "#2a3f5f",
             "gridcolor": "#C8D4E3",
             "linecolor": "#C8D4E3",
             "minorgridcolor": "#C8D4E3",
             "startlinecolor": "#2a3f5f"
            },
            "type": "carpet"
           }
          ],
          "choropleth": [
           {
            "colorbar": {
             "outlinewidth": 0,
             "ticks": ""
            },
            "type": "choropleth"
           }
          ],
          "contour": [
           {
            "colorbar": {
             "outlinewidth": 0,
             "ticks": ""
            },
            "colorscale": [
             [
              0,
              "#0d0887"
             ],
             [
              0.1111111111111111,
              "#46039f"
             ],
             [
              0.2222222222222222,
              "#7201a8"
             ],
             [
              0.3333333333333333,
              "#9c179e"
             ],
             [
              0.4444444444444444,
              "#bd3786"
             ],
             [
              0.5555555555555556,
              "#d8576b"
             ],
             [
              0.6666666666666666,
              "#ed7953"
             ],
             [
              0.7777777777777778,
              "#fb9f3a"
             ],
             [
              0.8888888888888888,
              "#fdca26"
             ],
             [
              1,
              "#f0f921"
             ]
            ],
            "type": "contour"
           }
          ],
          "contourcarpet": [
           {
            "colorbar": {
             "outlinewidth": 0,
             "ticks": ""
            },
            "type": "contourcarpet"
           }
          ],
          "heatmap": [
           {
            "colorbar": {
             "outlinewidth": 0,
             "ticks": ""
            },
            "colorscale": [
             [
              0,
              "#0d0887"
             ],
             [
              0.1111111111111111,
              "#46039f"
             ],
             [
              0.2222222222222222,
              "#7201a8"
             ],
             [
              0.3333333333333333,
              "#9c179e"
             ],
             [
              0.4444444444444444,
              "#bd3786"
             ],
             [
              0.5555555555555556,
              "#d8576b"
             ],
             [
              0.6666666666666666,
              "#ed7953"
             ],
             [
              0.7777777777777778,
              "#fb9f3a"
             ],
             [
              0.8888888888888888,
              "#fdca26"
             ],
             [
              1,
              "#f0f921"
             ]
            ],
            "type": "heatmap"
           }
          ],
          "heatmapgl": [
           {
            "colorbar": {
             "outlinewidth": 0,
             "ticks": ""
            },
            "colorscale": [
             [
              0,
              "#0d0887"
             ],
             [
              0.1111111111111111,
              "#46039f"
             ],
             [
              0.2222222222222222,
              "#7201a8"
             ],
             [
              0.3333333333333333,
              "#9c179e"
             ],
             [
              0.4444444444444444,
              "#bd3786"
             ],
             [
              0.5555555555555556,
              "#d8576b"
             ],
             [
              0.6666666666666666,
              "#ed7953"
             ],
             [
              0.7777777777777778,
              "#fb9f3a"
             ],
             [
              0.8888888888888888,
              "#fdca26"
             ],
             [
              1,
              "#f0f921"
             ]
            ],
            "type": "heatmapgl"
           }
          ],
          "histogram": [
           {
            "marker": {
             "pattern": {
              "fillmode": "overlay",
              "size": 10,
              "solidity": 0.2
             }
            },
            "type": "histogram"
           }
          ],
          "histogram2d": [
           {
            "colorbar": {
             "outlinewidth": 0,
             "ticks": ""
            },
            "colorscale": [
             [
              0,
              "#0d0887"
             ],
             [
              0.1111111111111111,
              "#46039f"
             ],
             [
              0.2222222222222222,
              "#7201a8"
             ],
             [
              0.3333333333333333,
              "#9c179e"
             ],
             [
              0.4444444444444444,
              "#bd3786"
             ],
             [
              0.5555555555555556,
              "#d8576b"
             ],
             [
              0.6666666666666666,
              "#ed7953"
             ],
             [
              0.7777777777777778,
              "#fb9f3a"
             ],
             [
              0.8888888888888888,
              "#fdca26"
             ],
             [
              1,
              "#f0f921"
             ]
            ],
            "type": "histogram2d"
           }
          ],
          "histogram2dcontour": [
           {
            "colorbar": {
             "outlinewidth": 0,
             "ticks": ""
            },
            "colorscale": [
             [
              0,
              "#0d0887"
             ],
             [
              0.1111111111111111,
              "#46039f"
             ],
             [
              0.2222222222222222,
              "#7201a8"
             ],
             [
              0.3333333333333333,
              "#9c179e"
             ],
             [
              0.4444444444444444,
              "#bd3786"
             ],
             [
              0.5555555555555556,
              "#d8576b"
             ],
             [
              0.6666666666666666,
              "#ed7953"
             ],
             [
              0.7777777777777778,
              "#fb9f3a"
             ],
             [
              0.8888888888888888,
              "#fdca26"
             ],
             [
              1,
              "#f0f921"
             ]
            ],
            "type": "histogram2dcontour"
           }
          ],
          "mesh3d": [
           {
            "colorbar": {
             "outlinewidth": 0,
             "ticks": ""
            },
            "type": "mesh3d"
           }
          ],
          "parcoords": [
           {
            "line": {
             "colorbar": {
              "outlinewidth": 0,
              "ticks": ""
             }
            },
            "type": "parcoords"
           }
          ],
          "pie": [
           {
            "automargin": true,
            "type": "pie"
           }
          ],
          "scatter": [
           {
            "fillpattern": {
             "fillmode": "overlay",
             "size": 10,
             "solidity": 0.2
            },
            "type": "scatter"
           }
          ],
          "scatter3d": [
           {
            "line": {
             "colorbar": {
              "outlinewidth": 0,
              "ticks": ""
             }
            },
            "marker": {
             "colorbar": {
              "outlinewidth": 0,
              "ticks": ""
             }
            },
            "type": "scatter3d"
           }
          ],
          "scattercarpet": [
           {
            "marker": {
             "colorbar": {
              "outlinewidth": 0,
              "ticks": ""
             }
            },
            "type": "scattercarpet"
           }
          ],
          "scattergeo": [
           {
            "marker": {
             "colorbar": {
              "outlinewidth": 0,
              "ticks": ""
             }
            },
            "type": "scattergeo"
           }
          ],
          "scattergl": [
           {
            "marker": {
             "colorbar": {
              "outlinewidth": 0,
              "ticks": ""
             }
            },
            "type": "scattergl"
           }
          ],
          "scattermapbox": [
           {
            "marker": {
             "colorbar": {
              "outlinewidth": 0,
              "ticks": ""
             }
            },
            "type": "scattermapbox"
           }
          ],
          "scatterpolar": [
           {
            "marker": {
             "colorbar": {
              "outlinewidth": 0,
              "ticks": ""
             }
            },
            "type": "scatterpolar"
           }
          ],
          "scatterpolargl": [
           {
            "marker": {
             "colorbar": {
              "outlinewidth": 0,
              "ticks": ""
             }
            },
            "type": "scatterpolargl"
           }
          ],
          "scatterternary": [
           {
            "marker": {
             "colorbar": {
              "outlinewidth": 0,
              "ticks": ""
             }
            },
            "type": "scatterternary"
           }
          ],
          "surface": [
           {
            "colorbar": {
             "outlinewidth": 0,
             "ticks": ""
            },
            "colorscale": [
             [
              0,
              "#0d0887"
             ],
             [
              0.1111111111111111,
              "#46039f"
             ],
             [
              0.2222222222222222,
              "#7201a8"
             ],
             [
              0.3333333333333333,
              "#9c179e"
             ],
             [
              0.4444444444444444,
              "#bd3786"
             ],
             [
              0.5555555555555556,
              "#d8576b"
             ],
             [
              0.6666666666666666,
              "#ed7953"
             ],
             [
              0.7777777777777778,
              "#fb9f3a"
             ],
             [
              0.8888888888888888,
              "#fdca26"
             ],
             [
              1,
              "#f0f921"
             ]
            ],
            "type": "surface"
           }
          ],
          "table": [
           {
            "cells": {
             "fill": {
              "color": "#EBF0F8"
             },
             "line": {
              "color": "white"
             }
            },
            "header": {
             "fill": {
              "color": "#C8D4E3"
             },
             "line": {
              "color": "white"
             }
            },
            "type": "table"
           }
          ]
         },
         "layout": {
          "annotationdefaults": {
           "arrowcolor": "#2a3f5f",
           "arrowhead": 0,
           "arrowwidth": 1
          },
          "autotypenumbers": "strict",
          "coloraxis": {
           "colorbar": {
            "outlinewidth": 0,
            "ticks": ""
           }
          },
          "colorscale": {
           "diverging": [
            [
             0,
             "#8e0152"
            ],
            [
             0.1,
             "#c51b7d"
            ],
            [
             0.2,
             "#de77ae"
            ],
            [
             0.3,
             "#f1b6da"
            ],
            [
             0.4,
             "#fde0ef"
            ],
            [
             0.5,
             "#f7f7f7"
            ],
            [
             0.6,
             "#e6f5d0"
            ],
            [
             0.7,
             "#b8e186"
            ],
            [
             0.8,
             "#7fbc41"
            ],
            [
             0.9,
             "#4d9221"
            ],
            [
             1,
             "#276419"
            ]
           ],
           "sequential": [
            [
             0,
             "#0d0887"
            ],
            [
             0.1111111111111111,
             "#46039f"
            ],
            [
             0.2222222222222222,
             "#7201a8"
            ],
            [
             0.3333333333333333,
             "#9c179e"
            ],
            [
             0.4444444444444444,
             "#bd3786"
            ],
            [
             0.5555555555555556,
             "#d8576b"
            ],
            [
             0.6666666666666666,
             "#ed7953"
            ],
            [
             0.7777777777777778,
             "#fb9f3a"
            ],
            [
             0.8888888888888888,
             "#fdca26"
            ],
            [
             1,
             "#f0f921"
            ]
           ],
           "sequentialminus": [
            [
             0,
             "#0d0887"
            ],
            [
             0.1111111111111111,
             "#46039f"
            ],
            [
             0.2222222222222222,
             "#7201a8"
            ],
            [
             0.3333333333333333,
             "#9c179e"
            ],
            [
             0.4444444444444444,
             "#bd3786"
            ],
            [
             0.5555555555555556,
             "#d8576b"
            ],
            [
             0.6666666666666666,
             "#ed7953"
            ],
            [
             0.7777777777777778,
             "#fb9f3a"
            ],
            [
             0.8888888888888888,
             "#fdca26"
            ],
            [
             1,
             "#f0f921"
            ]
           ]
          },
          "colorway": [
           "#636efa",
           "#EF553B",
           "#00cc96",
           "#ab63fa",
           "#FFA15A",
           "#19d3f3",
           "#FF6692",
           "#B6E880",
           "#FF97FF",
           "#FECB52"
          ],
          "font": {
           "color": "#2a3f5f"
          },
          "geo": {
           "bgcolor": "white",
           "lakecolor": "white",
           "landcolor": "white",
           "showlakes": true,
           "showland": true,
           "subunitcolor": "#C8D4E3"
          },
          "hoverlabel": {
           "align": "left"
          },
          "hovermode": "closest",
          "mapbox": {
           "style": "light"
          },
          "paper_bgcolor": "white",
          "plot_bgcolor": "white",
          "polar": {
           "angularaxis": {
            "gridcolor": "#EBF0F8",
            "linecolor": "#EBF0F8",
            "ticks": ""
           },
           "bgcolor": "white",
           "radialaxis": {
            "gridcolor": "#EBF0F8",
            "linecolor": "#EBF0F8",
            "ticks": ""
           }
          },
          "scene": {
           "xaxis": {
            "backgroundcolor": "white",
            "gridcolor": "#DFE8F3",
            "gridwidth": 2,
            "linecolor": "#EBF0F8",
            "showbackground": true,
            "ticks": "",
            "zerolinecolor": "#EBF0F8"
           },
           "yaxis": {
            "backgroundcolor": "white",
            "gridcolor": "#DFE8F3",
            "gridwidth": 2,
            "linecolor": "#EBF0F8",
            "showbackground": true,
            "ticks": "",
            "zerolinecolor": "#EBF0F8"
           },
           "zaxis": {
            "backgroundcolor": "white",
            "gridcolor": "#DFE8F3",
            "gridwidth": 2,
            "linecolor": "#EBF0F8",
            "showbackground": true,
            "ticks": "",
            "zerolinecolor": "#EBF0F8"
           }
          },
          "shapedefaults": {
           "line": {
            "color": "#2a3f5f"
           }
          },
          "ternary": {
           "aaxis": {
            "gridcolor": "#DFE8F3",
            "linecolor": "#A2B1C6",
            "ticks": ""
           },
           "baxis": {
            "gridcolor": "#DFE8F3",
            "linecolor": "#A2B1C6",
            "ticks": ""
           },
           "bgcolor": "white",
           "caxis": {
            "gridcolor": "#DFE8F3",
            "linecolor": "#A2B1C6",
            "ticks": ""
           }
          },
          "title": {
           "x": 0.05
          },
          "xaxis": {
           "automargin": true,
           "gridcolor": "#EBF0F8",
           "linecolor": "#EBF0F8",
           "ticks": "",
           "title": {
            "standoff": 15
           },
           "zerolinecolor": "#EBF0F8",
           "zerolinewidth": 2
          },
          "yaxis": {
           "automargin": true,
           "gridcolor": "#EBF0F8",
           "linecolor": "#EBF0F8",
           "ticks": "",
           "title": {
            "standoff": 15
           },
           "zerolinecolor": "#EBF0F8",
           "zerolinewidth": 2
          }
         }
        },
        "title": {
         "text": "Model Confidence vs. Layer Depth in Gemma-2b"
        },
        "width": 600,
        "xaxis": {
         "anchor": "y",
         "autorange": true,
         "domain": [
          0,
          1
         ],
         "range": [
          -1.657014157014157,
          26.657014157014157
         ],
         "tickmode": "linear",
         "title": {
          "text": "Transformer Layer Number"
         },
         "type": "linear"
        },
        "yaxis": {
         "anchor": "x",
         "autorange": true,
         "domain": [
          0,
          1
         ],
         "range": [
          31.99362900861278,
          279.7937016188286
         ],
         "title": {
          "text": "Average Logit of Top Prediction (Model Confidence)"
         },
         "type": "linear"
        }
       }
      },
      "image/png": "[encoded data removed]",
      "text/html": [
       "<div>                            <div id=\"e932436e-0f02-45cb-9ea1-da08bc294aa0\" class=\"plotly-graph-div\" style=\"height:800px; width:600px;\"></div>            <script type=\"text/javascript\">                require([\"plotly\"], function(Plotly) {                    window.PLOTLYENV=window.PLOTLYENV || {};                                    if (document.getElementById(\"e932436e-0f02-45cb-9ea1-da08bc294aa0\")) {                    Plotly.newPlot(                        \"e932436e-0f02-45cb-9ea1-da08bc294aa0\",                        [{\"hovertemplate\":\"Transformer Layer Number=%{x}\\u003cbr\\u003eAverage Logit of Top Prediction (Model Confidence)=%{y}\\u003cextra\\u003e\\u003c\\u002fextra\\u003e\",\"legendgroup\":\"\",\"line\":{\"color\":\"#636efa\",\"dash\":\"solid\"},\"marker\":{\"symbol\":\"circle\"},\"mode\":\"lines+markers\",\"name\":\"\",\"orientation\":\"v\",\"showlegend\":false,\"x\":[0,1,2,5,10,15,20,24,25],\"xaxis\":\"x\",\"y\":[92.40879821777344,144.73048400878906,57.74989700317383,81.01564025878906,45.882423400878906,87.07986450195312,134.81948852539062,244.80325317382807,265.9049072265625],\"yaxis\":\"y\",\"type\":\"scatter\"}],                        {\"template\":{\"data\":{\"barpolar\":[{\"marker\":{\"line\":{\"color\":\"white\",\"width\":0.5},\"pattern\":{\"fillmode\":\"overlay\",\"size\":10,\"solidity\":0.2}},\"type\":\"barpolar\"}],\"bar\":[{\"error_x\":{\"color\":\"#2a3f5f\"},\"error_y\":{\"color\":\"#2a3f5f\"},\"marker\":{\"line\":{\"color\":\"white\",\"width\":0.5},\"pattern\":{\"fillmode\":\"overlay\",\"size\":10,\"solidity\":0.2}},\"type\":\"bar\"}],\"carpet\":[{\"aaxis\":{\"endlinecolor\":\"#2a3f5f\",\"gridcolor\":\"#C8D4E3\",\"linecolor\":\"#C8D4E3\",\"minorgridcolor\":\"#C8D4E3\",\"startlinecolor\":\"#2a3f5f\"},\"baxis\":{\"endlinecolor\":\"#2a3f5f\",\"gridcolor\":\"#C8D4E3\",\"linecolor\":\"#C8D4E3\",\"minorgridcolor\":\"#C8D4E3\",\"startlinecolor\":\"#2a3f5f\"},\"type\":\"carpet\"}],\"choropleth\":[{\"colorbar\":{\"outlinewidth\":0,\"ticks\":\"\"},\"type\":\"choropleth\"}],\"contourcarpet\":[{\"colorbar\":{\"outlinewidth\":0,\"ticks\":\"\"},\"type\":\"contourcarpet\"}],\"contour\":[{\"colorbar\":{\"outlinewidth\":0,\"ticks\":\"\"},\"colorscale\":[[0.0,\"#0d0887\"],[0.1111111111111111,\"#46039f\"],[0.2222222222222222,\"#7201a8\"],[0.3333333333333333,\"#9c179e\"],[0.4444444444444444,\"#bd3786\"],[0.5555555555555556,\"#d8576b\"],[0.6666666666666666,\"#ed7953\"],[0.7777777777777778,\"#fb9f3a\"],[0.8888888888888888,\"#fdca26\"],[1.0,\"#f0f921\"]],\"type\":\"contour\"}],\"heatmapgl\":[{\"colorbar\":{\"outlinewidth\":0,\"ticks\":\"\"},\"colorscale\":[[0.0,\"#0d0887\"],[0.1111111111111111,\"#46039f\"],[0.2222222222222222,\"#7201a8\"],[0.3333333333333333,\"#9c179e\"],[0.4444444444444444,\"#bd3786\"],[0.5555555555555556,\"#d8576b\"],[0.6666666666666666,\"#ed7953\"],[0.7777777777777778,\"#fb9f3a\"],[0.8888888888888888,\"#fdca26\"],[1.0,\"#f0f921\"]],\"type\":\"heatmapgl\"}],\"heatmap\":[{\"colorbar\":{\"outlinewidth\":0,\"ticks\":\"\"},\"colorscale\":[[0.0,\"#0d0887\"],[0.1111111111111111,\"#46039f\"],[0.2222222222222222,\"#7201a8\"],[0.3333333333333333,\"#9c179e\"],[0.4444444444444444,\"#bd3786\"],[0.5555555555555556,\"#d8576b\"],[0.6666666666666666,\"#ed7953\"],[0.7777777777777778,\"#fb9f3a\"],[0.8888888888888888,\"#fdca26\"],[1.0,\"#f0f921\"]],\"type\":\"heatmap\"}],\"histogram2dcontour\":[{\"colorbar\":{\"outlinewidth\":0,\"ticks\":\"\"},\"colorscale\":[[0.0,\"#0d0887\"],[0.1111111111111111,\"#46039f\"],[0.2222222222222222,\"#7201a8\"],[0.3333333333333333,\"#9c179e\"],[0.4444444444444444,\"#bd3786\"],[0.5555555555555556,\"#d8576b\"],[0.6666666666666666,\"#ed7953\"],[0.7777777777777778,\"#fb9f3a\"],[0.8888888888888888,\"#fdca26\"],[1.0,\"#f0f921\"]],\"type\":\"histogram2dcontour\"}],\"histogram2d\":[{\"colorbar\":{\"outlinewidth\":0,\"ticks\":\"\"},\"colorscale\":[[0.0,\"#0d0887\"],[0.1111111111111111,\"#46039f\"],[0.2222222222222222,\"#7201a8\"],[0.3333333333333333,\"#9c179e\"],[0.4444444444444444,\"#bd3786\"],[0.5555555555555556,\"#d8576b\"],[0.6666666666666666,\"#ed7953\"],[0.7777777777777778,\"#fb9f3a\"],[0.8888888888888888,\"#fdca26\"],[1.0,\"#f0f921\"]],\"type\":\"histogram2d\"}],\"histogram\":[{\"marker\":{\"pattern\":{\"fillmode\":\"overlay\",\"size\":10,\"solidity\":0.2}},\"type\":\"histogram\"}],\"mesh3d\":[{\"colorbar\":{\"outlinewidth\":0,\"ticks\":\"\"},\"type\":\"mesh3d\"}],\"parcoords\":[{\"line\":{\"colorbar\":{\"outlinewidth\":0,\"ticks\":\"\"}},\"type\":\"parcoords\"}],\"pie\":[{\"automargin\":true,\"type\":\"pie\"}],\"scatter3d\":[{\"line\":{\"colorbar\":{\"outlinewidth\":0,\"ticks\":\"\"}},\"marker\":{\"colorbar\":{\"outlinewidth\":0,\"ticks\":\"\"}},\"type\":\"scatter3d\"}],\"scattercarpet\":[{\"marker\":{\"colorbar\":{\"outlinewidth\":0,\"ticks\":\"\"}},\"type\":\"scattercarpet\"}],\"scattergeo\":[{\"marker\":{\"colorbar\":{\"outlinewidth\":0,\"ticks\":\"\"}},\"type\":\"scattergeo\"}],\"scattergl\":[{\"marker\":{\"colorbar\":{\"outlinewidth\":0,\"ticks\":\"\"}},\"type\":\"scattergl\"}],\"scattermapbox\":[{\"marker\":{\"colorbar\":{\"outlinewidth\":0,\"ticks\":\"\"}},\"type\":\"scattermapbox\"}],\"scatterpolargl\":[{\"marker\":{\"colorbar\":{\"outlinewidth\":0,\"ticks\":\"\"}},\"type\":\"scatterpolargl\"}],\"scatterpolar\":[{\"marker\":{\"colorbar\":{\"outlinewidth\":0,\"ticks\":\"\"}},\"type\":\"scatterpolar\"}],\"scatter\":[{\"fillpattern\":{\"fillmode\":\"overlay\",\"size\":10,\"solidity\":0.2},\"type\":\"scatter\"}],\"scatterternary\":[{\"marker\":{\"colorbar\":{\"outlinewidth\":0,\"ticks\":\"\"}},\"type\":\"scatterternary\"}],\"surface\":[{\"colorbar\":{\"outlinewidth\":0,\"ticks\":\"\"},\"colorscale\":[[0.0,\"#0d0887\"],[0.1111111111111111,\"#46039f\"],[0.2222222222222222,\"#7201a8\"],[0.3333333333333333,\"#9c179e\"],[0.4444444444444444,\"#bd3786\"],[0.5555555555555556,\"#d8576b\"],[0.6666666666666666,\"#ed7953\"],[0.7777777777777778,\"#fb9f3a\"],[0.8888888888888888,\"#fdca26\"],[1.0,\"#f0f921\"]],\"type\":\"surface\"}],\"table\":[{\"cells\":{\"fill\":{\"color\":\"#EBF0F8\"},\"line\":{\"color\":\"white\"}},\"header\":{\"fill\":{\"color\":\"#C8D4E3\"},\"line\":{\"color\":\"white\"}},\"type\":\"table\"}]},\"layout\":{\"annotationdefaults\":{\"arrowcolor\":\"#2a3f5f\",\"arrowhead\":0,\"arrowwidth\":1},\"autotypenumbers\":\"strict\",\"coloraxis\":{\"colorbar\":{\"outlinewidth\":0,\"ticks\":\"\"}},\"colorscale\":{\"diverging\":[[0,\"#8e0152\"],[0.1,\"#c51b7d\"],[0.2,\"#de77ae\"],[0.3,\"#f1b6da\"],[0.4,\"#fde0ef\"],[0.5,\"#f7f7f7\"],[0.6,\"#e6f5d0\"],[0.7,\"#b8e186\"],[0.8,\"#7fbc41\"],[0.9,\"#4d9221\"],[1,\"#276419\"]],\"sequential\":[[0.0,\"#0d0887\"],[0.1111111111111111,\"#46039f\"],[0.2222222222222222,\"#7201a8\"],[0.3333333333333333,\"#9c179e\"],[0.4444444444444444,\"#bd3786\"],[0.5555555555555556,\"#d8576b\"],[0.6666666666666666,\"#ed7953\"],[0.7777777777777778,\"#fb9f3a\"],[0.8888888888888888,\"#fdca26\"],[1.0,\"#f0f921\"]],\"sequentialminus\":[[0.0,\"#0d0887\"],[0.1111111111111111,\"#46039f\"],[0.2222222222222222,\"#7201a8\"],[0.3333333333333333,\"#9c179e\"],[0.4444444444444444,\"#bd3786\"],[0.5555555555555556,\"#d8576b\"],[0.6666666666666666,\"#ed7953\"],[0.7777777777777778,\"#fb9f3a\"],[0.8888888888888888,\"#fdca26\"],[1.0,\"#f0f921\"]]},\"colorway\":[\"#636efa\",\"#EF553B\",\"#00cc96\",\"#ab63fa\",\"#FFA15A\",\"#19d3f3\",\"#FF6692\",\"#B6E880\",\"#FF97FF\",\"#FECB52\"],\"font\":{\"color\":\"#2a3f5f\"},\"geo\":{\"bgcolor\":\"white\",\"lakecolor\":\"white\",\"landcolor\":\"white\",\"showlakes\":true,\"showland\":true,\"subunitcolor\":\"#C8D4E3\"},\"hoverlabel\":{\"align\":\"left\"},\"hovermode\":\"closest\",\"mapbox\":{\"style\":\"light\"},\"paper_bgcolor\":\"white\",\"plot_bgcolor\":\"white\",\"polar\":{\"angularaxis\":{\"gridcolor\":\"#EBF0F8\",\"linecolor\":\"#EBF0F8\",\"ticks\":\"\"},\"bgcolor\":\"white\",\"radialaxis\":{\"gridcolor\":\"#EBF0F8\",\"linecolor\":\"#EBF0F8\",\"ticks\":\"\"}},\"scene\":{\"xaxis\":{\"backgroundcolor\":\"white\",\"gridcolor\":\"#DFE8F3\",\"gridwidth\":2,\"linecolor\":\"#EBF0F8\",\"showbackground\":true,\"ticks\":\"\",\"zerolinecolor\":\"#EBF0F8\"},\"yaxis\":{\"backgroundcolor\":\"white\",\"gridcolor\":\"#DFE8F3\",\"gridwidth\":2,\"linecolor\":\"#EBF0F8\",\"showbackground\":true,\"ticks\":\"\",\"zerolinecolor\":\"#EBF0F8\"},\"zaxis\":{\"backgroundcolor\":\"white\",\"gridcolor\":\"#DFE8F3\",\"gridwidth\":2,\"linecolor\":\"#EBF0F8\",\"showbackground\":true,\"ticks\":\"\",\"zerolinecolor\":\"#EBF0F8\"}},\"shapedefaults\":{\"line\":{\"color\":\"#2a3f5f\"}},\"ternary\":{\"aaxis\":{\"gridcolor\":\"#DFE8F3\",\"linecolor\":\"#A2B1C6\",\"ticks\":\"\"},\"baxis\":{\"gridcolor\":\"#DFE8F3\",\"linecolor\":\"#A2B1C6\",\"ticks\":\"\"},\"bgcolor\":\"white\",\"caxis\":{\"gridcolor\":\"#DFE8F3\",\"linecolor\":\"#A2B1C6\",\"ticks\":\"\"}},\"title\":{\"x\":0.05},\"xaxis\":{\"automargin\":true,\"gridcolor\":\"#EBF0F8\",\"linecolor\":\"#EBF0F8\",\"ticks\":\"\",\"title\":{\"standoff\":15},\"zerolinecolor\":\"#EBF0F8\",\"zerolinewidth\":2},\"yaxis\":{\"automargin\":true,\"gridcolor\":\"#EBF0F8\",\"linecolor\":\"#EBF0F8\",\"ticks\":\"\",\"title\":{\"standoff\":15},\"zerolinecolor\":\"#EBF0F8\",\"zerolinewidth\":2}}},\"xaxis\":{\"anchor\":\"y\",\"domain\":[0.0,1.0],\"title\":{\"text\":\"Transformer Layer Number\"},\"tickmode\":\"linear\"},\"yaxis\":{\"anchor\":\"x\",\"domain\":[0.0,1.0],\"title\":{\"text\":\"Average Logit of Top Prediction (Model Confidence)\"}},\"legend\":{\"tracegroupgap\":0},\"title\":{\"text\":\"Model Confidence vs. Layer Depth in Gemma-2b\"},\"width\":600,\"height\":800},                        {\"responsive\": true}                    ).then(function(){\n",
       "                            \n",
       "var gd = document.getElementById('e932436e-0f02-45cb-9ea1-da08bc294aa0');\n",
       "var x = new MutationObserver(function (mutations, observer) {{\n",
       "        var display = window.getComputedStyle(gd).display;\n",
       "        if (!display || display === 'none') {{\n",
       "            console.log([gd, 'removed!']);\n",
       "            Plotly.purge(gd);\n",
       "            observer.disconnect();\n",
       "        }}\n",
       "}});\n",
       "\n",
       "// Listen for the removal of the full notebook cells\n",
       "var notebookContainer = gd.closest('#notebook-container');\n",
       "if (notebookContainer) {{\n",
       "    x.observe(notebookContainer, {childList: true});\n",
       "}}\n",
       "\n",
       "// Listen for the clearing of the current output cell\n",
       "var outputEl = gd.closest('.output');\n",
       "if (outputEl) {{\n",
       "    x.observe(outputEl, {childList: true});\n",
       "}}\n",
       "\n",
       "                        })                };                });            </script>        </div>"
      ]
     },
     "metadata": {},
     "output_type": "display_data"
    }
   ],
   "source": [
    "fig = px.line(\n",
    "    top_predictions_df,\n",
    "    x='layer',\n",
    "    y='avg_logit',\n",
    "    markers=True,\n",
    "    title=\"Model Confidence vs. Layer Depth in Gemma-2b\",\n",
    "    labels={\n",
    "        \"layer\": \"Transformer Layer Number\",\n",
    "        \"avg_logit\": \"Average Logit of Top Prediction (Model Confidence)\"\n",
    "    }\n",
    ")\n",
    "\n",
    "fig.update_layout(\n",
    "    xaxis=dict(tickmode='linear'),\n",
    "    template='plotly_white',\n",
    "    width=600,\n",
    "    height=800\n",
    ")\n",
    "\n",
    "fig.show()"
   ]
  },
  {
   "cell_type": "markdown",
   "id": "0834ae54-3101-4ab4-a2ba-53589262c538",
   "metadata": {},
   "source": [
    "# Activations Analysis"
   ]
  },
  {
   "cell_type": "code",
   "execution_count": 16,
   "id": "d1553231-93c7-4fe5-913b-bbff0b8e82ae",
   "metadata": {},
   "outputs": [],
   "source": [
    "df_act = pd.read_csv(\"./results/neuron_rankings.csv\")"
   ]
  },
  {
   "cell_type": "code",
   "execution_count": 19,
   "id": "43fa6139-c720-41a8-8678-1d251ba62340",
   "metadata": {},
   "outputs": [
    {
     "data": {
      "text/html": [
       "<div>\n",
       "<style scoped>\n",
       "    .dataframe tbody tr th:only-of-type {\n",
       "        vertical-align: middle;\n",
       "    }\n",
       "\n",
       "    .dataframe tbody tr th {\n",
       "        vertical-align: top;\n",
       "    }\n",
       "\n",
       "    .dataframe thead th {\n",
       "        text-align: right;\n",
       "    }\n",
       "</style>\n",
       "<table border=\"1\" class=\"dataframe\">\n",
       "  <thead>\n",
       "    <tr style=\"text-align: right;\">\n",
       "      <th></th>\n",
       "      <th>score</th>\n",
       "      <th>layer</th>\n",
       "      <th>neuron</th>\n",
       "      <th>sparsity</th>\n",
       "      <th>importance</th>\n",
       "    </tr>\n",
       "  </thead>\n",
       "  <tbody>\n",
       "    <tr>\n",
       "      <th>0</th>\n",
       "      <td>0.499938</td>\n",
       "      <td>0</td>\n",
       "      <td>1827</td>\n",
       "      <td>0.999876</td>\n",
       "      <td>0.500000</td>\n",
       "    </tr>\n",
       "    <tr>\n",
       "      <th>1</th>\n",
       "      <td>0.478912</td>\n",
       "      <td>3</td>\n",
       "      <td>915</td>\n",
       "      <td>0.992724</td>\n",
       "      <td>0.482422</td>\n",
       "    </tr>\n",
       "    <tr>\n",
       "      <th>2</th>\n",
       "      <td>0.460252</td>\n",
       "      <td>25</td>\n",
       "      <td>8830</td>\n",
       "      <td>0.924114</td>\n",
       "      <td>0.498047</td>\n",
       "    </tr>\n",
       "    <tr>\n",
       "      <th>3</th>\n",
       "      <td>0.459580</td>\n",
       "      <td>12</td>\n",
       "      <td>4417</td>\n",
       "      <td>0.891306</td>\n",
       "      <td>0.515625</td>\n",
       "    </tr>\n",
       "    <tr>\n",
       "      <th>4</th>\n",
       "      <td>0.452533</td>\n",
       "      <td>12</td>\n",
       "      <td>4101</td>\n",
       "      <td>0.877639</td>\n",
       "      <td>0.515625</td>\n",
       "    </tr>\n",
       "    <tr>\n",
       "      <th>5</th>\n",
       "      <td>0.448618</td>\n",
       "      <td>10</td>\n",
       "      <td>8795</td>\n",
       "      <td>0.994339</td>\n",
       "      <td>0.451172</td>\n",
       "    </tr>\n",
       "    <tr>\n",
       "      <th>6</th>\n",
       "      <td>0.446004</td>\n",
       "      <td>9</td>\n",
       "      <td>6860</td>\n",
       "      <td>0.928270</td>\n",
       "      <td>0.480469</td>\n",
       "    </tr>\n",
       "    <tr>\n",
       "      <th>7</th>\n",
       "      <td>0.443359</td>\n",
       "      <td>6</td>\n",
       "      <td>2643</td>\n",
       "      <td>1.000000</td>\n",
       "      <td>0.443359</td>\n",
       "    </tr>\n",
       "    <tr>\n",
       "      <th>8</th>\n",
       "      <td>0.443212</td>\n",
       "      <td>1</td>\n",
       "      <td>4401</td>\n",
       "      <td>0.937705</td>\n",
       "      <td>0.472656</td>\n",
       "    </tr>\n",
       "    <tr>\n",
       "      <th>9</th>\n",
       "      <td>0.440788</td>\n",
       "      <td>13</td>\n",
       "      <td>2840</td>\n",
       "      <td>0.868014</td>\n",
       "      <td>0.507812</td>\n",
       "    </tr>\n",
       "    <tr>\n",
       "      <th>10</th>\n",
       "      <td>0.440024</td>\n",
       "      <td>24</td>\n",
       "      <td>6903</td>\n",
       "      <td>0.866508</td>\n",
       "      <td>0.507812</td>\n",
       "    </tr>\n",
       "    <tr>\n",
       "      <th>11</th>\n",
       "      <td>0.436621</td>\n",
       "      <td>10</td>\n",
       "      <td>2544</td>\n",
       "      <td>0.804136</td>\n",
       "      <td>0.542969</td>\n",
       "    </tr>\n",
       "    <tr>\n",
       "      <th>12</th>\n",
       "      <td>0.436262</td>\n",
       "      <td>12</td>\n",
       "      <td>5903</td>\n",
       "      <td>0.919201</td>\n",
       "      <td>0.474609</td>\n",
       "    </tr>\n",
       "    <tr>\n",
       "      <th>13</th>\n",
       "      <td>0.432318</td>\n",
       "      <td>12</td>\n",
       "      <td>8603</td>\n",
       "      <td>0.888942</td>\n",
       "      <td>0.486328</td>\n",
       "    </tr>\n",
       "    <tr>\n",
       "      <th>14</th>\n",
       "      <td>0.431307</td>\n",
       "      <td>12</td>\n",
       "      <td>4347</td>\n",
       "      <td>0.862615</td>\n",
       "      <td>0.500000</td>\n",
       "    </tr>\n",
       "    <tr>\n",
       "      <th>15</th>\n",
       "      <td>0.427911</td>\n",
       "      <td>12</td>\n",
       "      <td>1676</td>\n",
       "      <td>0.859179</td>\n",
       "      <td>0.498047</td>\n",
       "    </tr>\n",
       "    <tr>\n",
       "      <th>16</th>\n",
       "      <td>0.427514</td>\n",
       "      <td>15</td>\n",
       "      <td>1997</td>\n",
       "      <td>0.879064</td>\n",
       "      <td>0.486328</td>\n",
       "    </tr>\n",
       "    <tr>\n",
       "      <th>17</th>\n",
       "      <td>0.425696</td>\n",
       "      <td>22</td>\n",
       "      <td>3305</td>\n",
       "      <td>0.995235</td>\n",
       "      <td>0.427734</td>\n",
       "    </tr>\n",
       "    <tr>\n",
       "      <th>18</th>\n",
       "      <td>0.425391</td>\n",
       "      <td>12</td>\n",
       "      <td>2708</td>\n",
       "      <td>0.806667</td>\n",
       "      <td>0.527344</td>\n",
       "    </tr>\n",
       "    <tr>\n",
       "      <th>19</th>\n",
       "      <td>0.424467</td>\n",
       "      <td>14</td>\n",
       "      <td>2501</td>\n",
       "      <td>0.909318</td>\n",
       "      <td>0.466797</td>\n",
       "    </tr>\n",
       "    <tr>\n",
       "      <th>20</th>\n",
       "      <td>0.423568</td>\n",
       "      <td>22</td>\n",
       "      <td>1952</td>\n",
       "      <td>0.951171</td>\n",
       "      <td>0.445312</td>\n",
       "    </tr>\n",
       "    <tr>\n",
       "      <th>21</th>\n",
       "      <td>0.422563</td>\n",
       "      <td>15</td>\n",
       "      <td>1174</td>\n",
       "      <td>0.858540</td>\n",
       "      <td>0.492188</td>\n",
       "    </tr>\n",
       "    <tr>\n",
       "      <th>22</th>\n",
       "      <td>0.421493</td>\n",
       "      <td>14</td>\n",
       "      <td>2838</td>\n",
       "      <td>0.946511</td>\n",
       "      <td>0.445312</td>\n",
       "    </tr>\n",
       "    <tr>\n",
       "      <th>23</th>\n",
       "      <td>0.419712</td>\n",
       "      <td>1</td>\n",
       "      <td>5761</td>\n",
       "      <td>0.976784</td>\n",
       "      <td>0.429688</td>\n",
       "    </tr>\n",
       "    <tr>\n",
       "      <th>24</th>\n",
       "      <td>0.418474</td>\n",
       "      <td>7</td>\n",
       "      <td>1885</td>\n",
       "      <td>0.881723</td>\n",
       "      <td>0.474609</td>\n",
       "    </tr>\n",
       "  </tbody>\n",
       "</table>\n",
       "</div>"
      ],
      "text/plain": [
       "       score  layer  neuron  sparsity  importance\n",
       "0   0.499938      0    1827  0.999876    0.500000\n",
       "1   0.478912      3     915  0.992724    0.482422\n",
       "2   0.460252     25    8830  0.924114    0.498047\n",
       "3   0.459580     12    4417  0.891306    0.515625\n",
       "4   0.452533     12    4101  0.877639    0.515625\n",
       "5   0.448618     10    8795  0.994339    0.451172\n",
       "6   0.446004      9    6860  0.928270    0.480469\n",
       "7   0.443359      6    2643  1.000000    0.443359\n",
       "8   0.443212      1    4401  0.937705    0.472656\n",
       "9   0.440788     13    2840  0.868014    0.507812\n",
       "10  0.440024     24    6903  0.866508    0.507812\n",
       "11  0.436621     10    2544  0.804136    0.542969\n",
       "12  0.436262     12    5903  0.919201    0.474609\n",
       "13  0.432318     12    8603  0.888942    0.486328\n",
       "14  0.431307     12    4347  0.862615    0.500000\n",
       "15  0.427911     12    1676  0.859179    0.498047\n",
       "16  0.427514     15    1997  0.879064    0.486328\n",
       "17  0.425696     22    3305  0.995235    0.427734\n",
       "18  0.425391     12    2708  0.806667    0.527344\n",
       "19  0.424467     14    2501  0.909318    0.466797\n",
       "20  0.423568     22    1952  0.951171    0.445312\n",
       "21  0.422563     15    1174  0.858540    0.492188\n",
       "22  0.421493     14    2838  0.946511    0.445312\n",
       "23  0.419712      1    5761  0.976784    0.429688\n",
       "24  0.418474      7    1885  0.881723    0.474609"
      ]
     },
     "execution_count": 19,
     "metadata": {},
     "output_type": "execute_result"
    }
   ],
   "source": [
    "df_act.head(25)"
   ]
  },
  {
   "cell_type": "code",
   "execution_count": null,
   "id": "744eabfe-c0d6-4812-8d20-67109c85025c",
   "metadata": {},
   "outputs": [],
   "source": []
  }
 ],
 "metadata": {
  "kernelspec": {
   "display_name": "Python 3 (ipykernel)",
   "language": "python",
   "name": "python3"
  },
  "language_info": {
   "codemirror_mode": {
    "name": "ipython",
    "version": 3
   },
   "file_extension": ".py",
   "mimetype": "text/x-python",
   "name": "python",
   "nbconvert_exporter": "python",
   "pygments_lexer": "ipython3",
   "version": "3.10.12"
  }
 },
 "nbformat": 4,
 "nbformat_minor": 5
}
