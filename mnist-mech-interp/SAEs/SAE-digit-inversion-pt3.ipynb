{
 "cells": [
  {
   "cell_type": "markdown",
   "id": "84207c44-9c22-4853-943c-5a6cb08bdbdf",
   "metadata": {},
   "source": [
    "# Digit Inversion Attempts\n",
    "\n",
    "We've identified key features for each digit, let's try and invert the features to images and then combine the images to see if we can get close to the digits."
   ]
  },
  {
   "cell_type": "code",
   "execution_count": 1,
   "id": "10aa37d0-59c1-4368-aec0-83ccb0ce6a4b",
   "metadata": {},
   "outputs": [],
   "source": [
    "import time\n",
    "\n",
    "EXPERIMENT_TYPE = \"SAE\"\n",
    "RUN_ID = time.time()"
   ]
  },
  {
   "cell_type": "markdown",
   "id": "f2b67228-330c-480e-99b5-cb4001e89013",
   "metadata": {},
   "source": [
    "## SAE Params"
   ]
  },
  {
   "cell_type": "code",
   "execution_count": 2,
   "id": "250d7778-885a-4a6d-9bd2-ddbcb9a27be3",
   "metadata": {},
   "outputs": [],
   "source": [
    "HIDDEN_SIZE = 256\n",
    "L1_PENALTY = 0.01"
   ]
  },
  {
   "cell_type": "markdown",
   "id": "fcf4a0ba-710d-4882-9bd0-f948e9f6fb9d",
   "metadata": {},
   "source": [
    "## Imports"
   ]
  },
  {
   "cell_type": "code",
   "execution_count": 3,
   "id": "4a4018f1-cb83-4f0b-90db-0f48aad1fe9f",
   "metadata": {},
   "outputs": [],
   "source": [
    "import random\n",
    "import copy\n",
    "\n",
    "import numpy as np\n",
    "import pandas as pd\n",
    "import matplotlib.pyplot as plt\n",
    "from sklearn.model_selection import train_test_split\n",
    "\n",
    "import torch\n",
    "from torch import nn\n",
    "from torch.utils.data import Dataset, DataLoader\n",
    "\n",
    "from tqdm import tqdm"
   ]
  },
  {
   "cell_type": "code",
   "execution_count": 4,
   "id": "6e7038c3-06d1-4d3c-9b44-2f2bc3485f57",
   "metadata": {},
   "outputs": [],
   "source": [
    "from graph_helpers import (plot_weights,\n",
    "                    plot_activations,\n",
    "                    plot_losses,\n",
    "                    plot_saliency_map,\n",
    "                    plot_sparse_vecs_by_image,\n",
    "                    plot_top_act_images_by_feature,\n",
    "                    feature_inversion,\n",
    "                    plot_sparse_features\n",
    "                )"
   ]
  },
  {
   "cell_type": "code",
   "execution_count": 5,
   "id": "2c069cc3-458e-4825-9828-c771c7f7370a",
   "metadata": {},
   "outputs": [],
   "source": [
    "import sys, os\n",
    "from pathlib import Path\n",
    "\n",
    "# assume cwd is project_root/data_loader\n",
    "project_root = Path(os.getcwd()).parent  # go up one level to project_root\n",
    "sys.path.insert(0, str(project_root))\n",
    "\n",
    "from helpers import load_images, load_labels, visualize_image, get_edges, generate_intermediate_edge_labels"
   ]
  },
  {
   "cell_type": "markdown",
   "id": "6cbef66c-0819-4e4f-9fb7-346b8b786a6b",
   "metadata": {},
   "source": [
    "## Set Device to GPU"
   ]
  },
  {
   "cell_type": "code",
   "execution_count": 6,
   "id": "67f93931-772a-4720-b394-0cff7884a1ba",
   "metadata": {},
   "outputs": [
    {
     "name": "stdout",
     "output_type": "stream",
     "text": [
      "We will be using device: cuda\n"
     ]
    }
   ],
   "source": [
    "device = torch.device('cuda' if torch.cuda.is_available() else 'cpu')\n",
    "print(f\"We will be using device: {device}\")"
   ]
  },
  {
   "cell_type": "markdown",
   "id": "7b553d6d-7e3a-4973-a472-3c735df1b699",
   "metadata": {},
   "source": [
    "## Load Data"
   ]
  },
  {
   "cell_type": "code",
   "execution_count": 7,
   "id": "070db857-3892-4a37-b24a-b3f8a8d7bb37",
   "metadata": {},
   "outputs": [],
   "source": [
    "# train data\n",
    "train_images = load_images(\"../data/train-images-idx3-ubyte/train-images-idx3-ubyte\")\n",
    "train_labels = load_labels(\"../data/train-labels-idx1-ubyte/train-labels-idx1-ubyte\")\n",
    "\n",
    "train_images, val_images, train_labels, val_labels = train_test_split(\n",
    "    train_images, train_labels,\n",
    "    test_size=1/6,  # 10k validation\n",
    "    stratify=train_labels,\n",
    "    random_state=42  # for reproducibility\n",
    ")\n",
    "\n",
    "# test data\n",
    "test_images = load_images(\"../data/t10k-images-idx3-ubyte/t10k-images-idx3-ubyte\")\n",
    "test_labels = load_labels(\"../data/t10k-labels-idx1-ubyte/t10k-labels-idx1-ubyte\")"
   ]
  },
  {
   "cell_type": "code",
   "execution_count": 8,
   "id": "a75e03f6-1174-4b0a-bac4-a30b30deff63",
   "metadata": {},
   "outputs": [
    {
     "name": "stdout",
     "output_type": "stream",
     "text": [
      "Train images shape: (50000, 28, 28)\n",
      "Val images shape: (10000, 28, 28)\n",
      "Test images shape: (10000, 28, 28)\n"
     ]
    }
   ],
   "source": [
    "print(\"Train images shape:\", train_images.shape)\n",
    "print(\"Val images shape:\", val_images.shape)\n",
    "print(\"Test images shape:\", test_images.shape)"
   ]
  },
  {
   "cell_type": "markdown",
   "id": "39ca05d5-d791-4fbb-9736-b52a5eae1409",
   "metadata": {},
   "source": [
    "## Visualize an image"
   ]
  },
  {
   "cell_type": "code",
   "execution_count": 9,
   "id": "10a6f14c-5f30-4237-933c-55a6f254a9df",
   "metadata": {},
   "outputs": [
    {
     "data": {
      "image/png": "[encoded data removed]",
      "text/plain": [
       "<Figure size 300x300 with 1 Axes>"
      ]
     },
     "metadata": {},
     "output_type": "display_data"
    }
   ],
   "source": [
    "sample_image = train_images[0]\n",
    "sample_label = train_labels[0]\n",
    "visualize_image(sample_image, sample_label)"
   ]
  },
  {
   "cell_type": "markdown",
   "id": "00d7fd35-fd62-4598-89f5-58f98567ad3c",
   "metadata": {},
   "source": [
    "## Architecture\n",
    "\n",
    "### NN\n",
    "\n",
    "Once again, two hidden layers. 16 nodes each. Same as 3blue1brown."
   ]
  },
  {
   "cell_type": "code",
   "execution_count": 10,
   "id": "1e5d2535-98f4-4c1e-8073-c5373a5b56c0",
   "metadata": {},
   "outputs": [],
   "source": [
    "class NeuralNetwork(nn.Module):\n",
    "    def __init__(self):\n",
    "        super().__init__()\n",
    "        layer_size_by_pixels = 28*28\n",
    "        \n",
    "        self.flatten = nn.Flatten()\n",
    "        \n",
    "        # define layers separately to have access to each\n",
    "        self.hidden_one = nn.Linear(layer_size_by_pixels, 16)\n",
    "        self.hidden_two = nn.Linear(16, 16)\n",
    "        self.classification_layer = nn.Linear(16, 10)\n",
    "        \n",
    "        self.activation_function = nn.ReLU()\n",
    "\n",
    "    def forward(self, x, hidden_one_act=None, hidden_two_act=None):\n",
    "        x = self.flatten(x)\n",
    "\n",
    "        # first hidden layer\n",
    "        if hidden_one_act is None:\n",
    "            hidden_one_out = self.hidden_one(x)\n",
    "            hidden_one_act = self.activation_function(hidden_one_out)\n",
    "\n",
    "        # second hidden layer\n",
    "        if hidden_two_act is None:\n",
    "            hidden_two_out = self.hidden_two(hidden_one_act)\n",
    "            hidden_two_act = self.activation_function(hidden_two_out)\n",
    "\n",
    "        # classification layer\n",
    "        classification_out = self.classification_layer(hidden_two_act)\n",
    "        \n",
    "        return classification_out, hidden_one_act, hidden_two_act"
   ]
  },
  {
   "cell_type": "code",
   "execution_count": 11,
   "id": "360ff754-354f-4345-b7a8-637e1cbbe83b",
   "metadata": {},
   "outputs": [],
   "source": [
    "# for reproducibility\n",
    "seed = 42\n",
    "torch.manual_seed(seed)\n",
    "np.random.seed(seed)\n",
    "random.seed(seed)\n",
    "if torch.cuda.is_available():\n",
    "    torch.cuda.manual_seed_all(seed)\n",
    "    torch.backends.cudnn.deterministic = True\n",
    "    torch.backends.cudnn.benchmark = False"
   ]
  },
  {
   "cell_type": "code",
   "execution_count": 12,
   "id": "00c9cc14-5e72-4f33-b2cc-cd356e881c5f",
   "metadata": {},
   "outputs": [],
   "source": [
    "model = NeuralNetwork().to(device)\n",
    "\n",
    "# loss functions\n",
    "classification_loss_fn = nn.CrossEntropyLoss()\n",
    "\n",
    "# optimizers\n",
    "optimizer = torch.optim.Adam(model.parameters())"
   ]
  },
  {
   "cell_type": "code",
   "execution_count": 13,
   "id": "f90e8694-36ec-4f8b-b78d-f63acdc38dd7",
   "metadata": {},
   "outputs": [
    {
     "name": "stdout",
     "output_type": "stream",
     "text": [
      "Model weights (to compare below): [ 0.02730495  0.02964314 -0.00836687  0.03280755 -0.00782513]\n"
     ]
    }
   ],
   "source": [
    "print(f\"Model weights (to compare below): {model.hidden_one.weight[0][:5].detach().cpu().numpy()}\")"
   ]
  },
  {
   "cell_type": "markdown",
   "id": "dd44c3cf-602d-451e-b10c-8b7f005858e8",
   "metadata": {},
   "source": [
    "### SAE"
   ]
  },
  {
   "cell_type": "code",
   "execution_count": 14,
   "id": "53786553-7c2c-4d0f-96a9-b901297c7756",
   "metadata": {},
   "outputs": [],
   "source": [
    "class SparseAutoencoder(nn.Module):\n",
    "    def __init__(self, input_size=16, hidden_size=128):\n",
    "        super().__init__()\n",
    "        self.encoder = nn.Linear(input_size, hidden_size)\n",
    "        self.decoder = nn.Linear(hidden_size, input_size)\n",
    "        self.activation = nn.ReLU()\n",
    "    \n",
    "    def forward(self, x):\n",
    "        encoded = self.activation(self.encoder(x))\n",
    "        reconstructed = self.decoder(encoded)\n",
    "        return reconstructed, encoded\n",
    "    \n",
    "    def loss(self, x, reconstructed, encoded, l1_lambda=0.001):\n",
    "        mse_loss = nn.MSELoss()(reconstructed, x)\n",
    "        l1_loss = l1_lambda * torch.mean(torch.abs(encoded))\n",
    "        return mse_loss + l1_loss"
   ]
  },
  {
   "cell_type": "code",
   "execution_count": 15,
   "id": "25ba9c08-a5f4-47c2-b82a-3ea1bb8a41ce",
   "metadata": {},
   "outputs": [],
   "source": [
    "# for reproducibility\n",
    "seed = 42\n",
    "torch.manual_seed(seed)\n",
    "np.random.seed(seed)\n",
    "random.seed(seed)\n",
    "if torch.cuda.is_available():\n",
    "    torch.cuda.manual_seed_all(seed)\n",
    "    torch.backends.cudnn.deterministic = True\n",
    "    torch.backends.cudnn.benchmark = False\n",
    "    \n",
    "sae_hidden_two = SparseAutoencoder(input_size=16, hidden_size=HIDDEN_SIZE).to(device)\n",
    "optimizer_sae_hidden_two = torch.optim.Adam(sae_hidden_two.parameters())"
   ]
  },
  {
   "cell_type": "code",
   "execution_count": 16,
   "id": "b035a794-7e07-4801-b8f0-0661db1e596c",
   "metadata": {},
   "outputs": [
    {
     "name": "stdout",
     "output_type": "stream",
     "text": [
      "SAE weights: [ 0.19113463  0.20750198 -0.05856812  0.22965282 -0.05477589]\n"
     ]
    }
   ],
   "source": [
    "# expectation: SAE weights: [ 0.19113463  0.20750198 -0.05856812  0.22965282 -0.05477589]\n",
    "print(f\"SAE weights: {sae_hidden_two.encoder.weight[0][:5].detach().cpu().numpy()}\")"
   ]
  },
  {
   "cell_type": "code",
   "execution_count": 17,
   "id": "5ea630df-97fa-4b7e-8f6b-10980cf3eaba",
   "metadata": {},
   "outputs": [],
   "source": [
    "# for reproducibility\n",
    "seed = 42\n",
    "torch.manual_seed(seed)\n",
    "np.random.seed(seed)\n",
    "random.seed(seed)\n",
    "if torch.cuda.is_available():\n",
    "    torch.cuda.manual_seed_all(seed)\n",
    "    torch.backends.cudnn.deterministic = True\n",
    "    torch.backends.cudnn.benchmark = False\n",
    "    \n",
    "sae_hidden_one = SparseAutoencoder(input_size=16, hidden_size=HIDDEN_SIZE).to(device)\n",
    "optimizer_sae_hidden_one = torch.optim.Adam(sae_hidden_one.parameters())"
   ]
  },
  {
   "cell_type": "code",
   "execution_count": 18,
   "id": "8a7d0018-daf9-4515-8c93-9432dcb740d1",
   "metadata": {},
   "outputs": [
    {
     "name": "stdout",
     "output_type": "stream",
     "text": [
      "SAE weights: [ 0.19113463  0.20750198 -0.05856812  0.22965282 -0.05477589]\n"
     ]
    }
   ],
   "source": [
    "# expectation: SAE weights: [ 0.19113463  0.20750198 -0.05856812  0.22965282 -0.05477589]\n",
    "print(f\"SAE weights: {sae_hidden_one.encoder.weight[0][:5].detach().cpu().numpy()}\")"
   ]
  },
  {
   "cell_type": "markdown",
   "id": "3d245a92-a504-453b-96b3-6c0827fcb344",
   "metadata": {},
   "source": [
    "### Verify Reproducibility"
   ]
  },
  {
   "cell_type": "code",
   "execution_count": 19,
   "id": "82e28ddd-9831-421e-b1d1-767c0f837e23",
   "metadata": {},
   "outputs": [
    {
     "name": "stdout",
     "output_type": "stream",
     "text": [
      "First set of weights: [ 0.02730495  0.02964314 -0.00836687  0.03280755 -0.00782513]\n",
      "Second set of weights: [ 0.02730495  0.02964314 -0.00836687  0.03280755 -0.00782513]\n",
      "Are the two sets equal: [ True  True  True  True  True]\n"
     ]
    }
   ],
   "source": [
    "# reset the seed\n",
    "torch.manual_seed(seed)\n",
    "np.random.seed(seed)\n",
    "random.seed(seed)\n",
    "if torch.cuda.is_available():\n",
    "    torch.cuda.manual_seed_all(seed)\n",
    "    \n",
    "model_compare_one = NeuralNetwork().to(device)\n",
    "first_set_of_weights = model_compare_one.hidden_one.weight[0][:5].detach().cpu().numpy()\n",
    "print(\"First set of weights:\", first_set_of_weights)\n",
    "\n",
    "# reset the seed\n",
    "torch.manual_seed(seed)\n",
    "np.random.seed(seed)\n",
    "random.seed(seed)\n",
    "if torch.cuda.is_available():\n",
    "    torch.cuda.manual_seed_all(seed)\n",
    "\n",
    "model_compare_two = NeuralNetwork().to(device)\n",
    "second_set_of_weights = model_compare_two.hidden_one.weight[0][:5].detach().cpu().numpy()\n",
    "print(\"Second set of weights:\", second_set_of_weights)\n",
    "\n",
    "print(f\"Are the two sets equal: {first_set_of_weights == second_set_of_weights}\")"
   ]
  },
  {
   "cell_type": "markdown",
   "id": "17fa3f1a-32f7-46d9-975d-3c7c77d95a9f",
   "metadata": {},
   "source": [
    "## Dataloader"
   ]
  },
  {
   "cell_type": "code",
   "execution_count": 20,
   "id": "2fe0386b-042b-4e96-8266-adb647758c37",
   "metadata": {},
   "outputs": [],
   "source": [
    "class EdgeDataset(Dataset):\n",
    "    def __init__(self, images, labels):\n",
    "        self.images = images\n",
    "        self.labels = labels\n",
    "\n",
    "    def __len__(self):\n",
    "        assert len(self.images) == len(self.labels)\n",
    "        return len(self.images)\n",
    "\n",
    "    def __getitem__(self, idx):\n",
    "        return (\n",
    "            torch.from_numpy(self.images[idx].copy()).float(),\n",
    "            torch.tensor(self.labels[idx].copy(), dtype=torch.long),\n",
    "        )"
   ]
  },
  {
   "cell_type": "code",
   "execution_count": 21,
   "id": "634f8215-1f78-4e3f-975f-1bddf935cd34",
   "metadata": {},
   "outputs": [],
   "source": [
    "# for reproducibility on training\n",
    "def seed_worker(worker_id):\n",
    "    worker_seed = torch.initial_seed() % 2**32\n",
    "    np.random.seed(worker_seed)\n",
    "    random.seed(worker_seed)\n",
    "\n",
    "generator = torch.Generator().manual_seed(seed)"
   ]
  },
  {
   "cell_type": "code",
   "execution_count": 22,
   "id": "6c300da9-178d-46a0-ba00-cf68f0e7cd15",
   "metadata": {},
   "outputs": [],
   "source": [
    "NUM_WORKERS = 4\n",
    "if device.type.lower() == \"cpu\":\n",
    "    NUM_WORKERS = 0\n",
    "\n",
    "# training data\n",
    "train_dataset = EdgeDataset(train_images, train_labels)\n",
    "train_loader = DataLoader(train_dataset, batch_size=64, shuffle=True, num_workers=NUM_WORKERS, worker_init_fn=seed_worker, generator=generator)\n",
    "\n",
    "# validation data\n",
    "val_dataset = EdgeDataset(val_images, val_labels)\n",
    "val_loader = DataLoader(val_dataset, batch_size=128, shuffle=False, num_workers=NUM_WORKERS)  # larger batch size for faster validation\n",
    "\n",
    "# test data\n",
    "test_dataset = EdgeDataset(test_images, test_labels)\n",
    "test_loader = DataLoader(test_dataset, batch_size=128, shuffle=False, num_workers=NUM_WORKERS)"
   ]
  },
  {
   "cell_type": "markdown",
   "id": "b878bdc7-4dc6-4510-a3a7-d64a2d2d7394",
   "metadata": {},
   "source": [
    "## Training Loop"
   ]
  },
  {
   "cell_type": "markdown",
   "id": "b0d6df0d-3ffe-4acf-a14a-967597161b58",
   "metadata": {},
   "source": [
    "We have now incorporated fidelity as a metric for our SAEs. Ideally, fidelity should be close to 0.\n",
    "\n",
    "The formula: (l_sae - l_x) / (l_ablated - l_x). We'd expect l_ablated to be quite high, so our denominator should be positive as l_ablated >> l_x. Ideally, l_sae is a good approximation of l_x, so our numerator should approach 0. \n",
    "\n",
    "This metric, while it doesn't affect the training of the SAE, should tell us how the SAE performs downstream with the classifer. This is a good step prior to 1) making the SAE training changes and 2) thinking about decoupling the SAE to train for longer."
   ]
  },
  {
   "cell_type": "code",
   "execution_count": 23,
   "id": "8a23049d-f81e-4a4b-92e6-3ca4ee276d55",
   "metadata": {
    "scrolled": true
   },
   "outputs": [
    {
     "name": "stderr",
     "output_type": "stream",
     "text": [
      "                                                                                                                        \r"
     ]
    },
    {
     "name": "stdout",
     "output_type": "stream",
     "text": [
      "Epoch 1/20\n",
      "  Training Metrics:\n",
      "    Train Loss: 1.0223\n",
      "    SAE Train Loss (hidden one): 8.8025\n",
      "    SAE Train Loss (hidden two): 1.1771\n",
      "  Validation Metrics:\n",
      "    Baseline Loss (val): 0.5656\n",
      "    SAE Loss (hidden one): 0.5678, Ablated: 2.3943\n",
      "    SAE Loss (hidden two): 0.5632, Ablated: 2.3305\n",
      "    SAE Fidelity (hidden one): 0.0012\n",
      "    SAE Fidelity (hidden two): -0.0014\n",
      "    Val Loss: 0.5656 | Val Acc: 83.62%\n",
      "    Val Acc (one): 83.6600 | Val Acc (two): 83.77%\n",
      "  Saved model with Val Acc: 83.62%\n"
     ]
    },
    {
     "name": "stderr",
     "output_type": "stream",
     "text": [
      "                                                                                                                        \r"
     ]
    },
    {
     "name": "stdout",
     "output_type": "stream",
     "text": [
      "Epoch 2/20\n",
      "  Training Metrics:\n",
      "    Train Loss: 0.4646\n",
      "    SAE Train Loss (hidden one): 0.5374\n",
      "    SAE Train Loss (hidden two): 0.1031\n",
      "  Validation Metrics:\n",
      "    Baseline Loss (val): 0.4460\n",
      "    SAE Loss (hidden one): 0.4475, Ablated: 2.4133\n",
      "    SAE Loss (hidden two): 0.4481, Ablated: 2.3366\n",
      "    SAE Fidelity (hidden one): 0.0007\n",
      "    SAE Fidelity (hidden two): 0.0011\n",
      "    Val Loss: 0.4460 | Val Acc: 86.46%\n",
      "    Val Acc (one): 86.4200 | Val Acc (two): 86.45%\n",
      "  Saved model with Val Acc: 86.46%\n"
     ]
    },
    {
     "name": "stderr",
     "output_type": "stream",
     "text": [
      "                                                                                                                        \r"
     ]
    },
    {
     "name": "stdout",
     "output_type": "stream",
     "text": [
      "Epoch 3/20\n",
      "  Training Metrics:\n",
      "    Train Loss: 0.3924\n",
      "    SAE Train Loss (hidden one): 0.5168\n",
      "    SAE Train Loss (hidden two): 0.0914\n",
      "  Validation Metrics:\n",
      "    Baseline Loss (val): 0.3987\n",
      "    SAE Loss (hidden one): 0.3977, Ablated: 2.4429\n",
      "    SAE Loss (hidden two): 0.4019, Ablated: 2.3440\n",
      "    SAE Fidelity (hidden one): -0.0005\n",
      "    SAE Fidelity (hidden two): 0.0017\n",
      "    Val Loss: 0.3987 | Val Acc: 88.16%\n",
      "    Val Acc (one): 88.2400 | Val Acc (two): 88.05%\n",
      "  Saved model with Val Acc: 88.16%\n"
     ]
    },
    {
     "name": "stderr",
     "output_type": "stream",
     "text": [
      "                                                                                                                        \r"
     ]
    },
    {
     "name": "stdout",
     "output_type": "stream",
     "text": [
      "Epoch 4/20\n",
      "  Training Metrics:\n",
      "    Train Loss: 0.3673\n",
      "    SAE Train Loss (hidden one): 0.5392\n",
      "    SAE Train Loss (hidden two): 0.0826\n",
      "  Validation Metrics:\n",
      "    Baseline Loss (val): 0.3996\n",
      "    SAE Loss (hidden one): 0.3990, Ablated: 2.4852\n",
      "    SAE Loss (hidden two): 0.3994, Ablated: 2.3555\n",
      "    SAE Fidelity (hidden one): -0.0003\n",
      "    SAE Fidelity (hidden two): -0.0001\n",
      "    Val Loss: 0.3996 | Val Acc: 88.18%\n",
      "    Val Acc (one): 88.2000 | Val Acc (two): 88.25%\n",
      "  Saved model with Val Acc: 88.18%\n"
     ]
    },
    {
     "name": "stderr",
     "output_type": "stream",
     "text": [
      "                                                                                                                        \r"
     ]
    },
    {
     "name": "stdout",
     "output_type": "stream",
     "text": [
      "Epoch 5/20\n",
      "  Training Metrics:\n",
      "    Train Loss: 0.3517\n",
      "    SAE Train Loss (hidden one): 0.5301\n",
      "    SAE Train Loss (hidden two): 0.0762\n",
      "  Validation Metrics:\n",
      "    Baseline Loss (val): 0.3552\n",
      "    SAE Loss (hidden one): 0.3553, Ablated: 2.5351\n",
      "    SAE Loss (hidden two): 0.3555, Ablated: 2.3689\n",
      "    SAE Fidelity (hidden one): 0.0000\n",
      "    SAE Fidelity (hidden two): 0.0002\n",
      "    Val Loss: 0.3552 | Val Acc: 89.42%\n",
      "    Val Acc (one): 89.4400 | Val Acc (two): 89.30%\n",
      "  Saved model with Val Acc: 89.42%\n"
     ]
    },
    {
     "name": "stderr",
     "output_type": "stream",
     "text": [
      "                                                                                                                        \r"
     ]
    },
    {
     "name": "stdout",
     "output_type": "stream",
     "text": [
      "Epoch 6/20\n",
      "  Training Metrics:\n",
      "    Train Loss: 0.3349\n",
      "    SAE Train Loss (hidden one): 0.5936\n",
      "    SAE Train Loss (hidden two): 0.0750\n",
      "  Validation Metrics:\n",
      "    Baseline Loss (val): 0.3484\n",
      "    SAE Loss (hidden one): 0.3487, Ablated: 2.5943\n",
      "    SAE Loss (hidden two): 0.3486, Ablated: 2.3851\n",
      "    SAE Fidelity (hidden one): 0.0002\n",
      "    SAE Fidelity (hidden two): 0.0001\n",
      "    Val Loss: 0.3484 | Val Acc: 89.91%\n",
      "    Val Acc (one): 89.9100 | Val Acc (two): 89.83%\n",
      "  Saved model with Val Acc: 89.91%\n"
     ]
    },
    {
     "name": "stderr",
     "output_type": "stream",
     "text": [
      "                                                                                                                        \r"
     ]
    },
    {
     "name": "stdout",
     "output_type": "stream",
     "text": [
      "Epoch 7/20\n",
      "  Training Metrics:\n",
      "    Train Loss: 0.3278\n",
      "    SAE Train Loss (hidden one): 0.6069\n",
      "    SAE Train Loss (hidden two): 0.0731\n",
      "  Validation Metrics:\n",
      "    Baseline Loss (val): 0.3521\n",
      "    SAE Loss (hidden one): 0.3530, Ablated: 2.6598\n",
      "    SAE Loss (hidden two): 0.3539, Ablated: 2.4034\n",
      "    SAE Fidelity (hidden one): 0.0004\n",
      "    SAE Fidelity (hidden two): 0.0009\n",
      "    Val Loss: 0.3521 | Val Acc: 89.77%\n",
      "    Val Acc (one): 89.7600 | Val Acc (two): 89.76%\n"
     ]
    },
    {
     "name": "stderr",
     "output_type": "stream",
     "text": [
      "                                                                                                                        \r"
     ]
    },
    {
     "name": "stdout",
     "output_type": "stream",
     "text": [
      "Epoch 8/20\n",
      "  Training Metrics:\n",
      "    Train Loss: 0.3185\n",
      "    SAE Train Loss (hidden one): 0.6247\n",
      "    SAE Train Loss (hidden two): 0.0704\n",
      "  Validation Metrics:\n",
      "    Baseline Loss (val): 0.3430\n",
      "    SAE Loss (hidden one): 0.3424, Ablated: 2.7650\n",
      "    SAE Loss (hidden two): 0.3434, Ablated: 2.4240\n",
      "    SAE Fidelity (hidden one): -0.0002\n",
      "    SAE Fidelity (hidden two): 0.0002\n",
      "    Val Loss: 0.3430 | Val Acc: 89.99%\n",
      "    Val Acc (one): 90.0600 | Val Acc (two): 90.02%\n",
      "  Saved model with Val Acc: 89.99%\n"
     ]
    },
    {
     "name": "stderr",
     "output_type": "stream",
     "text": [
      "                                                                                                                        \r"
     ]
    },
    {
     "name": "stdout",
     "output_type": "stream",
     "text": [
      "Epoch 9/20\n",
      "  Training Metrics:\n",
      "    Train Loss: 0.3092\n",
      "    SAE Train Loss (hidden one): 0.6384\n",
      "    SAE Train Loss (hidden two): 0.0679\n",
      "  Validation Metrics:\n",
      "    Baseline Loss (val): 0.3521\n",
      "    SAE Loss (hidden one): 0.3515, Ablated: 2.8688\n",
      "    SAE Loss (hidden two): 0.3526, Ablated: 2.4493\n",
      "    SAE Fidelity (hidden one): -0.0002\n",
      "    SAE Fidelity (hidden two): 0.0002\n",
      "    Val Loss: 0.3521 | Val Acc: 89.41%\n",
      "    Val Acc (one): 89.4500 | Val Acc (two): 89.40%\n"
     ]
    },
    {
     "name": "stderr",
     "output_type": "stream",
     "text": [
      "                                                                                                                        \r"
     ]
    },
    {
     "name": "stdout",
     "output_type": "stream",
     "text": [
      "Epoch 10/20\n",
      "  Training Metrics:\n",
      "    Train Loss: 0.3059\n",
      "    SAE Train Loss (hidden one): 0.6079\n",
      "    SAE Train Loss (hidden two): 0.0648\n",
      "  Validation Metrics:\n",
      "    Baseline Loss (val): 0.3405\n",
      "    SAE Loss (hidden one): 0.3415, Ablated: 2.9583\n",
      "    SAE Loss (hidden two): 0.3400, Ablated: 2.4733\n",
      "    SAE Fidelity (hidden one): 0.0004\n",
      "    SAE Fidelity (hidden two): -0.0002\n",
      "    Val Loss: 0.3405 | Val Acc: 90.10%\n",
      "    Val Acc (one): 90.1000 | Val Acc (two): 90.16%\n",
      "  Saved model with Val Acc: 90.10%\n"
     ]
    },
    {
     "name": "stderr",
     "output_type": "stream",
     "text": [
      "                                                                                                                        \r"
     ]
    },
    {
     "name": "stdout",
     "output_type": "stream",
     "text": [
      "Epoch 11/20\n",
      "  Training Metrics:\n",
      "    Train Loss: 0.2975\n",
      "    SAE Train Loss (hidden one): 0.5902\n",
      "    SAE Train Loss (hidden two): 0.0635\n",
      "  Validation Metrics:\n",
      "    Baseline Loss (val): 0.3421\n",
      "    SAE Loss (hidden one): 0.3429, Ablated: 3.0737\n",
      "    SAE Loss (hidden two): 0.3410, Ablated: 2.5035\n",
      "    SAE Fidelity (hidden one): 0.0003\n",
      "    SAE Fidelity (hidden two): -0.0005\n",
      "    Val Loss: 0.3421 | Val Acc: 90.39%\n",
      "    Val Acc (one): 90.3600 | Val Acc (two): 90.32%\n",
      "  Saved model with Val Acc: 90.39%\n"
     ]
    },
    {
     "name": "stderr",
     "output_type": "stream",
     "text": [
      "                                                                                                                        \r"
     ]
    },
    {
     "name": "stdout",
     "output_type": "stream",
     "text": [
      "Epoch 12/20\n",
      "  Training Metrics:\n",
      "    Train Loss: 0.2959\n",
      "    SAE Train Loss (hidden one): 0.6767\n",
      "    SAE Train Loss (hidden two): 0.0629\n",
      "  Validation Metrics:\n",
      "    Baseline Loss (val): 0.3340\n",
      "    SAE Loss (hidden one): 0.3334, Ablated: 3.2174\n",
      "    SAE Loss (hidden two): 0.3340, Ablated: 2.5371\n",
      "    SAE Fidelity (hidden one): -0.0002\n",
      "    SAE Fidelity (hidden two): 0.0000\n",
      "    Val Loss: 0.3340 | Val Acc: 90.59%\n",
      "    Val Acc (one): 90.5200 | Val Acc (two): 90.50%\n",
      "  Saved model with Val Acc: 90.59%\n"
     ]
    },
    {
     "name": "stderr",
     "output_type": "stream",
     "text": [
      "                                                                                                                        \r"
     ]
    },
    {
     "name": "stdout",
     "output_type": "stream",
     "text": [
      "Epoch 13/20\n",
      "  Training Metrics:\n",
      "    Train Loss: 0.2922\n",
      "    SAE Train Loss (hidden one): 0.6343\n",
      "    SAE Train Loss (hidden two): 0.0592\n",
      "  Validation Metrics:\n",
      "    Baseline Loss (val): 0.3310\n",
      "    SAE Loss (hidden one): 0.3308, Ablated: 3.3774\n",
      "    SAE Loss (hidden two): 0.3317, Ablated: 2.5687\n",
      "    SAE Fidelity (hidden one): -0.0001\n",
      "    SAE Fidelity (hidden two): 0.0003\n",
      "    Val Loss: 0.3310 | Val Acc: 90.67%\n",
      "    Val Acc (one): 90.6600 | Val Acc (two): 90.77%\n",
      "  Saved model with Val Acc: 90.67%\n"
     ]
    },
    {
     "name": "stderr",
     "output_type": "stream",
     "text": [
      "                                                                                                                        \r"
     ]
    },
    {
     "name": "stdout",
     "output_type": "stream",
     "text": [
      "Epoch 14/20\n",
      "  Training Metrics:\n",
      "    Train Loss: 0.2875\n",
      "    SAE Train Loss (hidden one): 0.6153\n",
      "    SAE Train Loss (hidden two): 0.0569\n",
      "  Validation Metrics:\n",
      "    Baseline Loss (val): 0.3456\n",
      "    SAE Loss (hidden one): 0.3447, Ablated: 3.5895\n",
      "    SAE Loss (hidden two): 0.3453, Ablated: 2.6080\n",
      "    SAE Fidelity (hidden one): -0.0003\n",
      "    SAE Fidelity (hidden two): -0.0001\n",
      "    Val Loss: 0.3456 | Val Acc: 89.83%\n",
      "    Val Acc (one): 89.8800 | Val Acc (two): 89.87%\n"
     ]
    },
    {
     "name": "stderr",
     "output_type": "stream",
     "text": [
      "                                                                                                                        \r"
     ]
    },
    {
     "name": "stdout",
     "output_type": "stream",
     "text": [
      "Epoch 15/20\n",
      "  Training Metrics:\n",
      "    Train Loss: 0.2879\n",
      "    SAE Train Loss (hidden one): 0.6247\n",
      "    SAE Train Loss (hidden two): 0.0575\n",
      "  Validation Metrics:\n",
      "    Baseline Loss (val): 0.3609\n",
      "    SAE Loss (hidden one): 0.3607, Ablated: 3.7228\n",
      "    SAE Loss (hidden two): 0.3623, Ablated: 2.6439\n",
      "    SAE Fidelity (hidden one): -0.0001\n",
      "    SAE Fidelity (hidden two): 0.0006\n",
      "    Val Loss: 0.3609 | Val Acc: 89.51%\n",
      "    Val Acc (one): 89.4500 | Val Acc (two): 89.47%\n"
     ]
    },
    {
     "name": "stderr",
     "output_type": "stream",
     "text": [
      "                                                                                                                        \r"
     ]
    },
    {
     "name": "stdout",
     "output_type": "stream",
     "text": [
      "Epoch 16/20\n",
      "  Training Metrics:\n",
      "    Train Loss: 0.2835\n",
      "    SAE Train Loss (hidden one): 0.6209\n",
      "    SAE Train Loss (hidden two): 0.0530\n",
      "  Validation Metrics:\n",
      "    Baseline Loss (val): 0.3243\n",
      "    SAE Loss (hidden one): 0.3240, Ablated: 3.9248\n",
      "    SAE Loss (hidden two): 0.3249, Ablated: 2.6868\n",
      "    SAE Fidelity (hidden one): -0.0001\n",
      "    SAE Fidelity (hidden two): 0.0003\n",
      "    Val Loss: 0.3243 | Val Acc: 90.88%\n",
      "    Val Acc (one): 90.8800 | Val Acc (two): 90.87%\n",
      "  Saved model with Val Acc: 90.88%\n"
     ]
    },
    {
     "name": "stderr",
     "output_type": "stream",
     "text": [
      "                                                                                                                        \r"
     ]
    },
    {
     "name": "stdout",
     "output_type": "stream",
     "text": [
      "Epoch 17/20\n",
      "  Training Metrics:\n",
      "    Train Loss: 0.2821\n",
      "    SAE Train Loss (hidden one): 0.6050\n",
      "    SAE Train Loss (hidden two): 0.0534\n",
      "  Validation Metrics:\n",
      "    Baseline Loss (val): 0.3349\n",
      "    SAE Loss (hidden one): 0.3356, Ablated: 4.0591\n",
      "    SAE Loss (hidden two): 0.3346, Ablated: 2.7234\n",
      "    SAE Fidelity (hidden one): 0.0002\n",
      "    SAE Fidelity (hidden two): -0.0001\n",
      "    Val Loss: 0.3349 | Val Acc: 90.67%\n",
      "    Val Acc (one): 90.6700 | Val Acc (two): 90.70%\n"
     ]
    },
    {
     "name": "stderr",
     "output_type": "stream",
     "text": [
      "                                                                                                                        \r"
     ]
    },
    {
     "name": "stdout",
     "output_type": "stream",
     "text": [
      "Epoch 18/20\n",
      "  Training Metrics:\n",
      "    Train Loss: 0.2784\n",
      "    SAE Train Loss (hidden one): 0.6636\n",
      "    SAE Train Loss (hidden two): 0.0517\n",
      "  Validation Metrics:\n",
      "    Baseline Loss (val): 0.3256\n",
      "    SAE Loss (hidden one): 0.3254, Ablated: 4.2384\n",
      "    SAE Loss (hidden two): 0.3257, Ablated: 2.7586\n",
      "    SAE Fidelity (hidden one): -0.0001\n",
      "    SAE Fidelity (hidden two): 0.0000\n",
      "    Val Loss: 0.3256 | Val Acc: 90.95%\n",
      "    Val Acc (one): 90.9400 | Val Acc (two): 91.03%\n",
      "  Saved model with Val Acc: 90.95%\n"
     ]
    },
    {
     "name": "stderr",
     "output_type": "stream",
     "text": [
      "                                                                                                                        \r"
     ]
    },
    {
     "name": "stdout",
     "output_type": "stream",
     "text": [
      "Epoch 19/20\n",
      "  Training Metrics:\n",
      "    Train Loss: 0.2754\n",
      "    SAE Train Loss (hidden one): 0.6143\n",
      "    SAE Train Loss (hidden two): 0.0501\n",
      "  Validation Metrics:\n",
      "    Baseline Loss (val): 0.3458\n",
      "    SAE Loss (hidden one): 0.3455, Ablated: 4.4488\n",
      "    SAE Loss (hidden two): 0.3454, Ablated: 2.7993\n",
      "    SAE Fidelity (hidden one): -0.0001\n",
      "    SAE Fidelity (hidden two): -0.0001\n",
      "    Val Loss: 0.3458 | Val Acc: 89.98%\n",
      "    Val Acc (one): 90.0200 | Val Acc (two): 90.02%\n"
     ]
    },
    {
     "name": "stderr",
     "output_type": "stream",
     "text": [
      "                                                                                                                        "
     ]
    },
    {
     "name": "stdout",
     "output_type": "stream",
     "text": [
      "Epoch 20/20\n",
      "  Training Metrics:\n",
      "    Train Loss: 0.2749\n",
      "    SAE Train Loss (hidden one): 0.6182\n",
      "    SAE Train Loss (hidden two): 0.0488\n",
      "  Validation Metrics:\n",
      "    Baseline Loss (val): 0.3339\n",
      "    SAE Loss (hidden one): 0.3340, Ablated: 4.6825\n",
      "    SAE Loss (hidden two): 0.3339, Ablated: 2.8382\n",
      "    SAE Fidelity (hidden one): 0.0000\n",
      "    SAE Fidelity (hidden two): 0.0000\n",
      "    Val Loss: 0.3339 | Val Acc: 90.36%\n",
      "    Val Acc (one): 90.3500 | Val Acc (two): 90.34%\n"
     ]
    },
    {
     "name": "stderr",
     "output_type": "stream",
     "text": [
      "\r"
     ]
    }
   ],
   "source": [
    "best_model = None\n",
    "best_sae_one = None\n",
    "best_sae_two = None\n",
    "num_epochs = 20\n",
    "\n",
    "best_val_acc = 0.0\n",
    "best_val_loss = float('inf')\n",
    "\n",
    "validation_losses = []\n",
    "training_losses = []\n",
    "SAE_hidden_one_losses = []\n",
    "SAE_hidden_two_losses = []\n",
    "\n",
    "# Initialize storage for training features and labels\n",
    "feature_activations_one_train = torch.zeros(HIDDEN_SIZE, len(train_loader.dataset))\n",
    "feature_activations_two_train = torch.zeros(HIDDEN_SIZE, len(train_loader.dataset))\n",
    "labels_train = torch.zeros(len(train_loader.dataset), dtype=torch.long)\n",
    "\n",
    "for epoch in range(num_epochs):\n",
    "    # --- Training Phase ---\n",
    "    model.train()  # set the model to training mode - this is currently a no-op\n",
    "    sae_hidden_two.train()\n",
    "    sae_hidden_one.train()\n",
    "    \n",
    "    train_loss = 0.0\n",
    "    total_sae_loss_hidden_two = 0.0\n",
    "    total_sae_loss_hidden_one = 0.0\n",
    "\n",
    "    train_bar = tqdm(train_loader, desc=f\"Epoch {epoch + 1}/{num_epochs} [Train]\", leave=False)\n",
    "    for batch_idx, batch in enumerate(train_bar):\n",
    "        # deconstruct batch items\n",
    "        images, labels = batch\n",
    "        images, labels = images.to(device), labels.to(device)\n",
    "        \n",
    "        # forward pass\n",
    "        classification_out, hidden_act_one, hidden_act_two = model(images)\n",
    "\n",
    "        # Classification loss and backprop\n",
    "        optimizer.zero_grad()\n",
    "        total_loss = classification_loss_fn(classification_out, labels)\n",
    "        total_loss.backward()\n",
    "        optimizer.step()\n",
    "        train_loss += total_loss.item()\n",
    "        train_bar.set_postfix(loss=total_loss.item())\n",
    "\n",
    "        # to prevent backprop on both graphs:\n",
    "        hidden_act_one_detached = hidden_act_one.detach()\n",
    "        hidden_act_two_detached = hidden_act_two.detach()\n",
    "\n",
    "        # SAE loss and backprop - hidden layer one\n",
    "        optimizer_sae_hidden_one.zero_grad()\n",
    "        reconstructed_one, encoded_one = sae_hidden_one(hidden_act_one_detached)\n",
    "        sae_loss_hidden_one = sae_hidden_one.loss(hidden_act_one_detached,\n",
    "                                                  reconstructed_one,\n",
    "                                                  encoded_one,\n",
    "                                                  l1_lambda=L1_PENALTY\n",
    "                                                 )\n",
    "        sae_loss_hidden_one.backward()\n",
    "        optimizer_sae_hidden_one.step()\n",
    "        total_sae_loss_hidden_one += sae_loss_hidden_one.item()\n",
    "        \n",
    "        # SAE loss and backprop - hidden layer two\n",
    "        optimizer_sae_hidden_two.zero_grad()\n",
    "        reconstructed_two, encoded_two = sae_hidden_two(hidden_act_two_detached)\n",
    "        sae_loss_hidden_two = sae_hidden_two.loss(hidden_act_two_detached,\n",
    "                                                  reconstructed_two,\n",
    "                                                  encoded_two,\n",
    "                                                  l1_lambda=L1_PENALTY\n",
    "                                                 )\n",
    "        sae_loss_hidden_two.backward()\n",
    "        optimizer_sae_hidden_two.step()\n",
    "        total_sae_loss_hidden_two += sae_loss_hidden_two.item()\n",
    "\n",
    "        # Store training features and labels\n",
    "        start_idx = batch_idx * train_loader.batch_size\n",
    "        end_idx = start_idx + images.size(0)\n",
    "        feature_activations_one_train[:, start_idx:end_idx] = encoded_one.T.cpu()\n",
    "        feature_activations_two_train[:, start_idx:end_idx] = encoded_two.T.cpu()\n",
    "        labels_train[start_idx:end_idx] = labels.cpu()\n",
    "\n",
    "    # --- Validation Phase ---\n",
    "    model.eval()\n",
    "    sae_hidden_one.eval()\n",
    "    sae_hidden_two.eval()\n",
    "    val_loss = 0.0\n",
    "    val_sae_loss_one = 0.0\n",
    "    val_sae_loss_two = 0.0\n",
    "    val_sae_loss_one_ablated = 0.0 \n",
    "    val_sae_loss_two_ablated = 0.0 \n",
    "\n",
    "    correct = 0\n",
    "    correct_one = 0\n",
    "    correct_two = 0\n",
    "    total = 0\n",
    "    \n",
    "    val_bar = tqdm(val_loader, desc=f\"Epoch {epoch + 1}/{num_epochs} [Val]\", leave=False)\n",
    "    with torch.no_grad():\n",
    "        for batch in val_bar:\n",
    "            # deconstruct\n",
    "            images, labels = batch\n",
    "            images, labels = images.to(device), labels.to(device)\n",
    "\n",
    "            # forward pass\n",
    "            classification_out, hidden_act_one, hidden_act_two = model(images)\n",
    "\n",
    "            hidden_act_one_detached = hidden_act_one.detach()\n",
    "            hidden_act_two_detached = hidden_act_two.detach()\n",
    "\n",
    "            # compute loss\n",
    "            loss = classification_loss_fn(classification_out, labels)\n",
    "\n",
    "            # get reconstructions\n",
    "            reconstructed_one, _ = sae_hidden_one(hidden_act_one_detached)\n",
    "            reconstructed_two, _ = sae_hidden_two(hidden_act_two_detached)\n",
    "\n",
    "            # losses for fidelity - layer one\n",
    "            classification_out_sae_one, _, _ = model(images, hidden_one_act=reconstructed_one)\n",
    "            l_sae_one = classification_loss_fn(classification_out_sae_one, labels)\n",
    "            val_sae_loss_one += l_sae_one.item()\n",
    "\n",
    "            _, predicted_one = torch.max(classification_out_sae_one, 1)\n",
    "            correct_one += (predicted_one == labels).sum().item()\n",
    "\n",
    "            zero_act_one = torch.zeros_like(hidden_act_one_detached)\n",
    "            classification_out_sae_one_ablated, _, _ = model(images, hidden_one_act=zero_act_one)\n",
    "            l_ablated_one = classification_loss_fn(classification_out_sae_one_ablated, labels)\n",
    "            val_sae_loss_one_ablated += l_ablated_one.item()\n",
    "        \n",
    "            # losses for fidelity - layer two\n",
    "            classification_out_sae_two, _, _ = model(images, hidden_one_act=hidden_act_one_detached, hidden_two_act=reconstructed_two)\n",
    "            l_sae_two = classification_loss_fn(classification_out_sae_two, labels)\n",
    "            val_sae_loss_two += l_sae_two.item()\n",
    "\n",
    "            _, predicted_two = torch.max(classification_out_sae_two, 1)\n",
    "            correct_two += (predicted_two == labels).sum().item()\n",
    "\n",
    "            zero_act_two = torch.zeros_like(hidden_act_two_detached)\n",
    "            classification_out_sae_two_ablated, _, _ = model(images, hidden_one_act=hidden_act_one_detached, hidden_two_act=zero_act_two)\n",
    "            l_ablated_two = classification_loss_fn(classification_out_sae_two_ablated, labels)\n",
    "            val_sae_loss_two_ablated += l_ablated_two.item()\n",
    "\n",
    "            # calculate metrics\n",
    "            val_loss += loss.item()\n",
    "            _, predicted = torch.max(classification_out, 1)\n",
    "            correct += (predicted == labels).sum().item()\n",
    "            total += labels.size(0)\n",
    "\n",
    "    # epoch stats\n",
    "    avg_train_loss = train_loss / len(train_loader)\n",
    "    avg_sae_train_loss_hidden_one = total_sae_loss_hidden_one / len(train_loader)\n",
    "    avg_sae_train_loss_hidden_two = total_sae_loss_hidden_two / len(train_loader)\n",
    "\n",
    "    avg_val_loss = val_loss / len(val_loader)\n",
    "    avg_sae_loss_one = val_sae_loss_one / len(val_loader)\n",
    "    avg_sae_loss_one_ablated = val_sae_loss_one_ablated / len(val_loader)\n",
    "    avg_sae_loss_two = val_sae_loss_two / len(val_loader)\n",
    "    avg_sae_loss_two_ablated = val_sae_loss_two_ablated / len(val_loader)\n",
    "    val_accuracy = 100 * correct / total\n",
    "    val_accuracy_sae_one = 100 * correct_one / total\n",
    "    val_accuracy_sae_two = 100 * correct_two / total\n",
    "\n",
    "    epsilon = 1e-8\n",
    "    fidelity_one = (avg_sae_loss_one - avg_val_loss) / (avg_sae_loss_one_ablated - avg_val_loss + epsilon)\n",
    "    fidelity_two = (avg_sae_loss_two - avg_val_loss) / (avg_sae_loss_two_ablated - avg_val_loss + epsilon)\n",
    "    \n",
    "    print(f\"Epoch {epoch+1}/{num_epochs}\")\n",
    "    print(f\"  Training Metrics:\")\n",
    "    print(f\"    Train Loss: {avg_train_loss:.4f}\")\n",
    "    print(f\"    SAE Train Loss (hidden one): {avg_sae_train_loss_hidden_one:.4f}\")\n",
    "    print(f\"    SAE Train Loss (hidden two): {avg_sae_train_loss_hidden_two:.4f}\")\n",
    "\n",
    "    print(f\"  Validation Metrics:\")\n",
    "    print(f\"    Baseline Loss (val): {avg_val_loss:.4f}\")\n",
    "    print(f\"    SAE Loss (hidden one): {avg_sae_loss_one:.4f}, Ablated: {avg_sae_loss_one_ablated:.4f}\")\n",
    "    print(f\"    SAE Loss (hidden two): {avg_sae_loss_two:.4f}, Ablated: {avg_sae_loss_two_ablated:.4f}\")\n",
    "    print(f\"    SAE Fidelity (hidden one): {fidelity_one:.4f}\")\n",
    "    print(f\"    SAE Fidelity (hidden two): {fidelity_two:.4f}\")\n",
    "    print(f\"    Val Loss: {avg_val_loss:.4f} | Val Acc: {val_accuracy:.2f}%\")\n",
    "    print(f\"    Val Acc (one): {val_accuracy_sae_one:.4f} | Val Acc (two): {val_accuracy_sae_two:.2f}%\")\n",
    "\n",
    "    model_path = f'./models/{EXPERIMENT_TYPE}/{RUN_ID}/best_model_baseline_{epoch+1}.pth'\n",
    "    os.makedirs(os.path.dirname(model_path), exist_ok=True)\n",
    "    if val_accuracy > best_val_acc:\n",
    "        best_val_acc = val_accuracy\n",
    "        best_val_loss = avg_val_loss  # Update loss for reference\n",
    "        torch.save(model.state_dict(), model_path)\n",
    "        print(f\"  Saved model with Val Acc: {val_accuracy:.2f}%\")\n",
    "\n",
    "        best_model = copy.deepcopy(model)\n",
    "        best_sae_one = copy.deepcopy(sae_hidden_one)\n",
    "        best_sae_two = copy.deepcopy(sae_hidden_two)\n",
    "        \n",
    "    # Optional: Save if accuracy is equal but loss is lower\n",
    "    elif val_accuracy == best_val_acc and avg_val_loss < best_val_loss:\n",
    "        best_val_loss = avg_val_loss\n",
    "        torch.save(model.state_dict(), model_path)\n",
    "        print(f\"  Saved model with same Val Acc: {val_accuracy:.2f}% but lower Val Loss: {avg_val_loss:.4f}\")\n",
    "\n",
    "        best_model = copy.deepcopy(model)\n",
    "        best_sae_one = copy.deepcopy(sae_hidden_one)\n",
    "        best_sae_two = copy.deepcopy(sae_hidden_two)\n",
    "\n",
    "    validation_losses.append(avg_val_loss)\n",
    "    training_losses.append(avg_train_loss)\n",
    "    SAE_hidden_one_losses.append(avg_sae_train_loss_hidden_one)\n",
    "    SAE_hidden_two_losses.append(avg_sae_train_loss_hidden_two)\n",
    "\n",
    "    # plot_weights(model, epoch, EXPERIMENT_TYPE, RUN_ID)"
   ]
  },
  {
   "cell_type": "markdown",
   "id": "a86385bf-0753-4678-a853-5193e044de66",
   "metadata": {},
   "source": [
    "This seems to indicate that our SAEs are great for downstream classification... we'll have to re-run the tests on the test data again."
   ]
  },
  {
   "cell_type": "code",
   "execution_count": 24,
   "id": "16368999-b90c-4d90-9791-5341d039e569",
   "metadata": {},
   "outputs": [],
   "source": [
    "Z_train_one = feature_activations_one_train.detach().T.numpy()\n",
    "Z_train_two = feature_activations_two_train.detach().T.numpy()\n",
    "y_train = labels_train.numpy()"
   ]
  },
  {
   "cell_type": "markdown",
   "id": "ac4aa2ac-a39c-4714-bb36-094a5267a5d5",
   "metadata": {},
   "source": [
    "# Training Exploration"
   ]
  },
  {
   "cell_type": "code",
   "execution_count": 25,
   "id": "06952990-a3a5-44f3-9325-21f1de91dff8",
   "metadata": {},
   "outputs": [
    {
     "data": {
      "image/png": "[encoded data removed]",
      "text/plain": [
       "<Figure size 800x600 with 1 Axes>"
      ]
     },
     "metadata": {},
     "output_type": "display_data"
    }
   ],
   "source": [
    "plot_losses(training_losses, validation_losses, label_one=\"Training\", label_two=\"Validation\")"
   ]
  },
  {
   "cell_type": "code",
   "execution_count": 26,
   "id": "f8dcc9ad-9de1-484e-9df1-c10058973614",
   "metadata": {},
   "outputs": [
    {
     "data": {
      "image/png": "[encoded data removed]",
      "text/plain": [
       "<Figure size 800x600 with 1 Axes>"
      ]
     },
     "metadata": {},
     "output_type": "display_data"
    }
   ],
   "source": [
    "plot_losses(SAE_hidden_one_losses, SAE_hidden_two_losses, \n",
    "            label_one=\"SAE Hidden One\", label_two=\"SAE Hidden Two\")"
   ]
  },
  {
   "cell_type": "markdown",
   "id": "e4ca3ea2-fd60-4e54-8942-33172e4de452",
   "metadata": {},
   "source": [
    "## Eval\n",
    "\n",
    "Evaluating our classification model accuracy, in addition to the reconstruction and sparisty metrics of each SAE."
   ]
  },
  {
   "cell_type": "code",
   "execution_count": 27,
   "id": "a79dc794-b35a-4ed7-bc9b-61c52ca7e123",
   "metadata": {},
   "outputs": [
    {
     "name": "stderr",
     "output_type": "stream",
     "text": [
      "Evaluation: 100%|██████████████████████████████████████████████████████████████████████| 79/79 [00:00<00:00, 313.82it/s]"
     ]
    },
    {
     "name": "stdout",
     "output_type": "stream",
     "text": [
      "Final Test Accuracy: 91.11%\n",
      "Average Reconstruction Error (Hidden One): 0.1686\n",
      "Average Reconstruction Error (Hidden Two): 0.0237\n",
      "Average Non-Zero Features per Image (Hidden One): 32.81\n",
      "Average Non-Zero Features per Image (Hidden Two): 33.70\n"
     ]
    },
    {
     "name": "stderr",
     "output_type": "stream",
     "text": [
      "\n"
     ]
    }
   ],
   "source": [
    "best_model.eval()  # again currently a no-op\n",
    "best_sae_one.eval()\n",
    "best_sae_two.eval()\n",
    "\n",
    "test_correct = 0\n",
    "test_total = 0\n",
    "\n",
    "feature_activations_one_test = torch.zeros(HIDDEN_SIZE, len(test_images))\n",
    "feature_activations_two_test = torch.zeros(HIDDEN_SIZE, len(test_images))\n",
    "labels_test = torch.zeros(len(test_images), dtype=torch.long)\n",
    "\n",
    "recon_errors_one = []\n",
    "recon_errors_two = []\n",
    "\n",
    "with torch.no_grad():\n",
    "    test_bar = tqdm(test_loader, desc=f\"Evaluation\")\n",
    "    for i, batch in enumerate(test_bar):\n",
    "        images, labels = batch\n",
    "        images, labels = images.to(device), labels.to(device)\n",
    "\n",
    "        # forward pass\n",
    "        classification_out, hidden_one_act, hidden_two_act = best_model(images)\n",
    "        reconstructed_one, encoded_one = best_sae_one(hidden_one_act)\n",
    "        reconstructed_two, encoded_two = best_sae_two(hidden_two_act)\n",
    "\n",
    "        # SAE reconstruction\n",
    "        recon_errors_one.append(torch.mean((hidden_one_act - reconstructed_one) ** 2).item())\n",
    "        recon_errors_two.append(torch.mean((hidden_two_act - reconstructed_two) ** 2).item())\n",
    "\n",
    "        start_idx = i * test_loader.batch_size\n",
    "        end_idx = start_idx + images.size(0)\n",
    "        feature_activations_one_test[:, start_idx:end_idx] = encoded_one.T.cpu()\n",
    "        feature_activations_two_test[:, start_idx:end_idx] = encoded_two.T.cpu()\n",
    "        labels_test[start_idx:end_idx] = labels.cpu()\n",
    "\n",
    "        # stats\n",
    "        _, predicted = torch.max(classification_out, 1)\n",
    "        test_correct += (predicted == labels).sum().item()\n",
    "        test_total += labels.size(0)\n",
    "\n",
    "Z_test_one = feature_activations_one_test.T.numpy()\n",
    "Z_test_two = feature_activations_two_test.T.numpy()\n",
    "y_test = labels_test.numpy()\n",
    "\n",
    "test_accuracy = 100 * test_correct / test_total\n",
    "print(f\"Final Test Accuracy: {test_accuracy:.2f}%\")\n",
    "\n",
    "# reconstruction accuracy of SAE at each layer\n",
    "avg_recon_error_one = np.mean(recon_errors_one)\n",
    "avg_recon_error_two = np.mean(recon_errors_two)\n",
    "print(f\"Average Reconstruction Error (Hidden One): {avg_recon_error_one:.4f}\")\n",
    "print(f\"Average Reconstruction Error (Hidden Two): {avg_recon_error_two:.4f}\")\n",
    "\n",
    "# Compute sparsity (average non-zero features per image)\n",
    "sparsity_one = torch.mean((feature_activations_one_test > 1e-5).float()).item() * 64\n",
    "sparsity_two = torch.mean((feature_activations_two_test > 1e-5).float()).item() * 64\n",
    "print(f\"Average Non-Zero Features per Image (Hidden One): {sparsity_one:.2f}\")\n",
    "print(f\"Average Non-Zero Features per Image (Hidden Two): {sparsity_two:.2f}\")"
   ]
  },
  {
   "cell_type": "markdown",
   "id": "f2afece9-1762-4de9-b70a-6465ef6ffa3c",
   "metadata": {},
   "source": [
    "# Reconstruction Testing\n",
    "\n",
    "Making sure our SAE is actually good at creating reconstructions for downstream classification with test data."
   ]
  },
  {
   "cell_type": "code",
   "execution_count": 28,
   "id": "3201dc0c-dd79-49fd-8aad-f93e73e2510e",
   "metadata": {},
   "outputs": [
    {
     "name": "stderr",
     "output_type": "stream",
     "text": [
      "Evaluation: 100%|██████████████████████████████████████████████████████████████████████| 79/79 [00:00<00:00, 388.60it/s]"
     ]
    },
    {
     "name": "stdout",
     "output_type": "stream",
     "text": [
      "Final Test Accuracy (from recon 1): 91.10%\n",
      "Final Test Accuracy (from recon 2): 91.07%\n"
     ]
    },
    {
     "name": "stderr",
     "output_type": "stream",
     "text": [
      "\n"
     ]
    }
   ],
   "source": [
    "best_model.eval()  # again currently a no-op\n",
    "best_sae_one.eval()\n",
    "best_sae_two.eval()\n",
    "\n",
    "test_correct = 0\n",
    "test_correct_two = 0\n",
    "test_total = 0\n",
    "\n",
    "with torch.no_grad():\n",
    "    test_bar = tqdm(test_loader, desc=f\"Evaluation\")\n",
    "    for i, batch in enumerate(test_bar):\n",
    "        images, labels = batch\n",
    "        images, labels = images.to(device), labels.to(device)\n",
    "\n",
    "        # forward pass\n",
    "        _, hidden_one_act, hidden_two_act = best_model(images)\n",
    "\n",
    "        hidden_act_one_detached = hidden_one_act.detach()\n",
    "        hidden_act_two_detached = hidden_two_act.detach()\n",
    "\n",
    "        reconstructed_one, _ = best_sae_one(hidden_act_one_detached)\n",
    "        reconstructed_two, _ = best_sae_two(hidden_act_two_detached)\n",
    "\n",
    "        classification_out, _, _ = best_model(images, hidden_one_act=reconstructed_one)\n",
    "        classification_out_two, _, _ = best_model(images, hidden_one_act=hidden_act_one_detached, hidden_two_act=reconstructed_two)\n",
    "\n",
    "        # stats\n",
    "        _, predicted = torch.max(classification_out, 1)\n",
    "        test_correct += (predicted == labels).sum().item()\n",
    "        \n",
    "        _, predicted_two = torch.max(classification_out_two, 1)\n",
    "        test_correct_two += (predicted_two == labels).sum().item()\n",
    "        \n",
    "        test_total += labels.size(0)\n",
    "\n",
    "test_accuracy = 100 * test_correct / test_total\n",
    "test_accuracy_two = 100 * test_correct_two / test_total\n",
    "print(f\"Final Test Accuracy (from recon 1): {test_accuracy:.2f}%\")\n",
    "print(f\"Final Test Accuracy (from recon 2): {test_accuracy_two:.2f}%\")"
   ]
  },
  {
   "cell_type": "markdown",
   "id": "0cb4666f-3aad-4dcd-ac93-63b3ec90227f",
   "metadata": {},
   "source": [
    "# Exploring Digit Features"
   ]
  },
  {
   "cell_type": "code",
   "execution_count": 29,
   "id": "d1cb4906-dbe7-4e75-afbb-d7a0b0efd76b",
   "metadata": {},
   "outputs": [
    {
     "name": "stderr",
     "output_type": "stream",
     "text": [
      "/tmp/ipykernel_40820/3834795342.py:11: UserWarning: The given NumPy array is not writable, and PyTorch does not support non-writable tensors. This means writing to this tensor will result in undefined behavior. You may want to copy the array to protect its data or make it writable before converting it to a tensor. This type of warning will be suppressed for the rest of this program. (Triggered internally at ../torch/csrc/utils/tensor_numpy.cpp:206.)\n",
      "  image = torch.from_numpy(test_images[i]).float().unsqueeze(0).to(device)\n"
     ]
    }
   ],
   "source": [
    "hidden_activations_one = []\n",
    "hidden_activations_two = []\n",
    "\n",
    "sparse_act_one = []\n",
    "sparse_act_two = []\n",
    "\n",
    "labels = []\n",
    "\n",
    "with torch.no_grad():\n",
    "    for i in range(len(test_labels)):\n",
    "        image = torch.from_numpy(test_images[i]).float().unsqueeze(0).to(device)\n",
    "        label = test_labels[i]\n",
    "\n",
    "        # Forward pass\n",
    "        classification_out, hidden_one_act, hidden_two_act = best_model(image)\n",
    "\n",
    "        hidden_act_one_detached = hidden_one_act.detach()\n",
    "        hidden_act_two_detached = hidden_two_act.detach()\n",
    "        \n",
    "        _, encoding = best_sae_one(hidden_act_one_detached)\n",
    "        _, encoding_two = best_sae_two(hidden_act_two_detached)\n",
    "        \n",
    "        # Get predicted class\n",
    "        hidden_activations_one.append(hidden_act_one_detached.cpu().numpy().flatten())\n",
    "        hidden_activations_two.append(hidden_act_two_detached.cpu().numpy().flatten())\n",
    "\n",
    "        sparse_act_one.append(encoding.cpu().numpy().flatten())\n",
    "        sparse_act_two.append(encoded_two.cpu().numpy().flatten())\n",
    "\n",
    "        labels.append(label)\n",
    "\n",
    "hidden_activations_one = np.array(hidden_activations_one)\n",
    "hidden_activations_two = np.array(hidden_activations_two)\n",
    "\n",
    "sparse_act_one = np.array(sparse_act_one)\n",
    "sparse_act_two = np.array(sparse_act_two)\n",
    "\n",
    "labels = np.array(labels)"
   ]
  },
  {
   "cell_type": "code",
   "execution_count": 30,
   "id": "3d9909c2-5a7d-402c-91bf-f0da67700da8",
   "metadata": {},
   "outputs": [],
   "source": [
    "def sparsity_evaluator(digit, test_labels, test_images, device, feature_indices, hidden_dim, best_model, best_sae_one):\n",
    "    num_d = 0\n",
    "    correctly_identified_full = 0\n",
    "    falsely_identified_full = {}\n",
    "    \n",
    "    for i, label in enumerate(test_labels):\n",
    "        if label == digit:\n",
    "            num_d += 1\n",
    "    \n",
    "            image = torch.from_numpy(test_images[i]).float().unsqueeze(0).to(device)\n",
    "            \n",
    "            sparse_vector = sparse_act_one[i].copy()\n",
    "            encoded = np.zeros(hidden_dim)\n",
    "            for feature_idx in feature_indices:\n",
    "                encoded[feature_idx] = sparse_vector[feature_idx]\n",
    "            \n",
    "            encoded_digit_torch = torch.from_numpy(encoded).float().to(device).unsqueeze(0)\n",
    "    \n",
    "            with torch.no_grad():\n",
    "                recon = best_sae_one.decoder(encoded_digit_torch)\n",
    "                recon = recon.view(1, -1)\n",
    "            \n",
    "                classification_out, _, _ = best_model(image, hidden_one_act=recon)\n",
    "            \n",
    "                probs = torch.softmax(classification_out, dim=1)\n",
    "                _, pred = torch.max(classification_out, 1)\n",
    "    \n",
    "                if label == pred.item():\n",
    "                    correctly_identified_full += 1\n",
    "                else:\n",
    "                    falsely_identified_full[i] = pred.item()\n",
    "\n",
    "    print(f\"\\nActivating only: {feature_indices}\")\n",
    "    print(f\"The number of correctly identified {digit}s: {correctly_identified_full}\")\n",
    "    print(f\"The number of incorrectly identified {digit}s: {len(falsely_identified_full)}\")\n",
    "    print(f\"Percentage correct: {round(correctly_identified_full / num_d * 100, 3)}%\")\n",
    "\n",
    "    return encoded"
   ]
  },
  {
   "cell_type": "code",
   "execution_count": 31,
   "id": "ef2d5565-1eea-4a07-89c6-6dca82ad6c5d",
   "metadata": {},
   "outputs": [],
   "source": [
    "def sparsity_evaluator_masking(digit, test_labels, test_images, device, feature_indices, hidden_dim, best_model, best_sae_one):\n",
    "    num_d = 0\n",
    "    correctly_identified_full = 0\n",
    "    falsely_identified_full = {}\n",
    "    \n",
    "    for i, label in enumerate(test_labels):\n",
    "        if label == digit:\n",
    "            num_d += 1\n",
    "    \n",
    "            image = torch.from_numpy(test_images[i]).float().unsqueeze(0).to(device)\n",
    "            \n",
    "            sparse_vector = sparse_act_one[i].copy()\n",
    "            encoded = sparse_vector\n",
    "            for feature_idx in feature_indices:\n",
    "                encoded[feature_idx] = 0\n",
    "            \n",
    "            encoded_digit_torch = torch.from_numpy(encoded).float().to(device).unsqueeze(0)\n",
    "    \n",
    "            with torch.no_grad():\n",
    "                recon = best_sae_one.decoder(encoded_digit_torch)\n",
    "                recon = recon.view(1, -1)\n",
    "            \n",
    "                classification_out, _, _ = best_model(image, hidden_one_act=recon)\n",
    "            \n",
    "                probs = torch.softmax(classification_out, dim=1)\n",
    "                _, pred = torch.max(classification_out, 1)\n",
    "    \n",
    "                if label == pred.item():\n",
    "                    correctly_identified_full += 1\n",
    "                else:\n",
    "                    falsely_identified_full[i] = pred.item()\n",
    "    print(f\"\\nMasking features: {feature_indices}\")\n",
    "    print(f\"The number of correctly identified {digit}s: {correctly_identified_full}\")\n",
    "    print(f\"The number of incorrectly identified {digit}s: {len(falsely_identified_full)}\")\n",
    "    print(f\"Percentage correct: {round(correctly_identified_full / num_d * 100, 3)}%\")\n",
    "    print(\"-\" * 50)\n",
    "    \n",
    "    return encoded"
   ]
  },
  {
   "cell_type": "code",
   "execution_count": 32,
   "id": "bf876d48-fc89-4328-a57f-cd1f99a88c6f",
   "metadata": {},
   "outputs": [],
   "source": [
    "def get_top_N_features(N, sparse_act_one, labels):\n",
    "    avg_digit_encoding = {}\n",
    "    top_n_features = {}\n",
    "    \n",
    "    for digit in range(10):\n",
    "        mask = labels == digit\n",
    "        mean_digit_encoding = np.mean(sparse_act_one[mask], axis=0)\n",
    "        avg_digit_encoding[digit] = mean_digit_encoding\n",
    "    \n",
    "        top_n_indices = np.argsort(mean_digit_encoding)[-N:][::-1]  # Sort descending\n",
    "        top_n_values = mean_digit_encoding[top_n_indices]\n",
    "    \n",
    "        top_n_features[digit] = {\n",
    "            'indices': top_n_indices.tolist(),\n",
    "            'activations': top_n_values.tolist()\n",
    "        }\n",
    "    \n",
    "        # plot_sparse_features(mean_digit_encoding, -1, digit, HIDDEN_SIZE)\n",
    "\n",
    "    return avg_digit_encoding, top_n_features"
   ]
  },
  {
   "cell_type": "code",
   "execution_count": 33,
   "id": "00f8d2cc-fae3-4240-b4ec-63d74a7660a6",
   "metadata": {
    "scrolled": true
   },
   "outputs": [],
   "source": [
    "N = 10\n",
    "avg_digit_encoding, top_n_features = get_top_N_features(N, sparse_act_one, labels)"
   ]
  },
  {
   "cell_type": "code",
   "execution_count": 34,
   "id": "05e8edf0-afc7-4a3f-85a7-55744d24445a",
   "metadata": {},
   "outputs": [
    {
     "name": "stdout",
     "output_type": "stream",
     "text": [
      "\n",
      "Digit 8:\n",
      "Top 10 feature indices: [134, 75, 169, 106, 19, 240, 91, 217, 40, 72]\n",
      "Top 10 activation values: [257.699, 247.02, 208.945, 201.074, 188.059, 168.665, 158.355, 145.317, 133.345, 132.854]\n"
     ]
    }
   ],
   "source": [
    "digit = 8\n",
    "print(f\"\\nDigit {digit}:\")\n",
    "print(f\"Top {N} feature indices: {top_n_features[digit]['indices']}\")\n",
    "print(f\"Top {N} activation values: {[round(x, 3) for x in top_n_features[digit]['activations']]}\")"
   ]
  },
  {
   "cell_type": "markdown",
   "id": "2a7f3b59-e219-499e-b7b4-feca9a65df14",
   "metadata": {},
   "source": [
    "# Digit Reconstruction"
   ]
  },
  {
   "cell_type": "code",
   "execution_count": 75,
   "id": "efbbcb87-0d00-4407-9344-69fb1dde7c9a",
   "metadata": {},
   "outputs": [
    {
     "name": "stdout",
     "output_type": "stream",
     "text": [
      "84\n"
     ]
    }
   ],
   "source": [
    "for i, label in enumerate(test_labels):\n",
    "    if label == 8 and i != 61:\n",
    "        image = torch.from_numpy(test_images[i]).float().unsqueeze(0).to(device)\n",
    "\n",
    "        classification_out, _, _ = best_model(image)\n",
    "            \n",
    "        probs = torch.softmax(classification_out, dim=1)\n",
    "        _, pred = torch.max(classification_out, 1)\n",
    "\n",
    "        if pred.item() == 8:\n",
    "            print(i)\n",
    "            break"
   ]
  },
  {
   "cell_type": "code",
   "execution_count": 37,
   "id": "19f9c331-64ed-4c5d-8dbf-5307282a5f1f",
   "metadata": {},
   "outputs": [
    {
     "data": {
      "image/png": "[encoded data removed]",
      "text/plain": [
       "<Figure size 300x300 with 1 Axes>"
      ]
     },
     "metadata": {},
     "output_type": "display_data"
    }
   ],
   "source": [
    "visualize_image(test_images[61], 8)"
   ]
  },
  {
   "cell_type": "code",
   "execution_count": 76,
   "id": "62671f11-2cee-4fdb-8536-0822196453ec",
   "metadata": {},
   "outputs": [
    {
     "data": {
      "image/png": "[encoded data removed]",
      "text/plain": [
       "<Figure size 300x300 with 1 Axes>"
      ]
     },
     "metadata": {},
     "output_type": "display_data"
    }
   ],
   "source": [
    "visualize_image(test_images[84], 8)"
   ]
  },
  {
   "cell_type": "markdown",
   "id": "bfb14d2b-8617-482a-91de-8044497b0380",
   "metadata": {},
   "source": [
    "### 8s"
   ]
  },
  {
   "cell_type": "code",
   "execution_count": 40,
   "id": "9e7191e7-4b1d-49df-a9f6-7c5ec05fed1a",
   "metadata": {},
   "outputs": [
    {
     "name": "stdout",
     "output_type": "stream",
     "text": [
      "\n",
      "Activating only: [134, 75, 169, 106, 19, 240, 91, 217, 40, 72]\n",
      "The number of correctly identified 8s: 905\n",
      "The number of incorrectly identified 8s: 69\n",
      "Percentage correct: 92.916%\n",
      "\n",
      "Masking features: [134, 75, 169, 106, 19, 240, 91, 217, 40, 72]\n",
      "The number of correctly identified 8s: 383\n",
      "The number of incorrectly identified 8s: 591\n",
      "Percentage correct: 39.322%\n",
      "--------------------------------------------------\n",
      "\n",
      "Activating only: [134, 75, 169, 106, 91, 217, 40, 72]\n",
      "The number of correctly identified 8s: 939\n",
      "The number of incorrectly identified 8s: 35\n",
      "Percentage correct: 96.407%\n",
      "\n",
      "Masking features: [134, 75, 169, 106, 91, 217, 40, 72]\n",
      "The number of correctly identified 8s: 351\n",
      "The number of incorrectly identified 8s: 623\n",
      "Percentage correct: 36.037%\n",
      "--------------------------------------------------\n"
     ]
    }
   ],
   "source": [
    "digit = 8\n",
    "feature_indices = [134, 75, 169, 106, 19, 240, 91, 217, 40, 72]  # top 10 features\n",
    "encoded = sparsity_evaluator(digit, test_labels, test_images, device, feature_indices, HIDDEN_SIZE, best_model, best_sae_one)\n",
    "encoded = sparsity_evaluator_masking(digit, test_labels, test_images, device, feature_indices, HIDDEN_SIZE, best_model, best_sae_one)\n",
    "\n",
    "feature_indices = [134, 75, 169, 106, 91, 217, 40, 72]\n",
    "encoded = sparsity_evaluator(digit, test_labels, test_images, device, feature_indices, HIDDEN_SIZE, best_model, best_sae_one)\n",
    "encoded = sparsity_evaluator_masking(digit, test_labels, test_images, device, feature_indices, HIDDEN_SIZE, best_model, best_sae_one)"
   ]
  },
  {
   "cell_type": "markdown",
   "id": "c22ae991-a758-49d5-9aab-d4ed6960640c",
   "metadata": {},
   "source": [
    "# Feature Inversion"
   ]
  },
  {
   "cell_type": "code",
   "execution_count": 158,
   "id": "2dc020ef-cbaf-4c76-9ca8-3b8ee1c71d96",
   "metadata": {},
   "outputs": [],
   "source": [
    "encoded = np.zeros(HIDDEN_SIZE)\n",
    "sparse_vector = sparse_act_one[61].copy()\n",
    "\n",
    "for idx in [134, 75, 169, 106, 91, 217, 40, 72]:\n",
    "    encoded[idx] = sparse_vector[idx]\n",
    "\n",
    "# for idx in [134]:\n",
    "#     encoded[idx] = sparse_vector[idx]"
   ]
  },
  {
   "cell_type": "markdown",
   "id": "ed417330-fa31-4a9f-811e-7344ef401388",
   "metadata": {},
   "source": [
    "## Verification Test"
   ]
  },
  {
   "cell_type": "code",
   "execution_count": 159,
   "id": "9d717912-ae6f-4fbb-8f51-4f835192a3f8",
   "metadata": {},
   "outputs": [
    {
     "name": "stdout",
     "output_type": "stream",
     "text": [
      "Our representative sparse vector for 8 is predicted as: 8\n"
     ]
    }
   ],
   "source": [
    "best_sae_one.eval()\n",
    "best_model.eval()\n",
    "\n",
    "encoded_tensor = torch.tensor(encoded, dtype=torch.float32).to(device)\n",
    "with torch.no_grad():\n",
    "    encoded_tensor = encoded_tensor.unsqueeze(0)\n",
    "    reconstructed_one = best_sae_one.decoder(encoded_tensor)\n",
    "    \n",
    "    hidden_two_act = best_model.hidden_two(reconstructed_one)\n",
    "    classification_out = best_model.classification_layer(hidden_two_act)\n",
    "\n",
    "    _, predicted = torch.max(classification_out, 1)\n",
    "    print(f\"Our representative sparse vector for 8 is predicted as: {predicted.item()}\")"
   ]
  },
  {
   "cell_type": "code",
   "execution_count": null,
   "id": "e2f8425e-f605-45c0-8d68-eebb9a934fbc",
   "metadata": {},
   "outputs": [],
   "source": [
    "reconstructed_one_norm = torch.where(reconstructed_one < 0, torch.tensor(0.0), reconstructed_one)\n",
    "reconstructed_one_norm, reconstructed_one"
   ]
  },
  {
   "cell_type": "code",
   "execution_count": 160,
   "id": "4f2d75a6-bde3-4cc4-8292-dd08b62f84c7",
   "metadata": {},
   "outputs": [
    {
     "name": "stdout",
     "output_type": "stream",
     "text": [
      "Our representative sparse vector (normalized) for 8 is predicted as: 8\n"
     ]
    }
   ],
   "source": [
    "with torch.no_grad():\n",
    "    hidden_two_act = best_model.hidden_two(reconstructed_one_norm)\n",
    "    classification_out = best_model.classification_layer(hidden_two_act)\n",
    "\n",
    "    _, predicted = torch.max(classification_out, 1)\n",
    "    print(f\"Our representative sparse vector (normalized) for 8 is predicted as: {predicted.item()}\")"
   ]
  },
  {
   "cell_type": "markdown",
   "id": "fec93c52-b9aa-417e-b3ad-755fdf40012e",
   "metadata": {},
   "source": [
    "## Inversion"
   ]
  },
  {
   "cell_type": "code",
   "execution_count": 162,
   "id": "876fab29-b627-496c-bac6-5ff0437098de",
   "metadata": {},
   "outputs": [],
   "source": [
    "def initialize_image_tensor(test_images, index, device, noise_scale=0.1):\n",
    "    \"\"\"Initialize with original image + noise for better starting point\"\"\"\n",
    "    image_tensor = torch.tensor(test_images[index], dtype=torch.float32).to(device)\n",
    "    image_tensor = image_tensor.view(1, 1, 28, 28)\n",
    "    \n",
    "    # Add small amount of noise to escape local minima\n",
    "    noise = torch.randn_like(image_tensor) * noise_scale\n",
    "    image_tensor = image_tensor + noise\n",
    "    image_tensor = torch.clamp(image_tensor, 0, 1)\n",
    "    image_tensor.requires_grad_(True)\n",
    "    \n",
    "    return image_tensor"
   ]
  },
  {
   "cell_type": "code",
   "execution_count": 174,
   "id": "ecb02068-cc7a-4085-bf05-17f14bc9d962",
   "metadata": {},
   "outputs": [
    {
     "name": "stdout",
     "output_type": "stream",
     "text": [
      "Final loss: 0.009701967239379883\n",
      "Target: 8.421 | Activation: 0.0 | Diff: 8.421\n",
      "Target: 0.0 | Activation: 0.0 | Diff: 0.0\n",
      "Target: 0.0 | Activation: 0.0 | Diff: 0.0\n",
      "Target: 22.126 | Activation: 0.0 | Diff: 22.126\n",
      "Target: 16.016 | Activation: 0.0 | Diff: 16.016\n",
      "Target: 0.0 | Activation: 0.0 | Diff: 0.0\n",
      "Target: 0.0 | Activation: 0.0 | Diff: 0.0\n",
      "Target: 0.0 | Activation: 0.0 | Diff: 0.0\n",
      "Target: 0.0 | Activation: 0.0 | Diff: 0.0\n",
      "Target: 0.0 | Activation: 0.0 | Diff: 0.0\n",
      "Target: 159.717 | Activation: 7.206 | Diff: 152.51100000000002\n",
      "Target: 16.171 | Activation: 0.0 | Diff: 16.171\n",
      "Target: 52.958 | Activation: 2.389 | Diff: 50.568999999999996\n",
      "Target: 162.661 | Activation: 7.339 | Diff: 155.322\n",
      "Target: 0.0 | Activation: 0.0 | Diff: 0.0\n",
      "Target: 0.0 | Activation: 0.0 | Diff: 0.0\n"
     ]
    },
    {
     "data": {
      "image/png": "[encoded data removed]",
      "text/plain": [
       "<Figure size 300x300 with 1 Axes>"
      ]
     },
     "metadata": {},
     "output_type": "display_data"
    }
   ],
   "source": [
    "image_tensor = initialize_image_tensor(test_images, 61, device)\n",
    "img_optimizer = torch.optim.Adam([image_tensor], lr=0.01)\n",
    "img_loss_fn = nn.MSELoss()\n",
    "\n",
    "def tv_loss(img):\n",
    "    return torch.sum(torch.abs(img[:, :, :, :-1] - img[:, :, :, 1:])) + \\\n",
    "           torch.sum(torch.abs(img[:, :, :-1, :] - img[:, :, 1:, :]))\n",
    "\n",
    "num_iterations = 10000\n",
    "for i in range(num_iterations):\n",
    "    img_optimizer.zero_grad()\n",
    "\n",
    "    _, hidden_one_act, _ = best_model(image_tensor)\n",
    "\n",
    "    # tv_weight = 1e-4\n",
    "    # loss = img_loss_fn(hidden_one_act, reconstructed_one_norm) + tv_weight * tv_loss(image_tensor)\n",
    "\n",
    "    cos = nn.CosineSimilarity(dim=1)\n",
    "    loss = 1 - cos(hidden_one_act, reconstructed_one_norm).mean()\n",
    "    loss.backward()\n",
    "\n",
    "    img_optimizer.step()\n",
    "\n",
    "    with torch.no_grad():\n",
    "        image_tensor.clamp_(0, 1)\n",
    "\n",
    "print(f\"Final loss: {loss.item()}\")\n",
    "for act_raw, target_raw in zip(hidden_one_act[0], reconstructed_one_norm[0]):\n",
    "    act = round(act_raw.item(), 3)\n",
    "    target = round(target_raw.item(), 3)\n",
    "\n",
    "    print(f\"Target: {target} | Activation: {act} | Diff: {target - act}\")\n",
    "    \n",
    "optimized_image = (image_tensor.detach().cpu().squeeze().numpy() * 255.0).clip(0, 255).astype(np.uint8)\n",
    "visualize_image(optimized_image, \"Optimized\")"
   ]
  },
  {
   "cell_type": "code",
   "execution_count": 175,
   "id": "e380ff90-6840-40b0-b6ea-b304aa00e4b2",
   "metadata": {},
   "outputs": [
    {
     "name": "stdout",
     "output_type": "stream",
     "text": [
      "Final loss: 0.03538835048675537\n",
      "Target: 8.421 | Activation: 0.0 | Diff: 8.421\n",
      "Target: 0.0 | Activation: 0.0 | Diff: 0.0\n",
      "Target: 0.0 | Activation: 0.0 | Diff: 0.0\n",
      "Target: 22.126 | Activation: 0.0 | Diff: 22.126\n",
      "Target: 16.016 | Activation: 0.0 | Diff: 16.016\n",
      "Target: 0.0 | Activation: 0.0 | Diff: 0.0\n",
      "Target: 0.0 | Activation: 0.0 | Diff: 0.0\n",
      "Target: 0.0 | Activation: 0.0 | Diff: 0.0\n",
      "Target: 0.0 | Activation: 0.0 | Diff: 0.0\n",
      "Target: 0.0 | Activation: 0.0 | Diff: 0.0\n",
      "Target: 159.717 | Activation: 7.709 | Diff: 152.008\n",
      "Target: 16.171 | Activation: 0.0 | Diff: 16.171\n",
      "Target: 52.958 | Activation: 0.0 | Diff: 52.958\n",
      "Target: 162.661 | Activation: 7.851 | Diff: 154.81\n",
      "Target: 0.0 | Activation: 0.0 | Diff: 0.0\n",
      "Target: 0.0 | Activation: 0.0 | Diff: 0.0\n"
     ]
    },
    {
     "data": {
      "image/png": "[encoded data removed]",
      "text/plain": [
       "<Figure size 300x300 with 1 Axes>"
      ]
     },
     "metadata": {},
     "output_type": "display_data"
    }
   ],
   "source": [
    "image_tensor = initialize_image_tensor(test_images, 84, device)\n",
    "img_optimizer = torch.optim.Adam([image_tensor], lr=0.01)\n",
    "img_loss_fn = nn.MSELoss()\n",
    "\n",
    "def tv_loss(img):\n",
    "    return torch.sum(torch.abs(img[:, :, :, :-1] - img[:, :, :, 1:])) + \\\n",
    "           torch.sum(torch.abs(img[:, :, :-1, :] - img[:, :, 1:, :]))\n",
    "\n",
    "num_iterations = 10000\n",
    "for i in range(num_iterations):\n",
    "    img_optimizer.zero_grad()\n",
    "\n",
    "    _, hidden_one_act, _ = best_model(image_tensor)\n",
    "\n",
    "    # tv_weight = 1e-4\n",
    "    # loss = img_loss_fn(hidden_one_act, reconstructed_one_norm) + tv_weight * tv_loss(image_tensor)\n",
    "\n",
    "    cos = nn.CosineSimilarity(dim=1)\n",
    "    loss = 1 - cos(hidden_one_act, reconstructed_one_norm).mean()\n",
    "    loss.backward()\n",
    "\n",
    "    img_optimizer.step()\n",
    "\n",
    "    with torch.no_grad():\n",
    "        image_tensor.clamp_(0, 1)\n",
    "\n",
    "print(f\"Final loss: {loss.item()}\")\n",
    "for act_raw, target_raw in zip(hidden_one_act[0], reconstructed_one_norm[0]):\n",
    "    act = round(act_raw.item(), 3)\n",
    "    target = round(target_raw.item(), 3)\n",
    "\n",
    "    print(f\"Target: {target} | Activation: {act} | Diff: {target - act}\")\n",
    "    \n",
    "optimized_image = (image_tensor.detach().cpu().squeeze().numpy() * 255.0).clip(0, 255).astype(np.uint8)\n",
    "visualize_image(optimized_image, \"Optimized\")"
   ]
  },
  {
   "cell_type": "code",
   "execution_count": null,
   "id": "95ef5d65-ffe7-4f33-bd4d-07788554e151",
   "metadata": {},
   "outputs": [],
   "source": []
  }
 ],
 "metadata": {
  "kernelspec": {
   "display_name": "Python 3 (ipykernel)",
   "language": "python",
   "name": "python3"
  },
  "language_info": {
   "codemirror_mode": {
    "name": "ipython",
    "version": 3
   },
   "file_extension": ".py",
   "mimetype": "text/x-python",
   "name": "python",
   "nbconvert_exporter": "python",
   "pygments_lexer": "ipython3",
   "version": "3.10.12"
  }
 },
 "nbformat": 4,
 "nbformat_minor": 5
}
