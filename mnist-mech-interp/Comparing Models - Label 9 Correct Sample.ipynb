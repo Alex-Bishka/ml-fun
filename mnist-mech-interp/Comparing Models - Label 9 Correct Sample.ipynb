{
 "cells": [
  {
   "cell_type": "markdown",
   "id": "854327bb-54b2-4aae-9221-ca54910611dc",
   "metadata": {},
   "source": [
    "# Comparing Models on a Correct Sample of Value 9\n",
    "\n",
    "Since our incorrect sample was a 9, and from the frequency error graphs 9 were somewhat problematic, I wanted to investigate what a correctly classified 9 looks like."
   ]
  },
  {
   "cell_type": "markdown",
   "id": "5458fa37-2d3c-4c25-8426-dbe2911d655e",
   "metadata": {},
   "source": [
    "## Imports"
   ]
  },
  {
   "cell_type": "code",
   "execution_count": 1,
   "id": "cc78242f-8d15-4deb-b21f-66aedf5c20ba",
   "metadata": {},
   "outputs": [],
   "source": [
    "import matplotlib.pyplot as plt\n",
    "import numpy as np\n",
    "\n",
    "import torch\n",
    "from torch import nn\n",
    "\n",
    "from helpers import load_images, load_labels, visualize_image, get_edges, generate_intermediate_edge_labels"
   ]
  },
  {
   "cell_type": "markdown",
   "id": "f0ffc59c-0c89-4997-8fba-903bdcd39714",
   "metadata": {},
   "source": [
    "## Set Device to Cuda"
   ]
  },
  {
   "cell_type": "code",
   "execution_count": 2,
   "id": "b4e2b6a8-4adf-47d0-a5ad-2c7dfe9a998e",
   "metadata": {},
   "outputs": [
    {
     "name": "stdout",
     "output_type": "stream",
     "text": [
      "We will be using device: cuda\n"
     ]
    }
   ],
   "source": [
    "device = torch.device('cuda' if torch.cuda.is_available() else 'cpu')\n",
    "print(f\"We will be using device: {device}\")"
   ]
  },
  {
   "cell_type": "markdown",
   "id": "fafe1797-6333-4839-8f12-d5c8b22de1c8",
   "metadata": {},
   "source": [
    "## Get Test Data and Sub Labels"
   ]
  },
  {
   "cell_type": "code",
   "execution_count": 3,
   "id": "aaad288a-22d1-46dc-a1a0-41d9f3f3d8a1",
   "metadata": {},
   "outputs": [],
   "source": [
    "horizontal_kernel = np.array([\n",
    "    [-1, -1, -1],\n",
    "    [ 0,  0 , 0],\n",
    "    [ 1,  1,  1],\n",
    "])\n",
    "\n",
    "vertical_kernel = np.array([\n",
    "    [-1,  0,  1],\n",
    "    [-1,  0,  1],\n",
    "    [-1,  0,  1],\n",
    "])"
   ]
  },
  {
   "cell_type": "code",
   "execution_count": 4,
   "id": "5216b7d4-9f0a-4230-a8ec-d10dd4e8e779",
   "metadata": {},
   "outputs": [],
   "source": [
    "# test data\n",
    "test_images = load_images(\"./data/t10k-images-idx3-ubyte/t10k-images-idx3-ubyte\")\n",
    "test_labels = load_labels(\"./data/t10k-labels-idx1-ubyte/t10k-labels-idx1-ubyte\")\n",
    "\n",
    "# sub labels\n",
    "test_horizontal_image_labels = generate_intermediate_edge_labels(test_images, horizontal_kernel)\n",
    "test_vertical_image_labels = generate_intermediate_edge_labels(test_images, vertical_kernel)"
   ]
  },
  {
   "cell_type": "code",
   "execution_count": 5,
   "id": "49d5c739-90da-41b7-a816-c9f7937486ad",
   "metadata": {},
   "outputs": [],
   "source": [
    "def get_sample(idx):\n",
    "    return test_images[idx], test_labels[idx], test_horizontal_image_labels[idx].reshape(28, 28), test_vertical_image_labels[idx].reshape(28, 28)"
   ]
  },
  {
   "cell_type": "markdown",
   "id": "631aa1c5-92dd-402f-b8ec-532f2f64198d",
   "metadata": {},
   "source": [
    "## Load Models"
   ]
  },
  {
   "cell_type": "code",
   "execution_count": 6,
   "id": "9d824149-21c0-4759-97eb-689afa161cc4",
   "metadata": {},
   "outputs": [],
   "source": [
    "class NeuralNetwork(nn.Module):\n",
    "    def __init__(self):\n",
    "        super().__init__()\n",
    "        layer_size_by_pixels = 28*28\n",
    "        \n",
    "        self.flatten = nn.Flatten()\n",
    "        \n",
    "        # define layers separately to have access to each\n",
    "        self.horizontal_layer = nn.Linear(layer_size_by_pixels, layer_size_by_pixels)\n",
    "        self.vertical_layer = nn.Linear(layer_size_by_pixels, layer_size_by_pixels)\n",
    "        self.classification_layer = nn.Linear(layer_size_by_pixels, 10)\n",
    "        self.activation_function = nn.ReLU()\n",
    "\n",
    "    def forward(self, x):\n",
    "        x = self.flatten(x)\n",
    "\n",
    "        # horizontal processing\n",
    "        horizontal_out = self.horizontal_layer(x)\n",
    "        horizontal_act = self.activation_function(horizontal_out)\n",
    "\n",
    "        # vertical processing\n",
    "        vertical_out = self.vertical_layer(horizontal_act)\n",
    "        vertical_act = self.activation_function(vertical_out)\n",
    "\n",
    "        # classification\n",
    "        classification_out = self.classification_layer(vertical_act)\n",
    "        \n",
    "        return classification_out, vertical_act, horizontal_act"
   ]
  },
  {
   "cell_type": "code",
   "execution_count": 7,
   "id": "1c840744-037c-4279-b5cc-3beb9dd74c29",
   "metadata": {},
   "outputs": [
    {
     "data": {
      "text/plain": [
       "<All keys matched successfully>"
      ]
     },
     "execution_count": 7,
     "metadata": {},
     "output_type": "execute_result"
    }
   ],
   "source": [
    "main_quest_model = NeuralNetwork().to(device)\n",
    "main_quest_model.load_state_dict(torch.load(\"./main_quest.pth\"))\n",
    "\n",
    "side_quest_model = NeuralNetwork().to(device)\n",
    "side_quest_model.load_state_dict(torch.load(\"./side_quests.pth\"))\n",
    "\n",
    "partial_side_quest_model = NeuralNetwork().to(device)\n",
    "partial_side_quest_model.load_state_dict(torch.load(\"./partial_side_quests.pth\"))"
   ]
  },
  {
   "cell_type": "markdown",
   "id": "95f7dfd7-251d-4ee9-95fe-dfc57d69016f",
   "metadata": {},
   "source": [
    "## Activation and Sample Exploration"
   ]
  },
  {
   "cell_type": "code",
   "execution_count": 8,
   "id": "b664ff68-34c1-4a00-a5d1-fc25d1f72e93",
   "metadata": {},
   "outputs": [],
   "source": [
    "def convert_tensor_to_np_arr(img_tensor):\n",
    "    return np.abs(img_tensor.clone().reshape(28, 28).detach().cpu().numpy())"
   ]
  },
  {
   "cell_type": "code",
   "execution_count": 9,
   "id": "acf90b3b-22e2-4dff-91f0-dc7b664e5ed1",
   "metadata": {},
   "outputs": [],
   "source": [
    "def convert_numpy_image_to_tensor(img):\n",
    "    \"\"\"\n",
    "    \"\"\"\n",
    "    return torch.from_numpy(img.copy()).float().unsqueeze(0).unsqueeze(0).to('cuda')"
   ]
  },
  {
   "cell_type": "code",
   "execution_count": 10,
   "id": "8e1144bd-022f-49c5-8135-c8f68980732f",
   "metadata": {},
   "outputs": [],
   "source": [
    "main_quest_model.eval()\n",
    "side_quest_model.eval()\n",
    "partial_side_quest_model.eval()\n",
    "\n",
    "with torch.no_grad():\n",
    "    for idx, test_img in enumerate(test_images):\n",
    "        expected = test_labels[idx]\n",
    "        if expected == 9:\n",
    "            img_tensor = convert_numpy_image_to_tensor(test_img)\n",
    "            \n",
    "            \n",
    "            out, v_act, h_act = main_quest_model(img_tensor)\n",
    "            s_out, s_v_act, s_h_act = side_quest_model(img_tensor)\n",
    "            p_out, p_v_act, p_h_act = partial_side_quest_model(img_tensor)\n",
    "    \n",
    "            if torch.max(out, 1)[1].item() == expected and torch.max(s_out, 1)[1].item() == expected and torch.max(p_out, 1)[1].item() == expected:\n",
    "                break"
   ]
  },
  {
   "cell_type": "code",
   "execution_count": 11,
   "id": "22b5518f-10ca-4eac-90e2-59fa61bc5bab",
   "metadata": {},
   "outputs": [
    {
     "name": "stdout",
     "output_type": "stream",
     "text": [
      "On sample 9:\n",
      "\tMain answer: 9\n",
      "\tSide answer: 9\n",
      "\tPartial answer: 9\n",
      "\tActual answer: 9\n"
     ]
    }
   ],
   "source": [
    "print(f\"On sample {idx}:\")\n",
    "print(f\"\\tMain answer: {torch.max(out, 1)[1].item()}\")\n",
    "print(f\"\\tSide answer: {torch.max(s_out, 1)[1].item()}\")\n",
    "print(f\"\\tPartial answer: {torch.max(p_out, 1)[1].item()}\")\n",
    "print(f\"\\tActual answer: {test_labels[idx]}\")"
   ]
  },
  {
   "cell_type": "code",
   "execution_count": 12,
   "id": "e4198600-7c6e-4e3d-8341-801e5214ea5c",
   "metadata": {},
   "outputs": [
    {
     "data": {
      "image/png": "[encoded data removed]",
      "text/plain": [
       "<Figure size 300x300 with 1 Axes>"
      ]
     },
     "metadata": {},
     "output_type": "display_data"
    }
   ],
   "source": [
    "visualize_image(test_img, \"Passed in handwritten digit\")"
   ]
  },
  {
   "cell_type": "code",
   "execution_count": 13,
   "id": "4377a3a6-b61b-4da7-8c72-6b839fd91c2c",
   "metadata": {},
   "outputs": [
    {
     "data": {
      "image/png": "[encoded data removed]",
      "text/plain": [
       "<Figure size 1800x600 with 3 Axes>"
      ]
     },
     "metadata": {},
     "output_type": "display_data"
    }
   ],
   "source": [
    "plt.figure(figsize=(18, 6))\n",
    "\n",
    "x_values = list(range(0, 10))\n",
    "\n",
    "ax1 = plt.subplot(1, 3, 1)\n",
    "bars1 = ax1.bar(x_values, out.tolist()[0])\n",
    "ax1.set_xticks(x_values)\n",
    "ax1.set_title(\"Activations (Main)\")\n",
    "\n",
    "ax2 = plt.subplot(1, 3, 2)\n",
    "bars2 = ax2.bar(x_values, s_out.tolist()[0])\n",
    "ax2.set_xticks(x_values)\n",
    "ax2.set_title(\"Activations (Side)\")\n",
    "\n",
    "ax3 = plt.subplot(1, 3, 3)\n",
    "bars3 = ax3.bar(x_values, p_out.tolist()[0])\n",
    "ax3.set_xticks(x_values)\n",
    "ax3.set_title(\"Activations (Partial)\")\n",
    "\n",
    "plt.show()"
   ]
  },
  {
   "cell_type": "markdown",
   "id": "a2754e77-62bd-4639-8bd6-af1493093bdb",
   "metadata": {},
   "source": [
    "### Horizontal Activation Example"
   ]
  },
  {
   "cell_type": "code",
   "execution_count": 14,
   "id": "b7698f76-d662-407b-b990-82189416294d",
   "metadata": {},
   "outputs": [],
   "source": [
    "h_act_img = convert_tensor_to_np_arr(h_act)\n",
    "s_h_act_img = convert_tensor_to_np_arr(s_h_act)\n",
    "p_h_act_img = convert_tensor_to_np_arr(p_h_act)"
   ]
  },
  {
   "cell_type": "code",
   "execution_count": 15,
   "id": "e6c26797-a704-4b3b-8194-0fc07f506659",
   "metadata": {},
   "outputs": [
    {
     "data": {
      "image/png": "[encoded data removed]",
      "text/plain": [
       "<Figure size 800x500 with 3 Axes>"
      ]
     },
     "metadata": {},
     "output_type": "display_data"
    }
   ],
   "source": [
    "fig, axes = plt.subplots(1, 3, figsize=(8, 5))\n",
    "\n",
    "label = 9\n",
    "visualize_image(h_act_img, f\"Main H Act on {label}\", ax=axes[0])\n",
    "visualize_image(s_h_act_img, f\"Side H Act on {label}\", ax=axes[1])\n",
    "visualize_image(p_h_act_img, f\"Partial H Act on {label}\", ax=axes[2])\n",
    "\n",
    "plt.tight_layout()\n",
    "plt.show()"
   ]
  },
  {
   "cell_type": "markdown",
   "id": "f720c152-99dc-46bc-acaf-f3c39368b4cd",
   "metadata": {},
   "source": [
    "### Vertical Activation Example"
   ]
  },
  {
   "cell_type": "code",
   "execution_count": 16,
   "id": "630f388d-9752-4007-8271-78dbe776bb0f",
   "metadata": {},
   "outputs": [],
   "source": [
    "v_act_img = convert_tensor_to_np_arr(v_act)\n",
    "s_v_act_img = convert_tensor_to_np_arr(s_v_act)\n",
    "p_v_act_img = convert_tensor_to_np_arr(p_v_act)"
   ]
  },
  {
   "cell_type": "code",
   "execution_count": 17,
   "id": "f518bade-a1a2-4f0c-8ced-e043232f31de",
   "metadata": {},
   "outputs": [
    {
     "data": {
      "image/png": "[encoded data removed]",
      "text/plain": [
       "<Figure size 800x500 with 3 Axes>"
      ]
     },
     "metadata": {},
     "output_type": "display_data"
    }
   ],
   "source": [
    "fig, axes = plt.subplots(1, 3, figsize=(8, 5))\n",
    "\n",
    "visualize_image(v_act_img, f\"Main V Act on {label}\", ax=axes[0])\n",
    "visualize_image(s_v_act_img, f\"Side V Act on {label}\", ax=axes[1])\n",
    "visualize_image(p_v_act_img, f\"Partial V Act on {label}\", ax=axes[2])\n",
    "\n",
    "plt.tight_layout()\n",
    "plt.show()"
   ]
  },
  {
   "cell_type": "markdown",
   "id": "644aa781-3790-4c56-9b72-4ef3aa401def",
   "metadata": {},
   "source": [
    "So, with edges we can identify a 9, but I am wondering more and more about incorporating a curve layer.\n",
    "\n",
    "So, in addition messing around with the ordering of layers, I think adding another layer that focuses on recognizing curves would be useful. This would be the third side quest of this project. Theoretically, this third part should handle everything we need: going horizontally, going vertically, and curving."
   ]
  },
  {
   "cell_type": "code",
   "execution_count": null,
   "id": "f388400d-51ff-4f6b-b60d-094a935d54b6",
   "metadata": {},
   "outputs": [],
   "source": []
  }
 ],
 "metadata": {
  "kernelspec": {
   "display_name": "Python 3 (ipykernel)",
   "language": "python",
   "name": "python3"
  },
  "language_info": {
   "codemirror_mode": {
    "name": "ipython",
    "version": 3
   },
   "file_extension": ".py",
   "mimetype": "text/x-python",
   "name": "python",
   "nbconvert_exporter": "python",
   "pygments_lexer": "ipython3",
   "version": "3.10.12"
  }
 },
 "nbformat": 4,
 "nbformat_minor": 5
}
